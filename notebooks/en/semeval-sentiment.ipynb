{
 "cells": [
  {
   "cell_type": "markdown",
   "metadata": {},
   "source": [
    "## SemEval 2017 Task 4: Polarity Classification"
   ]
  },
  {
   "cell_type": "code",
   "execution_count": 1,
   "metadata": {},
   "outputs": [],
   "source": [
    "%load_ext autoreload\n",
    "%autoreload 2\n",
    "import pandas as pd\n",
    "import csv\n",
    "import numpy as np\n",
    "import tensorflow as tf\n",
    "import random\n",
    "import torch\n",
    "\n",
    "pd.set_option('max_colwidth', 200)\n",
    "\n",
    "torch.manual_seed(2019)\n",
    "np.random.seed(2019)\n",
    "tf.random.set_random_seed(2019)\n",
    "random.seed(2019)\n",
    "\n",
    "torch.backends.cudnn.deterministic = True\n",
    "torch.backends.cudnn.benchmark = False\n",
    "\n",
    "def read_data(filename):\n",
    "    df = pd.read_table(filename,\n",
    "                         names=[\"id\", \"label\", \"text\", \"extra\"], header=None, index_col=\"id\",\n",
    "                         quoting=csv.QUOTE_NONE)\n",
    "    df.drop(\"extra\", axis=1, inplace=True)\n",
    "    \n",
    "    return df\n",
    "\n"
   ]
  },
  {
   "cell_type": "markdown",
   "metadata": {},
   "source": [
    "Cargamos datos"
   ]
  },
  {
   "cell_type": "code",
   "execution_count": 2,
   "metadata": {},
   "outputs": [],
   "source": [
    "import os\n",
    "\n",
    "train_filenames = [\n",
    "     'twitter-2013dev-A.txt',\n",
    "     'twitter-2013train-A.txt',\n",
    "     'twitter-2014test-A.txt',\n",
    "     'twitter-2014sarcasm-A.txt',\n",
    "     'twitter-2015train-A.txt',\n",
    "     'twitter-2015test-A.txt',\n",
    "     'twitter-2016train-A.txt',\n",
    "     'twitter-2016dev-A.txt',\n",
    "     'twitter-2016test-A.txt',\n",
    "     'twitter-2016devtest-A.txt',\n",
    "]\n",
    "\n",
    "train_dfs = []\n",
    "for fn in train_filenames:\n",
    "    fn = os.path.join(\"..\", \"..\", \"data\", \"other\", \"GOLD\", \"Subtask_A\", fn)\n",
    "    train_dfs.append(read_data(fn))\n",
    "    \n",
    "df_train = pd.concat(train_dfs)\n",
    "\n",
    "df_train.drop(index='\"', inplace=True)\n",
    "\n",
    "\n",
    "df_test = read_data(\"../../data/other/SEMEVAL-2017/SemEval2017-task4-test.subtask-A.english.txt\")\n",
    "#df_test = read_data(\"../../data/other/GOLD/Subtask_A/twitter-2016test-A.txt\")\n",
    "\n",
    "# Tiro una línea basura\n",
    "\n",
    "X_train, labels_train = df_train[\"text\"], df_train[\"label\"]\n",
    "#X_dev, labels_dev = df_dev[\"text\"], df_dev[\"label\"]\n",
    "X_test, labels_test = df_test[\"text\"], df_test[\"label\"]"
   ]
  },
  {
   "cell_type": "code",
   "execution_count": 3,
   "metadata": {},
   "outputs": [
    {
     "data": {
      "text/html": [
       "<div>\n",
       "<style scoped>\n",
       "    .dataframe tbody tr th:only-of-type {\n",
       "        vertical-align: middle;\n",
       "    }\n",
       "\n",
       "    .dataframe tbody tr th {\n",
       "        vertical-align: top;\n",
       "    }\n",
       "\n",
       "    .dataframe thead th {\n",
       "        text-align: right;\n",
       "    }\n",
       "</style>\n",
       "<table border=\"1\" class=\"dataframe\">\n",
       "  <thead>\n",
       "    <tr style=\"text-align: right;\">\n",
       "      <th></th>\n",
       "      <th>label</th>\n",
       "      <th>text</th>\n",
       "    </tr>\n",
       "    <tr>\n",
       "      <th>id</th>\n",
       "      <th></th>\n",
       "      <th></th>\n",
       "    </tr>\n",
       "  </thead>\n",
       "  <tbody>\n",
       "    <tr>\n",
       "      <th>801989080477154944</th>\n",
       "      <td>neutral</td>\n",
       "      <td>#ArianaGrande Ari By Ariana Grande 80% Full https://t.co/ylhCMETHHW #Singer #Actress https://t.co/lTrb1JQiEA</td>\n",
       "    </tr>\n",
       "    <tr>\n",
       "      <th>801989272341453952</th>\n",
       "      <td>positive</td>\n",
       "      <td>Ariana Grande KIIS FM Yours Truly CD listening party in Burbank https://t.co/ClQIcx8Z6V #ArianaGrande</td>\n",
       "    </tr>\n",
       "    <tr>\n",
       "      <th>801990978424962944</th>\n",
       "      <td>positive</td>\n",
       "      <td>Ariana Grande White House Easter Egg Roll in Washington https://t.co/jdjL9swWM8 #ArianaGrande</td>\n",
       "    </tr>\n",
       "    <tr>\n",
       "      <th>801996232553963008</th>\n",
       "      <td>positive</td>\n",
       "      <td>#CD #Musics Ariana Grande Sweet Like Candy 3.4 oz 100 ML Sealed In Box 100% Authenic New https://t.co/oFmp0bOvZy… https://t.co/WIHLch9KtK</td>\n",
       "    </tr>\n",
       "    <tr>\n",
       "      <th>801998343442407040</th>\n",
       "      <td>neutral</td>\n",
       "      <td>SIDE TO SIDE 😘 @arianagrande #sidetoside #arianagrande #musically #comunidadgay #lgbt🌈  #LOTB… https://t.co/tEd8rftAxV</td>\n",
       "    </tr>\n",
       "    <tr>\n",
       "      <th>802001659970744064</th>\n",
       "      <td>positive</td>\n",
       "      <td>Hairspray Live! Previews at the Macy's Thanksgiving Day Parade! https://t.co/GaFTqInolL #arianagrande #televisionnbc</td>\n",
       "    </tr>\n",
       "    <tr>\n",
       "      <th>802003380973568000</th>\n",
       "      <td>positive</td>\n",
       "      <td>#LindsayLohan Is ‘Feeling Thankful’ After Blasting #ArianaGrande For Wearing ‘#TooMuch… https://t.co/Acf8ogvPxd https://t.co/EOSHtG9ay4</td>\n",
       "    </tr>\n",
       "    <tr>\n",
       "      <th>802014830467174016</th>\n",
       "      <td>neutral</td>\n",
       "      <td>I hate her but... I love her songs Dammit ._.#ArianaGrande</td>\n",
       "    </tr>\n",
       "    <tr>\n",
       "      <th>802020578609623040</th>\n",
       "      <td>neutral</td>\n",
       "      <td>Ariana Grande 【Right There ft. Big Sean】#アリアナ #arianagrande https://t.co/4rZOKYDnut</td>\n",
       "    </tr>\n",
       "    <tr>\n",
       "      <th>802021059490934016</th>\n",
       "      <td>positive</td>\n",
       "      <td>which one would you prefer to listen to for a whole day? 😍🤘🏼; i could never choose #arianagrande #IntoYou #SideToSide #songs #Poll</td>\n",
       "    </tr>\n",
       "  </tbody>\n",
       "</table>\n",
       "</div>"
      ],
      "text/plain": [
       "                       label  \\\n",
       "id                             \n",
       "801989080477154944   neutral   \n",
       "801989272341453952  positive   \n",
       "801990978424962944  positive   \n",
       "801996232553963008  positive   \n",
       "801998343442407040   neutral   \n",
       "802001659970744064  positive   \n",
       "802003380973568000  positive   \n",
       "802014830467174016   neutral   \n",
       "802020578609623040   neutral   \n",
       "802021059490934016  positive   \n",
       "\n",
       "                                                                                                                                                         text  \n",
       "id                                                                                                                                                             \n",
       "801989080477154944                               #ArianaGrande Ari By Ariana Grande 80% Full https://t.co/ylhCMETHHW #Singer #Actress https://t.co/lTrb1JQiEA  \n",
       "801989272341453952                                      Ariana Grande KIIS FM Yours Truly CD listening party in Burbank https://t.co/ClQIcx8Z6V #ArianaGrande  \n",
       "801990978424962944                                              Ariana Grande White House Easter Egg Roll in Washington https://t.co/jdjL9swWM8 #ArianaGrande  \n",
       "801996232553963008  #CD #Musics Ariana Grande Sweet Like Candy 3.4 oz 100 ML Sealed In Box 100% Authenic New https://t.co/oFmp0bOvZy… https://t.co/WIHLch9KtK  \n",
       "801998343442407040                     SIDE TO SIDE 😘 @arianagrande #sidetoside #arianagrande #musically #comunidadgay #lgbt🌈  #LOTB… https://t.co/tEd8rftAxV  \n",
       "802001659970744064                       Hairspray Live! Previews at the Macy's Thanksgiving Day Parade! https://t.co/GaFTqInolL #arianagrande #televisionnbc  \n",
       "802003380973568000    #LindsayLohan Is ‘Feeling Thankful’ After Blasting #ArianaGrande For Wearing ‘#TooMuch… https://t.co/Acf8ogvPxd https://t.co/EOSHtG9ay4  \n",
       "802014830467174016                                                                                 I hate her but... I love her songs Dammit ._.#ArianaGrande  \n",
       "802020578609623040                                                        Ariana Grande 【Right There ft. Big Sean】#アリアナ #arianagrande https://t.co/4rZOKYDnut  \n",
       "802021059490934016         which one would you prefer to listen to for a whole day? 😍🤘🏼; i could never choose #arianagrande #IntoYou #SideToSide #songs #Poll  "
      ]
     },
     "execution_count": 3,
     "metadata": {},
     "output_type": "execute_result"
    }
   ],
   "source": [
    "df_test.iloc[:10]"
   ]
  },
  {
   "cell_type": "code",
   "execution_count": 4,
   "metadata": {},
   "outputs": [],
   "source": [
    "%%capture\n",
    "from allennlp.commands.elmo import ElmoEmbedder\n",
    "from elmoformanylangs import Embedder as ManyLangsEmbedder\n",
    "import fastText\n",
    "import os\n",
    "\n",
    "\n",
    "fasttext_model = fastText.load_model(os.path.expanduser(\"../../WordVectors/wiki.en.bin\"))\n"
   ]
  },
  {
   "cell_type": "code",
   "execution_count": 5,
   "metadata": {},
   "outputs": [],
   "source": [
    "%%capture\n",
    "import fastText\n",
    "import os\n",
    "\n",
    "class MyElmoAdapter:\n",
    "    def __init__(self, embedder):\n",
    "        self._embedder = embedder\n",
    "        \n",
    "    def sents2elmo(self, sents):\n",
    "        #ret.append(np.array(self._elmo_embedder.sents2elmo(X_tokenized)))\n",
    "        return np.array(list(self._embedder.embed_sentences(sents))).mean(axis=1)\n",
    "    \n",
    "# elmo_embedder = MyElmoAdapter(ElmoEmbedder(cuda_device=0))\n",
    "\n",
    "elmo_embedder = ManyLangsEmbedder(\"../../models/elmo/en/\")"
   ]
  },
  {
   "cell_type": "code",
   "execution_count": 6,
   "metadata": {},
   "outputs": [
    {
     "name": "stderr",
     "output_type": "stream",
     "text": [
      "/home/jmperez/.pyenv/versions/3.6.5/envs/hateval/lib/python3.6/site-packages/sklearn/preprocessing/_encoders.py:368: FutureWarning: The handling of integer data will change in version 0.22. Currently, the categories are determined based on the range [0, max(values)], while in the future they will be determined based on the unique values.\n",
      "If you want the future behaviour and silence this warning, you can specify \"categories='auto'\".\n",
      "In case you used a LabelEncoder before this OneHotEncoder to convert the categories to integers, then you can now use the OneHotEncoder directly.\n",
      "  warnings.warn(msg, FutureWarning)\n"
     ]
    },
    {
     "data": {
      "text/plain": [
       "array(['negative', 'neutral', 'positive'], dtype=object)"
      ]
     },
     "execution_count": 6,
     "metadata": {},
     "output_type": "execute_result"
    }
   ],
   "source": [
    "from sklearn.preprocessing import OneHotEncoder, LabelEncoder\n",
    "label_encoder = LabelEncoder()\n",
    "onehot_encoder = OneHotEncoder(sparse=False)\n",
    "\n",
    "y_train = label_encoder.fit_transform(labels_train.values)\n",
    "y_test = label_encoder.transform(labels_test.values)\n",
    "\n",
    "y_train = onehot_encoder.fit_transform(y_train.reshape(-1, 1))\n",
    "y_test = onehot_encoder.transform(y_test.reshape(-1, 1))\n",
    "\n",
    "label_encoder.classes_"
   ]
  },
  {
   "cell_type": "code",
   "execution_count": 7,
   "metadata": {},
   "outputs": [
    {
     "data": {
      "text/plain": [
       "neutral     21078\n",
       "positive    18428\n",
       "negative     7281\n",
       "Name: label, dtype: int64"
      ]
     },
     "execution_count": 7,
     "metadata": {},
     "output_type": "execute_result"
    }
   ],
   "source": [
    "df_train['label'].value_counts()"
   ]
  },
  {
   "cell_type": "code",
   "execution_count": 8,
   "metadata": {},
   "outputs": [
    {
     "data": {
      "text/plain": [
       "{0: 2.14196767843245, 1: 0.7399025840528829, 2: 0.8463027277331597}"
      ]
     },
     "execution_count": 8,
     "metadata": {},
     "output_type": "execute_result"
    }
   ],
   "source": [
    "from sklearn.utils.class_weight import compute_class_weight\n",
    "\n",
    "class_weights = compute_class_weight('balanced', classes=label_encoder.classes_, y=labels_train)\n",
    "\n",
    "class_weights = {k:v for k, v in enumerate(class_weights)}\n",
    "\n",
    "class_weights"
   ]
  },
  {
   "cell_type": "code",
   "execution_count": 9,
   "metadata": {},
   "outputs": [
    {
     "name": "stderr",
     "output_type": "stream",
     "text": [
      "Using TensorFlow backend.\n"
     ]
    }
   ],
   "source": [
    "from hate.nn.preprocessing import Tokenizer\n",
    "from hate.nn.base_model import BaseModel\n",
    "import numpy as np\n",
    "from keras.layers import (\n",
    "    Input, Embedding, Dense, Dropout, Bidirectional, LSTM,\n",
    "    GlobalMaxPooling1D, GlobalAveragePooling1D, Conv1D, CuDNNGRU, Concatenate, Softmax\n",
    ")\n",
    "import keras\n",
    "from keras import regularizers\n",
    "from elmoformanylangs import Embedder\n",
    "\n",
    "\n",
    "class ElmoModel(BaseModel):\n",
    "    def __init__(self, max_len, fasttext_model, elmo_embedder,\n",
    "             tokenize_args={},\n",
    "             recursive_class=CuDNNGRU, rnn_units=256, dropout=0.75, l1_regularization=0.00,\n",
    "             pooling='max', bidirectional=False, **kwargs):\n",
    "\n",
    "\n",
    "        self._max_len = max_len\n",
    "        self._embedder = fasttext_model\n",
    "        self._elmo_embedder = elmo_embedder\n",
    "        self._elmo_dim = 1024\n",
    "        # Build the graph\n",
    "\n",
    "        inputs = []\n",
    "\n",
    "        \n",
    "\n",
    "        tok_args = {\n",
    "            \"preserve_case\": False,\n",
    "            \"deaccent\": False,\n",
    "            \"reduce_len\": True,\n",
    "            \"strip_handles\": True,\n",
    "            \"alpha_only\": True,\n",
    "            \"stem\": False\n",
    "        }\n",
    "\n",
    "        tok_args.update(tokenize_args)\n",
    "\n",
    "        if self._elmo_embedder:\n",
    "            elmo_input = Input(shape=(self._max_len, self._elmo_dim), name=\"Elmo\")\n",
    "            inputs.append(elmo_input)\n",
    "        if self._embedder:\n",
    "            embedding_size = fasttext_model.get_word_vector(\"pepe\").shape[0]\n",
    "            emb_input = Input(shape=(self._max_len, embedding_size), name=\"Fasttext\")\n",
    "            inputs.append(emb_input)\n",
    "\n",
    "        if len(inputs) > 1:\n",
    "            x = Concatenate()(inputs)\n",
    "        else:\n",
    "            x = inputs[0]\n",
    "\n",
    "        recursive_args = {\n",
    "            \"return_sequences\": True\n",
    "        }\n",
    "\n",
    "        if l1_regularization > .0:\n",
    "            print(\"Using L1 regularization\")\n",
    "            recursive_args[\"kernel_regularizer\"]= regularizers.l2(l1_regularization)\n",
    "\n",
    "        rec_layer = recursive_class(\n",
    "            rnn_units, **recursive_args)\n",
    "\n",
    "        if bidirectional:\n",
    "            rec_layer = Bidirectional(rec_layer)\n",
    "        x = self.recursive_layer = rec_layer(x)\n",
    "\n",
    "\n",
    "        if pooling == 'max':\n",
    "            x = GlobalMaxPooling1D()(x)\n",
    "        elif pooling == 'avg':\n",
    "            x = GlobalAveragePooling1D()(x)\n",
    "        else:\n",
    "            raise ValueError(\"pooling should be 'max' or 'avg'\")\n",
    "\n",
    "        if dropout > 0:\n",
    "            x = Dropout(dropout)(x)\n",
    "\n",
    "        x = Dense(3, activation=None)(x)\n",
    "        output = Softmax()(x)\n",
    "        \n",
    "        self.display_name = \"{}{} with {} pooling consuming {}\".format(\n",
    "            'bi-' if bidirectional else '',\n",
    "            type(recursive_class(50)).__name__,\n",
    "            pooling,\n",
    "            \"+\".join([i.name for i in inputs]),\n",
    "        )\n",
    "        super().__init__(\n",
    "            inputs=inputs, outputs=[output],\n",
    "            tokenize_args=tok_args, **kwargs\n",
    "        )\n",
    "        \n",
    "    def preprocess_fit(self, X):\n",
    "        return\n",
    "\n",
    "    def _preprocess_tweet(self, tweet):\n",
    "        tokens = self._tokenizer.tokenize(tweet)\n",
    "\n",
    "        if len(tokens) >= self._max_len:\n",
    "            tokens = tokens[:self._max_len]\n",
    "        else:\n",
    "            tokens = tokens + [''] * (self._max_len - len(tokens))\n",
    "        return tokens\n",
    "\n",
    "    def _get_embeddings(self, toks):\n",
    "        return [self._embedder.get_word_vector(tok) for tok in toks]\n",
    "\n",
    "\n",
    "    def preprocess_transform(self, X):\n",
    "        X_tokenized = [self._preprocess_tweet(tweet) for tweet in X]\n",
    "\n",
    "        ret = []\n",
    "\n",
    "        if self._elmo_embedder:\n",
    "            \n",
    "            ret.append(np.array(self._elmo_embedder.sents2elmo(X_tokenized)))\n",
    "        if self._embedder:\n",
    "            fasttext_embeddings = np.array([\n",
    "                self._get_embeddings(tweet) for tweet in X_tokenized\n",
    "            ])\n",
    "            ret.append(fasttext_embeddings)\n",
    "        return ret\n"
   ]
  },
  {
   "cell_type": "code",
   "execution_count": 10,
   "metadata": {},
   "outputs": [
    {
     "data": {
      "text/plain": [
       "(array([  18.,  150.,  371.,  636.,  920., 1108., 1237., 1229., 1200.,\n",
       "        1311., 1222., 1059.,  850.,  543.,  255.,  108.,   45.,   10.,\n",
       "           9.,    3.]),\n",
       " array([ 1.,  3.,  5.,  7.,  9., 11., 13., 15., 17., 19., 21., 23., 25.,\n",
       "        27., 29., 31., 33., 35., 37., 39., 41.]),\n",
       " <a list of 20 Patch objects>)"
      ]
     },
     "execution_count": 10,
     "metadata": {},
     "output_type": "execute_result"
    },
    {
     "data": {
      "image/png": "[encoded data removed]",
      "text/plain": [
       "<Figure size 432x288 with 1 Axes>"
      ]
     },
     "metadata": {
      "needs_background": "light"
     },
     "output_type": "display_data"
    }
   ],
   "source": [
    "%matplotlib inline\n",
    "import matplotlib.pyplot as plt\n",
    "\n",
    "tokenizer = Tokenizer()\n",
    "\n",
    "plt.hist([len(tokenizer.tokenize(tw)) for tw in X_test], bins=20)"
   ]
  },
  {
   "cell_type": "code",
   "execution_count": 11,
   "metadata": {},
   "outputs": [],
   "source": [
    "from keras.optimizers import Adam\n",
    "from keras.layers import LSTM, GRU, CuDNNLSTM, CuDNNGRU\n",
    "\n",
    "max_length = 33\n",
    "\n",
    "\n",
    "params = {\n",
    "    \"recursive_class\": CuDNNGRU,\n",
    "    \"dropout\": 0.45,\n",
    "    \"rnn_units\": 1024, \n",
    "    \"dropout\": 0.5,\n",
    "    \"pooling\": 'avg',\n",
    "    \"tokenize_args\": {\n",
    "        \"preserve_case\": False,\n",
    "        \"deaccent\": False,\n",
    "        \"reduce_len\": True,\n",
    "        \"strip_handles\": True,\n",
    "        \"alpha_only\": False,\n",
    "        \"stem\": False\n",
    "    }\n",
    "}\n",
    "\n",
    "optimizer_args = {\n",
    "    \"lr\": 0.0007,\n",
    "    \"decay\": 0.01,\n",
    "}"
   ]
  },
  {
   "cell_type": "code",
   "execution_count": 12,
   "metadata": {},
   "outputs": [
    {
     "name": "stdout",
     "output_type": "stream",
     "text": [
      "__________________________________________________________________________________________________\n",
      "Layer (type)                    Output Shape         Param #     Connected to                     \n",
      "==================================================================================================\n",
      "Elmo (InputLayer)               (None, 33, 1024)     0                                            \n",
      "__________________________________________________________________________________________________\n",
      "Fasttext (InputLayer)           (None, 33, 300)      0                                            \n",
      "__________________________________________________________________________________________________\n",
      "concatenate_1 (Concatenate)     (None, 33, 1324)     0           Elmo[0][0]                       \n",
      "                                                                 Fasttext[0][0]                   \n",
      "__________________________________________________________________________________________________\n",
      "cu_dnngru_1 (CuDNNGRU)          (None, 33, 1024)     7219200     concatenate_1[0][0]              \n",
      "__________________________________________________________________________________________________\n",
      "global_average_pooling1d_1 (Glo (None, 1024)         0           cu_dnngru_1[0][0]                \n",
      "__________________________________________________________________________________________________\n",
      "dropout_1 (Dropout)             (None, 1024)         0           global_average_pooling1d_1[0][0] \n",
      "__________________________________________________________________________________________________\n",
      "dense_1 (Dense)                 (None, 3)            3075        dropout_1[0][0]                  \n",
      "__________________________________________________________________________________________________\n",
      "softmax_1 (Softmax)             (None, 3)            0           dense_1[0][0]                    \n",
      "==================================================================================================\n",
      "Total params: 7,222,275\n",
      "Trainable params: 7,222,275\n",
      "Non-trainable params: 0\n",
      "__________________________________________________________________________________________________\n",
      "None\n"
     ]
    },
    {
     "data": {
      "image/png": "[encoded data removed]",
      "text/plain": [
       "<IPython.core.display.Image object>"
      ]
     },
     "execution_count": 12,
     "metadata": {},
     "output_type": "execute_result"
    }
   ],
   "source": [
    "\n",
    "from keras.utils import plot_model\n",
    "from IPython.display import Image\n",
    "\n",
    "\n",
    "model = ElmoModel(\n",
    "    max_length, fasttext_model=fasttext_model,\n",
    "    elmo_embedder=elmo_embedder,\n",
    "    **params\n",
    ")\n",
    "\n",
    "print(model.summary())\n",
    "\n",
    "\n",
    "\n",
    "\n",
    "model.compile(loss='binary_crossentropy', \n",
    "              optimizer=Adam(**optimizer_args), \n",
    "              metrics=['accuracy'])\n",
    "\n",
    "plot_model(model, to_file='model.png')\n",
    "\n",
    "\n",
    "Image(filename='model.png') "
   ]
  },
  {
   "cell_type": "code",
   "execution_count": 13,
   "metadata": {},
   "outputs": [
    {
     "name": "stdout",
     "output_type": "stream",
     "text": [
      "Train on 44447 samples, validate on 2340 samples\n",
      "Epoch 1/100\n",
      "44447/44447 [==============================] - 21s 465us/step - loss: 0.5093 - acc: 0.7345 - val_loss: 0.5255 - val_acc: 0.7171\n",
      "\n",
      "Epoch 00001: val_loss improved from inf to 0.52552, saving model to /tmp/gru_model_semeval_2016.h5\n",
      "Epoch 2/100\n",
      "44447/44447 [==============================] - 18s 406us/step - loss: 0.4549 - acc: 0.7674 - val_loss: 0.5153 - val_acc: 0.7308\n",
      "\n",
      "Epoch 00002: val_loss improved from 0.52552 to 0.51534, saving model to /tmp/gru_model_semeval_2016.h5\n",
      "Epoch 3/100\n",
      "44447/44447 [==============================] - 17s 390us/step - loss: 0.4400 - acc: 0.7734 - val_loss: 0.5243 - val_acc: 0.7016\n",
      "\n",
      "Epoch 00003: val_loss did not improve from 0.51534\n",
      "Epoch 4/100\n",
      "44447/44447 [==============================] - 17s 388us/step - loss: 0.4293 - acc: 0.7774 - val_loss: 0.5168 - val_acc: 0.7254\n",
      "\n",
      "Epoch 00004: val_loss did not improve from 0.51534\n",
      "Epoch 5/100\n",
      "44447/44447 [==============================] - 17s 393us/step - loss: 0.4210 - acc: 0.7825 - val_loss: 0.5122 - val_acc: 0.7291\n",
      "\n",
      "Epoch 00005: val_loss improved from 0.51534 to 0.51215, saving model to /tmp/gru_model_semeval_2016.h5\n",
      "Epoch 6/100\n",
      "44447/44447 [==============================] - 18s 404us/step - loss: 0.4143 - acc: 0.7851 - val_loss: 0.5102 - val_acc: 0.7182\n",
      "\n",
      "Epoch 00006: val_loss improved from 0.51215 to 0.51016, saving model to /tmp/gru_model_semeval_2016.h5\n",
      "Epoch 7/100\n",
      "44447/44447 [==============================] - 18s 405us/step - loss: 0.4092 - acc: 0.7886 - val_loss: 0.5150 - val_acc: 0.7191\n",
      "\n",
      "Epoch 00007: val_loss did not improve from 0.51016\n",
      "Epoch 8/100\n",
      "44447/44447 [==============================] - 18s 410us/step - loss: 0.4041 - acc: 0.7901 - val_loss: 0.5095 - val_acc: 0.7261\n",
      "\n",
      "Epoch 00008: val_loss improved from 0.51016 to 0.50954, saving model to /tmp/gru_model_semeval_2016.h5\n",
      "Epoch 9/100\n",
      "44447/44447 [==============================] - 18s 401us/step - loss: 0.3994 - acc: 0.7931 - val_loss: 0.5105 - val_acc: 0.7275\n",
      "\n",
      "Epoch 00009: val_loss did not improve from 0.50954\n",
      "Epoch 10/100\n",
      "44447/44447 [==============================] - 17s 389us/step - loss: 0.3954 - acc: 0.7949 - val_loss: 0.5089 - val_acc: 0.7209\n",
      "\n",
      "Epoch 00010: val_loss improved from 0.50954 to 0.50886, saving model to /tmp/gru_model_semeval_2016.h5\n",
      "Epoch 11/100\n",
      "44447/44447 [==============================] - 18s 407us/step - loss: 0.3919 - acc: 0.7973 - val_loss: 0.5243 - val_acc: 0.7044\n",
      "\n",
      "Epoch 00011: val_loss did not improve from 0.50886\n",
      "Epoch 12/100\n",
      "44447/44447 [==============================] - 17s 389us/step - loss: 0.3878 - acc: 0.7988 - val_loss: 0.5135 - val_acc: 0.7350\n",
      "\n",
      "Epoch 00012: val_loss did not improve from 0.50886\n",
      "Epoch 13/100\n",
      "44447/44447 [==============================] - 17s 390us/step - loss: 0.3851 - acc: 0.8004 - val_loss: 0.5147 - val_acc: 0.7258\n",
      "\n",
      "Epoch 00013: val_loss did not improve from 0.50886\n",
      "Epoch 14/100\n",
      "44447/44447 [==============================] - 17s 393us/step - loss: 0.3821 - acc: 0.8025 - val_loss: 0.5091 - val_acc: 0.7298\n",
      "\n",
      "Epoch 00014: val_loss did not improve from 0.50886\n",
      "Epoch 15/100\n",
      "44447/44447 [==============================] - 18s 409us/step - loss: 0.3793 - acc: 0.8040 - val_loss: 0.5287 - val_acc: 0.7178\n",
      "\n",
      "Epoch 00015: val_loss did not improve from 0.50886\n"
     ]
    },
    {
     "data": {
      "text/plain": [
       "<keras.callbacks.History at 0x7fd224ddeeb8>"
      ]
     },
     "execution_count": 13,
     "metadata": {},
     "output_type": "execute_result"
    }
   ],
   "source": [
    "from keras.callbacks import ModelCheckpoint, EarlyStopping\n",
    "\n",
    "checkpointer = ModelCheckpoint('/tmp/gru_model_semeval_2016.h5', save_best_only=True, monitor='val_loss', verbose=1)\n",
    "early_stopper = EarlyStopping(monitor='val_loss', patience=5)\n",
    "\n",
    "\n",
    "model.fit(X_train, y_train, \n",
    "          callbacks=[checkpointer, early_stopper],\n",
    "          validation_split=0.05,\n",
    "          #validation_data=(X_dev, y_dev),\n",
    "          class_weight=class_weights,\n",
    "          epochs=100, verbose=1,\n",
    "          batch_size=64)\n"
   ]
  },
  {
   "cell_type": "markdown",
   "metadata": {},
   "source": [
    "## ELMo + fastText"
   ]
  },
  {
   "cell_type": "code",
   "execution_count": 14,
   "metadata": {},
   "outputs": [
    {
     "data": {
      "text/plain": [
       "0.5888147183327906"
      ]
     },
     "execution_count": 14,
     "metadata": {},
     "output_type": "execute_result"
    }
   ],
   "source": [
    "from sklearn.metrics import accuracy_score\n",
    "\n",
    "\n",
    "y_pred  = model.predict(X_test) >= 0.5\n",
    "\n",
    "accuracy_score(y_test, y_pred)"
   ]
  },
  {
   "cell_type": "code",
   "execution_count": 15,
   "metadata": {},
   "outputs": [],
   "source": [
    "model_elmo_ft = model"
   ]
  },
  {
   "cell_type": "markdown",
   "metadata": {},
   "source": [
    "## ELMo"
   ]
  },
  {
   "cell_type": "code",
   "execution_count": 16,
   "metadata": {},
   "outputs": [
    {
     "name": "stdout",
     "output_type": "stream",
     "text": [
      "_________________________________________________________________\n",
      "Layer (type)                 Output Shape              Param #   \n",
      "=================================================================\n",
      "Elmo (InputLayer)            (None, 33, 1024)          0         \n",
      "_________________________________________________________________\n",
      "cu_dnngru_3 (CuDNNGRU)       (None, 33, 1024)          6297600   \n",
      "_________________________________________________________________\n",
      "global_average_pooling1d_2 ( (None, 1024)              0         \n",
      "_________________________________________________________________\n",
      "dropout_2 (Dropout)          (None, 1024)              0         \n",
      "_________________________________________________________________\n",
      "dense_2 (Dense)              (None, 3)                 3075      \n",
      "_________________________________________________________________\n",
      "softmax_2 (Softmax)          (None, 3)                 0         \n",
      "=================================================================\n",
      "Total params: 6,300,675\n",
      "Trainable params: 6,300,675\n",
      "Non-trainable params: 0\n",
      "_________________________________________________________________\n",
      "None\n"
     ]
    },
    {
     "data": {
      "image/png": "[encoded data removed]",
      "text/plain": [
       "<IPython.core.display.Image object>"
      ]
     },
     "execution_count": 16,
     "metadata": {},
     "output_type": "execute_result"
    }
   ],
   "source": [
    "from keras.utils import plot_model\n",
    "from IPython.display import Image\n",
    "\n",
    "\n",
    "model = ElmoModel(\n",
    "    max_length, fasttext_model=None,\n",
    "    elmo_embedder=elmo_embedder,\n",
    "    **params\n",
    ")\n",
    "\n",
    "print(model.summary())\n",
    "\n",
    "\n",
    "\n",
    "\n",
    "model.compile(loss='binary_crossentropy', \n",
    "              optimizer=Adam(**optimizer_args), \n",
    "              metrics=['accuracy'])\n",
    "\n",
    "plot_model(model, to_file='model.png')\n",
    "\n",
    "\n",
    "Image(filename='model.png') "
   ]
  },
  {
   "cell_type": "code",
   "execution_count": 17,
   "metadata": {},
   "outputs": [
    {
     "name": "stdout",
     "output_type": "stream",
     "text": [
      "Train on 44447 samples, validate on 2340 samples\n",
      "Epoch 1/100\n",
      "44447/44447 [==============================] - 17s 389us/step - loss: 0.5188 - acc: 0.7283 - val_loss: 0.5419 - val_acc: 0.7134\n",
      "\n",
      "Epoch 00001: val_loss improved from inf to 0.54190, saving model to /tmp/gru_model_semeval_2016.h5\n",
      "Epoch 2/100\n",
      "44447/44447 [==============================] - 16s 359us/step - loss: 0.4747 - acc: 0.7551 - val_loss: 0.5387 - val_acc: 0.7093\n",
      "\n",
      "Epoch 00002: val_loss improved from 0.54190 to 0.53871, saving model to /tmp/gru_model_semeval_2016.h5\n",
      "Epoch 3/100\n",
      "44447/44447 [==============================] - 16s 358us/step - loss: 0.4608 - acc: 0.7618 - val_loss: 0.5387 - val_acc: 0.7053\n",
      "\n",
      "Epoch 00003: val_loss improved from 0.53871 to 0.53867, saving model to /tmp/gru_model_semeval_2016.h5\n",
      "Epoch 4/100\n",
      "44447/44447 [==============================] - 16s 358us/step - loss: 0.4521 - acc: 0.7663 - val_loss: 0.5352 - val_acc: 0.7140\n",
      "\n",
      "Epoch 00004: val_loss improved from 0.53867 to 0.53516, saving model to /tmp/gru_model_semeval_2016.h5\n",
      "Epoch 5/100\n",
      "44447/44447 [==============================] - 16s 362us/step - loss: 0.4459 - acc: 0.7696 - val_loss: 0.5311 - val_acc: 0.7202\n",
      "\n",
      "Epoch 00005: val_loss improved from 0.53516 to 0.53107, saving model to /tmp/gru_model_semeval_2016.h5\n",
      "Epoch 6/100\n",
      "44447/44447 [==============================] - 16s 359us/step - loss: 0.4401 - acc: 0.7719 - val_loss: 0.5352 - val_acc: 0.7088\n",
      "\n",
      "Epoch 00006: val_loss did not improve from 0.53107\n",
      "Epoch 7/100\n",
      "44447/44447 [==============================] - 16s 363us/step - loss: 0.4353 - acc: 0.7737 - val_loss: 0.5305 - val_acc: 0.7269\n",
      "\n",
      "Epoch 00007: val_loss improved from 0.53107 to 0.53055, saving model to /tmp/gru_model_semeval_2016.h5\n",
      "Epoch 8/100\n",
      "44447/44447 [==============================] - 16s 359us/step - loss: 0.4311 - acc: 0.7761 - val_loss: 0.5366 - val_acc: 0.7211\n",
      "\n",
      "Epoch 00008: val_loss did not improve from 0.53055\n",
      "Epoch 9/100\n",
      "44447/44447 [==============================] - 16s 366us/step - loss: 0.4276 - acc: 0.7783 - val_loss: 0.5341 - val_acc: 0.7075\n",
      "\n",
      "Epoch 00009: val_loss did not improve from 0.53055\n",
      "Epoch 10/100\n",
      "44447/44447 [==============================] - 16s 362us/step - loss: 0.4248 - acc: 0.7799 - val_loss: 0.5369 - val_acc: 0.7302\n",
      "\n",
      "Epoch 00010: val_loss did not improve from 0.53055\n",
      "Epoch 11/100\n",
      "44447/44447 [==============================] - 16s 361us/step - loss: 0.4210 - acc: 0.7815 - val_loss: 0.5286 - val_acc: 0.7201\n",
      "\n",
      "Epoch 00011: val_loss improved from 0.53055 to 0.52858, saving model to /tmp/gru_model_semeval_2016.h5\n",
      "Epoch 12/100\n",
      "44447/44447 [==============================] - 16s 359us/step - loss: 0.4183 - acc: 0.7833 - val_loss: 0.5337 - val_acc: 0.7142\n",
      "\n",
      "Epoch 00012: val_loss did not improve from 0.52858\n",
      "Epoch 13/100\n",
      "44447/44447 [==============================] - 16s 363us/step - loss: 0.4153 - acc: 0.7850 - val_loss: 0.5318 - val_acc: 0.7249\n",
      "\n",
      "Epoch 00013: val_loss did not improve from 0.52858\n",
      "Epoch 14/100\n",
      "44447/44447 [==============================] - 16s 361us/step - loss: 0.4135 - acc: 0.7860 - val_loss: 0.5308 - val_acc: 0.7269\n",
      "\n",
      "Epoch 00014: val_loss did not improve from 0.52858\n",
      "Epoch 15/100\n",
      "44447/44447 [==============================] - 16s 361us/step - loss: 0.4102 - acc: 0.7871 - val_loss: 0.5326 - val_acc: 0.7194\n",
      "\n",
      "Epoch 00015: val_loss did not improve from 0.52858\n",
      "Epoch 16/100\n",
      "44447/44447 [==============================] - 16s 361us/step - loss: 0.4079 - acc: 0.7885 - val_loss: 0.5298 - val_acc: 0.7241\n",
      "\n",
      "Epoch 00016: val_loss did not improve from 0.52858\n"
     ]
    },
    {
     "data": {
      "text/plain": [
       "<keras.callbacks.History at 0x7fcebd74ffd0>"
      ]
     },
     "execution_count": 17,
     "metadata": {},
     "output_type": "execute_result"
    }
   ],
   "source": [
    "from keras.callbacks import ModelCheckpoint, EarlyStopping\n",
    "\n",
    "checkpointer = ModelCheckpoint('/tmp/gru_model_semeval_2016.h5', save_best_only=True, monitor='val_loss', verbose=1)\n",
    "early_stopper = EarlyStopping(monitor='val_loss', patience=5)\n",
    "\n",
    "\n",
    "model.fit(X_train, y_train, \n",
    "          callbacks=[checkpointer, early_stopper],\n",
    "          validation_split=0.05,\n",
    "          class_weight=class_weights,\n",
    "          epochs=100, verbose=1,\n",
    "          batch_size=64)\n"
   ]
  },
  {
   "cell_type": "code",
   "execution_count": 18,
   "metadata": {},
   "outputs": [
    {
     "data": {
      "text/plain": [
       "0.5639042657114947"
      ]
     },
     "execution_count": 18,
     "metadata": {},
     "output_type": "execute_result"
    }
   ],
   "source": [
    "from sklearn.metrics import accuracy_score\n",
    "\n",
    "y_pred  = model.predict(X_test) >= 0.5\n",
    "\n",
    "accuracy_score(y_test, y_pred)"
   ]
  },
  {
   "cell_type": "code",
   "execution_count": 19,
   "metadata": {},
   "outputs": [],
   "source": [
    "model_elmo = model"
   ]
  },
  {
   "cell_type": "markdown",
   "metadata": {},
   "source": [
    "## fastText"
   ]
  },
  {
   "cell_type": "code",
   "execution_count": 20,
   "metadata": {},
   "outputs": [
    {
     "name": "stdout",
     "output_type": "stream",
     "text": [
      "_________________________________________________________________\n",
      "Layer (type)                 Output Shape              Param #   \n",
      "=================================================================\n",
      "Fasttext (InputLayer)        (None, 33, 300)           0         \n",
      "_________________________________________________________________\n",
      "cu_dnngru_5 (CuDNNGRU)       (None, 33, 1024)          4073472   \n",
      "_________________________________________________________________\n",
      "global_average_pooling1d_3 ( (None, 1024)              0         \n",
      "_________________________________________________________________\n",
      "dropout_3 (Dropout)          (None, 1024)              0         \n",
      "_________________________________________________________________\n",
      "dense_3 (Dense)              (None, 3)                 3075      \n",
      "_________________________________________________________________\n",
      "softmax_3 (Softmax)          (None, 3)                 0         \n",
      "=================================================================\n",
      "Total params: 4,076,547\n",
      "Trainable params: 4,076,547\n",
      "Non-trainable params: 0\n",
      "_________________________________________________________________\n",
      "None\n"
     ]
    },
    {
     "data": {
      "image/png": "[encoded data removed]",
      "text/plain": [
       "<IPython.core.display.Image object>"
      ]
     },
     "execution_count": 20,
     "metadata": {},
     "output_type": "execute_result"
    }
   ],
   "source": [
    "from keras.utils import plot_model\n",
    "from IPython.display import Image\n",
    "\n",
    "\n",
    "model = ElmoModel(\n",
    "    max_length, fasttext_model=fasttext_model,\n",
    "    elmo_embedder=None,\n",
    "    **params\n",
    ")\n",
    "\n",
    "print(model.summary())\n",
    "\n",
    "\n",
    "\n",
    "\n",
    "model.compile(loss='binary_crossentropy', \n",
    "              optimizer=Adam(**optimizer_args), \n",
    "              metrics=['accuracy'])\n",
    "\n",
    "plot_model(model, to_file='model.png')\n",
    "\n",
    "\n",
    "Image(filename='model.png') "
   ]
  },
  {
   "cell_type": "code",
   "execution_count": 21,
   "metadata": {},
   "outputs": [
    {
     "name": "stdout",
     "output_type": "stream",
     "text": [
      "Train on 44447 samples, validate on 2340 samples\n",
      "Epoch 1/100\n",
      "44447/44447 [==============================] - 12s 262us/step - loss: 0.5114 - acc: 0.7283 - val_loss: 0.5318 - val_acc: 0.7165\n",
      "\n",
      "Epoch 00001: val_loss improved from inf to 0.53175, saving model to /tmp/gru_model_semeval_2016.h5\n",
      "Epoch 2/100\n",
      "44447/44447 [==============================] - 11s 240us/step - loss: 0.4677 - acc: 0.7570 - val_loss: 0.5251 - val_acc: 0.7113\n",
      "\n",
      "Epoch 00002: val_loss improved from 0.53175 to 0.52512, saving model to /tmp/gru_model_semeval_2016.h5\n",
      "Epoch 3/100\n",
      "44447/44447 [==============================] - 11s 241us/step - loss: 0.4589 - acc: 0.7615 - val_loss: 0.5222 - val_acc: 0.7160\n",
      "\n",
      "Epoch 00003: val_loss improved from 0.52512 to 0.52216, saving model to /tmp/gru_model_semeval_2016.h5\n",
      "Epoch 4/100\n",
      "44447/44447 [==============================] - 11s 238us/step - loss: 0.4525 - acc: 0.7647 - val_loss: 0.5226 - val_acc: 0.7178\n",
      "\n",
      "Epoch 00004: val_loss did not improve from 0.52216\n",
      "Epoch 5/100\n",
      "44447/44447 [==============================] - 11s 239us/step - loss: 0.4486 - acc: 0.7655 - val_loss: 0.5166 - val_acc: 0.7242\n",
      "\n",
      "Epoch 00005: val_loss improved from 0.52216 to 0.51659, saving model to /tmp/gru_model_semeval_2016.h5\n",
      "Epoch 6/100\n",
      "44447/44447 [==============================] - 11s 241us/step - loss: 0.4453 - acc: 0.7671 - val_loss: 0.5286 - val_acc: 0.7150\n",
      "\n",
      "Epoch 00006: val_loss did not improve from 0.51659\n",
      "Epoch 7/100\n",
      "44447/44447 [==============================] - 11s 241us/step - loss: 0.4426 - acc: 0.7689 - val_loss: 0.5218 - val_acc: 0.7138\n",
      "\n",
      "Epoch 00007: val_loss did not improve from 0.51659\n",
      "Epoch 8/100\n",
      "44447/44447 [==============================] - 11s 237us/step - loss: 0.4408 - acc: 0.7694 - val_loss: 0.5343 - val_acc: 0.7098\n",
      "\n",
      "Epoch 00008: val_loss did not improve from 0.51659\n",
      "Epoch 9/100\n",
      "44447/44447 [==============================] - 11s 241us/step - loss: 0.4384 - acc: 0.7706 - val_loss: 0.5260 - val_acc: 0.7098\n",
      "\n",
      "Epoch 00009: val_loss did not improve from 0.51659\n",
      "Epoch 10/100\n",
      "44447/44447 [==============================] - 11s 240us/step - loss: 0.4374 - acc: 0.7705 - val_loss: 0.5220 - val_acc: 0.7215\n",
      "\n",
      "Epoch 00010: val_loss did not improve from 0.51659\n"
     ]
    },
    {
     "data": {
      "text/plain": [
       "<keras.callbacks.History at 0x7fd224af1a58>"
      ]
     },
     "execution_count": 21,
     "metadata": {},
     "output_type": "execute_result"
    }
   ],
   "source": [
    "from keras.callbacks import ModelCheckpoint, EarlyStopping\n",
    "\n",
    "checkpointer = ModelCheckpoint('/tmp/gru_model_semeval_2016.h5', save_best_only=True, monitor='val_loss', verbose=1)\n",
    "early_stopper = EarlyStopping(monitor='val_loss', patience=5)\n",
    "\n",
    "\n",
    "model.fit(X_train, y_train, \n",
    "          callbacks=[checkpointer, early_stopper],\n",
    "          validation_split=0.05, \n",
    "          class_weight=class_weights,\n",
    "          epochs=100, verbose=1,\n",
    "          batch_size=64)\n"
   ]
  },
  {
   "cell_type": "code",
   "execution_count": 22,
   "metadata": {},
   "outputs": [
    {
     "data": {
      "text/plain": [
       "0.5394822533376751"
      ]
     },
     "execution_count": 22,
     "metadata": {},
     "output_type": "execute_result"
    }
   ],
   "source": [
    "y_pred  = model.predict(X_test) >= 0.5\n",
    "\n",
    "accuracy_score(y_test, y_pred)"
   ]
  },
  {
   "cell_type": "code",
   "execution_count": 23,
   "metadata": {},
   "outputs": [],
   "source": [
    "model_ft = model"
   ]
  }
 ],
 "metadata": {
  "kernelspec": {
   "display_name": "Python 3",
   "language": "python",
   "name": "python3"
  },
  "language_info": {
   "codemirror_mode": {
    "name": "ipython",
    "version": 3
   },
   "file_extension": ".py",
   "mimetype": "text/x-python",
   "name": "python",
   "nbconvert_exporter": "python",
   "pygments_lexer": "ipython3",
   "version": "3.6.5"
  }
 },
 "nbformat": 4,
 "nbformat_minor": 4
}
