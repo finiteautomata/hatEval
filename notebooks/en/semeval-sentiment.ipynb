{
 "cells": [
  {
   "cell_type": "markdown",
   "metadata": {},
   "source": [
    "## SemEval 2017 Task 4: Polarity Classification"
   ]
  },
  {
   "cell_type": "code",
   "execution_count": 1,
   "metadata": {},
   "outputs": [],
   "source": [
    "%load_ext autoreload\n",
    "%autoreload 2\n",
    "import pandas as pd\n",
    "import csv\n",
    "import numpy as np\n",
    "import tensorflow as tf\n",
    "import random\n",
    "import torch\n",
    "\n",
    "pd.set_option('max_colwidth', 200)\n",
    "\n",
    "torch.manual_seed(2019)\n",
    "np.random.seed(2019)\n",
    "tf.random.set_random_seed(2019)\n",
    "random.seed(2019)\n",
    "\n",
    "torch.backends.cudnn.deterministic = True\n",
    "torch.backends.cudnn.benchmark = False\n",
    "\n",
    "def read_data(filename):\n",
    "    df = pd.read_table(filename,\n",
    "                         names=[\"id\", \"label\", \"text\", \"extra\"], header=None, index_col=\"id\",\n",
    "                         quoting=csv.QUOTE_NONE)\n",
    "    df.drop(\"extra\", axis=1, inplace=True)\n",
    "    \n",
    "    return df\n",
    "\n",
    "\n",
    "df_train = read_data(\"../../data/other/GOLD/Subtask_A/twitter-2016train-A.txt\")\n",
    "df_dev = read_data(\"../../data/other/GOLD/Subtask_A/twitter-2016dev-A.txt\")\n",
    "df_test = read_data(\"../../data/other/GOLD/Subtask_A/twitter-2016test-A.txt\")\n",
    "\n",
    "# Tiro una línea basura\n",
    "df_test.drop(index='\"', inplace=True)\n",
    "\n",
    "X_train, labels_train = df_train[\"text\"], df_train[\"label\"]\n",
    "X_dev, labels_dev = df_dev[\"text\"], df_dev[\"label\"]\n",
    "X_test, labels_test = df_test[\"text\"], df_test[\"label\"]"
   ]
  },
  {
   "cell_type": "code",
   "execution_count": 2,
   "metadata": {},
   "outputs": [
    {
     "data": {
      "text/html": [
       "<div>\n",
       "<style scoped>\n",
       "    .dataframe tbody tr th:only-of-type {\n",
       "        vertical-align: middle;\n",
       "    }\n",
       "\n",
       "    .dataframe tbody tr th {\n",
       "        vertical-align: top;\n",
       "    }\n",
       "\n",
       "    .dataframe thead th {\n",
       "        text-align: right;\n",
       "    }\n",
       "</style>\n",
       "<table border=\"1\" class=\"dataframe\">\n",
       "  <thead>\n",
       "    <tr style=\"text-align: right;\">\n",
       "      <th></th>\n",
       "      <th>label</th>\n",
       "      <th>text</th>\n",
       "    </tr>\n",
       "    <tr>\n",
       "      <th>id</th>\n",
       "      <th></th>\n",
       "      <th></th>\n",
       "    </tr>\n",
       "  </thead>\n",
       "  <tbody>\n",
       "    <tr>\n",
       "      <th>641603270943703040</th>\n",
       "      <td>neutral</td>\n",
       "      <td>@search4rr @elofan1276 @ThePatriot143 By google, i mean the search engine, google maps, google email accounts. anything google you may have</td>\n",
       "    </tr>\n",
       "    <tr>\n",
       "      <th>637487993171808260</th>\n",
       "      <td>positive</td>\n",
       "      <td>I just saw Jurassic World for the 7th time in theaters and yes it was worth every penny</td>\n",
       "    </tr>\n",
       "    <tr>\n",
       "      <th>640754950734135297</th>\n",
       "      <td>positive</td>\n",
       "      <td>Happy 29th Birthday, Christopher Rithin (@chrisrithin)! He played one of Dudley's gang members in Harry Potter and the Order of the Phoenix.</td>\n",
       "    </tr>\n",
       "    <tr>\n",
       "      <th>641482474174984192</th>\n",
       "      <td>positive</td>\n",
       "      <td>This is the 1st @Madonna tour that I've had Madonna tattoos for! Wonder why it was #RebelHeart to make this happen? #RebelHeartTour</td>\n",
       "    </tr>\n",
       "    <tr>\n",
       "      <th>636698611867385857</th>\n",
       "      <td>positive</td>\n",
       "      <td>@MrsAshRick I used Amazon Prime to get Harper a Pete the Cat shirt :) Wish she could have it in time for the Pete the Cat parade tomorrow.</td>\n",
       "    </tr>\n",
       "    <tr>\n",
       "      <th>641012504081133568</th>\n",
       "      <td>negative</td>\n",
       "      <td>I am real mad that the replay of Saturday's Made In America Festival does not include Beyonce. Unhappy @TIDALHiFi subscriber!!!</td>\n",
       "    </tr>\n",
       "    <tr>\n",
       "      <th>641066769617154048</th>\n",
       "      <td>negative</td>\n",
       "      <td>Non stop Harry Potter in our house since Friday! Make it stop!!!</td>\n",
       "    </tr>\n",
       "    <tr>\n",
       "      <th>641451668639477764</th>\n",
       "      <td>positive</td>\n",
       "      <td>@TayToOoCute miss you tay! I was just looking thru my ipod &amp;amp; I have vids of you singing back in SAT prep lol</td>\n",
       "    </tr>\n",
       "    <tr>\n",
       "      <th>641454770897588224</th>\n",
       "      <td>positive</td>\n",
       "      <td>Grady Harp - Top 100 Reviewer on Amazon gave my 1st #sophieandscottie book 4 stars and the 2nd book 5 stars. #chapterbooks #juvenilefiction</td>\n",
       "    </tr>\n",
       "    <tr>\n",
       "      <th>636929076855459840</th>\n",
       "      <td>neutral</td>\n",
       "      <td>Soundchecking in Grateful Dead Listening Party with Sunshine Daydream, (DVD), Veneta, Oregon, Aug 27 1972 https://t.co/LZdQR679w4</td>\n",
       "    </tr>\n",
       "  </tbody>\n",
       "</table>\n",
       "</div>"
      ],
      "text/plain": [
       "                       label  \\\n",
       "id                             \n",
       "641603270943703040   neutral   \n",
       "637487993171808260  positive   \n",
       "640754950734135297  positive   \n",
       "641482474174984192  positive   \n",
       "636698611867385857  positive   \n",
       "641012504081133568  negative   \n",
       "641066769617154048  negative   \n",
       "641451668639477764  positive   \n",
       "641454770897588224  positive   \n",
       "636929076855459840   neutral   \n",
       "\n",
       "                                                                                                                                                            text  \n",
       "id                                                                                                                                                                \n",
       "641603270943703040   @search4rr @elofan1276 @ThePatriot143 By google, i mean the search engine, google maps, google email accounts. anything google you may have  \n",
       "637487993171808260                                                       I just saw Jurassic World for the 7th time in theaters and yes it was worth every penny  \n",
       "640754950734135297  Happy 29th Birthday, Christopher Rithin (@chrisrithin)! He played one of Dudley's gang members in Harry Potter and the Order of the Phoenix.  \n",
       "641482474174984192           This is the 1st @Madonna tour that I've had Madonna tattoos for! Wonder why it was #RebelHeart to make this happen? #RebelHeartTour  \n",
       "636698611867385857    @MrsAshRick I used Amazon Prime to get Harper a Pete the Cat shirt :) Wish she could have it in time for the Pete the Cat parade tomorrow.  \n",
       "641012504081133568               I am real mad that the replay of Saturday's Made In America Festival does not include Beyonce. Unhappy @TIDALHiFi subscriber!!!  \n",
       "641066769617154048                                                                              Non stop Harry Potter in our house since Friday! Make it stop!!!  \n",
       "641451668639477764                              @TayToOoCute miss you tay! I was just looking thru my ipod &amp; I have vids of you singing back in SAT prep lol  \n",
       "641454770897588224   Grady Harp - Top 100 Reviewer on Amazon gave my 1st #sophieandscottie book 4 stars and the 2nd book 5 stars. #chapterbooks #juvenilefiction  \n",
       "636929076855459840             Soundchecking in Grateful Dead Listening Party with Sunshine Daydream, (DVD), Veneta, Oregon, Aug 27 1972 https://t.co/LZdQR679w4  "
      ]
     },
     "execution_count": 2,
     "metadata": {},
     "output_type": "execute_result"
    }
   ],
   "source": [
    "df_train.sample(n=10)"
   ]
  },
  {
   "cell_type": "code",
   "execution_count": 3,
   "metadata": {},
   "outputs": [],
   "source": [
    "%%capture\n",
    "from allennlp.commands.elmo import ElmoEmbedder\n",
    "from elmoformanylangs import Embedder as ManyLangsEmbedder\n",
    "import fastText\n",
    "import os\n",
    "\n",
    "\n",
    "fasttext_model = fastText.load_model(os.path.expanduser(\"../../WordVectors/wiki.en.bin\"))\n"
   ]
  },
  {
   "cell_type": "code",
   "execution_count": 4,
   "metadata": {},
   "outputs": [],
   "source": [
    "%%capture\n",
    "import fastText\n",
    "import os\n",
    "\n",
    "class MyElmoAdapter:\n",
    "    def __init__(self, embedder):\n",
    "        self._embedder = embedder\n",
    "        \n",
    "    def sents2elmo(self, sents):\n",
    "        #ret.append(np.array(self._elmo_embedder.sents2elmo(X_tokenized)))\n",
    "        return np.array(list(self._embedder.embed_sentences(sents))).mean(axis=1)\n",
    "    \n",
    "# elmo_embedder = MyElmoAdapter(ElmoEmbedder(cuda_device=0))\n",
    "\n",
    "elmo_embedder = ManyLangsEmbedder(\"../../models/elmo/en/\")"
   ]
  },
  {
   "cell_type": "code",
   "execution_count": 5,
   "metadata": {},
   "outputs": [
    {
     "name": "stderr",
     "output_type": "stream",
     "text": [
      "/home/jmperez/.pyenv/versions/3.6.5/envs/hateval/lib/python3.6/site-packages/sklearn/preprocessing/_encoders.py:368: FutureWarning: The handling of integer data will change in version 0.22. Currently, the categories are determined based on the range [0, max(values)], while in the future they will be determined based on the unique values.\n",
      "If you want the future behaviour and silence this warning, you can specify \"categories='auto'\".\n",
      "In case you used a LabelEncoder before this OneHotEncoder to convert the categories to integers, then you can now use the OneHotEncoder directly.\n",
      "  warnings.warn(msg, FutureWarning)\n"
     ]
    },
    {
     "data": {
      "text/plain": [
       "array(['negative', 'neutral', 'positive'], dtype=object)"
      ]
     },
     "execution_count": 5,
     "metadata": {},
     "output_type": "execute_result"
    }
   ],
   "source": [
    "from sklearn.preprocessing import OneHotEncoder, LabelEncoder\n",
    "label_encoder = LabelEncoder()\n",
    "onehot_encoder = OneHotEncoder(sparse=False)\n",
    "\n",
    "y_train = label_encoder.fit_transform(labels_train.values)\n",
    "y_dev = label_encoder.transform(labels_dev.values)\n",
    "y_test = label_encoder.transform(labels_test.values)\n",
    "\n",
    "y_train = onehot_encoder.fit_transform(y_train.reshape(-1, 1))\n",
    "y_dev = onehot_encoder.transform(y_dev.reshape(-1, 1))\n",
    "y_test = onehot_encoder.transform(y_test.reshape(-1, 1))\n",
    "\n",
    "label_encoder.classes_"
   ]
  },
  {
   "cell_type": "code",
   "execution_count": 27,
   "metadata": {},
   "outputs": [
    {
     "data": {
      "text/plain": [
       "positive    3094\n",
       "neutral     2043\n",
       "negative     863\n",
       "Name: label, dtype: int64"
      ]
     },
     "execution_count": 27,
     "metadata": {},
     "output_type": "execute_result"
    }
   ],
   "source": [
    "df_train['label'].value_counts()"
   ]
  },
  {
   "cell_type": "code",
   "execution_count": 34,
   "metadata": {},
   "outputs": [],
   "source": [
    "from sklearn.utils.class_weight import compute_class_weight\n",
    "\n",
    "class_weights = compute_class_weight('balanced', classes=label_encoder.classes_, y=labels_train)\n",
    "\n",
    "class_weights = {k:v for k, v in enumerate(class_weights)}"
   ]
  },
  {
   "cell_type": "code",
   "execution_count": 29,
   "metadata": {},
   "outputs": [],
   "source": [
    "from hate.nn.preprocessing import Tokenizer\n",
    "from hate.nn.base_model import BaseModel\n",
    "import numpy as np\n",
    "from keras.layers import (\n",
    "    Input, Embedding, Dense, Dropout, Bidirectional, LSTM,\n",
    "    GlobalMaxPooling1D, GlobalAveragePooling1D, Conv1D, CuDNNGRU, Concatenate, Softmax\n",
    ")\n",
    "import keras\n",
    "from keras import regularizers\n",
    "from elmoformanylangs import Embedder\n",
    "\n",
    "\n",
    "class ElmoModel(BaseModel):\n",
    "    def __init__(self, max_len, fasttext_model, elmo_embedder,\n",
    "             tokenize_args={},\n",
    "             recursive_class=CuDNNGRU, rnn_units=256, dropout=0.75, l1_regularization=0.00,\n",
    "             pooling='max', bidirectional=False, **kwargs):\n",
    "\n",
    "\n",
    "        self._max_len = max_len\n",
    "        self._embedder = fasttext_model\n",
    "        self._elmo_embedder = elmo_embedder\n",
    "        self._elmo_dim = 1024\n",
    "        # Build the graph\n",
    "\n",
    "        inputs = []\n",
    "\n",
    "        \n",
    "\n",
    "        tok_args = {\n",
    "            \"preserve_case\": False,\n",
    "            \"deaccent\": False,\n",
    "            \"reduce_len\": True,\n",
    "            \"strip_handles\": True,\n",
    "            \"alpha_only\": True,\n",
    "            \"stem\": False\n",
    "        }\n",
    "\n",
    "        tok_args.update(tokenize_args)\n",
    "\n",
    "        if self._elmo_embedder:\n",
    "            elmo_input = Input(shape=(self._max_len, self._elmo_dim), name=\"Elmo\")\n",
    "            inputs.append(elmo_input)\n",
    "        if self._embedder:\n",
    "            embedding_size = fasttext_model.get_word_vector(\"pepe\").shape[0]\n",
    "            emb_input = Input(shape=(self._max_len, embedding_size), name=\"Fasttext\")\n",
    "            inputs.append(emb_input)\n",
    "\n",
    "        if len(inputs) > 1:\n",
    "            x = Concatenate()(inputs)\n",
    "        else:\n",
    "            x = inputs[0]\n",
    "\n",
    "        recursive_args = {\n",
    "            \"return_sequences\": True\n",
    "        }\n",
    "\n",
    "        if l1_regularization > .0:\n",
    "            print(\"Using L1 regularization\")\n",
    "            recursive_args[\"kernel_regularizer\"]= regularizers.l2(l1_regularization)\n",
    "\n",
    "        rec_layer = recursive_class(\n",
    "            rnn_units, **recursive_args)\n",
    "\n",
    "        if bidirectional:\n",
    "            rec_layer = Bidirectional(rec_layer)\n",
    "        x = self.recursive_layer = rec_layer(x)\n",
    "\n",
    "\n",
    "        if pooling == 'max':\n",
    "            x = GlobalMaxPooling1D()(x)\n",
    "        elif pooling == 'avg':\n",
    "            x = GlobalAveragePooling1D()(x)\n",
    "        else:\n",
    "            raise ValueError(\"pooling should be 'max' or 'avg'\")\n",
    "\n",
    "        if dropout > 0:\n",
    "            x = Dropout(dropout)(x)\n",
    "\n",
    "        x = Dense(3, activation=None)(x)\n",
    "        output = Softmax()(x)\n",
    "        \n",
    "        self.display_name = \"{}{} with {} pooling consuming {}\".format(\n",
    "            'bi-' if bidirectional else '',\n",
    "            type(recursive_class(50)).__name__,\n",
    "            pooling,\n",
    "            \"+\".join([i.name for i in inputs]),\n",
    "        )\n",
    "        super().__init__(\n",
    "            inputs=inputs, outputs=[output],\n",
    "            tokenize_args=tok_args, **kwargs\n",
    "        )\n",
    "        \n",
    "    def preprocess_fit(self, X):\n",
    "        return\n",
    "\n",
    "    def _preprocess_tweet(self, tweet):\n",
    "        tokens = self._tokenizer.tokenize(tweet)\n",
    "\n",
    "        if len(tokens) >= self._max_len:\n",
    "            tokens = tokens[:self._max_len]\n",
    "        else:\n",
    "            tokens = tokens + [''] * (self._max_len - len(tokens))\n",
    "        return tokens\n",
    "\n",
    "    def _get_embeddings(self, toks):\n",
    "        return [self._embedder.get_word_vector(tok) for tok in toks]\n",
    "\n",
    "\n",
    "    def preprocess_transform(self, X):\n",
    "        X_tokenized = [self._preprocess_tweet(tweet) for tweet in X]\n",
    "\n",
    "        ret = []\n",
    "\n",
    "        if self._elmo_embedder:\n",
    "            \n",
    "            ret.append(np.array(self._elmo_embedder.sents2elmo(X_tokenized)))\n",
    "        if self._embedder:\n",
    "            fasttext_embeddings = np.array([\n",
    "                self._get_embeddings(tweet) for tweet in X_tokenized\n",
    "            ])\n",
    "            ret.append(fasttext_embeddings)\n",
    "        return ret\n"
   ]
  },
  {
   "cell_type": "code",
   "execution_count": 30,
   "metadata": {},
   "outputs": [
    {
     "data": {
      "text/plain": [
       "(array([3.000e+00, 3.200e+01, 3.020e+02, 5.490e+02, 1.460e+03, 2.152e+03,\n",
       "        1.845e+03, 3.412e+03, 3.829e+03, 2.330e+03, 2.708e+03, 1.337e+03,\n",
       "        4.930e+02, 1.100e+02, 4.600e+01, 1.700e+01, 4.000e+00, 2.000e+00,\n",
       "        0.000e+00, 1.000e+00]),\n",
       " array([ 1. ,  3.7,  6.4,  9.1, 11.8, 14.5, 17.2, 19.9, 22.6, 25.3, 28. ,\n",
       "        30.7, 33.4, 36.1, 38.8, 41.5, 44.2, 46.9, 49.6, 52.3, 55. ]),\n",
       " <a list of 20 Patch objects>)"
      ]
     },
     "execution_count": 30,
     "metadata": {},
     "output_type": "execute_result"
    },
    {
     "data": {
      "image/png": "[encoded data removed]",
      "text/plain": [
       "<Figure size 432x288 with 1 Axes>"
      ]
     },
     "metadata": {
      "needs_background": "light"
     },
     "output_type": "display_data"
    }
   ],
   "source": [
    "%matplotlib inline\n",
    "import matplotlib.pyplot as plt\n",
    "\n",
    "tokenizer = Tokenizer()\n",
    "\n",
    "plt.hist([len(tokenizer.tokenize(tw)) for tw in X_test], bins=20)"
   ]
  },
  {
   "cell_type": "code",
   "execution_count": 31,
   "metadata": {},
   "outputs": [],
   "source": [
    "from keras.optimizers import Adam\n",
    "from keras.layers import LSTM, GRU, CuDNNLSTM, CuDNNGRU\n",
    "\n",
    "max_length = 33\n",
    "\n",
    "\n",
    "params = {\n",
    "    \"recursive_class\": CuDNNGRU,\n",
    "    \"dropout\": 0.45,\n",
    "    \"rnn_units\": 1024, \n",
    "    \"dropout\": 0.5,\n",
    "    \"pooling\": 'avg',\n",
    "    \"tokenize_args\": {\n",
    "        \"preserve_case\": False,\n",
    "        \"deaccent\": False,\n",
    "        \"reduce_len\": True,\n",
    "        \"strip_handles\": True,\n",
    "        \"alpha_only\": False,\n",
    "        \"stem\": False\n",
    "    }\n",
    "}\n",
    "\n",
    "optimizer_args = {\n",
    "    \"lr\": 0.0007,\n",
    "    \"decay\": 0.01,\n",
    "}"
   ]
  },
  {
   "cell_type": "code",
   "execution_count": 37,
   "metadata": {},
   "outputs": [
    {
     "name": "stdout",
     "output_type": "stream",
     "text": [
      "__________________________________________________________________________________________________\n",
      "Layer (type)                    Output Shape         Param #     Connected to                     \n",
      "==================================================================================================\n",
      "Elmo (InputLayer)               (None, 33, 1024)     0                                            \n",
      "__________________________________________________________________________________________________\n",
      "Fasttext (InputLayer)           (None, 33, 300)      0                                            \n",
      "__________________________________________________________________________________________________\n",
      "concatenate_3 (Concatenate)     (None, 33, 1324)     0           Elmo[0][0]                       \n",
      "                                                                 Fasttext[0][0]                   \n",
      "__________________________________________________________________________________________________\n",
      "cu_dnngru_5 (CuDNNGRU)          (None, 33, 1024)     7219200     concatenate_3[0][0]              \n",
      "__________________________________________________________________________________________________\n",
      "global_average_pooling1d_3 (Glo (None, 1024)         0           cu_dnngru_5[0][0]                \n",
      "__________________________________________________________________________________________________\n",
      "dropout_3 (Dropout)             (None, 1024)         0           global_average_pooling1d_3[0][0] \n",
      "__________________________________________________________________________________________________\n",
      "dense_3 (Dense)                 (None, 3)            3075        dropout_3[0][0]                  \n",
      "__________________________________________________________________________________________________\n",
      "softmax_3 (Softmax)             (None, 3)            0           dense_3[0][0]                    \n",
      "==================================================================================================\n",
      "Total params: 7,222,275\n",
      "Trainable params: 7,222,275\n",
      "Non-trainable params: 0\n",
      "__________________________________________________________________________________________________\n",
      "None\n"
     ]
    },
    {
     "data": {
      "image/png": "[encoded data removed]",
      "text/plain": [
       "<IPython.core.display.Image object>"
      ]
     },
     "execution_count": 37,
     "metadata": {},
     "output_type": "execute_result"
    }
   ],
   "source": [
    "\n",
    "from keras.utils import plot_model\n",
    "from IPython.display import Image\n",
    "\n",
    "\n",
    "model = ElmoModel(\n",
    "    max_length, fasttext_model=fasttext_model,\n",
    "    elmo_embedder=elmo_embedder,\n",
    "    **params\n",
    ")\n",
    "\n",
    "print(model.summary())\n",
    "\n",
    "\n",
    "\n",
    "\n",
    "model.compile(loss='binary_crossentropy', \n",
    "              optimizer=Adam(**optimizer_args), \n",
    "              metrics=['accuracy'])\n",
    "\n",
    "plot_model(model, to_file='model.png')\n",
    "\n",
    "\n",
    "Image(filename='model.png') "
   ]
  },
  {
   "cell_type": "code",
   "execution_count": 38,
   "metadata": {},
   "outputs": [
    {
     "name": "stdout",
     "output_type": "stream",
     "text": [
      "Train on 6000 samples, validate on 1999 samples\n",
      "Epoch 1/100\n",
      "6000/6000 [==============================] - 5s 875us/step - loss: 0.5886 - acc: 0.6918 - val_loss: 0.5719 - val_acc: 0.7019\n",
      "\n",
      "Epoch 00001: val_acc improved from -inf to 0.70185, saving model to /tmp/gru_model_semeval_2016.h5\n",
      "Epoch 2/100\n",
      "6000/6000 [==============================] - 4s 606us/step - loss: 0.5389 - acc: 0.7276 - val_loss: 0.6441 - val_acc: 0.6545\n",
      "\n",
      "Epoch 00002: val_acc did not improve from 0.70185\n",
      "Epoch 3/100\n",
      "6000/6000 [==============================] - 4s 595us/step - loss: 0.5182 - acc: 0.7338 - val_loss: 0.5952 - val_acc: 0.6848\n",
      "\n",
      "Epoch 00003: val_acc did not improve from 0.70185\n",
      "Epoch 4/100\n",
      "6000/6000 [==============================] - 4s 591us/step - loss: 0.4953 - acc: 0.7531 - val_loss: 0.5881 - val_acc: 0.6935\n",
      "\n",
      "Epoch 00004: val_acc did not improve from 0.70185\n",
      "Epoch 5/100\n",
      "6000/6000 [==============================] - 4s 593us/step - loss: 0.4705 - acc: 0.7618 - val_loss: 0.5682 - val_acc: 0.7062\n",
      "\n",
      "Epoch 00005: val_acc improved from 0.70185 to 0.70619, saving model to /tmp/gru_model_semeval_2016.h5\n",
      "Epoch 6/100\n",
      "6000/6000 [==============================] - 4s 585us/step - loss: 0.4588 - acc: 0.7672 - val_loss: 0.5436 - val_acc: 0.7170\n",
      "\n",
      "Epoch 00006: val_acc improved from 0.70619 to 0.71703, saving model to /tmp/gru_model_semeval_2016.h5\n",
      "Epoch 7/100\n",
      "6000/6000 [==============================] - 4s 589us/step - loss: 0.4433 - acc: 0.7768 - val_loss: 0.6304 - val_acc: 0.6823\n",
      "\n",
      "Epoch 00007: val_acc did not improve from 0.71703\n",
      "Epoch 8/100\n",
      "6000/6000 [==============================] - 4s 588us/step - loss: 0.4298 - acc: 0.7848 - val_loss: 0.5379 - val_acc: 0.7199\n",
      "\n",
      "Epoch 00008: val_acc improved from 0.71703 to 0.71986, saving model to /tmp/gru_model_semeval_2016.h5\n",
      "Epoch 9/100\n",
      "6000/6000 [==============================] - 3s 576us/step - loss: 0.4149 - acc: 0.7922 - val_loss: 0.6113 - val_acc: 0.6928\n",
      "\n",
      "Epoch 00009: val_acc did not improve from 0.71986\n",
      "Epoch 10/100\n",
      "6000/6000 [==============================] - 4s 590us/step - loss: 0.4058 - acc: 0.7919 - val_loss: 0.5438 - val_acc: 0.7134\n",
      "\n",
      "Epoch 00010: val_acc did not improve from 0.71986\n",
      "Epoch 11/100\n",
      "6000/6000 [==============================] - 3s 581us/step - loss: 0.3810 - acc: 0.8091 - val_loss: 0.5861 - val_acc: 0.6972\n",
      "\n",
      "Epoch 00011: val_acc did not improve from 0.71986\n",
      "Epoch 12/100\n",
      "6000/6000 [==============================] - 4s 591us/step - loss: 0.3689 - acc: 0.8129 - val_loss: 0.6093 - val_acc: 0.7040\n",
      "\n",
      "Epoch 00012: val_acc did not improve from 0.71986\n",
      "Epoch 13/100\n",
      "6000/6000 [==============================] - 4s 585us/step - loss: 0.3456 - acc: 0.8250 - val_loss: 0.5991 - val_acc: 0.7057\n",
      "\n",
      "Epoch 00013: val_acc did not improve from 0.71986\n",
      "Epoch 14/100\n",
      "6000/6000 [==============================] - 3s 582us/step - loss: 0.3203 - acc: 0.8381 - val_loss: 0.6323 - val_acc: 0.7025\n",
      "\n",
      "Epoch 00014: val_acc did not improve from 0.71986\n",
      "Epoch 15/100\n",
      "6000/6000 [==============================] - 4s 588us/step - loss: 0.2989 - acc: 0.8454 - val_loss: 0.6386 - val_acc: 0.7019\n",
      "\n",
      "Epoch 00015: val_acc did not improve from 0.71986\n",
      "Epoch 16/100\n",
      "6000/6000 [==============================] - 4s 590us/step - loss: 0.2770 - acc: 0.8578 - val_loss: 0.6934 - val_acc: 0.6963\n",
      "\n",
      "Epoch 00016: val_acc did not improve from 0.71986\n",
      "Epoch 17/100\n",
      "6000/6000 [==============================] - 3s 576us/step - loss: 0.2706 - acc: 0.8609 - val_loss: 0.7204 - val_acc: 0.6928\n",
      "\n",
      "Epoch 00017: val_acc did not improve from 0.71986\n",
      "Epoch 18/100\n",
      "6000/6000 [==============================] - 3s 573us/step - loss: 0.2421 - acc: 0.8732 - val_loss: 0.7282 - val_acc: 0.6973\n",
      "\n",
      "Epoch 00018: val_acc did not improve from 0.71986\n"
     ]
    },
    {
     "data": {
      "text/plain": [
       "<keras.callbacks.History at 0x7fdfe4ae5b38>"
      ]
     },
     "execution_count": 38,
     "metadata": {},
     "output_type": "execute_result"
    }
   ],
   "source": [
    "from keras.callbacks import ModelCheckpoint, EarlyStopping\n",
    "\n",
    "checkpointer = ModelCheckpoint('/tmp/gru_model_semeval_2016.h5', save_best_only=True, monitor='val_acc', verbose=1)\n",
    "early_stopper = EarlyStopping(monitor='val_loss', patience=10)\n",
    "\n",
    "\n",
    "model.fit(X_train, y_train, \n",
    "          callbacks=[checkpointer, early_stopper],\n",
    "          validation_data=(X_dev, y_dev),\n",
    "          class_weight=class_weights,\n",
    "          epochs=100, verbose=1,\n",
    "          batch_size=64)\n"
   ]
  },
  {
   "cell_type": "markdown",
   "metadata": {},
   "source": [
    "## ELMo + fastText"
   ]
  },
  {
   "cell_type": "code",
   "execution_count": 39,
   "metadata": {},
   "outputs": [
    {
     "data": {
      "text/plain": [
       "0.5654808065141528"
      ]
     },
     "execution_count": 39,
     "metadata": {},
     "output_type": "execute_result"
    }
   ],
   "source": [
    "from sklearn.metrics import accuracy_score\n",
    "\n",
    "\n",
    "y_pred  = model.predict(X_test) >= 0.5\n",
    "\n",
    "accuracy_score(y_test, y_pred)"
   ]
  },
  {
   "cell_type": "code",
   "execution_count": 40,
   "metadata": {},
   "outputs": [],
   "source": [
    "model_elmo_ft = model"
   ]
  },
  {
   "cell_type": "markdown",
   "metadata": {},
   "source": [
    "## ELMo"
   ]
  },
  {
   "cell_type": "code",
   "execution_count": 42,
   "metadata": {},
   "outputs": [
    {
     "name": "stdout",
     "output_type": "stream",
     "text": [
      "_________________________________________________________________\n",
      "Layer (type)                 Output Shape              Param #   \n",
      "=================================================================\n",
      "Elmo (InputLayer)            (None, 33, 1024)          0         \n",
      "_________________________________________________________________\n",
      "cu_dnngru_9 (CuDNNGRU)       (None, 33, 1024)          6297600   \n",
      "_________________________________________________________________\n",
      "global_average_pooling1d_5 ( (None, 1024)              0         \n",
      "_________________________________________________________________\n",
      "dropout_5 (Dropout)          (None, 1024)              0         \n",
      "_________________________________________________________________\n",
      "dense_5 (Dense)              (None, 3)                 3075      \n",
      "_________________________________________________________________\n",
      "softmax_5 (Softmax)          (None, 3)                 0         \n",
      "=================================================================\n",
      "Total params: 6,300,675\n",
      "Trainable params: 6,300,675\n",
      "Non-trainable params: 0\n",
      "_________________________________________________________________\n",
      "None\n"
     ]
    },
    {
     "data": {
      "image/png": "[encoded data removed]",
      "text/plain": [
       "<IPython.core.display.Image object>"
      ]
     },
     "execution_count": 42,
     "metadata": {},
     "output_type": "execute_result"
    }
   ],
   "source": [
    "from keras.utils import plot_model\n",
    "from IPython.display import Image\n",
    "\n",
    "\n",
    "model = ElmoModel(\n",
    "    max_length, fasttext_model=None,\n",
    "    elmo_embedder=elmo_embedder,\n",
    "    **params\n",
    ")\n",
    "\n",
    "print(model.summary())\n",
    "\n",
    "\n",
    "\n",
    "\n",
    "model.compile(loss='binary_crossentropy', \n",
    "              optimizer=Adam(**optimizer_args), \n",
    "              metrics=['accuracy'])\n",
    "\n",
    "plot_model(model, to_file='model.png')\n",
    "\n",
    "\n",
    "Image(filename='model.png') "
   ]
  },
  {
   "cell_type": "code",
   "execution_count": 43,
   "metadata": {},
   "outputs": [
    {
     "name": "stdout",
     "output_type": "stream",
     "text": [
      "Train on 6000 samples, validate on 1999 samples\n",
      "Epoch 1/100\n",
      "6000/6000 [==============================] - 6s 1ms/step - loss: 0.6008 - acc: 0.6829 - val_loss: 0.5544 - val_acc: 0.7057\n",
      "\n",
      "Epoch 00001: val_acc improved from -inf to 0.70569, saving model to /tmp/gru_model_semeval_2016.h5\n",
      "Epoch 2/100\n",
      "6000/6000 [==============================] - 3s 513us/step - loss: 0.5555 - acc: 0.7142 - val_loss: 0.6185 - val_acc: 0.6762\n",
      "\n",
      "Epoch 00002: val_acc did not improve from 0.70569\n",
      "Epoch 3/100\n",
      "6000/6000 [==============================] - 3s 506us/step - loss: 0.5342 - acc: 0.7228 - val_loss: 0.5618 - val_acc: 0.6967\n",
      "\n",
      "Epoch 00003: val_acc did not improve from 0.70569\n",
      "Epoch 4/100\n",
      "6000/6000 [==============================] - 3s 507us/step - loss: 0.5121 - acc: 0.7385 - val_loss: 0.6003 - val_acc: 0.6852\n",
      "\n",
      "Epoch 00004: val_acc did not improve from 0.70569\n",
      "Epoch 5/100\n",
      "6000/6000 [==============================] - 3s 510us/step - loss: 0.5051 - acc: 0.7420 - val_loss: 0.5742 - val_acc: 0.6952\n",
      "\n",
      "Epoch 00005: val_acc did not improve from 0.70569\n",
      "Epoch 6/100\n",
      "6000/6000 [==============================] - 3s 508us/step - loss: 0.4915 - acc: 0.7474 - val_loss: 0.5465 - val_acc: 0.7040\n",
      "\n",
      "Epoch 00006: val_acc did not improve from 0.70569\n",
      "Epoch 7/100\n",
      "6000/6000 [==============================] - 3s 512us/step - loss: 0.4810 - acc: 0.7554 - val_loss: 0.6253 - val_acc: 0.6838\n",
      "\n",
      "Epoch 00007: val_acc did not improve from 0.70569\n",
      "Epoch 8/100\n",
      "6000/6000 [==============================] - 3s 515us/step - loss: 0.4685 - acc: 0.7611 - val_loss: 0.5505 - val_acc: 0.7074\n",
      "\n",
      "Epoch 00008: val_acc improved from 0.70569 to 0.70735, saving model to /tmp/gru_model_semeval_2016.h5\n",
      "Epoch 9/100\n",
      "6000/6000 [==============================] - 3s 493us/step - loss: 0.4618 - acc: 0.7655 - val_loss: 0.5854 - val_acc: 0.6827\n",
      "\n",
      "Epoch 00009: val_acc did not improve from 0.70735\n",
      "Epoch 10/100\n",
      "6000/6000 [==============================] - 3s 508us/step - loss: 0.4459 - acc: 0.7704 - val_loss: 0.5685 - val_acc: 0.6950\n",
      "\n",
      "Epoch 00010: val_acc did not improve from 0.70735\n",
      "Epoch 11/100\n",
      "6000/6000 [==============================] - 3s 518us/step - loss: 0.4316 - acc: 0.7793 - val_loss: 0.5696 - val_acc: 0.7020\n",
      "\n",
      "Epoch 00011: val_acc did not improve from 0.70735\n",
      "Epoch 12/100\n",
      "6000/6000 [==============================] - 3s 508us/step - loss: 0.4186 - acc: 0.7851 - val_loss: 0.5622 - val_acc: 0.7007\n",
      "\n",
      "Epoch 00012: val_acc did not improve from 0.70735\n",
      "Epoch 13/100\n",
      "6000/6000 [==============================] - 3s 515us/step - loss: 0.3968 - acc: 0.7952 - val_loss: 0.5891 - val_acc: 0.6928\n",
      "\n",
      "Epoch 00013: val_acc did not improve from 0.70735\n",
      "Epoch 14/100\n",
      "6000/6000 [==============================] - 3s 509us/step - loss: 0.3858 - acc: 0.8052 - val_loss: 0.5938 - val_acc: 0.6982\n",
      "\n",
      "Epoch 00014: val_acc did not improve from 0.70735\n",
      "Epoch 15/100\n",
      "6000/6000 [==============================] - 3s 513us/step - loss: 0.3718 - acc: 0.8107 - val_loss: 0.6190 - val_acc: 0.6845\n",
      "\n",
      "Epoch 00015: val_acc did not improve from 0.70735\n",
      "Epoch 16/100\n",
      "6000/6000 [==============================] - 3s 507us/step - loss: 0.3517 - acc: 0.8144 - val_loss: 0.6479 - val_acc: 0.6950\n",
      "\n",
      "Epoch 00016: val_acc did not improve from 0.70735\n"
     ]
    },
    {
     "data": {
      "text/plain": [
       "<keras.callbacks.History at 0x7fdfde2ee6d8>"
      ]
     },
     "execution_count": 43,
     "metadata": {},
     "output_type": "execute_result"
    }
   ],
   "source": [
    "from keras.callbacks import ModelCheckpoint, EarlyStopping\n",
    "\n",
    "checkpointer = ModelCheckpoint('/tmp/gru_model_semeval_2016.h5', save_best_only=True, monitor='val_acc', verbose=1)\n",
    "early_stopper = EarlyStopping(monitor='val_loss', patience=10)\n",
    "\n",
    "\n",
    "model.fit(X_train, y_train, \n",
    "          callbacks=[checkpointer, early_stopper],\n",
    "          validation_data=(X_dev, y_dev),\n",
    "          class_weight=class_weights,\n",
    "          epochs=100, verbose=1,\n",
    "          batch_size=64)\n"
   ]
  },
  {
   "cell_type": "code",
   "execution_count": 44,
   "metadata": {},
   "outputs": [
    {
     "data": {
      "text/plain": [
       "0.47053121364870104"
      ]
     },
     "execution_count": 44,
     "metadata": {},
     "output_type": "execute_result"
    }
   ],
   "source": [
    "from sklearn.metrics import accuracy_score\n",
    "\n",
    "y_pred  = model.predict(X_test) >= 0.5\n",
    "\n",
    "accuracy_score(y_test, y_pred)"
   ]
  },
  {
   "cell_type": "code",
   "execution_count": 45,
   "metadata": {},
   "outputs": [],
   "source": [
    "model_elmo = model"
   ]
  },
  {
   "cell_type": "markdown",
   "metadata": {},
   "source": [
    "## fastText"
   ]
  },
  {
   "cell_type": "code",
   "execution_count": 46,
   "metadata": {},
   "outputs": [
    {
     "name": "stdout",
     "output_type": "stream",
     "text": [
      "_________________________________________________________________\n",
      "Layer (type)                 Output Shape              Param #   \n",
      "=================================================================\n",
      "Fasttext (InputLayer)        (None, 33, 300)           0         \n",
      "_________________________________________________________________\n",
      "cu_dnngru_11 (CuDNNGRU)      (None, 33, 1024)          4073472   \n",
      "_________________________________________________________________\n",
      "global_average_pooling1d_6 ( (None, 1024)              0         \n",
      "_________________________________________________________________\n",
      "dropout_6 (Dropout)          (None, 1024)              0         \n",
      "_________________________________________________________________\n",
      "dense_6 (Dense)              (None, 3)                 3075      \n",
      "_________________________________________________________________\n",
      "softmax_6 (Softmax)          (None, 3)                 0         \n",
      "=================================================================\n",
      "Total params: 4,076,547\n",
      "Trainable params: 4,076,547\n",
      "Non-trainable params: 0\n",
      "_________________________________________________________________\n",
      "None\n"
     ]
    },
    {
     "data": {
      "image/png": "[encoded data removed]",
      "text/plain": [
       "<IPython.core.display.Image object>"
      ]
     },
     "execution_count": 46,
     "metadata": {},
     "output_type": "execute_result"
    }
   ],
   "source": [
    "from keras.utils import plot_model\n",
    "from IPython.display import Image\n",
    "\n",
    "\n",
    "model = ElmoModel(\n",
    "    max_length, fasttext_model=fasttext_model,\n",
    "    elmo_embedder=None,\n",
    "    **params\n",
    ")\n",
    "\n",
    "print(model.summary())\n",
    "\n",
    "\n",
    "\n",
    "\n",
    "model.compile(loss='binary_crossentropy', \n",
    "              optimizer=Adam(**optimizer_args), \n",
    "              metrics=['accuracy'])\n",
    "\n",
    "plot_model(model, to_file='model.png')\n",
    "\n",
    "\n",
    "Image(filename='model.png') "
   ]
  },
  {
   "cell_type": "code",
   "execution_count": 47,
   "metadata": {},
   "outputs": [
    {
     "name": "stdout",
     "output_type": "stream",
     "text": [
      "Train on 6000 samples, validate on 1999 samples\n",
      "Epoch 1/100\n",
      "6000/6000 [==============================] - 4s 698us/step - loss: 0.5947 - acc: 0.6824 - val_loss: 0.5746 - val_acc: 0.6922\n",
      "\n",
      "Epoch 00001: val_acc improved from -inf to 0.69218, saving model to /tmp/gru_model_semeval_2016.h5\n",
      "Epoch 2/100\n",
      "6000/6000 [==============================] - 2s 350us/step - loss: 0.5451 - acc: 0.7143 - val_loss: 0.5396 - val_acc: 0.7180\n",
      "\n",
      "Epoch 00002: val_acc improved from 0.69218 to 0.71803, saving model to /tmp/gru_model_semeval_2016.h5\n",
      "Epoch 3/100\n",
      "6000/6000 [==============================] - 2s 337us/step - loss: 0.5260 - acc: 0.7291 - val_loss: 0.5493 - val_acc: 0.7089\n",
      "\n",
      "Epoch 00003: val_acc did not improve from 0.71803\n",
      "Epoch 4/100\n",
      "6000/6000 [==============================] - 2s 337us/step - loss: 0.5113 - acc: 0.7393 - val_loss: 0.5642 - val_acc: 0.7037\n",
      "\n",
      "Epoch 00004: val_acc did not improve from 0.71803\n",
      "Epoch 5/100\n",
      "6000/6000 [==============================] - 2s 347us/step - loss: 0.5017 - acc: 0.7440 - val_loss: 0.5498 - val_acc: 0.7130\n",
      "\n",
      "Epoch 00005: val_acc did not improve from 0.71803\n",
      "Epoch 6/100\n",
      "6000/6000 [==============================] - 2s 339us/step - loss: 0.4950 - acc: 0.7445 - val_loss: 0.5377 - val_acc: 0.7214\n",
      "\n",
      "Epoch 00006: val_acc improved from 0.71803 to 0.72136, saving model to /tmp/gru_model_semeval_2016.h5\n",
      "Epoch 7/100\n",
      "6000/6000 [==============================] - 2s 339us/step - loss: 0.4864 - acc: 0.7506 - val_loss: 0.5693 - val_acc: 0.6988\n",
      "\n",
      "Epoch 00007: val_acc did not improve from 0.72136\n",
      "Epoch 8/100\n",
      "6000/6000 [==============================] - 2s 345us/step - loss: 0.4778 - acc: 0.7564 - val_loss: 0.5674 - val_acc: 0.7087\n",
      "\n",
      "Epoch 00008: val_acc did not improve from 0.72136\n",
      "Epoch 9/100\n",
      "6000/6000 [==============================] - 2s 345us/step - loss: 0.4738 - acc: 0.7565 - val_loss: 0.5752 - val_acc: 0.7042\n",
      "\n",
      "Epoch 00009: val_acc did not improve from 0.72136\n",
      "Epoch 10/100\n",
      "6000/6000 [==============================] - 2s 339us/step - loss: 0.4717 - acc: 0.7624 - val_loss: 0.5715 - val_acc: 0.7015\n",
      "\n",
      "Epoch 00010: val_acc did not improve from 0.72136\n",
      "Epoch 11/100\n",
      "6000/6000 [==============================] - 2s 339us/step - loss: 0.4664 - acc: 0.7634 - val_loss: 0.5691 - val_acc: 0.7042\n",
      "\n",
      "Epoch 00011: val_acc did not improve from 0.72136\n"
     ]
    },
    {
     "data": {
      "text/plain": [
       "<keras.callbacks.History at 0x7fdfe522a630>"
      ]
     },
     "execution_count": 47,
     "metadata": {},
     "output_type": "execute_result"
    }
   ],
   "source": [
    "from keras.callbacks import ModelCheckpoint, EarlyStopping\n",
    "\n",
    "checkpointer = ModelCheckpoint('/tmp/gru_model_semeval_2016.h5', save_best_only=True, monitor='val_acc', verbose=1)\n",
    "early_stopper = EarlyStopping(monitor='val_loss', patience=5)\n",
    "\n",
    "\n",
    "model.fit(X_train, y_train, \n",
    "          callbacks=[checkpointer, early_stopper],\n",
    "          validation_data=(X_dev, y_dev), \n",
    "          class_weight=class_weights,\n",
    "          epochs=100, verbose=1,\n",
    "          batch_size=64)\n"
   ]
  },
  {
   "cell_type": "code",
   "execution_count": 48,
   "metadata": {},
   "outputs": [
    {
     "data": {
      "text/plain": [
       "0.46713842574641334"
      ]
     },
     "execution_count": 48,
     "metadata": {},
     "output_type": "execute_result"
    }
   ],
   "source": [
    "y_pred  = model.predict(X_test) >= 0.5\n",
    "\n",
    "accuracy_score(y_test, y_pred)"
   ]
  },
  {
   "cell_type": "code",
   "execution_count": 49,
   "metadata": {},
   "outputs": [],
   "source": [
    "model_ft = model"
   ]
  },
  {
   "cell_type": "markdown",
   "metadata": {},
   "source": [
    "## SHAP\n",
    "\n",
    "Vamos a ver si podemos hacer algo de explicabilidad..."
   ]
  },
  {
   "cell_type": "code",
   "execution_count": 54,
   "metadata": {},
   "outputs": [
    {
     "ename": "ValueError",
     "evalue": "Unknown layer: ElmoModel",
     "output_type": "error",
     "traceback": [
      "\u001b[0;31m---------------------------------------------------------------------------\u001b[0m",
      "\u001b[0;31mValueError\u001b[0m                                Traceback (most recent call last)",
      "\u001b[0;32m<ipython-input-54-0b8d768c71d2>\u001b[0m in \u001b[0;36m<module>\u001b[0;34m\u001b[0m\n\u001b[1;32m      4\u001b[0m \u001b[0mmodel_elmo_ft\u001b[0m\u001b[0;34m.\u001b[0m\u001b[0msave\u001b[0m\u001b[0;34m(\u001b[0m\u001b[0mpath\u001b[0m\u001b[0;34m)\u001b[0m\u001b[0;34m\u001b[0m\u001b[0m\n\u001b[1;32m      5\u001b[0m \u001b[0;34m\u001b[0m\u001b[0m\n\u001b[0;32m----> 6\u001b[0;31m \u001b[0mmodel\u001b[0m \u001b[0;34m=\u001b[0m \u001b[0mkeras\u001b[0m\u001b[0;34m.\u001b[0m\u001b[0mmodels\u001b[0m\u001b[0;34m.\u001b[0m\u001b[0mload_model\u001b[0m\u001b[0;34m(\u001b[0m\u001b[0mpath\u001b[0m\u001b[0;34m)\u001b[0m\u001b[0;34m\u001b[0m\u001b[0m\n\u001b[0m\u001b[1;32m      7\u001b[0m \u001b[0;34m\u001b[0m\u001b[0m\n\u001b[1;32m      8\u001b[0m \u001b[0;34m\u001b[0m\u001b[0m\n",
      "\u001b[0;32m~/.pyenv/versions/3.6.5/envs/hateval/lib/python3.6/site-packages/keras/engine/saving.py\u001b[0m in \u001b[0;36mload_model\u001b[0;34m(filepath, custom_objects, compile)\u001b[0m\n\u001b[1;32m    417\u001b[0m     \u001b[0mf\u001b[0m \u001b[0;34m=\u001b[0m \u001b[0mh5dict\u001b[0m\u001b[0;34m(\u001b[0m\u001b[0mfilepath\u001b[0m\u001b[0;34m,\u001b[0m \u001b[0;34m'r'\u001b[0m\u001b[0;34m)\u001b[0m\u001b[0;34m\u001b[0m\u001b[0m\n\u001b[1;32m    418\u001b[0m     \u001b[0;32mtry\u001b[0m\u001b[0;34m:\u001b[0m\u001b[0;34m\u001b[0m\u001b[0m\n\u001b[0;32m--> 419\u001b[0;31m         \u001b[0mmodel\u001b[0m \u001b[0;34m=\u001b[0m \u001b[0m_deserialize_model\u001b[0m\u001b[0;34m(\u001b[0m\u001b[0mf\u001b[0m\u001b[0;34m,\u001b[0m \u001b[0mcustom_objects\u001b[0m\u001b[0;34m,\u001b[0m \u001b[0mcompile\u001b[0m\u001b[0;34m)\u001b[0m\u001b[0;34m\u001b[0m\u001b[0m\n\u001b[0m\u001b[1;32m    420\u001b[0m     \u001b[0;32mfinally\u001b[0m\u001b[0;34m:\u001b[0m\u001b[0;34m\u001b[0m\u001b[0m\n\u001b[1;32m    421\u001b[0m         \u001b[0;32mif\u001b[0m \u001b[0mopened_new_file\u001b[0m\u001b[0;34m:\u001b[0m\u001b[0;34m\u001b[0m\u001b[0m\n",
      "\u001b[0;32m~/.pyenv/versions/3.6.5/envs/hateval/lib/python3.6/site-packages/keras/engine/saving.py\u001b[0m in \u001b[0;36m_deserialize_model\u001b[0;34m(f, custom_objects, compile)\u001b[0m\n\u001b[1;32m    223\u001b[0m         \u001b[0;32mraise\u001b[0m \u001b[0mValueError\u001b[0m\u001b[0;34m(\u001b[0m\u001b[0;34m'No model found in config.'\u001b[0m\u001b[0;34m)\u001b[0m\u001b[0;34m\u001b[0m\u001b[0m\n\u001b[1;32m    224\u001b[0m     \u001b[0mmodel_config\u001b[0m \u001b[0;34m=\u001b[0m \u001b[0mjson\u001b[0m\u001b[0;34m.\u001b[0m\u001b[0mloads\u001b[0m\u001b[0;34m(\u001b[0m\u001b[0mmodel_config\u001b[0m\u001b[0;34m.\u001b[0m\u001b[0mdecode\u001b[0m\u001b[0;34m(\u001b[0m\u001b[0;34m'utf-8'\u001b[0m\u001b[0;34m)\u001b[0m\u001b[0;34m)\u001b[0m\u001b[0;34m\u001b[0m\u001b[0m\n\u001b[0;32m--> 225\u001b[0;31m     \u001b[0mmodel\u001b[0m \u001b[0;34m=\u001b[0m \u001b[0mmodel_from_config\u001b[0m\u001b[0;34m(\u001b[0m\u001b[0mmodel_config\u001b[0m\u001b[0;34m,\u001b[0m \u001b[0mcustom_objects\u001b[0m\u001b[0;34m=\u001b[0m\u001b[0mcustom_objects\u001b[0m\u001b[0;34m)\u001b[0m\u001b[0;34m\u001b[0m\u001b[0m\n\u001b[0m\u001b[1;32m    226\u001b[0m     \u001b[0mmodel_weights_group\u001b[0m \u001b[0;34m=\u001b[0m \u001b[0mf\u001b[0m\u001b[0;34m[\u001b[0m\u001b[0;34m'model_weights'\u001b[0m\u001b[0;34m]\u001b[0m\u001b[0;34m\u001b[0m\u001b[0m\n\u001b[1;32m    227\u001b[0m \u001b[0;34m\u001b[0m\u001b[0m\n",
      "\u001b[0;32m~/.pyenv/versions/3.6.5/envs/hateval/lib/python3.6/site-packages/keras/engine/saving.py\u001b[0m in \u001b[0;36mmodel_from_config\u001b[0;34m(config, custom_objects)\u001b[0m\n\u001b[1;32m    456\u001b[0m                         '`Sequential.from_config(config)`?')\n\u001b[1;32m    457\u001b[0m     \u001b[0;32mfrom\u001b[0m \u001b[0;34m.\u001b[0m\u001b[0;34m.\u001b[0m\u001b[0mlayers\u001b[0m \u001b[0;32mimport\u001b[0m \u001b[0mdeserialize\u001b[0m\u001b[0;34m\u001b[0m\u001b[0m\n\u001b[0;32m--> 458\u001b[0;31m     \u001b[0;32mreturn\u001b[0m \u001b[0mdeserialize\u001b[0m\u001b[0;34m(\u001b[0m\u001b[0mconfig\u001b[0m\u001b[0;34m,\u001b[0m \u001b[0mcustom_objects\u001b[0m\u001b[0;34m=\u001b[0m\u001b[0mcustom_objects\u001b[0m\u001b[0;34m)\u001b[0m\u001b[0;34m\u001b[0m\u001b[0m\n\u001b[0m\u001b[1;32m    459\u001b[0m \u001b[0;34m\u001b[0m\u001b[0m\n\u001b[1;32m    460\u001b[0m \u001b[0;34m\u001b[0m\u001b[0m\n",
      "\u001b[0;32m~/.pyenv/versions/3.6.5/envs/hateval/lib/python3.6/site-packages/keras/layers/__init__.py\u001b[0m in \u001b[0;36mdeserialize\u001b[0;34m(config, custom_objects)\u001b[0m\n\u001b[1;32m     53\u001b[0m                                     \u001b[0mmodule_objects\u001b[0m\u001b[0;34m=\u001b[0m\u001b[0mglobs\u001b[0m\u001b[0;34m,\u001b[0m\u001b[0;34m\u001b[0m\u001b[0m\n\u001b[1;32m     54\u001b[0m                                     \u001b[0mcustom_objects\u001b[0m\u001b[0;34m=\u001b[0m\u001b[0mcustom_objects\u001b[0m\u001b[0;34m,\u001b[0m\u001b[0;34m\u001b[0m\u001b[0m\n\u001b[0;32m---> 55\u001b[0;31m                                     printable_module_name='layer')\n\u001b[0m",
      "\u001b[0;32m~/.pyenv/versions/3.6.5/envs/hateval/lib/python3.6/site-packages/keras/utils/generic_utils.py\u001b[0m in \u001b[0;36mdeserialize_keras_object\u001b[0;34m(identifier, module_objects, custom_objects, printable_module_name)\u001b[0m\n\u001b[1;32m    136\u001b[0m             \u001b[0;32mif\u001b[0m \u001b[0mcls\u001b[0m \u001b[0;32mis\u001b[0m \u001b[0;32mNone\u001b[0m\u001b[0;34m:\u001b[0m\u001b[0;34m\u001b[0m\u001b[0m\n\u001b[1;32m    137\u001b[0m                 raise ValueError('Unknown ' + printable_module_name +\n\u001b[0;32m--> 138\u001b[0;31m                                  ': ' + class_name)\n\u001b[0m\u001b[1;32m    139\u001b[0m         \u001b[0;32mif\u001b[0m \u001b[0mhasattr\u001b[0m\u001b[0;34m(\u001b[0m\u001b[0mcls\u001b[0m\u001b[0;34m,\u001b[0m \u001b[0;34m'from_config'\u001b[0m\u001b[0;34m)\u001b[0m\u001b[0;34m:\u001b[0m\u001b[0;34m\u001b[0m\u001b[0m\n\u001b[1;32m    140\u001b[0m             \u001b[0mcustom_objects\u001b[0m \u001b[0;34m=\u001b[0m \u001b[0mcustom_objects\u001b[0m \u001b[0;32mor\u001b[0m \u001b[0;34m{\u001b[0m\u001b[0;34m}\u001b[0m\u001b[0;34m\u001b[0m\u001b[0m\n",
      "\u001b[0;31mValueError\u001b[0m: Unknown layer: ElmoModel"
     ]
    }
   ],
   "source": [
    "import shap\n",
    "\n",
    "path = \"elmo_ft.h5\"\n",
    "model_elmo_ft.save(path)\n",
    "\n",
    "model = keras.models.load_model(path)\n",
    "\n",
    "\n",
    "# we use the first 100 training examples as our background dataset to integrate over\n",
    "#explainer = shap.DeepExplainer(model, X_train[:100])"
   ]
  },
  {
   "cell_type": "code",
   "execution_count": null,
   "metadata": {},
   "outputs": [],
   "source": []
  }
 ],
 "metadata": {
  "kernelspec": {
   "display_name": "Python 3",
   "language": "python",
   "name": "python3"
  },
  "language_info": {
   "codemirror_mode": {
    "name": "ipython",
    "version": 3
   },
   "file_extension": ".py",
   "mimetype": "text/x-python",
   "name": "python",
   "nbconvert_exporter": "python",
   "pygments_lexer": "ipython3",
   "version": "3.6.5"
  }
 },
 "nbformat": 4,
 "nbformat_minor": 4
}
