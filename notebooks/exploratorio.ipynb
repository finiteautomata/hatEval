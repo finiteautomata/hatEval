{
 "cells": [
  {
   "cell_type": "markdown",
   "metadata": {},
   "source": [
    "# Exploración de datos (Trial)\n",
    "\n",
    "En esta notebook, veamos qué tienen los datos de trial"
   ]
  },
  {
   "cell_type": "code",
   "execution_count": 1,
   "metadata": {},
   "outputs": [
    {
     "name": "stdout",
     "output_type": "stream",
     "text": [
      "(100, 4)\n"
     ]
    },
    {
     "data": {
      "text/html": [
       "<div>\n",
       "<style scoped>\n",
       "    .dataframe tbody tr th:only-of-type {\n",
       "        vertical-align: middle;\n",
       "    }\n",
       "\n",
       "    .dataframe tbody tr th {\n",
       "        vertical-align: top;\n",
       "    }\n",
       "\n",
       "    .dataframe thead th {\n",
       "        text-align: right;\n",
       "    }\n",
       "</style>\n",
       "<table border=\"1\" class=\"dataframe\">\n",
       "  <thead>\n",
       "    <tr style=\"text-align: right;\">\n",
       "      <th></th>\n",
       "      <th>text</th>\n",
       "      <th>HS</th>\n",
       "      <th>TR</th>\n",
       "      <th>AG</th>\n",
       "    </tr>\n",
       "    <tr>\n",
       "      <th>id</th>\n",
       "      <th></th>\n",
       "      <th></th>\n",
       "      <th></th>\n",
       "      <th></th>\n",
       "    </tr>\n",
       "  </thead>\n",
       "  <tbody>\n",
       "    <tr>\n",
       "      <th>101</th>\n",
       "      <td>@ian_delaCalva @IrantzuVarela @pikaramagazine ...</td>\n",
       "      <td>0</td>\n",
       "      <td>0</td>\n",
       "      <td>0</td>\n",
       "    </tr>\n",
       "    <tr>\n",
       "      <th>102</th>\n",
       "      <td>NINGUNA MUJER ES 'PUTA' ❗❗❗ https://t.co/cV0CQ...</td>\n",
       "      <td>0</td>\n",
       "      <td>0</td>\n",
       "      <td>0</td>\n",
       "    </tr>\n",
       "    <tr>\n",
       "      <th>103</th>\n",
       "      <td>Editar, además de complicado, es lo que hace d...</td>\n",
       "      <td>0</td>\n",
       "      <td>0</td>\n",
       "      <td>0</td>\n",
       "    </tr>\n",
       "    <tr>\n",
       "      <th>104</th>\n",
       "      <td>Bien joder una puta alegría!! Te lo mereces pe...</td>\n",
       "      <td>0</td>\n",
       "      <td>0</td>\n",
       "      <td>0</td>\n",
       "    </tr>\n",
       "    <tr>\n",
       "      <th>105</th>\n",
       "      <td>Todo política... no se levanta la sesión y est...</td>\n",
       "      <td>0</td>\n",
       "      <td>0</td>\n",
       "      <td>0</td>\n",
       "    </tr>\n",
       "    <tr>\n",
       "      <th>106</th>\n",
       "      <td>Casuso callate de una puta vez https://t.co/tW...</td>\n",
       "      <td>0</td>\n",
       "      <td>0</td>\n",
       "      <td>0</td>\n",
       "    </tr>\n",
       "    <tr>\n",
       "      <th>107</th>\n",
       "      <td>@BedMM @NayBetania Tú eres la culpable, perra &gt;:v</td>\n",
       "      <td>1</td>\n",
       "      <td>1</td>\n",
       "      <td>1</td>\n",
       "    </tr>\n",
       "    <tr>\n",
       "      <th>108</th>\n",
       "      <td>Yo no puedo creer que las propias mujeres natu...</td>\n",
       "      <td>0</td>\n",
       "      <td>0</td>\n",
       "      <td>0</td>\n",
       "    </tr>\n",
       "    <tr>\n",
       "      <th>109</th>\n",
       "      <td>@DalasReview @jk_rowling Hijo de puta muerete ...</td>\n",
       "      <td>0</td>\n",
       "      <td>0</td>\n",
       "      <td>0</td>\n",
       "    </tr>\n",
       "    <tr>\n",
       "      <th>110</th>\n",
       "      <td>@Wachit0 @100Akshat @_Midoriyaa_ @NeohSJ La id...</td>\n",
       "      <td>0</td>\n",
       "      <td>0</td>\n",
       "      <td>0</td>\n",
       "    </tr>\n",
       "  </tbody>\n",
       "</table>\n",
       "</div>"
      ],
      "text/plain": [
       "                                                  text  HS  TR  AG\n",
       "id                                                                \n",
       "101  @ian_delaCalva @IrantzuVarela @pikaramagazine ...   0   0   0\n",
       "102  NINGUNA MUJER ES 'PUTA' ❗❗❗ https://t.co/cV0CQ...   0   0   0\n",
       "103  Editar, además de complicado, es lo que hace d...   0   0   0\n",
       "104  Bien joder una puta alegría!! Te lo mereces pe...   0   0   0\n",
       "105  Todo política... no se levanta la sesión y est...   0   0   0\n",
       "106  Casuso callate de una puta vez https://t.co/tW...   0   0   0\n",
       "107  @BedMM @NayBetania Tú eres la culpable, perra >:v   1   1   1\n",
       "108  Yo no puedo creer que las propias mujeres natu...   0   0   0\n",
       "109  @DalasReview @jk_rowling Hijo de puta muerete ...   0   0   0\n",
       "110  @Wachit0 @100Akshat @_Midoriyaa_ @NeohSJ La id...   0   0   0"
      ]
     },
     "execution_count": 1,
     "metadata": {},
     "output_type": "execute_result"
    }
   ],
   "source": [
    "import pandas as pd\n",
    "\n",
    "df = pd.read_table(\"../data/trial/trial_es.tsv\", index_col=\"id\")\n",
    "print(df.shape)\n",
    "df[:10]"
   ]
  },
  {
   "cell_type": "markdown",
   "metadata": {},
   "source": [
    "Qué significan las columnas?\n",
    "\n",
    "- `HS`: Si hay discurso de odio, tanto a mujeres o inmigrantes\n",
    "- `TR`: Si es 1 `HS` ¿está dirigido a un grupo genérico (0) o a un individuo en particular (1)?\n",
    "- `AG`: Si es 1 `HS` ¿es agresivo o no el tweet?\n",
    "\n",
    "¿Cuál es la correlación entre HS y AG?\n"
   ]
  },
  {
   "cell_type": "code",
   "execution_count": 2,
   "metadata": {},
   "outputs": [
    {
     "data": {
      "text/plain": [
       "0.623609564462325"
      ]
     },
     "execution_count": 2,
     "metadata": {},
     "output_type": "execute_result"
    }
   ],
   "source": [
    "df['HS'].corr(df['AG'])"
   ]
  },
  {
   "cell_type": "markdown",
   "metadata": {},
   "source": [
    "Ok, bastante alta. ¿Cuándo un Tweet tiene Hate Speech y no es Agresivo?"
   ]
  },
  {
   "cell_type": "code",
   "execution_count": 3,
   "metadata": {},
   "outputs": [
    {
     "name": "stdout",
     "output_type": "stream",
     "text": [
      "*** Decenas de víctimas en ataques de la coalición árabe contra Al Hudaida https://t.co/iiacL0qfmw\n",
      "*** Qué es un partido doble mixto de tenis? Un single de hombres con obstáculos.\n",
      "*** A buenas horas, mangas verdes. Tenemos al líder del partido con más fuerza en el Congreso deshumanizando a los inmigrantes con cifras inventadas y luego haciéndose fotos con ellos. Pero no, aquí no habrá populismo:) https://t.co/57cuoVsTMx\n",
      "*** El problema de algunos no es “la xenofobia\" sino que ”la aporofobia”  (rechazo al pobre).  A nadie le molesta el inmigrante millonario como Paulman sino el haitiano pobre que necesita ayuda.\n",
      "*** Hay racismo cuando no creen que soy su hermana porque soy güera @unpentagono @medicenlore https://t.co/9iHeSpHOIi\n",
      "*** En que se parece una mujer a un cientifico? En que al cientifico le pasan cosas por la cabeza, y a la mujer le pasan cabezas por la cosa\n",
      "*** ¿Por qué una mujer no puede ser guapa e inteligente? Porque sería un hombre.\n",
      "*** Hay que pasarle al canciller Moncada una bolsa de gabacha, para cuando salga de la sesión, se tape la cara 😂😂😂\n",
      "*** Ada Colau no aprende. La alcaldesa de la Ciudad Condal quiere más inmigrantes subsaharianos en Barcelona. La podemita, que no ha condenado el ataque de los manteros al turista, solamente habla para exigir que lleguen más inmigrantes ilegales. https://t.co/kkNRjXWIZK\n",
      "*** Ains... ya no queda buen machismo como el de antes...\n",
      "*** ¿Porque se dice que la cerveza tiene hormonas femeninas? Porque cuando la bebes conduces mal, dices tonterias y nadie te hace caso.\n",
      "*** Gracias Twitter por enseñarme que el truco para ser famosa es estar bien buena y ser bien puta\n",
      "*** '¿La mitad de sueldo por ser mujer?' http://t.co/HXOVOaiOuj Así es, porque aguantarlas cuesta el doble. #TomaDosTazas\n",
      "*** -Veis chicas? Nunca hay que tener piedad con estas putas. Hay que educarlas en todo momento y enseñarles para lo que sirven: para nuestra diversión. Le voy a reventar su culo de puta mientras te lo come, y por su bien, espero que se esfuerce o no podrá se\n",
      "*** #politivida Si no te gusta, puedes cambiarlo. DESTINO SUDACA   https://t.co/2tpPakccSk\n",
      "*** Que tierra dejamos a nuestras generaciones. El planeta es de todos; no solo de unos pocos. Ahora ya me estan quitando el aire para respirar. No. Aquí o nos salvamos o morimos todos¡ incluídos refugiados pateras-etc Manda Huevos.  El calor me afecta al cerebro pk es inteligente\n",
      "*** Llevan razón, no hay ningún motivo para estar en alerta por terrorismo. Los migrantes,inmigrantes o como quieran llamarlos q están estando en España es la religión del amor, son educados y cívicos. Yo ya puestos os quitaría las armas y os daría flores o piruletas para defenderos https://t.co/fVEb0Kiyul\n",
      "*** ¿Cuál es la peor desgracia para una mujer? Parir un varón, porque después de tener un cerebro dentro durante 9 meses, van y se lo sacan.\n",
      "*** - Los catalanes somos españoles. Y si no te gusta te jodes, porque como catalán serás español toda tu vida.  + Això és com a mínim discutible. Del que no hi ha dubte és que, per molta bandera espanyola que portis, per a gran part d'espanya tu sempre seràs \"un puto catalufo\" 🤷\n",
      "*** Muchísimas gracias!!! Además, con la inmigración de los africanos, nos vais a llenar las calles de heroína y comercio ilegal... Gracias de todo corazón! Además de acortar nuestras listas de espera en la sanidad, gracias a la sanidad pública universal. 👍 https://t.co/7rm0mAai4C https://t.co/gY6bTH0MG3\n"
     ]
    }
   ],
   "source": [
    "pd.options.display.max_colwidth = 100\n",
    "\n",
    "for row in df[(df['HS'] == 1) & (df['AG'] == 0)].sample(n=20).iterrows():\n",
    "    print(\"***\", row[1].text)"
   ]
  },
  {
   "cell_type": "markdown",
   "metadata": {},
   "source": [
    "## Datos Dev\n",
    "\n",
    "Veamos qué pinta tienen los dev en Español"
   ]
  },
  {
   "cell_type": "code",
   "execution_count": 4,
   "metadata": {},
   "outputs": [
    {
     "name": "stdout",
     "output_type": "stream",
     "text": [
      "\u001b[0m\u001b[01;34men\u001b[0m/  \u001b[01;34mes\u001b[0m/  \u001b[01;34mtrial\u001b[0m/\n"
     ]
    }
   ],
   "source": [
    "%ls ../data\n"
   ]
  },
  {
   "cell_type": "code",
   "execution_count": 5,
   "metadata": {},
   "outputs": [
    {
     "name": "stdout",
     "output_type": "stream",
     "text": [
      "dev_es.synth.en.tsv  \u001b[0m\u001b[01;34mreference_test_es\u001b[0m/     train_es.synth.fr.tsv\n",
      "dev_es.tsv           test_es.tsv            train_es.tsv\n",
      "reference_es.tsv     train_es.synth.en.tsv\n"
     ]
    }
   ],
   "source": [
    "%ls ../data/es"
   ]
  },
  {
   "cell_type": "markdown",
   "metadata": {},
   "source": [
    "**Observación**: cargamos mal los datos antes. Si no le ponemos el `csv.QUOTE_NONE` nos comemos algunas instancias"
   ]
  },
  {
   "cell_type": "code",
   "execution_count": 6,
   "metadata": {},
   "outputs": [
    {
     "name": "stdout",
     "output_type": "stream",
     "text": [
      "Español =>\n",
      "Instancias de entrenamiento: 4500\n",
      "Instancias de entrenamiento (con errores!): 4469\n",
      "Instancias de desarrollo: 500\n"
     ]
    },
    {
     "data": {
      "text/plain": [
       "'\"Querida mamá: Tus vísceras apestan. Odio tu pelo. Debes ser árabe porque tienes una nariz enorme. Los árabes no tienen inteligencia. No entiendes mi personalidad porque no tengo una personalidad: soy un taimado solapado artero inútil anónimo casi gusano...'"
      ]
     },
     "execution_count": 6,
     "metadata": {},
     "output_type": "execute_result"
    }
   ],
   "source": [
    "import csv\n",
    "\n",
    "dev_df = pd.read_table(\"../data/es/dev_es.tsv\", index_col=\"id\", quoting=csv.QUOTE_NONE)\n",
    "train_df = pd.read_table(\"../data/es/train_es.tsv\", index_col=\"id\", quoting=csv.QUOTE_NONE)\n",
    "train_df_ill = pd.read_table(\"../data/es/train_es.tsv\", index_col=\"id\")\n",
    "\n",
    "print(\"Español =>\")\n",
    "print(\"Instancias de entrenamiento: {}\".format(len(train_df)))\n",
    "print(\"Instancias de entrenamiento (con errores!): {}\".format(len(train_df_ill)))\n",
    "print(\"Instancias de desarrollo: {}\".format(len(dev_df)))\n",
    "\n",
    "train_df.loc[20849][\"text\"]"
   ]
  },
  {
   "cell_type": "code",
   "execution_count": 7,
   "metadata": {},
   "outputs": [
    {
     "name": "stdout",
     "output_type": "stream",
     "text": [
      "Inglés =>\n",
      "Instancias de entrenamiento: 9000\n",
      "Instancias de desarrollo: 1000\n"
     ]
    }
   ],
   "source": [
    "dev_df = pd.read_table(\"../data/en/dev_en.tsv\", quoting=csv.QUOTE_NONE)\n",
    "train_df = pd.read_table(\"../data/en/train_en.tsv\", quoting=csv.QUOTE_NONE)\n",
    "\n",
    "print(\"Inglés =>\")\n",
    "print(\"Instancias de entrenamiento: {}\".format(len(train_df)))\n",
    "print(\"Instancias de desarrollo: {}\".format(len(dev_df)))"
   ]
  },
  {
   "cell_type": "markdown",
   "metadata": {},
   "source": [
    "## Balance de clases"
   ]
  },
  {
   "cell_type": "code",
   "execution_count": 8,
   "metadata": {},
   "outputs": [
    {
     "name": "stdout",
     "output_type": "stream",
     "text": [
      "Train:\n",
      "\n",
      "Cantidad de tweets con HS = 0: 2643 - 58.73%\n",
      "Cantidad de tweets con HS = 1: 1857 - 41.27%\n",
      "Development:\n",
      "\n",
      "Cantidad de tweets con HS = 0: 278 - 55.60%\n",
      "Cantidad de tweets con HS = 1: 222 - 44.40%\n"
     ]
    }
   ],
   "source": [
    "dev_df = pd.read_table(\"../data/es/dev_es.tsv\", quoting=csv.QUOTE_NONE)\n",
    "train_df = pd.read_table(\"../data/es/train_es.tsv\", quoting=csv.QUOTE_NONE)\n",
    "\n",
    "print(\"Train:\\n\")\n",
    "print(\"Cantidad de tweets con HS = 0: {} - {:.2f}%\".format(sum(train_df['HS'] == 0), 100* sum(train_df['HS'] == 0) / len(train_df)))\n",
    "print(\"Cantidad de tweets con HS = 1: {} - {:.2f}%\".format(sum(train_df['HS'] == 1), 100* sum(train_df['HS'] == 1) / len(train_df)))\n",
    "\n",
    "print(\"Development:\\n\")\n",
    "print(\"Cantidad de tweets con HS = 0: {} - {:.2f}%\".format(sum(dev_df['HS'] == 0), 100* sum(dev_df['HS'] == 0) / len(dev_df)))\n",
    "print(\"Cantidad de tweets con HS = 1: {} - {:.2f}%\".format(sum(dev_df['HS'] == 1), 100* sum(dev_df['HS'] == 1) / len(dev_df)))\n"
   ]
  },
  {
   "cell_type": "code",
   "execution_count": 9,
   "metadata": {},
   "outputs": [
    {
     "name": "stdout",
     "output_type": "stream",
     "text": [
      "Train:\n",
      "\n",
      "Cantidad de tweets con HS = 0: 5217 - 57.97%\n",
      "Cantidad de tweets con HS = 1: 3783 - 42.03%\n",
      "Development:\n",
      "\n",
      "Cantidad de tweets con HS = 0: 573 - 57.30%\n",
      "Cantidad de tweets con HS = 1: 427 - 42.70%\n"
     ]
    }
   ],
   "source": [
    "dev_df = pd.read_table(\"../data/en/dev_en.tsv\", quoting=csv.QUOTE_NONE)\n",
    "train_df = pd.read_table(\"../data/en/train_en.tsv\", quoting=csv.QUOTE_NONE)\n",
    "\n",
    "print(\"Train:\\n\")\n",
    "print(\"Cantidad de tweets con HS = 0: {} - {:.2f}%\".format(sum(train_df['HS'] == 0), 100* sum(train_df['HS'] == 0) / len(train_df)))\n",
    "print(\"Cantidad de tweets con HS = 1: {} - {:.2f}%\".format(sum(train_df['HS'] == 1), 100* sum(train_df['HS'] == 1) / len(train_df)))\n",
    "\n",
    "print(\"Development:\\n\")\n",
    "print(\"Cantidad de tweets con HS = 0: {} - {:.2f}%\".format(sum(dev_df['HS'] == 0), 100* sum(dev_df['HS'] == 0) / len(dev_df)))\n",
    "print(\"Cantidad de tweets con HS = 1: {} - {:.2f}%\".format(sum(dev_df['HS'] == 1), 100* sum(dev_df['HS'] == 1) / len(dev_df)))\n"
   ]
  },
  {
   "cell_type": "code",
   "execution_count": null,
   "metadata": {},
   "outputs": [],
   "source": []
  }
 ],
 "metadata": {
  "kernelspec": {
   "display_name": "Python 3",
   "language": "python",
   "name": "python3"
  },
  "language_info": {
   "codemirror_mode": {
    "name": "ipython",
    "version": 3
   },
   "file_extension": ".py",
   "mimetype": "text/x-python",
   "name": "python",
   "nbconvert_exporter": "python",
   "pygments_lexer": "ipython3",
   "version": "3.6.5"
  }
 },
 "nbformat": 4,
 "nbformat_minor": 2
}
