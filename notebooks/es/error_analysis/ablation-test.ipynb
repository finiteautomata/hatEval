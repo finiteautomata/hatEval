{
 "cells": [
  {
   "cell_type": "markdown",
   "metadata": {},
   "source": [
    "# Ablation Test\n",
    "\n",
    "En esta notebook haremos un test de ablación para ver qué componentes realmente aportan\n",
    "\n",
    "[\"Understanding hidden memories of recurrent neural networks\"](https://arxiv.org/abs/1710.10777)"
   ]
  },
  {
   "cell_type": "code",
   "execution_count": 1,
   "metadata": {},
   "outputs": [
    {
     "name": "stdout",
     "output_type": "stream",
     "text": [
      "Instancias de entrenamiento: 4500\n",
      "Instancias de desarrollo: 500\n",
      "Instancias de test: 1600\n"
     ]
    }
   ],
   "source": [
    "%load_ext autoreload\n",
    "%autoreload 2\n",
    "import pandas as pd\n",
    "import csv\n",
    "import numpy as np\n",
    "import tensorflow as tf\n",
    "import random\n",
    "import torch\n",
    "\n",
    "torch.manual_seed(2019)\n",
    "np.random.seed(2019)\n",
    "tf.random.set_random_seed(2019)\n",
    "random.seed(2019)\n",
    "\n",
    "torch.backends.cudnn.deterministic = True\n",
    "torch.backends.cudnn.benchmark = False\n",
    "\n",
    "df_dev = pd.read_table(\"../../../data/es/dev_es.tsv\", index_col=\"id\", quoting=csv.QUOTE_NONE)\n",
    "df_train = pd.read_table(\"../../../data/es/train_es.tsv\", index_col=\"id\", quoting=csv.QUOTE_NONE)\n",
    "df_test = pd.read_table(\"../../../data/es/reference_es.tsv\", header=None, \n",
    "                        names=[\"text\", \"HS\", \"TR\", \"AG\"], quoting=csv.QUOTE_NONE)\n",
    "\n",
    "\n",
    "text_train, y_train = df_train[\"text\"], df_train[\"HS\"]\n",
    "text_dev, y_dev = df_dev[\"text\"], df_dev[\"HS\"]\n",
    "text_test, y_test = df_test[\"text\"], df_test[\"HS\"]\n",
    "\n",
    "print(\"Instancias de entrenamiento: {}\".format(len(df_train)))\n",
    "print(\"Instancias de desarrollo: {}\".format(len(df_dev)))\n",
    "print(\"Instancias de test: {}\".format(len(df_test)))\n"
   ]
  },
  {
   "cell_type": "markdown",
   "metadata": {},
   "source": [
    "Cargamos datos dev con anotaciones propias"
   ]
  },
  {
   "cell_type": "code",
   "execution_count": 2,
   "metadata": {},
   "outputs": [],
   "source": [
    "df_dev = pd.read_csv(\"dev_with_annotations.es.csv\", index_col=\"id\")\n",
    "\n",
    "df_dev = df_dev[df_dev[\"text\"].notnull()]\n"
   ]
  },
  {
   "cell_type": "markdown",
   "metadata": {},
   "source": [
    "Cargamos modelos de fasttext y ELMo"
   ]
  },
  {
   "cell_type": "code",
   "execution_count": 3,
   "metadata": {},
   "outputs": [],
   "source": [
    "%%capture\n",
    "from elmoformanylangs import Embedder\n",
    "import fastText\n",
    "import os\n",
    "\n",
    "\n",
    "fasttext_model = fastText.load_model(os.path.expanduser(\"../../../WordVectors/UBA_w3_300.bin\"))\n",
    "elmo_embedder = Embedder(\"../../../models/elmo/es/\")"
   ]
  },
  {
   "cell_type": "markdown",
   "metadata": {},
   "source": [
    "## ELMO + FastText\n",
    "\n",
    "We use a model with a BiLSTM + an average pooling (this is controlled by the `pooling` argument to the ElmoModel)"
   ]
  },
  {
   "cell_type": "code",
   "execution_count": 4,
   "metadata": {},
   "outputs": [
    {
     "name": "stderr",
     "output_type": "stream",
     "text": [
      "Using TensorFlow backend.\n"
     ]
    },
    {
     "name": "stdout",
     "output_type": "stream",
     "text": [
      "__________________________________________________________________________________________________\n",
      "Layer (type)                    Output Shape         Param #     Connected to                     \n",
      "==================================================================================================\n",
      "Elmo (InputLayer)               (None, 50, 1024)     0                                            \n",
      "__________________________________________________________________________________________________\n",
      "Fasttext (InputLayer)           (None, 50, 300)      0                                            \n",
      "__________________________________________________________________________________________________\n",
      "concatenate_1 (Concatenate)     (None, 50, 1324)     0           Elmo[0][0]                       \n",
      "                                                                 Fasttext[0][0]                   \n",
      "__________________________________________________________________________________________________\n",
      "cu_dnngru_1 (CuDNNGRU)          (None, 50, 256)      1214976     concatenate_1[0][0]              \n",
      "__________________________________________________________________________________________________\n",
      "global_average_pooling1d_1 (Glo (None, 256)          0           cu_dnngru_1[0][0]                \n",
      "__________________________________________________________________________________________________\n",
      "dropout_1 (Dropout)             (None, 256)          0           global_average_pooling1d_1[0][0] \n",
      "__________________________________________________________________________________________________\n",
      "dense_1 (Dense)                 (None, 1)            257         dropout_1[0][0]                  \n",
      "==================================================================================================\n",
      "Total params: 1,215,233\n",
      "Trainable params: 1,215,233\n",
      "Non-trainable params: 0\n",
      "__________________________________________________________________________________________________\n",
      "None\n"
     ]
    },
    {
     "data": {
      "image/png": "[encoded data removed]",
      "text/plain": [
       "<IPython.core.display.Image object>"
      ]
     },
     "execution_count": 4,
     "metadata": {},
     "output_type": "execute_result"
    }
   ],
   "source": [
    "from hate.nn import ElmoConvexModel, ElmoModel\n",
    "from keras.optimizers import Adam, rmsprop, SGD\n",
    "from keras.layers import LSTM, GRU, CuDNNLSTM, CuDNNGRU\n",
    "from keras.utils import plot_model\n",
    "from IPython.display import Image\n",
    "\n",
    "max_length = 50\n",
    "\n",
    "\n",
    "def MyRecClass(*args, **kwargs):\n",
    "    kwargs.update({\n",
    "        'activation': 'sigmoid'\n",
    "    })\n",
    "    \n",
    "    return GRU(*args, **kwargs)\n",
    "\n",
    "classifier_args = {\n",
    "    \"dropout\": 0.55,\n",
    "    \"rnn_units\": 256,\n",
    "    \"recursive_class\": CuDNNGRU,\n",
    "    \"bidirectional\": False,\n",
    "    \"pooling\": 'avg',\n",
    "    \"tokenize_args\": {\n",
    "        \"preserve_case\": False,\n",
    "        \"deaccent\": False,\n",
    "        \"reduce_len\": True,\n",
    "        \"strip_handles\": True,\n",
    "        \"alpha_only\": False,\n",
    "        \"stem\": False\n",
    "    }\n",
    "}\n",
    "\n",
    "optimizer_args = {\n",
    "    \"lr\": 0.00075,\n",
    "    \"decay\": 0.01,\n",
    "}\n",
    "\n",
    "optimizer = Adam\n",
    "\n",
    "\n",
    "\n",
    "model = ElmoModel(\n",
    "    max_length,  \n",
    "    **{\n",
    "        **classifier_args,\n",
    "        **{\n",
    "            \"fasttext_model\": fasttext_model,\n",
    "            \"elmo_embedder\": elmo_embedder,\n",
    "        }\n",
    "    }\n",
    ")\n",
    "\n",
    "\n",
    "model.compile(loss='binary_crossentropy', \n",
    "              optimizer=optimizer(**optimizer_args), \n",
    "              metrics=['accuracy'])\n",
    "\n",
    "#model.load_weights(\"../../../models/lstm_elmo.h5\")\n",
    "print(model.summary())\n",
    "plot_model(model, to_file='model.png')\n",
    "\n",
    "\n",
    "Image(filename='model.png') "
   ]
  },
  {
   "cell_type": "markdown",
   "metadata": {},
   "source": [
    "¿Cómo anda el tokenizador?"
   ]
  },
  {
   "cell_type": "code",
   "execution_count": 5,
   "metadata": {},
   "outputs": [
    {
     "name": "stdout",
     "output_type": "stream",
     "text": [
      "Train on 4500 samples, validate on 500 samples\n",
      "Epoch 1/100\n",
      "4500/4500 [==============================] - 4s 905us/step - loss: 0.6697 - acc: 0.6302 - val_loss: 0.5445 - val_acc: 0.7280\n",
      "\n",
      "Epoch 00001: val_acc improved from -inf to 0.72800, saving model to /tmp/lstm_model.h5\n",
      "Epoch 2/100\n",
      "4500/4500 [==============================] - 2s 346us/step - loss: 0.4917 - acc: 0.7629 - val_loss: 0.4397 - val_acc: 0.8140\n",
      "\n",
      "Epoch 00002: val_acc improved from 0.72800 to 0.81400, saving model to /tmp/lstm_model.h5\n",
      "Epoch 3/100\n",
      "4500/4500 [==============================] - 2s 365us/step - loss: 0.4270 - acc: 0.8069 - val_loss: 0.4370 - val_acc: 0.8080\n",
      "\n",
      "Epoch 00003: val_acc did not improve from 0.81400\n",
      "Epoch 4/100\n",
      "4500/4500 [==============================] - 2s 368us/step - loss: 0.3809 - acc: 0.8309 - val_loss: 0.4227 - val_acc: 0.8000\n",
      "\n",
      "Epoch 00004: val_acc did not improve from 0.81400\n",
      "Epoch 5/100\n",
      "4500/4500 [==============================] - 2s 346us/step - loss: 0.3484 - acc: 0.8444 - val_loss: 0.4266 - val_acc: 0.8100\n",
      "\n",
      "Epoch 00005: val_acc did not improve from 0.81400\n",
      "Epoch 6/100\n",
      "4500/4500 [==============================] - 2s 347us/step - loss: 0.3131 - acc: 0.8702 - val_loss: 0.4121 - val_acc: 0.8140\n",
      "\n",
      "Epoch 00006: val_acc did not improve from 0.81400\n",
      "Epoch 7/100\n",
      "4500/4500 [==============================] - 2s 345us/step - loss: 0.2760 - acc: 0.8822 - val_loss: 0.4179 - val_acc: 0.7980\n",
      "\n",
      "Epoch 00007: val_acc did not improve from 0.81400\n",
      "Epoch 8/100\n",
      "4500/4500 [==============================] - 2s 356us/step - loss: 0.2454 - acc: 0.9031 - val_loss: 0.4468 - val_acc: 0.8080\n",
      "\n",
      "Epoch 00008: val_acc did not improve from 0.81400\n",
      "Epoch 9/100\n",
      "4500/4500 [==============================] - 2s 350us/step - loss: 0.2087 - acc: 0.9187 - val_loss: 0.4452 - val_acc: 0.8260\n",
      "\n",
      "Epoch 00009: val_acc improved from 0.81400 to 0.82600, saving model to /tmp/lstm_model.h5\n",
      "Epoch 10/100\n",
      "4500/4500 [==============================] - 2s 366us/step - loss: 0.1821 - acc: 0.9278 - val_loss: 0.4685 - val_acc: 0.8100\n",
      "\n",
      "Epoch 00010: val_acc did not improve from 0.82600\n",
      "Epoch 11/100\n",
      "4500/4500 [==============================] - 2s 360us/step - loss: 0.1454 - acc: 0.9478 - val_loss: 0.5227 - val_acc: 0.7980\n",
      "\n",
      "Epoch 00011: val_acc did not improve from 0.82600\n",
      "Epoch 12/100\n",
      "4500/4500 [==============================] - 2s 348us/step - loss: 0.1054 - acc: 0.9647 - val_loss: 0.5557 - val_acc: 0.8080\n",
      "\n",
      "Epoch 00012: val_acc did not improve from 0.82600\n",
      "Epoch 13/100\n",
      "4500/4500 [==============================] - 2s 364us/step - loss: 0.0881 - acc: 0.9722 - val_loss: 0.5772 - val_acc: 0.8200\n",
      "\n",
      "Epoch 00013: val_acc did not improve from 0.82600\n",
      "Epoch 14/100\n",
      "4500/4500 [==============================] - 2s 369us/step - loss: 0.0814 - acc: 0.9731 - val_loss: 0.6758 - val_acc: 0.8060\n",
      "\n",
      "Epoch 00014: val_acc did not improve from 0.82600\n",
      "Epoch 15/100\n",
      "4500/4500 [==============================] - 2s 351us/step - loss: 0.0634 - acc: 0.9831 - val_loss: 0.6177 - val_acc: 0.8120\n",
      "\n",
      "Epoch 00015: val_acc did not improve from 0.82600\n",
      "Epoch 16/100\n",
      "4500/4500 [==============================] - 2s 369us/step - loss: 0.0510 - acc: 0.9858 - val_loss: 0.6224 - val_acc: 0.8060\n",
      "\n",
      "Epoch 00016: val_acc did not improve from 0.82600\n",
      "Epoch 17/100\n",
      "4500/4500 [==============================] - 2s 368us/step - loss: 0.0369 - acc: 0.9920 - val_loss: 0.6865 - val_acc: 0.8200\n",
      "\n",
      "Epoch 00017: val_acc did not improve from 0.82600\n",
      "Epoch 18/100\n",
      "4500/4500 [==============================] - 2s 343us/step - loss: 0.0320 - acc: 0.9931 - val_loss: 0.6864 - val_acc: 0.8220\n",
      "\n",
      "Epoch 00018: val_acc did not improve from 0.82600\n",
      "Epoch 19/100\n",
      "4500/4500 [==============================] - 2s 358us/step - loss: 0.0282 - acc: 0.9940 - val_loss: 0.7137 - val_acc: 0.8140\n",
      "\n",
      "Epoch 00019: val_acc did not improve from 0.82600\n"
     ]
    },
    {
     "data": {
      "text/plain": [
       "<keras.callbacks.History at 0x7f9cd978ef98>"
      ]
     },
     "execution_count": 5,
     "metadata": {},
     "output_type": "execute_result"
    }
   ],
   "source": [
    "from keras.callbacks import ModelCheckpoint, EarlyStopping\n",
    "\n",
    "checkpointer = ModelCheckpoint('/tmp/lstm_model.h5', save_best_only=True, monitor='val_acc', verbose=1)\n",
    "early_stopper = EarlyStopping(monitor='val_acc', patience=10)\n",
    "\n",
    "\n",
    "model.fit(text_train, y_train, \n",
    "          callbacks=[checkpointer, early_stopper],\n",
    "          validation_data=(text_dev, y_dev), \n",
    "          epochs=100, verbose=1,\n",
    "          batch_size=32)\n"
   ]
  },
  {
   "cell_type": "code",
   "execution_count": 6,
   "metadata": {},
   "outputs": [
    {
     "name": "stdout",
     "output_type": "stream",
     "text": [
      "CuDNNGRU with avg pooling consuming Elmo:0+Fasttext:0 -- \n",
      "\n",
      "\n",
      "Evaluación sobre dev\n",
      "500/500 [==============================] - 0s 211us/step\n",
      "Loss           : 0.4452\n",
      "Accuracy       : 0.8260\n",
      "Precision(1)   : 0.7733\n",
      "Precision(1)   : 0.8775\n",
      "Precision(avg) : 0.8254\n",
      "\n",
      "Recall(1)      : 0.8604\n",
      "Recall(0)      : 0.7986\n",
      "Recall(avg)    : 0.8295\n",
      "\n",
      "F1(1)          : 0.8145\n",
      "F1(0)          : 0.8362\n",
      "F1(avg)        : 0.8253\n",
      "\n",
      "Evaluación sobre test\n",
      "1600/1600 [==============================] - 0s 226us/step\n",
      "Loss           : 0.6140\n",
      "Accuracy       : 0.7525\n",
      "Precision(1)   : 0.6629\n",
      "Precision(1)   : 0.8424\n",
      "Precision(avg) : 0.7527\n",
      "\n",
      "Recall(1)      : 0.8106\n",
      "Recall(0)      : 0.7106\n",
      "Recall(avg)    : 0.7606\n",
      "\n",
      "F1(1)          : 0.7294\n",
      "F1(0)          : 0.7709\n",
      "F1(avg)        : 0.7501\n"
     ]
    }
   ],
   "source": [
    "from hate.utils import print_evaluation\n",
    "print(\"{} -- \\n\\n\".format(model.display_name))\n",
    "print(\"Evaluación sobre dev\")\n",
    "\n",
    "model.load_weights(checkpointer.filepath)\n",
    "\n",
    "print_evaluation(model, text_dev, y_dev)\n",
    "print(\"\\nEvaluación sobre test\")\n",
    "\n",
    "print_evaluation(model, text_test, y_test)"
   ]
  },
  {
   "cell_type": "markdown",
   "metadata": {},
   "source": [
    "## Sin ELMO"
   ]
  },
  {
   "cell_type": "code",
   "execution_count": 7,
   "metadata": {},
   "outputs": [
    {
     "name": "stdout",
     "output_type": "stream",
     "text": [
      "_________________________________________________________________\n",
      "Layer (type)                 Output Shape              Param #   \n",
      "=================================================================\n",
      "Fasttext (InputLayer)        (None, 50, 300)           0         \n",
      "_________________________________________________________________\n",
      "cu_dnngru_3 (CuDNNGRU)       (None, 50, 256)           428544    \n",
      "_________________________________________________________________\n",
      "global_average_pooling1d_2 ( (None, 256)               0         \n",
      "_________________________________________________________________\n",
      "dropout_2 (Dropout)          (None, 256)               0         \n",
      "_________________________________________________________________\n",
      "dense_2 (Dense)              (None, 1)                 257       \n",
      "=================================================================\n",
      "Total params: 428,801\n",
      "Trainable params: 428,801\n",
      "Non-trainable params: 0\n",
      "_________________________________________________________________\n",
      "None\n"
     ]
    },
    {
     "data": {
      "image/png": "[encoded data removed]",
      "text/plain": [
       "<IPython.core.display.Image object>"
      ]
     },
     "execution_count": 7,
     "metadata": {},
     "output_type": "execute_result"
    }
   ],
   "source": [
    "\n",
    "model = ElmoModel(\n",
    "    max_length,  \n",
    "    **{\n",
    "        **classifier_args,\n",
    "        **{\n",
    "            \"fasttext_model\": fasttext_model,\n",
    "            \"elmo_embedder\": None,\n",
    "        }\n",
    "    }\n",
    ")\n",
    "\n",
    "model.compile(loss='binary_crossentropy', \n",
    "              optimizer=optimizer(**optimizer_args), \n",
    "              metrics=['accuracy'])\n",
    "\n",
    "#model.load_weights(\"../../../models/lstm_elmo.h5\")\n",
    "print(model.summary())\n",
    "plot_model(model, to_file='model.png')\n",
    "\n",
    "\n",
    "Image(filename='model.png') "
   ]
  },
  {
   "cell_type": "code",
   "execution_count": 8,
   "metadata": {},
   "outputs": [
    {
     "name": "stdout",
     "output_type": "stream",
     "text": [
      "Train on 4500 samples, validate on 500 samples\n",
      "Epoch 1/100\n",
      "4500/4500 [==============================] - 1s 316us/step - loss: 0.6541 - acc: 0.6264 - val_loss: 0.6245 - val_acc: 0.6580\n",
      "\n",
      "Epoch 00001: val_acc improved from -inf to 0.65800, saving model to /tmp/lstm_model.h5\n",
      "Epoch 2/100\n",
      "4500/4500 [==============================] - 1s 195us/step - loss: 0.5379 - acc: 0.7362 - val_loss: 0.5163 - val_acc: 0.7380\n",
      "\n",
      "Epoch 00002: val_acc improved from 0.65800 to 0.73800, saving model to /tmp/lstm_model.h5\n",
      "Epoch 3/100\n",
      "4500/4500 [==============================] - 1s 192us/step - loss: 0.4866 - acc: 0.7631 - val_loss: 0.4931 - val_acc: 0.7700\n",
      "\n",
      "Epoch 00003: val_acc improved from 0.73800 to 0.77000, saving model to /tmp/lstm_model.h5\n",
      "Epoch 4/100\n",
      "4500/4500 [==============================] - 1s 187us/step - loss: 0.4595 - acc: 0.7882 - val_loss: 0.4891 - val_acc: 0.7680\n",
      "\n",
      "Epoch 00004: val_acc did not improve from 0.77000\n",
      "Epoch 5/100\n",
      "4500/4500 [==============================] - 1s 213us/step - loss: 0.4358 - acc: 0.7947 - val_loss: 0.4785 - val_acc: 0.7800\n",
      "\n",
      "Epoch 00005: val_acc improved from 0.77000 to 0.78000, saving model to /tmp/lstm_model.h5\n",
      "Epoch 6/100\n",
      "4500/4500 [==============================] - 1s 209us/step - loss: 0.4207 - acc: 0.8020 - val_loss: 0.4720 - val_acc: 0.7760\n",
      "\n",
      "Epoch 00006: val_acc did not improve from 0.78000\n",
      "Epoch 7/100\n",
      "4500/4500 [==============================] - 1s 197us/step - loss: 0.4096 - acc: 0.8113 - val_loss: 0.4724 - val_acc: 0.7800\n",
      "\n",
      "Epoch 00007: val_acc did not improve from 0.78000\n",
      "Epoch 8/100\n",
      "4500/4500 [==============================] - 1s 191us/step - loss: 0.3935 - acc: 0.8196 - val_loss: 0.4738 - val_acc: 0.7800\n",
      "\n",
      "Epoch 00008: val_acc did not improve from 0.78000\n",
      "Epoch 9/100\n",
      "4500/4500 [==============================] - 1s 205us/step - loss: 0.3812 - acc: 0.8300 - val_loss: 0.4764 - val_acc: 0.7780\n",
      "\n",
      "Epoch 00009: val_acc did not improve from 0.78000\n",
      "Epoch 10/100\n",
      "4500/4500 [==============================] - 1s 202us/step - loss: 0.3758 - acc: 0.8309 - val_loss: 0.4794 - val_acc: 0.7760\n",
      "\n",
      "Epoch 00010: val_acc did not improve from 0.78000\n",
      "Epoch 11/100\n",
      "4500/4500 [==============================] - 1s 203us/step - loss: 0.3667 - acc: 0.8349 - val_loss: 0.4682 - val_acc: 0.7740\n",
      "\n",
      "Epoch 00011: val_acc did not improve from 0.78000\n",
      "Epoch 12/100\n",
      "4500/4500 [==============================] - 1s 207us/step - loss: 0.3614 - acc: 0.8413 - val_loss: 0.4766 - val_acc: 0.7660\n",
      "\n",
      "Epoch 00012: val_acc did not improve from 0.78000\n",
      "Epoch 13/100\n",
      "4500/4500 [==============================] - 1s 195us/step - loss: 0.3521 - acc: 0.8451 - val_loss: 0.5043 - val_acc: 0.7800\n",
      "\n",
      "Epoch 00013: val_acc did not improve from 0.78000\n",
      "Epoch 14/100\n",
      "4500/4500 [==============================] - 1s 191us/step - loss: 0.3472 - acc: 0.8482 - val_loss: 0.4845 - val_acc: 0.7760\n",
      "\n",
      "Epoch 00014: val_acc did not improve from 0.78000\n",
      "Epoch 15/100\n",
      "4500/4500 [==============================] - 1s 200us/step - loss: 0.3440 - acc: 0.8489 - val_loss: 0.4852 - val_acc: 0.7640\n",
      "\n",
      "Epoch 00015: val_acc did not improve from 0.78000\n"
     ]
    },
    {
     "data": {
      "text/plain": [
       "<keras.callbacks.History at 0x7f99b8257eb8>"
      ]
     },
     "execution_count": 8,
     "metadata": {},
     "output_type": "execute_result"
    }
   ],
   "source": [
    "from keras.callbacks import ModelCheckpoint, EarlyStopping\n",
    "\n",
    "checkpointer = ModelCheckpoint('/tmp/lstm_model.h5', save_best_only=True, monitor='val_acc', verbose=1)\n",
    "early_stopper = EarlyStopping(monitor='val_acc', patience=10)\n",
    "\n",
    "\n",
    "model.fit(text_train, y_train, \n",
    "          callbacks=[checkpointer, early_stopper],\n",
    "          validation_data=(text_dev, y_dev), \n",
    "          epochs=100, verbose=1,\n",
    "          batch_size=32)\n"
   ]
  },
  {
   "cell_type": "code",
   "execution_count": 9,
   "metadata": {},
   "outputs": [
    {
     "name": "stdout",
     "output_type": "stream",
     "text": [
      "CuDNNGRU with avg pooling consuming Fasttext_1:0 -- \n",
      "\n",
      "\n",
      "Evaluación sobre dev\n",
      "500/500 [==============================] - 0s 101us/step\n",
      "Loss           : 0.4785\n",
      "Accuracy       : 0.7800\n",
      "Precision(1)   : 0.7373\n",
      "Precision(1)   : 0.8182\n",
      "Precision(avg) : 0.7777\n",
      "\n",
      "Recall(1)      : 0.7838\n",
      "Recall(0)      : 0.7770\n",
      "Recall(avg)    : 0.7804\n",
      "\n",
      "F1(1)          : 0.7598\n",
      "F1(0)          : 0.7970\n",
      "F1(avg)        : 0.7784\n",
      "\n",
      "Evaluación sobre test\n",
      "1600/1600 [==============================] - 0s 105us/step\n",
      "Loss           : 0.5219\n",
      "Accuracy       : 0.7306\n",
      "Precision(1)   : 0.6509\n",
      "Precision(1)   : 0.8026\n",
      "Precision(avg) : 0.7267\n",
      "\n",
      "Recall(1)      : 0.7485\n",
      "Recall(0)      : 0.7181\n",
      "Recall(avg)    : 0.7333\n",
      "\n",
      "F1(1)          : 0.6963\n",
      "F1(0)          : 0.7580\n",
      "F1(avg)        : 0.7271\n"
     ]
    }
   ],
   "source": [
    "from hate.utils import print_evaluation\n",
    "print(\"{} -- \\n\\n\".format(model.display_name))\n",
    "print(\"Evaluación sobre dev\")\n",
    "\n",
    "model.load_weights(checkpointer.filepath)\n",
    "\n",
    "print_evaluation(model, text_dev, y_dev)\n",
    "print(\"\\nEvaluación sobre test\")\n",
    "\n",
    "print_evaluation(model, text_test, y_test)"
   ]
  },
  {
   "cell_type": "markdown",
   "metadata": {},
   "source": [
    "# Sin fasttext"
   ]
  },
  {
   "cell_type": "code",
   "execution_count": 10,
   "metadata": {},
   "outputs": [
    {
     "name": "stdout",
     "output_type": "stream",
     "text": [
      "_________________________________________________________________\n",
      "Layer (type)                 Output Shape              Param #   \n",
      "=================================================================\n",
      "Elmo (InputLayer)            (None, 50, 1024)          0         \n",
      "_________________________________________________________________\n",
      "cu_dnngru_5 (CuDNNGRU)       (None, 50, 256)           984576    \n",
      "_________________________________________________________________\n",
      "global_average_pooling1d_3 ( (None, 256)               0         \n",
      "_________________________________________________________________\n",
      "dropout_3 (Dropout)          (None, 256)               0         \n",
      "_________________________________________________________________\n",
      "dense_3 (Dense)              (None, 1)                 257       \n",
      "=================================================================\n",
      "Total params: 984,833\n",
      "Trainable params: 984,833\n",
      "Non-trainable params: 0\n",
      "_________________________________________________________________\n",
      "None\n"
     ]
    },
    {
     "data": {
      "image/png": "[encoded data removed]",
      "text/plain": [
       "<IPython.core.display.Image object>"
      ]
     },
     "execution_count": 10,
     "metadata": {},
     "output_type": "execute_result"
    }
   ],
   "source": [
    "model = ElmoModel(\n",
    "    max_length,  \n",
    "    **{\n",
    "        **classifier_args,\n",
    "        **{\n",
    "            \"fasttext_model\": None,\n",
    "            \"elmo_embedder\": elmo_embedder,\n",
    "        }\n",
    "    }\n",
    ")\n",
    "\n",
    "model.compile(loss='binary_crossentropy', \n",
    "              optimizer=optimizer(**optimizer_args), \n",
    "              metrics=['accuracy'])\n",
    "\n",
    "\n",
    "#model.load_weights(\"../../../models/lstm_elmo.h5\")\n",
    "print(model.summary())\n",
    "plot_model(model, to_file='model.png')\n",
    "\n",
    "\n",
    "Image(filename='model.png') "
   ]
  },
  {
   "cell_type": "code",
   "execution_count": 11,
   "metadata": {},
   "outputs": [
    {
     "name": "stdout",
     "output_type": "stream",
     "text": [
      "Train on 4500 samples, validate on 500 samples\n",
      "Epoch 1/100\n",
      "4500/4500 [==============================] - 2s 443us/step - loss: 0.6806 - acc: 0.6316 - val_loss: 0.5184 - val_acc: 0.7480\n",
      "\n",
      "Epoch 00001: val_acc improved from -inf to 0.74800, saving model to /tmp/lstm_model.h5\n",
      "Epoch 2/100\n",
      "4500/4500 [==============================] - 1s 303us/step - loss: 0.4948 - acc: 0.7591 - val_loss: 0.4566 - val_acc: 0.7960\n",
      "\n",
      "Epoch 00002: val_acc improved from 0.74800 to 0.79600, saving model to /tmp/lstm_model.h5\n",
      "Epoch 3/100\n",
      "4500/4500 [==============================] - 1s 315us/step - loss: 0.4270 - acc: 0.8060 - val_loss: 0.4237 - val_acc: 0.8080\n",
      "\n",
      "Epoch 00003: val_acc improved from 0.79600 to 0.80800, saving model to /tmp/lstm_model.h5\n",
      "Epoch 4/100\n",
      "4500/4500 [==============================] - 1s 323us/step - loss: 0.3784 - acc: 0.8271 - val_loss: 0.4238 - val_acc: 0.8080\n",
      "\n",
      "Epoch 00004: val_acc did not improve from 0.80800\n",
      "Epoch 5/100\n",
      "4500/4500 [==============================] - 1s 314us/step - loss: 0.3514 - acc: 0.8467 - val_loss: 0.4142 - val_acc: 0.8180\n",
      "\n",
      "Epoch 00005: val_acc improved from 0.80800 to 0.81800, saving model to /tmp/lstm_model.h5\n",
      "Epoch 6/100\n",
      "4500/4500 [==============================] - 1s 309us/step - loss: 0.3083 - acc: 0.8709 - val_loss: 0.4375 - val_acc: 0.8080\n",
      "\n",
      "Epoch 00006: val_acc did not improve from 0.81800\n",
      "Epoch 7/100\n",
      "4500/4500 [==============================] - 1s 302us/step - loss: 0.2766 - acc: 0.8867 - val_loss: 0.4383 - val_acc: 0.8200\n",
      "\n",
      "Epoch 00007: val_acc improved from 0.81800 to 0.82000, saving model to /tmp/lstm_model.h5\n",
      "Epoch 8/100\n",
      "4500/4500 [==============================] - 1s 303us/step - loss: 0.2420 - acc: 0.9024 - val_loss: 0.4343 - val_acc: 0.8140\n",
      "\n",
      "Epoch 00008: val_acc did not improve from 0.82000\n",
      "Epoch 9/100\n",
      "4500/4500 [==============================] - 1s 312us/step - loss: 0.2050 - acc: 0.9189 - val_loss: 0.5120 - val_acc: 0.8160\n",
      "\n",
      "Epoch 00009: val_acc did not improve from 0.82000\n",
      "Epoch 10/100\n",
      "4500/4500 [==============================] - 1s 310us/step - loss: 0.1680 - acc: 0.9396 - val_loss: 0.4869 - val_acc: 0.8140\n",
      "\n",
      "Epoch 00010: val_acc did not improve from 0.82000\n",
      "Epoch 11/100\n",
      "4500/4500 [==============================] - 1s 323us/step - loss: 0.1279 - acc: 0.9560 - val_loss: 0.5179 - val_acc: 0.8180\n",
      "\n",
      "Epoch 00011: val_acc did not improve from 0.82000\n",
      "Epoch 12/100\n",
      "4500/4500 [==============================] - 1s 296us/step - loss: 0.1067 - acc: 0.9651 - val_loss: 0.5409 - val_acc: 0.8160\n",
      "\n",
      "Epoch 00012: val_acc did not improve from 0.82000\n",
      "Epoch 13/100\n",
      "4500/4500 [==============================] - 1s 305us/step - loss: 0.0775 - acc: 0.9780 - val_loss: 0.6141 - val_acc: 0.8100\n",
      "\n",
      "Epoch 00013: val_acc did not improve from 0.82000\n",
      "Epoch 14/100\n",
      "4500/4500 [==============================] - 1s 310us/step - loss: 0.0719 - acc: 0.9796 - val_loss: 0.5943 - val_acc: 0.8320\n",
      "\n",
      "Epoch 00014: val_acc improved from 0.82000 to 0.83200, saving model to /tmp/lstm_model.h5\n",
      "Epoch 15/100\n",
      "4500/4500 [==============================] - 1s 317us/step - loss: 0.0508 - acc: 0.9858 - val_loss: 0.6326 - val_acc: 0.8240\n",
      "\n",
      "Epoch 00015: val_acc did not improve from 0.83200\n",
      "Epoch 16/100\n",
      "4500/4500 [==============================] - 1s 316us/step - loss: 0.0475 - acc: 0.9876 - val_loss: 0.6879 - val_acc: 0.8220\n",
      "\n",
      "Epoch 00016: val_acc did not improve from 0.83200\n",
      "Epoch 17/100\n",
      "4500/4500 [==============================] - 1s 320us/step - loss: 0.0326 - acc: 0.9938 - val_loss: 0.7012 - val_acc: 0.8200\n",
      "\n",
      "Epoch 00017: val_acc did not improve from 0.83200\n",
      "Epoch 18/100\n",
      "4500/4500 [==============================] - 1s 325us/step - loss: 0.0363 - acc: 0.9893 - val_loss: 0.7602 - val_acc: 0.8040\n",
      "\n",
      "Epoch 00018: val_acc did not improve from 0.83200\n",
      "Epoch 19/100\n",
      "4500/4500 [==============================] - 1s 322us/step - loss: 0.0237 - acc: 0.9967 - val_loss: 0.7202 - val_acc: 0.8200\n",
      "\n",
      "Epoch 00019: val_acc did not improve from 0.83200\n",
      "Epoch 20/100\n",
      "4500/4500 [==============================] - 1s 317us/step - loss: 0.0182 - acc: 0.9978 - val_loss: 0.7531 - val_acc: 0.8180\n",
      "\n",
      "Epoch 00020: val_acc did not improve from 0.83200\n",
      "Epoch 21/100\n",
      "4500/4500 [==============================] - 1s 332us/step - loss: 0.0154 - acc: 0.9980 - val_loss: 0.7820 - val_acc: 0.8260\n",
      "\n",
      "Epoch 00021: val_acc did not improve from 0.83200\n",
      "Epoch 22/100\n",
      "4500/4500 [==============================] - 1s 303us/step - loss: 0.0143 - acc: 0.9980 - val_loss: 0.8793 - val_acc: 0.8060\n",
      "\n",
      "Epoch 00022: val_acc did not improve from 0.83200\n",
      "Epoch 23/100\n",
      "4500/4500 [==============================] - 1s 305us/step - loss: 0.0300 - acc: 0.9920 - val_loss: 0.7730 - val_acc: 0.8160\n",
      "\n",
      "Epoch 00023: val_acc did not improve from 0.83200\n",
      "Epoch 24/100\n",
      "4500/4500 [==============================] - 1s 313us/step - loss: 0.0174 - acc: 0.9967 - val_loss: 0.7695 - val_acc: 0.8280\n",
      "\n",
      "Epoch 00024: val_acc did not improve from 0.83200\n"
     ]
    },
    {
     "data": {
      "text/plain": [
       "<keras.callbacks.History at 0x7f99b05d1fd0>"
      ]
     },
     "execution_count": 11,
     "metadata": {},
     "output_type": "execute_result"
    }
   ],
   "source": [
    "from keras.callbacks import ModelCheckpoint, EarlyStopping\n",
    "\n",
    "checkpointer = ModelCheckpoint('/tmp/lstm_model.h5', save_best_only=True, monitor='val_acc', verbose=1)\n",
    "early_stopper = EarlyStopping(monitor='val_acc', patience=10)\n",
    "\n",
    "\n",
    "model.fit(text_train, y_train, \n",
    "          callbacks=[checkpointer, early_stopper],\n",
    "          validation_data=(text_dev, y_dev), \n",
    "          epochs=100, verbose=1,\n",
    "          batch_size=32)\n"
   ]
  },
  {
   "cell_type": "code",
   "execution_count": 12,
   "metadata": {},
   "outputs": [
    {
     "name": "stdout",
     "output_type": "stream",
     "text": [
      "CuDNNGRU with avg pooling consuming Elmo_1:0 -- \n",
      "\n",
      "\n",
      "Evaluación sobre dev\n",
      "500/500 [==============================] - 0s 176us/step\n",
      "Loss           : 0.5946\n",
      "Accuracy       : 0.8280\n",
      "Precision(1)   : 0.8269\n",
      "Precision(1)   : 0.8288\n",
      "Precision(avg) : 0.8278\n",
      "\n",
      "Recall(1)      : 0.7748\n",
      "Recall(0)      : 0.8705\n",
      "Recall(avg)    : 0.8226\n",
      "\n",
      "F1(1)          : 0.8000\n",
      "F1(0)          : 0.8491\n",
      "F1(avg)        : 0.8246\n",
      "\n",
      "Evaluación sobre test\n",
      "1600/1600 [==============================] - 0s 189us/step\n",
      "Loss           : 0.9377\n",
      "Accuracy       : 0.7388\n",
      "Precision(1)   : 0.6753\n",
      "Precision(1)   : 0.7883\n",
      "Precision(avg) : 0.7318\n",
      "\n",
      "Recall(1)      : 0.7091\n",
      "Recall(0)      : 0.7606\n",
      "Recall(avg)    : 0.7349\n",
      "\n",
      "F1(1)          : 0.6918\n",
      "F1(0)          : 0.7742\n",
      "F1(avg)        : 0.7330\n"
     ]
    }
   ],
   "source": [
    "from hate.utils import print_evaluation\n",
    "print(\"{} -- \\n\\n\".format(model.display_name))\n",
    "print(\"Evaluación sobre dev\")\n",
    "\n",
    "model.load_weights(checkpointer.filepath)\n",
    "\n",
    "print_evaluation(model, text_dev, y_dev)\n",
    "print(\"\\nEvaluación sobre test\")\n",
    "\n",
    "print_evaluation(model, text_test, y_test)"
   ]
  },
  {
   "cell_type": "markdown",
   "metadata": {},
   "source": [
    "Ok! Uhmmmm no queda claro si ELMo"
   ]
  }
 ],
 "metadata": {
  "kernelspec": {
   "display_name": "Python 3",
   "language": "python",
   "name": "python3"
  },
  "language_info": {
   "codemirror_mode": {
    "name": "ipython",
    "version": 3
   },
   "file_extension": ".py",
   "mimetype": "text/x-python",
   "name": "python",
   "nbconvert_exporter": "python",
   "pygments_lexer": "ipython3",
   "version": "3.6.5"
  }
 },
 "nbformat": 4,
 "nbformat_minor": 4
}
