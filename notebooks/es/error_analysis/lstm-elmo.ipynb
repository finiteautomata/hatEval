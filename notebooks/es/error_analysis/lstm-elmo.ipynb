{
 "cells": [
  {
   "cell_type": "markdown",
   "metadata": {},
   "source": [
    "# Error Analysis\n",
    "\n",
    "En esta notebook haremos análisis de error sobre nuestro modelo neuronal.\n",
    "\n",
    "La idea es ver cómo se activan las neuronas de la LSTM, cuándo las compuertas se saturan, etc.\n"
   ]
  },
  {
   "cell_type": "code",
   "execution_count": 1,
   "metadata": {},
   "outputs": [
    {
     "name": "stdout",
     "output_type": "stream",
     "text": [
      "Instancias de entrenamiento: 4500\n",
      "Instancias de desarrollo: 500\n",
      "Instancias de test: 1600\n"
     ]
    }
   ],
   "source": [
    "%load_ext autoreload\n",
    "%autoreload 2\n",
    "import pandas as pd\n",
    "import csv\n",
    "import numpy as np\n",
    "import tensorflow as tf\n",
    "import random\n",
    "import torch\n",
    "\n",
    "torch.manual_seed(2019)\n",
    "np.random.seed(2019)\n",
    "tf.random.set_random_seed(2019)\n",
    "random.seed(2019)\n",
    "\n",
    "torch.backends.cudnn.deterministic = True\n",
    "torch.backends.cudnn.benchmark = False\n",
    "\n",
    "df_dev = pd.read_table(\"../../../data/es/dev_es.tsv\", index_col=\"id\", quoting=csv.QUOTE_NONE)\n",
    "df_train = pd.read_table(\"../../../data/es/train_es.tsv\", index_col=\"id\", quoting=csv.QUOTE_NONE)\n",
    "df_test = pd.read_table(\"../../../data/es/reference_es.tsv\", header=None, \n",
    "                        names=[\"text\", \"HS\", \"TR\", \"AG\"], quoting=csv.QUOTE_NONE)\n",
    "\n",
    "\n",
    "text_train, y_train = df_train[\"text\"], df_train[\"HS\"]\n",
    "text_dev, y_dev = df_dev[\"text\"], df_dev[\"HS\"]\n",
    "text_test, y_test = df_test[\"text\"], df_test[\"HS\"]\n",
    "\n",
    "print(\"Instancias de entrenamiento: {}\".format(len(df_train)))\n",
    "print(\"Instancias de desarrollo: {}\".format(len(df_dev)))\n",
    "print(\"Instancias de test: {}\".format(len(df_test)))\n"
   ]
  },
  {
   "cell_type": "markdown",
   "metadata": {},
   "source": [
    "Cargamos datos dev con anotaciones propias"
   ]
  },
  {
   "cell_type": "code",
   "execution_count": 2,
   "metadata": {},
   "outputs": [],
   "source": [
    "df_dev = pd.read_csv(\"dev_with_annotations.es.csv\", index_col=\"id\")\n",
    "\n",
    "df_dev = df_dev[df_dev[\"text\"].notnull()]\n"
   ]
  },
  {
   "cell_type": "markdown",
   "metadata": {},
   "source": [
    "Cargamos modelos de fasttext y ELMo"
   ]
  },
  {
   "cell_type": "code",
   "execution_count": 3,
   "metadata": {},
   "outputs": [
    {
     "name": "stdout",
     "output_type": "stream",
     "text": [
      "Object `Embedder` not found.\n"
     ]
    }
   ],
   "source": [
    "Embedder?"
   ]
  },
  {
   "cell_type": "code",
   "execution_count": 4,
   "metadata": {},
   "outputs": [],
   "source": [
    "%%capture\n",
    "from elmoformanylangs import Embedder\n",
    "import fastText\n",
    "import os\n",
    "\n",
    "\n",
    "fasttext_model = fastText.load_model(os.path.expanduser(\"../../../WordVectors/UBA_w3_300.bin\"))\n",
    "elmo_embedder = Embedder(\"../../../models/elmo/es/\")"
   ]
  },
  {
   "cell_type": "code",
   "execution_count": 5,
   "metadata": {},
   "outputs": [],
   "source": [
    "elmo_embedder.sents2elmo([\"esto es una prueba\"]);"
   ]
  },
  {
   "cell_type": "markdown",
   "metadata": {},
   "source": [
    "## GRU + Global Max Pooling"
   ]
  },
  {
   "cell_type": "code",
   "execution_count": 10,
   "metadata": {},
   "outputs": [],
   "source": [
    "from hate.nn import ElmoModel\n",
    "from keras.optimizers import Adam\n",
    "\n",
    "max_length = 40\n",
    "\n",
    "model = ElmoModel(\n",
    "    max_length, fasttext_model=fasttext_model,\n",
    "    elmo_embedder=elmo_embedder, \n",
    "    rnn_units=256, dropout=0.75,\n",
    "    tokenize_args = {\n",
    "        \"preserve_case\": False,\n",
    "        \"deaccent\": False,\n",
    "        \"reduce_len\": True,\n",
    "        \"strip_handles\": True,\n",
    "        \"alpha_only\": False,\n",
    "        \"stem\": False\n",
    "    }\n",
    ")\n",
    "\n",
    "#model.load_weights(\"../../../models/lstm_elmo.h5\")\n"
   ]
  },
  {
   "cell_type": "code",
   "execution_count": 11,
   "metadata": {},
   "outputs": [],
   "source": [
    "\n",
    "optimizer_args = {\n",
    "    \"lr\": 0.0008,\n",
    "    \"decay\": 0.01,\n",
    "}\n",
    "\n",
    "model.compile(loss='binary_crossentropy', \n",
    "              optimizer=Adam(**optimizer_args), \n",
    "              metrics=['accuracy'])"
   ]
  },
  {
   "cell_type": "markdown",
   "metadata": {},
   "source": [
    "¿Cómo anda el tokenizador?"
   ]
  },
  {
   "cell_type": "code",
   "execution_count": 12,
   "metadata": {},
   "outputs": [
    {
     "name": "stdout",
     "output_type": "stream",
     "text": [
      "Nuestro tokenizador:  ['jajajaajajaj', 'qué', 'hdy', 'culi', '4w', '#hashtag']\n",
      "El de NLTK:  ['jajajaajajaj', 'qué', 'hdy', 'culi', '4w', '#hashtag']\n"
     ]
    }
   ],
   "source": [
    "from nltk.tokenize import TweetTokenizer\n",
    "\n",
    "nltk_tokenizer = TweetTokenizer(\n",
    "    preserve_case=False, reduce_len=True, strip_handles=True)\n",
    "tweet_prueba = \"jajajaAJAjaj qué hdy culi4w @mauriciomacri #HashTag\"\n",
    "\n",
    "print(\"Nuestro tokenizador: \", model._tokenizer.tokenize(tweet_prueba))\n",
    "print(\"El de NLTK: \", nltk_tokenizer.tokenize(tweet_prueba))"
   ]
  },
  {
   "cell_type": "code",
   "execution_count": 13,
   "metadata": {},
   "outputs": [
    {
     "name": "stdout",
     "output_type": "stream",
     "text": [
      "Train on 4500 samples, validate on 500 samples\n",
      "Epoch 1/100\n",
      "4500/4500 [==============================] - 3s 703us/step - loss: 0.7848 - acc: 0.6731 - val_loss: 0.5805 - val_acc: 0.7080\n",
      "\n",
      "Epoch 00001: val_acc improved from -inf to 0.70800, saving model to /tmp/lstm_model.h5\n",
      "Epoch 2/100\n",
      "4500/4500 [==============================] - 2s 549us/step - loss: 0.4526 - acc: 0.7904 - val_loss: 0.5459 - val_acc: 0.7640\n",
      "\n",
      "Epoch 00002: val_acc improved from 0.70800 to 0.76400, saving model to /tmp/lstm_model.h5\n",
      "Epoch 3/100\n",
      "4500/4500 [==============================] - 2s 542us/step - loss: 0.3837 - acc: 0.8342 - val_loss: 0.5308 - val_acc: 0.7940\n",
      "\n",
      "Epoch 00003: val_acc improved from 0.76400 to 0.79400, saving model to /tmp/lstm_model.h5\n",
      "Epoch 4/100\n",
      "4500/4500 [==============================] - 2s 548us/step - loss: 0.3329 - acc: 0.8560 - val_loss: 0.5286 - val_acc: 0.7860\n",
      "\n",
      "Epoch 00004: val_acc did not improve from 0.79400\n",
      "Epoch 5/100\n",
      "4500/4500 [==============================] - 2s 550us/step - loss: 0.2977 - acc: 0.8793 - val_loss: 0.5229 - val_acc: 0.7860\n",
      "\n",
      "Epoch 00005: val_acc did not improve from 0.79400\n",
      "Epoch 6/100\n",
      "4500/4500 [==============================] - 2s 551us/step - loss: 0.2803 - acc: 0.8933 - val_loss: 0.5157 - val_acc: 0.7960\n",
      "\n",
      "Epoch 00006: val_acc improved from 0.79400 to 0.79600, saving model to /tmp/lstm_model.h5\n",
      "Epoch 7/100\n",
      "4500/4500 [==============================] - 2s 548us/step - loss: 0.2549 - acc: 0.9051 - val_loss: 0.5123 - val_acc: 0.8020\n",
      "\n",
      "Epoch 00007: val_acc improved from 0.79600 to 0.80200, saving model to /tmp/lstm_model.h5\n",
      "Epoch 8/100\n",
      "4500/4500 [==============================] - 2s 543us/step - loss: 0.2380 - acc: 0.9091 - val_loss: 0.5093 - val_acc: 0.8120\n",
      "\n",
      "Epoch 00008: val_acc improved from 0.80200 to 0.81200, saving model to /tmp/lstm_model.h5\n",
      "Epoch 9/100\n",
      "4500/4500 [==============================] - 2s 547us/step - loss: 0.2230 - acc: 0.9211 - val_loss: 0.5056 - val_acc: 0.8100\n",
      "\n",
      "Epoch 00009: val_acc did not improve from 0.81200\n",
      "Epoch 10/100\n",
      "4500/4500 [==============================] - 2s 551us/step - loss: 0.2111 - acc: 0.9291 - val_loss: 0.5019 - val_acc: 0.8040\n",
      "\n",
      "Epoch 00010: val_acc did not improve from 0.81200\n",
      "Epoch 11/100\n",
      "4500/4500 [==============================] - 2s 552us/step - loss: 0.1987 - acc: 0.9362 - val_loss: 0.4997 - val_acc: 0.8020\n",
      "\n",
      "Epoch 00011: val_acc did not improve from 0.81200\n",
      "Epoch 12/100\n",
      "4500/4500 [==============================] - 2s 548us/step - loss: 0.1904 - acc: 0.9396 - val_loss: 0.4967 - val_acc: 0.8020\n",
      "\n",
      "Epoch 00012: val_acc did not improve from 0.81200\n",
      "Epoch 13/100\n",
      "4500/4500 [==============================] - 2s 551us/step - loss: 0.1769 - acc: 0.9460 - val_loss: 0.4965 - val_acc: 0.8060\n",
      "\n",
      "Epoch 00013: val_acc did not improve from 0.81200\n",
      "Epoch 14/100\n",
      "4500/4500 [==============================] - 2s 551us/step - loss: 0.1701 - acc: 0.9484 - val_loss: 0.4913 - val_acc: 0.8140\n",
      "\n",
      "Epoch 00014: val_acc improved from 0.81200 to 0.81400, saving model to /tmp/lstm_model.h5\n",
      "Epoch 15/100\n",
      "4500/4500 [==============================] - 2s 550us/step - loss: 0.1620 - acc: 0.9587 - val_loss: 0.4881 - val_acc: 0.8140\n",
      "\n",
      "Epoch 00015: val_acc did not improve from 0.81400\n",
      "Epoch 16/100\n",
      "4500/4500 [==============================] - 2s 550us/step - loss: 0.1513 - acc: 0.9613 - val_loss: 0.4833 - val_acc: 0.8180\n",
      "\n",
      "Epoch 00016: val_acc improved from 0.81400 to 0.81800, saving model to /tmp/lstm_model.h5\n",
      "Epoch 17/100\n",
      "4500/4500 [==============================] - 2s 547us/step - loss: 0.1467 - acc: 0.9624 - val_loss: 0.4802 - val_acc: 0.7920\n",
      "\n",
      "Epoch 00017: val_acc did not improve from 0.81800\n",
      "Epoch 18/100\n",
      "4500/4500 [==============================] - 2s 550us/step - loss: 0.1382 - acc: 0.9642 - val_loss: 0.4822 - val_acc: 0.8220\n",
      "\n",
      "Epoch 00018: val_acc improved from 0.81800 to 0.82200, saving model to /tmp/lstm_model.h5\n",
      "Epoch 19/100\n",
      "4500/4500 [==============================] - 2s 550us/step - loss: 0.1322 - acc: 0.9636 - val_loss: 0.4759 - val_acc: 0.8200\n",
      "\n",
      "Epoch 00019: val_acc did not improve from 0.82200\n",
      "Epoch 20/100\n",
      "4500/4500 [==============================] - 2s 548us/step - loss: 0.1268 - acc: 0.9716 - val_loss: 0.4725 - val_acc: 0.8120\n",
      "\n",
      "Epoch 00020: val_acc did not improve from 0.82200\n",
      "Epoch 21/100\n",
      "4500/4500 [==============================] - 2s 555us/step - loss: 0.1237 - acc: 0.9711 - val_loss: 0.4773 - val_acc: 0.8120\n",
      "\n",
      "Epoch 00021: val_acc did not improve from 0.82200\n",
      "Epoch 22/100\n",
      "4500/4500 [==============================] - 2s 548us/step - loss: 0.1142 - acc: 0.9751 - val_loss: 0.4725 - val_acc: 0.8080\n",
      "\n",
      "Epoch 00022: val_acc did not improve from 0.82200\n",
      "Epoch 23/100\n",
      "4500/4500 [==============================] - 2s 550us/step - loss: 0.1117 - acc: 0.9747 - val_loss: 0.4724 - val_acc: 0.8180\n",
      "\n",
      "Epoch 00023: val_acc did not improve from 0.82200\n",
      "Epoch 24/100\n",
      "4500/4500 [==============================] - 2s 549us/step - loss: 0.1056 - acc: 0.9767 - val_loss: 0.4688 - val_acc: 0.8280\n",
      "\n",
      "Epoch 00024: val_acc improved from 0.82200 to 0.82800, saving model to /tmp/lstm_model.h5\n",
      "Epoch 25/100\n",
      "4500/4500 [==============================] - 2s 554us/step - loss: 0.1037 - acc: 0.9778 - val_loss: 0.4664 - val_acc: 0.8160\n",
      "\n",
      "Epoch 00025: val_acc did not improve from 0.82800\n",
      "Epoch 26/100\n",
      "4500/4500 [==============================] - 2s 555us/step - loss: 0.0951 - acc: 0.9818 - val_loss: 0.4639 - val_acc: 0.8260\n",
      "\n",
      "Epoch 00026: val_acc did not improve from 0.82800\n",
      "Epoch 27/100\n",
      "4500/4500 [==============================] - 2s 553us/step - loss: 0.0903 - acc: 0.9847 - val_loss: 0.4616 - val_acc: 0.8180\n",
      "\n",
      "Epoch 00027: val_acc did not improve from 0.82800\n",
      "Epoch 28/100\n",
      "4500/4500 [==============================] - 2s 553us/step - loss: 0.0842 - acc: 0.9853 - val_loss: 0.4589 - val_acc: 0.8140\n",
      "\n",
      "Epoch 00028: val_acc did not improve from 0.82800\n",
      "Epoch 29/100\n",
      "4500/4500 [==============================] - 2s 552us/step - loss: 0.0813 - acc: 0.9849 - val_loss: 0.4574 - val_acc: 0.8240\n",
      "\n",
      "Epoch 00029: val_acc did not improve from 0.82800\n",
      "Epoch 30/100\n",
      "4500/4500 [==============================] - 2s 549us/step - loss: 0.0765 - acc: 0.9882 - val_loss: 0.4544 - val_acc: 0.8260\n",
      "\n",
      "Epoch 00030: val_acc did not improve from 0.82800\n",
      "Epoch 31/100\n",
      "4500/4500 [==============================] - 2s 553us/step - loss: 0.0735 - acc: 0.9893 - val_loss: 0.4526 - val_acc: 0.8260\n",
      "\n",
      "Epoch 00031: val_acc did not improve from 0.82800\n",
      "Epoch 32/100\n",
      "4500/4500 [==============================] - 2s 549us/step - loss: 0.0695 - acc: 0.9907 - val_loss: 0.4511 - val_acc: 0.8240\n",
      "\n",
      "Epoch 00032: val_acc did not improve from 0.82800\n",
      "Epoch 33/100\n",
      "4500/4500 [==============================] - 2s 552us/step - loss: 0.0678 - acc: 0.9887 - val_loss: 0.4492 - val_acc: 0.8200\n",
      "\n",
      "Epoch 00033: val_acc did not improve from 0.82800\n",
      "Epoch 34/100\n",
      "4500/4500 [==============================] - 2s 555us/step - loss: 0.0611 - acc: 0.9916 - val_loss: 0.4472 - val_acc: 0.8200\n",
      "\n",
      "Epoch 00034: val_acc did not improve from 0.82800\n",
      "Epoch 35/100\n",
      "4500/4500 [==============================] - 2s 550us/step - loss: 0.0600 - acc: 0.9909 - val_loss: 0.4426 - val_acc: 0.8220\n",
      "\n",
      "Epoch 00035: val_acc did not improve from 0.82800\n",
      "Epoch 36/100\n",
      "4500/4500 [==============================] - 2s 550us/step - loss: 0.0536 - acc: 0.9913 - val_loss: 0.4441 - val_acc: 0.8040\n",
      "\n",
      "Epoch 00036: val_acc did not improve from 0.82800\n",
      "Epoch 37/100\n",
      "4500/4500 [==============================] - 2s 553us/step - loss: 0.0507 - acc: 0.9931 - val_loss: 0.4427 - val_acc: 0.8020\n",
      "\n",
      "Epoch 00037: val_acc did not improve from 0.82800\n",
      "Epoch 38/100\n",
      "4500/4500 [==============================] - 2s 547us/step - loss: 0.0459 - acc: 0.9942 - val_loss: 0.4364 - val_acc: 0.8120\n",
      "\n",
      "Epoch 00038: val_acc did not improve from 0.82800\n",
      "Epoch 39/100\n",
      "4500/4500 [==============================] - 2s 554us/step - loss: 0.0421 - acc: 0.9947 - val_loss: 0.4334 - val_acc: 0.8200\n",
      "\n",
      "Epoch 00039: val_acc did not improve from 0.82800\n",
      "Epoch 40/100\n",
      "4500/4500 [==============================] - 2s 554us/step - loss: 0.0379 - acc: 0.9953 - val_loss: 0.4317 - val_acc: 0.8120\n",
      "\n",
      "Epoch 00040: val_acc did not improve from 0.82800\n",
      "Epoch 41/100\n",
      "4500/4500 [==============================] - 2s 549us/step - loss: 0.0341 - acc: 0.9964 - val_loss: 0.4290 - val_acc: 0.8200\n",
      "\n",
      "Epoch 00041: val_acc did not improve from 0.82800\n",
      "Epoch 42/100\n",
      "4500/4500 [==============================] - 2s 550us/step - loss: 0.0317 - acc: 0.9964 - val_loss: 0.4268 - val_acc: 0.8220\n",
      "\n",
      "Epoch 00042: val_acc did not improve from 0.82800\n",
      "Epoch 43/100\n",
      "4500/4500 [==============================] - 2s 552us/step - loss: 0.0281 - acc: 0.9973 - val_loss: 0.4259 - val_acc: 0.8180\n",
      "\n",
      "Epoch 00043: val_acc did not improve from 0.82800\n",
      "Epoch 44/100\n",
      "4500/4500 [==============================] - 2s 548us/step - loss: 0.0247 - acc: 0.9967 - val_loss: 0.4276 - val_acc: 0.7980\n",
      "\n",
      "Epoch 00044: val_acc did not improve from 0.82800\n",
      "Epoch 45/100\n",
      "4500/4500 [==============================] - 2s 551us/step - loss: 0.0227 - acc: 0.9978 - val_loss: 0.4227 - val_acc: 0.8160\n",
      "\n",
      "Epoch 00045: val_acc did not improve from 0.82800\n",
      "Epoch 46/100\n",
      "4500/4500 [==============================] - 2s 554us/step - loss: 0.0191 - acc: 0.9984 - val_loss: 0.4222 - val_acc: 0.8020\n",
      "\n",
      "Epoch 00046: val_acc did not improve from 0.82800\n",
      "Epoch 47/100\n",
      "4500/4500 [==============================] - 2s 550us/step - loss: 0.0180 - acc: 0.9984 - val_loss: 0.4221 - val_acc: 0.8120\n",
      "\n",
      "Epoch 00047: val_acc did not improve from 0.82800\n",
      "Epoch 48/100\n",
      "4500/4500 [==============================] - 2s 551us/step - loss: 0.0157 - acc: 0.9984 - val_loss: 0.4248 - val_acc: 0.8080\n",
      "\n",
      "Epoch 00048: val_acc did not improve from 0.82800\n",
      "Epoch 49/100\n",
      "4500/4500 [==============================] - 2s 550us/step - loss: 0.0134 - acc: 0.9996 - val_loss: 0.4198 - val_acc: 0.8160\n",
      "\n",
      "Epoch 00049: val_acc did not improve from 0.82800\n",
      "Epoch 50/100\n",
      "4500/4500 [==============================] - 2s 552us/step - loss: 0.0114 - acc: 0.9993 - val_loss: 0.4250 - val_acc: 0.8200\n",
      "\n",
      "Epoch 00050: val_acc did not improve from 0.82800\n",
      "Epoch 51/100\n",
      "4500/4500 [==============================] - 2s 551us/step - loss: 0.0102 - acc: 0.9998 - val_loss: 0.4211 - val_acc: 0.8080\n",
      "\n",
      "Epoch 00051: val_acc did not improve from 0.82800\n",
      "Epoch 52/100\n",
      "4500/4500 [==============================] - 2s 553us/step - loss: 0.0094 - acc: 0.9996 - val_loss: 0.4220 - val_acc: 0.7960\n",
      "\n",
      "Epoch 00052: val_acc did not improve from 0.82800\n",
      "Epoch 53/100\n",
      "4500/4500 [==============================] - 2s 554us/step - loss: 0.0099 - acc: 0.9993 - val_loss: 0.4213 - val_acc: 0.8140\n",
      "\n",
      "Epoch 00053: val_acc did not improve from 0.82800\n",
      "Epoch 54/100\n",
      "4500/4500 [==============================] - 2s 551us/step - loss: 0.0086 - acc: 0.9993 - val_loss: 0.4244 - val_acc: 0.8160\n",
      "\n",
      "Epoch 00054: val_acc did not improve from 0.82800\n",
      "Epoch 55/100\n",
      "4500/4500 [==============================] - 2s 549us/step - loss: 0.0078 - acc: 0.9996 - val_loss: 0.4216 - val_acc: 0.8140\n",
      "\n",
      "Epoch 00055: val_acc did not improve from 0.82800\n",
      "Epoch 56/100\n",
      "4500/4500 [==============================] - 2s 555us/step - loss: 0.0067 - acc: 0.9996 - val_loss: 0.4258 - val_acc: 0.7900\n",
      "\n",
      "Epoch 00056: val_acc did not improve from 0.82800\n",
      "Epoch 57/100\n",
      "4500/4500 [==============================] - 2s 549us/step - loss: 0.0071 - acc: 0.9993 - val_loss: 0.4230 - val_acc: 0.8100\n",
      "\n",
      "Epoch 00057: val_acc did not improve from 0.82800\n",
      "Epoch 58/100\n",
      "4500/4500 [==============================] - 2s 548us/step - loss: 0.0085 - acc: 0.9989 - val_loss: 0.4319 - val_acc: 0.8120\n",
      "\n",
      "Epoch 00058: val_acc did not improve from 0.82800\n",
      "Epoch 59/100\n",
      "4500/4500 [==============================] - 2s 549us/step - loss: 0.0082 - acc: 0.9987 - val_loss: 0.4214 - val_acc: 0.7900\n",
      "\n",
      "Epoch 00059: val_acc did not improve from 0.82800\n",
      "Epoch 60/100\n",
      "4500/4500 [==============================] - 2s 546us/step - loss: 0.0050 - acc: 0.9998 - val_loss: 0.4230 - val_acc: 0.8080\n",
      "\n",
      "Epoch 00060: val_acc did not improve from 0.82800\n",
      "Epoch 61/100\n",
      "4500/4500 [==============================] - 2s 552us/step - loss: 0.0051 - acc: 0.9996 - val_loss: 0.4254 - val_acc: 0.8080\n",
      "\n",
      "Epoch 00061: val_acc did not improve from 0.82800\n",
      "Epoch 62/100\n",
      "4500/4500 [==============================] - 2s 555us/step - loss: 0.0054 - acc: 0.9996 - val_loss: 0.4235 - val_acc: 0.8160\n",
      "\n",
      "Epoch 00062: val_acc did not improve from 0.82800\n",
      "Epoch 63/100\n",
      "4500/4500 [==============================] - 2s 549us/step - loss: 0.0043 - acc: 0.9998 - val_loss: 0.4253 - val_acc: 0.8060\n",
      "\n",
      "Epoch 00063: val_acc did not improve from 0.82800\n",
      "Epoch 64/100\n",
      "4500/4500 [==============================] - 2s 548us/step - loss: 0.0042 - acc: 0.9998 - val_loss: 0.4273 - val_acc: 0.8060\n",
      "\n",
      "Epoch 00064: val_acc did not improve from 0.82800\n"
     ]
    },
    {
     "data": {
      "text/plain": [
       "<keras.callbacks.History at 0x7f08e2394cf8>"
      ]
     },
     "execution_count": 13,
     "metadata": {},
     "output_type": "execute_result"
    }
   ],
   "source": [
    "from keras.callbacks import ModelCheckpoint, EarlyStopping\n",
    "\n",
    "checkpointer = ModelCheckpoint('/tmp/lstm_model.h5', save_best_only=True, monitor='val_acc', verbose=1)\n",
    "early_stopper = EarlyStopping(monitor='val_loss', patience=15)\n",
    "\n",
    "\n",
    "model.fit(text_train, y_train, \n",
    "          callbacks=[checkpointer, early_stopper],\n",
    "          validation_data=(text_dev, y_dev), epochs=100, batch_size=32)\n"
   ]
  },
  {
   "cell_type": "code",
   "execution_count": 14,
   "metadata": {},
   "outputs": [
    {
     "name": "stdout",
     "output_type": "stream",
     "text": [
      "biGRU + MaxPool1D - Elmo+Embeddings -- \n",
      "\n",
      "\n",
      "Evaluación sobre dev\n",
      "500/500 [==============================] - 0s 250us/step\n",
      "Loss           : 0.4686\n",
      "Accuracy       : 0.8280\n",
      "Precision(1)   : 0.8091\n",
      "Precision(1)   : 0.8429\n",
      "Precision(avg) : 0.8260\n",
      "\n",
      "Recall(1)      : 0.8018\n",
      "Recall(0)      : 0.8489\n",
      "Recall(avg)    : 0.8254\n",
      "\n",
      "F1(1)          : 0.8054\n",
      "F1(0)          : 0.8459\n",
      "F1(avg)        : 0.8257\n",
      "\n",
      "Evaluación sobre test\n",
      "1600/1600 [==============================] - 0s 276us/step\n",
      "Loss           : 0.5343\n",
      "Accuracy       : 0.7306\n",
      "Precision(1)   : 0.6514\n",
      "Precision(1)   : 0.8053\n",
      "Precision(avg) : 0.7283\n",
      "\n",
      "Recall(1)      : 0.7530\n",
      "Recall(0)      : 0.7170\n",
      "Recall(avg)    : 0.7350\n",
      "\n",
      "F1(1)          : 0.6985\n",
      "F1(0)          : 0.7586\n",
      "F1(avg)        : 0.7286\n"
     ]
    }
   ],
   "source": [
    "from hate.utils import print_evaluation\n",
    "print(\"biGRU + MaxPool1D - Elmo+Embeddings -- \\n\\n\")\n",
    "print(\"Evaluación sobre dev\")\n",
    "\n",
    "model.load_weights(checkpointer.filepath)\n",
    "\n",
    "print_evaluation(model, text_dev, y_dev)\n",
    "print(\"\\nEvaluación sobre test\")\n",
    "\n",
    "print_evaluation(model, text_test, y_test)"
   ]
  },
  {
   "cell_type": "markdown",
   "metadata": {},
   "source": [
    "## Error Analysis\n",
    "\n",
    "Vamos a ver los tweets con mayores errores"
   ]
  },
  {
   "cell_type": "code",
   "execution_count": null,
   "metadata": {},
   "outputs": [],
   "source": [
    "df_dev[\"proba\"] = model.predict(text_dev)\n",
    "df_dev[\"PROFANITY\"] = 0\n",
    "\n",
    "\n",
    "true_positives = df_dev[(df_dev[\"HS\"] == 1) & (df_dev[\"proba\"] >= 0.5)].copy()\n",
    "true_negatives = df_dev[(df_dev[\"HS\"] == 0) & (df_dev[\"proba\"] < 0.5)].copy()\n",
    "\n",
    "false_positives = df_dev[(df_dev[\"HS\"] == 0) & (df_dev[\"proba\"] > 0.5)].copy()\n",
    "false_positives.sort_values(\"proba\", ascending=False, inplace=True)\n",
    "\n",
    "\n",
    "false_negatives = df_dev[(df_dev[\"HS\"] == 1) & (df_dev[\"proba\"] < 0.5)].copy()\n",
    "false_negatives.sort_values(\"proba\", ascending=True, inplace=True)\n",
    "\n",
    "conf_matrix = pd.DataFrame([\n",
    "    {\"real\":\"hs=1\", \"pred_true\": len(true_positives), \"pred_false\": len(false_negatives)},\n",
    "    {\"real\":\"hs=0\", \"pred_true\": len(false_positives), \"pred_false\": len(true_negatives)}\n",
    "])\n",
    "\n",
    "\n",
    "\n",
    "conf_matrix.set_index(\"real\", inplace=True)\n",
    "\n",
    "print(\"Falsos negativos: {}\".format(len(false_negatives)))\n",
    "print(\"Falsos positivos: {}\".format(len(false_positives)))\n",
    "\n",
    "conf_matrix[[\"pred_true\", \"pred_false\"]]"
   ]
  },
  {
   "cell_type": "code",
   "execution_count": null,
   "metadata": {},
   "outputs": [],
   "source": [
    "lstm_output_model = Model(inputs=[elmo_input, emb_input], \n",
    "                          outputs=[rnn_layer])"
   ]
  },
  {
   "cell_type": "code",
   "execution_count": null,
   "metadata": {},
   "outputs": [],
   "source": [
    "\n",
    "ret = lstm_output_model.predict([X_dev[0][np.newaxis, ...], \n",
    "                           X_emb_dev[0][np.newaxis, ...]])\n"
   ]
  },
  {
   "cell_type": "code",
   "execution_count": null,
   "metadata": {},
   "outputs": [],
   "source": [
    "ret[:, :, 0]"
   ]
  },
  {
   "cell_type": "code",
   "execution_count": null,
   "metadata": {},
   "outputs": [],
   "source": [
    "\n",
    "for tok in tokens_dev[0]:\n",
    "    "
   ]
  },
  {
   "cell_type": "code",
   "execution_count": null,
   "metadata": {},
   "outputs": [],
   "source": [
    "cols = df_dev.columns\n",
    "cols = cols.difference([\"proba\"])\n",
    "\n",
    "df_dev[cols].to_csv(\"dev_with_annotations.es.csv\")"
   ]
  },
  {
   "cell_type": "markdown",
   "metadata": {},
   "source": [
    "## Proporción de Agresivos"
   ]
  },
  {
   "cell_type": "code",
   "execution_count": null,
   "metadata": {},
   "outputs": [],
   "source": [
    "print(\"Proporción de agresivos :\", sum(df_dev[\"AG\"] == 0) / len(df_dev))\n",
    "\n",
    "hs = df_dev[df_dev[\"HS\"] == 1]\n",
    "\n",
    "print(\"Correlación AG - TR:\", hs[\"AG\"].corr(hs[\"TR\"]))"
   ]
  },
  {
   "cell_type": "markdown",
   "metadata": {},
   "source": [
    "## Falsos negativos"
   ]
  },
  {
   "cell_type": "markdown",
   "metadata": {},
   "source": [
    "Vamos a etiquetar la profanidad. Considero profanidad todo aquellas palabras de uso vulgar (puta, perra, zorra, coño, negratas, musulmonos) pero no así aquellas que sean marcadoras de discurso racista pero no vulgar (negro, subsahariano)"
   ]
  },
  {
   "cell_type": "code",
   "execution_count": null,
   "metadata": {},
   "outputs": [],
   "source": [
    "profane_words = [\n",
    "    \"sudaca\",\n",
    "    \"puta\", \"polla\", \"perra\", \"zorra\", \"coño\", \"orto\", \"morra\", \"negrata\", \"pelotuda\", \"moromierda\", \"guarr\"]\n",
    "for idx, t in df_dev.iterrows():\n",
    "    for w in profane_words:\n",
    "        if w in t[\"text\"].lower():\n",
    "            df_dev.loc[idx, \"PROFANITY\"] = 1\n",
    "            break\n",
    "    "
   ]
  },
  {
   "cell_type": "code",
   "execution_count": null,
   "metadata": {},
   "outputs": [],
   "source": [
    "df_dev.loc[24529, \"PROFANITY\"] = 1"
   ]
  },
  {
   "cell_type": "code",
   "execution_count": null,
   "metadata": {},
   "outputs": [],
   "source": [
    "print(df_dev[df_dev[\"PROFANITY\"] == 0].shape[0])\n",
    "df_dev[df_dev[\"PROFANITY\"] == 0][169:]"
   ]
  },
  {
   "cell_type": "code",
   "execution_count": null,
   "metadata": {},
   "outputs": [],
   "source": [
    "pd.set_option('max_colwidth', 400)\n",
    "\n",
    "\n",
    "\n",
    "print(\"Totales = \", len(false_negatives))\n",
    "print(\"No AG ({}) AG ({})\".format(sum(false_negatives[\"AG\"] == 0), sum(false_negatives[\"AG\"] == 1)))\n",
    "false_negatives[[\"text\", \"proba\", \"HS\", \"AG\", \"PROFANITY\"]]"
   ]
  },
  {
   "cell_type": "markdown",
   "metadata": {},
   "source": [
    "## Falsos Positivos"
   ]
  },
  {
   "cell_type": "code",
   "execution_count": null,
   "metadata": {},
   "outputs": [],
   "source": [
    "pd.set_option('max_colwidth', 300)\n",
    "\n",
    "\n",
    "\n",
    "print(\"Totales = \", len(false_positives))\n",
    "print(\"No AG ({}) AG ({})\".format(sum(false_positives[\"AG\"] == 0), sum(false_positives[\"AG\"] == 1)))\n",
    "false_positives[[\"text\", \"proba\", \"HS\", \"AG\"]]"
   ]
  }
 ],
 "metadata": {
  "kernelspec": {
   "display_name": "Python 3",
   "language": "python",
   "name": "python3"
  },
  "language_info": {
   "codemirror_mode": {
    "name": "ipython",
    "version": 3
   },
   "file_extension": ".py",
   "mimetype": "text/x-python",
   "name": "python",
   "nbconvert_exporter": "python",
   "pygments_lexer": "ipython3",
   "version": "3.6.5"
  }
 },
 "nbformat": 4,
 "nbformat_minor": 4
}
