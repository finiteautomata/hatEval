{
 "cells": [
  {
   "cell_type": "markdown",
   "metadata": {},
   "source": [
    "# Error Analysis\n",
    "\n",
    "En esta notebook haremos análisis de error sobre nuestro modelo neuronal.\n",
    "\n",
    "La idea es ver cómo se activan las neuronas de la LSTM, cuándo las compuertas se saturan, etc.\n"
   ]
  },
  {
   "cell_type": "code",
   "execution_count": 1,
   "metadata": {},
   "outputs": [
    {
     "name": "stdout",
     "output_type": "stream",
     "text": [
      "Instancias de entrenamiento: 4500\n",
      "Instancias de desarrollo: 500\n",
      "Instancias de test: 1600\n"
     ]
    }
   ],
   "source": [
    "%load_ext autoreload\n",
    "%autoreload 2\n",
    "import pandas as pd\n",
    "import csv\n",
    "import numpy as np\n",
    "import tensorflow as tf\n",
    "import random\n",
    "import torch\n",
    "\n",
    "torch.manual_seed(2019)\n",
    "np.random.seed(2019)\n",
    "tf.random.set_random_seed(2019)\n",
    "random.seed(2019)\n",
    "\n",
    "torch.backends.cudnn.deterministic = True\n",
    "torch.backends.cudnn.benchmark = False\n",
    "\n",
    "df_dev = pd.read_table(\"../../../data/es/dev_es.tsv\", index_col=\"id\", quoting=csv.QUOTE_NONE)\n",
    "df_train = pd.read_table(\"../../../data/es/train_es.tsv\", index_col=\"id\", quoting=csv.QUOTE_NONE)\n",
    "df_test = pd.read_table(\"../../../data/es/reference_es.tsv\", header=None, \n",
    "                        names=[\"text\", \"HS\", \"TR\", \"AG\"], quoting=csv.QUOTE_NONE)\n",
    "\n",
    "\n",
    "text_train, y_train = df_train[\"text\"], df_train[\"HS\"]\n",
    "text_dev, y_dev = df_dev[\"text\"], df_dev[\"HS\"]\n",
    "text_test, y_test = df_test[\"text\"], df_test[\"HS\"]\n",
    "\n",
    "print(\"Instancias de entrenamiento: {}\".format(len(df_train)))\n",
    "print(\"Instancias de desarrollo: {}\".format(len(df_dev)))\n",
    "print(\"Instancias de test: {}\".format(len(df_test)))\n"
   ]
  },
  {
   "cell_type": "markdown",
   "metadata": {},
   "source": [
    "Cargamos datos dev con anotaciones propias"
   ]
  },
  {
   "cell_type": "code",
   "execution_count": 2,
   "metadata": {},
   "outputs": [],
   "source": [
    "df_dev = pd.read_csv(\"dev_with_annotations.es.csv\", index_col=\"id\")\n",
    "\n",
    "df_dev = df_dev[df_dev[\"text\"].notnull()]\n"
   ]
  },
  {
   "cell_type": "markdown",
   "metadata": {},
   "source": [
    "Cargamos modelos de fasttext y ELMo"
   ]
  },
  {
   "cell_type": "code",
   "execution_count": 3,
   "metadata": {},
   "outputs": [],
   "source": [
    "%%capture\n",
    "from elmoformanylangs import Embedder\n",
    "import fastText\n",
    "import os\n",
    "\n",
    "\n",
    "fasttext_model = fastText.load_model(os.path.expanduser(\"../../../WordVectors/UBA_w3_300.bin\"))\n",
    "elmo_embedder = Embedder(\"../../../models/elmo/es/\")"
   ]
  },
  {
   "cell_type": "code",
   "execution_count": 4,
   "metadata": {},
   "outputs": [],
   "source": [
    "elmo_embedder.sents2elmo([\"esto es una prueba\"]);"
   ]
  },
  {
   "cell_type": "markdown",
   "metadata": {},
   "source": [
    "## GRU + Global Average Pooling\n",
    "\n",
    "We use a model with a BiLSTM + an average pooling (this is controlled by the `pooling` argument to the ElmoModel)"
   ]
  },
  {
   "cell_type": "code",
   "execution_count": 5,
   "metadata": {},
   "outputs": [
    {
     "name": "stderr",
     "output_type": "stream",
     "text": [
      "Using TensorFlow backend.\n"
     ]
    },
    {
     "name": "stdout",
     "output_type": "stream",
     "text": [
      "__________________________________________________________________________________________________\n",
      "Layer (type)                    Output Shape         Param #     Connected to                     \n",
      "==================================================================================================\n",
      "Elmo (InputLayer)               (None, 40, 1024)     0                                            \n",
      "__________________________________________________________________________________________________\n",
      "Fasttext (InputLayer)           (None, 40, 300)      0                                            \n",
      "__________________________________________________________________________________________________\n",
      "concatenate_1 (Concatenate)     (None, 40, 1324)     0           Elmo[0][0]                       \n",
      "                                                                 Fasttext[0][0]                   \n",
      "__________________________________________________________________________________________________\n",
      "cu_dnngru_1 (CuDNNGRU)          (None, 40, 200)      915600      concatenate_1[0][0]              \n",
      "__________________________________________________________________________________________________\n",
      "dropout_1 (Dropout)             (None, 40, 200)      0           cu_dnngru_1[0][0]                \n",
      "__________________________________________________________________________________________________\n",
      "global_average_pooling1d_1 (Glo (None, 200)          0           dropout_1[0][0]                  \n",
      "__________________________________________________________________________________________________\n",
      "dense_1 (Dense)                 (None, 1)            201         global_average_pooling1d_1[0][0] \n",
      "==================================================================================================\n",
      "Total params: 915,801\n",
      "Trainable params: 915,801\n",
      "Non-trainable params: 0\n",
      "__________________________________________________________________________________________________\n",
      "None\n"
     ]
    }
   ],
   "source": [
    "from hate.nn import ElmoModel\n",
    "from keras.optimizers import Adam\n",
    "from keras.layers import LSTM, GRU, CuDNNLSTM, CuDNNGRU\n",
    "max_length = 40\n",
    "\n",
    "def MyRecClass(*args, **kwargs):\n",
    "    kwargs.update({\n",
    "        'activation': 'sigmoid'\n",
    "    })\n",
    "    \n",
    "    return GRU(*args, **kwargs)\n",
    "\n",
    "model = ElmoModel(\n",
    "    max_length, fasttext_model=fasttext_model,\n",
    "    elmo_embedder=elmo_embedder,\n",
    "    recursive_class=CuDNNGRU,\n",
    "    rnn_units=200, dropout=0.0,\n",
    "    pooling='avg',\n",
    "    tokenize_args = {\n",
    "        \"preserve_case\": False,\n",
    "        \"deaccent\": False,\n",
    "        \"reduce_len\": True,\n",
    "        \"strip_handles\": True,\n",
    "        \"alpha_only\": False,\n",
    "        \"stem\": False\n",
    "    }\n",
    ")\n",
    "\n",
    "#model.load_weights(\"../../../models/lstm_elmo.h5\")\n",
    "print(model.summary())"
   ]
  },
  {
   "cell_type": "code",
   "execution_count": 6,
   "metadata": {},
   "outputs": [
    {
     "data": {
      "image/png": "[encoded data removed]",
      "text/plain": [
       "<IPython.core.display.Image object>"
      ]
     },
     "execution_count": 6,
     "metadata": {},
     "output_type": "execute_result"
    }
   ],
   "source": [
    "from keras.utils import plot_model\n",
    "from IPython.display import Image\n",
    "plot_model(model, to_file='model.png')\n",
    "\n",
    "\n",
    "Image(filename='model.png') "
   ]
  },
  {
   "cell_type": "code",
   "execution_count": 7,
   "metadata": {},
   "outputs": [],
   "source": [
    "\n",
    "optimizer_args = {\n",
    "    \"lr\": 0.001,\n",
    "    \"decay\": 0.01,\n",
    "}\n",
    "\n",
    "model.compile(loss='binary_crossentropy', \n",
    "              optimizer=Adam(**optimizer_args), \n",
    "              metrics=['accuracy'])"
   ]
  },
  {
   "cell_type": "markdown",
   "metadata": {},
   "source": [
    "¿Cómo anda el tokenizador?"
   ]
  },
  {
   "cell_type": "code",
   "execution_count": 8,
   "metadata": {},
   "outputs": [
    {
     "name": "stdout",
     "output_type": "stream",
     "text": [
      "Nuestro tokenizador:  ['jajajaajajaj', 'qué', 'hdy', 'culi', '4w', '#hashtag']\n",
      "El de NLTK:  ['jajajaajajaj', 'qué', 'hdy', 'culi', '4w', '#hashtag']\n"
     ]
    }
   ],
   "source": [
    "from nltk.tokenize import TweetTokenizer\n",
    "\n",
    "nltk_tokenizer = TweetTokenizer(\n",
    "    preserve_case=False, reduce_len=True, strip_handles=True)\n",
    "tweet_prueba = \"jajajaAJAjaj qué hdy culi4w @mauriciomacri #HashTag\"\n",
    "\n",
    "print(\"Nuestro tokenizador: \", model._tokenizer.tokenize(tweet_prueba))\n",
    "print(\"El de NLTK: \", nltk_tokenizer.tokenize(tweet_prueba))"
   ]
  },
  {
   "cell_type": "code",
   "execution_count": 9,
   "metadata": {},
   "outputs": [
    {
     "name": "stdout",
     "output_type": "stream",
     "text": [
      "Train on 4500 samples, validate on 500 samples\n",
      "Epoch 1/100\n",
      "4500/4500 [==============================] - 6s 1ms/step - loss: 0.6118 - acc: 0.6856 - val_loss: 0.4804 - val_acc: 0.7680\n",
      "\n",
      "Epoch 00001: val_acc improved from -inf to 0.76800, saving model to /tmp/lstm_model.h5\n",
      "Epoch 2/100\n",
      "4500/4500 [==============================] - 1s 332us/step - loss: 0.4194 - acc: 0.8093 - val_loss: 0.4086 - val_acc: 0.8080\n",
      "\n",
      "Epoch 00002: val_acc improved from 0.76800 to 0.80800, saving model to /tmp/lstm_model.h5\n",
      "Epoch 3/100\n",
      "4500/4500 [==============================] - 2s 348us/step - loss: 0.3530 - acc: 0.8433 - val_loss: 0.4066 - val_acc: 0.8140\n",
      "\n",
      "Epoch 00003: val_acc improved from 0.80800 to 0.81400, saving model to /tmp/lstm_model.h5\n",
      "Epoch 4/100\n",
      "4500/4500 [==============================] - 2s 351us/step - loss: 0.3083 - acc: 0.8673 - val_loss: 0.3987 - val_acc: 0.8200\n",
      "\n",
      "Epoch 00004: val_acc improved from 0.81400 to 0.82000, saving model to /tmp/lstm_model.h5\n",
      "Epoch 5/100\n",
      "4500/4500 [==============================] - 2s 536us/step - loss: 0.2450 - acc: 0.9056 - val_loss: 0.4218 - val_acc: 0.8040\n",
      "\n",
      "Epoch 00005: val_acc did not improve from 0.82000\n",
      "Epoch 6/100\n",
      "4500/4500 [==============================] - 2s 349us/step - loss: 0.1939 - acc: 0.9238 - val_loss: 0.4254 - val_acc: 0.8180\n",
      "\n",
      "Epoch 00006: val_acc did not improve from 0.82000\n",
      "Epoch 7/100\n",
      "4500/4500 [==============================] - 2s 352us/step - loss: 0.1377 - acc: 0.9536 - val_loss: 0.4462 - val_acc: 0.8160\n",
      "\n",
      "Epoch 00007: val_acc did not improve from 0.82000\n",
      "Epoch 8/100\n",
      "4500/4500 [==============================] - 2s 360us/step - loss: 0.0956 - acc: 0.9696 - val_loss: 0.4989 - val_acc: 0.8140\n",
      "\n",
      "Epoch 00008: val_acc did not improve from 0.82000\n",
      "Epoch 9/100\n",
      "4500/4500 [==============================] - 2s 358us/step - loss: 0.0671 - acc: 0.9822 - val_loss: 0.5374 - val_acc: 0.8240\n",
      "\n",
      "Epoch 00009: val_acc improved from 0.82000 to 0.82400, saving model to /tmp/lstm_model.h5\n",
      "Epoch 10/100\n",
      "4500/4500 [==============================] - 2s 351us/step - loss: 0.0474 - acc: 0.9889 - val_loss: 0.5604 - val_acc: 0.8340\n",
      "\n",
      "Epoch 00010: val_acc improved from 0.82400 to 0.83400, saving model to /tmp/lstm_model.h5\n",
      "Epoch 11/100\n",
      "4500/4500 [==============================] - 2s 360us/step - loss: 0.0374 - acc: 0.9920 - val_loss: 0.6109 - val_acc: 0.8200\n",
      "\n",
      "Epoch 00011: val_acc did not improve from 0.83400\n",
      "Epoch 12/100\n",
      "4500/4500 [==============================] - 2s 358us/step - loss: 0.0200 - acc: 0.9973 - val_loss: 0.6417 - val_acc: 0.8180\n",
      "\n",
      "Epoch 00012: val_acc did not improve from 0.83400\n",
      "Epoch 13/100\n",
      "4500/4500 [==============================] - 2s 357us/step - loss: 0.0142 - acc: 0.9987 - val_loss: 0.6913 - val_acc: 0.8180\n",
      "\n",
      "Epoch 00013: val_acc did not improve from 0.83400\n",
      "Epoch 14/100\n",
      "4500/4500 [==============================] - 2s 350us/step - loss: 0.0116 - acc: 0.9991 - val_loss: 0.7264 - val_acc: 0.8120\n",
      "\n",
      "Epoch 00014: val_acc did not improve from 0.83400\n",
      "Epoch 15/100\n",
      "4500/4500 [==============================] - 2s 352us/step - loss: 0.0087 - acc: 0.9993 - val_loss: 0.7543 - val_acc: 0.8200\n",
      "\n",
      "Epoch 00015: val_acc did not improve from 0.83400\n",
      "Epoch 16/100\n",
      "4500/4500 [==============================] - 2s 352us/step - loss: 0.0073 - acc: 0.9998 - val_loss: 0.7884 - val_acc: 0.8180\n",
      "\n",
      "Epoch 00016: val_acc did not improve from 0.83400\n",
      "Epoch 17/100\n",
      "4500/4500 [==============================] - 2s 361us/step - loss: 0.0068 - acc: 0.9996 - val_loss: 0.8083 - val_acc: 0.8180\n",
      "\n",
      "Epoch 00017: val_acc did not improve from 0.83400\n",
      "Epoch 18/100\n",
      "4500/4500 [==============================] - 2s 361us/step - loss: 0.0055 - acc: 0.9996 - val_loss: 0.8748 - val_acc: 0.8140\n",
      "\n",
      "Epoch 00018: val_acc did not improve from 0.83400\n",
      "Epoch 19/100\n",
      "4500/4500 [==============================] - 2s 367us/step - loss: 0.0167 - acc: 0.9964 - val_loss: 0.8290 - val_acc: 0.8140\n",
      "\n",
      "Epoch 00019: val_acc did not improve from 0.83400\n"
     ]
    },
    {
     "data": {
      "text/plain": [
       "<keras.callbacks.History at 0x7f9bd3f6c9b0>"
      ]
     },
     "execution_count": 9,
     "metadata": {},
     "output_type": "execute_result"
    }
   ],
   "source": [
    "from keras.callbacks import ModelCheckpoint, EarlyStopping\n",
    "\n",
    "checkpointer = ModelCheckpoint('/tmp/lstm_model.h5', save_best_only=True, monitor='val_acc', verbose=1)\n",
    "early_stopper = EarlyStopping(monitor='val_loss', patience=15)\n",
    "\n",
    "\n",
    "model.fit(text_train, y_train, \n",
    "          callbacks=[checkpointer, early_stopper],\n",
    "          validation_data=(text_dev, y_dev), epochs=100, batch_size=32)\n"
   ]
  },
  {
   "cell_type": "code",
   "execution_count": 10,
   "metadata": {},
   "outputs": [
    {
     "name": "stdout",
     "output_type": "stream",
     "text": [
      "biGRU + MaxPool1D - Elmo+Embeddings -- \n",
      "\n",
      "\n",
      "Evaluación sobre dev\n",
      "500/500 [==============================] - 0s 205us/step\n",
      "Loss           : 0.5602\n",
      "Accuracy       : 0.8340\n",
      "Precision(1)   : 0.8009\n",
      "Precision(1)   : 0.8625\n",
      "Precision(avg) : 0.8317\n",
      "\n",
      "Recall(1)      : 0.8333\n",
      "Recall(0)      : 0.8345\n",
      "Recall(avg)    : 0.8339\n",
      "\n",
      "F1(1)          : 0.8168\n",
      "F1(0)          : 0.8483\n",
      "F1(avg)        : 0.8325\n",
      "\n",
      "Evaluación sobre test\n",
      "1600/1600 [==============================] - 0s 181us/step\n",
      "Loss           : 0.9515\n",
      "Accuracy       : 0.7269\n",
      "Precision(1)   : 0.6339\n",
      "Precision(1)   : 0.8279\n",
      "Precision(avg) : 0.7309\n",
      "\n",
      "Recall(1)      : 0.8000\n",
      "Recall(0)      : 0.6755\n",
      "Recall(avg)    : 0.7378\n",
      "\n",
      "F1(1)          : 0.7073\n",
      "F1(0)          : 0.7440\n",
      "F1(avg)        : 0.7256\n"
     ]
    }
   ],
   "source": [
    "from hate.utils import print_evaluation\n",
    "print(\"biGRU + MaxPool1D - Elmo+Embeddings -- \\n\\n\")\n",
    "print(\"Evaluación sobre dev\")\n",
    "\n",
    "model.load_weights(checkpointer.filepath)\n",
    "\n",
    "print_evaluation(model, text_dev, y_dev)\n",
    "print(\"\\nEvaluación sobre test\")\n",
    "\n",
    "print_evaluation(model, text_test, y_test)"
   ]
  },
  {
   "cell_type": "markdown",
   "metadata": {},
   "source": [
    "## Error Analysis\n",
    "\n",
    "Vamos a ver los tweets con mayores errores"
   ]
  },
  {
   "cell_type": "code",
   "execution_count": 11,
   "metadata": {},
   "outputs": [
    {
     "name": "stdout",
     "output_type": "stream",
     "text": [
      "Falsos negativos: 37\n",
      "Falsos positivos: 46\n"
     ]
    },
    {
     "data": {
      "text/html": [
       "<div>\n",
       "<style scoped>\n",
       "    .dataframe tbody tr th:only-of-type {\n",
       "        vertical-align: middle;\n",
       "    }\n",
       "\n",
       "    .dataframe tbody tr th {\n",
       "        vertical-align: top;\n",
       "    }\n",
       "\n",
       "    .dataframe thead th {\n",
       "        text-align: right;\n",
       "    }\n",
       "</style>\n",
       "<table border=\"1\" class=\"dataframe\">\n",
       "  <thead>\n",
       "    <tr style=\"text-align: right;\">\n",
       "      <th></th>\n",
       "      <th>pred_true</th>\n",
       "      <th>pred_false</th>\n",
       "    </tr>\n",
       "    <tr>\n",
       "      <th>real</th>\n",
       "      <th></th>\n",
       "      <th></th>\n",
       "    </tr>\n",
       "  </thead>\n",
       "  <tbody>\n",
       "    <tr>\n",
       "      <th>hs=1</th>\n",
       "      <td>185</td>\n",
       "      <td>37</td>\n",
       "    </tr>\n",
       "    <tr>\n",
       "      <th>hs=0</th>\n",
       "      <td>46</td>\n",
       "      <td>232</td>\n",
       "    </tr>\n",
       "  </tbody>\n",
       "</table>\n",
       "</div>"
      ],
      "text/plain": [
       "      pred_true  pred_false\n",
       "real                       \n",
       "hs=1        185          37\n",
       "hs=0         46         232"
      ]
     },
     "execution_count": 11,
     "metadata": {},
     "output_type": "execute_result"
    }
   ],
   "source": [
    "df_dev[\"proba\"] = model.predict(text_dev)\n",
    "df_dev[\"PROFANITY\"] = 0\n",
    "\n",
    "\n",
    "true_positives = df_dev[(df_dev[\"HS\"] == 1) & (df_dev[\"proba\"] >= 0.5)].copy()\n",
    "true_negatives = df_dev[(df_dev[\"HS\"] == 0) & (df_dev[\"proba\"] < 0.5)].copy()\n",
    "\n",
    "false_positives = df_dev[(df_dev[\"HS\"] == 0) & (df_dev[\"proba\"] > 0.5)].copy()\n",
    "false_positives.sort_values(\"proba\", ascending=False, inplace=True)\n",
    "\n",
    "\n",
    "false_negatives = df_dev[(df_dev[\"HS\"] == 1) & (df_dev[\"proba\"] < 0.5)].copy()\n",
    "false_negatives.sort_values(\"proba\", ascending=True, inplace=True)\n",
    "\n",
    "conf_matrix = pd.DataFrame([\n",
    "    {\"real\":\"hs=1\", \"pred_true\": len(true_positives), \"pred_false\": len(false_negatives)},\n",
    "    {\"real\":\"hs=0\", \"pred_true\": len(false_positives), \"pred_false\": len(true_negatives)}\n",
    "])\n",
    "\n",
    "\n",
    "\n",
    "conf_matrix.set_index(\"real\", inplace=True)\n",
    "\n",
    "print(\"Falsos negativos: {}\".format(len(false_negatives)))\n",
    "print(\"Falsos positivos: {}\".format(len(false_positives)))\n",
    "\n",
    "conf_matrix[[\"pred_true\", \"pred_false\"]]"
   ]
  },
  {
   "cell_type": "markdown",
   "metadata": {},
   "source": [
    "## Activations"
   ]
  },
  {
   "cell_type": "markdown",
   "metadata": {},
   "source": [
    "Cortamos las otras capas, y vemos qué está saliendo de la capa recurrente. Para eso, armamos un modelo intermedio"
   ]
  },
  {
   "cell_type": "code",
   "execution_count": 12,
   "metadata": {},
   "outputs": [],
   "source": [
    "from keras.models import Model\n",
    "    \n",
    "\n",
    "interm_model = Model(inputs=model.inputs, outputs=[model.recursive_layer])"
   ]
  },
  {
   "cell_type": "code",
   "execution_count": 13,
   "metadata": {},
   "outputs": [
    {
     "data": {
      "image/png": "[encoded data removed]",
      "text/plain": [
       "<Figure size 432x288 with 1 Axes>"
      ]
     },
     "metadata": {
      "needs_background": "light"
     },
     "output_type": "display_data"
    }
   ],
   "source": [
    "import matplotlib.pyplot as plt\n",
    "\n",
    "kernel_weights, bias_weights = model.layers[-1].get_weights()\n",
    "\n",
    "kernel_weights = np.sort(kernel_weights)\n",
    "\n",
    "plt.hist(kernel_weights, bins=15);"
   ]
  },
  {
   "cell_type": "markdown",
   "metadata": {},
   "source": [
    "*Observación*: \n",
    "\n",
    "Esta distribución cambia mucho si cambiamos la activación de la GRU/LSTM, y si ponemos max o average pooling\n"
   ]
  },
  {
   "cell_type": "code",
   "execution_count": 14,
   "metadata": {},
   "outputs": [
    {
     "name": "stdout",
     "output_type": "stream",
     "text": [
      "Mean weight -0.0034 STD: 0.1115\n"
     ]
    }
   ],
   "source": [
    "print(\"Mean weight {:.4f} STD: {:.4f}\".format(kernel_weights.mean(), kernel_weights.std()))"
   ]
  },
  {
   "cell_type": "code",
   "execution_count": 25,
   "metadata": {},
   "outputs": [
    {
     "data": {
      "text/plain": [
       "41"
      ]
     },
     "execution_count": 25,
     "metadata": {},
     "output_type": "execute_result"
    }
   ],
   "source": [
    "(abs(kernel_weights) > 1.3 * kernel_weights.std() ).sum()"
   ]
  },
  {
   "cell_type": "code",
   "execution_count": 16,
   "metadata": {},
   "outputs": [],
   "source": [
    "%matplotlib inline\n",
    "import plotly.graph_objects as go\n",
    "\n",
    "def get_interm_outputs(text):\n",
    "    tokenized_text = model._preprocess_tweet(text)\n",
    "    text_elmo, text_emb = model.preprocess_transform([text])\n",
    "    \n",
    "    rnn_output = interm_model.predict([text_elmo, text_emb]).squeeze()\n",
    "    # Remove padding\n",
    "    last_idx = next(j for j in range(len(tokenized_text), -1, -1) if tokenized_text[j-1] != '')\n",
    "    return tokenized_text[:last_idx], rnn_output[:last_idx, :]\n",
    "    \n",
    "def plot_recurrent_outputs(text):\n",
    "    tokenized_text, rnn_output = get_interm_outputs(text)\n",
    "    kernel_weights, _ = model.layers[-1].get_weights()\n",
    "    \n",
    "    \"\"\"\n",
    "    Saturo para colores altos\n",
    "    \"\"\"\n",
    "    ind = abs(kernel_weights) > 1.5* kernel_weights.std()\n",
    "    kernel_weights = np.sign(kernel_weights) * ind + kernel_weights * (1-ind) \n",
    "    \n",
    "    rnn_output = np.vstack([kernel_weights.reshape(1, -1), rnn_output])\n",
    "    \n",
    "    rnn_output = rnn_output.T\n",
    "    print(\"Longitud de texto: {}\".format(len(tokenized_text)))\n",
    "    print(\"Matrix shape: {}\".format(rnn_output.shape))\n",
    "    print(tokenized_text)\n",
    "    cell_idxs = list(range(rnn_output.shape[0] // 2))\n",
    "    \n",
    "    Z = rnn_output[cell_idxs]\n",
    "    \n",
    "    fig = go.Figure(\n",
    "        data=go.Heatmap(\n",
    "            z=Z,\n",
    "            x=[\"WEIGHT\"] + tokenized_text,\n",
    "            colorscale='RdBu', reversescale=True\n",
    "            \n",
    "    ))\n",
    "    fig.update_layout(\n",
    "        autosize=False,\n",
    "        width=1200,\n",
    "        height=2000,\n",
    "    )\n",
    "\n",
    "    fig.show()\n",
    "\n"
   ]
  },
  {
   "cell_type": "markdown",
   "metadata": {},
   "source": [
    "Agarramos un ejemplo y vemos la salida de las activaciones (recordar que son salidas de -1 a 1 porque son `tanh`)\n",
    "\n",
    "- ~1 : rojo\n",
    "- ~-1: azul"
   ]
  },
  {
   "cell_type": "code",
   "execution_count": 17,
   "metadata": {},
   "outputs": [],
   "source": [
    "text = false_positives[\"text\"].iloc[2]"
   ]
  },
  {
   "cell_type": "code",
   "execution_count": 26,
   "metadata": {},
   "outputs": [
    {
     "name": "stdout",
     "output_type": "stream",
     "text": [
      "0.99628437\n",
      "@VidalSieteDiez Tú eres la perra, no te dejes engañar.\n"
     ]
    }
   ],
   "source": [
    "rec = true_positives.iloc[9]\n",
    "text = rec[\"text\"]\n",
    "print(rec[\"proba\"])\n",
    "print(text)"
   ]
  },
  {
   "cell_type": "code",
   "execution_count": 27,
   "metadata": {},
   "outputs": [
    {
     "name": "stdout",
     "output_type": "stream",
     "text": [
      "['tú', 'eres', 'la', 'perra', ',', 'no', 'te', 'dejes', 'engañar', '.', '', '', '', '', '', '', '', '', '', '', '', '', '', '', '', '', '', '', '', '', '', '', '', '', '', '', '', '', '', '']\n"
     ]
    },
    {
     "data": {
      "text/plain": [
       "array([[0.99625117]], dtype=float32)"
      ]
     },
     "execution_count": 27,
     "metadata": {},
     "output_type": "execute_result"
    }
   ],
   "source": [
    "\n",
    "tokenized_text = model._preprocess_tweet(text)\n",
    "print(tokenized_text)\n",
    "model.predict([text])"
   ]
  },
  {
   "cell_type": "markdown",
   "metadata": {},
   "source": [
    "Mmmm, esto "
   ]
  },
  {
   "cell_type": "code",
   "execution_count": 29,
   "metadata": {},
   "outputs": [
    {
     "name": "stdout",
     "output_type": "stream",
     "text": [
      "Longitud de texto: 10\n",
      "Matrix shape: (200, 11)\n",
      "['tú', 'eres', 'la', 'perra', ',', 'no', 'te', 'dejes', 'engañar', '.']\n"
     ]
    },
    {
     "data": {
      "application/vnd.plotly.v1+json": {
       "config": {
        "plotlyServerURL": "https://plot.ly"
       },
       "data": [
        {
         "colorscale": [
          [
           0,
           "rgb(103,0,31)"
          ],
          [
           0.1,
           "rgb(178,24,43)"
          ],
          [
           0.2,
           "rgb(214,96,77)"
          ],
          [
           0.3,
           "rgb(244,165,130)"
          ],
          [
           0.4,
           "rgb(253,219,199)"
          ],
          [
           0.5,
           "rgb(247,247,247)"
          ],
          [
           0.6,
           "rgb(209,229,240)"
          ],
          [
           0.7,
           "rgb(146,197,222)"
          ],
          [
           0.8,
           "rgb(67,147,195)"
          ],
          [
           0.9,
           "rgb(33,102,172)"
          ],
          [
           1,
           "rgb(5,48,97)"
          ]
         ],
         "reversescale": true,
         "type": "heatmap",
         "x": [
          "WEIGHT",
          "tú",
          "eres",
          "la",
          "perra",
          ",",
          "no",
          "te",
          "dejes",
          "engañar",
          "."
         ],
         "z": [
          [
           1,
           0.04022631794214249,
           0.06485088914632797,
           0.3437351584434509,
           0.3659180998802185,
           0.3604910373687744,
           0.3599192500114441,
           0.36168372631073,
           0.36214566230773926,
           0.47253820300102234,
           0.40790054202079773
          ],
          [
           -1,
           -0.16742675006389618,
           -0.3593648076057434,
           -0.45648393034935,
           -0.8854716420173645,
           -0.8856154680252075,
           -0.8862000703811646,
           -0.8863282203674316,
           -0.883838951587677,
           -0.884033739566803,
           -0.8833779096603394
          ],
          [
           -0.12763190269470215,
           0.021595198661088943,
           0.0659019872546196,
           0.13943582773208618,
           0.14027756452560425,
           0.14345985651016235,
           0.16516371071338654,
           0.36889633536338806,
           0.3022323250770569,
           0.25749313831329346,
           0.2524309754371643
          ],
          [
           -0.12167799472808838,
           0.002682367106899619,
           0.0003576020826585591,
           0.08207007497549057,
           0.09736920148134232,
           0.08237455040216446,
           0.07984145730733871,
           0.07637258619070053,
           0.07790353149175644,
           0.0821911096572876,
           0.058366559445858
          ],
          [
           -0.13586144149303436,
           0.017719285562634468,
           0.029406413435935974,
           0.03079281374812126,
           0.03722111135721207,
           0.08300542831420898,
           0.08387552201747894,
           0.08352609723806381,
           0.0816756933927536,
           0.08094770461320877,
           0.09477419406175613
          ],
          [
           0.164707213640213,
           0.023390844464302063,
           0.021696804091334343,
           -0.018520597368478775,
           0.1909620463848114,
           0.24836352467536926,
           0.33728963136672974,
           0.46334290504455566,
           -0.045615099370479584,
           -0.4337627589702606,
           -0.43938231468200684
          ],
          [
           0.0849677100777626,
           0.6348817944526672,
           -0.1833174228668213,
           0.22837847471237183,
           0.8354538083076477,
           -0.23050107061862946,
           0.7123883962631226,
           0.23437640070915222,
           -0.25711360573768616,
           -0.47390076518058777,
           0.37684857845306396
          ],
          [
           0.13453181087970734,
           0.5844847559928894,
           0.9046120643615723,
           0.977333128452301,
           0.9943665266036987,
           0.9830742478370667,
           0.9668428301811218,
           0.9602845907211304,
           0.9203486442565918,
           0.9278454184532166,
           0.912365734577179
          ],
          [
           -0.08702827990055084,
           0.04353263974189758,
           0.4568813741207123,
           0.592113196849823,
           -0.9388010501861572,
           -0.9215914607048035,
           -0.8304453492164612,
           -0.775685727596283,
           0.15457476675510406,
           0.15616004168987274,
           0.1567915976047516
          ],
          [
           -0.058989789336919785,
           0.02154066599905491,
           -0.05501076579093933,
           -0.7139471173286438,
           -0.7132427096366882,
           -0.7135050892829895,
           -0.7049634456634521,
           -0.690819263458252,
           -0.6894493699073792,
           -0.6409568786621094,
           -0.6405825614929199
          ],
          [
           -0.1253475695848465,
           0.2686343491077423,
           0.7299798727035522,
           -0.05114857479929924,
           -0.4149714708328247,
           -0.07711616903543472,
           0.40512895584106445,
           -0.14511093497276306,
           -0.25546297430992126,
           -0.34063640236854553,
           -0.3779730200767517
          ],
          [
           -0.12873464822769165,
           0.06962306797504425,
           0.05246791988611221,
           0.08368109166622162,
           0.5972612500190735,
           0.031030690297484398,
           0.15390323102474213,
           0.2330116182565689,
           0.32197585701942444,
           0.5054002404212952,
           0.42629414796829224
          ],
          [
           -0.0439644381403923,
           -0.13567763566970825,
           0.975501298904419,
           0.9562147855758667,
           -0.9737793803215027,
           -0.9619191884994507,
           -0.9325640201568604,
           -0.9307122826576233,
           -0.941226065158844,
           -0.9526017904281616,
           -0.9452717304229736
          ],
          [
           -0.008386915549635887,
           -0.014054177328944206,
           -0.04218464717268944,
           -0.06416383385658264,
           -0.015675147995352745,
           -0.12325253337621689,
           -0.06825646013021469,
           -0.07342776656150818,
           -0.06281792372465134,
           -0.08588166534900665,
           -0.005907544866204262
          ],
          [
           0.07238521426916122,
           0.002176400739699602,
           0.006376105360686779,
           0.00564943952485919,
           0.007538486272096634,
           0.05077290162444115,
           0.07842888683080673,
           0.10106837004423141,
           0.44847196340560913,
           0.011783317662775517,
           0.03175055608153343
          ],
          [
           0.14088818430900574,
           0.020108215510845184,
           0.033602822571992874,
           -0.005039883777499199,
           0.3507935702800751,
           0.3585259020328522,
           0.35483431816101074,
           0.3590078055858612,
           0.3596082329750061,
           0.365812748670578,
           0.38544756174087524
          ],
          [
           -0.16549478471279144,
           0.23891811072826385,
           -0.23022009432315826,
           0.3023439943790436,
           0.7830204963684082,
           0.18741916120052338,
           0.6044619679450989,
           0.7897338271141052,
           0.3382335901260376,
           0.43957802653312683,
           0.2491496354341507
          ],
          [
           1,
           0.018001195043325424,
           0.014123912900686264,
           0.15244628489017487,
           0.6831867694854736,
           0.681725800037384,
           0.6767665147781372,
           0.6763823628425598,
           0.6773888468742371,
           0.6757724285125732,
           0.6738700270652771
          ],
          [
           0.057404421269893646,
           -0.1350158303976059,
           -0.15904869139194489,
           -0.5250959992408752,
           -0.23401983082294464,
           0.23078250885009766,
           0.4083644151687622,
           -0.1765984296798706,
           -0.14884653687477112,
           0.3617134690284729,
           0.9003863334655762
          ],
          [
           0.16377517580986023,
           -0.013804125599563122,
           -0.0427434965968132,
           -0.046039048582315445,
           -0.060449905693531036,
           -0.12598268687725067,
           -0.1351570039987564,
           -0.25785398483276367,
           -0.39333558082580566,
           -0.3652026951313019,
           -0.3787387013435364
          ],
          [
           0.0941891148686409,
           -0.060717321932315826,
           -0.017342600971460342,
           0.1833438128232956,
           0.42913898825645447,
           0.41310885548591614,
           -0.04678259417414665,
           -0.44691506028175354,
           -0.04432583972811699,
           0.18031631410121918,
           0.1805293709039688
          ],
          [
           0.023695185780525208,
           0.04824484512209892,
           0.05395237356424332,
           -0.017414595931768417,
           0.025194911286234856,
           0.18315041065216064,
           0.21738691627979279,
           0.22831843793392181,
           0.2385818064212799,
           0.255823016166687,
           -0.900699257850647
          ],
          [
           -0.09350018203258514,
           -0.09215697646141052,
           -0.08575398474931717,
           0.25973060727119446,
           -0.38650310039520264,
           -0.5480135679244995,
           -0.6371322870254517,
           -0.6787572503089905,
           0.04296642541885376,
           0.5574529767036438,
           -0.1856805980205536
          ],
          [
           -0.1620536595582962,
           0.19240771234035492,
           0.09862345457077026,
           -0.10513162612915039,
           -0.728802502155304,
           -0.7043110728263855,
           -0.6981121301651001,
           -0.696894645690918,
           0.44720399379730225,
           0.46845394372940063,
           0.4710647761821747
          ],
          [
           0.12695568799972534,
           0.002897606696933508,
           0.0005570810753852129,
           -0.0017026910791173577,
           -0.004220675211399794,
           -0.014312293380498886,
           -0.01403338648378849,
           -0.01550403330475092,
           -0.015269090421497822,
           -0.023723168298602104,
           -0.024037301540374756
          ],
          [
           0.06519221514463425,
           -0.9001624584197998,
           -0.8551880717277527,
           0.5230890512466431,
           0.2399233728647232,
           0.7279518842697144,
           0.3210934102535248,
           0.5734196901321411,
           0.5823289155960083,
           0.18963147699832916,
           0.9670836925506592
          ],
          [
           1,
           0.011136324144899845,
           -0.033822547644376755,
           0.31818869709968567,
           -0.23235800862312317,
           -0.1720794439315796,
           -0.16564658284187317,
           -0.14360256493091583,
           -0.13430097699165344,
           -0.13365228474140167,
           -0.1257009506225586
          ],
          [
           0.0995972752571106,
           0.37006452679634094,
           0.21456627547740936,
           0.10292698442935944,
           0.04003207013010979,
           -0.050080716609954834,
           0.04655074700713158,
           0.3818330466747284,
           0.06745891273021698,
           0.6228820085525513,
           0.508797824382782
          ],
          [
           0.07786533236503601,
           0.104131318628788,
           0.6875779628753662,
           0.335525780916214,
           0.055017609149217606,
           0.27744585275650024,
           0.2730792462825775,
           0.2714011073112488,
           0.13187788426876068,
           0.18997734785079956,
           0.07410147041082382
          ],
          [
           0.04154425859451294,
           -0.2337637096643448,
           -0.6962683200836182,
           -0.9895830750465393,
           0.6161682605743408,
           0.597251296043396,
           -0.057994045317173004,
           0.13156673312187195,
           0.8884409070014954,
           -0.5490300059318542,
           -0.16949431598186493
          ],
          [
           0.06863335520029068,
           0.22696682810783386,
           0.2963796555995941,
           0.3776874244213104,
           0.5647844672203064,
           0.6288477182388306,
           0.4267839193344116,
           0.6286116242408752,
           0.7247945666313171,
           -0.5277776122093201,
           -0.4752863347530365
          ],
          [
           0.10039126873016357,
           -0.06835731118917465,
           0.9152241349220276,
           0.9636974930763245,
           0.9977405667304993,
           0.6674444079399109,
           -0.39507725834846497,
           -0.2835983335971832,
           -0.10542801767587662,
           0.07183381170034409,
           -0.0715775266289711
          ],
          [
           0.07556790113449097,
           0.008168170228600502,
           0.013837798498570919,
           0.007819902151823044,
           0.006968770641833544,
           -0.040904004126787186,
           -0.04394039511680603,
           -0.11622314155101776,
           -0.16433975100517273,
           -0.17119741439819336,
           -0.14610353112220764
          ],
          [
           0.03776948153972626,
           -0.20993226766586304,
           0.9522174596786499,
           0.9430880546569824,
           0.9910778999328613,
           0.9570209980010986,
           0.9913588166236877,
           0.9777741432189941,
           0.9852837324142456,
           0.9967830777168274,
           0.265047162771225
          ],
          [
           -0.05124780908226967,
           -0.37128961086273193,
           -0.7700280547142029,
           -0.7984380722045898,
           -0.9896273016929626,
           -0.7540630102157593,
           -0.7907872796058655,
           -0.6621734499931335,
           -0.7898021340370178,
           0.28700926899909973,
           0.30235153436660767
          ],
          [
           0.12808270752429962,
           0.06763359159231186,
           -0.05651242658495903,
           0.17293353378772736,
           0.9666699767112732,
           0.9552379250526428,
           0.9497829675674438,
           0.9274249076843262,
           0.8296513557434082,
           0.4373036324977875,
           0.39210954308509827
          ],
          [
           -0.14486901462078094,
           -0.020910274237394333,
           -0.08417932689189911,
           -0.10495055466890335,
           -0.14096729457378387,
           -0.21666279435157776,
           -0.2505039572715759,
           -0.2898096442222595,
           -0.44616401195526123,
           -0.46527159214019775,
           -0.7099891304969788
          ],
          [
           0.14209409058094025,
           -0.24548381567001343,
           0.23876552283763885,
           0.4317190647125244,
           0.955839216709137,
           0.8239123821258545,
           0.8390435576438904,
           0.8264248371124268,
           0.8389737606048584,
           0.8236331939697266,
           0.7994043827056885
          ],
          [
           0.15629103779792786,
           -0.0344528965651989,
           -0.037406668066978455,
           0.013958306051790714,
           0.1891196072101593,
           0.24287666380405426,
           0.3508266508579254,
           0.33502599596977234,
           0.3265340030193329,
           -0.6467075943946838,
           -0.6369842886924744
          ],
          [
           -0.06802020967006683,
           -0.005434724036604166,
           0.008742868900299072,
           0.3011062741279602,
           -0.21201515197753906,
           -0.24172784388065338,
           -0.2666303813457489,
           -0.1881578117609024,
           -0.25391605496406555,
           -0.2787763774394989,
           -0.2800949811935425
          ],
          [
           -0.09870126843452454,
           0.009845370426774025,
           0.024454377591609955,
           0.03611305356025696,
           0.06698939204216003,
           0.06760828197002411,
           0.09292885661125183,
           0.09848789870738983,
           0.053649306297302246,
           0.06502386182546616,
           0.06416913121938705
          ],
          [
           -0.06425585597753525,
           -0.3131157457828522,
           0.7220094203948975,
           -0.2160673439502716,
           0.9840283393859863,
           0.33984506130218506,
           -0.0726708173751831,
           -0.48330366611480713,
           0.11602263152599335,
           -0.6117508411407471,
           -0.6161722540855408
          ],
          [
           -0.07020101696252823,
           -0.004410892724990845,
           -0.18843741714954376,
           -0.16090117394924164,
           -0.7014978528022766,
           -0.6990662217140198,
           -0.6989442706108093,
           -0.6977490186691284,
           -0.6742978692054749,
           -0.6519214510917664,
           -0.6507409811019897
          ],
          [
           0.006720532197505236,
           0.3241933286190033,
           0.6325777173042297,
           0.7169793844223022,
           0.9369136691093445,
           0.5471376776695251,
           0.654362142086029,
           -0.739911675453186,
           0.7177987098693848,
           0.8775086402893066,
           0.8550841808319092
          ],
          [
           0.0585285983979702,
           0.3394807279109955,
           0.4621458053588867,
           0.514290988445282,
           0.9248839616775513,
           0.9238272905349731,
           0.9233042001724243,
           0.9332573413848877,
           0.9454221725463867,
           0.9853051900863647,
           0.8168985247612
          ],
          [
           1,
           -0.0034521452616900206,
           0.0003555641742423177,
           0.12227287143468857,
           -0.01997513137757778,
           0.07413435727357864,
           0.09522592276334763,
           0.1121356338262558,
           0.2539587616920471,
           0.29967188835144043,
           0.34833237528800964
          ],
          [
           0.02472168579697609,
           0.6057592034339905,
           0.9675503373146057,
           0.2925819754600525,
           -0.693347156047821,
           -0.7644190192222595,
           -0.8284196853637695,
           -0.8674728870391846,
           0.04366369917988777,
           -0.5206223130226135,
           -0.9379441142082214
          ],
          [
           -0.08060964196920395,
           -0.26851826906204224,
           -0.6021593809127808,
           -0.4624207615852356,
           -0.9715253114700317,
           -0.978595495223999,
           -0.9052780866622925,
           -0.8914066553115845,
           -0.8656293153762817,
           -0.7248855233192444,
           -0.9080443978309631
          ],
          [
           -0.08385557681322098,
           0.6508874297142029,
           0.7437053918838501,
           -0.6670305132865906,
           -0.060355279594659805,
           -0.8113064169883728,
           -0.7307154536247253,
           -0.871710479259491,
           -0.7246284484863281,
           0.056731466203927994,
           -0.5783784985542297
          ],
          [
           -1,
           0.02218475751578808,
           0.022763583809137344,
           0.055399999022483826,
           0.042044736444950104,
           0.02423686720430851,
           0.007256262470036745,
           0.015438784845173359,
           -0.06267627328634262,
           -0.006489108316600323,
           -0.007054316345602274
          ],
          [
           0.06572280079126358,
           -0.13867533206939697,
           -0.3672869801521301,
           -0.18304620683193207,
           -0.23559796810150146,
           0.10833495110273361,
           0.23410719633102417,
           0.518212080001831,
           0.6358937621116638,
           0.7537853121757507,
           0.7416926026344299
          ],
          [
           0.027756717056035995,
           -0.39292263984680176,
           0.054113537073135376,
           -0.29037585854530334,
           0.5745927095413208,
           0.18115438520908356,
           -0.059987615793943405,
           -0.6444560885429382,
           -0.7905113697052002,
           -0.16382017731666565,
           -0.1683780997991562
          ],
          [
           0.09414833784103394,
           -0.4002119302749634,
           0.7290872931480408,
           0.6201887726783752,
           0.7656412124633789,
           0.724725067615509,
           0.747233510017395,
           0.6616432070732117,
           0.417298823595047,
           -0.35670962929725647,
           -0.5936089158058167
          ],
          [
           0.14811751246452332,
           -0.05541911721229553,
           -0.7711415886878967,
           -0.7454434633255005,
           -0.47700318694114685,
           -0.34806615114212036,
           -0.2646113932132721,
           -0.3238406181335449,
           -0.9786238670349121,
           -0.878288984298706,
           -0.6765140295028687
          ],
          [
           0.06171809136867523,
           -0.26749706268310547,
           -0.3862474858760834,
           -0.3084644675254822,
           -0.3458312153816223,
           -0.3468701243400574,
           -0.3634174168109894,
           -0.4090396463871002,
           -0.3854394555091858,
           -0.3261871933937073,
           -0.32544392347335815
          ],
          [
           0.163559228181839,
           0.6397144198417664,
           0.6312845349311829,
           0.6364611387252808,
           0.6375088095664978,
           0.6322768330574036,
           0.6518147587776184,
           0.659737765789032,
           0.6606152653694153,
           0.6622621417045593,
           0.663011372089386
          ],
          [
           0.12250467389822006,
           -0.012156028300523758,
           -0.03892608359456062,
           -0.07959931343793869,
           -0.09795214235782623,
           0.008343134075403214,
           0.008403277024626732,
           0.02322177030146122,
           0.013975903391838074,
           0.24503093957901,
           0.24569444358348846
          ],
          [
           0.1591242551803589,
           0.08007828146219254,
           0.43482181429862976,
           0.053323518484830856,
           -0.20538567006587982,
           0.0811428353190422,
           0.36743003129959106,
           0.21051090955734253,
           -0.9253717064857483,
           -0.7523130178451538,
           -0.519096314907074
          ],
          [
           -0.12422031909227371,
           -0.950994610786438,
           -0.9573249220848083,
           -0.08702314645051956,
           -0.17370469868183136,
           -0.18550734221935272,
           -0.23107203841209412,
           -0.30739256739616394,
           -0.3239181339740753,
           -0.3438909351825714,
           -0.30335116386413574
          ],
          [
           0.10616393387317657,
           -0.11559510976076126,
           0.28640374541282654,
           0.3764019310474396,
           0.3122616708278656,
           0.3798101246356964,
           0.3775646984577179,
           0.44485926628112793,
           0.1893927901983261,
           -0.284110963344574,
           -0.04618673771619797
          ],
          [
           0.10902640223503113,
           0.3672466278076172,
           0.4700547158718109,
           0.4191229045391083,
           0.9019955992698669,
           0.8938025832176208,
           0.8825770020484924,
           0.8741828203201294,
           0.8661011457443237,
           0.8584443926811218,
           0.8563224077224731
          ],
          [
           -0.09603622555732727,
           -0.061569057404994965,
           -0.1667860895395279,
           -0.6081702709197998,
           -0.09947740286588669,
           -0.3604449927806854,
           -0.6033859252929688,
           -0.37175849080085754,
           -0.5386822819709778,
           0.5704193711280823,
           0.9565966725349426
          ],
          [
           0.050927866250276566,
           0.4210689067840576,
           0.40639588236808777,
           0.4315395653247833,
           0.42832204699516296,
           0.5277397632598877,
           0.5114184617996216,
           0.5134186744689941,
           0.48143428564071655,
           0.38560840487480164,
           0.46951279044151306
          ],
          [
           0.13710983097553253,
           0.05958838760852814,
           -0.8901790380477905,
           0.18915900588035583,
           -0.306600421667099,
           0.710320234298706,
           -0.06664581596851349,
           -0.14511123299598694,
           -0.8622952699661255,
           0.4345496594905853,
           0.9179166555404663
          ],
          [
           0.08017581701278687,
           -0.04509700462222099,
           -0.08018655329942703,
           -0.5017343759536743,
           -0.8896795511245728,
           -0.8879736065864563,
           -0.8784437775611877,
           -0.8718181848526001,
           -0.8643203377723694,
           -0.8620887398719788,
           -0.8622829914093018
          ],
          [
           -0.1364794373512268,
           0.3212420642375946,
           0.4626438319683075,
           0.8946359753608704,
           0.9577674865722656,
           0.1360616534948349,
           0.24024698138237,
           -0.3162631690502167,
           0.5570197701454163,
           0.4088710844516754,
           0.24761605262756348
          ],
          [
           -0.040510114282369614,
           0.23056845366954803,
           0.06948880106210709,
           0.29301348328590393,
           0.4374910593032837,
           0.02958294376730919,
           0.01902623288333416,
           -0.0950198695063591,
           -0.23451165854930878,
           -0.4529942572116852,
           -0.45955488085746765
          ],
          [
           -0.05532936751842499,
           0.0055173528380692005,
           0.01704166829586029,
           0.010044915601611137,
           -0.0037740280386060476,
           0.004324795212596655,
           0.009426453150808811,
           0.0014057946391403675,
           0.5507030487060547,
           0.7658994197845459,
           0.7721905708312988
          ],
          [
           -0.1669660210609436,
           -0.028447460383176804,
           -0.0247038546949625,
           -0.012494656257331371,
           0.0041718753054738045,
           0.017612958326935768,
           0.07639505714178085,
           0.1258932501077652,
           0.22134748101234436,
           -0.2911817729473114,
           -0.24515514075756073
          ],
          [
           -0.11271943897008896,
           -0.8790797591209412,
           -0.4413260221481323,
           -0.7188265323638916,
           -0.16265769302845,
           -0.060810431838035583,
           -0.08355197310447693,
           -0.09443896263837814,
           -0.024657774716615677,
           0.5432404279708862,
           0.7372902035713196
          ],
          [
           0.033735278993844986,
           -0.5434772968292236,
           -0.6386711597442627,
           -0.8965085744857788,
           -0.9142131209373474,
           -0.03114859201014042,
           0.04195196554064751,
           0.5513601899147034,
           0.9696531295776367,
           0.3140631318092346,
           0.3082723915576935
          ],
          [
           0.12436430156230927,
           0.06485124677419662,
           0.09400460869073868,
           0.0991859957575798,
           0.09102421998977661,
           0.0790967345237732,
           0.04454866424202919,
           0.041966743767261505,
           -0.05608015134930611,
           -0.10625118017196655,
           -0.10485495626926422
          ],
          [
           -1,
           0.014747433364391327,
           0.026759926229715347,
           0.02530946396291256,
           -0.32447513937950134,
           -0.39366552233695984,
           -0.3655107319355011,
           -0.3646734952926636,
           -0.27476081252098083,
           -0.3086490035057068,
           -0.34821203351020813
          ],
          [
           0.03520142659544945,
           -0.2642054259777069,
           -0.8263911604881287,
           -0.7979560494422913,
           -0.8787019848823547,
           0.8322554230690002,
           0.9166684746742249,
           0.910959780216217,
           0.7607904672622681,
           0.8281057476997375,
           0.985253095626831
          ],
          [
           1,
           0.012168350629508495,
           -0.03347562253475189,
           0.4043745696544647,
           0.2657080888748169,
           0.26489537954330444,
           0.2738135755062103,
           0.2515988349914551,
           0.257123738527298,
           0.25784724950790405,
           0.25863316655158997
          ],
          [
           -0.004941895138472319,
           -0.05065101757645607,
           -0.054294653236866,
           0.5453916192054749,
           0.5096269845962524,
           0.49461886286735535,
           0.408689022064209,
           0.4512183666229248,
           0.33324503898620605,
           -0.258447527885437,
           -0.25616130232810974
          ],
          [
           0.11838594079017639,
           0.31697550415992737,
           0.31562018394470215,
           0.18327559530735016,
           0.29690834879875183,
           0.32589101791381836,
           0.20007990300655365,
           0.24149397015571594,
           0.25322356820106506,
           0.5482298731803894,
           0.6267239451408386
          ],
          [
           0.11998984217643738,
           -0.11331553757190704,
           -0.18321676552295685,
           -0.4825519919395447,
           -0.5145828723907471,
           -0.3978853225708008,
           -0.374807208776474,
           -0.10949406772851944,
           -0.38593393564224243,
           -0.519838809967041,
           -0.45749035477638245
          ],
          [
           0.11000031232833862,
           -0.00705970823764801,
           -0.008818737231194973,
           -0.03910212218761444,
           0.4373641312122345,
           0.4222520887851715,
           0.40858861804008484,
           0.09774564206600189,
           0.16119515895843506,
           0.14601485431194305,
           0.14860373735427856
          ],
          [
           0.06533467024564743,
           -0.32887041568756104,
           -0.284609317779541,
           0.3467283546924591,
           0.901241660118103,
           0.8224807977676392,
           0.7272380590438843,
           0.7257489562034607,
           0.715185821056366,
           0.309773325920105,
           0.3068940043449402
          ],
          [
           0.06253644824028015,
           -0.013454744592308998,
           0.37195995450019836,
           0.37243756651878357,
           0.984337568283081,
           0.9818090796470642,
           0.8284515738487244,
           -0.23047897219657898,
           0.5307891964912415,
           0.6583238244056702,
           0.6591403484344482
          ],
          [
           1,
           -0.1527692675590515,
           -0.14634279906749725,
           -0.15459127724170685,
           0.4542595148086548,
           0.44874900579452515,
           0.4447641968727112,
           0.4404398798942566,
           0.37997838854789734,
           0.35671162605285645,
           0.3547532558441162
          ],
          [
           0.1654580682516098,
           -0.40165701508522034,
           -0.6106908917427063,
           -0.443921834230423,
           -0.9049991965293884,
           -0.7491029500961304,
           -0.2092089056968689,
           0.5038289427757263,
           -0.3124387562274933,
           0.6515243053436279,
           0.6600918173789978
          ],
          [
           -0.12969204783439636,
           0.09870196133852005,
           0.13465262949466705,
           0.10831687599420547,
           -0.14819008111953735,
           -0.13795490562915802,
           -0.12217345833778381,
           -0.11587194353342056,
           -0.06875878572463989,
           -0.26009488105773926,
           -0.2529240548610687
          ],
          [
           -0.08061355352401733,
           0.0039194668643176556,
           0.8087654113769531,
           0.7625749707221985,
           0.3426796495914459,
           0.24319349229335785,
           -0.0938003733754158,
           -0.007678292226046324,
           0.07466719299554825,
           -0.4965975880622864,
           -0.49715501070022583
          ],
          [
           0.12769190967082977,
           -0.1666259616613388,
           0.9352264404296875,
           -0.03914785757660866,
           0.12619036436080933,
           0.19767260551452637,
           0.2927601635456085,
           0.2607154846191406,
           0.27430790662765503,
           0.34938257932662964,
           0.3560578227043152
          ],
          [
           -0.1121707558631897,
           0.45933037996292114,
           -0.519435703754425,
           -0.45212629437446594,
           -0.5631559491157532,
           -0.8310865759849548,
           -0.5518860816955566,
           -0.5954442620277405,
           -0.3786962628364563,
           -0.14544208347797394,
           -0.5296733975410461
          ],
          [
           -0.10727597773075104,
           -0.1635957658290863,
           -0.16414697468280792,
           -0.22949440777301788,
           -0.23081013560295105,
           -0.23596471548080444,
           -0.2423834651708603,
           -0.24401524662971497,
           -0.2452738881111145,
           -0.24488164484500885,
           -0.24587251245975494
          ],
          [
           -0.003549604443833232,
           0.019861575216054916,
           0.023928724229335785,
           0.03487538918852806,
           0.05543407425284386,
           0.05842730775475502,
           0.05949455127120018,
           0.060041945427656174,
           0.08386415243148804,
           0.3146412968635559,
           0.312684565782547
          ],
          [
           -0.1521531641483307,
           0.029537439346313477,
           0.030501587316393852,
           0.2147899866104126,
           0.8379191756248474,
           0.3021385371685028,
           0.051035284996032715,
           -0.02775431051850319,
           -0.17848503589630127,
           -0.23942072689533234,
           -0.2284046709537506
          ],
          [
           0.020120127126574516,
           0.14390473067760468,
           0.42978352308273315,
           0.03197627514600754,
           -0.5035855770111084,
           -0.11579613387584686,
           0.3769334554672241,
           0.9471657276153564,
           0.934151828289032,
           -0.15234379470348358,
           -0.13095155358314514
          ],
          [
           0.052280962467193604,
           0.8744045495986938,
           0.857077419757843,
           -0.8491219878196716,
           -0.687110960483551,
           -0.2683825194835663,
           0.07532414048910141,
           0.2551489770412445,
           0.31119677424430847,
           0.22968386113643646,
           0.8290225863456726
          ],
          [
           -1,
           -0.016396712511777878,
           -0.040776561945676804,
           0.0175634678453207,
           0.4331620931625366,
           0.43016794323921204,
           0.42365530133247375,
           0.42249664664268494,
           0.4190402626991272,
           0.41463205218315125,
           0.4095308482646942
          ],
          [
           -0.1473664939403534,
           0.04327118769288063,
           0.028513366356492043,
           -0.2571929097175598,
           -0.8292586803436279,
           -0.8072015047073364,
           -0.7868189215660095,
           -0.784393846988678,
           -0.7854148149490356,
           -0.7824813723564148,
           -0.7700506448745728
          ],
          [
           0.16489370167255402,
           0.002221468836069107,
           0.0021420621778815985,
           -0.002940585371106863,
           0.0021682437509298325,
           0.002284448826685548,
           0.002226503798738122,
           0.0039354776963591576,
           0.005491997580975294,
           0.0008357112528756261,
           -0.0003215026226826012
          ],
          [
           -0.03314661607146263,
           0.3114188313484192,
           -0.6719807386398315,
           0.8747690320014954,
           -0.08851654082536697,
           -0.33654722571372986,
           -0.5334621667861938,
           0.12086242437362671,
           -0.8416948914527893,
           -0.5686689615249634,
           -0.7020124197006226
          ],
          [
           0.04484399035573006,
           0.3019169867038727,
           0.31508269906044006,
           0.2889590263366699,
           0.6786107420921326,
           0.6342578530311584,
           0.16009624302387238,
           -0.8470171689987183,
           -0.8098222017288208,
           -0.7860476970672607,
           -0.7708749175071716
          ],
          [
           -0.12529700994491577,
           -0.12143787741661072,
           0.77925044298172,
           0.19201737642288208,
           -0.8563599586486816,
           -0.8404393196105957,
           -0.7669396996498108,
           -0.7579014301300049,
           -0.7780448198318481,
           -0.7816617488861084,
           -0.7674844264984131
          ],
          [
           0.13520751893520355,
           -0.04922189936041832,
           -0.05063195899128914,
           -0.12236009538173676,
           0.952003538608551,
           0.6359536051750183,
           0.5553550720214844,
           0.558790922164917,
           0.5744310617446899,
           0.438277930021286,
           0.38106197118759155
          ],
          [
           -0.10943420976400375,
           -0.7253389358520508,
           -0.23850227892398834,
           -0.08639812469482422,
           0.45336148142814636,
           0.3640098571777344,
           -0.17005206644535065,
           -0.15057627856731415,
           -0.003250390524044633,
           -0.1605902761220932,
           -0.10548543930053711
          ]
         ]
        }
       ],
       "layout": {
        "autosize": false,
        "height": 2000,
        "template": {
         "data": {
          "bar": [
           {
            "error_x": {
             "color": "#2a3f5f"
            },
            "error_y": {
             "color": "#2a3f5f"
            },
            "marker": {
             "line": {
              "color": "#E5ECF6",
              "width": 0.5
             }
            },
            "type": "bar"
           }
          ],
          "barpolar": [
           {
            "marker": {
             "line": {
              "color": "#E5ECF6",
              "width": 0.5
             }
            },
            "type": "barpolar"
           }
          ],
          "carpet": [
           {
            "aaxis": {
             "endlinecolor": "#2a3f5f",
             "gridcolor": "white",
             "linecolor": "white",
             "minorgridcolor": "white",
             "startlinecolor": "#2a3f5f"
            },
            "baxis": {
             "endlinecolor": "#2a3f5f",
             "gridcolor": "white",
             "linecolor": "white",
             "minorgridcolor": "white",
             "startlinecolor": "#2a3f5f"
            },
            "type": "carpet"
           }
          ],
          "choropleth": [
           {
            "colorbar": {
             "outlinewidth": 0,
             "ticks": ""
            },
            "type": "choropleth"
           }
          ],
          "contour": [
           {
            "colorbar": {
             "outlinewidth": 0,
             "ticks": ""
            },
            "colorscale": [
             [
              0,
              "#0d0887"
             ],
             [
              0.1111111111111111,
              "#46039f"
             ],
             [
              0.2222222222222222,
              "#7201a8"
             ],
             [
              0.3333333333333333,
              "#9c179e"
             ],
             [
              0.4444444444444444,
              "#bd3786"
             ],
             [
              0.5555555555555556,
              "#d8576b"
             ],
             [
              0.6666666666666666,
              "#ed7953"
             ],
             [
              0.7777777777777778,
              "#fb9f3a"
             ],
             [
              0.8888888888888888,
              "#fdca26"
             ],
             [
              1,
              "#f0f921"
             ]
            ],
            "type": "contour"
           }
          ],
          "contourcarpet": [
           {
            "colorbar": {
             "outlinewidth": 0,
             "ticks": ""
            },
            "type": "contourcarpet"
           }
          ],
          "heatmap": [
           {
            "colorbar": {
             "outlinewidth": 0,
             "ticks": ""
            },
            "colorscale": [
             [
              0,
              "#0d0887"
             ],
             [
              0.1111111111111111,
              "#46039f"
             ],
             [
              0.2222222222222222,
              "#7201a8"
             ],
             [
              0.3333333333333333,
              "#9c179e"
             ],
             [
              0.4444444444444444,
              "#bd3786"
             ],
             [
              0.5555555555555556,
              "#d8576b"
             ],
             [
              0.6666666666666666,
              "#ed7953"
             ],
             [
              0.7777777777777778,
              "#fb9f3a"
             ],
             [
              0.8888888888888888,
              "#fdca26"
             ],
             [
              1,
              "#f0f921"
             ]
            ],
            "type": "heatmap"
           }
          ],
          "heatmapgl": [
           {
            "colorbar": {
             "outlinewidth": 0,
             "ticks": ""
            },
            "colorscale": [
             [
              0,
              "#0d0887"
             ],
             [
              0.1111111111111111,
              "#46039f"
             ],
             [
              0.2222222222222222,
              "#7201a8"
             ],
             [
              0.3333333333333333,
              "#9c179e"
             ],
             [
              0.4444444444444444,
              "#bd3786"
             ],
             [
              0.5555555555555556,
              "#d8576b"
             ],
             [
              0.6666666666666666,
              "#ed7953"
             ],
             [
              0.7777777777777778,
              "#fb9f3a"
             ],
             [
              0.8888888888888888,
              "#fdca26"
             ],
             [
              1,
              "#f0f921"
             ]
            ],
            "type": "heatmapgl"
           }
          ],
          "histogram": [
           {
            "marker": {
             "colorbar": {
              "outlinewidth": 0,
              "ticks": ""
             }
            },
            "type": "histogram"
           }
          ],
          "histogram2d": [
           {
            "colorbar": {
             "outlinewidth": 0,
             "ticks": ""
            },
            "colorscale": [
             [
              0,
              "#0d0887"
             ],
             [
              0.1111111111111111,
              "#46039f"
             ],
             [
              0.2222222222222222,
              "#7201a8"
             ],
             [
              0.3333333333333333,
              "#9c179e"
             ],
             [
              0.4444444444444444,
              "#bd3786"
             ],
             [
              0.5555555555555556,
              "#d8576b"
             ],
             [
              0.6666666666666666,
              "#ed7953"
             ],
             [
              0.7777777777777778,
              "#fb9f3a"
             ],
             [
              0.8888888888888888,
              "#fdca26"
             ],
             [
              1,
              "#f0f921"
             ]
            ],
            "type": "histogram2d"
           }
          ],
          "histogram2dcontour": [
           {
            "colorbar": {
             "outlinewidth": 0,
             "ticks": ""
            },
            "colorscale": [
             [
              0,
              "#0d0887"
             ],
             [
              0.1111111111111111,
              "#46039f"
             ],
             [
              0.2222222222222222,
              "#7201a8"
             ],
             [
              0.3333333333333333,
              "#9c179e"
             ],
             [
              0.4444444444444444,
              "#bd3786"
             ],
             [
              0.5555555555555556,
              "#d8576b"
             ],
             [
              0.6666666666666666,
              "#ed7953"
             ],
             [
              0.7777777777777778,
              "#fb9f3a"
             ],
             [
              0.8888888888888888,
              "#fdca26"
             ],
             [
              1,
              "#f0f921"
             ]
            ],
            "type": "histogram2dcontour"
           }
          ],
          "mesh3d": [
           {
            "colorbar": {
             "outlinewidth": 0,
             "ticks": ""
            },
            "type": "mesh3d"
           }
          ],
          "parcoords": [
           {
            "line": {
             "colorbar": {
              "outlinewidth": 0,
              "ticks": ""
             }
            },
            "type": "parcoords"
           }
          ],
          "scatter": [
           {
            "marker": {
             "colorbar": {
              "outlinewidth": 0,
              "ticks": ""
             }
            },
            "type": "scatter"
           }
          ],
          "scatter3d": [
           {
            "line": {
             "colorbar": {
              "outlinewidth": 0,
              "ticks": ""
             }
            },
            "marker": {
             "colorbar": {
              "outlinewidth": 0,
              "ticks": ""
             }
            },
            "type": "scatter3d"
           }
          ],
          "scattercarpet": [
           {
            "marker": {
             "colorbar": {
              "outlinewidth": 0,
              "ticks": ""
             }
            },
            "type": "scattercarpet"
           }
          ],
          "scattergeo": [
           {
            "marker": {
             "colorbar": {
              "outlinewidth": 0,
              "ticks": ""
             }
            },
            "type": "scattergeo"
           }
          ],
          "scattergl": [
           {
            "marker": {
             "colorbar": {
              "outlinewidth": 0,
              "ticks": ""
             }
            },
            "type": "scattergl"
           }
          ],
          "scattermapbox": [
           {
            "marker": {
             "colorbar": {
              "outlinewidth": 0,
              "ticks": ""
             }
            },
            "type": "scattermapbox"
           }
          ],
          "scatterpolar": [
           {
            "marker": {
             "colorbar": {
              "outlinewidth": 0,
              "ticks": ""
             }
            },
            "type": "scatterpolar"
           }
          ],
          "scatterpolargl": [
           {
            "marker": {
             "colorbar": {
              "outlinewidth": 0,
              "ticks": ""
             }
            },
            "type": "scatterpolargl"
           }
          ],
          "scatterternary": [
           {
            "marker": {
             "colorbar": {
              "outlinewidth": 0,
              "ticks": ""
             }
            },
            "type": "scatterternary"
           }
          ],
          "surface": [
           {
            "colorbar": {
             "outlinewidth": 0,
             "ticks": ""
            },
            "colorscale": [
             [
              0,
              "#0d0887"
             ],
             [
              0.1111111111111111,
              "#46039f"
             ],
             [
              0.2222222222222222,
              "#7201a8"
             ],
             [
              0.3333333333333333,
              "#9c179e"
             ],
             [
              0.4444444444444444,
              "#bd3786"
             ],
             [
              0.5555555555555556,
              "#d8576b"
             ],
             [
              0.6666666666666666,
              "#ed7953"
             ],
             [
              0.7777777777777778,
              "#fb9f3a"
             ],
             [
              0.8888888888888888,
              "#fdca26"
             ],
             [
              1,
              "#f0f921"
             ]
            ],
            "type": "surface"
           }
          ],
          "table": [
           {
            "cells": {
             "fill": {
              "color": "#EBF0F8"
             },
             "line": {
              "color": "white"
             }
            },
            "header": {
             "fill": {
              "color": "#C8D4E3"
             },
             "line": {
              "color": "white"
             }
            },
            "type": "table"
           }
          ]
         },
         "layout": {
          "annotationdefaults": {
           "arrowcolor": "#2a3f5f",
           "arrowhead": 0,
           "arrowwidth": 1
          },
          "colorscale": {
           "diverging": [
            [
             0,
             "#8e0152"
            ],
            [
             0.1,
             "#c51b7d"
            ],
            [
             0.2,
             "#de77ae"
            ],
            [
             0.3,
             "#f1b6da"
            ],
            [
             0.4,
             "#fde0ef"
            ],
            [
             0.5,
             "#f7f7f7"
            ],
            [
             0.6,
             "#e6f5d0"
            ],
            [
             0.7,
             "#b8e186"
            ],
            [
             0.8,
             "#7fbc41"
            ],
            [
             0.9,
             "#4d9221"
            ],
            [
             1,
             "#276419"
            ]
           ],
           "sequential": [
            [
             0,
             "#0d0887"
            ],
            [
             0.1111111111111111,
             "#46039f"
            ],
            [
             0.2222222222222222,
             "#7201a8"
            ],
            [
             0.3333333333333333,
             "#9c179e"
            ],
            [
             0.4444444444444444,
             "#bd3786"
            ],
            [
             0.5555555555555556,
             "#d8576b"
            ],
            [
             0.6666666666666666,
             "#ed7953"
            ],
            [
             0.7777777777777778,
             "#fb9f3a"
            ],
            [
             0.8888888888888888,
             "#fdca26"
            ],
            [
             1,
             "#f0f921"
            ]
           ],
           "sequentialminus": [
            [
             0,
             "#0d0887"
            ],
            [
             0.1111111111111111,
             "#46039f"
            ],
            [
             0.2222222222222222,
             "#7201a8"
            ],
            [
             0.3333333333333333,
             "#9c179e"
            ],
            [
             0.4444444444444444,
             "#bd3786"
            ],
            [
             0.5555555555555556,
             "#d8576b"
            ],
            [
             0.6666666666666666,
             "#ed7953"
            ],
            [
             0.7777777777777778,
             "#fb9f3a"
            ],
            [
             0.8888888888888888,
             "#fdca26"
            ],
            [
             1,
             "#f0f921"
            ]
           ]
          },
          "colorway": [
           "#636efa",
           "#EF553B",
           "#00cc96",
           "#ab63fa",
           "#FFA15A",
           "#19d3f3",
           "#FF6692",
           "#B6E880",
           "#FF97FF",
           "#FECB52"
          ],
          "font": {
           "color": "#2a3f5f"
          },
          "geo": {
           "bgcolor": "white",
           "lakecolor": "white",
           "landcolor": "#E5ECF6",
           "showlakes": true,
           "showland": true,
           "subunitcolor": "white"
          },
          "hoverlabel": {
           "align": "left"
          },
          "hovermode": "closest",
          "mapbox": {
           "style": "light"
          },
          "paper_bgcolor": "white",
          "plot_bgcolor": "#E5ECF6",
          "polar": {
           "angularaxis": {
            "gridcolor": "white",
            "linecolor": "white",
            "ticks": ""
           },
           "bgcolor": "#E5ECF6",
           "radialaxis": {
            "gridcolor": "white",
            "linecolor": "white",
            "ticks": ""
           }
          },
          "scene": {
           "xaxis": {
            "backgroundcolor": "#E5ECF6",
            "gridcolor": "white",
            "gridwidth": 2,
            "linecolor": "white",
            "showbackground": true,
            "ticks": "",
            "zerolinecolor": "white"
           },
           "yaxis": {
            "backgroundcolor": "#E5ECF6",
            "gridcolor": "white",
            "gridwidth": 2,
            "linecolor": "white",
            "showbackground": true,
            "ticks": "",
            "zerolinecolor": "white"
           },
           "zaxis": {
            "backgroundcolor": "#E5ECF6",
            "gridcolor": "white",
            "gridwidth": 2,
            "linecolor": "white",
            "showbackground": true,
            "ticks": "",
            "zerolinecolor": "white"
           }
          },
          "shapedefaults": {
           "line": {
            "color": "#2a3f5f"
           }
          },
          "ternary": {
           "aaxis": {
            "gridcolor": "white",
            "linecolor": "white",
            "ticks": ""
           },
           "baxis": {
            "gridcolor": "white",
            "linecolor": "white",
            "ticks": ""
           },
           "bgcolor": "#E5ECF6",
           "caxis": {
            "gridcolor": "white",
            "linecolor": "white",
            "ticks": ""
           }
          },
          "title": {
           "x": 0.05
          },
          "xaxis": {
           "automargin": true,
           "gridcolor": "white",
           "linecolor": "white",
           "ticks": "",
           "zerolinecolor": "white",
           "zerolinewidth": 2
          },
          "yaxis": {
           "automargin": true,
           "gridcolor": "white",
           "linecolor": "white",
           "ticks": "",
           "zerolinecolor": "white",
           "zerolinewidth": 2
          }
         }
        },
        "width": 1200,
        "xaxis": {
         "autorange": true,
         "range": [
          -0.5,
          10.5
         ],
         "type": "category"
        },
        "yaxis": {
         "autorange": true,
         "range": [
          -0.5,
          99.5
         ]
        }
       }
      },
      "image/png": "[encoded data removed]",
      "text/html": [
       "<div>\n",
       "        \n",
       "        \n",
       "            <div id=\"db8d7607-4508-4ac0-a299-dd67d4a57734\" class=\"plotly-graph-div\" style=\"height:2000px; width:1200px;\"></div>\n",
       "            <script type=\"text/javascript\">\n",
       "                require([\"plotly\"], function(Plotly) {\n",
       "                    window.PLOTLYENV=window.PLOTLYENV || {};\n",
       "                    \n",
       "                if (document.getElementById(\"db8d7607-4508-4ac0-a299-dd67d4a57734\")) {\n",
       "                    Plotly.newPlot(\n",
       "                        'db8d7607-4508-4ac0-a299-dd67d4a57734',\n",
       "                        [{\"colorscale\": [[0.0, \"rgb(103,0,31)\"], [0.1, \"rgb(178,24,43)\"], [0.2, \"rgb(214,96,77)\"], [0.3, \"rgb(244,165,130)\"], [0.4, \"rgb(253,219,199)\"], [0.5, \"rgb(247,247,247)\"], [0.6, \"rgb(209,229,240)\"], [0.7, \"rgb(146,197,222)\"], [0.8, \"rgb(67,147,195)\"], [0.9, \"rgb(33,102,172)\"], [1.0, \"rgb(5,48,97)\"]], \"reversescale\": true, \"type\": \"heatmap\", \"x\": [\"WEIGHT\", \"t\\u00fa\", \"eres\", \"la\", \"perra\", \",\", \"no\", \"te\", \"dejes\", \"enga\\u00f1ar\", \".\"], \"z\": [[1.0, 0.04022631794214249, 0.06485088914632797, 0.3437351584434509, 0.3659180998802185, 0.3604910373687744, 0.3599192500114441, 0.36168372631073, 0.36214566230773926, 0.47253820300102234, 0.40790054202079773], [-1.0, -0.16742675006389618, -0.3593648076057434, -0.45648393034935, -0.8854716420173645, -0.8856154680252075, -0.8862000703811646, -0.8863282203674316, -0.883838951587677, -0.884033739566803, -0.8833779096603394], [-0.12763190269470215, 0.021595198661088943, 0.0659019872546196, 0.13943582773208618, 0.14027756452560425, 0.14345985651016235, 0.16516371071338654, 0.36889633536338806, 0.3022323250770569, 0.25749313831329346, 0.2524309754371643], [-0.12167799472808838, 0.002682367106899619, 0.0003576020826585591, 0.08207007497549057, 0.09736920148134232, 0.08237455040216446, 0.07984145730733871, 0.07637258619070053, 0.07790353149175644, 0.0821911096572876, 0.058366559445858], [-0.13586144149303436, 0.017719285562634468, 0.029406413435935974, 0.03079281374812126, 0.03722111135721207, 0.08300542831420898, 0.08387552201747894, 0.08352609723806381, 0.0816756933927536, 0.08094770461320877, 0.09477419406175613], [0.164707213640213, 0.023390844464302063, 0.021696804091334343, -0.018520597368478775, 0.1909620463848114, 0.24836352467536926, 0.33728963136672974, 0.46334290504455566, -0.045615099370479584, -0.4337627589702606, -0.43938231468200684], [0.0849677100777626, 0.6348817944526672, -0.1833174228668213, 0.22837847471237183, 0.8354538083076477, -0.23050107061862946, 0.7123883962631226, 0.23437640070915222, -0.25711360573768616, -0.47390076518058777, 0.37684857845306396], [0.13453181087970734, 0.5844847559928894, 0.9046120643615723, 0.977333128452301, 0.9943665266036987, 0.9830742478370667, 0.9668428301811218, 0.9602845907211304, 0.9203486442565918, 0.9278454184532166, 0.912365734577179], [-0.08702827990055084, 0.04353263974189758, 0.4568813741207123, 0.592113196849823, -0.9388010501861572, -0.9215914607048035, -0.8304453492164612, -0.775685727596283, 0.15457476675510406, 0.15616004168987274, 0.1567915976047516], [-0.058989789336919785, 0.02154066599905491, -0.05501076579093933, -0.7139471173286438, -0.7132427096366882, -0.7135050892829895, -0.7049634456634521, -0.690819263458252, -0.6894493699073792, -0.6409568786621094, -0.6405825614929199], [-0.1253475695848465, 0.2686343491077423, 0.7299798727035522, -0.05114857479929924, -0.4149714708328247, -0.07711616903543472, 0.40512895584106445, -0.14511093497276306, -0.25546297430992126, -0.34063640236854553, -0.3779730200767517], [-0.12873464822769165, 0.06962306797504425, 0.05246791988611221, 0.08368109166622162, 0.5972612500190735, 0.031030690297484398, 0.15390323102474213, 0.2330116182565689, 0.32197585701942444, 0.5054002404212952, 0.42629414796829224], [-0.0439644381403923, -0.13567763566970825, 0.975501298904419, 0.9562147855758667, -0.9737793803215027, -0.9619191884994507, -0.9325640201568604, -0.9307122826576233, -0.941226065158844, -0.9526017904281616, -0.9452717304229736], [-0.008386915549635887, -0.014054177328944206, -0.04218464717268944, -0.06416383385658264, -0.015675147995352745, -0.12325253337621689, -0.06825646013021469, -0.07342776656150818, -0.06281792372465134, -0.08588166534900665, -0.005907544866204262], [0.07238521426916122, 0.002176400739699602, 0.006376105360686779, 0.00564943952485919, 0.007538486272096634, 0.05077290162444115, 0.07842888683080673, 0.10106837004423141, 0.44847196340560913, 0.011783317662775517, 0.03175055608153343], [0.14088818430900574, 0.020108215510845184, 0.033602822571992874, -0.005039883777499199, 0.3507935702800751, 0.3585259020328522, 0.35483431816101074, 0.3590078055858612, 0.3596082329750061, 0.365812748670578, 0.38544756174087524], [-0.16549478471279144, 0.23891811072826385, -0.23022009432315826, 0.3023439943790436, 0.7830204963684082, 0.18741916120052338, 0.6044619679450989, 0.7897338271141052, 0.3382335901260376, 0.43957802653312683, 0.2491496354341507], [1.0, 0.018001195043325424, 0.014123912900686264, 0.15244628489017487, 0.6831867694854736, 0.681725800037384, 0.6767665147781372, 0.6763823628425598, 0.6773888468742371, 0.6757724285125732, 0.6738700270652771], [0.057404421269893646, -0.1350158303976059, -0.15904869139194489, -0.5250959992408752, -0.23401983082294464, 0.23078250885009766, 0.4083644151687622, -0.1765984296798706, -0.14884653687477112, 0.3617134690284729, 0.9003863334655762], [0.16377517580986023, -0.013804125599563122, -0.0427434965968132, -0.046039048582315445, -0.060449905693531036, -0.12598268687725067, -0.1351570039987564, -0.25785398483276367, -0.39333558082580566, -0.3652026951313019, -0.3787387013435364], [0.0941891148686409, -0.060717321932315826, -0.017342600971460342, 0.1833438128232956, 0.42913898825645447, 0.41310885548591614, -0.04678259417414665, -0.44691506028175354, -0.04432583972811699, 0.18031631410121918, 0.1805293709039688], [0.023695185780525208, 0.04824484512209892, 0.05395237356424332, -0.017414595931768417, 0.025194911286234856, 0.18315041065216064, 0.21738691627979279, 0.22831843793392181, 0.2385818064212799, 0.255823016166687, -0.900699257850647], [-0.09350018203258514, -0.09215697646141052, -0.08575398474931717, 0.25973060727119446, -0.38650310039520264, -0.5480135679244995, -0.6371322870254517, -0.6787572503089905, 0.04296642541885376, 0.5574529767036438, -0.1856805980205536], [-0.1620536595582962, 0.19240771234035492, 0.09862345457077026, -0.10513162612915039, -0.728802502155304, -0.7043110728263855, -0.6981121301651001, -0.696894645690918, 0.44720399379730225, 0.46845394372940063, 0.4710647761821747], [0.12695568799972534, 0.002897606696933508, 0.0005570810753852129, -0.0017026910791173577, -0.004220675211399794, -0.014312293380498886, -0.01403338648378849, -0.01550403330475092, -0.015269090421497822, -0.023723168298602104, -0.024037301540374756], [0.06519221514463425, -0.9001624584197998, -0.8551880717277527, 0.5230890512466431, 0.2399233728647232, 0.7279518842697144, 0.3210934102535248, 0.5734196901321411, 0.5823289155960083, 0.18963147699832916, 0.9670836925506592], [1.0, 0.011136324144899845, -0.033822547644376755, 0.31818869709968567, -0.23235800862312317, -0.1720794439315796, -0.16564658284187317, -0.14360256493091583, -0.13430097699165344, -0.13365228474140167, -0.1257009506225586], [0.0995972752571106, 0.37006452679634094, 0.21456627547740936, 0.10292698442935944, 0.04003207013010979, -0.050080716609954834, 0.04655074700713158, 0.3818330466747284, 0.06745891273021698, 0.6228820085525513, 0.508797824382782], [0.07786533236503601, 0.104131318628788, 0.6875779628753662, 0.335525780916214, 0.055017609149217606, 0.27744585275650024, 0.2730792462825775, 0.2714011073112488, 0.13187788426876068, 0.18997734785079956, 0.07410147041082382], [0.04154425859451294, -0.2337637096643448, -0.6962683200836182, -0.9895830750465393, 0.6161682605743408, 0.597251296043396, -0.057994045317173004, 0.13156673312187195, 0.8884409070014954, -0.5490300059318542, -0.16949431598186493], [0.06863335520029068, 0.22696682810783386, 0.2963796555995941, 0.3776874244213104, 0.5647844672203064, 0.6288477182388306, 0.4267839193344116, 0.6286116242408752, 0.7247945666313171, -0.5277776122093201, -0.4752863347530365], [0.10039126873016357, -0.06835731118917465, 0.9152241349220276, 0.9636974930763245, 0.9977405667304993, 0.6674444079399109, -0.39507725834846497, -0.2835983335971832, -0.10542801767587662, 0.07183381170034409, -0.0715775266289711], [0.07556790113449097, 0.008168170228600502, 0.013837798498570919, 0.007819902151823044, 0.006968770641833544, -0.040904004126787186, -0.04394039511680603, -0.11622314155101776, -0.16433975100517273, -0.17119741439819336, -0.14610353112220764], [0.03776948153972626, -0.20993226766586304, 0.9522174596786499, 0.9430880546569824, 0.9910778999328613, 0.9570209980010986, 0.9913588166236877, 0.9777741432189941, 0.9852837324142456, 0.9967830777168274, 0.265047162771225], [-0.05124780908226967, -0.37128961086273193, -0.7700280547142029, -0.7984380722045898, -0.9896273016929626, -0.7540630102157593, -0.7907872796058655, -0.6621734499931335, -0.7898021340370178, 0.28700926899909973, 0.30235153436660767], [0.12808270752429962, 0.06763359159231186, -0.05651242658495903, 0.17293353378772736, 0.9666699767112732, 0.9552379250526428, 0.9497829675674438, 0.9274249076843262, 0.8296513557434082, 0.4373036324977875, 0.39210954308509827], [-0.14486901462078094, -0.020910274237394333, -0.08417932689189911, -0.10495055466890335, -0.14096729457378387, -0.21666279435157776, -0.2505039572715759, -0.2898096442222595, -0.44616401195526123, -0.46527159214019775, -0.7099891304969788], [0.14209409058094025, -0.24548381567001343, 0.23876552283763885, 0.4317190647125244, 0.955839216709137, 0.8239123821258545, 0.8390435576438904, 0.8264248371124268, 0.8389737606048584, 0.8236331939697266, 0.7994043827056885], [0.15629103779792786, -0.0344528965651989, -0.037406668066978455, 0.013958306051790714, 0.1891196072101593, 0.24287666380405426, 0.3508266508579254, 0.33502599596977234, 0.3265340030193329, -0.6467075943946838, -0.6369842886924744], [-0.06802020967006683, -0.005434724036604166, 0.008742868900299072, 0.3011062741279602, -0.21201515197753906, -0.24172784388065338, -0.2666303813457489, -0.1881578117609024, -0.25391605496406555, -0.2787763774394989, -0.2800949811935425], [-0.09870126843452454, 0.009845370426774025, 0.024454377591609955, 0.03611305356025696, 0.06698939204216003, 0.06760828197002411, 0.09292885661125183, 0.09848789870738983, 0.053649306297302246, 0.06502386182546616, 0.06416913121938705], [-0.06425585597753525, -0.3131157457828522, 0.7220094203948975, -0.2160673439502716, 0.9840283393859863, 0.33984506130218506, -0.0726708173751831, -0.48330366611480713, 0.11602263152599335, -0.6117508411407471, -0.6161722540855408], [-0.07020101696252823, -0.004410892724990845, -0.18843741714954376, -0.16090117394924164, -0.7014978528022766, -0.6990662217140198, -0.6989442706108093, -0.6977490186691284, -0.6742978692054749, -0.6519214510917664, -0.6507409811019897], [0.006720532197505236, 0.3241933286190033, 0.6325777173042297, 0.7169793844223022, 0.9369136691093445, 0.5471376776695251, 0.654362142086029, -0.739911675453186, 0.7177987098693848, 0.8775086402893066, 0.8550841808319092], [0.0585285983979702, 0.3394807279109955, 0.4621458053588867, 0.514290988445282, 0.9248839616775513, 0.9238272905349731, 0.9233042001724243, 0.9332573413848877, 0.9454221725463867, 0.9853051900863647, 0.8168985247612], [1.0, -0.0034521452616900206, 0.0003555641742423177, 0.12227287143468857, -0.01997513137757778, 0.07413435727357864, 0.09522592276334763, 0.1121356338262558, 0.2539587616920471, 0.29967188835144043, 0.34833237528800964], [0.02472168579697609, 0.6057592034339905, 0.9675503373146057, 0.2925819754600525, -0.693347156047821, -0.7644190192222595, -0.8284196853637695, -0.8674728870391846, 0.04366369917988777, -0.5206223130226135, -0.9379441142082214], [-0.08060964196920395, -0.26851826906204224, -0.6021593809127808, -0.4624207615852356, -0.9715253114700317, -0.978595495223999, -0.9052780866622925, -0.8914066553115845, -0.8656293153762817, -0.7248855233192444, -0.9080443978309631], [-0.08385557681322098, 0.6508874297142029, 0.7437053918838501, -0.6670305132865906, -0.060355279594659805, -0.8113064169883728, -0.7307154536247253, -0.871710479259491, -0.7246284484863281, 0.056731466203927994, -0.5783784985542297], [-1.0, 0.02218475751578808, 0.022763583809137344, 0.055399999022483826, 0.042044736444950104, 0.02423686720430851, 0.007256262470036745, 0.015438784845173359, -0.06267627328634262, -0.006489108316600323, -0.007054316345602274], [0.06572280079126358, -0.13867533206939697, -0.3672869801521301, -0.18304620683193207, -0.23559796810150146, 0.10833495110273361, 0.23410719633102417, 0.518212080001831, 0.6358937621116638, 0.7537853121757507, 0.7416926026344299], [0.027756717056035995, -0.39292263984680176, 0.054113537073135376, -0.29037585854530334, 0.5745927095413208, 0.18115438520908356, -0.059987615793943405, -0.6444560885429382, -0.7905113697052002, -0.16382017731666565, -0.1683780997991562], [0.09414833784103394, -0.4002119302749634, 0.7290872931480408, 0.6201887726783752, 0.7656412124633789, 0.724725067615509, 0.747233510017395, 0.6616432070732117, 0.417298823595047, -0.35670962929725647, -0.5936089158058167], [0.14811751246452332, -0.05541911721229553, -0.7711415886878967, -0.7454434633255005, -0.47700318694114685, -0.34806615114212036, -0.2646113932132721, -0.3238406181335449, -0.9786238670349121, -0.878288984298706, -0.6765140295028687], [0.06171809136867523, -0.26749706268310547, -0.3862474858760834, -0.3084644675254822, -0.3458312153816223, -0.3468701243400574, -0.3634174168109894, -0.4090396463871002, -0.3854394555091858, -0.3261871933937073, -0.32544392347335815], [0.163559228181839, 0.6397144198417664, 0.6312845349311829, 0.6364611387252808, 0.6375088095664978, 0.6322768330574036, 0.6518147587776184, 0.659737765789032, 0.6606152653694153, 0.6622621417045593, 0.663011372089386], [0.12250467389822006, -0.012156028300523758, -0.03892608359456062, -0.07959931343793869, -0.09795214235782623, 0.008343134075403214, 0.008403277024626732, 0.02322177030146122, 0.013975903391838074, 0.24503093957901, 0.24569444358348846], [0.1591242551803589, 0.08007828146219254, 0.43482181429862976, 0.053323518484830856, -0.20538567006587982, 0.0811428353190422, 0.36743003129959106, 0.21051090955734253, -0.9253717064857483, -0.7523130178451538, -0.519096314907074], [-0.12422031909227371, -0.950994610786438, -0.9573249220848083, -0.08702314645051956, -0.17370469868183136, -0.18550734221935272, -0.23107203841209412, -0.30739256739616394, -0.3239181339740753, -0.3438909351825714, -0.30335116386413574], [0.10616393387317657, -0.11559510976076126, 0.28640374541282654, 0.3764019310474396, 0.3122616708278656, 0.3798101246356964, 0.3775646984577179, 0.44485926628112793, 0.1893927901983261, -0.284110963344574, -0.04618673771619797], [0.10902640223503113, 0.3672466278076172, 0.4700547158718109, 0.4191229045391083, 0.9019955992698669, 0.8938025832176208, 0.8825770020484924, 0.8741828203201294, 0.8661011457443237, 0.8584443926811218, 0.8563224077224731], [-0.09603622555732727, -0.061569057404994965, -0.1667860895395279, -0.6081702709197998, -0.09947740286588669, -0.3604449927806854, -0.6033859252929688, -0.37175849080085754, -0.5386822819709778, 0.5704193711280823, 0.9565966725349426], [0.050927866250276566, 0.4210689067840576, 0.40639588236808777, 0.4315395653247833, 0.42832204699516296, 0.5277397632598877, 0.5114184617996216, 0.5134186744689941, 0.48143428564071655, 0.38560840487480164, 0.46951279044151306], [0.13710983097553253, 0.05958838760852814, -0.8901790380477905, 0.18915900588035583, -0.306600421667099, 0.710320234298706, -0.06664581596851349, -0.14511123299598694, -0.8622952699661255, 0.4345496594905853, 0.9179166555404663], [0.08017581701278687, -0.04509700462222099, -0.08018655329942703, -0.5017343759536743, -0.8896795511245728, -0.8879736065864563, -0.8784437775611877, -0.8718181848526001, -0.8643203377723694, -0.8620887398719788, -0.8622829914093018], [-0.1364794373512268, 0.3212420642375946, 0.4626438319683075, 0.8946359753608704, 0.9577674865722656, 0.1360616534948349, 0.24024698138237, -0.3162631690502167, 0.5570197701454163, 0.4088710844516754, 0.24761605262756348], [-0.040510114282369614, 0.23056845366954803, 0.06948880106210709, 0.29301348328590393, 0.4374910593032837, 0.02958294376730919, 0.01902623288333416, -0.0950198695063591, -0.23451165854930878, -0.4529942572116852, -0.45955488085746765], [-0.05532936751842499, 0.0055173528380692005, 0.01704166829586029, 0.010044915601611137, -0.0037740280386060476, 0.004324795212596655, 0.009426453150808811, 0.0014057946391403675, 0.5507030487060547, 0.7658994197845459, 0.7721905708312988], [-0.1669660210609436, -0.028447460383176804, -0.0247038546949625, -0.012494656257331371, 0.0041718753054738045, 0.017612958326935768, 0.07639505714178085, 0.1258932501077652, 0.22134748101234436, -0.2911817729473114, -0.24515514075756073], [-0.11271943897008896, -0.8790797591209412, -0.4413260221481323, -0.7188265323638916, -0.16265769302845, -0.060810431838035583, -0.08355197310447693, -0.09443896263837814, -0.024657774716615677, 0.5432404279708862, 0.7372902035713196], [0.033735278993844986, -0.5434772968292236, -0.6386711597442627, -0.8965085744857788, -0.9142131209373474, -0.03114859201014042, 0.04195196554064751, 0.5513601899147034, 0.9696531295776367, 0.3140631318092346, 0.3082723915576935], [0.12436430156230927, 0.06485124677419662, 0.09400460869073868, 0.0991859957575798, 0.09102421998977661, 0.0790967345237732, 0.04454866424202919, 0.041966743767261505, -0.05608015134930611, -0.10625118017196655, -0.10485495626926422], [-1.0, 0.014747433364391327, 0.026759926229715347, 0.02530946396291256, -0.32447513937950134, -0.39366552233695984, -0.3655107319355011, -0.3646734952926636, -0.27476081252098083, -0.3086490035057068, -0.34821203351020813], [0.03520142659544945, -0.2642054259777069, -0.8263911604881287, -0.7979560494422913, -0.8787019848823547, 0.8322554230690002, 0.9166684746742249, 0.910959780216217, 0.7607904672622681, 0.8281057476997375, 0.985253095626831], [1.0, 0.012168350629508495, -0.03347562253475189, 0.4043745696544647, 0.2657080888748169, 0.26489537954330444, 0.2738135755062103, 0.2515988349914551, 0.257123738527298, 0.25784724950790405, 0.25863316655158997], [-0.004941895138472319, -0.05065101757645607, -0.054294653236866, 0.5453916192054749, 0.5096269845962524, 0.49461886286735535, 0.408689022064209, 0.4512183666229248, 0.33324503898620605, -0.258447527885437, -0.25616130232810974], [0.11838594079017639, 0.31697550415992737, 0.31562018394470215, 0.18327559530735016, 0.29690834879875183, 0.32589101791381836, 0.20007990300655365, 0.24149397015571594, 0.25322356820106506, 0.5482298731803894, 0.6267239451408386], [0.11998984217643738, -0.11331553757190704, -0.18321676552295685, -0.4825519919395447, -0.5145828723907471, -0.3978853225708008, -0.374807208776474, -0.10949406772851944, -0.38593393564224243, -0.519838809967041, -0.45749035477638245], [0.11000031232833862, -0.00705970823764801, -0.008818737231194973, -0.03910212218761444, 0.4373641312122345, 0.4222520887851715, 0.40858861804008484, 0.09774564206600189, 0.16119515895843506, 0.14601485431194305, 0.14860373735427856], [0.06533467024564743, -0.32887041568756104, -0.284609317779541, 0.3467283546924591, 0.901241660118103, 0.8224807977676392, 0.7272380590438843, 0.7257489562034607, 0.715185821056366, 0.309773325920105, 0.3068940043449402], [0.06253644824028015, -0.013454744592308998, 0.37195995450019836, 0.37243756651878357, 0.984337568283081, 0.9818090796470642, 0.8284515738487244, -0.23047897219657898, 0.5307891964912415, 0.6583238244056702, 0.6591403484344482], [1.0, -0.1527692675590515, -0.14634279906749725, -0.15459127724170685, 0.4542595148086548, 0.44874900579452515, 0.4447641968727112, 0.4404398798942566, 0.37997838854789734, 0.35671162605285645, 0.3547532558441162], [0.1654580682516098, -0.40165701508522034, -0.6106908917427063, -0.443921834230423, -0.9049991965293884, -0.7491029500961304, -0.2092089056968689, 0.5038289427757263, -0.3124387562274933, 0.6515243053436279, 0.6600918173789978], [-0.12969204783439636, 0.09870196133852005, 0.13465262949466705, 0.10831687599420547, -0.14819008111953735, -0.13795490562915802, -0.12217345833778381, -0.11587194353342056, -0.06875878572463989, -0.26009488105773926, -0.2529240548610687], [-0.08061355352401733, 0.0039194668643176556, 0.8087654113769531, 0.7625749707221985, 0.3426796495914459, 0.24319349229335785, -0.0938003733754158, -0.007678292226046324, 0.07466719299554825, -0.4965975880622864, -0.49715501070022583], [0.12769190967082977, -0.1666259616613388, 0.9352264404296875, -0.03914785757660866, 0.12619036436080933, 0.19767260551452637, 0.2927601635456085, 0.2607154846191406, 0.27430790662765503, 0.34938257932662964, 0.3560578227043152], [-0.1121707558631897, 0.45933037996292114, -0.519435703754425, -0.45212629437446594, -0.5631559491157532, -0.8310865759849548, -0.5518860816955566, -0.5954442620277405, -0.3786962628364563, -0.14544208347797394, -0.5296733975410461], [-0.10727597773075104, -0.1635957658290863, -0.16414697468280792, -0.22949440777301788, -0.23081013560295105, -0.23596471548080444, -0.2423834651708603, -0.24401524662971497, -0.2452738881111145, -0.24488164484500885, -0.24587251245975494], [-0.003549604443833232, 0.019861575216054916, 0.023928724229335785, 0.03487538918852806, 0.05543407425284386, 0.05842730775475502, 0.05949455127120018, 0.060041945427656174, 0.08386415243148804, 0.3146412968635559, 0.312684565782547], [-0.1521531641483307, 0.029537439346313477, 0.030501587316393852, 0.2147899866104126, 0.8379191756248474, 0.3021385371685028, 0.051035284996032715, -0.02775431051850319, -0.17848503589630127, -0.23942072689533234, -0.2284046709537506], [0.020120127126574516, 0.14390473067760468, 0.42978352308273315, 0.03197627514600754, -0.5035855770111084, -0.11579613387584686, 0.3769334554672241, 0.9471657276153564, 0.934151828289032, -0.15234379470348358, -0.13095155358314514], [0.052280962467193604, 0.8744045495986938, 0.857077419757843, -0.8491219878196716, -0.687110960483551, -0.2683825194835663, 0.07532414048910141, 0.2551489770412445, 0.31119677424430847, 0.22968386113643646, 0.8290225863456726], [-1.0, -0.016396712511777878, -0.040776561945676804, 0.0175634678453207, 0.4331620931625366, 0.43016794323921204, 0.42365530133247375, 0.42249664664268494, 0.4190402626991272, 0.41463205218315125, 0.4095308482646942], [-0.1473664939403534, 0.04327118769288063, 0.028513366356492043, -0.2571929097175598, -0.8292586803436279, -0.8072015047073364, -0.7868189215660095, -0.784393846988678, -0.7854148149490356, -0.7824813723564148, -0.7700506448745728], [0.16489370167255402, 0.002221468836069107, 0.0021420621778815985, -0.002940585371106863, 0.0021682437509298325, 0.002284448826685548, 0.002226503798738122, 0.0039354776963591576, 0.005491997580975294, 0.0008357112528756261, -0.0003215026226826012], [-0.03314661607146263, 0.3114188313484192, -0.6719807386398315, 0.8747690320014954, -0.08851654082536697, -0.33654722571372986, -0.5334621667861938, 0.12086242437362671, -0.8416948914527893, -0.5686689615249634, -0.7020124197006226], [0.04484399035573006, 0.3019169867038727, 0.31508269906044006, 0.2889590263366699, 0.6786107420921326, 0.6342578530311584, 0.16009624302387238, -0.8470171689987183, -0.8098222017288208, -0.7860476970672607, -0.7708749175071716], [-0.12529700994491577, -0.12143787741661072, 0.77925044298172, 0.19201737642288208, -0.8563599586486816, -0.8404393196105957, -0.7669396996498108, -0.7579014301300049, -0.7780448198318481, -0.7816617488861084, -0.7674844264984131], [0.13520751893520355, -0.04922189936041832, -0.05063195899128914, -0.12236009538173676, 0.952003538608551, 0.6359536051750183, 0.5553550720214844, 0.558790922164917, 0.5744310617446899, 0.438277930021286, 0.38106197118759155], [-0.10943420976400375, -0.7253389358520508, -0.23850227892398834, -0.08639812469482422, 0.45336148142814636, 0.3640098571777344, -0.17005206644535065, -0.15057627856731415, -0.003250390524044633, -0.1605902761220932, -0.10548543930053711]]}],\n",
       "                        {\"autosize\": false, \"height\": 2000, \"template\": {\"data\": {\"bar\": [{\"error_x\": {\"color\": \"#2a3f5f\"}, \"error_y\": {\"color\": \"#2a3f5f\"}, \"marker\": {\"line\": {\"color\": \"#E5ECF6\", \"width\": 0.5}}, \"type\": \"bar\"}], \"barpolar\": [{\"marker\": {\"line\": {\"color\": \"#E5ECF6\", \"width\": 0.5}}, \"type\": \"barpolar\"}], \"carpet\": [{\"aaxis\": {\"endlinecolor\": \"#2a3f5f\", \"gridcolor\": \"white\", \"linecolor\": \"white\", \"minorgridcolor\": \"white\", \"startlinecolor\": \"#2a3f5f\"}, \"baxis\": {\"endlinecolor\": \"#2a3f5f\", \"gridcolor\": \"white\", \"linecolor\": \"white\", \"minorgridcolor\": \"white\", \"startlinecolor\": \"#2a3f5f\"}, \"type\": \"carpet\"}], \"choropleth\": [{\"colorbar\": {\"outlinewidth\": 0, \"ticks\": \"\"}, \"type\": \"choropleth\"}], \"contour\": [{\"colorbar\": {\"outlinewidth\": 0, \"ticks\": \"\"}, \"colorscale\": [[0.0, \"#0d0887\"], [0.1111111111111111, \"#46039f\"], [0.2222222222222222, \"#7201a8\"], [0.3333333333333333, \"#9c179e\"], [0.4444444444444444, \"#bd3786\"], [0.5555555555555556, \"#d8576b\"], [0.6666666666666666, \"#ed7953\"], [0.7777777777777778, \"#fb9f3a\"], [0.8888888888888888, \"#fdca26\"], [1.0, \"#f0f921\"]], \"type\": \"contour\"}], \"contourcarpet\": [{\"colorbar\": {\"outlinewidth\": 0, \"ticks\": \"\"}, \"type\": \"contourcarpet\"}], \"heatmap\": [{\"colorbar\": {\"outlinewidth\": 0, \"ticks\": \"\"}, \"colorscale\": [[0.0, \"#0d0887\"], [0.1111111111111111, \"#46039f\"], [0.2222222222222222, \"#7201a8\"], [0.3333333333333333, \"#9c179e\"], [0.4444444444444444, \"#bd3786\"], [0.5555555555555556, \"#d8576b\"], [0.6666666666666666, \"#ed7953\"], [0.7777777777777778, \"#fb9f3a\"], [0.8888888888888888, \"#fdca26\"], [1.0, \"#f0f921\"]], \"type\": \"heatmap\"}], \"heatmapgl\": [{\"colorbar\": {\"outlinewidth\": 0, \"ticks\": \"\"}, \"colorscale\": [[0.0, \"#0d0887\"], [0.1111111111111111, \"#46039f\"], [0.2222222222222222, \"#7201a8\"], [0.3333333333333333, \"#9c179e\"], [0.4444444444444444, \"#bd3786\"], [0.5555555555555556, \"#d8576b\"], [0.6666666666666666, \"#ed7953\"], [0.7777777777777778, \"#fb9f3a\"], [0.8888888888888888, \"#fdca26\"], [1.0, \"#f0f921\"]], \"type\": \"heatmapgl\"}], \"histogram\": [{\"marker\": {\"colorbar\": {\"outlinewidth\": 0, \"ticks\": \"\"}}, \"type\": \"histogram\"}], \"histogram2d\": [{\"colorbar\": {\"outlinewidth\": 0, \"ticks\": \"\"}, \"colorscale\": [[0.0, \"#0d0887\"], [0.1111111111111111, \"#46039f\"], [0.2222222222222222, \"#7201a8\"], [0.3333333333333333, \"#9c179e\"], [0.4444444444444444, \"#bd3786\"], [0.5555555555555556, \"#d8576b\"], [0.6666666666666666, \"#ed7953\"], [0.7777777777777778, \"#fb9f3a\"], [0.8888888888888888, \"#fdca26\"], [1.0, \"#f0f921\"]], \"type\": \"histogram2d\"}], \"histogram2dcontour\": [{\"colorbar\": {\"outlinewidth\": 0, \"ticks\": \"\"}, \"colorscale\": [[0.0, \"#0d0887\"], [0.1111111111111111, \"#46039f\"], [0.2222222222222222, \"#7201a8\"], [0.3333333333333333, \"#9c179e\"], [0.4444444444444444, \"#bd3786\"], [0.5555555555555556, \"#d8576b\"], [0.6666666666666666, \"#ed7953\"], [0.7777777777777778, \"#fb9f3a\"], [0.8888888888888888, \"#fdca26\"], [1.0, \"#f0f921\"]], \"type\": \"histogram2dcontour\"}], \"mesh3d\": [{\"colorbar\": {\"outlinewidth\": 0, \"ticks\": \"\"}, \"type\": \"mesh3d\"}], \"parcoords\": [{\"line\": {\"colorbar\": {\"outlinewidth\": 0, \"ticks\": \"\"}}, \"type\": \"parcoords\"}], \"scatter\": [{\"marker\": {\"colorbar\": {\"outlinewidth\": 0, \"ticks\": \"\"}}, \"type\": \"scatter\"}], \"scatter3d\": [{\"line\": {\"colorbar\": {\"outlinewidth\": 0, \"ticks\": \"\"}}, \"marker\": {\"colorbar\": {\"outlinewidth\": 0, \"ticks\": \"\"}}, \"type\": \"scatter3d\"}], \"scattercarpet\": [{\"marker\": {\"colorbar\": {\"outlinewidth\": 0, \"ticks\": \"\"}}, \"type\": \"scattercarpet\"}], \"scattergeo\": [{\"marker\": {\"colorbar\": {\"outlinewidth\": 0, \"ticks\": \"\"}}, \"type\": \"scattergeo\"}], \"scattergl\": [{\"marker\": {\"colorbar\": {\"outlinewidth\": 0, \"ticks\": \"\"}}, \"type\": \"scattergl\"}], \"scattermapbox\": [{\"marker\": {\"colorbar\": {\"outlinewidth\": 0, \"ticks\": \"\"}}, \"type\": \"scattermapbox\"}], \"scatterpolar\": [{\"marker\": {\"colorbar\": {\"outlinewidth\": 0, \"ticks\": \"\"}}, \"type\": \"scatterpolar\"}], \"scatterpolargl\": [{\"marker\": {\"colorbar\": {\"outlinewidth\": 0, \"ticks\": \"\"}}, \"type\": \"scatterpolargl\"}], \"scatterternary\": [{\"marker\": {\"colorbar\": {\"outlinewidth\": 0, \"ticks\": \"\"}}, \"type\": \"scatterternary\"}], \"surface\": [{\"colorbar\": {\"outlinewidth\": 0, \"ticks\": \"\"}, \"colorscale\": [[0.0, \"#0d0887\"], [0.1111111111111111, \"#46039f\"], [0.2222222222222222, \"#7201a8\"], [0.3333333333333333, \"#9c179e\"], [0.4444444444444444, \"#bd3786\"], [0.5555555555555556, \"#d8576b\"], [0.6666666666666666, \"#ed7953\"], [0.7777777777777778, \"#fb9f3a\"], [0.8888888888888888, \"#fdca26\"], [1.0, \"#f0f921\"]], \"type\": \"surface\"}], \"table\": [{\"cells\": {\"fill\": {\"color\": \"#EBF0F8\"}, \"line\": {\"color\": \"white\"}}, \"header\": {\"fill\": {\"color\": \"#C8D4E3\"}, \"line\": {\"color\": \"white\"}}, \"type\": \"table\"}]}, \"layout\": {\"annotationdefaults\": {\"arrowcolor\": \"#2a3f5f\", \"arrowhead\": 0, \"arrowwidth\": 1}, \"colorscale\": {\"diverging\": [[0, \"#8e0152\"], [0.1, \"#c51b7d\"], [0.2, \"#de77ae\"], [0.3, \"#f1b6da\"], [0.4, \"#fde0ef\"], [0.5, \"#f7f7f7\"], [0.6, \"#e6f5d0\"], [0.7, \"#b8e186\"], [0.8, \"#7fbc41\"], [0.9, \"#4d9221\"], [1, \"#276419\"]], \"sequential\": [[0.0, \"#0d0887\"], [0.1111111111111111, \"#46039f\"], [0.2222222222222222, \"#7201a8\"], [0.3333333333333333, \"#9c179e\"], [0.4444444444444444, \"#bd3786\"], [0.5555555555555556, \"#d8576b\"], [0.6666666666666666, \"#ed7953\"], [0.7777777777777778, \"#fb9f3a\"], [0.8888888888888888, \"#fdca26\"], [1.0, \"#f0f921\"]], \"sequentialminus\": [[0.0, \"#0d0887\"], [0.1111111111111111, \"#46039f\"], [0.2222222222222222, \"#7201a8\"], [0.3333333333333333, \"#9c179e\"], [0.4444444444444444, \"#bd3786\"], [0.5555555555555556, \"#d8576b\"], [0.6666666666666666, \"#ed7953\"], [0.7777777777777778, \"#fb9f3a\"], [0.8888888888888888, \"#fdca26\"], [1.0, \"#f0f921\"]]}, \"colorway\": [\"#636efa\", \"#EF553B\", \"#00cc96\", \"#ab63fa\", \"#FFA15A\", \"#19d3f3\", \"#FF6692\", \"#B6E880\", \"#FF97FF\", \"#FECB52\"], \"font\": {\"color\": \"#2a3f5f\"}, \"geo\": {\"bgcolor\": \"white\", \"lakecolor\": \"white\", \"landcolor\": \"#E5ECF6\", \"showlakes\": true, \"showland\": true, \"subunitcolor\": \"white\"}, \"hoverlabel\": {\"align\": \"left\"}, \"hovermode\": \"closest\", \"mapbox\": {\"style\": \"light\"}, \"paper_bgcolor\": \"white\", \"plot_bgcolor\": \"#E5ECF6\", \"polar\": {\"angularaxis\": {\"gridcolor\": \"white\", \"linecolor\": \"white\", \"ticks\": \"\"}, \"bgcolor\": \"#E5ECF6\", \"radialaxis\": {\"gridcolor\": \"white\", \"linecolor\": \"white\", \"ticks\": \"\"}}, \"scene\": {\"xaxis\": {\"backgroundcolor\": \"#E5ECF6\", \"gridcolor\": \"white\", \"gridwidth\": 2, \"linecolor\": \"white\", \"showbackground\": true, \"ticks\": \"\", \"zerolinecolor\": \"white\"}, \"yaxis\": {\"backgroundcolor\": \"#E5ECF6\", \"gridcolor\": \"white\", \"gridwidth\": 2, \"linecolor\": \"white\", \"showbackground\": true, \"ticks\": \"\", \"zerolinecolor\": \"white\"}, \"zaxis\": {\"backgroundcolor\": \"#E5ECF6\", \"gridcolor\": \"white\", \"gridwidth\": 2, \"linecolor\": \"white\", \"showbackground\": true, \"ticks\": \"\", \"zerolinecolor\": \"white\"}}, \"shapedefaults\": {\"line\": {\"color\": \"#2a3f5f\"}}, \"ternary\": {\"aaxis\": {\"gridcolor\": \"white\", \"linecolor\": \"white\", \"ticks\": \"\"}, \"baxis\": {\"gridcolor\": \"white\", \"linecolor\": \"white\", \"ticks\": \"\"}, \"bgcolor\": \"#E5ECF6\", \"caxis\": {\"gridcolor\": \"white\", \"linecolor\": \"white\", \"ticks\": \"\"}}, \"title\": {\"x\": 0.05}, \"xaxis\": {\"automargin\": true, \"gridcolor\": \"white\", \"linecolor\": \"white\", \"ticks\": \"\", \"zerolinecolor\": \"white\", \"zerolinewidth\": 2}, \"yaxis\": {\"automargin\": true, \"gridcolor\": \"white\", \"linecolor\": \"white\", \"ticks\": \"\", \"zerolinecolor\": \"white\", \"zerolinewidth\": 2}}}, \"width\": 1200},\n",
       "                        {\"responsive\": true}\n",
       "                    ).then(function(){\n",
       "                            \n",
       "var gd = document.getElementById('db8d7607-4508-4ac0-a299-dd67d4a57734');\n",
       "var x = new MutationObserver(function (mutations, observer) {{\n",
       "        var display = window.getComputedStyle(gd).display;\n",
       "        if (!display || display === 'none') {{\n",
       "            console.log([gd, 'removed!']);\n",
       "            Plotly.purge(gd);\n",
       "            observer.disconnect();\n",
       "        }}\n",
       "}});\n",
       "\n",
       "// Listen for the removal of the full notebook cells\n",
       "var notebookContainer = gd.closest('#notebook-container');\n",
       "if (notebookContainer) {{\n",
       "    x.observe(notebookContainer, {childList: true});\n",
       "}}\n",
       "\n",
       "// Listen for the clearing of the current output cell\n",
       "var outputEl = gd.closest('.output');\n",
       "if (outputEl) {{\n",
       "    x.observe(outputEl, {childList: true});\n",
       "}}\n",
       "\n",
       "                        })\n",
       "                };\n",
       "                });\n",
       "            </script>\n",
       "        </div>"
      ]
     },
     "metadata": {},
     "output_type": "display_data"
    }
   ],
   "source": [
    "plot_recurrent_outputs(text)"
   ]
  },
  {
   "cell_type": "markdown",
   "metadata": {},
   "source": [
    "Veamos el promedio de las activaciones (usando valor absoluto)"
   ]
  },
  {
   "cell_type": "code",
   "execution_count": 21,
   "metadata": {},
   "outputs": [
    {
     "name": "stdout",
     "output_type": "stream",
     "text": [
      "Promedio de valor abs. de activaciones de todas las LSTM Cell Forward\n"
     ]
    },
    {
     "data": {
      "image/png": "[encoded data removed]",
      "text/plain": [
       "<Figure size 432x288 with 1 Axes>"
      ]
     },
     "metadata": {
      "needs_background": "light"
     },
     "output_type": "display_data"
    }
   ],
   "source": [
    "\n",
    "import matplotlib.pyplot as plt\n",
    "\n",
    "tokens, output = get_interm_outputs(text)\n",
    "plt.rcParams[\"xtick.labeltop\"] = True\n",
    "plt.rcParams[\"xtick.top\"] = True\n",
    "\n",
    "plt.plot(\n",
    "    (output).mean(axis=1))\n",
    "\n",
    "print(\"Promedio de valor abs. de activaciones de todas las LSTM Cell Forward\")\n",
    "plt.xticks(ticks=range(len(tokens)), labels=tokens, rotation=90);"
   ]
  },
  {
   "cell_type": "markdown",
   "metadata": {},
   "source": [
    "## Proporción de Agresivos"
   ]
  },
  {
   "cell_type": "code",
   "execution_count": 22,
   "metadata": {},
   "outputs": [
    {
     "name": "stdout",
     "output_type": "stream",
     "text": [
      "Proporción de agresivos : 0.648\n",
      "Correlación AG - TR: 0.42040512740887925\n"
     ]
    }
   ],
   "source": [
    "print(\"Proporción de agresivos :\", sum(df_dev[\"AG\"] == 0) / len(df_dev))\n",
    "\n",
    "hs = df_dev[df_dev[\"HS\"] == 1]\n",
    "\n",
    "print(\"Correlación AG - TR:\", hs[\"AG\"].corr(hs[\"TR\"]))"
   ]
  },
  {
   "cell_type": "markdown",
   "metadata": {},
   "source": [
    "## Falsos negativos"
   ]
  },
  {
   "cell_type": "markdown",
   "metadata": {},
   "source": [
    "Vamos a etiquetar la profanidad. Considero profanidad todo aquellas palabras de uso vulgar (puta, perra, zorra, coño, negratas, musulmonos) pero no así aquellas que sean marcadoras de discurso racista pero no vulgar (negro, subsahariano)"
   ]
  },
  {
   "cell_type": "code",
   "execution_count": 23,
   "metadata": {},
   "outputs": [
    {
     "name": "stdout",
     "output_type": "stream",
     "text": [
      "Totales =  37\n",
      "No AG (13) AG (24)\n"
     ]
    },
    {
     "data": {
      "text/html": [
       "<div>\n",
       "<style scoped>\n",
       "    .dataframe tbody tr th:only-of-type {\n",
       "        vertical-align: middle;\n",
       "    }\n",
       "\n",
       "    .dataframe tbody tr th {\n",
       "        vertical-align: top;\n",
       "    }\n",
       "\n",
       "    .dataframe thead th {\n",
       "        text-align: right;\n",
       "    }\n",
       "</style>\n",
       "<table border=\"1\" class=\"dataframe\">\n",
       "  <thead>\n",
       "    <tr style=\"text-align: right;\">\n",
       "      <th></th>\n",
       "      <th>text</th>\n",
       "      <th>proba</th>\n",
       "      <th>HS</th>\n",
       "      <th>AG</th>\n",
       "      <th>PROFANITY</th>\n",
       "    </tr>\n",
       "    <tr>\n",
       "      <th>id</th>\n",
       "      <th></th>\n",
       "      <th></th>\n",
       "      <th></th>\n",
       "      <th></th>\n",
       "      <th></th>\n",
       "    </tr>\n",
       "  </thead>\n",
       "  <tbody>\n",
       "    <tr>\n",
       "      <th>24126</th>\n",
       "      <td>LA SOLUCIÓN ES SOLDARLE EL TIMÓN DE LA PATERA RUMBO DE DONDE SALIERON CON AGUA Y COMIDA. https://t.co/59pInBdgnR</td>\n",
       "      <td>0.003139</td>\n",
       "      <td>1.0</td>\n",
       "      <td>0.0</td>\n",
       "      <td>0</td>\n",
       "    </tr>\n",
       "    <tr>\n",
       "      <th>22065</th>\n",
       "      <td>| lo único que dominas es mi polla en tu cara. https://t.co/qlYOd4zPwW</td>\n",
       "      <td>0.004725</td>\n",
       "      <td>1.0</td>\n",
       "      <td>1.0</td>\n",
       "      <td>0</td>\n",
       "    </tr>\n",
       "    <tr>\n",
       "      <th>24590</th>\n",
       "      <td>SOMOS MUCHO MÁS DE LO QUE SUEÑAS SER PINCHÉ SUDACA CAGADO, y si no te gusta dime donde nos topamos pa reventarnos el hocico 1:1 @amarchesin1 https://t.co/vHHPBKS1AK</td>\n",
       "      <td>0.005103</td>\n",
       "      <td>1.0</td>\n",
       "      <td>1.0</td>\n",
       "      <td>0</td>\n",
       "    </tr>\n",
       "    <tr>\n",
       "      <th>20175</th>\n",
       "      <td>Ay Dios cuando se entere Casado de que la ola de calor viene dada por la entrada masiva, sin papeles, de aire subsahariano</td>\n",
       "      <td>0.007586</td>\n",
       "      <td>1.0</td>\n",
       "      <td>0.0</td>\n",
       "      <td>0</td>\n",
       "    </tr>\n",
       "    <tr>\n",
       "      <th>23688</th>\n",
       "      <td>Ninguna mujer es tan santa como para no aprender a coger bien, ni tan puta como para no aprender a amar.</td>\n",
       "      <td>0.007630</td>\n",
       "      <td>1.0</td>\n",
       "      <td>1.0</td>\n",
       "      <td>0</td>\n",
       "    </tr>\n",
       "    <tr>\n",
       "      <th>22560</th>\n",
       "      <td>@CarlaEUrena @FelipeCalderon Callateeeee !! Puta gallina cacarea !! Ni idea tienes de nada .</td>\n",
       "      <td>0.017894</td>\n",
       "      <td>1.0</td>\n",
       "      <td>1.0</td>\n",
       "      <td>0</td>\n",
       "    </tr>\n",
       "    <tr>\n",
       "      <th>23019</th>\n",
       "      <td>Tengo una sobrina que estaba re mal en química, tenía que dar una prueba global y fui a enseñarle y le fue la zorra, me siento tan bien</td>\n",
       "      <td>0.021647</td>\n",
       "      <td>1.0</td>\n",
       "      <td>1.0</td>\n",
       "      <td>0</td>\n",
       "    </tr>\n",
       "    <tr>\n",
       "      <th>20337</th>\n",
       "      <td>Ni armar un complot para matar un presidente saben... #Sudacas..</td>\n",
       "      <td>0.022175</td>\n",
       "      <td>1.0</td>\n",
       "      <td>1.0</td>\n",
       "      <td>0</td>\n",
       "    </tr>\n",
       "    <tr>\n",
       "      <th>24925</th>\n",
       "      <td>La verdad que si, no veia la hora de llegar a los 5 mil amigos😂 ahora de a poco voy borrando esos indios indocumentados😂 https://t.co/Xw8q4GLM8v</td>\n",
       "      <td>0.023095</td>\n",
       "      <td>1.0</td>\n",
       "      <td>0.0</td>\n",
       "      <td>0</td>\n",
       "    </tr>\n",
       "    <tr>\n",
       "      <th>23928</th>\n",
       "      <td>Puta niña mierda, ya cállate a la chingada 😡😡🤯🤯🤯🤯</td>\n",
       "      <td>0.026648</td>\n",
       "      <td>1.0</td>\n",
       "      <td>1.0</td>\n",
       "      <td>0</td>\n",
       "    </tr>\n",
       "    <tr>\n",
       "      <th>21535</th>\n",
       "      <td>#VOX critica duramente a ⁦@pablocasado_⁩ “Les da la bienvenida como si fuera un cartel del welcome de #Carmena “ ¡Expulsión inmediata de moromierdas!  https://t.co/HaySDibj2l</td>\n",
       "      <td>0.033586</td>\n",
       "      <td>1.0</td>\n",
       "      <td>1.0</td>\n",
       "      <td>0</td>\n",
       "    </tr>\n",
       "    <tr>\n",
       "      <th>24864</th>\n",
       "      <td>rosalia me podría decir sudaca i wouldn't give a fuck</td>\n",
       "      <td>0.038651</td>\n",
       "      <td>1.0</td>\n",
       "      <td>1.0</td>\n",
       "      <td>0</td>\n",
       "    </tr>\n",
       "    <tr>\n",
       "      <th>21152</th>\n",
       "      <td>@NatyBurgos15 @Horaciogenta @PaolaPa05 Cállate vos Black and bitch como la puta falsa abogada. Espero se pudra en la cárcel y devuelva todo. Dedícate a estudiar en serio. La droga es mala. Cristina puta</td>\n",
       "      <td>0.042099</td>\n",
       "      <td>1.0</td>\n",
       "      <td>1.0</td>\n",
       "      <td>0</td>\n",
       "    </tr>\n",
       "    <tr>\n",
       "      <th>21351</th>\n",
       "      <td>@abril9979 Cállate pelotuda imbécil si sos hermosa la próxima te pego te amo bye</td>\n",
       "      <td>0.043087</td>\n",
       "      <td>1.0</td>\n",
       "      <td>1.0</td>\n",
       "      <td>0</td>\n",
       "    </tr>\n",
       "    <tr>\n",
       "      <th>24373</th>\n",
       "      <td>@ccamilitach no te mereces que te preste ninguna malla más por escribirlo así perra 😒jajajajaj</td>\n",
       "      <td>0.044178</td>\n",
       "      <td>1.0</td>\n",
       "      <td>1.0</td>\n",
       "      <td>0</td>\n",
       "    </tr>\n",
       "    <tr>\n",
       "      <th>21727</th>\n",
       "      <td>España crea su primer 'campo de refugiados' en la bahía de Algeciras https://t.co/l7Zmh2kvPN vía @elmundoes Gran noticia para el contribuyente español. Españoles a pagar, a pagar. Las pensiones pensad en las pensiones. Esto la sanidad como es gratis podemos dejar de pagarla no?</td>\n",
       "      <td>0.045941</td>\n",
       "      <td>1.0</td>\n",
       "      <td>0.0</td>\n",
       "      <td>0</td>\n",
       "    </tr>\n",
       "    <tr>\n",
       "      <th>21841</th>\n",
       "      <td>La otra no noticia del día es la visita del sonriente Casado a Algeciras, a visitar en Ceuta y Algeciras, no a los guardias civiles heridos tras la violenta entrada de ilegales del otro día, sino a un grupo de subsaharianos que han entrado en nuestro país de forma igualmente ileg</td>\n",
       "      <td>0.046839</td>\n",
       "      <td>1.0</td>\n",
       "      <td>1.0</td>\n",
       "      <td>0</td>\n",
       "    </tr>\n",
       "    <tr>\n",
       "      <th>21417</th>\n",
       "      <td>Q pasa en🇪🇸,Q tenemos sindicatos de manteros ,como se puede estar sindicado sin tener papeles ni pasaportes ni nada Q acrediten de donde son y quién son https://t.co/gzsAZUd8xA</td>\n",
       "      <td>0.060480</td>\n",
       "      <td>1.0</td>\n",
       "      <td>0.0</td>\n",
       "      <td>0</td>\n",
       "    </tr>\n",
       "    <tr>\n",
       "      <th>24536</th>\n",
       "      <td>Eres una perra que no merece a sus amigos — ¿Quieres ser mi amigo/a? Tal vez a ti sí te merezca. https://t.co/NjEcj00Z9a</td>\n",
       "      <td>0.061608</td>\n",
       "      <td>1.0</td>\n",
       "      <td>1.0</td>\n",
       "      <td>0</td>\n",
       "    </tr>\n",
       "    <tr>\n",
       "      <th>22199</th>\n",
       "      <td>Todo aquél que se haya molestado en investigar un poco sabe que desde tiempos antiguos los mayores negreros y esclavistas del mundo fueron los árabes. https://t.co/DY5Uo8979v</td>\n",
       "      <td>0.086833</td>\n",
       "      <td>1.0</td>\n",
       "      <td>0.0</td>\n",
       "      <td>0</td>\n",
       "    </tr>\n",
       "    <tr>\n",
       "      <th>22669</th>\n",
       "      <td>mario, hablas de la hija de chavez pero vos decir ser italiano y no vivis en italia. Para los tanos (si les importara lo que hace un sudaca) tamben serias un traidor viviendo aca. #maldición</td>\n",
       "      <td>0.093456</td>\n",
       "      <td>1.0</td>\n",
       "      <td>1.0</td>\n",
       "      <td>0</td>\n",
       "    </tr>\n",
       "    <tr>\n",
       "      <th>24401</th>\n",
       "      <td>No habrá que darles de lo 'nuestro'. Ellos se apropiarán de lo 'suyo'.  @Manuj_Hidalgo les dice ☝️ a quienes piensan q hay q jubilar a los mayores para q trabajen los jóvenes o q los q vienen d fuera te quitan el trabajo.  #Inmigración https://t.co/mzDhf2Fdqv vía @voz_opinion</td>\n",
       "      <td>0.105281</td>\n",
       "      <td>1.0</td>\n",
       "      <td>1.0</td>\n",
       "      <td>0</td>\n",
       "    </tr>\n",
       "    <tr>\n",
       "      <th>21339</th>\n",
       "      <td>La #Inmigración, como sabemos, es mala, se ha demostrado en media #Europa. Pero no debemos caer en la tentación de salpicar nuestra #soberanía con extremismos, tenemos que defender lo nuestro, si, pero desde posiciones conservadoras y no radicales. Es lo mejor. RP</td>\n",
       "      <td>0.105347</td>\n",
       "      <td>1.0</td>\n",
       "      <td>1.0</td>\n",
       "      <td>0</td>\n",
       "    </tr>\n",
       "    <tr>\n",
       "      <th>22168</th>\n",
       "      <td>Mi novia es como mi polla. Sé que está ahí porque de vez en cuando se levanta. Una de mis pantalones y la otra de la cama.</td>\n",
       "      <td>0.117177</td>\n",
       "      <td>1.0</td>\n",
       "      <td>0.0</td>\n",
       "      <td>0</td>\n",
       "    </tr>\n",
       "    <tr>\n",
       "      <th>22008</th>\n",
       "      <td>@Namurii @medicaster_xz @Yorha2d @KeloKlau_ Se merecía de puta y no quiere que le metan la verga, jajaja no mamen</td>\n",
       "      <td>0.134075</td>\n",
       "      <td>1.0</td>\n",
       "      <td>0.0</td>\n",
       "      <td>0</td>\n",
       "    </tr>\n",
       "    <tr>\n",
       "      <th>20307</th>\n",
       "      <td>tu eres lesbi Ana xk no as probaddo mi polla</td>\n",
       "      <td>0.169413</td>\n",
       "      <td>1.0</td>\n",
       "      <td>1.0</td>\n",
       "      <td>0</td>\n",
       "    </tr>\n",
       "    <tr>\n",
       "      <th>24822</th>\n",
       "      <td>@Relatofeminista 'A mí sólo me gustan las tías si son guarras'. Para mí está claro que si usa guarra para adjetivar el tipo de mujeres que le gusta no debe de asociarle las mismas connotaciones negativas que presuponéis. Tengo amigas que se autoadjetivan</td>\n",
       "      <td>0.172360</td>\n",
       "      <td>1.0</td>\n",
       "      <td>0.0</td>\n",
       "      <td>0</td>\n",
       "    </tr>\n",
       "    <tr>\n",
       "      <th>20265</th>\n",
       "      <td>Tema inmigración de Venezuela como estamos y que bebemos hacer ayer mire un programa con abogados pidiendo abrir un estudio con todos ellos pera trabajar en Argentina no es como mucho que antecedentes tienen que hacemos con los nuestros es un tema a mirar antes que nos estalle</td>\n",
       "      <td>0.216171</td>\n",
       "      <td>1.0</td>\n",
       "      <td>0.0</td>\n",
       "      <td>0</td>\n",
       "    </tr>\n",
       "    <tr>\n",
       "      <th>21873</th>\n",
       "      <td>Arrollada por una docena de manteros en la Gran Vía cuando paseaba junto a su madre, que iba en silla de ruedas motorizada. Al verse en medio de la estampida de los subsaharianos, que portaban las mercancías en las habituales mantas de tela que se... https://t.co/4RZPjKyPmr</td>\n",
       "      <td>0.267640</td>\n",
       "      <td>1.0</td>\n",
       "      <td>1.0</td>\n",
       "      <td>0</td>\n",
       "    </tr>\n",
       "    <tr>\n",
       "      <th>24431</th>\n",
       "      <td>Yo nunca le he dicho puta a una mujer pero socia tú eres senda petardo 😂😂 estas navidades no voy a comprar pirotecnias ya contigo vasta 😂😂😂</td>\n",
       "      <td>0.277297</td>\n",
       "      <td>1.0</td>\n",
       "      <td>0.0</td>\n",
       "      <td>0</td>\n",
       "    </tr>\n",
       "    <tr>\n",
       "      <th>22067</th>\n",
       "      <td>@lusiluu24 @SurgicalGolem @muriRooster Callate perra mira la foto de perfil que tienes tu quieres que te cojan y te olvidas de el</td>\n",
       "      <td>0.289749</td>\n",
       "      <td>1.0</td>\n",
       "      <td>1.0</td>\n",
       "      <td>0</td>\n",
       "    </tr>\n",
       "    <tr>\n",
       "      <th>23247</th>\n",
       "      <td>Abro hilo recopilando todos los actos de violencia llevados a cabo por los inmigrantes sin papeles que tanto le gustan a la izquierda. Además, también recopilaré las paguitas que reciben a cambio de nada, puesto que pagan CERO impuestos. Empecemos. #UngaUngaArmy</td>\n",
       "      <td>0.336215</td>\n",
       "      <td>1.0</td>\n",
       "      <td>0.0</td>\n",
       "      <td>0</td>\n",
       "    </tr>\n",
       "    <tr>\n",
       "      <th>20711</th>\n",
       "      <td>@lopezdoriga eso es culpa de los gobiernos corruptos que tienen arreglos con esta escoria. Ojalá se muera la perra esa...</td>\n",
       "      <td>0.355045</td>\n",
       "      <td>1.0</td>\n",
       "      <td>1.0</td>\n",
       "      <td>0</td>\n",
       "    </tr>\n",
       "    <tr>\n",
       "      <th>21599</th>\n",
       "      <td>Como dicen… Si no tienes algo bueno que decir mejor callate y matate maldita perra arrogante o como era? https://t.co/7dGhOHg6Fs</td>\n",
       "      <td>0.372441</td>\n",
       "      <td>1.0</td>\n",
       "      <td>1.0</td>\n",
       "      <td>0</td>\n",
       "    </tr>\n",
       "    <tr>\n",
       "      <th>22592</th>\n",
       "      <td>o sea tantos arabes q hay en venezuela y no pueden hacer un atentado decente q pasa ?????????</td>\n",
       "      <td>0.398492</td>\n",
       "      <td>1.0</td>\n",
       "      <td>0.0</td>\n",
       "      <td>0</td>\n",
       "    </tr>\n",
       "    <tr>\n",
       "      <th>21072</th>\n",
       "      <td>Voy andando por la calle y me han dicho cosas en árabe ya que me estas acosando dime lo en español para que te entienda, asique como yo no les entiendo me he cagado en su puta madre en árabe para que ellos a mi si.</td>\n",
       "      <td>0.435858</td>\n",
       "      <td>1.0</td>\n",
       "      <td>1.0</td>\n",
       "      <td>0</td>\n",
       "    </tr>\n",
       "    <tr>\n",
       "      <th>23568</th>\n",
       "      <td>Para mi si querés llegar a latinoamerica no suma el discurso argento de nosotros somos descendientes d europ.. Nose un mexicano nos diria para loca somos tos sudakas..</td>\n",
       "      <td>0.441281</td>\n",
       "      <td>1.0</td>\n",
       "      <td>1.0</td>\n",
       "      <td>0</td>\n",
       "    </tr>\n",
       "  </tbody>\n",
       "</table>\n",
       "</div>"
      ],
      "text/plain": [
       "                                                                                                                                                                                                                                                                                           text  \\\n",
       "id                                                                                                                                                                                                                                                                                                \n",
       "24126                                                                                                                                                                          LA SOLUCIÓN ES SOLDARLE EL TIMÓN DE LA PATERA RUMBO DE DONDE SALIERON CON AGUA Y COMIDA. https://t.co/59pInBdgnR   \n",
       "22065                                                                                                                                                                                                                    | lo único que dominas es mi polla en tu cara. https://t.co/qlYOd4zPwW   \n",
       "24590                                                                                                                      SOMOS MUCHO MÁS DE LO QUE SUEÑAS SER PINCHÉ SUDACA CAGADO, y si no te gusta dime donde nos topamos pa reventarnos el hocico 1:1 @amarchesin1 https://t.co/vHHPBKS1AK   \n",
       "20175                                                                                                                                                                Ay Dios cuando se entere Casado de que la ola de calor viene dada por la entrada masiva, sin papeles, de aire subsahariano   \n",
       "23688                                                                                                                                                                                  Ninguna mujer es tan santa como para no aprender a coger bien, ni tan puta como para no aprender a amar.   \n",
       "22560                                                                                                                                                                                              @CarlaEUrena @FelipeCalderon Callateeeee !! Puta gallina cacarea !! Ni idea tienes de nada .   \n",
       "23019                                                                                                                                                   Tengo una sobrina que estaba re mal en química, tenía que dar una prueba global y fui a enseñarle y le fue la zorra, me siento tan bien   \n",
       "20337                                                                                                                                                                                                                          Ni armar un complot para matar un presidente saben... #Sudacas..   \n",
       "24925                                                                                                                                          La verdad que si, no veia la hora de llegar a los 5 mil amigos😂 ahora de a poco voy borrando esos indios indocumentados😂 https://t.co/Xw8q4GLM8v   \n",
       "23928                                                                                                                                                                                                                                         Puta niña mierda, ya cállate a la chingada 😡😡🤯🤯🤯🤯   \n",
       "21535                                                                                                            #VOX critica duramente a ⁦@pablocasado_⁩ “Les da la bienvenida como si fuera un cartel del welcome de #Carmena “ ¡Expulsión inmediata de moromierdas!  https://t.co/HaySDibj2l   \n",
       "24864                                                                                                                                                                                                                                     rosalia me podría decir sudaca i wouldn't give a fuck   \n",
       "21152                                                                                @NatyBurgos15 @Horaciogenta @PaolaPa05 Cállate vos Black and bitch como la puta falsa abogada. Espero se pudra en la cárcel y devuelva todo. Dedícate a estudiar en serio. La droga es mala. Cristina puta   \n",
       "21351                                                                                                                                                                                                          @abril9979 Cállate pelotuda imbécil si sos hermosa la próxima te pego te amo bye   \n",
       "24373                                                                                                                                                                                            @ccamilitach no te mereces que te preste ninguna malla más por escribirlo así perra 😒jajajajaj   \n",
       "21727    España crea su primer 'campo de refugiados' en la bahía de Algeciras https://t.co/l7Zmh2kvPN vía @elmundoes Gran noticia para el contribuyente español. Españoles a pagar, a pagar. Las pensiones pensad en las pensiones. Esto la sanidad como es gratis podemos dejar de pagarla no?   \n",
       "21841  La otra no noticia del día es la visita del sonriente Casado a Algeciras, a visitar en Ceuta y Algeciras, no a los guardias civiles heridos tras la violenta entrada de ilegales del otro día, sino a un grupo de subsaharianos que han entrado en nuestro país de forma igualmente ileg   \n",
       "21417                                                                                                          Q pasa en🇪🇸,Q tenemos sindicatos de manteros ,como se puede estar sindicado sin tener papeles ni pasaportes ni nada Q acrediten de donde son y quién son https://t.co/gzsAZUd8xA   \n",
       "24536                                                                                                                                                                  Eres una perra que no merece a sus amigos — ¿Quieres ser mi amigo/a? Tal vez a ti sí te merezca. https://t.co/NjEcj00Z9a   \n",
       "22199                                                                                                            Todo aquél que se haya molestado en investigar un poco sabe que desde tiempos antiguos los mayores negreros y esclavistas del mundo fueron los árabes. https://t.co/DY5Uo8979v   \n",
       "22669                                                                                            mario, hablas de la hija de chavez pero vos decir ser italiano y no vivis en italia. Para los tanos (si les importara lo que hace un sudaca) tamben serias un traidor viviendo aca. #maldición   \n",
       "24401      No habrá que darles de lo 'nuestro'. Ellos se apropiarán de lo 'suyo'.  @Manuj_Hidalgo les dice ☝️ a quienes piensan q hay q jubilar a los mayores para q trabajen los jóvenes o q los q vienen d fuera te quitan el trabajo.  #Inmigración https://t.co/mzDhf2Fdqv vía @voz_opinion   \n",
       "21339                  La #Inmigración, como sabemos, es mala, se ha demostrado en media #Europa. Pero no debemos caer en la tentación de salpicar nuestra #soberanía con extremismos, tenemos que defender lo nuestro, si, pero desde posiciones conservadoras y no radicales. Es lo mejor. RP   \n",
       "22168                                                                                                                                                                Mi novia es como mi polla. Sé que está ahí porque de vez en cuando se levanta. Una de mis pantalones y la otra de la cama.   \n",
       "22008                                                                                                                                                                         @Namurii @medicaster_xz @Yorha2d @KeloKlau_ Se merecía de puta y no quiere que le metan la verga, jajaja no mamen   \n",
       "20307                                                                                                                                                                                                                                              tu eres lesbi Ana xk no as probaddo mi polla   \n",
       "24822                           @Relatofeminista 'A mí sólo me gustan las tías si son guarras'. Para mí está claro que si usa guarra para adjetivar el tipo de mujeres que le gusta no debe de asociarle las mismas connotaciones negativas que presuponéis. Tengo amigas que se autoadjetivan    \n",
       "20265     Tema inmigración de Venezuela como estamos y que bebemos hacer ayer mire un programa con abogados pidiendo abrir un estudio con todos ellos pera trabajar en Argentina no es como mucho que antecedentes tienen que hacemos con los nuestros es un tema a mirar antes que nos estalle   \n",
       "21873        Arrollada por una docena de manteros en la Gran Vía cuando paseaba junto a su madre, que iba en silla de ruedas motorizada. Al verse en medio de la estampida de los subsaharianos, que portaban las mercancías en las habituales mantas de tela que se... https://t.co/4RZPjKyPmr   \n",
       "24431                                                                                                                                               Yo nunca le he dicho puta a una mujer pero socia tú eres senda petardo 😂😂 estas navidades no voy a comprar pirotecnias ya contigo vasta 😂😂😂   \n",
       "22067                                                                                                                                                         @lusiluu24 @SurgicalGolem @muriRooster Callate perra mira la foto de perfil que tienes tu quieres que te cojan y te olvidas de el   \n",
       "23247                    Abro hilo recopilando todos los actos de violencia llevados a cabo por los inmigrantes sin papeles que tanto le gustan a la izquierda. Además, también recopilaré las paguitas que reciben a cambio de nada, puesto que pagan CERO impuestos. Empecemos. #UngaUngaArmy   \n",
       "20711                                                                                                                                                                 @lopezdoriga eso es culpa de los gobiernos corruptos que tienen arreglos con esta escoria. Ojalá se muera la perra esa...   \n",
       "21599                                                                                                                                                          Como dicen… Si no tienes algo bueno que decir mejor callate y matate maldita perra arrogante o como era? https://t.co/7dGhOHg6Fs   \n",
       "22592                                                                                                                                                                                             o sea tantos arabes q hay en venezuela y no pueden hacer un atentado decente q pasa ?????????   \n",
       "21072                                                                    Voy andando por la calle y me han dicho cosas en árabe ya que me estas acosando dime lo en español para que te entienda, asique como yo no les entiendo me he cagado en su puta madre en árabe para que ellos a mi si.   \n",
       "23568                                                                                                                   Para mi si querés llegar a latinoamerica no suma el discurso argento de nosotros somos descendientes d europ.. Nose un mexicano nos diria para loca somos tos sudakas..   \n",
       "\n",
       "          proba   HS   AG  PROFANITY  \n",
       "id                                    \n",
       "24126  0.003139  1.0  0.0          0  \n",
       "22065  0.004725  1.0  1.0          0  \n",
       "24590  0.005103  1.0  1.0          0  \n",
       "20175  0.007586  1.0  0.0          0  \n",
       "23688  0.007630  1.0  1.0          0  \n",
       "22560  0.017894  1.0  1.0          0  \n",
       "23019  0.021647  1.0  1.0          0  \n",
       "20337  0.022175  1.0  1.0          0  \n",
       "24925  0.023095  1.0  0.0          0  \n",
       "23928  0.026648  1.0  1.0          0  \n",
       "21535  0.033586  1.0  1.0          0  \n",
       "24864  0.038651  1.0  1.0          0  \n",
       "21152  0.042099  1.0  1.0          0  \n",
       "21351  0.043087  1.0  1.0          0  \n",
       "24373  0.044178  1.0  1.0          0  \n",
       "21727  0.045941  1.0  0.0          0  \n",
       "21841  0.046839  1.0  1.0          0  \n",
       "21417  0.060480  1.0  0.0          0  \n",
       "24536  0.061608  1.0  1.0          0  \n",
       "22199  0.086833  1.0  0.0          0  \n",
       "22669  0.093456  1.0  1.0          0  \n",
       "24401  0.105281  1.0  1.0          0  \n",
       "21339  0.105347  1.0  1.0          0  \n",
       "22168  0.117177  1.0  0.0          0  \n",
       "22008  0.134075  1.0  0.0          0  \n",
       "20307  0.169413  1.0  1.0          0  \n",
       "24822  0.172360  1.0  0.0          0  \n",
       "20265  0.216171  1.0  0.0          0  \n",
       "21873  0.267640  1.0  1.0          0  \n",
       "24431  0.277297  1.0  0.0          0  \n",
       "22067  0.289749  1.0  1.0          0  \n",
       "23247  0.336215  1.0  0.0          0  \n",
       "20711  0.355045  1.0  1.0          0  \n",
       "21599  0.372441  1.0  1.0          0  \n",
       "22592  0.398492  1.0  0.0          0  \n",
       "21072  0.435858  1.0  1.0          0  \n",
       "23568  0.441281  1.0  1.0          0  "
      ]
     },
     "execution_count": 23,
     "metadata": {},
     "output_type": "execute_result"
    }
   ],
   "source": [
    "pd.set_option('max_colwidth', 400)\n",
    "\n",
    "\n",
    "\n",
    "print(\"Totales = \", len(false_negatives))\n",
    "print(\"No AG ({}) AG ({})\".format(sum(false_negatives[\"AG\"] == 0), sum(false_negatives[\"AG\"] == 1)))\n",
    "false_negatives[[\"text\", \"proba\", \"HS\", \"AG\", \"PROFANITY\"]]"
   ]
  },
  {
   "cell_type": "markdown",
   "metadata": {},
   "source": [
    "## Falsos Positivos"
   ]
  },
  {
   "cell_type": "code",
   "execution_count": 24,
   "metadata": {},
   "outputs": [
    {
     "name": "stdout",
     "output_type": "stream",
     "text": [
      "Totales =  46\n",
      "No AG (46) AG (0)\n"
     ]
    },
    {
     "data": {
      "text/html": [
       "<div>\n",
       "<style scoped>\n",
       "    .dataframe tbody tr th:only-of-type {\n",
       "        vertical-align: middle;\n",
       "    }\n",
       "\n",
       "    .dataframe tbody tr th {\n",
       "        vertical-align: top;\n",
       "    }\n",
       "\n",
       "    .dataframe thead th {\n",
       "        text-align: right;\n",
       "    }\n",
       "</style>\n",
       "<table border=\"1\" class=\"dataframe\">\n",
       "  <thead>\n",
       "    <tr style=\"text-align: right;\">\n",
       "      <th></th>\n",
       "      <th>text</th>\n",
       "      <th>proba</th>\n",
       "      <th>HS</th>\n",
       "      <th>AG</th>\n",
       "    </tr>\n",
       "    <tr>\n",
       "      <th>id</th>\n",
       "      <th></th>\n",
       "      <th></th>\n",
       "      <th></th>\n",
       "      <th></th>\n",
       "    </tr>\n",
       "  </thead>\n",
       "  <tbody>\n",
       "    <tr>\n",
       "      <th>22457</th>\n",
       "      <td>De Colombia tocará emigrar en pateras, como hacen los africanos subsaharianos.</td>\n",
       "      <td>0.999922</td>\n",
       "      <td>0.0</td>\n",
       "      <td>0.0</td>\n",
       "    </tr>\n",
       "    <tr>\n",
       "      <th>20148</th>\n",
       "      <td>Racismo es que hagas enfrijoladas con frijoles güeros y no negros.</td>\n",
       "      <td>0.999370</td>\n",
       "      <td>0.0</td>\n",
       "      <td>0.0</td>\n",
       "    </tr>\n",
       "    <tr>\n",
       "      <th>21892</th>\n",
       "      <td>@saancisco Callate puta tu eres el traidor.</td>\n",
       "      <td>0.998589</td>\n",
       "      <td>0.0</td>\n",
       "      <td>0.0</td>\n",
       "    </tr>\n",
       "    <tr>\n",
       "      <th>24180</th>\n",
       "      <td>Qué tan difícil es España cuando emigras sin papeles (por @EnriqueVasquez) https://t.co/yjZ4XV4QfU</td>\n",
       "      <td>0.997489</td>\n",
       "      <td>0.0</td>\n",
       "      <td>0.0</td>\n",
       "    </tr>\n",
       "    <tr>\n",
       "      <th>21497</th>\n",
       "      <td>Talvez quede como zorra pero te lo mereces Socia😎</td>\n",
       "      <td>0.996519</td>\n",
       "      <td>0.0</td>\n",
       "      <td>0.0</td>\n",
       "    </tr>\n",
       "    <tr>\n",
       "      <th>20952</th>\n",
       "      <td>@NicolasMaduro Callate la jeta perra que de este año no pasas</td>\n",
       "      <td>0.994375</td>\n",
       "      <td>0.0</td>\n",
       "      <td>0.0</td>\n",
       "    </tr>\n",
       "    <tr>\n",
       "      <th>22416</th>\n",
       "      <td>@Pepe_ElEzequiel Puta!? Puta con las que vos te metes Esa mujer es un ángel enviado por Jesucristo nuestro señor para darnos esa paz que buscamos sólo con verla</td>\n",
       "      <td>0.993792</td>\n",
       "      <td>0.0</td>\n",
       "      <td>0.0</td>\n",
       "    </tr>\n",
       "    <tr>\n",
       "      <th>24172</th>\n",
       "      <td>Y los que no se denuncian... hagamos números. El acoso a las mujeres es diario. No todos los hombres son acosadores, pero todas las mujeres han sido acosadas. https://t.co/jza9llhqWA</td>\n",
       "      <td>0.992105</td>\n",
       "      <td>0.0</td>\n",
       "      <td>0.0</td>\n",
       "    </tr>\n",
       "    <tr>\n",
       "      <th>20210</th>\n",
       "      <td>@adrispears @7santy Tú eres la puta Beyoncé siempre, querido ❤</td>\n",
       "      <td>0.990800</td>\n",
       "      <td>0.0</td>\n",
       "      <td>0.0</td>\n",
       "    </tr>\n",
       "    <tr>\n",
       "      <th>20376</th>\n",
       "      <td>Zorra tu abuela, imbécil.</td>\n",
       "      <td>0.989347</td>\n",
       "      <td>0.0</td>\n",
       "      <td>0.0</td>\n",
       "    </tr>\n",
       "    <tr>\n",
       "      <th>24159</th>\n",
       "      <td>@LeonDeJapon Jajajajajaja tu eres uno, diego jajajajajaja mentira perra perra perrraaaaaaaaaa de mierda jajaja ♡</td>\n",
       "      <td>0.989120</td>\n",
       "      <td>0.0</td>\n",
       "      <td>0.0</td>\n",
       "    </tr>\n",
       "    <tr>\n",
       "      <th>22014</th>\n",
       "      <td>Ni tú eres una zorra hambrienta ni yo un incorregible depredador.</td>\n",
       "      <td>0.986360</td>\n",
       "      <td>0.0</td>\n",
       "      <td>0.0</td>\n",
       "    </tr>\n",
       "    <tr>\n",
       "      <th>24209</th>\n",
       "      <td>¿Ya les he contado que si fuera rica/millonaria sería toda una PERRA?, Yisus me está enseñando humildad... Y no he aprendido mucho ldvdd.</td>\n",
       "      <td>0.984878</td>\n",
       "      <td>0.0</td>\n",
       "      <td>0.0</td>\n",
       "    </tr>\n",
       "    <tr>\n",
       "      <th>22848</th>\n",
       "      <td>Pinche bebé pendejo cállate el hocico, nomás te están cortando el pelo. Puta chillona</td>\n",
       "      <td>0.984308</td>\n",
       "      <td>0.0</td>\n",
       "      <td>0.0</td>\n",
       "    </tr>\n",
       "    <tr>\n",
       "      <th>23926</th>\n",
       "      <td>@JovesSCC @guardiacivil Estos miserables q pueden enseñar más q su puta basura nazionalista... No tienen mas nada q enseñar</td>\n",
       "      <td>0.982005</td>\n",
       "      <td>0.0</td>\n",
       "      <td>0.0</td>\n",
       "    </tr>\n",
       "    <tr>\n",
       "      <th>22938</th>\n",
       "      <td>Masculinidad frágil es mi crush francés echándose un clavado al cenote solo porque un grupo de árabes le dijo pussy</td>\n",
       "      <td>0.981761</td>\n",
       "      <td>0.0</td>\n",
       "      <td>0.0</td>\n",
       "    </tr>\n",
       "    <tr>\n",
       "      <th>21077</th>\n",
       "      <td>Para cuando pones a Maduro en l frontera? Q se sepa el esta indocumentado ya que no tiene PdN legitima. L q mostro Tibitrampa es un fraude ya q la mama dicese venezolana, pero ella nunca se nacionalizo. Cuando cumples el encargo maleante? https://t.co/Xibew53U7l</td>\n",
       "      <td>0.981425</td>\n",
       "      <td>0.0</td>\n",
       "      <td>0.0</td>\n",
       "    </tr>\n",
       "    <tr>\n",
       "      <th>24402</th>\n",
       "      <td>zorra eres tu que no te sientes hombre y no entiendes que toda mujer es bella</td>\n",
       "      <td>0.980423</td>\n",
       "      <td>0.0</td>\n",
       "      <td>0.0</td>\n",
       "    </tr>\n",
       "    <tr>\n",
       "      <th>21255</th>\n",
       "      <td>Y tú eres una maldita escoria con una repugnante inclinación por los hombres.. ¡Seres como tú me producen náuseas! https://t.co/TaHDcpZdnm</td>\n",
       "      <td>0.969514</td>\n",
       "      <td>0.0</td>\n",
       "      <td>0.0</td>\n",
       "    </tr>\n",
       "    <tr>\n",
       "      <th>22575</th>\n",
       "      <td>Qué basura de vecinos, asquerosos, mezquinos e hijos de la gran puta que tienen que inventarse que el vecino hace ruido y van y llaman a la CNP para que se presenten aquí, en mi puta puerta, hace una media hora porque les apetece molestar al vecino de arriba.</td>\n",
       "      <td>0.967385</td>\n",
       "      <td>0.0</td>\n",
       "      <td>0.0</td>\n",
       "    </tr>\n",
       "    <tr>\n",
       "      <th>22115</th>\n",
       "      <td>Una chica no es una guarra, una zorra, una puta, una buscan por su manera de vestir.</td>\n",
       "      <td>0.962322</td>\n",
       "      <td>0.0</td>\n",
       "      <td>0.0</td>\n",
       "    </tr>\n",
       "    <tr>\n",
       "      <th>21155</th>\n",
       "      <td>@diegocruzva @lila_tresmil @Relatofeminista Como coño se va a resistir la pobre chica con 3 tios violabdola DESGRACIDO !!!!!!!!!!!!!!!!!!!!!!!!!! No eres mejor que ellos para nada, verguenza te debería dar! Verguenza!!!!!!!¡!!!!!!!!</td>\n",
       "      <td>0.949153</td>\n",
       "      <td>0.0</td>\n",
       "      <td>0.0</td>\n",
       "    </tr>\n",
       "    <tr>\n",
       "      <th>22826</th>\n",
       "      <td>Me tienen arta con decirme puta, que no disfruten el sexo no es un drama mío ridículas</td>\n",
       "      <td>0.948319</td>\n",
       "      <td>0.0</td>\n",
       "      <td>0.0</td>\n",
       "    </tr>\n",
       "    <tr>\n",
       "      <th>23021</th>\n",
       "      <td>Creo que los colegios que impartan el Islam debe de ser el mismo numero de co!egiosque en los países árabes  imparten el cristianismo.Que no somos más tontos porque no ensayamos https://t.co/u9PV1noorb</td>\n",
       "      <td>0.948277</td>\n",
       "      <td>0.0</td>\n",
       "      <td>0.0</td>\n",
       "    </tr>\n",
       "    <tr>\n",
       "      <th>24632</th>\n",
       "      <td>¡¡¡Ahora si!!! ¡¡Hoy empieza la lucha!! Esto es cosa de hombres!!</td>\n",
       "      <td>0.945646</td>\n",
       "      <td>0.0</td>\n",
       "      <td>0.0</td>\n",
       "    </tr>\n",
       "    <tr>\n",
       "      <th>20935</th>\n",
       "      <td>@Ro_Valdess LA PUTA CALLATE QUE QUIERO TENER EL PELO NARANJAAA Y ME VA A QUEDAR HORRIBLE PORQUE SOY NEGRA</td>\n",
       "      <td>0.939307</td>\n",
       "      <td>0.0</td>\n",
       "      <td>0.0</td>\n",
       "    </tr>\n",
       "    <tr>\n",
       "      <th>23394</th>\n",
       "      <td>Es súper de pueblo decirle güeros a la gente de tez blanca aunque no sean rubios. Los güeros son así ➡️👱🏻‍♂️👱🏻‍♀️. Estos➡️ 👩🏻👦🏻 no son “güeros”, no mamen❌🙅🏽‍♂️</td>\n",
       "      <td>0.935372</td>\n",
       "      <td>0.0</td>\n",
       "      <td>0.0</td>\n",
       "    </tr>\n",
       "    <tr>\n",
       "      <th>23003</th>\n",
       "      <td>Pero ningún indocumentado. https://t.co/em2IxNor5i</td>\n",
       "      <td>0.922889</td>\n",
       "      <td>0.0</td>\n",
       "      <td>0.0</td>\n",
       "    </tr>\n",
       "    <tr>\n",
       "      <th>21100</th>\n",
       "      <td>@Albert_Rivera @pablocasado_ parece que vuestro postureo en Ceuta parece que no ha colado  https://t.co/2hkW22TXNd</td>\n",
       "      <td>0.919623</td>\n",
       "      <td>0.0</td>\n",
       "      <td>0.0</td>\n",
       "    </tr>\n",
       "    <tr>\n",
       "      <th>21221</th>\n",
       "      <td>Güero nalgas prietas #BryanMouqueTrendy #CD9 #Coders #KCAMexico</td>\n",
       "      <td>0.918053</td>\n",
       "      <td>0.0</td>\n",
       "      <td>0.0</td>\n",
       "    </tr>\n",
       "    <tr>\n",
       "      <th>21238</th>\n",
       "      <td>#PorSiempre en mi corazón @violeta_rumbo Baja del cielo a abrazarme güera DEP https://t.co/NigMtpEXPy</td>\n",
       "      <td>0.916888</td>\n",
       "      <td>0.0</td>\n",
       "      <td>0.0</td>\n",
       "    </tr>\n",
       "    <tr>\n",
       "      <th>24520</th>\n",
       "      <td>el novio de mi hermanastra dijo que mi perra es muy tarada y después me dijo autista a mi y a mi señoro callate tincho que te voy a empalar 1er aviso</td>\n",
       "      <td>0.893546</td>\n",
       "      <td>0.0</td>\n",
       "      <td>0.0</td>\n",
       "    </tr>\n",
       "    <tr>\n",
       "      <th>23086</th>\n",
       "      <td>@Brigitte_Grey Perra /\\ te enseñaré lo que es el nuevo orden mundial</td>\n",
       "      <td>0.880770</td>\n",
       "      <td>0.0</td>\n",
       "      <td>0.0</td>\n",
       "    </tr>\n",
       "    <tr>\n",
       "      <th>23565</th>\n",
       "      <td>La solución no es darle papeles a todos. Es exigir a nuestro gobierno q no fabrique y venda armas a los gobiernos subsaharianos para que estos no masacren y acorralen a su población haciendo q quieran venir aquí x lo civil o criminal. Desesperación y supervivencia pura.</td>\n",
       "      <td>0.864834</td>\n",
       "      <td>0.0</td>\n",
       "      <td>0.0</td>\n",
       "    </tr>\n",
       "    <tr>\n",
       "      <th>23532</th>\n",
       "      <td>Mi primito insulta con 'Puto, Maricon, Puta' PENDEJO DE MIERDA CALLATE</td>\n",
       "      <td>0.860828</td>\n",
       "      <td>0.0</td>\n",
       "      <td>0.0</td>\n",
       "    </tr>\n",
       "    <tr>\n",
       "      <th>24115</th>\n",
       "      <td>Chica, pero por qué  borras las fotos en Cholon, en yates? Si al final la frijolera  que todos los fines de semana revuelven y hasta estrujan  es la tuya y nadie debe opinar en eso... Tranquila deje sus fotos.</td>\n",
       "      <td>0.854712</td>\n",
       "      <td>0.0</td>\n",
       "      <td>0.0</td>\n",
       "    </tr>\n",
       "    <tr>\n",
       "      <th>22517</th>\n",
       "      <td>-¿eres poblana? -soy colombiana -¿y por qué eres güera? en Colombia TODAS son morenas, fui a Colombia 3 veces. -ok, mentí 🙄 solo me pinto el cabello</td>\n",
       "      <td>0.847258</td>\n",
       "      <td>0.0</td>\n",
       "      <td>0.0</td>\n",
       "    </tr>\n",
       "    <tr>\n",
       "      <th>21769</th>\n",
       "      <td>@Yolandamar3 Los musulmanes no tienen ni puta idea de lo que es una mujer. Para ellos las mujeres son esclavas.</td>\n",
       "      <td>0.838646</td>\n",
       "      <td>0.0</td>\n",
       "      <td>0.0</td>\n",
       "    </tr>\n",
       "    <tr>\n",
       "      <th>20612</th>\n",
       "      <td>Embajada de Venezuela en Emiratos Arabes Unidos condena el atentado terrorista contra el Presidente @NicolasMaduro. El mundo arabe condena este vil acto Nuestro pais, nuestro pueblo, no daran cabida a tan miserable accion @nicmaduroguerra @CancilleriaVE @jaarreaza @catiacandanga https://t.co/5G6...</td>\n",
       "      <td>0.797421</td>\n",
       "      <td>0.0</td>\n",
       "      <td>0.0</td>\n",
       "    </tr>\n",
       "    <tr>\n",
       "      <th>21660</th>\n",
       "      <td>tu te mereces mas que un escarnio publico hija de perra https://t.co/2mVpT5YoPt</td>\n",
       "      <td>0.761177</td>\n",
       "      <td>0.0</td>\n",
       "      <td>0.0</td>\n",
       "    </tr>\n",
       "    <tr>\n",
       "      <th>20940</th>\n",
       "      <td>CUANDO ESTÁS DE NOVIA ES NORMAL QUE UNA PERSONA SE PONGA TANNNNN HIJA DE PUTA??????</td>\n",
       "      <td>0.723759</td>\n",
       "      <td>0.0</td>\n",
       "      <td>0.0</td>\n",
       "    </tr>\n",
       "    <tr>\n",
       "      <th>22846</th>\n",
       "      <td>Si a mi se me ocurre enseñar por twitter una conversación de whatsap con mi madre me manda a dormir a la caseta de mi perra.</td>\n",
       "      <td>0.723222</td>\n",
       "      <td>0.0</td>\n",
       "      <td>0.0</td>\n",
       "    </tr>\n",
       "    <tr>\n",
       "      <th>21938</th>\n",
       "      <td>Me agregó un bicho random de Libya para hablar. El bicho me preguntó si me gusta viajar y me cuenta que él ha viajado por casi todos los países árabes, yo le digo que para allá no voy porq matan gays.</td>\n",
       "      <td>0.709986</td>\n",
       "      <td>0.0</td>\n",
       "      <td>0.0</td>\n",
       "    </tr>\n",
       "    <tr>\n",
       "      <th>24651</th>\n",
       "      <td>@elrod_g @jonawoodz35 Jajajajajajajajajajajaajaj mike cb yo te amo cc tu eres una puta comida cb sabe que nos debe una comidita 😂😂😂😂😂😂😂😂😂😂😂</td>\n",
       "      <td>0.635162</td>\n",
       "      <td>0.0</td>\n",
       "      <td>0.0</td>\n",
       "    </tr>\n",
       "    <tr>\n",
       "      <th>24019</th>\n",
       "      <td>Acá nos huevean si nos encapuchamos pero en los paises árabes estariamos todas obligadas a encapucharnos 🤷‍♀️</td>\n",
       "      <td>0.598337</td>\n",
       "      <td>0.0</td>\n",
       "      <td>0.0</td>\n",
       "    </tr>\n",
       "    <tr>\n",
       "      <th>20451</th>\n",
       "      <td>@Pankedios @Barbijaputa La historia popular se la inventa el pueblo. Ella decide inventarse su parte, aprovechando para provocar a gente como tú. Yo soy un tio y me molesta ver como os poneis a corregir ciertas gilipolleces mientras q luego os escandaliza</td>\n",
       "      <td>0.586976</td>\n",
       "      <td>0.0</td>\n",
       "      <td>0.0</td>\n",
       "    </tr>\n",
       "  </tbody>\n",
       "</table>\n",
       "</div>"
      ],
      "text/plain": [
       "                                                                                                                                                                                                                                                                                                              text  \\\n",
       "id                                                                                                                                                                                                                                                                                                                   \n",
       "22457                                                                                                                                                                                                                               De Colombia tocará emigrar en pateras, como hacen los africanos subsaharianos.   \n",
       "20148                                                                                                                                                                                                                                           Racismo es que hagas enfrijoladas con frijoles güeros y no negros.   \n",
       "21892                                                                                                                                                                                                                                                                  @saancisco Callate puta tu eres el traidor.   \n",
       "24180                                                                                                                                                                                                           Qué tan difícil es España cuando emigras sin papeles (por @EnriqueVasquez) https://t.co/yjZ4XV4QfU   \n",
       "21497                                                                                                                                                                                                                                                            Talvez quede como zorra pero te lo mereces Socia😎   \n",
       "20952                                                                                                                                                                                                                                                @NicolasMaduro Callate la jeta perra que de este año no pasas   \n",
       "22416                                                                                                                                             @Pepe_ElEzequiel Puta!? Puta con las que vos te metes Esa mujer es un ángel enviado por Jesucristo nuestro señor para darnos esa paz que buscamos sólo con verla   \n",
       "24172                                                                                                                       Y los que no se denuncian... hagamos números. El acoso a las mujeres es diario. No todos los hombres son acosadores, pero todas las mujeres han sido acosadas. https://t.co/jza9llhqWA   \n",
       "20210                                                                                                                                                                                                                                               @adrispears @7santy Tú eres la puta Beyoncé siempre, querido ❤   \n",
       "20376                                                                                                                                                                                                                                                                                    Zorra tu abuela, imbécil.   \n",
       "24159                                                                                                                                                                                             @LeonDeJapon Jajajajajaja tu eres uno, diego jajajajajaja mentira perra perra perrraaaaaaaaaa de mierda jajaja ♡   \n",
       "22014                                                                                                                                                                                                                                            Ni tú eres una zorra hambrienta ni yo un incorregible depredador.   \n",
       "24209                                                                                                                                                                    ¿Ya les he contado que si fuera rica/millonaria sería toda una PERRA?, Yisus me está enseñando humildad... Y no he aprendido mucho ldvdd.   \n",
       "22848                                                                                                                                                                                                                        Pinche bebé pendejo cállate el hocico, nomás te están cortando el pelo. Puta chillona   \n",
       "23926                                                                                                                                                                                  @JovesSCC @guardiacivil Estos miserables q pueden enseñar más q su puta basura nazionalista... No tienen mas nada q enseñar   \n",
       "22938                                                                                                                                                                                          Masculinidad frágil es mi crush francés echándose un clavado al cenote solo porque un grupo de árabes le dijo pussy   \n",
       "21077                                       Para cuando pones a Maduro en l frontera? Q se sepa el esta indocumentado ya que no tiene PdN legitima. L q mostro Tibitrampa es un fraude ya q la mama dicese venezolana, pero ella nunca se nacionalizo. Cuando cumples el encargo maleante? https://t.co/Xibew53U7l   \n",
       "24402                                                                                                                                                                                                                                zorra eres tu que no te sientes hombre y no entiendes que toda mujer es bella   \n",
       "21255                                                                                                                                                                   Y tú eres una maldita escoria con una repugnante inclinación por los hombres.. ¡Seres como tú me producen náuseas! https://t.co/TaHDcpZdnm   \n",
       "22575                                          Qué basura de vecinos, asquerosos, mezquinos e hijos de la gran puta que tienen que inventarse que el vecino hace ruido y van y llaman a la CNP para que se presenten aquí, en mi puta puerta, hace una media hora porque les apetece molestar al vecino de arriba.   \n",
       "22115                                                                                                                                                                                                                         Una chica no es una guarra, una zorra, una puta, una buscan por su manera de vestir.   \n",
       "21155                                                                     @diegocruzva @lila_tresmil @Relatofeminista Como coño se va a resistir la pobre chica con 3 tios violabdola DESGRACIDO !!!!!!!!!!!!!!!!!!!!!!!!!! No eres mejor que ellos para nada, verguenza te debería dar! Verguenza!!!!!!!¡!!!!!!!!   \n",
       "22826                                                                                                                                                                                                                       Me tienen arta con decirme puta, que no disfruten el sexo no es un drama mío ridículas   \n",
       "23021                                                                                                    Creo que los colegios que impartan el Islam debe de ser el mismo numero de co!egiosque en los países árabes  imparten el cristianismo.Que no somos más tontos porque no ensayamos https://t.co/u9PV1noorb   \n",
       "24632                                                                                                                                                                                                                                            ¡¡¡Ahora si!!! ¡¡Hoy empieza la lucha!! Esto es cosa de hombres!!   \n",
       "20935                                                                                                                                                                                                    @Ro_Valdess LA PUTA CALLATE QUE QUIERO TENER EL PELO NARANJAAA Y ME VA A QUEDAR HORRIBLE PORQUE SOY NEGRA   \n",
       "23394                                                                                                                                              Es súper de pueblo decirle güeros a la gente de tez blanca aunque no sean rubios. Los güeros son así ➡️👱🏻‍♂️👱🏻‍♀️. Estos➡️ 👩🏻👦🏻 no son “güeros”, no mamen❌🙅🏽‍♂️   \n",
       "23003                                                                                                                                                                                                                                                           Pero ningún indocumentado. https://t.co/em2IxNor5i   \n",
       "21100                                                                                                                                                                                           @Albert_Rivera @pablocasado_ parece que vuestro postureo en Ceuta parece que no ha colado  https://t.co/2hkW22TXNd   \n",
       "21221                                                                                                                                                                                                                                              Güero nalgas prietas #BryanMouqueTrendy #CD9 #Coders #KCAMexico   \n",
       "21238                                                                                                                                                                                                        #PorSiempre en mi corazón @violeta_rumbo Baja del cielo a abrazarme güera DEP https://t.co/NigMtpEXPy   \n",
       "24520                                                                                                                                                        el novio de mi hermanastra dijo que mi perra es muy tarada y después me dijo autista a mi y a mi señoro callate tincho que te voy a empalar 1er aviso   \n",
       "23086                                                                                                                                                                                                                                         @Brigitte_Grey Perra /\\ te enseñaré lo que es el nuevo orden mundial   \n",
       "23565                               La solución no es darle papeles a todos. Es exigir a nuestro gobierno q no fabrique y venda armas a los gobiernos subsaharianos para que estos no masacren y acorralen a su población haciendo q quieran venir aquí x lo civil o criminal. Desesperación y supervivencia pura.   \n",
       "23532                                                                                                                                                                                                                                       Mi primito insulta con 'Puto, Maricon, Puta' PENDEJO DE MIERDA CALLATE   \n",
       "24115                                                                                            Chica, pero por qué  borras las fotos en Cholon, en yates? Si al final la frijolera  que todos los fines de semana revuelven y hasta estrujan  es la tuya y nadie debe opinar en eso... Tranquila deje sus fotos.   \n",
       "22517                                                                                                                                                         -¿eres poblana? -soy colombiana -¿y por qué eres güera? en Colombia TODAS son morenas, fui a Colombia 3 veces. -ok, mentí 🙄 solo me pinto el cabello   \n",
       "21769                                                                                                                                                                                              @Yolandamar3 Los musulmanes no tienen ni puta idea de lo que es una mujer. Para ellos las mujeres son esclavas.   \n",
       "20612  Embajada de Venezuela en Emiratos Arabes Unidos condena el atentado terrorista contra el Presidente @NicolasMaduro. El mundo arabe condena este vil acto Nuestro pais, nuestro pueblo, no daran cabida a tan miserable accion @nicmaduroguerra @CancilleriaVE @jaarreaza @catiacandanga https://t.co/5G6...   \n",
       "21660                                                                                                                                                                                                                              tu te mereces mas que un escarnio publico hija de perra https://t.co/2mVpT5YoPt   \n",
       "20940                                                                                                                                                                                                                          CUANDO ESTÁS DE NOVIA ES NORMAL QUE UNA PERSONA SE PONGA TANNNNN HIJA DE PUTA??????   \n",
       "22846                                                                                                                                                                                 Si a mi se me ocurre enseñar por twitter una conversación de whatsap con mi madre me manda a dormir a la caseta de mi perra.   \n",
       "21938                                                                                                     Me agregó un bicho random de Libya para hablar. El bicho me preguntó si me gusta viajar y me cuenta que él ha viajado por casi todos los países árabes, yo le digo que para allá no voy porq matan gays.   \n",
       "24651                                                                                                                                                                  @elrod_g @jonawoodz35 Jajajajajajajajajajajaajaj mike cb yo te amo cc tu eres una puta comida cb sabe que nos debe una comidita 😂😂😂😂😂😂😂😂😂😂😂   \n",
       "24019                                                                                                                                                                                                Acá nos huevean si nos encapuchamos pero en los paises árabes estariamos todas obligadas a encapucharnos 🤷‍♀️   \n",
       "20451                                              @Pankedios @Barbijaputa La historia popular se la inventa el pueblo. Ella decide inventarse su parte, aprovechando para provocar a gente como tú. Yo soy un tio y me molesta ver como os poneis a corregir ciertas gilipolleces mientras q luego os escandaliza   \n",
       "\n",
       "          proba   HS   AG  \n",
       "id                         \n",
       "22457  0.999922  0.0  0.0  \n",
       "20148  0.999370  0.0  0.0  \n",
       "21892  0.998589  0.0  0.0  \n",
       "24180  0.997489  0.0  0.0  \n",
       "21497  0.996519  0.0  0.0  \n",
       "20952  0.994375  0.0  0.0  \n",
       "22416  0.993792  0.0  0.0  \n",
       "24172  0.992105  0.0  0.0  \n",
       "20210  0.990800  0.0  0.0  \n",
       "20376  0.989347  0.0  0.0  \n",
       "24159  0.989120  0.0  0.0  \n",
       "22014  0.986360  0.0  0.0  \n",
       "24209  0.984878  0.0  0.0  \n",
       "22848  0.984308  0.0  0.0  \n",
       "23926  0.982005  0.0  0.0  \n",
       "22938  0.981761  0.0  0.0  \n",
       "21077  0.981425  0.0  0.0  \n",
       "24402  0.980423  0.0  0.0  \n",
       "21255  0.969514  0.0  0.0  \n",
       "22575  0.967385  0.0  0.0  \n",
       "22115  0.962322  0.0  0.0  \n",
       "21155  0.949153  0.0  0.0  \n",
       "22826  0.948319  0.0  0.0  \n",
       "23021  0.948277  0.0  0.0  \n",
       "24632  0.945646  0.0  0.0  \n",
       "20935  0.939307  0.0  0.0  \n",
       "23394  0.935372  0.0  0.0  \n",
       "23003  0.922889  0.0  0.0  \n",
       "21100  0.919623  0.0  0.0  \n",
       "21221  0.918053  0.0  0.0  \n",
       "21238  0.916888  0.0  0.0  \n",
       "24520  0.893546  0.0  0.0  \n",
       "23086  0.880770  0.0  0.0  \n",
       "23565  0.864834  0.0  0.0  \n",
       "23532  0.860828  0.0  0.0  \n",
       "24115  0.854712  0.0  0.0  \n",
       "22517  0.847258  0.0  0.0  \n",
       "21769  0.838646  0.0  0.0  \n",
       "20612  0.797421  0.0  0.0  \n",
       "21660  0.761177  0.0  0.0  \n",
       "20940  0.723759  0.0  0.0  \n",
       "22846  0.723222  0.0  0.0  \n",
       "21938  0.709986  0.0  0.0  \n",
       "24651  0.635162  0.0  0.0  \n",
       "24019  0.598337  0.0  0.0  \n",
       "20451  0.586976  0.0  0.0  "
      ]
     },
     "execution_count": 24,
     "metadata": {},
     "output_type": "execute_result"
    }
   ],
   "source": [
    "pd.set_option('max_colwidth', 300)\n",
    "\n",
    "\n",
    "\n",
    "print(\"Totales = \", len(false_positives))\n",
    "print(\"No AG ({}) AG ({})\".format(sum(false_positives[\"AG\"] == 0), sum(false_positives[\"AG\"] == 1)))\n",
    "false_positives[[\"text\", \"proba\", \"HS\", \"AG\"]]"
   ]
  }
 ],
 "metadata": {
  "kernelspec": {
   "display_name": "Python 3",
   "language": "python",
   "name": "python3"
  },
  "language_info": {
   "codemirror_mode": {
    "name": "ipython",
    "version": 3
   },
   "file_extension": ".py",
   "mimetype": "text/x-python",
   "name": "python",
   "nbconvert_exporter": "python",
   "pygments_lexer": "ipython3",
   "version": "3.6.5"
  }
 },
 "nbformat": 4,
 "nbformat_minor": 4
}
