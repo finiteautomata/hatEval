{
 "cells": [
  {
   "cell_type": "markdown",
   "metadata": {},
   "source": [
    "# LSTM con embeddings UBA\n",
    "\n",
    "Modelo básico con los embeddings de fasttext"
   ]
  },
  {
   "cell_type": "code",
   "execution_count": null,
   "metadata": {},
   "outputs": [],
   "source": [
    "import pandas as pd\n",
    "import csv\n",
    "\n",
    "df_dev = pd.read_table(\"../../../data/es/dev_es.tsv\", index_col=\"id\", quoting=csv.QUOTE_NONE)\n",
    "df_train = pd.read_table(\"../../../data/es/train_es.tsv\", index_col=\"id\", quoting=csv.QUOTE_NONE)\n",
    "\n",
    "text_train, y_train = df_train[\"text\"], df_train[\"HS\"]\n",
    "text_dev, y_dev = df_dev[\"text\"], df_dev[\"HS\"]\n",
    "\n",
    "print(\"Instancias de entrenamiento: {}\".format(len(df_train)))\n",
    "print(\"Instancias de desarrollo: {}\".format(len(df_dev)))\n"
   ]
  },
  {
   "cell_type": "markdown",
   "metadata": {},
   "source": [
    "Tengo que hacer dos cosas:\n",
    "\n",
    "- Primero, convertir los tweets a secuencias de texto\n",
    "- Luego, paddear las secuencias a cierta longitud (Keras necesita esto para poder paralelizar cálculo)"
   ]
  },
  {
   "cell_type": "code",
   "execution_count": 2,
   "metadata": {},
   "outputs": [
    {
     "name": "stderr",
     "output_type": "stream",
     "text": [
      "Using TensorFlow backend.\n"
     ]
    }
   ],
   "source": [
    "from keras.preprocessing.text import Tokenizer\n",
    "from keras.preprocessing.sequence import pad_sequences\n",
    "\n",
    "num_words = 200000\n",
    "\n",
    "tokenizer = Tokenizer(num_words=num_words)\n",
    "tokenizer.fit_on_texts(text_train)\n",
    "\n",
    "X_train = tokenizer.texts_to_sequences(text_train)\n",
    "X_dev = tokenizer.texts_to_sequences(text_dev)\n",
    "\n",
    "max_length = 30\n",
    "\n",
    "X_train = pad_sequences(X_train, max_length)\n",
    "X_dev = pad_sequences(X_dev, max_length)"
   ]
  },
  {
   "cell_type": "markdown",
   "metadata": {},
   "source": [
    "Carguemos embeddings"
   ]
  },
  {
   "cell_type": "code",
   "execution_count": 3,
   "metadata": {},
   "outputs": [
    {
     "name": "stdout",
     "output_type": "stream",
     "text": [
      "Available embeddings:  ['/home/jmperez/WordVectors/UBA_w5_200.vec', '/home/jmperez/WordVectors/wiki.es.vec', '/home/jmperez/WordVectors/UBA_w5_300.vec']\n"
     ]
    }
   ],
   "source": [
    "import os\n",
    "from glob import glob\n",
    "\n",
    "path_to_embeddings = os.path.expanduser(\"/home/jmperez/WordVectors/\")\n",
    "\n",
    "print(\"Available embeddings: \", glob(os.path.join(path_to_embeddings, \"*.vec\")))"
   ]
  },
  {
   "cell_type": "markdown",
   "metadata": {},
   "source": [
    "# Twitter Embeddings"
   ]
  },
  {
   "cell_type": "code",
   "execution_count": 4,
   "metadata": {},
   "outputs": [
    {
     "name": "stdout",
     "output_type": "stream",
     "text": [
      "********************************************************************************\n",
      "********************************************************************************\n",
      "********************************************************************************\n",
      "\n",
      "Problema con la sig línea:\n",
      "['.', '.', '-0.22232', '0.0052569', '0.47066', '0.13836', '0.15991', '0.19504', '0.00067885', '0.020299']\n",
      "********************************************************************************\n",
      "********************************************************************************\n",
      "********************************************************************************\n",
      "\n",
      "Problema con la sig línea:\n",
      "['.', '...', '-0.11666', '-0.083768', '0.028919', '0.29973', '0.21017', '0.27808', '0.063251', '0.090223']\n",
      "********************************************************************************\n",
      "********************************************************************************\n",
      "********************************************************************************\n",
      "\n",
      "Problema con la sig línea:\n",
      "['.', '..', '-0.43752', '-0.0016885', '0.1533', '0.28071', '0.18051', '0.28698', '0.11806', '0.044891']\n"
     ]
    }
   ],
   "source": [
    "import numpy as np\n",
    "\n",
    "word_to_vec = {}\n",
    "\n",
    "with open(os.path.join(path_to_embeddings, \"UBA_w5_300.vec\")) as f:\n",
    "    for line in f:\n",
    "        values = line.split()\n",
    "        word = values[0]\n",
    "        try:\n",
    "            vec = np.asarray(values[1:], dtype=\"float32\")\n",
    "        except:\n",
    "            print((\"*\" * 80  + \"\\n\")*3)\n",
    "            print(\"Problema con la sig línea:\")\n",
    "            print(values[:10])\n",
    "            word = values[1]\n",
    "            vec = np.asarray(values[2:], dtype=\"float32\")\n",
    "        word_to_vec[word] = vec\n",
    "        \n",
    "embedding_size = len(word_to_vec[\"hola\"])"
   ]
  },
  {
   "cell_type": "code",
   "execution_count": 5,
   "metadata": {},
   "outputs": [],
   "source": [
    "# create a weight matrix for words in training docs\n",
    "embedding_matrix = np.zeros((num_words, embedding_size))\n",
    "for word, i in tokenizer.word_index.items():\n",
    "    embedding_vector = word_to_vec.get(word)\n",
    "    if embedding_vector is not None:\n",
    "        embedding_matrix[i] = embedding_vector"
   ]
  },
  {
   "cell_type": "code",
   "execution_count": 6,
   "metadata": {},
   "outputs": [
    {
     "data": {
      "text/plain": [
       "(200000, 300)"
      ]
     },
     "execution_count": 6,
     "metadata": {},
     "output_type": "execute_result"
    }
   ],
   "source": [
    "embedding_matrix.shape"
   ]
  },
  {
   "cell_type": "code",
   "execution_count": 10,
   "metadata": {},
   "outputs": [
    {
     "name": "stdout",
     "output_type": "stream",
     "text": [
      "_________________________________________________________________\n",
      "Layer (type)                 Output Shape              Param #   \n",
      "=================================================================\n",
      "embedding_4 (Embedding)      (None, 30, 300)           60000000  \n",
      "_________________________________________________________________\n",
      "lstm_4 (LSTM)                (None, 100)               160400    \n",
      "_________________________________________________________________\n",
      "dropout_7 (Dropout)          (None, 100)               0         \n",
      "_________________________________________________________________\n",
      "dense_7 (Dense)              (None, 128)               12928     \n",
      "_________________________________________________________________\n",
      "dropout_8 (Dropout)          (None, 128)               0         \n",
      "_________________________________________________________________\n",
      "dense_8 (Dense)              (None, 1)                 129       \n",
      "=================================================================\n",
      "Total params: 60,173,457\n",
      "Trainable params: 173,457\n",
      "Non-trainable params: 60,000,000\n",
      "_________________________________________________________________\n",
      "None\n",
      "Train on 4500 samples, validate on 500 samples\n",
      "Epoch 1/10\n",
      "4500/4500 [==============================] - 8s 2ms/step - loss: 0.6319 - acc: 0.6542 - val_loss: 0.5675 - val_acc: 0.7020\n",
      "Epoch 2/10\n",
      "4500/4500 [==============================] - 7s 2ms/step - loss: 0.5478 - acc: 0.7389 - val_loss: 0.5408 - val_acc: 0.7380\n",
      "Epoch 3/10\n",
      "4500/4500 [==============================] - 7s 1ms/step - loss: 0.5140 - acc: 0.7582 - val_loss: 0.5327 - val_acc: 0.7500\n",
      "Epoch 4/10\n",
      "4500/4500 [==============================] - 7s 1ms/step - loss: 0.4969 - acc: 0.7678 - val_loss: 0.5335 - val_acc: 0.7380\n",
      "Epoch 5/10\n",
      "4500/4500 [==============================] - 7s 2ms/step - loss: 0.4764 - acc: 0.7856 - val_loss: 0.5139 - val_acc: 0.7580\n",
      "Epoch 6/10\n",
      "4500/4500 [==============================] - 7s 2ms/step - loss: 0.4632 - acc: 0.7962 - val_loss: 0.5099 - val_acc: 0.7640\n",
      "Epoch 7/10\n",
      "4500/4500 [==============================] - 7s 2ms/step - loss: 0.4497 - acc: 0.7982 - val_loss: 0.5139 - val_acc: 0.7560\n",
      "Epoch 8/10\n",
      "4500/4500 [==============================] - 7s 2ms/step - loss: 0.4406 - acc: 0.8080 - val_loss: 0.5093 - val_acc: 0.7740\n",
      "Epoch 9/10\n",
      "4500/4500 [==============================] - 7s 1ms/step - loss: 0.4280 - acc: 0.8053 - val_loss: 0.5140 - val_acc: 0.7680\n",
      "Epoch 10/10\n",
      "4500/4500 [==============================] - 7s 2ms/step - loss: 0.4201 - acc: 0.8131 - val_loss: 0.5162 - val_acc: 0.7720\n"
     ]
    },
    {
     "data": {
      "text/plain": [
       "<keras.callbacks.History at 0x7f482418f320>"
      ]
     },
     "execution_count": 10,
     "metadata": {},
     "output_type": "execute_result"
    }
   ],
   "source": [
    "from keras.models import Sequential\n",
    "from keras.layers import Dense\n",
    "from keras.layers import LSTM, Dropout\n",
    "from keras.optimizers import Adam\n",
    "from keras.layers.embeddings import Embedding\n",
    "from keras.preprocessing import sequence\n",
    "\n",
    "\n",
    "model = Sequential()\n",
    "model.add(Embedding(num_words, embedding_size, input_length=max_length, \n",
    "                    weights=[embedding_matrix], trainable=False))\n",
    "model.add(LSTM(100))\n",
    "model.add(Dropout(0.5))\n",
    "model.add(Dense(128, activation='relu'))\n",
    "model.add(Dropout(0.5))\n",
    "model.add(Dense(1, activation='sigmoid'))\n",
    "optimizer_args = {\n",
    "    \"lr\": 0.001,\n",
    "    \"decay\": 0.01\n",
    "}\n",
    "model.compile(loss='binary_crossentropy', \n",
    "              optimizer=Adam(**optimizer_args), \n",
    "              metrics=['accuracy'])\n",
    "print(model.summary())\n",
    "\n",
    "model.fit(X_train, y_train, validation_data=(X_dev, y_dev), epochs=10, batch_size=32)\n"
   ]
  },
  {
   "cell_type": "code",
   "execution_count": 11,
   "metadata": {},
   "outputs": [
    {
     "name": "stdout",
     "output_type": "stream",
     "text": [
      "500/500 [==============================] - 0s 638us/step\n",
      "Loss        : 0.5162\n",
      "Accuracy    : 0.7720\n",
      "Precision   : 0.7812\n",
      "Recall      : 0.6757\n",
      "F1          : 0.7246\n"
     ]
    }
   ],
   "source": [
    "from hate.utils import print_evaluation\n",
    "\n",
    "print_evaluation(model, X_dev, y_dev.values)"
   ]
  },
  {
   "cell_type": "markdown",
   "metadata": {},
   "source": [
    "## Bidirectional LSTM"
   ]
  },
  {
   "cell_type": "code",
   "execution_count": 12,
   "metadata": {},
   "outputs": [
    {
     "name": "stdout",
     "output_type": "stream",
     "text": [
      "_________________________________________________________________\n",
      "Layer (type)                 Output Shape              Param #   \n",
      "=================================================================\n",
      "embedding_5 (Embedding)      (None, 30, 300)           60000000  \n",
      "_________________________________________________________________\n",
      "bidirectional_1 (Bidirection (None, 200)               320800    \n",
      "_________________________________________________________________\n",
      "dropout_9 (Dropout)          (None, 200)               0         \n",
      "_________________________________________________________________\n",
      "dense_9 (Dense)              (None, 128)               25728     \n",
      "_________________________________________________________________\n",
      "dropout_10 (Dropout)         (None, 128)               0         \n",
      "_________________________________________________________________\n",
      "dense_10 (Dense)             (None, 1)                 129       \n",
      "=================================================================\n",
      "Total params: 60,346,657\n",
      "Trainable params: 346,657\n",
      "Non-trainable params: 60,000,000\n",
      "_________________________________________________________________\n",
      "None\n",
      "Train on 4500 samples, validate on 500 samples\n",
      "Epoch 1/10\n",
      "4500/4500 [==============================] - 13s 3ms/step - loss: 0.6445 - acc: 0.6431 - val_loss: 0.6202 - val_acc: 0.6720\n",
      "Epoch 2/10\n",
      "4500/4500 [==============================] - 12s 3ms/step - loss: 0.5521 - acc: 0.7271 - val_loss: 0.5368 - val_acc: 0.7200\n",
      "Epoch 3/10\n",
      "4500/4500 [==============================] - 12s 3ms/step - loss: 0.5075 - acc: 0.7622 - val_loss: 0.5141 - val_acc: 0.7520\n",
      "Epoch 4/10\n",
      "4500/4500 [==============================] - 12s 3ms/step - loss: 0.4845 - acc: 0.7796 - val_loss: 0.5059 - val_acc: 0.7660\n",
      "Epoch 5/10\n",
      "4500/4500 [==============================] - 12s 3ms/step - loss: 0.4688 - acc: 0.7893 - val_loss: 0.4945 - val_acc: 0.7760\n",
      "Epoch 6/10\n",
      "4500/4500 [==============================] - 12s 3ms/step - loss: 0.4462 - acc: 0.8009 - val_loss: 0.4891 - val_acc: 0.7880\n",
      "Epoch 7/10\n",
      "4500/4500 [==============================] - 12s 3ms/step - loss: 0.4328 - acc: 0.8049 - val_loss: 0.4767 - val_acc: 0.7880\n",
      "Epoch 8/10\n",
      "4500/4500 [==============================] - 12s 3ms/step - loss: 0.4219 - acc: 0.8122 - val_loss: 0.4813 - val_acc: 0.7940\n",
      "Epoch 9/10\n",
      "4500/4500 [==============================] - 12s 3ms/step - loss: 0.4094 - acc: 0.8213 - val_loss: 0.4740 - val_acc: 0.8060\n",
      "Epoch 10/10\n",
      "4500/4500 [==============================] - 12s 3ms/step - loss: 0.3986 - acc: 0.8256 - val_loss: 0.4678 - val_acc: 0.8100\n"
     ]
    },
    {
     "data": {
      "text/plain": [
       "<keras.callbacks.History at 0x7f49801aac50>"
      ]
     },
     "execution_count": 12,
     "metadata": {},
     "output_type": "execute_result"
    }
   ],
   "source": [
    "from keras.layers import Bidirectional\n",
    "from keras.layers.embeddings import Embedding\n",
    "from keras.preprocessing import sequence\n",
    "\n",
    "embedding_vector_length = 32\n",
    "\n",
    "model = Sequential()\n",
    "model.add(Embedding(num_words, embedding_size, input_length=max_length, \n",
    "                    weights=[embedding_matrix], trainable=False))\n",
    "model.add(Bidirectional(LSTM(100)))\n",
    "model.add(Dropout(0.5))\n",
    "model.add(Dense(128, activation='relu'))\n",
    "model.add(Dropout(0.5))\n",
    "model.add(Dense(1, activation='sigmoid'))\n",
    "model.compile(loss='binary_crossentropy', \n",
    "              optimizer=Adam(**optimizer_args), \n",
    "              metrics=['accuracy'])\n",
    "print(model.summary())\n",
    "\n",
    "model.fit(X_train, y_train, validation_data=(X_dev, y_dev), epochs=10, batch_size=32)\n"
   ]
  },
  {
   "cell_type": "code",
   "execution_count": 13,
   "metadata": {},
   "outputs": [
    {
     "name": "stdout",
     "output_type": "stream",
     "text": [
      "500/500 [==============================] - 1s 1ms/step\n",
      "Loss        : 0.4678\n",
      "Accuracy    : 0.8100\n",
      "Precision   : 0.7848\n",
      "Recall      : 0.7883\n",
      "F1          : 0.7865\n"
     ]
    }
   ],
   "source": [
    "from hate.utils import print_evaluation\n",
    "\n",
    "print_evaluation(model, X_dev, y_dev.values)"
   ]
  }
 ],
 "metadata": {
  "kernelspec": {
   "display_name": "Python 3",
   "language": "python",
   "name": "python3"
  },
  "language_info": {
   "codemirror_mode": {
    "name": "ipython",
    "version": 3
   },
   "file_extension": ".py",
   "mimetype": "text/x-python",
   "name": "python",
   "nbconvert_exporter": "python",
   "pygments_lexer": "ipython3",
   "version": "3.6.5"
  }
 },
 "nbformat": 4,
 "nbformat_minor": 2
}
