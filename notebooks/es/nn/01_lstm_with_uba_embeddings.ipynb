{
 "cells": [
  {
   "cell_type": "markdown",
   "metadata": {},
   "source": [
    "# LSTM con embeddings UBA\n",
    "\n",
    "Modelo básico con los embeddings de fasttext"
   ]
  },
  {
   "cell_type": "code",
   "execution_count": 1,
   "metadata": {},
   "outputs": [
    {
     "name": "stdout",
     "output_type": "stream",
     "text": [
      "Instancias de entrenamiento: 4500\n",
      "Instancias de desarrollo: 500\n"
     ]
    }
   ],
   "source": [
    "import pandas as pd\n",
    "import csv\n",
    "import numpy as np\n",
    "import tensorflow as tf\n",
    "import random\n",
    "\n",
    "np.random.seed(2019)\n",
    "tf.random.set_random_seed(2019)\n",
    "random.seed(2019)\n",
    "\n",
    "df_dev = pd.read_table(\"../../../data/es/dev_es.tsv\", index_col=\"id\", quoting=csv.QUOTE_NONE)\n",
    "df_train = pd.read_table(\"../../../data/es/train_es.tsv\", index_col=\"id\", quoting=csv.QUOTE_NONE)\n",
    "df_test = pd.read_table(\"../../../data/es/reference_es.tsv\", header=None, \n",
    "                        names=[\"text\", \"HS\", \"TR\", \"AG\"], quoting=csv.QUOTE_NONE)\n",
    "\n",
    "\n",
    "text_train, y_train = df_train[\"text\"], df_train[\"HS\"]\n",
    "text_dev, y_dev = df_dev[\"text\"], df_dev[\"HS\"]\n",
    "text_test, y_test = df_test[\"text\"], df_test[\"HS\"]\n",
    "\n",
    "print(\"Instancias de entrenamiento: {}\".format(len(df_train)))\n",
    "print(\"Instancias de desarrollo: {}\".format(len(df_dev)))\n"
   ]
  },
  {
   "cell_type": "markdown",
   "metadata": {},
   "source": [
    "Tengo que hacer dos cosas:\n",
    "\n",
    "- Primero, convertir los tweets a secuencias de texto\n",
    "- Luego, paddear las secuencias a cierta longitud (Keras necesita esto para poder paralelizar cálculo)"
   ]
  },
  {
   "cell_type": "code",
   "execution_count": 2,
   "metadata": {},
   "outputs": [
    {
     "name": "stderr",
     "output_type": "stream",
     "text": [
      "Using TensorFlow backend.\n"
     ]
    }
   ],
   "source": [
    "from keras.preprocessing.text import Tokenizer\n",
    "from keras.preprocessing.sequence import pad_sequences\n",
    "\n",
    "num_words = 200000\n",
    "\n",
    "tokenizer = Tokenizer(num_words=num_words)\n",
    "tokenizer.fit_on_texts(text_train)\n",
    "\n",
    "X_train = tokenizer.texts_to_sequences(text_train)\n",
    "X_dev = tokenizer.texts_to_sequences(text_dev)\n",
    "X_test = tokenizer.texts_to_sequences(text_test)\n",
    "max_length = 30\n",
    "\n",
    "X_train = pad_sequences(X_train, max_length)\n",
    "X_dev = pad_sequences(X_dev, max_length)\n",
    "X_test = pad_sequences(X_test, max_length)"
   ]
  },
  {
   "cell_type": "markdown",
   "metadata": {},
   "source": [
    "Carguemos embeddings"
   ]
  },
  {
   "cell_type": "code",
   "execution_count": 3,
   "metadata": {},
   "outputs": [
    {
     "name": "stdout",
     "output_type": "stream",
     "text": [
      "Available embeddings:  ['/home/jmperez/WordVectors/UBA_w5_200.vec', '/home/jmperez/WordVectors/wiki.es.vec', '/home/jmperez/WordVectors/UBA_w5_300.vec']\n"
     ]
    }
   ],
   "source": [
    "import os\n",
    "from glob import glob\n",
    "\n",
    "path_to_embeddings = os.path.expanduser(\"/home/jmperez/WordVectors/\")\n",
    "\n",
    "print(\"Available embeddings: \", glob(os.path.join(path_to_embeddings, \"*.vec\")))"
   ]
  },
  {
   "cell_type": "markdown",
   "metadata": {},
   "source": [
    "# Twitter Embeddings"
   ]
  },
  {
   "cell_type": "code",
   "execution_count": 4,
   "metadata": {},
   "outputs": [
    {
     "name": "stdout",
     "output_type": "stream",
     "text": [
      "********************************************************************************\n",
      "********************************************************************************\n",
      "********************************************************************************\n",
      "\n",
      "Problema con la sig línea:\n",
      "['.', '.', '-0.22232', '0.0052569', '0.47066', '0.13836', '0.15991', '0.19504', '0.00067885', '0.020299']\n",
      "********************************************************************************\n",
      "********************************************************************************\n",
      "********************************************************************************\n",
      "\n",
      "Problema con la sig línea:\n",
      "['.', '...', '-0.11666', '-0.083768', '0.028919', '0.29973', '0.21017', '0.27808', '0.063251', '0.090223']\n",
      "********************************************************************************\n",
      "********************************************************************************\n",
      "********************************************************************************\n",
      "\n",
      "Problema con la sig línea:\n",
      "['.', '..', '-0.43752', '-0.0016885', '0.1533', '0.28071', '0.18051', '0.28698', '0.11806', '0.044891']\n"
     ]
    }
   ],
   "source": [
    "import numpy as np\n",
    "\n",
    "word_to_vec = {}\n",
    "\n",
    "with open(os.path.join(path_to_embeddings, \"UBA_w5_300.vec\")) as f:\n",
    "    for line in f:\n",
    "        values = line.split()\n",
    "        word = values[0]\n",
    "        try:\n",
    "            vec = np.asarray(values[1:], dtype=\"float32\")\n",
    "        except:\n",
    "            print((\"*\" * 80  + \"\\n\")*3)\n",
    "            print(\"Problema con la sig línea:\")\n",
    "            print(values[:10])\n",
    "            word = values[1]\n",
    "            vec = np.asarray(values[2:], dtype=\"float32\")\n",
    "        word_to_vec[word] = vec\n",
    "        \n",
    "embedding_size = len(word_to_vec[\"hola\"])"
   ]
  },
  {
   "cell_type": "code",
   "execution_count": 5,
   "metadata": {},
   "outputs": [],
   "source": [
    "# create a weight matrix for words in training docs\n",
    "embedding_matrix = np.zeros((num_words, embedding_size))\n",
    "for word, i in tokenizer.word_index.items():\n",
    "    embedding_vector = word_to_vec.get(word)\n",
    "    if embedding_vector is not None:\n",
    "        embedding_matrix[i] = embedding_vector"
   ]
  },
  {
   "cell_type": "code",
   "execution_count": 6,
   "metadata": {},
   "outputs": [
    {
     "data": {
      "text/plain": [
       "(200000, 300)"
      ]
     },
     "execution_count": 6,
     "metadata": {},
     "output_type": "execute_result"
    }
   ],
   "source": [
    "embedding_matrix.shape"
   ]
  },
  {
   "cell_type": "code",
   "execution_count": 7,
   "metadata": {},
   "outputs": [
    {
     "name": "stdout",
     "output_type": "stream",
     "text": [
      "_________________________________________________________________\n",
      "Layer (type)                 Output Shape              Param #   \n",
      "=================================================================\n",
      "embedding_1 (Embedding)      (None, 30, 300)           60000000  \n",
      "_________________________________________________________________\n",
      "cu_dnnlstm_1 (CuDNNLSTM)     (None, 100)               160800    \n",
      "_________________________________________________________________\n",
      "dropout_1 (Dropout)          (None, 100)               0         \n",
      "_________________________________________________________________\n",
      "dense_1 (Dense)              (None, 128)               12928     \n",
      "_________________________________________________________________\n",
      "dropout_2 (Dropout)          (None, 128)               0         \n",
      "_________________________________________________________________\n",
      "dense_2 (Dense)              (None, 1)                 129       \n",
      "=================================================================\n",
      "Total params: 60,173,857\n",
      "Trainable params: 173,857\n",
      "Non-trainable params: 60,000,000\n",
      "_________________________________________________________________\n",
      "None\n",
      "WARNING:tensorflow:Variable *= will be deprecated. Use `var.assign(var * other)` if you want assignment to the variable value or `x = x * y` if you want a new python Tensor object.\n",
      "Train on 4500 samples, validate on 500 samples\n",
      "Epoch 1/10\n",
      "4500/4500 [==============================] - 2s 551us/step - loss: 0.6473 - acc: 0.6398 - val_loss: 0.6204 - val_acc: 0.6700\n",
      "Epoch 2/10\n",
      "4500/4500 [==============================] - 1s 279us/step - loss: 0.5654 - acc: 0.7156 - val_loss: 0.5606 - val_acc: 0.7040\n",
      "Epoch 3/10\n",
      "4500/4500 [==============================] - 1s 281us/step - loss: 0.5214 - acc: 0.7547 - val_loss: 0.5419 - val_acc: 0.7340\n",
      "Epoch 4/10\n",
      "4500/4500 [==============================] - 1s 281us/step - loss: 0.4951 - acc: 0.7638 - val_loss: 0.5362 - val_acc: 0.7480\n",
      "Epoch 5/10\n",
      "4500/4500 [==============================] - 1s 285us/step - loss: 0.4789 - acc: 0.7764 - val_loss: 0.5378 - val_acc: 0.7480\n",
      "Epoch 6/10\n",
      "4500/4500 [==============================] - 1s 286us/step - loss: 0.4646 - acc: 0.7851 - val_loss: 0.5256 - val_acc: 0.7460\n",
      "Epoch 7/10\n",
      "4500/4500 [==============================] - 1s 284us/step - loss: 0.4521 - acc: 0.7980 - val_loss: 0.5321 - val_acc: 0.7360\n",
      "Epoch 8/10\n",
      "4500/4500 [==============================] - 1s 284us/step - loss: 0.4429 - acc: 0.7987 - val_loss: 0.5215 - val_acc: 0.7480\n",
      "Epoch 9/10\n",
      "4500/4500 [==============================] - 1s 285us/step - loss: 0.4270 - acc: 0.8053 - val_loss: 0.5245 - val_acc: 0.7640\n",
      "Epoch 10/10\n",
      "4500/4500 [==============================] - 1s 286us/step - loss: 0.4205 - acc: 0.8151 - val_loss: 0.5202 - val_acc: 0.7620\n"
     ]
    },
    {
     "data": {
      "text/plain": [
       "<keras.callbacks.History at 0x7f84b7fd9e80>"
      ]
     },
     "execution_count": 7,
     "metadata": {},
     "output_type": "execute_result"
    }
   ],
   "source": [
    "from keras.models import Sequential\n",
    "from keras.layers import Dense\n",
    "from keras.layers import CuDNNLSTM, Dropout\n",
    "from keras.optimizers import Adam\n",
    "from keras.layers.embeddings import Embedding\n",
    "from keras.preprocessing import sequence\n",
    "\n",
    "\n",
    "model = Sequential()\n",
    "model.add(Embedding(num_words, embedding_size, input_length=max_length, \n",
    "                    weights=[embedding_matrix], trainable=False))\n",
    "model.add(CuDNNLSTM(100))\n",
    "model.add(Dropout(0.5))\n",
    "model.add(Dense(128, activation='relu'))\n",
    "model.add(Dropout(0.5))\n",
    "model.add(Dense(1, activation='sigmoid'))\n",
    "optimizer_args = {\n",
    "    \"lr\": 0.001,\n",
    "    \"decay\": 0.01\n",
    "}\n",
    "model.compile(loss='binary_crossentropy', \n",
    "              optimizer=Adam(**optimizer_args), \n",
    "              metrics=['accuracy'])\n",
    "print(model.summary())\n",
    "\n",
    "model.fit(X_train, y_train, validation_data=(X_dev, y_dev), epochs=10, batch_size=32)\n"
   ]
  },
  {
   "cell_type": "code",
   "execution_count": 8,
   "metadata": {},
   "outputs": [
    {
     "name": "stdout",
     "output_type": "stream",
     "text": [
      "Evaluación sobre dev\n",
      "500/500 [==============================] - 0s 115us/step\n",
      "Loss           : 0.5202\n",
      "Accuracy       : 0.7620\n",
      "Precision(1)   : 0.7249\n",
      "Precision(1)   : 0.7934\n",
      "Precision(avg) : 0.7591\n",
      "\n",
      "Recall(1)      : 0.7477\n",
      "Recall(0)      : 0.7734\n",
      "Recall(avg)    : 0.7606\n",
      "\n",
      "F1(1)          : 0.7361\n",
      "F1(0)          : 0.7832\n",
      "F1(avg)        : 0.7597\n",
      "\n",
      "\n",
      "Evaluación sobre test\n",
      "1600/1600 [==============================] - 0s 105us/step\n",
      "Loss           : 0.6128\n",
      "Accuracy       : 0.6969\n",
      "Precision(1)   : 0.6178\n",
      "Precision(1)   : 0.7655\n",
      "Precision(avg) : 0.6916\n",
      "\n",
      "Recall(1)      : 0.6955\n",
      "Recall(0)      : 0.6979\n",
      "Recall(avg)    : 0.6967\n",
      "\n",
      "F1(1)          : 0.6543\n",
      "F1(0)          : 0.7301\n",
      "F1(avg)        : 0.6922\n"
     ]
    }
   ],
   "source": [
    "from hate.utils import print_evaluation\n",
    "\n",
    "print(\"Evaluación sobre dev\")\n",
    "print_evaluation(model, X_dev, y_dev)\n",
    "print(\"\\n\\nEvaluación sobre test\")\n",
    "print_evaluation(model, X_test, y_test)\n",
    "\n"
   ]
  },
  {
   "cell_type": "markdown",
   "metadata": {},
   "source": [
    "## Bidirectional LSTM"
   ]
  },
  {
   "cell_type": "code",
   "execution_count": 9,
   "metadata": {},
   "outputs": [
    {
     "name": "stdout",
     "output_type": "stream",
     "text": [
      "_________________________________________________________________\n",
      "Layer (type)                 Output Shape              Param #   \n",
      "=================================================================\n",
      "embedding_2 (Embedding)      (None, 30, 300)           60000000  \n",
      "_________________________________________________________________\n",
      "bidirectional_1 (Bidirection (None, 200)               321600    \n",
      "_________________________________________________________________\n",
      "dropout_3 (Dropout)          (None, 200)               0         \n",
      "_________________________________________________________________\n",
      "dense_3 (Dense)              (None, 128)               25728     \n",
      "_________________________________________________________________\n",
      "dropout_4 (Dropout)          (None, 128)               0         \n",
      "_________________________________________________________________\n",
      "dense_4 (Dense)              (None, 1)                 129       \n",
      "=================================================================\n",
      "Total params: 60,347,457\n",
      "Trainable params: 347,457\n",
      "Non-trainable params: 60,000,000\n",
      "_________________________________________________________________\n",
      "None\n",
      "Train on 4500 samples, validate on 500 samples\n",
      "Epoch 1/10\n",
      "4500/4500 [==============================] - 2s 515us/step - loss: 0.6230 - acc: 0.6587 - val_loss: 0.5584 - val_acc: 0.7080\n",
      "Epoch 2/10\n",
      "4500/4500 [==============================] - 2s 382us/step - loss: 0.5282 - acc: 0.7447 - val_loss: 0.5368 - val_acc: 0.7200\n",
      "Epoch 3/10\n",
      "4500/4500 [==============================] - 2s 384us/step - loss: 0.4925 - acc: 0.7698 - val_loss: 0.5253 - val_acc: 0.7340\n",
      "Epoch 4/10\n",
      "4500/4500 [==============================] - 2s 379us/step - loss: 0.4689 - acc: 0.7873 - val_loss: 0.5456 - val_acc: 0.7220\n",
      "Epoch 5/10\n",
      "4500/4500 [==============================] - 2s 384us/step - loss: 0.4432 - acc: 0.7929 - val_loss: 0.5082 - val_acc: 0.7760\n",
      "Epoch 6/10\n",
      "4500/4500 [==============================] - 2s 386us/step - loss: 0.4266 - acc: 0.8024 - val_loss: 0.5303 - val_acc: 0.7640\n",
      "Epoch 7/10\n",
      "4500/4500 [==============================] - 2s 386us/step - loss: 0.4099 - acc: 0.8156 - val_loss: 0.5066 - val_acc: 0.7620\n",
      "Epoch 8/10\n",
      "4500/4500 [==============================] - 2s 390us/step - loss: 0.3991 - acc: 0.8213 - val_loss: 0.5169 - val_acc: 0.7920\n",
      "Epoch 9/10\n",
      "4500/4500 [==============================] - 2s 383us/step - loss: 0.3923 - acc: 0.8258 - val_loss: 0.5097 - val_acc: 0.7800\n",
      "Epoch 10/10\n",
      "4500/4500 [==============================] - 2s 383us/step - loss: 0.3784 - acc: 0.8331 - val_loss: 0.5171 - val_acc: 0.7700\n"
     ]
    },
    {
     "data": {
      "text/plain": [
       "<keras.callbacks.History at 0x7f83f4309d68>"
      ]
     },
     "execution_count": 9,
     "metadata": {},
     "output_type": "execute_result"
    }
   ],
   "source": [
    "from keras.layers import Bidirectional\n",
    "from keras.layers.embeddings import Embedding\n",
    "from keras.preprocessing import sequence\n",
    "\n",
    "embedding_vector_length = 32\n",
    "\n",
    "model = Sequential()\n",
    "model.add(Embedding(num_words, embedding_size, input_length=max_length, \n",
    "                    weights=[embedding_matrix], trainable=False))\n",
    "model.add(Bidirectional(CuDNNLSTM(100)))\n",
    "model.add(Dropout(0.5))\n",
    "model.add(Dense(128, activation='relu'))\n",
    "model.add(Dropout(0.5))\n",
    "model.add(Dense(1, activation='sigmoid'))\n",
    "model.compile(loss='binary_crossentropy', \n",
    "              optimizer=Adam(**optimizer_args), \n",
    "              metrics=['accuracy'])\n",
    "print(model.summary())\n",
    "\n",
    "model.fit(X_train, y_train, validation_data=(X_dev, y_dev), epochs=10, batch_size=32)\n"
   ]
  },
  {
   "cell_type": "code",
   "execution_count": 10,
   "metadata": {},
   "outputs": [
    {
     "name": "stdout",
     "output_type": "stream",
     "text": [
      "Evaluación sobre dev\n",
      "500/500 [==============================] - 0s 132us/step\n",
      "Loss           : 0.5171\n",
      "Accuracy       : 0.7700\n",
      "Precision(1)   : 0.7277\n",
      "Precision(1)   : 0.8075\n",
      "Precision(avg) : 0.7676\n",
      "\n",
      "Recall(1)      : 0.7703\n",
      "Recall(0)      : 0.7698\n",
      "Recall(avg)    : 0.7700\n",
      "\n",
      "F1(1)          : 0.7484\n",
      "F1(0)          : 0.7882\n",
      "F1(avg)        : 0.7683\n",
      "\n",
      "\n",
      "Evaluación sobre test\n",
      "1600/1600 [==============================] - 0s 135us/step\n",
      "Loss           : 0.6145\n",
      "Accuracy       : 0.6787\n",
      "Precision(1)   : 0.5892\n",
      "Precision(1)   : 0.7724\n",
      "Precision(avg) : 0.6808\n",
      "\n",
      "Recall(1)      : 0.7303\n",
      "Recall(0)      : 0.6426\n",
      "Recall(avg)    : 0.6864\n",
      "\n",
      "F1(1)          : 0.6522\n",
      "F1(0)          : 0.7015\n",
      "F1(avg)        : 0.6769\n"
     ]
    }
   ],
   "source": [
    "from hate.utils import print_evaluation\n",
    "\n",
    "print(\"Evaluación sobre dev\")\n",
    "print_evaluation(model, X_dev, y_dev)\n",
    "print(\"\\n\\nEvaluación sobre test\")\n",
    "print_evaluation(model, X_test, y_test)\n",
    "\n"
   ]
  }
 ],
 "metadata": {
  "kernelspec": {
   "display_name": "Python 3",
   "language": "python",
   "name": "python3"
  },
  "language_info": {
   "codemirror_mode": {
    "name": "ipython",
    "version": 3
   },
   "file_extension": ".py",
   "mimetype": "text/x-python",
   "name": "python",
   "nbconvert_exporter": "python",
   "pygments_lexer": "ipython3",
   "version": "3.6.5"
  }
 },
 "nbformat": 4,
 "nbformat_minor": 2
}
