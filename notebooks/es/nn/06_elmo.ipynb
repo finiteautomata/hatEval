{
 "cells": [
  {
   "cell_type": "markdown",
   "metadata": {},
   "source": [
    "# GRU \n",
    "\n",
    "Usamos UBA. No vamos a probar bidireccional porque evidentemente está andando bastante mal"
   ]
  },
  {
   "cell_type": "code",
   "execution_count": 1,
   "metadata": {},
   "outputs": [],
   "source": [
    "import pandas as pd\n",
    "df_train = pd.read_table(\"../../../data/es/train_es.tsv\", index_col=\"id\")\n",
    "df_dev = pd.read_table(\"../../../data/es/dev_es.tsv\", index_col=\"id\")\n",
    "\n",
    "text_train, y_train = df_train[\"text\"].values, df_train[\"HS\"].values\n",
    "text_dev, y_dev = df_dev[\"text\"].values, df_dev[\"HS\"].values"
   ]
  },
  {
   "cell_type": "markdown",
   "metadata": {},
   "source": [
    "Tengo que hacer dos cosas:\n",
    "\n",
    "- Primero, convertir los tweets a secuencias de texto\n",
    "- Luego, paddear las secuencias a cierta longitud (Keras necesita esto para poder paralelizar cálculo)"
   ]
  },
  {
   "cell_type": "code",
   "execution_count": 2,
   "metadata": {},
   "outputs": [
    {
     "name": "stderr",
     "output_type": "stream",
     "text": [
      "Using TensorFlow backend.\n"
     ]
    }
   ],
   "source": [
    "from nltk.tokenize import TweetTokenizer\n",
    "from keras.preprocessing.sequence import pad_sequences\n",
    "\n",
    "\n",
    "max_length = 30\n",
    "\n",
    "tokenizer = TweetTokenizer(preserve_case=False, reduce_len=True, strip_handles=True)\n",
    "\n",
    "def preprocess_tweet(tweet):\n",
    "    tokens = tokenizer.tokenize(tweet)\n",
    "    \n",
    "    if len(tokens) >= max_length:\n",
    "        tokens = tokens[:max_length]\n",
    "    else:\n",
    "        tokens = tokens + [''] * (max_length - len(tokens))\n",
    "    return tokens\n",
    "\n",
    "\n",
    "text_train = [preprocess_tweet(tweet) for tweet in df_train[\"text\"].values]\n",
    "text_dev = [preprocess_tweet(tweet) for tweet in df_dev[\"text\"].values]"
   ]
  },
  {
   "cell_type": "code",
   "execution_count": 3,
   "metadata": {},
   "outputs": [
    {
     "name": "stderr",
     "output_type": "stream",
     "text": [
      "2019-01-10 14:44:25,573 INFO: char embedding size: 2637\n",
      "2019-01-10 14:44:26,507 INFO: word embedding size: 185214\n",
      "2019-01-10 14:44:35,781 INFO: Model(\n",
      "  (token_embedder): ConvTokenEmbedder(\n",
      "    (word_emb_layer): EmbeddingLayer(\n",
      "      (embedding): Embedding(185214, 100, padding_idx=3)\n",
      "    )\n",
      "    (char_emb_layer): EmbeddingLayer(\n",
      "      (embedding): Embedding(2637, 50, padding_idx=2634)\n",
      "    )\n",
      "    (convolutions): ModuleList(\n",
      "      (0): Conv1d(50, 32, kernel_size=(1,), stride=(1,))\n",
      "      (1): Conv1d(50, 32, kernel_size=(2,), stride=(1,))\n",
      "      (2): Conv1d(50, 64, kernel_size=(3,), stride=(1,))\n",
      "      (3): Conv1d(50, 128, kernel_size=(4,), stride=(1,))\n",
      "      (4): Conv1d(50, 256, kernel_size=(5,), stride=(1,))\n",
      "      (5): Conv1d(50, 512, kernel_size=(6,), stride=(1,))\n",
      "      (6): Conv1d(50, 1024, kernel_size=(7,), stride=(1,))\n",
      "    )\n",
      "    (highways): Highway(\n",
      "      (_layers): ModuleList(\n",
      "        (0): Linear(in_features=2048, out_features=4096, bias=True)\n",
      "        (1): Linear(in_features=2048, out_features=4096, bias=True)\n",
      "      )\n",
      "    )\n",
      "    (projection): Linear(in_features=2148, out_features=512, bias=True)\n",
      "  )\n",
      "  (encoder): ElmobiLm(\n",
      "    (forward_layer_0): LstmCellWithProjection(\n",
      "      (input_linearity): Linear(in_features=512, out_features=16384, bias=False)\n",
      "      (state_linearity): Linear(in_features=512, out_features=16384, bias=True)\n",
      "      (state_projection): Linear(in_features=4096, out_features=512, bias=False)\n",
      "    )\n",
      "    (backward_layer_0): LstmCellWithProjection(\n",
      "      (input_linearity): Linear(in_features=512, out_features=16384, bias=False)\n",
      "      (state_linearity): Linear(in_features=512, out_features=16384, bias=True)\n",
      "      (state_projection): Linear(in_features=4096, out_features=512, bias=False)\n",
      "    )\n",
      "    (forward_layer_1): LstmCellWithProjection(\n",
      "      (input_linearity): Linear(in_features=512, out_features=16384, bias=False)\n",
      "      (state_linearity): Linear(in_features=512, out_features=16384, bias=True)\n",
      "      (state_projection): Linear(in_features=4096, out_features=512, bias=False)\n",
      "    )\n",
      "    (backward_layer_1): LstmCellWithProjection(\n",
      "      (input_linearity): Linear(in_features=512, out_features=16384, bias=False)\n",
      "      (state_linearity): Linear(in_features=512, out_features=16384, bias=True)\n",
      "      (state_projection): Linear(in_features=4096, out_features=512, bias=False)\n",
      "    )\n",
      "  )\n",
      ")\n"
     ]
    }
   ],
   "source": [
    "from elmoformanylangs import Embedder\n",
    "\n",
    "e = Embedder(\"../../../models/elmo/es/\")"
   ]
  },
  {
   "cell_type": "markdown",
   "metadata": {},
   "source": [
    "Carguemos embeddings"
   ]
  },
  {
   "cell_type": "code",
   "execution_count": 4,
   "metadata": {},
   "outputs": [
    {
     "name": "stdout",
     "output_type": "stream",
     "text": [
      "['easyjet', 'quiere', 'duplicar', 'el', 'número', 'de', 'mujeres', 'piloto', \"'\", 'verás', 'tú', 'para', 'aparcar', 'el', 'avión', '..', 'http://t.co/46NuLkm09x', '', '', '', '', '', '', '', '', '', '', '', '', '']\n"
     ]
    },
    {
     "name": "stderr",
     "output_type": "stream",
     "text": [
      "2019-01-10 14:44:42,791 INFO: 70 batches, avg len: 32.0\n",
      "2019-01-10 14:44:45,211 INFO: Finished 1000 sentences.\n",
      "2019-01-10 14:44:47,255 INFO: Finished 2000 sentences.\n",
      "2019-01-10 14:44:49,353 INFO: Finished 3000 sentences.\n",
      "2019-01-10 14:44:51,308 INFO: Finished 4000 sentences.\n",
      "2019-01-10 14:44:53,195 INFO: 8 batches, avg len: 32.0\n"
     ]
    }
   ],
   "source": [
    "import numpy as np\n",
    "\n",
    "print(text_train[0])\n",
    "\n",
    "\n",
    "X_train = np.array(e.sents2elmo(text_train))\n",
    "X_dev = np.array(e.sents2elmo(text_dev))"
   ]
  },
  {
   "cell_type": "code",
   "execution_count": 5,
   "metadata": {},
   "outputs": [
    {
     "data": {
      "text/plain": [
       "((4469, 30, 1024), (500, 30, 1024))"
      ]
     },
     "execution_count": 5,
     "metadata": {},
     "output_type": "execute_result"
    }
   ],
   "source": [
    "X_train.shape, X_dev.shape"
   ]
  },
  {
   "cell_type": "code",
   "execution_count": 6,
   "metadata": {},
   "outputs": [
    {
     "name": "stdout",
     "output_type": "stream",
     "text": [
      "_________________________________________________________________\n",
      "Layer (type)                 Output Shape              Param #   \n",
      "=================================================================\n",
      "gru_1 (GRU)                  (None, 256)               983808    \n",
      "_________________________________________________________________\n",
      "dropout_1 (Dropout)          (None, 256)               0         \n",
      "_________________________________________________________________\n",
      "dense_1 (Dense)              (None, 256)               65792     \n",
      "_________________________________________________________________\n",
      "dropout_2 (Dropout)          (None, 256)               0         \n",
      "_________________________________________________________________\n",
      "dense_2 (Dense)              (None, 1)                 257       \n",
      "=================================================================\n",
      "Total params: 1,049,857\n",
      "Trainable params: 1,049,857\n",
      "Non-trainable params: 0\n",
      "_________________________________________________________________\n",
      "None\n",
      "Train on 4469 samples, validate on 500 samples\n",
      "Epoch 1/20\n",
      "4469/4469 [==============================] - 7s 2ms/step - loss: 0.8619 - acc: 0.5261 - val_loss: 0.6817 - val_acc: 0.5700\n",
      "Epoch 2/20\n",
      "4469/4469 [==============================] - 6s 1ms/step - loss: 0.7212 - acc: 0.5641 - val_loss: 0.6743 - val_acc: 0.6180\n",
      "Epoch 3/20\n",
      "4469/4469 [==============================] - 6s 1ms/step - loss: 0.6796 - acc: 0.5948 - val_loss: 0.6605 - val_acc: 0.6220\n",
      "Epoch 4/20\n",
      "4469/4469 [==============================] - 6s 1ms/step - loss: 0.6341 - acc: 0.6438 - val_loss: 0.5983 - val_acc: 0.7340\n",
      "Epoch 5/20\n",
      "4469/4469 [==============================] - 6s 1ms/step - loss: 0.5717 - acc: 0.7069 - val_loss: 0.5116 - val_acc: 0.7680\n",
      "Epoch 6/20\n",
      "4469/4469 [==============================] - 6s 1ms/step - loss: 0.4965 - acc: 0.7794 - val_loss: 0.4922 - val_acc: 0.7680\n",
      "Epoch 7/20\n",
      "4469/4469 [==============================] - 6s 1ms/step - loss: 0.4453 - acc: 0.8042 - val_loss: 0.4852 - val_acc: 0.7820\n",
      "Epoch 8/20\n",
      "4469/4469 [==============================] - 6s 1ms/step - loss: 0.3943 - acc: 0.8411 - val_loss: 0.4636 - val_acc: 0.8000\n",
      "Epoch 9/20\n",
      "4469/4469 [==============================] - 6s 1ms/step - loss: 0.3583 - acc: 0.8546 - val_loss: 0.4525 - val_acc: 0.7940\n",
      "Epoch 10/20\n",
      "4469/4469 [==============================] - 6s 1ms/step - loss: 0.3030 - acc: 0.8821 - val_loss: 0.4698 - val_acc: 0.7880\n",
      "Epoch 11/20\n",
      "4469/4469 [==============================] - 6s 1ms/step - loss: 0.2614 - acc: 0.9038 - val_loss: 0.4707 - val_acc: 0.7940\n",
      "Epoch 12/20\n",
      "4469/4469 [==============================] - 6s 1ms/step - loss: 0.2164 - acc: 0.9228 - val_loss: 0.5125 - val_acc: 0.7960\n",
      "Epoch 13/20\n",
      "4469/4469 [==============================] - 6s 1ms/step - loss: 0.1943 - acc: 0.9293 - val_loss: 0.5280 - val_acc: 0.7760\n",
      "Epoch 14/20\n",
      "4469/4469 [==============================] - 6s 1ms/step - loss: 0.1471 - acc: 0.9517 - val_loss: 0.6705 - val_acc: 0.7540\n",
      "Epoch 15/20\n",
      "4469/4469 [==============================] - 6s 1ms/step - loss: 0.1494 - acc: 0.9490 - val_loss: 0.6045 - val_acc: 0.7660\n",
      "Epoch 16/20\n",
      "4469/4469 [==============================] - 6s 1ms/step - loss: 0.1173 - acc: 0.9615 - val_loss: 0.9149 - val_acc: 0.7540\n",
      "Epoch 17/20\n",
      "4469/4469 [==============================] - 6s 1ms/step - loss: 0.1131 - acc: 0.9644 - val_loss: 0.6952 - val_acc: 0.7880\n",
      "Epoch 18/20\n",
      "4469/4469 [==============================] - 6s 1ms/step - loss: 0.0975 - acc: 0.9696 - val_loss: 0.9386 - val_acc: 0.7880\n",
      "Epoch 19/20\n",
      "4469/4469 [==============================] - 6s 1ms/step - loss: 0.1156 - acc: 0.9599 - val_loss: 0.7127 - val_acc: 0.7920\n",
      "Epoch 20/20\n",
      "4469/4469 [==============================] - 6s 1ms/step - loss: 0.0826 - acc: 0.9745 - val_loss: 0.8111 - val_acc: 0.7640\n"
     ]
    },
    {
     "data": {
      "text/plain": [
       "<keras.callbacks.History at 0x7f115fd3ef60>"
      ]
     },
     "execution_count": 6,
     "metadata": {},
     "output_type": "execute_result"
    }
   ],
   "source": [
    "from keras.models import Sequential\n",
    "from keras.layers import Dense\n",
    "from keras.layers import GRU, Dropout, LSTM\n",
    "from keras.layers.embeddings import Embedding\n",
    "from keras.preprocessing import sequence\n",
    "\n",
    "embedding_dim = 1024\n",
    "\n",
    "model = Sequential()\n",
    "model.add(GRU(256, input_shape=(max_length, embedding_dim)))\n",
    "model.add(Dropout(0.5))\n",
    "model.add(Dense(256, activation='relu'))\n",
    "model.add(Dropout(0.5))\n",
    "model.add(Dense(1, activation='sigmoid'))\n",
    "model.compile(loss='binary_crossentropy', optimizer='adam', metrics=['accuracy'])\n",
    "print(model.summary())\n",
    "\n",
    "model.fit(X_train, y_train, validation_data=(X_dev, y_dev), epochs=20, batch_size=32)\n"
   ]
  },
  {
   "cell_type": "code",
   "execution_count": 7,
   "metadata": {},
   "outputs": [
    {
     "name": "stdout",
     "output_type": "stream",
     "text": [
      "500/500 [==============================] - 0s 577us/step\n",
      "Loss        : 0.8111\n",
      "Accuracy    : 0.7640\n",
      "Precision   : 0.7600\n",
      "Recall      : 0.6847\n",
      "F1          : 0.7204\n"
     ]
    }
   ],
   "source": [
    "from hate.utils import print_evaluation\n",
    "\n",
    "print_evaluation(model, X_dev, y_dev)"
   ]
  },
  {
   "cell_type": "markdown",
   "metadata": {},
   "source": [
    "## Bidirectional GRU"
   ]
  },
  {
   "cell_type": "code",
   "execution_count": 8,
   "metadata": {},
   "outputs": [
    {
     "name": "stdout",
     "output_type": "stream",
     "text": [
      "Train on 4469 samples, validate on 500 samples\n",
      "Epoch 1/20\n",
      "4469/4469 [==============================] - 11s 2ms/step - loss: 0.8150 - acc: 0.5641 - val_loss: 0.6566 - val_acc: 0.6200\n",
      "Epoch 2/20\n",
      "4469/4469 [==============================] - 10s 2ms/step - loss: 0.6382 - acc: 0.6639 - val_loss: 0.5680 - val_acc: 0.7480\n",
      "Epoch 3/20\n",
      "4469/4469 [==============================] - 10s 2ms/step - loss: 0.5285 - acc: 0.7431 - val_loss: 0.5132 - val_acc: 0.7500\n",
      "Epoch 4/20\n",
      "4469/4469 [==============================] - 10s 2ms/step - loss: 0.4597 - acc: 0.7928 - val_loss: 0.4683 - val_acc: 0.7800\n",
      "Epoch 5/20\n",
      "4469/4469 [==============================] - 10s 2ms/step - loss: 0.4153 - acc: 0.8165 - val_loss: 0.4329 - val_acc: 0.8020\n",
      "Epoch 6/20\n",
      "4469/4469 [==============================] - 10s 2ms/step - loss: 0.3748 - acc: 0.8416 - val_loss: 0.4343 - val_acc: 0.7940\n",
      "Epoch 7/20\n",
      "4469/4469 [==============================] - 10s 2ms/step - loss: 0.3103 - acc: 0.8695 - val_loss: 0.4415 - val_acc: 0.7980\n",
      "Epoch 8/20\n",
      "4469/4469 [==============================] - 10s 2ms/step - loss: 0.2715 - acc: 0.8913 - val_loss: 0.4566 - val_acc: 0.7760\n",
      "Epoch 9/20\n",
      "4469/4469 [==============================] - 10s 2ms/step - loss: 0.2344 - acc: 0.9060 - val_loss: 0.5206 - val_acc: 0.7520\n",
      "Epoch 10/20\n",
      "4469/4469 [==============================] - 10s 2ms/step - loss: 0.2069 - acc: 0.9224 - val_loss: 0.5289 - val_acc: 0.8080\n",
      "Epoch 11/20\n",
      "4469/4469 [==============================] - 10s 2ms/step - loss: 0.1701 - acc: 0.9369 - val_loss: 0.5930 - val_acc: 0.7860\n",
      "Epoch 12/20\n",
      "4469/4469 [==============================] - 10s 2ms/step - loss: 0.1494 - acc: 0.9452 - val_loss: 0.5715 - val_acc: 0.8080\n",
      "Epoch 13/20\n",
      "4469/4469 [==============================] - 10s 2ms/step - loss: 0.1116 - acc: 0.9622 - val_loss: 0.6385 - val_acc: 0.7880\n",
      "Epoch 14/20\n",
      "4469/4469 [==============================] - 10s 2ms/step - loss: 0.1017 - acc: 0.9635 - val_loss: 0.7325 - val_acc: 0.7960\n",
      "Epoch 15/20\n",
      "4469/4469 [==============================] - 10s 2ms/step - loss: 0.1157 - acc: 0.9582 - val_loss: 0.6600 - val_acc: 0.8120\n",
      "Epoch 16/20\n",
      "4469/4469 [==============================] - 10s 2ms/step - loss: 0.1289 - acc: 0.9577 - val_loss: 0.7499 - val_acc: 0.7940\n",
      "Epoch 17/20\n",
      "4469/4469 [==============================] - 10s 2ms/step - loss: 0.0986 - acc: 0.9642 - val_loss: 0.8541 - val_acc: 0.7740\n",
      "Epoch 18/20\n",
      "4469/4469 [==============================] - 10s 2ms/step - loss: 0.0871 - acc: 0.9707 - val_loss: 0.7696 - val_acc: 0.7900\n",
      "Epoch 19/20\n",
      "4469/4469 [==============================] - 10s 2ms/step - loss: 0.0727 - acc: 0.9754 - val_loss: 0.7849 - val_acc: 0.7900\n",
      "Epoch 20/20\n",
      "4469/4469 [==============================] - 10s 2ms/step - loss: 0.0577 - acc: 0.9765 - val_loss: 0.8492 - val_acc: 0.8140\n"
     ]
    },
    {
     "data": {
      "text/plain": [
       "<keras.callbacks.History at 0x7f112c67bf60>"
      ]
     },
     "execution_count": 8,
     "metadata": {},
     "output_type": "execute_result"
    }
   ],
   "source": [
    "from keras.models import Sequential\n",
    "from keras.layers import Dense\n",
    "from keras.layers import GRU, Dropout, LSTM, Bidirectional\n",
    "from keras.layers.embeddings import Embedding\n",
    "from keras.preprocessing import sequence\n",
    "\n",
    "embedding_dim = 1024\n",
    "\n",
    "model = Sequential()\n",
    "model.add(Bidirectional(GRU(256, input_shape=(max_length, embedding_dim))))\n",
    "model.add(Dropout(0.75))\n",
    "model.add(Dense(256, activation='relu'))\n",
    "model.add(Dropout(0.5))\n",
    "model.add(Dense(1, activation='sigmoid'))\n",
    "model.compile(loss='binary_crossentropy', optimizer='adam', metrics=['accuracy'])\n",
    "\n",
    "\n",
    "model.fit(X_train, y_train, validation_data=(X_dev, y_dev), epochs=20, batch_size=32)\n"
   ]
  },
  {
   "cell_type": "code",
   "execution_count": 9,
   "metadata": {},
   "outputs": [
    {
     "name": "stdout",
     "output_type": "stream",
     "text": [
      "500/500 [==============================] - 1s 1ms/step\n",
      "Loss        : 0.8492\n",
      "Accuracy    : 0.8140\n",
      "Precision   : 0.7745\n",
      "Recall      : 0.8198\n",
      "F1          : 0.7965\n"
     ]
    }
   ],
   "source": [
    "from hate.utils import print_evaluation\n",
    "\n",
    "print_evaluation(model, X_dev, y_dev)"
   ]
  },
  {
   "cell_type": "code",
   "execution_count": null,
   "metadata": {},
   "outputs": [],
   "source": []
  }
 ],
 "metadata": {
  "kernelspec": {
   "display_name": "Python 3",
   "language": "python",
   "name": "python3"
  },
  "language_info": {
   "codemirror_mode": {
    "name": "ipython",
    "version": 3
   },
   "file_extension": ".py",
   "mimetype": "text/x-python",
   "name": "python",
   "nbconvert_exporter": "python",
   "pygments_lexer": "ipython3",
   "version": "3.6.5"
  }
 },
 "nbformat": 4,
 "nbformat_minor": 2
}
