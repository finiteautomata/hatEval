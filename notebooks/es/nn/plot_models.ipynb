{
 "cells": [
  {
   "cell_type": "markdown",
   "metadata": {},
   "source": [
    "# Ensembles\n",
    "\n",
    "En esta notebook, veremos de hacer un ensemble neuronal de las técnicas vistas hasta el momento (y quizás alguna más)\n",
    "\n",
    "Vamos a usar\n",
    "\n",
    "- Modelo char\n",
    "- Modelo BoW\n",
    "- Modelo ElMO\n"
   ]
  },
  {
   "cell_type": "code",
   "execution_count": 1,
   "metadata": {},
   "outputs": [
    {
     "name": "stdout",
     "output_type": "stream",
     "text": [
      "Instancias de entrenamiento: 4500\n",
      "Instancias de desarrollo: 500\n",
      "Instancias de test: 1600\n"
     ]
    }
   ],
   "source": [
    "%load_ext autoreload\n",
    "%autoreload 2\n",
    "%matplotlib inline\n",
    "import pandas as pd\n",
    "import csv\n",
    "\n",
    "df_dev = pd.read_table(\"../../../data/es/dev_es.tsv\", index_col=\"id\", quoting=csv.QUOTE_NONE)\n",
    "df_train = pd.read_table(\"../../../data/es/train_es.tsv\", index_col=\"id\", quoting=csv.QUOTE_NONE)\n",
    "df_test = pd.read_table(\"../../../data/es/test_es.tsv\", index_col=\"id\", quoting=csv.QUOTE_NONE)\n",
    "\n",
    "print(\"Instancias de entrenamiento: {}\".format(len(df_train)))\n",
    "print(\"Instancias de desarrollo: {}\".format(len(df_dev)))\n",
    "print(\"Instancias de test: {}\".format(len(df_test)))\n"
   ]
  },
  {
   "cell_type": "markdown",
   "metadata": {},
   "source": [
    "Hagamos tokenize sobre el texto"
   ]
  },
  {
   "cell_type": "markdown",
   "metadata": {},
   "source": [
    "## Modelo múltiple inputs\n",
    "Hagamos un primer modelo con múltiple inputs."
   ]
  },
  {
   "cell_type": "code",
   "execution_count": 2,
   "metadata": {},
   "outputs": [],
   "source": [
    "%%capture\n",
    "from elmoformanylangs import Embedder\n",
    "\n",
    "e = Embedder(\"../../../models/elmo/es/\")"
   ]
  },
  {
   "cell_type": "code",
   "execution_count": 4,
   "metadata": {},
   "outputs": [],
   "source": [
    "from keras.models import Model\n",
    "from keras.layers import Concatenate, Dense, CuDNNLSTM\n",
    "from keras.optimizers import Adam\n",
    "from keras.utils import plot_model\n",
    "from hate.nn import CharModel, ElmoModel, BowModel, MergeModel\n",
    "\n",
    "dropout = [0., 0.]\n",
    "\n",
    "char_model = CharModel(max_charlen=140, vocab_size=200, recursive_class=CuDNNLSTM, dropout=dropout)\n",
    "elmo_model = ElmoModel(50, embedder=e, recursive_class=CuDNNLSTM, dropout=dropout)\n",
    "bow_model = BowModel(\n",
    "    num_words=5500, vectorize_args={\"max_df\":0.65, \"min_df\": 0.00075}, dropout=dropout\n",
    ")\n",
    "\n",
    "merge_model = MergeModel([elmo_model, bow_model])\n"
   ]
  },
  {
   "cell_type": "code",
   "execution_count": 7,
   "metadata": {},
   "outputs": [
    {
     "data": {
      "text/plain": [
       "\u001b[0;31mSignature:\u001b[0m\n",
       "\u001b[0mplot_model\u001b[0m\u001b[0;34m(\u001b[0m\u001b[0;34m\u001b[0m\n",
       "\u001b[0;34m\u001b[0m    \u001b[0;34m[\u001b[0m\u001b[0;34m'model'\u001b[0m\u001b[0;34m,\u001b[0m \u001b[0;34m\"to_file='model.png'\"\u001b[0m\u001b[0;34m,\u001b[0m \u001b[0;34m'show_shapes=False'\u001b[0m\u001b[0;34m,\u001b[0m \u001b[0;34m'show_layer_names=True'\u001b[0m\u001b[0;34m,\u001b[0m \u001b[0;34m\"rankdir='TB'\"\u001b[0m\u001b[0;34m]\u001b[0m\u001b[0;34m,\u001b[0m\u001b[0;34m\u001b[0m\n",
       "\u001b[0;34m\u001b[0m\u001b[0;34m)\u001b[0m\u001b[0;34m\u001b[0m\u001b[0m\n",
       "\u001b[0;31mDocstring:\u001b[0m\n",
       "Converts a Keras model to dot format and save to a file.\n",
       "\n",
       "# Arguments\n",
       "    model: A Keras model instance\n",
       "    to_file: File name of the plot image.\n",
       "    show_shapes: whether to display shape information.\n",
       "    show_layer_names: whether to display layer names.\n",
       "    rankdir: `rankdir` argument passed to PyDot,\n",
       "        a string specifying the format of the plot:\n",
       "        'TB' creates a vertical plot;\n",
       "        'LR' creates a horizontal plot.\n",
       "\u001b[0;31mFile:\u001b[0m      ~/.pyenv/versions/3.6.5/envs/hateval/lib/python3.6/site-packages/keras/utils/vis_utils.py\n",
       "\u001b[0;31mType:\u001b[0m      function\n"
      ]
     },
     "metadata": {},
     "output_type": "display_data"
    }
   ],
   "source": [
    "plot_model?"
   ]
  },
  {
   "cell_type": "code",
   "execution_count": 10,
   "metadata": {},
   "outputs": [
    {
     "data": {
      "image/svg+xml": [
       "<svg height=\"337pt\" viewBox=\"0.00 0.00 269.50 337.00\" width=\"270pt\" xmlns=\"http://www.w3.org/2000/svg\" xmlns:xlink=\"http://www.w3.org/1999/xlink\">\n",
       "<g class=\"graph\" id=\"graph0\" transform=\"scale(1 1) rotate(0) translate(4 333)\">\n",
       "<title>G</title>\n",
       "<polygon fill=\"white\" points=\"-4,4 -4,-333 265.5,-333 265.5,4 -4,4\" stroke=\"none\"/>\n",
       "<!-- 139634498076288 -->\n",
       "<g class=\"node\" id=\"node1\"><title>139634498076288</title>\n",
       "<polygon fill=\"none\" points=\"50.5,-292.5 50.5,-328.5 127.5,-328.5 127.5,-292.5 50.5,-292.5\" stroke=\"black\"/>\n",
       "<text font-family=\"Times,serif\" font-size=\"14.00\" text-anchor=\"middle\" x=\"89\" y=\"-306.8\">InputLayer</text>\n",
       "</g>\n",
       "<!-- 139631091744216 -->\n",
       "<g class=\"node\" id=\"node3\"><title>139631091744216</title>\n",
       "<polygon fill=\"none\" points=\"-1.42109e-14,-219.5 -1.42109e-14,-255.5 178,-255.5 178,-219.5 -1.42109e-14,-219.5\" stroke=\"black\"/>\n",
       "<text font-family=\"Times,serif\" font-size=\"14.00\" text-anchor=\"middle\" x=\"89\" y=\"-233.8\">Bidirectional(CuDNNLSTM)</text>\n",
       "</g>\n",
       "<!-- 139634498076288&#45;&gt;139631091744216 -->\n",
       "<g class=\"edge\" id=\"edge1\"><title>139634498076288-&gt;139631091744216</title>\n",
       "<path d=\"M89,-292.313C89,-284.289 89,-274.547 89,-265.569\" fill=\"none\" stroke=\"black\"/>\n",
       "<polygon fill=\"black\" points=\"92.5001,-265.529 89,-255.529 85.5001,-265.529 92.5001,-265.529\" stroke=\"black\"/>\n",
       "</g>\n",
       "<!-- 139631092124864 -->\n",
       "<g class=\"node\" id=\"node2\"><title>139631092124864</title>\n",
       "<polygon fill=\"none\" points=\"184.5,-292.5 184.5,-328.5 261.5,-328.5 261.5,-292.5 184.5,-292.5\" stroke=\"black\"/>\n",
       "<text font-family=\"Times,serif\" font-size=\"14.00\" text-anchor=\"middle\" x=\"223\" y=\"-306.8\">InputLayer</text>\n",
       "</g>\n",
       "<!-- 139637296736464 -->\n",
       "<g class=\"node\" id=\"node4\"><title>139637296736464</title>\n",
       "<polygon fill=\"none\" points=\"196,-219.5 196,-255.5 250,-255.5 250,-219.5 196,-219.5\" stroke=\"black\"/>\n",
       "<text font-family=\"Times,serif\" font-size=\"14.00\" text-anchor=\"middle\" x=\"223\" y=\"-233.8\">Dense</text>\n",
       "</g>\n",
       "<!-- 139631092124864&#45;&gt;139637296736464 -->\n",
       "<g class=\"edge\" id=\"edge2\"><title>139631092124864-&gt;139637296736464</title>\n",
       "<path d=\"M223,-292.313C223,-284.289 223,-274.547 223,-265.569\" fill=\"none\" stroke=\"black\"/>\n",
       "<polygon fill=\"black\" points=\"226.5,-265.529 223,-255.529 219.5,-265.529 226.5,-265.529\" stroke=\"black\"/>\n",
       "</g>\n",
       "<!-- 139631091916872 -->\n",
       "<g class=\"node\" id=\"node5\"><title>139631091916872</title>\n",
       "<polygon fill=\"none\" points=\"93,-146.5 93,-182.5 147,-182.5 147,-146.5 93,-146.5\" stroke=\"black\"/>\n",
       "<text font-family=\"Times,serif\" font-size=\"14.00\" text-anchor=\"middle\" x=\"120\" y=\"-160.8\">Dense</text>\n",
       "</g>\n",
       "<!-- 139631091744216&#45;&gt;139631091916872 -->\n",
       "<g class=\"edge\" id=\"edge3\"><title>139631091744216-&gt;139631091916872</title>\n",
       "<path d=\"M96.5042,-219.313C100.084,-211.115 104.446,-201.123 108.436,-191.985\" fill=\"none\" stroke=\"black\"/>\n",
       "<polygon fill=\"black\" points=\"111.771,-193.094 112.565,-182.529 105.356,-190.293 111.771,-193.094\" stroke=\"black\"/>\n",
       "</g>\n",
       "<!-- 139631089591912 -->\n",
       "<g class=\"node\" id=\"node6\"><title>139631089591912</title>\n",
       "<polygon fill=\"none\" points=\"180,-146.5 180,-182.5 234,-182.5 234,-146.5 180,-146.5\" stroke=\"black\"/>\n",
       "<text font-family=\"Times,serif\" font-size=\"14.00\" text-anchor=\"middle\" x=\"207\" y=\"-160.8\">Dense</text>\n",
       "</g>\n",
       "<!-- 139637296736464&#45;&gt;139631089591912 -->\n",
       "<g class=\"edge\" id=\"edge4\"><title>139637296736464-&gt;139631089591912</title>\n",
       "<path d=\"M219.127,-219.313C217.319,-211.289 215.123,-201.547 213.1,-192.569\" fill=\"none\" stroke=\"black\"/>\n",
       "<polygon fill=\"black\" points=\"216.45,-191.515 210.837,-182.529 209.622,-193.054 216.45,-191.515\" stroke=\"black\"/>\n",
       "</g>\n",
       "<!-- 139631089044056 -->\n",
       "<g class=\"node\" id=\"node7\"><title>139631089044056</title>\n",
       "<polygon fill=\"none\" points=\"121.5,-73.5 121.5,-109.5 204.5,-109.5 204.5,-73.5 121.5,-73.5\" stroke=\"black\"/>\n",
       "<text font-family=\"Times,serif\" font-size=\"14.00\" text-anchor=\"middle\" x=\"163\" y=\"-87.8\">Concatenate</text>\n",
       "</g>\n",
       "<!-- 139631091916872&#45;&gt;139631089044056 -->\n",
       "<g class=\"edge\" id=\"edge5\"><title>139631091916872-&gt;139631089044056</title>\n",
       "<path d=\"M130.409,-146.313C135.532,-137.853 141.813,-127.484 147.488,-118.112\" fill=\"none\" stroke=\"black\"/>\n",
       "<polygon fill=\"black\" points=\"150.5,-119.896 152.687,-109.529 144.513,-116.269 150.5,-119.896\" stroke=\"black\"/>\n",
       "</g>\n",
       "<!-- 139631089591912&#45;&gt;139631089044056 -->\n",
       "<g class=\"edge\" id=\"edge6\"><title>139631089591912-&gt;139631089044056</title>\n",
       "<path d=\"M196.349,-146.313C191.106,-137.853 184.68,-127.484 178.873,-118.112\" fill=\"none\" stroke=\"black\"/>\n",
       "<polygon fill=\"black\" points=\"181.796,-116.185 173.553,-109.529 175.846,-119.873 181.796,-116.185\" stroke=\"black\"/>\n",
       "</g>\n",
       "<!-- 139631089045344 -->\n",
       "<g class=\"node\" id=\"node8\"><title>139631089045344</title>\n",
       "<polygon fill=\"none\" points=\"136,-0.5 136,-36.5 190,-36.5 190,-0.5 136,-0.5\" stroke=\"black\"/>\n",
       "<text font-family=\"Times,serif\" font-size=\"14.00\" text-anchor=\"middle\" x=\"163\" y=\"-14.8\">Dense</text>\n",
       "</g>\n",
       "<!-- 139631089044056&#45;&gt;139631089045344 -->\n",
       "<g class=\"edge\" id=\"edge7\"><title>139631089044056-&gt;139631089045344</title>\n",
       "<path d=\"M163,-73.3129C163,-65.2895 163,-55.5475 163,-46.5691\" fill=\"none\" stroke=\"black\"/>\n",
       "<polygon fill=\"black\" points=\"166.5,-46.5288 163,-36.5288 159.5,-46.5289 166.5,-46.5288\" stroke=\"black\"/>\n",
       "</g>\n",
       "</g>\n",
       "</svg>"
      ],
      "text/plain": [
       "<IPython.core.display.SVG object>"
      ]
     },
     "execution_count": 10,
     "metadata": {},
     "output_type": "execute_result"
    }
   ],
   "source": [
    "from IPython.display import Image, SVG\n",
    "\n",
    "\n",
    "plot_model(merge_model, to_file='merge_model.svg', show_layer_names=False)\n",
    "SVG('merge_model.svg')"
   ]
  },
  {
   "cell_type": "code",
   "execution_count": 26,
   "metadata": {},
   "outputs": [
    {
     "data": {
      "image/svg+xml": [
       "<svg height=\"410pt\" viewBox=\"0.00 0.00 186.00 410.00\" width=\"186pt\" xmlns=\"http://www.w3.org/2000/svg\" xmlns:xlink=\"http://www.w3.org/1999/xlink\">\n",
       "<g class=\"graph\" id=\"graph0\" transform=\"scale(1 1) rotate(0) translate(4 406)\">\n",
       "<title>G</title>\n",
       "<polygon fill=\"white\" points=\"-4,4 -4,-406 182,-406 182,4 -4,4\" stroke=\"none\"/>\n",
       "<!-- 140014212813264 -->\n",
       "<g class=\"node\" id=\"node1\"><title>140014212813264</title>\n",
       "<polygon fill=\"none\" points=\"50.5,-365.5 50.5,-401.5 127.5,-401.5 127.5,-365.5 50.5,-365.5\" stroke=\"black\"/>\n",
       "<text font-family=\"Times,serif\" font-size=\"14.00\" text-anchor=\"middle\" x=\"89\" y=\"-379.8\">InputLayer</text>\n",
       "</g>\n",
       "<!-- 140013569210464 -->\n",
       "<g class=\"node\" id=\"node2\"><title>140013569210464</title>\n",
       "<polygon fill=\"none\" points=\"-1.42109e-14,-292.5 -1.42109e-14,-328.5 178,-328.5 178,-292.5 -1.42109e-14,-292.5\" stroke=\"black\"/>\n",
       "<text font-family=\"Times,serif\" font-size=\"14.00\" text-anchor=\"middle\" x=\"89\" y=\"-306.8\">Bidirectional(CuDNNLSTM)</text>\n",
       "</g>\n",
       "<!-- 140014212813264&#45;&gt;140013569210464 -->\n",
       "<g class=\"edge\" id=\"edge1\"><title>140014212813264-&gt;140013569210464</title>\n",
       "<path d=\"M89,-365.313C89,-357.289 89,-347.547 89,-338.569\" fill=\"none\" stroke=\"black\"/>\n",
       "<polygon fill=\"black\" points=\"92.5001,-338.529 89,-328.529 85.5001,-338.529 92.5001,-338.529\" stroke=\"black\"/>\n",
       "</g>\n",
       "<!-- 140013569064240 -->\n",
       "<g class=\"node\" id=\"node3\"><title>140013569064240</title>\n",
       "<polygon fill=\"none\" points=\"58,-219.5 58,-255.5 120,-255.5 120,-219.5 58,-219.5\" stroke=\"black\"/>\n",
       "<text font-family=\"Times,serif\" font-size=\"14.00\" text-anchor=\"middle\" x=\"89\" y=\"-233.8\">Dropout</text>\n",
       "</g>\n",
       "<!-- 140013569210464&#45;&gt;140013569064240 -->\n",
       "<g class=\"edge\" id=\"edge2\"><title>140013569210464-&gt;140013569064240</title>\n",
       "<path d=\"M89,-292.313C89,-284.289 89,-274.547 89,-265.569\" fill=\"none\" stroke=\"black\"/>\n",
       "<polygon fill=\"black\" points=\"92.5001,-265.529 89,-255.529 85.5001,-265.529 92.5001,-265.529\" stroke=\"black\"/>\n",
       "</g>\n",
       "<!-- 140013569211304 -->\n",
       "<g class=\"node\" id=\"node4\"><title>140013569211304</title>\n",
       "<polygon fill=\"none\" points=\"62,-146.5 62,-182.5 116,-182.5 116,-146.5 62,-146.5\" stroke=\"black\"/>\n",
       "<text font-family=\"Times,serif\" font-size=\"14.00\" text-anchor=\"middle\" x=\"89\" y=\"-160.8\">Dense</text>\n",
       "</g>\n",
       "<!-- 140013569064240&#45;&gt;140013569211304 -->\n",
       "<g class=\"edge\" id=\"edge3\"><title>140013569064240-&gt;140013569211304</title>\n",
       "<path d=\"M89,-219.313C89,-211.289 89,-201.547 89,-192.569\" fill=\"none\" stroke=\"black\"/>\n",
       "<polygon fill=\"black\" points=\"92.5001,-192.529 89,-182.529 85.5001,-192.529 92.5001,-192.529\" stroke=\"black\"/>\n",
       "</g>\n",
       "<!-- 140013566407512 -->\n",
       "<g class=\"node\" id=\"node5\"><title>140013566407512</title>\n",
       "<polygon fill=\"none\" points=\"58,-73.5 58,-109.5 120,-109.5 120,-73.5 58,-73.5\" stroke=\"black\"/>\n",
       "<text font-family=\"Times,serif\" font-size=\"14.00\" text-anchor=\"middle\" x=\"89\" y=\"-87.8\">Dropout</text>\n",
       "</g>\n",
       "<!-- 140013569211304&#45;&gt;140013566407512 -->\n",
       "<g class=\"edge\" id=\"edge4\"><title>140013569211304-&gt;140013566407512</title>\n",
       "<path d=\"M89,-146.313C89,-138.289 89,-128.547 89,-119.569\" fill=\"none\" stroke=\"black\"/>\n",
       "<polygon fill=\"black\" points=\"92.5001,-119.529 89,-109.529 85.5001,-119.529 92.5001,-119.529\" stroke=\"black\"/>\n",
       "</g>\n",
       "<!-- 140013566409360 -->\n",
       "<g class=\"node\" id=\"node6\"><title>140013566409360</title>\n",
       "<polygon fill=\"none\" points=\"62,-0.5 62,-36.5 116,-36.5 116,-0.5 62,-0.5\" stroke=\"black\"/>\n",
       "<text font-family=\"Times,serif\" font-size=\"14.00\" text-anchor=\"middle\" x=\"89\" y=\"-14.8\">Dense</text>\n",
       "</g>\n",
       "<!-- 140013566407512&#45;&gt;140013566409360 -->\n",
       "<g class=\"edge\" id=\"edge5\"><title>140013566407512-&gt;140013566409360</title>\n",
       "<path d=\"M89,-73.3129C89,-65.2895 89,-55.5475 89,-46.5691\" fill=\"none\" stroke=\"black\"/>\n",
       "<polygon fill=\"black\" points=\"92.5001,-46.5288 89,-36.5288 85.5001,-46.5289 92.5001,-46.5288\" stroke=\"black\"/>\n",
       "</g>\n",
       "</g>\n",
       "</svg>"
      ],
      "text/plain": [
       "<IPython.core.display.SVG object>"
      ]
     },
     "execution_count": 26,
     "metadata": {},
     "output_type": "execute_result"
    }
   ],
   "source": [
    "from IPython.display import Image, SVG\n",
    "\n",
    "\n",
    "plot_model(elmo_model, to_file='elmo_model.pdf', show_layer_names=False)\n",
    "SVG('elmo_model.svg')"
   ]
  },
  {
   "cell_type": "code",
   "execution_count": 14,
   "metadata": {},
   "outputs": [],
   "source": [
    "X_train, y_train = df_train[\"text\"], df_train[\"HS\"]\n",
    "X_dev, y_dev = df_dev[\"text\"], df_dev[\"HS\"]"
   ]
  }
 ],
 "metadata": {
  "kernelspec": {
   "display_name": "Python 3",
   "language": "python",
   "name": "python3"
  },
  "language_info": {
   "codemirror_mode": {
    "name": "ipython",
    "version": 3
   },
   "file_extension": ".py",
   "mimetype": "text/x-python",
   "name": "python",
   "nbconvert_exporter": "python",
   "pygments_lexer": "ipython3",
   "version": "3.6.5"
  }
 },
 "nbformat": 4,
 "nbformat_minor": 2
}
