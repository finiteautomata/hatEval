{
 "cells": [
  {
   "cell_type": "markdown",
   "metadata": {},
   "source": [
    "# LSTM con embeddings\n",
    "\n",
    "Modelo básico con los embeddings de fasttext"
   ]
  },
  {
   "cell_type": "code",
   "execution_count": 1,
   "metadata": {},
   "outputs": [
    {
     "name": "stdout",
     "output_type": "stream",
     "text": [
      "Instancias de entrenamiento: 4500\n",
      "Instancias de desarrollo: 500\n"
     ]
    }
   ],
   "source": [
    "import pandas as pd\n",
    "import csv\n",
    "import numpy as np\n",
    "import tensorflow as tf\n",
    "import random\n",
    "\n",
    "np.random.seed(2019)\n",
    "tf.random.set_random_seed(2019)\n",
    "random.seed(2019)\n",
    "\n",
    "df_dev = pd.read_table(\"../../../data/es/dev_es.tsv\", index_col=\"id\", quoting=csv.QUOTE_NONE)\n",
    "df_train = pd.read_table(\"../../../data/es/train_es.tsv\", index_col=\"id\", quoting=csv.QUOTE_NONE)\n",
    "df_test = pd.read_table(\"../../../data/es/reference_es.tsv\", header=None, \n",
    "                        names=[\"text\", \"HS\", \"TR\", \"AG\"], quoting=csv.QUOTE_NONE)\n",
    "\n",
    "\n",
    "text_train, y_train = df_train[\"text\"], df_train[\"HS\"]\n",
    "text_dev, y_dev = df_dev[\"text\"], df_dev[\"HS\"]\n",
    "text_test, y_test = df_test[\"text\"], df_test[\"HS\"]\n",
    "\n",
    "print(\"Instancias de entrenamiento: {}\".format(len(df_train)))\n",
    "print(\"Instancias de desarrollo: {}\".format(len(df_dev)))\n"
   ]
  },
  {
   "cell_type": "markdown",
   "metadata": {},
   "source": [
    "Tengo que hacer dos cosas:\n",
    "\n",
    "- Primero, convertir los tweets a secuencias de texto\n",
    "- Luego, paddear las secuencias a cierta longitud (Keras necesita esto para poder paralelizar cálculo)"
   ]
  },
  {
   "cell_type": "code",
   "execution_count": 2,
   "metadata": {},
   "outputs": [
    {
     "name": "stderr",
     "output_type": "stream",
     "text": [
      "Using TensorFlow backend.\n"
     ]
    }
   ],
   "source": [
    "from keras.preprocessing.text import Tokenizer\n",
    "from keras.preprocessing.sequence import pad_sequences\n",
    "\n",
    "num_words = 200000\n",
    "\n",
    "tokenizer = Tokenizer(num_words=num_words)\n",
    "tokenizer.fit_on_texts(text_train)\n",
    "\n",
    "X_train = tokenizer.texts_to_sequences(text_train)\n",
    "X_dev = tokenizer.texts_to_sequences(text_dev)\n",
    "X_test = tokenizer.texts_to_sequences(text_test)\n",
    "max_length = 30\n",
    "\n",
    "X_train = pad_sequences(X_train, max_length)\n",
    "X_dev = pad_sequences(X_dev, max_length)\n",
    "X_test = pad_sequences(X_test, max_length)"
   ]
  },
  {
   "cell_type": "markdown",
   "metadata": {},
   "source": [
    "Carguemos embeddings"
   ]
  },
  {
   "cell_type": "code",
   "execution_count": 3,
   "metadata": {},
   "outputs": [
    {
     "name": "stdout",
     "output_type": "stream",
     "text": [
      "Available embeddings:  ['/home/jmperez/WordVectors/UBA_w5_200.vec', '/home/jmperez/WordVectors/wiki.es.vec', '/home/jmperez/WordVectors/UBA_w5_300.vec']\n"
     ]
    }
   ],
   "source": [
    "import os\n",
    "from glob import glob\n",
    "\n",
    "path_to_embeddings = os.path.expanduser(\"/home/jmperez/WordVectors/\")\n",
    "\n",
    "print(\"Available embeddings: \", glob(os.path.join(path_to_embeddings, \"*.vec\")))"
   ]
  },
  {
   "cell_type": "markdown",
   "metadata": {},
   "source": [
    "# Twitter Embeddings"
   ]
  },
  {
   "cell_type": "code",
   "execution_count": 4,
   "metadata": {},
   "outputs": [
    {
     "name": "stdout",
     "output_type": "stream",
     "text": [
      "********************************************************************************\n",
      "********************************************************************************\n",
      "********************************************************************************\n",
      "\n",
      "Problema con la sig línea:\n",
      "['.', '.', '-0.22232', '0.0052569', '0.47066', '0.13836', '0.15991', '0.19504', '0.00067885', '0.020299']\n",
      "********************************************************************************\n",
      "********************************************************************************\n",
      "********************************************************************************\n",
      "\n",
      "Problema con la sig línea:\n",
      "['.', '...', '-0.11666', '-0.083768', '0.028919', '0.29973', '0.21017', '0.27808', '0.063251', '0.090223']\n",
      "********************************************************************************\n",
      "********************************************************************************\n",
      "********************************************************************************\n",
      "\n",
      "Problema con la sig línea:\n",
      "['.', '..', '-0.43752', '-0.0016885', '0.1533', '0.28071', '0.18051', '0.28698', '0.11806', '0.044891']\n"
     ]
    }
   ],
   "source": [
    "import numpy as np\n",
    "\n",
    "word_to_vec = {}\n",
    "\n",
    "with open(os.path.join(path_to_embeddings, \"UBA_w5_300.vec\")) as f:\n",
    "    for line in f:\n",
    "        values = line.split()\n",
    "        word = values[0]\n",
    "        try:\n",
    "            vec = np.asarray(values[1:], dtype=\"float32\")\n",
    "        except:\n",
    "            print((\"*\" * 80  + \"\\n\")*3)\n",
    "            print(\"Problema con la sig línea:\")\n",
    "            print(values[:10])\n",
    "            word = values[1]\n",
    "            vec = np.asarray(values[2:], dtype=\"float32\")\n",
    "        word_to_vec[word] = vec\n",
    "        \n",
    "embedding_size = len(word_to_vec[\"hola\"])"
   ]
  },
  {
   "cell_type": "code",
   "execution_count": 5,
   "metadata": {},
   "outputs": [],
   "source": [
    "# create a weight matrix for words in training docs\n",
    "embedding_matrix = np.zeros((num_words, embedding_size))\n",
    "for word, i in tokenizer.word_index.items():\n",
    "    embedding_vector = word_to_vec.get(word)\n",
    "    if embedding_vector is not None:\n",
    "        embedding_matrix[i] = embedding_vector"
   ]
  },
  {
   "cell_type": "code",
   "execution_count": 6,
   "metadata": {},
   "outputs": [
    {
     "data": {
      "text/plain": [
       "(200000, 300)"
      ]
     },
     "execution_count": 6,
     "metadata": {},
     "output_type": "execute_result"
    }
   ],
   "source": [
    "embedding_matrix.shape"
   ]
  },
  {
   "cell_type": "code",
   "execution_count": 7,
   "metadata": {},
   "outputs": [],
   "source": [
    "from keras.models import Sequential\n",
    "from keras.layers import Dense\n",
    "from keras.layers import CuDNNLSTM, Dropout, Conv1D, Flatten\n",
    "from keras.layers.embeddings import Embedding\n",
    "from keras.optimizers import Adam\n",
    "from keras.preprocessing import sequence\n",
    "\n",
    "\n",
    "model = Sequential()\n",
    "model.add(Embedding(num_words, embedding_size, input_length=max_length, \n",
    "                    weights=[embedding_matrix], trainable=False))\n",
    "model.add(CuDNNLSTM(100, return_sequences=True))\n",
    "model.add(Dropout(0.5))\n",
    "model.add(Conv1D(64, 3, activation='relu'))\n",
    "model.add(Flatten())\n",
    "model.add(Dense(128, activation='relu'))\n",
    "model.add(Dropout(0.5))\n",
    "model.add(Dense(1, activation='sigmoid'))\n",
    "\n",
    "optimizer_args = {\n",
    "    \"lr\": 0.001,\n",
    "    \"decay\": 0.01\n",
    "}\n",
    "\n",
    "model.compile(loss='binary_crossentropy', \n",
    "              optimizer=Adam(**optimizer_args), \n",
    "              metrics=['accuracy'])"
   ]
  },
  {
   "cell_type": "code",
   "execution_count": 8,
   "metadata": {},
   "outputs": [
    {
     "name": "stdout",
     "output_type": "stream",
     "text": [
      "WARNING:tensorflow:Variable *= will be deprecated. Use `var.assign(var * other)` if you want assignment to the variable value or `x = x * y` if you want a new python Tensor object.\n",
      "Train on 4500 samples, validate on 500 samples\n",
      "Epoch 1/20\n",
      "4500/4500 [==============================] - 3s 616us/step - loss: 0.6452 - acc: 0.6369 - val_loss: 0.6090 - val_acc: 0.6680\n",
      "Epoch 2/20\n",
      "4500/4500 [==============================] - 1s 324us/step - loss: 0.5482 - acc: 0.7296 - val_loss: 0.5503 - val_acc: 0.7280\n",
      "Epoch 3/20\n",
      "4500/4500 [==============================] - 1s 327us/step - loss: 0.4957 - acc: 0.7698 - val_loss: 0.5484 - val_acc: 0.7260\n",
      "Epoch 4/20\n",
      "4500/4500 [==============================] - 1s 323us/step - loss: 0.4606 - acc: 0.7829 - val_loss: 0.5216 - val_acc: 0.7540\n",
      "Epoch 5/20\n",
      "4500/4500 [==============================] - 1s 326us/step - loss: 0.4397 - acc: 0.7969 - val_loss: 0.5207 - val_acc: 0.7360\n",
      "Epoch 6/20\n",
      "4500/4500 [==============================] - 1s 328us/step - loss: 0.4171 - acc: 0.8111 - val_loss: 0.5179 - val_acc: 0.7540\n",
      "Epoch 7/20\n",
      "4500/4500 [==============================] - 1s 331us/step - loss: 0.3986 - acc: 0.8244 - val_loss: 0.5125 - val_acc: 0.7520\n",
      "Epoch 8/20\n",
      "4500/4500 [==============================] - 1s 326us/step - loss: 0.3809 - acc: 0.8247 - val_loss: 0.5147 - val_acc: 0.7580\n",
      "Epoch 9/20\n",
      "4500/4500 [==============================] - 1s 329us/step - loss: 0.3659 - acc: 0.8391 - val_loss: 0.5076 - val_acc: 0.7740\n",
      "Epoch 10/20\n",
      "4500/4500 [==============================] - 1s 329us/step - loss: 0.3524 - acc: 0.8478 - val_loss: 0.5305 - val_acc: 0.7380\n",
      "Epoch 11/20\n",
      "4500/4500 [==============================] - 1s 330us/step - loss: 0.3436 - acc: 0.8520 - val_loss: 0.5098 - val_acc: 0.7640\n",
      "Epoch 12/20\n",
      "4500/4500 [==============================] - 1s 329us/step - loss: 0.3343 - acc: 0.8504 - val_loss: 0.5283 - val_acc: 0.7620\n",
      "Epoch 13/20\n",
      "4500/4500 [==============================] - 1s 328us/step - loss: 0.3233 - acc: 0.8611 - val_loss: 0.5231 - val_acc: 0.7600\n",
      "Epoch 14/20\n",
      "4500/4500 [==============================] - 1s 328us/step - loss: 0.3135 - acc: 0.8713 - val_loss: 0.5243 - val_acc: 0.7540\n",
      "Epoch 15/20\n",
      "4500/4500 [==============================] - 2s 335us/step - loss: 0.3020 - acc: 0.8644 - val_loss: 0.5253 - val_acc: 0.7680\n",
      "Epoch 16/20\n",
      "4500/4500 [==============================] - 1s 328us/step - loss: 0.3009 - acc: 0.8704 - val_loss: 0.5443 - val_acc: 0.7660\n",
      "Epoch 17/20\n",
      "4500/4500 [==============================] - 1s 325us/step - loss: 0.2911 - acc: 0.8782 - val_loss: 0.5610 - val_acc: 0.7740\n",
      "Epoch 18/20\n",
      "4500/4500 [==============================] - 1s 328us/step - loss: 0.2865 - acc: 0.8804 - val_loss: 0.5452 - val_acc: 0.7580\n",
      "Epoch 19/20\n",
      "4500/4500 [==============================] - 1s 330us/step - loss: 0.2860 - acc: 0.8782 - val_loss: 0.5485 - val_acc: 0.7620\n",
      "Epoch 20/20\n",
      "4500/4500 [==============================] - 1s 331us/step - loss: 0.2746 - acc: 0.8833 - val_loss: 0.5589 - val_acc: 0.7700\n"
     ]
    },
    {
     "data": {
      "text/plain": [
       "<keras.callbacks.History at 0x7fbe5435b588>"
      ]
     },
     "execution_count": 8,
     "metadata": {},
     "output_type": "execute_result"
    }
   ],
   "source": [
    "model.fit(X_train, y_train, validation_data=(X_dev, y_dev), epochs=20, batch_size=32)\n"
   ]
  },
  {
   "cell_type": "code",
   "execution_count": 9,
   "metadata": {},
   "outputs": [
    {
     "name": "stdout",
     "output_type": "stream",
     "text": [
      "Evaluación sobre dev\n",
      "500/500 [==============================] - 0s 105us/step\n",
      "Loss           : 0.5589\n",
      "Accuracy       : 0.7700\n",
      "Precision(1)   : 0.7421\n",
      "Precision(1)   : 0.7921\n",
      "Precision(avg) : 0.7671\n",
      "\n",
      "Recall(1)      : 0.7387\n",
      "Recall(0)      : 0.7950\n",
      "Recall(avg)    : 0.7669\n",
      "\n",
      "F1(1)          : 0.7404\n",
      "F1(0)          : 0.7935\n",
      "F1(avg)        : 0.7670\n",
      "\n",
      "\n",
      "Evaluación sobre test\n",
      "1600/1600 [==============================] - 0s 111us/step\n",
      "Loss           : 0.6933\n",
      "Accuracy       : 0.6925\n",
      "Precision(1)   : 0.6135\n",
      "Precision(1)   : 0.7605\n",
      "Precision(avg) : 0.6870\n",
      "\n",
      "Recall(1)      : 0.6879\n",
      "Recall(0)      : 0.6957\n",
      "Recall(avg)    : 0.6918\n",
      "\n",
      "F1(1)          : 0.6486\n",
      "F1(0)          : 0.7267\n",
      "F1(avg)        : 0.6876\n"
     ]
    }
   ],
   "source": [
    "from hate.utils import print_evaluation\n",
    "\n",
    "print(\"Evaluación sobre dev\")\n",
    "print_evaluation(model, X_dev, y_dev)\n",
    "print(\"\\n\\nEvaluación sobre test\")\n",
    "print_evaluation(model, X_test, y_test)\n",
    "\n"
   ]
  },
  {
   "cell_type": "markdown",
   "metadata": {},
   "source": [
    "## Bidirectional LSTM"
   ]
  },
  {
   "cell_type": "code",
   "execution_count": 13,
   "metadata": {},
   "outputs": [],
   "source": [
    "from keras.layers import Bidirectional\n",
    "from keras.layers.embeddings import Embedding\n",
    "from keras.preprocessing import sequence\n",
    "from keras.models import Sequential\n",
    "from keras.layers import Dense\n",
    "from keras.layers import LSTM, Dropout, Conv1D, Flatten, Bidirectional\n",
    "from keras.layers.embeddings import Embedding\n",
    "from keras.preprocessing import sequence\n",
    "\n",
    "\n",
    "model = Sequential()\n",
    "model.add(Embedding(num_words, embedding_size, input_length=max_length, \n",
    "                    weights=[embedding_matrix], trainable=False))\n",
    "model.add(Bidirectional(CuDNNLSTM(100, return_sequences=True)))\n",
    "model.add(Dropout(0.5))\n",
    "model.add(Conv1D(64, 3, activation='relu'))\n",
    "model.add(Flatten())\n",
    "model.add(Dense(128, activation='relu'))\n",
    "model.add(Dropout(0.5))\n",
    "model.add(Dense(1, activation='sigmoid'))\n",
    "\n",
    "optimizer_args = {\n",
    "    \"lr\": 0.001,\n",
    "    \"decay\": 0.01\n",
    "}\n",
    "\n",
    "model.compile(loss='binary_crossentropy', \n",
    "              optimizer=Adam(**optimizer_args), \n",
    "              metrics=['accuracy'])"
   ]
  },
  {
   "cell_type": "code",
   "execution_count": 14,
   "metadata": {},
   "outputs": [
    {
     "name": "stdout",
     "output_type": "stream",
     "text": [
      "Train on 4500 samples, validate on 500 samples\n",
      "Epoch 1/20\n",
      "4500/4500 [==============================] - 14s 3ms/step - loss: 0.6167 - acc: 0.6598 - val_loss: 0.6379 - val_acc: 0.6540\n",
      "Epoch 2/20\n",
      "4500/4500 [==============================] - 12s 3ms/step - loss: 0.5100 - acc: 0.7529 - val_loss: 0.6359 - val_acc: 0.6320\n",
      "Epoch 3/20\n",
      "4500/4500 [==============================] - 12s 3ms/step - loss: 0.4582 - acc: 0.7882 - val_loss: 0.5076 - val_acc: 0.7520\n",
      "Epoch 4/20\n",
      "4500/4500 [==============================] - 12s 3ms/step - loss: 0.4246 - acc: 0.8071 - val_loss: 0.5161 - val_acc: 0.7440\n",
      "Epoch 5/20\n",
      "4500/4500 [==============================] - 12s 3ms/step - loss: 0.3954 - acc: 0.8198 - val_loss: 0.4887 - val_acc: 0.7520\n",
      "Epoch 6/20\n",
      "4500/4500 [==============================] - 12s 3ms/step - loss: 0.3765 - acc: 0.8313 - val_loss: 0.4759 - val_acc: 0.7820\n",
      "Epoch 7/20\n",
      "4500/4500 [==============================] - 12s 3ms/step - loss: 0.3531 - acc: 0.8438 - val_loss: 0.4841 - val_acc: 0.7700\n",
      "Epoch 8/20\n",
      "4500/4500 [==============================] - 12s 3ms/step - loss: 0.3416 - acc: 0.8487 - val_loss: 0.4768 - val_acc: 0.7820\n",
      "Epoch 9/20\n",
      "4500/4500 [==============================] - 12s 3ms/step - loss: 0.3202 - acc: 0.8609 - val_loss: 0.5203 - val_acc: 0.7500\n",
      "Epoch 10/20\n",
      "4500/4500 [==============================] - 12s 3ms/step - loss: 0.3069 - acc: 0.8724 - val_loss: 0.4876 - val_acc: 0.7560\n",
      "Epoch 11/20\n",
      "4500/4500 [==============================] - 12s 3ms/step - loss: 0.2909 - acc: 0.8758 - val_loss: 0.5011 - val_acc: 0.7620\n",
      "Epoch 12/20\n",
      "4500/4500 [==============================] - 12s 3ms/step - loss: 0.2793 - acc: 0.8860 - val_loss: 0.5067 - val_acc: 0.7760\n",
      "Epoch 13/20\n",
      "4500/4500 [==============================] - 12s 3ms/step - loss: 0.2715 - acc: 0.8862 - val_loss: 0.5000 - val_acc: 0.7800\n",
      "Epoch 14/20\n",
      "4500/4500 [==============================] - 12s 3ms/step - loss: 0.2660 - acc: 0.8907 - val_loss: 0.5087 - val_acc: 0.7820\n",
      "Epoch 15/20\n",
      "4500/4500 [==============================] - 12s 3ms/step - loss: 0.2535 - acc: 0.8989 - val_loss: 0.5261 - val_acc: 0.7700\n",
      "Epoch 16/20\n",
      "4500/4500 [==============================] - 12s 3ms/step - loss: 0.2422 - acc: 0.9044 - val_loss: 0.5271 - val_acc: 0.7860\n",
      "Epoch 17/20\n",
      "4500/4500 [==============================] - 12s 3ms/step - loss: 0.2353 - acc: 0.9018 - val_loss: 0.5545 - val_acc: 0.7840\n",
      "Epoch 18/20\n",
      "4500/4500 [==============================] - 12s 3ms/step - loss: 0.2271 - acc: 0.9089 - val_loss: 0.5548 - val_acc: 0.7880\n",
      "Epoch 19/20\n",
      "4500/4500 [==============================] - 12s 3ms/step - loss: 0.2181 - acc: 0.9102 - val_loss: 0.5542 - val_acc: 0.7900\n",
      "Epoch 20/20\n",
      "4500/4500 [==============================] - 12s 3ms/step - loss: 0.2107 - acc: 0.9180 - val_loss: 0.5671 - val_acc: 0.7840\n"
     ]
    },
    {
     "data": {
      "text/plain": [
       "<keras.callbacks.History at 0x7f0d937aca90>"
      ]
     },
     "execution_count": 14,
     "metadata": {},
     "output_type": "execute_result"
    }
   ],
   "source": [
    "model.fit(X_train, y_train, validation_data=(X_dev, y_dev), epochs=20, batch_size=32)\n"
   ]
  },
  {
   "cell_type": "code",
   "execution_count": 10,
   "metadata": {},
   "outputs": [
    {
     "name": "stdout",
     "output_type": "stream",
     "text": [
      "Evaluación sobre dev\n",
      "500/500 [==============================] - 0s 124us/step\n",
      "Loss           : 0.5589\n",
      "Accuracy       : 0.7700\n",
      "Precision(1)   : 0.7421\n",
      "Precision(1)   : 0.7921\n",
      "Precision(avg) : 0.7671\n",
      "\n",
      "Recall(1)      : 0.7387\n",
      "Recall(0)      : 0.7950\n",
      "Recall(avg)    : 0.7669\n",
      "\n",
      "F1(1)          : 0.7404\n",
      "F1(0)          : 0.7935\n",
      "F1(avg)        : 0.7670\n",
      "\n",
      "\n",
      "Evaluación sobre test\n",
      "1600/1600 [==============================] - 0s 115us/step\n",
      "Loss           : 0.6933\n",
      "Accuracy       : 0.6925\n",
      "Precision(1)   : 0.6135\n",
      "Precision(1)   : 0.7605\n",
      "Precision(avg) : 0.6870\n",
      "\n",
      "Recall(1)      : 0.6879\n",
      "Recall(0)      : 0.6957\n",
      "Recall(avg)    : 0.6918\n",
      "\n",
      "F1(1)          : 0.6486\n",
      "F1(0)          : 0.7267\n",
      "F1(avg)        : 0.6876\n"
     ]
    }
   ],
   "source": [
    "from hate.utils import print_evaluation\n",
    "\n",
    "print(\"Evaluación sobre dev\")\n",
    "print_evaluation(model, X_dev, y_dev)\n",
    "print(\"\\n\\nEvaluación sobre test\")\n",
    "print_evaluation(model, X_test, y_test)\n",
    "\n"
   ]
  },
  {
   "cell_type": "markdown",
   "metadata": {},
   "source": [
    "## Probemos GRU + Conv"
   ]
  },
  {
   "cell_type": "code",
   "execution_count": 11,
   "metadata": {},
   "outputs": [
    {
     "name": "stdout",
     "output_type": "stream",
     "text": [
      "Train on 4500 samples, validate on 500 samples\n",
      "Epoch 1/20\n",
      "4500/4500 [==============================] - 2s 431us/step - loss: 0.6085 - acc: 0.6700 - val_loss: 0.5627 - val_acc: 0.7120\n",
      "Epoch 2/20\n",
      "4500/4500 [==============================] - 1s 320us/step - loss: 0.5111 - acc: 0.7618 - val_loss: 0.5400 - val_acc: 0.7340\n",
      "Epoch 3/20\n",
      "4500/4500 [==============================] - 1s 325us/step - loss: 0.4651 - acc: 0.7836 - val_loss: 0.5369 - val_acc: 0.7500\n",
      "Epoch 4/20\n",
      "4500/4500 [==============================] - 1s 322us/step - loss: 0.4376 - acc: 0.7996 - val_loss: 0.5376 - val_acc: 0.7500\n",
      "Epoch 5/20\n",
      "4500/4500 [==============================] - 1s 326us/step - loss: 0.4189 - acc: 0.8060 - val_loss: 0.5361 - val_acc: 0.7500\n",
      "Epoch 6/20\n",
      "4500/4500 [==============================] - 1s 325us/step - loss: 0.3947 - acc: 0.8196 - val_loss: 0.5304 - val_acc: 0.7480\n",
      "Epoch 7/20\n",
      "4500/4500 [==============================] - 1s 321us/step - loss: 0.3914 - acc: 0.8280 - val_loss: 0.5391 - val_acc: 0.7340\n",
      "Epoch 8/20\n",
      "4500/4500 [==============================] - 1s 322us/step - loss: 0.3707 - acc: 0.8431 - val_loss: 0.5535 - val_acc: 0.7400\n",
      "Epoch 9/20\n",
      "4500/4500 [==============================] - 1s 323us/step - loss: 0.3578 - acc: 0.8447 - val_loss: 0.5370 - val_acc: 0.7640\n",
      "Epoch 10/20\n",
      "4500/4500 [==============================] - 1s 328us/step - loss: 0.3519 - acc: 0.8511 - val_loss: 0.5479 - val_acc: 0.7460\n",
      "Epoch 11/20\n",
      "4500/4500 [==============================] - 1s 320us/step - loss: 0.3469 - acc: 0.8516 - val_loss: 0.5438 - val_acc: 0.7560\n",
      "Epoch 12/20\n",
      "4500/4500 [==============================] - 1s 330us/step - loss: 0.3363 - acc: 0.8589 - val_loss: 0.5422 - val_acc: 0.7580\n",
      "Epoch 13/20\n",
      "4500/4500 [==============================] - 1s 323us/step - loss: 0.3304 - acc: 0.8598 - val_loss: 0.5435 - val_acc: 0.7580\n",
      "Epoch 14/20\n",
      "4500/4500 [==============================] - 1s 322us/step - loss: 0.3205 - acc: 0.8684 - val_loss: 0.5492 - val_acc: 0.7560\n",
      "Epoch 15/20\n",
      "4500/4500 [==============================] - 1s 324us/step - loss: 0.3112 - acc: 0.8693 - val_loss: 0.5503 - val_acc: 0.7520\n",
      "Epoch 16/20\n",
      "4500/4500 [==============================] - 1s 323us/step - loss: 0.3059 - acc: 0.8744 - val_loss: 0.5442 - val_acc: 0.7600\n",
      "Epoch 17/20\n",
      "4500/4500 [==============================] - 1s 329us/step - loss: 0.3082 - acc: 0.8713 - val_loss: 0.5543 - val_acc: 0.7480\n",
      "Epoch 18/20\n",
      "4500/4500 [==============================] - 1s 321us/step - loss: 0.2964 - acc: 0.8782 - val_loss: 0.5477 - val_acc: 0.7640\n",
      "Epoch 19/20\n",
      "4500/4500 [==============================] - 1s 320us/step - loss: 0.2900 - acc: 0.8824 - val_loss: 0.5617 - val_acc: 0.7560\n",
      "Epoch 20/20\n",
      "4500/4500 [==============================] - 1s 323us/step - loss: 0.2885 - acc: 0.8813 - val_loss: 0.5554 - val_acc: 0.7680\n"
     ]
    },
    {
     "data": {
      "text/plain": [
       "<keras.callbacks.History at 0x7fbce0020d68>"
      ]
     },
     "execution_count": 11,
     "metadata": {},
     "output_type": "execute_result"
    }
   ],
   "source": [
    "from keras.layers import CuDNNGRU\n",
    "\n",
    "model = Sequential()\n",
    "model.add(Embedding(num_words, embedding_size, input_length=max_length, \n",
    "                    weights=[embedding_matrix], trainable=False))\n",
    "model.add(CuDNNGRU(100, return_sequences=True))\n",
    "model.add(Dropout(0.5))\n",
    "model.add(Conv1D(64, 3, activation='relu'))\n",
    "model.add(Flatten())\n",
    "model.add(Dense(128, activation='relu'))\n",
    "model.add(Dropout(0.15))\n",
    "model.add(Dense(1, activation='sigmoid'))\n",
    "\n",
    "optimizer_args = {\n",
    "    \"lr\": 0.001,\n",
    "    \"decay\": 0.01\n",
    "}\n",
    "\n",
    "model.compile(loss='binary_crossentropy', \n",
    "              optimizer=Adam(**optimizer_args), \n",
    "              metrics=['accuracy'])\n",
    "\n",
    "model.fit(X_train, y_train, validation_data=(X_dev, y_dev), epochs=20, batch_size=32)\n"
   ]
  },
  {
   "cell_type": "code",
   "execution_count": 12,
   "metadata": {},
   "outputs": [
    {
     "name": "stdout",
     "output_type": "stream",
     "text": [
      "Evaluación sobre dev\n",
      "500/500 [==============================] - 0s 133us/step\n",
      "Loss           : 0.5554\n",
      "Accuracy       : 0.7680\n",
      "Precision(1)   : 0.7477\n",
      "Precision(1)   : 0.7832\n",
      "Precision(avg) : 0.7654\n",
      "\n",
      "Recall(1)      : 0.7207\n",
      "Recall(0)      : 0.8058\n",
      "Recall(avg)    : 0.7632\n",
      "\n",
      "F1(1)          : 0.7339\n",
      "F1(0)          : 0.7943\n",
      "F1(avg)        : 0.7641\n",
      "\n",
      "\n",
      "Evaluación sobre test\n",
      "1600/1600 [==============================] - 0s 119us/step\n",
      "Loss           : 0.6419\n",
      "Accuracy       : 0.7006\n",
      "Precision(1)   : 0.6310\n",
      "Precision(1)   : 0.7536\n",
      "Precision(avg) : 0.6923\n",
      "\n",
      "Recall(1)      : 0.6606\n",
      "Recall(0)      : 0.7287\n",
      "Recall(avg)    : 0.6947\n",
      "\n",
      "F1(1)          : 0.6454\n",
      "F1(0)          : 0.7409\n",
      "F1(avg)        : 0.6932\n"
     ]
    }
   ],
   "source": [
    "from hate.utils import print_evaluation\n",
    "\n",
    "print(\"Evaluación sobre dev\")\n",
    "print_evaluation(model, X_dev, y_dev)\n",
    "print(\"\\n\\nEvaluación sobre test\")\n",
    "print_evaluation(model, X_test, y_test)\n",
    "\n"
   ]
  },
  {
   "cell_type": "markdown",
   "metadata": {},
   "source": [
    "# Conv + LSTM"
   ]
  },
  {
   "cell_type": "code",
   "execution_count": 13,
   "metadata": {},
   "outputs": [
    {
     "name": "stdout",
     "output_type": "stream",
     "text": [
      "Train on 4500 samples, validate on 500 samples\n",
      "Epoch 1/20\n",
      "4500/4500 [==============================] - 2s 423us/step - loss: 0.6508 - acc: 0.6364 - val_loss: 0.6120 - val_acc: 0.6840\n",
      "Epoch 2/20\n",
      "4500/4500 [==============================] - 1s 303us/step - loss: 0.5556 - acc: 0.7329 - val_loss: 0.5558 - val_acc: 0.7240\n",
      "Epoch 3/20\n",
      "4500/4500 [==============================] - 1s 304us/step - loss: 0.5024 - acc: 0.7676 - val_loss: 0.5431 - val_acc: 0.7360\n",
      "Epoch 4/20\n",
      "4500/4500 [==============================] - 1s 301us/step - loss: 0.4730 - acc: 0.7918 - val_loss: 0.5309 - val_acc: 0.7440\n",
      "Epoch 5/20\n",
      "4500/4500 [==============================] - 1s 299us/step - loss: 0.4466 - acc: 0.8051 - val_loss: 0.5254 - val_acc: 0.7620\n",
      "Epoch 6/20\n",
      "4500/4500 [==============================] - 1s 296us/step - loss: 0.4262 - acc: 0.8156 - val_loss: 0.5301 - val_acc: 0.7580\n",
      "Epoch 7/20\n",
      "4500/4500 [==============================] - 1s 299us/step - loss: 0.4101 - acc: 0.8233 - val_loss: 0.5185 - val_acc: 0.7660\n",
      "Epoch 8/20\n",
      "4500/4500 [==============================] - 1s 304us/step - loss: 0.3895 - acc: 0.8369 - val_loss: 0.5180 - val_acc: 0.7620\n",
      "Epoch 9/20\n",
      "4500/4500 [==============================] - 1s 305us/step - loss: 0.3739 - acc: 0.8476 - val_loss: 0.5152 - val_acc: 0.7760\n",
      "Epoch 10/20\n",
      "4500/4500 [==============================] - 1s 301us/step - loss: 0.3599 - acc: 0.8527 - val_loss: 0.5211 - val_acc: 0.7700\n",
      "Epoch 11/20\n",
      "4500/4500 [==============================] - 1s 303us/step - loss: 0.3449 - acc: 0.8627 - val_loss: 0.5274 - val_acc: 0.7820\n",
      "Epoch 12/20\n",
      "4500/4500 [==============================] - 1s 303us/step - loss: 0.3347 - acc: 0.8673 - val_loss: 0.5217 - val_acc: 0.7800\n",
      "Epoch 13/20\n",
      "4500/4500 [==============================] - 1s 305us/step - loss: 0.3259 - acc: 0.8716 - val_loss: 0.5270 - val_acc: 0.7720\n",
      "Epoch 14/20\n",
      "4500/4500 [==============================] - 1s 297us/step - loss: 0.3135 - acc: 0.8804 - val_loss: 0.5453 - val_acc: 0.7700\n",
      "Epoch 15/20\n",
      "4500/4500 [==============================] - 1s 296us/step - loss: 0.3094 - acc: 0.8838 - val_loss: 0.5322 - val_acc: 0.7780\n",
      "Epoch 16/20\n",
      "4500/4500 [==============================] - 1s 300us/step - loss: 0.2947 - acc: 0.8878 - val_loss: 0.5387 - val_acc: 0.7780\n",
      "Epoch 17/20\n",
      "4500/4500 [==============================] - 1s 301us/step - loss: 0.2794 - acc: 0.8938 - val_loss: 0.5510 - val_acc: 0.7720\n",
      "Epoch 18/20\n",
      "4500/4500 [==============================] - 1s 305us/step - loss: 0.2773 - acc: 0.8931 - val_loss: 0.5457 - val_acc: 0.7820\n",
      "Epoch 19/20\n",
      "4500/4500 [==============================] - 1s 303us/step - loss: 0.2720 - acc: 0.8991 - val_loss: 0.5491 - val_acc: 0.7800\n",
      "Epoch 20/20\n",
      "4500/4500 [==============================] - 1s 295us/step - loss: 0.2628 - acc: 0.9029 - val_loss: 0.5597 - val_acc: 0.7760\n"
     ]
    },
    {
     "data": {
      "text/plain": [
       "<keras.callbacks.History at 0x7fbc5f733d30>"
      ]
     },
     "execution_count": 13,
     "metadata": {},
     "output_type": "execute_result"
    }
   ],
   "source": [
    "from keras.layers import GRU, MaxPooling1D\n",
    "\n",
    "model = Sequential()\n",
    "model.add(Embedding(num_words, embedding_size, input_length=max_length, \n",
    "                    weights=[embedding_matrix], trainable=False))\n",
    "model.add(Conv1D(filters=64, kernel_size=3, padding='same', activation='relu'))\n",
    "model.add(MaxPooling1D(pool_size=2))\n",
    "\n",
    "model.add(CuDNNLSTM(100, return_sequences=False))\n",
    "model.add(Dropout(0.55))\n",
    "\n",
    "model.add(Dense(128, activation='relu'))\n",
    "model.add(Dropout(0.35))\n",
    "model.add(Dense(1, activation='sigmoid'))\n",
    "optimizer_args = {\n",
    "    \"lr\": 0.001,\n",
    "    \"decay\": 0.02\n",
    "}\n",
    "\n",
    "model.compile(loss='binary_crossentropy', \n",
    "              optimizer=Adam(**optimizer_args), \n",
    "              metrics=['accuracy'])\n",
    "model.fit(X_train, y_train, validation_data=(X_dev, y_dev), epochs=20, batch_size=32)\n"
   ]
  },
  {
   "cell_type": "code",
   "execution_count": 14,
   "metadata": {},
   "outputs": [
    {
     "name": "stdout",
     "output_type": "stream",
     "text": [
      "Evaluación sobre dev\n",
      "500/500 [==============================] - 0s 106us/step\n",
      "Loss           : 0.5597\n",
      "Accuracy       : 0.7760\n",
      "Precision(1)   : 0.7236\n",
      "Precision(1)   : 0.8268\n",
      "Precision(avg) : 0.7752\n",
      "\n",
      "Recall(1)      : 0.8018\n",
      "Recall(0)      : 0.7554\n",
      "Recall(avg)    : 0.7786\n",
      "\n",
      "F1(1)          : 0.7607\n",
      "F1(0)          : 0.7895\n",
      "F1(avg)        : 0.7751\n",
      "\n",
      "\n",
      "Evaluación sobre test\n",
      "1600/1600 [==============================] - 0s 107us/step\n",
      "Loss           : 0.7538\n",
      "Accuracy       : 0.6813\n",
      "Precision(1)   : 0.5915\n",
      "Precision(1)   : 0.7756\n",
      "Precision(avg) : 0.6836\n",
      "\n",
      "Recall(1)      : 0.7348\n",
      "Recall(0)      : 0.6436\n",
      "Recall(avg)    : 0.6892\n",
      "\n",
      "F1(1)          : 0.6554\n",
      "F1(0)          : 0.7035\n",
      "F1(avg)        : 0.6794\n"
     ]
    }
   ],
   "source": [
    "from hate.utils import print_evaluation\n",
    "\n",
    "print(\"Evaluación sobre dev\")\n",
    "print_evaluation(model, X_dev, y_dev)\n",
    "print(\"\\n\\nEvaluación sobre test\")\n",
    "print_evaluation(model, X_test, y_test)\n",
    "\n"
   ]
  },
  {
   "cell_type": "code",
   "execution_count": null,
   "metadata": {},
   "outputs": [],
   "source": []
  }
 ],
 "metadata": {
  "kernelspec": {
   "display_name": "Python 3",
   "language": "python",
   "name": "python3"
  },
  "language_info": {
   "codemirror_mode": {
    "name": "ipython",
    "version": 3
   },
   "file_extension": ".py",
   "mimetype": "text/x-python",
   "name": "python",
   "nbconvert_exporter": "python",
   "pygments_lexer": "ipython3",
   "version": "3.6.5"
  }
 },
 "nbformat": 4,
 "nbformat_minor": 2
}
