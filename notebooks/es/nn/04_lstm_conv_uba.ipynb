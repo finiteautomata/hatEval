{
 "cells": [
  {
   "cell_type": "markdown",
   "metadata": {},
   "source": [
    "# LSTM con embeddings\n",
    "\n",
    "Modelo básico con los embeddings de fasttext"
   ]
  },
  {
   "cell_type": "code",
   "execution_count": 1,
   "metadata": {},
   "outputs": [
    {
     "name": "stdout",
     "output_type": "stream",
     "text": [
      "Instancias de entrenamiento: 4500\n",
      "Instancias de desarrollo: 500\n"
     ]
    }
   ],
   "source": [
    "import pandas as pd\n",
    "import csv\n",
    "\n",
    "df_dev = pd.read_table(\"../../../data/es/dev_es.tsv\", index_col=\"id\", quoting=csv.QUOTE_NONE)\n",
    "df_train = pd.read_table(\"../../../data/es/train_es.tsv\", index_col=\"id\", quoting=csv.QUOTE_NONE)\n",
    "\n",
    "text_train, y_train = df_train[\"text\"], df_train[\"HS\"]\n",
    "text_dev, y_dev = df_dev[\"text\"], df_dev[\"HS\"]\n",
    "\n",
    "print(\"Instancias de entrenamiento: {}\".format(len(df_train)))\n",
    "print(\"Instancias de desarrollo: {}\".format(len(df_dev)))\n"
   ]
  },
  {
   "cell_type": "markdown",
   "metadata": {},
   "source": [
    "Tengo que hacer dos cosas:\n",
    "\n",
    "- Primero, convertir los tweets a secuencias de texto\n",
    "- Luego, paddear las secuencias a cierta longitud (Keras necesita esto para poder paralelizar cálculo)"
   ]
  },
  {
   "cell_type": "code",
   "execution_count": 2,
   "metadata": {},
   "outputs": [
    {
     "name": "stderr",
     "output_type": "stream",
     "text": [
      "Using TensorFlow backend.\n"
     ]
    }
   ],
   "source": [
    "from keras.preprocessing.text import Tokenizer\n",
    "from keras.preprocessing.sequence import pad_sequences\n",
    "\n",
    "num_words = 200000\n",
    "\n",
    "tokenizer = Tokenizer(num_words=num_words)\n",
    "tokenizer.fit_on_texts(text_train)\n",
    "\n",
    "X_train = tokenizer.texts_to_sequences(text_train)\n",
    "X_dev = tokenizer.texts_to_sequences(text_dev)\n",
    "\n",
    "max_length = 30\n",
    "\n",
    "X_train = pad_sequences(X_train, max_length)\n",
    "X_dev = pad_sequences(X_dev, max_length)"
   ]
  },
  {
   "cell_type": "markdown",
   "metadata": {},
   "source": [
    "Carguemos embeddings"
   ]
  },
  {
   "cell_type": "code",
   "execution_count": 3,
   "metadata": {},
   "outputs": [
    {
     "name": "stdout",
     "output_type": "stream",
     "text": [
      "Available embeddings:  ['/home/jmperez/WordVectors/UBA_w5_200.vec', '/home/jmperez/WordVectors/wiki.es.vec', '/home/jmperez/WordVectors/UBA_w5_300.vec']\n"
     ]
    }
   ],
   "source": [
    "import os\n",
    "from glob import glob\n",
    "\n",
    "path_to_embeddings = os.path.expanduser(\"/home/jmperez/WordVectors/\")\n",
    "\n",
    "print(\"Available embeddings: \", glob(os.path.join(path_to_embeddings, \"*.vec\")))"
   ]
  },
  {
   "cell_type": "markdown",
   "metadata": {},
   "source": [
    "# Twitter Embeddings"
   ]
  },
  {
   "cell_type": "code",
   "execution_count": 4,
   "metadata": {},
   "outputs": [
    {
     "name": "stdout",
     "output_type": "stream",
     "text": [
      "********************************************************************************\n",
      "********************************************************************************\n",
      "********************************************************************************\n",
      "\n",
      "Problema con la sig línea:\n",
      "['.', '.', '-0.22232', '0.0052569', '0.47066', '0.13836', '0.15991', '0.19504', '0.00067885', '0.020299']\n",
      "********************************************************************************\n",
      "********************************************************************************\n",
      "********************************************************************************\n",
      "\n",
      "Problema con la sig línea:\n",
      "['.', '...', '-0.11666', '-0.083768', '0.028919', '0.29973', '0.21017', '0.27808', '0.063251', '0.090223']\n",
      "********************************************************************************\n",
      "********************************************************************************\n",
      "********************************************************************************\n",
      "\n",
      "Problema con la sig línea:\n",
      "['.', '..', '-0.43752', '-0.0016885', '0.1533', '0.28071', '0.18051', '0.28698', '0.11806', '0.044891']\n"
     ]
    }
   ],
   "source": [
    "import numpy as np\n",
    "\n",
    "word_to_vec = {}\n",
    "\n",
    "with open(os.path.join(path_to_embeddings, \"UBA_w5_300.vec\")) as f:\n",
    "    for line in f:\n",
    "        values = line.split()\n",
    "        word = values[0]\n",
    "        try:\n",
    "            vec = np.asarray(values[1:], dtype=\"float32\")\n",
    "        except:\n",
    "            print((\"*\" * 80  + \"\\n\")*3)\n",
    "            print(\"Problema con la sig línea:\")\n",
    "            print(values[:10])\n",
    "            word = values[1]\n",
    "            vec = np.asarray(values[2:], dtype=\"float32\")\n",
    "        word_to_vec[word] = vec\n",
    "        \n",
    "embedding_size = len(word_to_vec[\"hola\"])"
   ]
  },
  {
   "cell_type": "code",
   "execution_count": 5,
   "metadata": {},
   "outputs": [],
   "source": [
    "# create a weight matrix for words in training docs\n",
    "embedding_matrix = np.zeros((num_words, embedding_size))\n",
    "for word, i in tokenizer.word_index.items():\n",
    "    embedding_vector = word_to_vec.get(word)\n",
    "    if embedding_vector is not None:\n",
    "        embedding_matrix[i] = embedding_vector"
   ]
  },
  {
   "cell_type": "code",
   "execution_count": 6,
   "metadata": {},
   "outputs": [
    {
     "data": {
      "text/plain": [
       "(200000, 300)"
      ]
     },
     "execution_count": 6,
     "metadata": {},
     "output_type": "execute_result"
    }
   ],
   "source": [
    "embedding_matrix.shape"
   ]
  },
  {
   "cell_type": "code",
   "execution_count": 10,
   "metadata": {},
   "outputs": [],
   "source": [
    "from keras.models import Sequential\n",
    "from keras.layers import Dense\n",
    "from keras.layers import LSTM, Dropout, Conv1D, Flatten\n",
    "from keras.layers.embeddings import Embedding\n",
    "from keras.optimizers import Adam\n",
    "from keras.preprocessing import sequence\n",
    "\n",
    "\n",
    "model = Sequential()\n",
    "model.add(Embedding(num_words, embedding_size, input_length=max_length, \n",
    "                    weights=[embedding_matrix], trainable=False))\n",
    "model.add(LSTM(100, return_sequences=True))\n",
    "model.add(Dropout(0.5))\n",
    "model.add(Conv1D(64, 3, activation='relu'))\n",
    "model.add(Flatten())\n",
    "model.add(Dense(128, activation='relu'))\n",
    "model.add(Dropout(0.5))\n",
    "model.add(Dense(1, activation='sigmoid'))\n",
    "\n",
    "optimizer_args = {\n",
    "    \"lr\": 0.001,\n",
    "    \"decay\": 0.01\n",
    "}\n",
    "\n",
    "model.compile(loss='binary_crossentropy', \n",
    "              optimizer=Adam(**optimizer_args), \n",
    "              metrics=['accuracy'])"
   ]
  },
  {
   "cell_type": "code",
   "execution_count": 11,
   "metadata": {},
   "outputs": [
    {
     "name": "stdout",
     "output_type": "stream",
     "text": [
      "Train on 4500 samples, validate on 500 samples\n",
      "Epoch 1/20\n",
      "4500/4500 [==============================] - 8s 2ms/step - loss: 0.6365 - acc: 0.6493 - val_loss: 0.5870 - val_acc: 0.7100\n",
      "Epoch 2/20\n",
      "4500/4500 [==============================] - 7s 2ms/step - loss: 0.5319 - acc: 0.7464 - val_loss: 0.5333 - val_acc: 0.7700\n",
      "Epoch 3/20\n",
      "4500/4500 [==============================] - 7s 2ms/step - loss: 0.4895 - acc: 0.7700 - val_loss: 0.5290 - val_acc: 0.7520\n",
      "Epoch 4/20\n",
      "4500/4500 [==============================] - 7s 2ms/step - loss: 0.4564 - acc: 0.7898 - val_loss: 0.5037 - val_acc: 0.7740\n",
      "Epoch 5/20\n",
      "4500/4500 [==============================] - 7s 2ms/step - loss: 0.4303 - acc: 0.8036 - val_loss: 0.5117 - val_acc: 0.7680\n",
      "Epoch 6/20\n",
      "4500/4500 [==============================] - 7s 2ms/step - loss: 0.4044 - acc: 0.8169 - val_loss: 0.4935 - val_acc: 0.7840\n",
      "Epoch 7/20\n",
      "4500/4500 [==============================] - 7s 2ms/step - loss: 0.3912 - acc: 0.8267 - val_loss: 0.4900 - val_acc: 0.7980\n",
      "Epoch 8/20\n",
      "4500/4500 [==============================] - 7s 2ms/step - loss: 0.3740 - acc: 0.8367 - val_loss: 0.4922 - val_acc: 0.7760\n",
      "Epoch 9/20\n",
      "4500/4500 [==============================] - 7s 2ms/step - loss: 0.3622 - acc: 0.8411 - val_loss: 0.4975 - val_acc: 0.7800\n",
      "Epoch 10/20\n",
      "4500/4500 [==============================] - 7s 2ms/step - loss: 0.3478 - acc: 0.8460 - val_loss: 0.4916 - val_acc: 0.7860\n",
      "Epoch 11/20\n",
      "4500/4500 [==============================] - 7s 2ms/step - loss: 0.3394 - acc: 0.8549 - val_loss: 0.4908 - val_acc: 0.8020\n",
      "Epoch 12/20\n",
      "4500/4500 [==============================] - 7s 2ms/step - loss: 0.3238 - acc: 0.8607 - val_loss: 0.4939 - val_acc: 0.7960\n",
      "Epoch 13/20\n",
      "4500/4500 [==============================] - 7s 2ms/step - loss: 0.3132 - acc: 0.8680 - val_loss: 0.4911 - val_acc: 0.7880\n",
      "Epoch 14/20\n",
      "4500/4500 [==============================] - 7s 2ms/step - loss: 0.3122 - acc: 0.8693 - val_loss: 0.5042 - val_acc: 0.7880\n",
      "Epoch 15/20\n",
      "4500/4500 [==============================] - 7s 2ms/step - loss: 0.3042 - acc: 0.8704 - val_loss: 0.5020 - val_acc: 0.8020\n",
      "Epoch 16/20\n",
      "4500/4500 [==============================] - 7s 2ms/step - loss: 0.2930 - acc: 0.8767 - val_loss: 0.5068 - val_acc: 0.7940\n",
      "Epoch 17/20\n",
      "4500/4500 [==============================] - 7s 2ms/step - loss: 0.2867 - acc: 0.8831 - val_loss: 0.5071 - val_acc: 0.7860\n",
      "Epoch 18/20\n",
      "4500/4500 [==============================] - 7s 2ms/step - loss: 0.2822 - acc: 0.8824 - val_loss: 0.5131 - val_acc: 0.7840\n",
      "Epoch 19/20\n",
      "4500/4500 [==============================] - 7s 2ms/step - loss: 0.2750 - acc: 0.8873 - val_loss: 0.5264 - val_acc: 0.8000\n",
      "Epoch 20/20\n",
      "4500/4500 [==============================] - 7s 2ms/step - loss: 0.2708 - acc: 0.8896 - val_loss: 0.5210 - val_acc: 0.7900\n"
     ]
    },
    {
     "data": {
      "text/plain": [
       "<keras.callbacks.History at 0x7f0c8062d668>"
      ]
     },
     "execution_count": 11,
     "metadata": {},
     "output_type": "execute_result"
    }
   ],
   "source": [
    "model.fit(X_train, y_train, validation_data=(X_dev, y_dev), epochs=20, batch_size=32)\n"
   ]
  },
  {
   "cell_type": "code",
   "execution_count": 12,
   "metadata": {},
   "outputs": [
    {
     "name": "stdout",
     "output_type": "stream",
     "text": [
      "500/500 [==============================] - 0s 637us/step\n",
      "Loss        : 0.5210\n",
      "Accuracy    : 0.7900\n",
      "Precision   : 0.7448\n",
      "Recall      : 0.8018\n",
      "F1          : 0.7722\n"
     ]
    }
   ],
   "source": [
    "from hate.utils import print_evaluation\n",
    "\n",
    "print_evaluation(model, X_dev, y_dev.values)"
   ]
  },
  {
   "cell_type": "markdown",
   "metadata": {},
   "source": [
    "## Bidirectional LSTM"
   ]
  },
  {
   "cell_type": "code",
   "execution_count": 13,
   "metadata": {},
   "outputs": [],
   "source": [
    "from keras.layers import Bidirectional\n",
    "from keras.layers.embeddings import Embedding\n",
    "from keras.preprocessing import sequence\n",
    "from keras.models import Sequential\n",
    "from keras.layers import Dense\n",
    "from keras.layers import LSTM, Dropout, Conv1D, Flatten, Bidirectional\n",
    "from keras.layers.embeddings import Embedding\n",
    "from keras.preprocessing import sequence\n",
    "\n",
    "\n",
    "model = Sequential()\n",
    "model.add(Embedding(num_words, embedding_size, input_length=max_length, \n",
    "                    weights=[embedding_matrix], trainable=False))\n",
    "model.add(Bidirectional(LSTM(100, return_sequences=True)))\n",
    "model.add(Dropout(0.5))\n",
    "model.add(Conv1D(64, 3, activation='relu'))\n",
    "model.add(Flatten())\n",
    "model.add(Dense(128, activation='relu'))\n",
    "model.add(Dropout(0.5))\n",
    "model.add(Dense(1, activation='sigmoid'))\n",
    "\n",
    "optimizer_args = {\n",
    "    \"lr\": 0.001,\n",
    "    \"decay\": 0.01\n",
    "}\n",
    "\n",
    "model.compile(loss='binary_crossentropy', \n",
    "              optimizer=Adam(**optimizer_args), \n",
    "              metrics=['accuracy'])"
   ]
  },
  {
   "cell_type": "code",
   "execution_count": 14,
   "metadata": {},
   "outputs": [
    {
     "name": "stdout",
     "output_type": "stream",
     "text": [
      "Train on 4500 samples, validate on 500 samples\n",
      "Epoch 1/20\n",
      "4500/4500 [==============================] - 14s 3ms/step - loss: 0.6167 - acc: 0.6598 - val_loss: 0.6379 - val_acc: 0.6540\n",
      "Epoch 2/20\n",
      "4500/4500 [==============================] - 12s 3ms/step - loss: 0.5100 - acc: 0.7529 - val_loss: 0.6359 - val_acc: 0.6320\n",
      "Epoch 3/20\n",
      "4500/4500 [==============================] - 12s 3ms/step - loss: 0.4582 - acc: 0.7882 - val_loss: 0.5076 - val_acc: 0.7520\n",
      "Epoch 4/20\n",
      "4500/4500 [==============================] - 12s 3ms/step - loss: 0.4246 - acc: 0.8071 - val_loss: 0.5161 - val_acc: 0.7440\n",
      "Epoch 5/20\n",
      "4500/4500 [==============================] - 12s 3ms/step - loss: 0.3954 - acc: 0.8198 - val_loss: 0.4887 - val_acc: 0.7520\n",
      "Epoch 6/20\n",
      "4500/4500 [==============================] - 12s 3ms/step - loss: 0.3765 - acc: 0.8313 - val_loss: 0.4759 - val_acc: 0.7820\n",
      "Epoch 7/20\n",
      "4500/4500 [==============================] - 12s 3ms/step - loss: 0.3531 - acc: 0.8438 - val_loss: 0.4841 - val_acc: 0.7700\n",
      "Epoch 8/20\n",
      "4500/4500 [==============================] - 12s 3ms/step - loss: 0.3416 - acc: 0.8487 - val_loss: 0.4768 - val_acc: 0.7820\n",
      "Epoch 9/20\n",
      "4500/4500 [==============================] - 12s 3ms/step - loss: 0.3202 - acc: 0.8609 - val_loss: 0.5203 - val_acc: 0.7500\n",
      "Epoch 10/20\n",
      "4500/4500 [==============================] - 12s 3ms/step - loss: 0.3069 - acc: 0.8724 - val_loss: 0.4876 - val_acc: 0.7560\n",
      "Epoch 11/20\n",
      "4500/4500 [==============================] - 12s 3ms/step - loss: 0.2909 - acc: 0.8758 - val_loss: 0.5011 - val_acc: 0.7620\n",
      "Epoch 12/20\n",
      "4500/4500 [==============================] - 12s 3ms/step - loss: 0.2793 - acc: 0.8860 - val_loss: 0.5067 - val_acc: 0.7760\n",
      "Epoch 13/20\n",
      "4500/4500 [==============================] - 12s 3ms/step - loss: 0.2715 - acc: 0.8862 - val_loss: 0.5000 - val_acc: 0.7800\n",
      "Epoch 14/20\n",
      "4500/4500 [==============================] - 12s 3ms/step - loss: 0.2660 - acc: 0.8907 - val_loss: 0.5087 - val_acc: 0.7820\n",
      "Epoch 15/20\n",
      "4500/4500 [==============================] - 12s 3ms/step - loss: 0.2535 - acc: 0.8989 - val_loss: 0.5261 - val_acc: 0.7700\n",
      "Epoch 16/20\n",
      "4500/4500 [==============================] - 12s 3ms/step - loss: 0.2422 - acc: 0.9044 - val_loss: 0.5271 - val_acc: 0.7860\n",
      "Epoch 17/20\n",
      "4500/4500 [==============================] - 12s 3ms/step - loss: 0.2353 - acc: 0.9018 - val_loss: 0.5545 - val_acc: 0.7840\n",
      "Epoch 18/20\n",
      "4500/4500 [==============================] - 12s 3ms/step - loss: 0.2271 - acc: 0.9089 - val_loss: 0.5548 - val_acc: 0.7880\n",
      "Epoch 19/20\n",
      "4500/4500 [==============================] - 12s 3ms/step - loss: 0.2181 - acc: 0.9102 - val_loss: 0.5542 - val_acc: 0.7900\n",
      "Epoch 20/20\n",
      "4500/4500 [==============================] - 12s 3ms/step - loss: 0.2107 - acc: 0.9180 - val_loss: 0.5671 - val_acc: 0.7840\n"
     ]
    },
    {
     "data": {
      "text/plain": [
       "<keras.callbacks.History at 0x7f0d937aca90>"
      ]
     },
     "execution_count": 14,
     "metadata": {},
     "output_type": "execute_result"
    }
   ],
   "source": [
    "model.fit(X_train, y_train, validation_data=(X_dev, y_dev), epochs=20, batch_size=32)\n"
   ]
  },
  {
   "cell_type": "code",
   "execution_count": 15,
   "metadata": {},
   "outputs": [
    {
     "name": "stdout",
     "output_type": "stream",
     "text": [
      "500/500 [==============================] - 1s 1ms/step\n",
      "Loss        : 0.5671\n",
      "Accuracy    : 0.7840\n",
      "Precision   : 0.7317\n",
      "Recall      : 0.8108\n",
      "F1          : 0.7692\n"
     ]
    }
   ],
   "source": [
    "from hate.utils import print_evaluation\n",
    "model.compile(loss='binary_crossentropy', optimizer='adam', metrics=['accuracy'])\n",
    "\n",
    "print_evaluation(model, X_dev, y_dev.values)"
   ]
  },
  {
   "cell_type": "markdown",
   "metadata": {},
   "source": [
    "## Probemos GRU + Conv"
   ]
  },
  {
   "cell_type": "code",
   "execution_count": 16,
   "metadata": {},
   "outputs": [
    {
     "name": "stdout",
     "output_type": "stream",
     "text": [
      "Train on 4500 samples, validate on 500 samples\n",
      "Epoch 1/20\n",
      "4500/4500 [==============================] - 7s 2ms/step - loss: 0.6128 - acc: 0.6702 - val_loss: 0.5938 - val_acc: 0.7060\n",
      "Epoch 2/20\n",
      "4500/4500 [==============================] - 6s 1ms/step - loss: 0.5074 - acc: 0.7520 - val_loss: 0.5858 - val_acc: 0.7060\n",
      "Epoch 3/20\n",
      "4500/4500 [==============================] - 6s 1ms/step - loss: 0.4611 - acc: 0.7880 - val_loss: 0.5462 - val_acc: 0.7300\n",
      "Epoch 4/20\n",
      "4500/4500 [==============================] - 6s 1ms/step - loss: 0.4329 - acc: 0.8027 - val_loss: 0.5389 - val_acc: 0.7380\n",
      "Epoch 5/20\n",
      "4500/4500 [==============================] - 6s 1ms/step - loss: 0.4090 - acc: 0.8120 - val_loss: 0.5312 - val_acc: 0.7580\n",
      "Epoch 6/20\n",
      "4500/4500 [==============================] - 6s 1ms/step - loss: 0.3922 - acc: 0.8231 - val_loss: 0.5357 - val_acc: 0.7560\n",
      "Epoch 7/20\n",
      "4500/4500 [==============================] - 6s 1ms/step - loss: 0.3795 - acc: 0.8300 - val_loss: 0.5340 - val_acc: 0.7520\n",
      "Epoch 8/20\n",
      "4500/4500 [==============================] - 6s 1ms/step - loss: 0.3675 - acc: 0.8342 - val_loss: 0.5341 - val_acc: 0.7560\n",
      "Epoch 9/20\n",
      "4500/4500 [==============================] - 6s 1ms/step - loss: 0.3510 - acc: 0.8469 - val_loss: 0.5362 - val_acc: 0.7620\n",
      "Epoch 10/20\n",
      "4500/4500 [==============================] - 6s 1ms/step - loss: 0.3386 - acc: 0.8598 - val_loss: 0.5348 - val_acc: 0.7700\n",
      "Epoch 11/20\n",
      "4500/4500 [==============================] - 6s 1ms/step - loss: 0.3289 - acc: 0.8587 - val_loss: 0.5420 - val_acc: 0.7600\n",
      "Epoch 12/20\n",
      "4500/4500 [==============================] - 6s 1ms/step - loss: 0.3242 - acc: 0.8593 - val_loss: 0.5378 - val_acc: 0.7620\n",
      "Epoch 13/20\n",
      "4500/4500 [==============================] - 6s 1ms/step - loss: 0.3134 - acc: 0.8687 - val_loss: 0.5435 - val_acc: 0.7600\n",
      "Epoch 14/20\n",
      "4500/4500 [==============================] - 6s 1ms/step - loss: 0.3077 - acc: 0.8689 - val_loss: 0.5469 - val_acc: 0.7500\n",
      "Epoch 15/20\n",
      "4500/4500 [==============================] - 6s 1ms/step - loss: 0.3117 - acc: 0.8682 - val_loss: 0.5472 - val_acc: 0.7500\n",
      "Epoch 16/20\n",
      "4500/4500 [==============================] - 6s 1ms/step - loss: 0.2995 - acc: 0.8722 - val_loss: 0.5528 - val_acc: 0.7540\n",
      "Epoch 17/20\n",
      "4500/4500 [==============================] - 6s 1ms/step - loss: 0.2935 - acc: 0.8724 - val_loss: 0.5570 - val_acc: 0.7460\n",
      "Epoch 18/20\n",
      "4500/4500 [==============================] - 6s 1ms/step - loss: 0.2899 - acc: 0.8736 - val_loss: 0.5678 - val_acc: 0.7440\n",
      "Epoch 19/20\n",
      "4500/4500 [==============================] - 6s 1ms/step - loss: 0.2791 - acc: 0.8842 - val_loss: 0.5606 - val_acc: 0.7520\n",
      "Epoch 20/20\n",
      "4500/4500 [==============================] - 6s 1ms/step - loss: 0.2776 - acc: 0.8851 - val_loss: 0.5585 - val_acc: 0.7560\n"
     ]
    },
    {
     "data": {
      "text/plain": [
       "<keras.callbacks.History at 0x7f0ce3cfe550>"
      ]
     },
     "execution_count": 16,
     "metadata": {},
     "output_type": "execute_result"
    }
   ],
   "source": [
    "from keras.layers import GRU\n",
    "\n",
    "model = Sequential()\n",
    "model.add(Embedding(num_words, embedding_size, input_length=max_length, \n",
    "                    weights=[embedding_matrix], trainable=False))\n",
    "model.add(GRU(100, return_sequences=True))\n",
    "model.add(Dropout(0.5))\n",
    "model.add(Conv1D(64, 3, activation='relu'))\n",
    "model.add(Flatten())\n",
    "model.add(Dense(128, activation='relu'))\n",
    "model.add(Dropout(0.15))\n",
    "model.add(Dense(1, activation='sigmoid'))\n",
    "\n",
    "optimizer_args = {\n",
    "    \"lr\": 0.001,\n",
    "    \"decay\": 0.01\n",
    "}\n",
    "\n",
    "model.compile(loss='binary_crossentropy', \n",
    "              optimizer=Adam(**optimizer_args), \n",
    "              metrics=['accuracy'])\n",
    "\n",
    "model.fit(X_train, y_train, validation_data=(X_dev, y_dev), epochs=20, batch_size=32)\n"
   ]
  },
  {
   "cell_type": "code",
   "execution_count": 17,
   "metadata": {},
   "outputs": [
    {
     "name": "stdout",
     "output_type": "stream",
     "text": [
      "500/500 [==============================] - 0s 494us/step\n",
      "Loss        : 0.5585\n",
      "Accuracy    : 0.7560\n",
      "Precision   : 0.7137\n",
      "Recall      : 0.7523\n",
      "F1          : 0.7325\n"
     ]
    }
   ],
   "source": [
    "from hate.utils import print_evaluation\n",
    "\n",
    "print_evaluation(model, X_dev, y_dev.values)"
   ]
  },
  {
   "cell_type": "markdown",
   "metadata": {},
   "source": [
    "# Conv + LSTM"
   ]
  },
  {
   "cell_type": "code",
   "execution_count": 23,
   "metadata": {},
   "outputs": [
    {
     "name": "stdout",
     "output_type": "stream",
     "text": [
      "Train on 4500 samples, validate on 500 samples\n",
      "Epoch 1/20\n",
      "4500/4500 [==============================] - 7s 1ms/step - loss: 0.6444 - acc: 0.6451 - val_loss: 0.6352 - val_acc: 0.6720\n",
      "Epoch 2/20\n",
      "4500/4500 [==============================] - 4s 983us/step - loss: 0.5627 - acc: 0.7253 - val_loss: 0.5556 - val_acc: 0.7100\n",
      "Epoch 3/20\n",
      "4500/4500 [==============================] - 4s 957us/step - loss: 0.5096 - acc: 0.7631 - val_loss: 0.5343 - val_acc: 0.7400\n",
      "Epoch 4/20\n",
      "4500/4500 [==============================] - 4s 964us/step - loss: 0.4762 - acc: 0.7858 - val_loss: 0.5265 - val_acc: 0.7460\n",
      "Epoch 5/20\n",
      "4500/4500 [==============================] - 4s 990us/step - loss: 0.4561 - acc: 0.7982 - val_loss: 0.5194 - val_acc: 0.7560\n",
      "Epoch 6/20\n",
      "4500/4500 [==============================] - 4s 977us/step - loss: 0.4347 - acc: 0.8073 - val_loss: 0.5121 - val_acc: 0.7480\n",
      "Epoch 7/20\n",
      "4500/4500 [==============================] - 4s 987us/step - loss: 0.4258 - acc: 0.8191 - val_loss: 0.5142 - val_acc: 0.7540\n",
      "Epoch 8/20\n",
      "4500/4500 [==============================] - 4s 915us/step - loss: 0.4100 - acc: 0.8253 - val_loss: 0.5115 - val_acc: 0.7760\n",
      "Epoch 9/20\n",
      "4500/4500 [==============================] - 4s 969us/step - loss: 0.4000 - acc: 0.8313 - val_loss: 0.5077 - val_acc: 0.7740\n",
      "Epoch 10/20\n",
      "4500/4500 [==============================] - 4s 984us/step - loss: 0.3895 - acc: 0.8387 - val_loss: 0.5081 - val_acc: 0.7700\n",
      "Epoch 11/20\n",
      "4500/4500 [==============================] - 4s 992us/step - loss: 0.3754 - acc: 0.8458 - val_loss: 0.5074 - val_acc: 0.7700\n",
      "Epoch 12/20\n",
      "4500/4500 [==============================] - 4s 990us/step - loss: 0.3664 - acc: 0.8491 - val_loss: 0.5081 - val_acc: 0.7720\n",
      "Epoch 13/20\n",
      "4500/4500 [==============================] - 4s 985us/step - loss: 0.3540 - acc: 0.8547 - val_loss: 0.5076 - val_acc: 0.7800\n",
      "Epoch 14/20\n",
      "4500/4500 [==============================] - 4s 998us/step - loss: 0.3441 - acc: 0.8662 - val_loss: 0.5136 - val_acc: 0.7840\n",
      "Epoch 15/20\n",
      "4500/4500 [==============================] - 4s 979us/step - loss: 0.3339 - acc: 0.8658 - val_loss: 0.5144 - val_acc: 0.7800\n",
      "Epoch 16/20\n",
      "4500/4500 [==============================] - 5s 1ms/step - loss: 0.3267 - acc: 0.8713 - val_loss: 0.5187 - val_acc: 0.7800\n",
      "Epoch 17/20\n",
      "4500/4500 [==============================] - 4s 992us/step - loss: 0.3163 - acc: 0.8804 - val_loss: 0.5193 - val_acc: 0.7840\n",
      "Epoch 18/20\n",
      "4500/4500 [==============================] - 4s 966us/step - loss: 0.3097 - acc: 0.8811 - val_loss: 0.5235 - val_acc: 0.7900\n",
      "Epoch 19/20\n",
      "4500/4500 [==============================] - 4s 997us/step - loss: 0.3042 - acc: 0.8813 - val_loss: 0.5241 - val_acc: 0.7900\n",
      "Epoch 20/20\n",
      "4500/4500 [==============================] - 4s 978us/step - loss: 0.2958 - acc: 0.8858 - val_loss: 0.5281 - val_acc: 0.7940\n"
     ]
    },
    {
     "data": {
      "text/plain": [
       "<keras.callbacks.History at 0x7f0bd014ac50>"
      ]
     },
     "execution_count": 23,
     "metadata": {},
     "output_type": "execute_result"
    }
   ],
   "source": [
    "from keras.layers import GRU, MaxPooling1D\n",
    "\n",
    "model = Sequential()\n",
    "model.add(Embedding(num_words, embedding_size, input_length=max_length, \n",
    "                    weights=[embedding_matrix], trainable=False))\n",
    "model.add(Conv1D(filters=64, kernel_size=3, padding='same', activation='relu'))\n",
    "model.add(MaxPooling1D(pool_size=2))\n",
    "\n",
    "model.add(LSTM(100, return_sequences=False))\n",
    "model.add(Dropout(0.55))\n",
    "\n",
    "model.add(Dense(128, activation='relu'))\n",
    "model.add(Dropout(0.35))\n",
    "model.add(Dense(1, activation='sigmoid'))\n",
    "optimizer_args = {\n",
    "    \"lr\": 0.001,\n",
    "    \"decay\": 0.02\n",
    "}\n",
    "\n",
    "model.compile(loss='binary_crossentropy', \n",
    "              optimizer=Adam(**optimizer_args), \n",
    "              metrics=['accuracy'])\n",
    "model.fit(X_train, y_train, validation_data=(X_dev, y_dev), epochs=20, batch_size=32)\n"
   ]
  },
  {
   "cell_type": "code",
   "execution_count": 24,
   "metadata": {},
   "outputs": [
    {
     "name": "stdout",
     "output_type": "stream",
     "text": [
      "500/500 [==============================] - 0s 352us/step\n",
      "Loss        : 0.5281\n",
      "Accuracy    : 0.7940\n",
      "Precision   : 0.7820\n",
      "Recall      : 0.7432\n",
      "F1          : 0.7621\n"
     ]
    }
   ],
   "source": [
    "from hate.utils import print_evaluation\n",
    "\n",
    "print_evaluation(model, X_dev, y_dev.values)"
   ]
  },
  {
   "cell_type": "code",
   "execution_count": null,
   "metadata": {},
   "outputs": [],
   "source": []
  }
 ],
 "metadata": {
  "kernelspec": {
   "display_name": "Python 3",
   "language": "python",
   "name": "python3"
  },
  "language_info": {
   "codemirror_mode": {
    "name": "ipython",
    "version": 3
   },
   "file_extension": ".py",
   "mimetype": "text/x-python",
   "name": "python",
   "nbconvert_exporter": "python",
   "pygments_lexer": "ipython3",
   "version": "3.6.5"
  }
 },
 "nbformat": 4,
 "nbformat_minor": 2
}
