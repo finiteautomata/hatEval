{
 "cells": [
  {
   "cell_type": "markdown",
   "metadata": {},
   "source": [
    "# Promedio Ensembles con Training Separado\n",
    "\n",
    "En esta notebook, veremos de hacer un ensemble neuronal de las técnicas vistas hasta el momento (y quizás alguna más).\n",
    "\n",
    "A diferencia de los modelos anteriores, acá los vamos a entrenar por separado y luego ensamblar\n",
    "\n",
    "Vamos a usar\n",
    "\n",
    "- Modelo char\n",
    "- Modelo BoW\n",
    "- Modelo ElMO\n",
    "- Quizás modelo de Word Embeddings\n"
   ]
  },
  {
   "cell_type": "code",
   "execution_count": 1,
   "metadata": {},
   "outputs": [
    {
     "name": "stdout",
     "output_type": "stream",
     "text": [
      "Instancias de entrenamiento: 4500\n",
      "Instancias de desarrollo: 500\n"
     ]
    }
   ],
   "source": [
    "import pandas as pd\n",
    "import csv\n",
    "\n",
    "df_dev = pd.read_table(\"../../../data/es/dev_es.tsv\", index_col=\"id\", quoting=csv.QUOTE_NONE)\n",
    "df_train = pd.read_table(\"../../../data/es/train_es.tsv\", index_col=\"id\", quoting=csv.QUOTE_NONE)\n",
    "\n",
    "text_train, y_train = df_train[\"text\"], df_train[\"HS\"]\n",
    "text_dev, y_dev = df_dev[\"text\"], df_dev[\"HS\"]\n",
    "\n",
    "print(\"Instancias de entrenamiento: {}\".format(len(df_train)))\n",
    "print(\"Instancias de desarrollo: {}\".format(len(df_dev)))\n"
   ]
  },
  {
   "cell_type": "code",
   "execution_count": 2,
   "metadata": {},
   "outputs": [
    {
     "name": "stderr",
     "output_type": "stream",
     "text": [
      "Using TensorFlow backend.\n"
     ]
    },
    {
     "name": "stdout",
     "output_type": "stream",
     "text": [
      "Embeddings disponibles\n",
      "['/home/jmperez/WordVectors/UBA_w5_200.vec', '/home/jmperez/WordVectors/wiki.es.vec', '/home/jmperez/WordVectors/UBA_w5_300.vec']\n",
      "Problema con la sig línea:\n",
      "['.', '.', '-0.22232', '0.0052569', '0.47066', '0.13836', '0.15991', '0.19504', '0.00067885', '0.020299']\n",
      "Problema con la sig línea:\n",
      "['.', '...', '-0.11666', '-0.083768', '0.028919', '0.29973', '0.21017', '0.27808', '0.063251', '0.090223']\n",
      "Problema con la sig línea:\n",
      "['.', '..', '-0.43752', '-0.0016885', '0.1533', '0.28071', '0.18051', '0.28698', '0.11806', '0.044891']\n"
     ]
    }
   ],
   "source": [
    "import os\n",
    "import glob\n",
    "from hate.utils import load_embedding\n",
    "\n",
    "path_to_embeddings = os.path.expanduser(\"~/WordVectors\")\n",
    "\n",
    "print(\"Embeddings disponibles\")\n",
    "print(glob.glob(path_to_embeddings+\"/*.vec\"))\n",
    "\n",
    "word_to_vec = load_embedding(os.path.join(path_to_embeddings, \"UBA_w5_300.vec\"))"
   ]
  },
  {
   "cell_type": "markdown",
   "metadata": {},
   "source": [
    "Hagamos tokenize sobre el texto"
   ]
  },
  {
   "cell_type": "code",
   "execution_count": 3,
   "metadata": {},
   "outputs": [],
   "source": [
    "%matplotlib inline\n",
    "from nltk.tokenize import TweetTokenizer\n",
    "from keras.preprocessing.sequence import pad_sequences\n",
    "from sklearn.feature_extraction.text import CountVectorizer, TfidfTransformer\n",
    "from nltk.stem import SnowballStemmer\n",
    "import matplotlib.pyplot as plt\n",
    "import unidecode\n",
    "\n",
    "\n",
    "stemmer = SnowballStemmer('spanish')\n",
    "\n",
    "def tokenize(tweet, stem=False, deaccent=True, alpha_only=False, **kwargs):\n",
    "    tokenizer = TweetTokenizer(**kwargs)\n",
    "    tokens = tokenizer.tokenize(tweet)\n",
    "    \n",
    "    ret = []\n",
    "    \n",
    "    def fstem(x):\n",
    "        if stem:\n",
    "            return stemmer.stem(x)\n",
    "        else:\n",
    "            return x\n",
    "        \n",
    "    for token in tokens:\n",
    "        tok = None\n",
    "        if token[0] == \"#\":            \n",
    "            tok = fstem(token[1:])\n",
    "        elif token[0] == \"@\":\n",
    "            tok = \"@user\"\n",
    "        elif \"http\" in token:\n",
    "            continue\n",
    "        else:\n",
    "            tok = fstem(token)\n",
    "        \n",
    "        if deaccent and tok.isalpha():\n",
    "            tok = unidecode.unidecode(tok)\n",
    "        if alpha_only and not tok.isalpha():\n",
    "            continue\n",
    "        \n",
    "        ret.append(tok)\n",
    "    return ret\n",
    "\n"
   ]
  },
  {
   "cell_type": "markdown",
   "metadata": {},
   "source": [
    "## Embeddings Model"
   ]
  },
  {
   "cell_type": "code",
   "execution_count": 4,
   "metadata": {},
   "outputs": [],
   "source": [
    "tokenize_args = {\n",
    "    \"preserve_case\": False, \n",
    "    \"deaccent\": False,\n",
    "    \"reduce_len\": True, \n",
    "    \"strip_handles\": False,\n",
    "    \"stem\": False,\n",
    "    \"alpha_only\": True\n",
    "}\n",
    "\n",
    "text_train = [\" \".join(tokenize(t, **tokenize_args)) for t in df_train[\"text\"].values]\n",
    "text_dev = [\" \".join(tokenize(t, **tokenize_args)) for t in df_dev[\"text\"].values]\n"
   ]
  },
  {
   "cell_type": "code",
   "execution_count": 5,
   "metadata": {},
   "outputs": [
    {
     "data": {
      "text/plain": [
       "'no hay nada más lento que un caracol cállate hijo de puta eso lo dices porque no tienes blackberry'"
      ]
     },
     "execution_count": 5,
     "metadata": {},
     "output_type": "execute_result"
    }
   ],
   "source": [
    "text_train[-1]"
   ]
  },
  {
   "cell_type": "code",
   "execution_count": 6,
   "metadata": {},
   "outputs": [],
   "source": [
    "from keras.preprocessing.text import Tokenizer\n",
    "from keras.preprocessing.sequence import pad_sequences\n",
    "\n",
    "emb_num_words = 12500\n",
    "\n",
    "tokenizer = Tokenizer(num_words=emb_num_words)\n",
    "tokenizer.fit_on_texts(text_train)\n",
    "\n",
    "emb_train = tokenizer.texts_to_sequences(text_train)\n",
    "emb_dev = tokenizer.texts_to_sequences(text_dev)\n"
   ]
  },
  {
   "cell_type": "code",
   "execution_count": 7,
   "metadata": {},
   "outputs": [
    {
     "name": "stdout",
     "output_type": "stream",
     "text": [
      "Vocabulario: 14008 palabras\n"
     ]
    }
   ],
   "source": [
    "print(\"Vocabulario: {} palabras\".format(len(tokenizer.word_index)))"
   ]
  },
  {
   "cell_type": "code",
   "execution_count": 8,
   "metadata": {},
   "outputs": [
    {
     "data": {
      "text/plain": [
       "(array([525., 981., 923., 771., 415., 331., 286., 181.,  73.,  14.]),\n",
       " array([ 1. ,  6.8, 12.6, 18.4, 24.2, 30. , 35.8, 41.6, 47.4, 53.2, 59. ]),\n",
       " <a list of 10 Patch objects>)"
      ]
     },
     "execution_count": 8,
     "metadata": {},
     "output_type": "execute_result"
    },
    {
     "data": {
      "image/png": "[encoded data removed]",
      "text/plain": [
       "<Figure size 432x288 with 1 Axes>"
      ]
     },
     "metadata": {
      "needs_background": "light"
     },
     "output_type": "display_data"
    }
   ],
   "source": [
    "plt.hist([len(t) for t in emb_train])"
   ]
  },
  {
   "cell_type": "code",
   "execution_count": 9,
   "metadata": {},
   "outputs": [],
   "source": [
    "\n",
    "emb_max_length = 40\n",
    "\n",
    "X_emb_train = pad_sequences(emb_train, emb_max_length)\n",
    "X_emb_dev = pad_sequences(emb_dev, emb_max_length)"
   ]
  },
  {
   "cell_type": "code",
   "execution_count": 10,
   "metadata": {},
   "outputs": [],
   "source": [
    "# create a weight matrix for words in training docs\n",
    "import numpy as np\n",
    "\n",
    "embedding_size = word_to_vec[\"hola\"].shape[0]\n",
    "embedding_matrix = np.zeros((emb_num_words, embedding_size))\n",
    "\n",
    "for word, i in tokenizer.word_index.items():\n",
    "    embedding_vector = word_to_vec.get(word)\n",
    "    if embedding_vector is not None and i < emb_num_words:\n",
    "        embedding_matrix[i] = embedding_vector"
   ]
  },
  {
   "cell_type": "markdown",
   "metadata": {},
   "source": [
    "## Bow Model"
   ]
  },
  {
   "cell_type": "code",
   "execution_count": 11,
   "metadata": {},
   "outputs": [
    {
     "data": {
      "text/plain": [
       "((4500, 6961), (500, 6961))"
      ]
     },
     "execution_count": 11,
     "metadata": {},
     "output_type": "execute_result"
    }
   ],
   "source": [
    "\n",
    "tokenize_args = {\n",
    "    \"preserve_case\": False, \n",
    "    \"deaccent\": False,\n",
    "    \"reduce_len\": True, \n",
    "    \"strip_handles\": False,\n",
    "    \"stem\": True,\n",
    "    \"alpha_only\": True\n",
    "}\n",
    "vect = CountVectorizer(tokenizer=lambda t: tokenize(t, **tokenize_args), \n",
    "                       max_df=0.50, min_df=0.0005, ngram_range=(1, 2), binary=True)\n",
    "\n",
    "vect.fit(df_train[\"text\"])\n",
    "\n",
    "X_bow_train = vect.transform(df_train[\"text\"])\n",
    "X_bow_dev = vect.transform(df_dev[\"text\"])\n",
    "\n",
    "X_bow_train.shape, X_bow_dev.shape"
   ]
  },
  {
   "cell_type": "markdown",
   "metadata": {},
   "source": [
    "## Char Input"
   ]
  },
  {
   "cell_type": "code",
   "execution_count": 12,
   "metadata": {},
   "outputs": [],
   "source": [
    "from keras.preprocessing.text import Tokenizer\n",
    "from keras.preprocessing.sequence import pad_sequences\n",
    "\n",
    "vocab_size = 200\n",
    "\n",
    "\n",
    "tokenize_args = {\n",
    "    \"preserve_case\": False, \n",
    "    \"deaccent\": True,\n",
    "    \"reduce_len\": True, \n",
    "    \"strip_handles\": False,\n",
    "    \"stem\": True,\n",
    "    \"alpha_only\": True,\n",
    "}\n",
    "\n",
    "text_train = [\" \".join(tokenize(t, **tokenize_args)) for t in df_train[\"text\"].values]\n",
    "text_dev = [\" \".join(tokenize(t, **tokenize_args)) for t in df_dev[\"text\"].values]\n",
    "\n",
    "char_tokenizer = Tokenizer(num_words=vocab_size, char_level=True, \n",
    "                           lower=tokenize_args[\"preserve_case\"])\n",
    "char_tokenizer.fit_on_texts(text_train)\n",
    "\n",
    "X_char_train = char_tokenizer.texts_to_sequences(text_train)\n",
    "X_char_dev = char_tokenizer.texts_to_sequences(text_dev)"
   ]
  },
  {
   "cell_type": "code",
   "execution_count": 13,
   "metadata": {},
   "outputs": [
    {
     "data": {
      "text/plain": [
       "(array([419., 884., 893., 721., 527., 303., 260., 238., 206.,  49.]),\n",
       " array([  3. ,  27.9,  52.8,  77.7, 102.6, 127.5, 152.4, 177.3, 202.2,\n",
       "        227.1, 252. ]),\n",
       " <a list of 10 Patch objects>)"
      ]
     },
     "execution_count": 13,
     "metadata": {},
     "output_type": "execute_result"
    },
    {
     "data": {
      "image/png": "[encoded data removed]",
      "text/plain": [
       "<Figure size 432x288 with 1 Axes>"
      ]
     },
     "metadata": {
      "needs_background": "light"
     },
     "output_type": "display_data"
    }
   ],
   "source": [
    "%matplotlib inline\n",
    "import matplotlib.pyplot as plt\n",
    "\n",
    "plt.hist([len(seq) for seq in X_char_train])"
   ]
  },
  {
   "cell_type": "markdown",
   "metadata": {},
   "source": [
    "Sanity check: veamos que si \"destokenizo\", me reconstruye algo razonable"
   ]
  },
  {
   "cell_type": "code",
   "execution_count": 14,
   "metadata": {},
   "outputs": [
    {
     "name": "stdout",
     "output_type": "stream",
     "text": [
      "['e a s y j e t   q u i e r   d u p l i c   e l   n u m e r   d e   m u j e r   p i l o t   v e r a s   t u   p a r   a p a r c   e l   a v i o n']\n",
      "easyjet quier duplic el numer de mujer pilot veras tu par aparc el avion\n",
      "['e l   g o b i e r n   d e b   c r e   u n   c o n t r o l   e s t r i c t   d e   i n m i g r   e n   l a s   z o n   f r o n t e r i z   c o n   c o l o m b i   p o r   q   d e s p u e s   d e l   q u e r r a n   v e n   e n   m a s']\n",
      "el gobiern deb cre un control estrict de inmigr en las zon fronteriz con colombi por q despues del querran ven en mas\n"
     ]
    }
   ],
   "source": [
    "print(char_tokenizer.sequences_to_texts(X_char_train[0:1]))\n",
    "print(text_train[0])\n",
    "print(char_tokenizer.sequences_to_texts(X_char_train[1:2]))\n",
    "print(text_train[1])"
   ]
  },
  {
   "cell_type": "code",
   "execution_count": 15,
   "metadata": {},
   "outputs": [],
   "source": [
    "\n",
    "max_charlen = 250\n",
    "\n",
    "X_char_train = pad_sequences(X_char_train, maxlen=max_charlen)\n",
    "X_char_dev = pad_sequences(X_char_dev, maxlen=max_charlen)"
   ]
  },
  {
   "cell_type": "markdown",
   "metadata": {},
   "source": [
    "## Elmo Input"
   ]
  },
  {
   "cell_type": "code",
   "execution_count": 16,
   "metadata": {},
   "outputs": [
    {
     "data": {
      "text/plain": [
       "['easyjet',\n",
       " 'quiere',\n",
       " 'duplicar',\n",
       " 'el',\n",
       " 'número',\n",
       " 'de',\n",
       " 'mujeres',\n",
       " 'piloto',\n",
       " 'verás',\n",
       " 'tú',\n",
       " 'para',\n",
       " 'aparcar',\n",
       " 'el',\n",
       " 'avión']"
      ]
     },
     "execution_count": 16,
     "metadata": {},
     "output_type": "execute_result"
    }
   ],
   "source": [
    "from keras.utils import to_categorical\n",
    "import numpy as np\n",
    "\n",
    "tokenize_args = {\n",
    "    \"preserve_case\": False, \n",
    "    \"deaccent\": False,\n",
    "    \"reduce_len\": True, \n",
    "    \"strip_handles\": False,\n",
    "    \"alpha_only\": True,\n",
    "}\n",
    "\n",
    "\n",
    "tokens_train = [tokenize(tweet, **tokenize_args) for tweet in df_train[\"text\"].values]\n",
    "tokens_dev = [tokenize(tweet, **tokenize_args) for tweet in df_dev[\"text\"].values]\n",
    "\n",
    "tokens_train[0]"
   ]
  },
  {
   "cell_type": "markdown",
   "metadata": {},
   "source": [
    "Ahora, calculemos los inputs de ElMO"
   ]
  },
  {
   "cell_type": "code",
   "execution_count": 17,
   "metadata": {},
   "outputs": [
    {
     "data": {
      "text/plain": [
       "(array([505., 959., 927., 772., 417., 336., 285., 200.,  82.,  17.]),\n",
       " array([ 1. ,  6.8, 12.6, 18.4, 24.2, 30. , 35.8, 41.6, 47.4, 53.2, 59. ]),\n",
       " <a list of 10 Patch objects>)"
      ]
     },
     "execution_count": 17,
     "metadata": {},
     "output_type": "execute_result"
    },
    {
     "data": {
      "image/png": "[encoded data removed]",
      "text/plain": [
       "<Figure size 432x288 with 1 Axes>"
      ]
     },
     "metadata": {
      "needs_background": "light"
     },
     "output_type": "display_data"
    }
   ],
   "source": [
    "%matplotlib inline\n",
    "import matplotlib.pyplot as plt\n",
    "\n",
    "plt.hist([len(t) for t in tokens_train])"
   ]
  },
  {
   "cell_type": "markdown",
   "metadata": {},
   "source": [
    "Padeamos los vectores con espacios"
   ]
  },
  {
   "cell_type": "code",
   "execution_count": 18,
   "metadata": {},
   "outputs": [],
   "source": [
    "elmo_max_length = 50\n",
    "\n",
    "def pad_tokens(tokens, max_len):\n",
    "    if len(tokens) >= max_len:\n",
    "        return tokens[:max_len]\n",
    "    else:\n",
    "        tokens = tokens + [''] * (max_len - len(tokens))\n",
    "    return tokens\n",
    "\n",
    "padded_tokens_train = [pad_tokens(seq, elmo_max_length) for seq in tokens_train]\n",
    "padded_tokens_dev = [pad_tokens(seq, elmo_max_length) for seq in tokens_dev]\n"
   ]
  },
  {
   "cell_type": "code",
   "execution_count": 19,
   "metadata": {},
   "outputs": [],
   "source": [
    "%%capture\n",
    "from elmoformanylangs import Embedder\n",
    "\n",
    "e = Embedder(\"../../../models/elmo/es/\")"
   ]
  },
  {
   "cell_type": "code",
   "execution_count": 20,
   "metadata": {},
   "outputs": [
    {
     "name": "stdout",
     "output_type": "stream",
     "text": [
      "['easyjet', 'quiere', 'duplicar', 'el', 'número', 'de', 'mujeres', 'piloto', 'verás', 'tú', 'para', 'aparcar', 'el', 'avión', '', '', '', '', '', '', '', '', '', '', '', '', '', '', '', '', '', '', '', '', '', '', '', '', '', '', '', '', '', '', '', '', '', '', '', '']\n"
     ]
    }
   ],
   "source": [
    "import numpy as np\n",
    "\n",
    "print(padded_tokens_train[0])\n",
    "\n",
    "elmo_dim = 1024\n",
    "\n",
    "elmo_train = np.array(e.sents2elmo(padded_tokens_train, -1))\n",
    "elmo_dev = np.array(e.sents2elmo(padded_tokens_dev, -1))"
   ]
  },
  {
   "cell_type": "code",
   "execution_count": 21,
   "metadata": {},
   "outputs": [
    {
     "data": {
      "text/plain": [
       "(array([8.8074e+04, 5.0161e+04, 2.1559e+04, 3.0609e+04, 2.4549e+04,\n",
       "        8.9650e+03, 1.0060e+03, 7.1000e+01, 4.0000e+00, 2.0000e+00]),\n",
       " array([13.04727 , 16.203661, 19.360052, 22.516443, 25.672834, 28.829227,\n",
       "        31.985619, 35.14201 , 38.2984  , 41.454792, 44.611183],\n",
       "       dtype=float32),\n",
       " <a list of 10 Patch objects>)"
      ]
     },
     "execution_count": 21,
     "metadata": {},
     "output_type": "execute_result"
    },
    {
     "data": {
      "image/png": "[encoded data removed]",
      "text/plain": [
       "<Figure size 432x288 with 1 Axes>"
      ]
     },
     "metadata": {
      "needs_background": "light"
     },
     "output_type": "display_data"
    }
   ],
   "source": [
    "plt.hist([np.linalg.norm(t) for seq in elmo_train for t in seq ])"
   ]
  },
  {
   "cell_type": "code",
   "execution_count": 22,
   "metadata": {},
   "outputs": [
    {
     "data": {
      "text/plain": [
       "((4500, 50, 1024), (500, 50, 1024))"
      ]
     },
     "execution_count": 22,
     "metadata": {},
     "output_type": "execute_result"
    }
   ],
   "source": [
    "\n",
    "def pad_vectors(X, max_len, norm=False):\n",
    "    pad_vector = np.zeros((1, elmo_dim))\n",
    "    ret = []\n",
    "    \n",
    "    for seq in X:\n",
    "        if norm:\n",
    "            seq = seq / np.linalg.norm(seq, axis=1)[..., np.newaxis]\n",
    "        if len(seq) > max_len:\n",
    "            ret.append(seq[:max_len])\n",
    "        else:\n",
    "            padded = np.vstack([\n",
    "                seq, \n",
    "                np.zeros((max_len - len(seq), elmo_dim))\n",
    "            ])\n",
    "            \n",
    "            ret.append(padded)\n",
    "        \n",
    "    return ret\n",
    "\n",
    "\n",
    "X_elmo_train = np.array(pad_vectors(elmo_train, elmo_max_length))\n",
    "X_elmo_dev = np.array(pad_vectors(elmo_dev, elmo_max_length))\n",
    "\n",
    "X_elmo_train.shape, X_elmo_dev.shape"
   ]
  },
  {
   "cell_type": "code",
   "execution_count": 23,
   "metadata": {},
   "outputs": [
    {
     "data": {
      "text/plain": [
       "(array([8.8074e+04, 5.0161e+04, 2.1559e+04, 3.0609e+04, 2.4549e+04,\n",
       "        8.9650e+03, 1.0060e+03, 7.1000e+01, 4.0000e+00, 2.0000e+00]),\n",
       " array([13.04726955, 16.20366094, 19.36005234, 22.51644373, 25.67283512,\n",
       "        28.82922651, 31.98561791, 35.1420093 , 38.29840069, 41.45479209,\n",
       "        44.61118348]),\n",
       " <a list of 10 Patch objects>)"
      ]
     },
     "execution_count": 23,
     "metadata": {},
     "output_type": "execute_result"
    },
    {
     "data": {
      "image/png": "[encoded data removed]",
      "text/plain": [
       "<Figure size 432x288 with 1 Axes>"
      ]
     },
     "metadata": {
      "needs_background": "light"
     },
     "output_type": "display_data"
    }
   ],
   "source": [
    "norms = [np.linalg.norm(t) for seq in X_elmo_train for t in seq ]\n",
    "\n",
    "plt.hist(norms)"
   ]
  },
  {
   "cell_type": "markdown",
   "metadata": {},
   "source": [
    "## Modelo múltiple inputs\n",
    "Hagamos un primer modelo con múltiple inputs."
   ]
  },
  {
   "cell_type": "code",
   "execution_count": 24,
   "metadata": {},
   "outputs": [
    {
     "name": "stdout",
     "output_type": "stream",
     "text": [
      "_________________________________________________________________\n",
      "Layer (type)                 Output Shape              Param #   \n",
      "=================================================================\n",
      "Char_Input (InputLayer)      (None, 250)               0         \n",
      "_________________________________________________________________\n",
      "embedding_1 (Embedding)      (None, 250, 64)           12800     \n",
      "_________________________________________________________________\n",
      "conv1d_1 (Conv1D)            (None, 250, 128)          49280     \n",
      "_________________________________________________________________\n",
      "max_pooling1d_1 (MaxPooling1 (None, 62, 128)           0         \n",
      "_________________________________________________________________\n",
      "bidirectional_1 (Bidirection (None, 256)               264192    \n",
      "_________________________________________________________________\n",
      "dropout_1 (Dropout)          (None, 256)               0         \n",
      "_________________________________________________________________\n",
      "dense_char (Dense)           (None, 128)               32896     \n",
      "_________________________________________________________________\n",
      "dropout_2 (Dropout)          (None, 128)               0         \n",
      "_________________________________________________________________\n",
      "dense_1 (Dense)              (None, 1)                 129       \n",
      "=================================================================\n",
      "Total params: 359,297\n",
      "Trainable params: 359,297\n",
      "Non-trainable params: 0\n",
      "_________________________________________________________________\n",
      "None\n",
      "_________________________________________________________________\n",
      "Layer (type)                 Output Shape              Param #   \n",
      "=================================================================\n",
      "Elmo_Input (InputLayer)      (None, 50, 1024)          0         \n",
      "_________________________________________________________________\n",
      "bidirectional_2 (Bidirection (None, 192)               861696    \n",
      "_________________________________________________________________\n",
      "dropout_3 (Dropout)          (None, 192)               0         \n",
      "_________________________________________________________________\n",
      "dense_elmo (Dense)           (None, 128)               24704     \n",
      "_________________________________________________________________\n",
      "dropout_4 (Dropout)          (None, 128)               0         \n",
      "_________________________________________________________________\n",
      "dense_2 (Dense)              (None, 1)                 129       \n",
      "=================================================================\n",
      "Total params: 886,529\n",
      "Trainable params: 886,529\n",
      "Non-trainable params: 0\n",
      "_________________________________________________________________\n",
      "None\n",
      "_________________________________________________________________\n",
      "Layer (type)                 Output Shape              Param #   \n",
      "=================================================================\n",
      "BoW_Input (InputLayer)       (None, 6961)              0         \n",
      "_________________________________________________________________\n",
      "dense_3 (Dense)              (None, 128)               891136    \n",
      "_________________________________________________________________\n",
      "dropout_5 (Dropout)          (None, 128)               0         \n",
      "_________________________________________________________________\n",
      "dense_bow (Dense)            (None, 128)               16512     \n",
      "_________________________________________________________________\n",
      "dropout_6 (Dropout)          (None, 128)               0         \n",
      "_________________________________________________________________\n",
      "dense_4 (Dense)              (None, 1)                 129       \n",
      "=================================================================\n",
      "Total params: 907,777\n",
      "Trainable params: 907,777\n",
      "Non-trainable params: 0\n",
      "_________________________________________________________________\n",
      "None\n",
      "_________________________________________________________________\n",
      "Layer (type)                 Output Shape              Param #   \n",
      "=================================================================\n",
      "Emb_Input (InputLayer)       (None, 40)                0         \n",
      "_________________________________________________________________\n",
      "embedding_2 (Embedding)      (None, 40, 300)           3750000   \n",
      "_________________________________________________________________\n",
      "bidirectional_3 (Bidirection (None, 128)               187392    \n",
      "_________________________________________________________________\n",
      "dropout_7 (Dropout)          (None, 128)               0         \n",
      "_________________________________________________________________\n",
      "dense_emb (Dense)            (None, 128)               16512     \n",
      "_________________________________________________________________\n",
      "dropout_8 (Dropout)          (None, 128)               0         \n",
      "_________________________________________________________________\n",
      "dense_5 (Dense)              (None, 1)                 129       \n",
      "=================================================================\n",
      "Total params: 3,954,033\n",
      "Trainable params: 204,033\n",
      "Non-trainable params: 3,750,000\n",
      "_________________________________________________________________\n",
      "None\n"
     ]
    },
    {
     "data": {
      "image/png": "[encoded data removed]",
      "text/plain": [
       "<IPython.core.display.Image object>"
      ]
     },
     "metadata": {},
     "output_type": "display_data"
    },
    {
     "data": {
      "image/png": "[encoded data removed]",
      "text/plain": [
       "<IPython.core.display.Image object>"
      ]
     },
     "metadata": {},
     "output_type": "display_data"
    },
    {
     "data": {
      "image/png": "[encoded data removed]",
      "text/plain": [
       "<IPython.core.display.Image object>"
      ]
     },
     "metadata": {},
     "output_type": "display_data"
    },
    {
     "data": {
      "image/png": "[encoded data removed]",
      "text/plain": [
       "<IPython.core.display.Image object>"
      ]
     },
     "metadata": {},
     "output_type": "display_data"
    }
   ],
   "source": [
    "from keras.models import Model\n",
    "from keras.layers import (\n",
    "    Dense, GRU, Dropout, LSTM, Bidirectional, Embedding, GlobalAveragePooling1D,\n",
    "    CuDNNLSTM, CuDNNGRU, Conv1D, MaxPooling1D, Input, Concatenate, BatchNormalization)\n",
    "from keras.optimizers import Adam\n",
    "from keras.utils import plot_model\n",
    "from IPython.display import Image\n",
    "\n",
    "recursive_class = CuDNNLSTM\n",
    "\n",
    "def create_char_graph(max_charlen, vocab_size, embedding_dim=64, filters=128, kernel_size=6,\n",
    "                      pooling_size=3, lstm_units=128, dense_units=128, dropout=[0.75, 0.50]):\n",
    "    input_char = Input(shape=(max_charlen,), name=\"Char_Input\")\n",
    "    x = Embedding(vocab_size, embedding_dim)(input_char)\n",
    "    x = Conv1D(filters=filters, kernel_size=kernel_size, \n",
    "               padding='same', activation='relu')(x) \n",
    "    \n",
    "    x = MaxPooling1D(pool_size=pooling_size)(x)\n",
    "    x = Bidirectional(recursive_class(lstm_units))(x)\n",
    "    x = Dropout(dropout[0])(x)\n",
    "    x = Dense(dense_units, activation='relu', name='dense_char')(x)\n",
    "    x = Dropout(dropout[1])(x)\n",
    "    output = Dense(1, activation='sigmoid')(x)\n",
    "    return input_char, output\n",
    "\n",
    "\n",
    "def create_elmo_graph(max_length, lstm_units=128, dense_units=128, dropout=[0.75, 0.50]):\n",
    "    input_elmo = Input(shape=(max_length, elmo_dim), name=\"Elmo_Input\")\n",
    "    y = Bidirectional(recursive_class(lstm_units))(input_elmo)\n",
    "    y = Dropout(dropout[0])(y)\n",
    "    y = Dense(dense_units, activation='relu', name='dense_elmo')(y)\n",
    "    y = Dropout(dropout[1])(y)\n",
    "    output = Dense(1, activation='sigmoid')(y)\n",
    "    return input_elmo, output\n",
    "\n",
    "def create_bow_graph(input_shape, dense_units=512, dropout=[0.75, 0.50]):\n",
    "    input_bow = Input(shape=input_shape, name=\"BoW_Input\")\n",
    "    z = Dense(dense_units, activation='relu')(input_bow)\n",
    "    z = Dropout(dropout[0])(z)\n",
    "    z = Dense(128, activation='relu', name='dense_bow')(z)\n",
    "    z = Dropout(dropout[1])(z)\n",
    "    output = Dense(1, activation='sigmoid')(z)\n",
    "    return input_bow, output\n",
    "\n",
    "def create_embeddings_graph(max_len, embedding_matrix, lstm_units=256, dense_units=128, dropout=[0.75, 0.50]):\n",
    "    input_embeddings = Input(shape=(max_len, ), name=\"Emb_Input\")\n",
    "\n",
    "    w = Embedding(embedding_matrix.shape[0], embedding_matrix.shape[1], \n",
    "                  input_length=max_len, weights=[embedding_matrix], trainable=False)(input_embeddings)\n",
    "    #w = GlobalAveragePooling1D()(w)\n",
    "    w = Bidirectional(recursive_class(lstm_units))(w)\n",
    "    w = Dropout(dropout[0])(w)\n",
    "    w = Dense(dense_units, activation='relu', name='dense_emb')(w)\n",
    "    w = Dropout(dropout[1])(w)\n",
    "    output = Dense(1, activation='sigmoid')(w)\n",
    "    return input_embeddings, output\n",
    "\n",
    "\n",
    "\n",
    "\n",
    "dropouts = [0.75, 0.55]\n",
    "\n",
    "\n",
    "input_char, output_char = create_char_graph(\n",
    "    max_charlen, vocab_size, embedding_dim=64, lstm_units=128, \n",
    "    filters=128, kernel_size=6, pooling_size=4,\n",
    "    dropout=dropouts)\n",
    "\n",
    "input_elmo, output_elmo = create_elmo_graph(elmo_max_length, lstm_units=96, dropout=dropouts)\n",
    "input_bow, output_bow = create_bow_graph(input_shape=(X_bow_train.shape[1],), dense_units=128, dropout=dropouts)\n",
    "\n",
    "input_emb, output_emb = create_embeddings_graph(emb_max_length, embedding_matrix, lstm_units=64, dropout=dropouts)\n",
    "\n",
    "char_model = Model(inputs=[input_char], outputs=[output_char])\n",
    "elmo_model = Model(inputs=[input_elmo], outputs=[output_elmo])\n",
    "bow_model = Model(inputs=[input_bow], outputs=[output_bow])\n",
    "emb_model = Model(inputs=[input_emb], outputs=[output_emb])\n",
    "\n",
    "\n",
    "use_char = True\n",
    "use_elmo = True\n",
    "use_bow = True\n",
    "use_emb = True\n",
    "\n",
    "\n",
    "if use_char:\n",
    "    pass\n",
    "if use_elmo:\n",
    "    pass\n",
    "if use_bow:\n",
    "    pass\n",
    "if use_emb:\n",
    "    pass\n",
    "\n",
    "images = []\n",
    "\n",
    "print(char_model.summary())\n",
    "plot_model(char_model, to_file='/tmp/char_model.png')\n",
    "images.append(Image('/tmp/char_model.png'))\n",
    "\n",
    "print(elmo_model.summary())\n",
    "plot_model(elmo_model, to_file='/tmp/elmo_model.png')\n",
    "images.append(Image('/tmp/elmo_model.png'))\n",
    "\n",
    "print(bow_model.summary())\n",
    "plot_model(bow_model, to_file='/tmp/bow_model.png')\n",
    "images.append(Image('/tmp/bow_model.png'))\n",
    "\n",
    "print(emb_model.summary())\n",
    "plot_model(emb_model, to_file='/tmp/emb_model.png')\n",
    "images.append(Image('/tmp/emb_model.png'))\n",
    "\n",
    "from IPython.display import display\n",
    "\n",
    "display(*images)"
   ]
  },
  {
   "cell_type": "code",
   "execution_count": 25,
   "metadata": {},
   "outputs": [],
   "source": [
    "optimizer_args = {\n",
    "    \"lr\": 0.001,\n",
    "    \"decay\": 0.01,\n",
    "    \"amsgrad\": False\n",
    "}\n",
    "\n",
    "\n",
    "\n",
    "\n",
    "char_model.compile(loss='binary_crossentropy', \n",
    "              optimizer=Adam(), \n",
    "              metrics=['accuracy'])\n",
    "\n",
    "elmo_model.compile(loss='binary_crossentropy', \n",
    "              optimizer=Adam(**optimizer_args), \n",
    "              metrics=['accuracy'])\n",
    "\n",
    "bow_model.compile(loss='binary_crossentropy', \n",
    "              optimizer=Adam(**optimizer_args), \n",
    "              metrics=['accuracy'])\n",
    "\n",
    "emb_model.compile(loss='binary_crossentropy', \n",
    "              optimizer=Adam(**optimizer_args), \n",
    "              metrics=['accuracy'])\n"
   ]
  },
  {
   "cell_type": "code",
   "execution_count": 26,
   "metadata": {},
   "outputs": [
    {
     "name": "stdout",
     "output_type": "stream",
     "text": [
      "Train on 4500 samples, validate on 500 samples\n",
      "Epoch 1/50\n",
      "4500/4500 [==============================] - 4s 833us/step - loss: 0.6791 - acc: 0.5820 - val_loss: 0.6754 - val_acc: 0.6020\n",
      "\n",
      "Epoch 00001: val_acc improved from -inf to 0.60200, saving model to /tmp/char_ensemble_13.h5\n",
      "Epoch 2/50\n",
      "4500/4500 [==============================] - 2s 450us/step - loss: 0.6527 - acc: 0.6360 - val_loss: 0.6546 - val_acc: 0.6020\n",
      "\n",
      "Epoch 00002: val_acc improved from 0.60200 to 0.60200, saving model to /tmp/char_ensemble_13.h5\n",
      "Epoch 3/50\n",
      "4500/4500 [==============================] - 2s 454us/step - loss: 0.6069 - acc: 0.6900 - val_loss: 0.6311 - val_acc: 0.6540\n",
      "\n",
      "Epoch 00003: val_acc improved from 0.60200 to 0.65400, saving model to /tmp/char_ensemble_13.h5\n",
      "Epoch 4/50\n",
      "4500/4500 [==============================] - 2s 453us/step - loss: 0.5666 - acc: 0.7189 - val_loss: 0.5698 - val_acc: 0.7100\n",
      "\n",
      "Epoch 00004: val_acc improved from 0.65400 to 0.71000, saving model to /tmp/char_ensemble_13.h5\n",
      "Epoch 5/50\n",
      "4500/4500 [==============================] - 2s 422us/step - loss: 0.5424 - acc: 0.7387 - val_loss: 0.5523 - val_acc: 0.7280\n",
      "\n",
      "Epoch 00005: val_acc improved from 0.71000 to 0.72800, saving model to /tmp/char_ensemble_13.h5\n",
      "Epoch 6/50\n",
      "4500/4500 [==============================] - 2s 415us/step - loss: 0.5070 - acc: 0.7609 - val_loss: 0.5300 - val_acc: 0.7280\n",
      "\n",
      "Epoch 00006: val_acc improved from 0.72800 to 0.72800, saving model to /tmp/char_ensemble_13.h5\n",
      "Epoch 7/50\n",
      "4500/4500 [==============================] - 2s 441us/step - loss: 0.4711 - acc: 0.7862 - val_loss: 0.5195 - val_acc: 0.7380\n",
      "\n",
      "Epoch 00007: val_acc improved from 0.72800 to 0.73800, saving model to /tmp/char_ensemble_13.h5\n",
      "Epoch 8/50\n",
      "4500/4500 [==============================] - 2s 436us/step - loss: 0.4768 - acc: 0.7847 - val_loss: 0.5416 - val_acc: 0.7680\n",
      "\n",
      "Epoch 00008: val_acc improved from 0.73800 to 0.76800, saving model to /tmp/char_ensemble_13.h5\n",
      "Epoch 9/50\n",
      "4500/4500 [==============================] - 2s 414us/step - loss: 0.4580 - acc: 0.7973 - val_loss: 0.5386 - val_acc: 0.7280\n",
      "\n",
      "Epoch 00009: val_acc did not improve from 0.76800\n",
      "Epoch 10/50\n",
      "4500/4500 [==============================] - 2s 431us/step - loss: 0.4066 - acc: 0.8311 - val_loss: 0.5682 - val_acc: 0.7440\n",
      "\n",
      "Epoch 00010: val_acc did not improve from 0.76800\n",
      "Epoch 11/50\n",
      "4500/4500 [==============================] - 2s 433us/step - loss: 0.4161 - acc: 0.8236 - val_loss: 0.5617 - val_acc: 0.7140\n",
      "\n",
      "Epoch 00011: val_acc did not improve from 0.76800\n",
      "Epoch 12/50\n",
      "4500/4500 [==============================] - 2s 433us/step - loss: 0.3558 - acc: 0.8560 - val_loss: 0.5454 - val_acc: 0.7400\n",
      "\n",
      "Epoch 00012: val_acc did not improve from 0.76800\n",
      "Epoch 13/50\n",
      "4500/4500 [==============================] - 2s 427us/step - loss: 0.3367 - acc: 0.8571 - val_loss: 0.5817 - val_acc: 0.7680\n",
      "\n",
      "Epoch 00013: val_acc did not improve from 0.76800\n",
      "Epoch 14/50\n",
      "4500/4500 [==============================] - 2s 420us/step - loss: 0.3087 - acc: 0.8747 - val_loss: 0.6049 - val_acc: 0.7500\n",
      "\n",
      "Epoch 00014: val_acc did not improve from 0.76800\n",
      "Epoch 15/50\n",
      "4500/4500 [==============================] - 2s 429us/step - loss: 0.2941 - acc: 0.8813 - val_loss: 0.5993 - val_acc: 0.7840\n",
      "\n",
      "Epoch 00015: val_acc improved from 0.76800 to 0.78400, saving model to /tmp/char_ensemble_13.h5\n",
      "Epoch 16/50\n",
      "4500/4500 [==============================] - 2s 420us/step - loss: 0.2569 - acc: 0.9031 - val_loss: 0.6369 - val_acc: 0.7340\n",
      "\n",
      "Epoch 00016: val_acc did not improve from 0.78400\n",
      "Epoch 17/50\n",
      "4500/4500 [==============================] - 2s 440us/step - loss: 0.2359 - acc: 0.9064 - val_loss: 0.7444 - val_acc: 0.7500\n",
      "\n",
      "Epoch 00017: val_acc did not improve from 0.78400\n",
      "Epoch 18/50\n",
      "4500/4500 [==============================] - 2s 455us/step - loss: 0.2059 - acc: 0.9220 - val_loss: 0.8277 - val_acc: 0.7280\n",
      "\n",
      "Epoch 00018: val_acc did not improve from 0.78400\n",
      "Epoch 19/50\n",
      "4500/4500 [==============================] - 2s 445us/step - loss: 0.1773 - acc: 0.9324 - val_loss: 0.8081 - val_acc: 0.7300\n",
      "\n",
      "Epoch 00019: val_acc did not improve from 0.78400\n",
      "Epoch 20/50\n",
      "4500/4500 [==============================] - 2s 450us/step - loss: 0.1591 - acc: 0.9418 - val_loss: 0.9157 - val_acc: 0.7160\n",
      "\n",
      "Epoch 00020: val_acc did not improve from 0.78400\n",
      "Epoch 21/50\n",
      "4500/4500 [==============================] - 2s 451us/step - loss: 0.1515 - acc: 0.9418 - val_loss: 0.9188 - val_acc: 0.7300\n",
      "\n",
      "Epoch 00021: val_acc did not improve from 0.78400\n",
      "Epoch 22/50\n",
      "4500/4500 [==============================] - 2s 448us/step - loss: 0.1600 - acc: 0.9404 - val_loss: 1.0212 - val_acc: 0.7160\n",
      "\n",
      "Epoch 00022: val_acc did not improve from 0.78400\n",
      "Epoch 23/50\n",
      "4500/4500 [==============================] - 2s 465us/step - loss: 0.0950 - acc: 0.9671 - val_loss: 1.2822 - val_acc: 0.7200\n",
      "\n",
      "Epoch 00023: val_acc did not improve from 0.78400\n",
      "Epoch 24/50\n",
      "4500/4500 [==============================] - 2s 467us/step - loss: 0.1185 - acc: 0.9573 - val_loss: 1.0894 - val_acc: 0.7300\n",
      "\n",
      "Epoch 00024: val_acc did not improve from 0.78400\n",
      "Epoch 25/50\n",
      "4500/4500 [==============================] - 2s 494us/step - loss: 0.1103 - acc: 0.9627 - val_loss: 1.1735 - val_acc: 0.7440\n",
      "\n",
      "Epoch 00025: val_acc did not improve from 0.78400\n",
      "Epoch 26/50\n",
      "4500/4500 [==============================] - 2s 464us/step - loss: 0.0876 - acc: 0.9673 - val_loss: 1.2161 - val_acc: 0.7520\n",
      "\n",
      "Epoch 00026: val_acc did not improve from 0.78400\n",
      "Epoch 27/50\n",
      "4500/4500 [==============================] - 2s 458us/step - loss: 0.0861 - acc: 0.9702 - val_loss: 1.2219 - val_acc: 0.7620\n",
      "\n",
      "Epoch 00027: val_acc did not improve from 0.78400\n",
      "Epoch 28/50\n",
      "4500/4500 [==============================] - 2s 455us/step - loss: 0.0640 - acc: 0.9769 - val_loss: 1.3038 - val_acc: 0.7240\n",
      "\n",
      "Epoch 00028: val_acc did not improve from 0.78400\n",
      "Epoch 29/50\n",
      "4500/4500 [==============================] - 2s 451us/step - loss: 0.0696 - acc: 0.9776 - val_loss: 1.3322 - val_acc: 0.7440\n",
      "\n",
      "Epoch 00029: val_acc did not improve from 0.78400\n",
      "Epoch 30/50\n",
      "4500/4500 [==============================] - 2s 458us/step - loss: 0.0573 - acc: 0.9807 - val_loss: 1.3832 - val_acc: 0.7340\n",
      "\n",
      "Epoch 00030: val_acc did not improve from 0.78400\n",
      "Epoch 31/50\n",
      "4500/4500 [==============================] - 2s 442us/step - loss: 0.0517 - acc: 0.9844 - val_loss: 1.4960 - val_acc: 0.7400\n",
      "\n",
      "Epoch 00031: val_acc did not improve from 0.78400\n",
      "Epoch 32/50\n",
      "4500/4500 [==============================] - 2s 431us/step - loss: 0.0561 - acc: 0.9818 - val_loss: 1.4309 - val_acc: 0.7420\n",
      "\n",
      "Epoch 00032: val_acc did not improve from 0.78400\n",
      "Epoch 33/50\n",
      "4500/4500 [==============================] - 2s 454us/step - loss: 0.0575 - acc: 0.9798 - val_loss: 1.3078 - val_acc: 0.7360\n",
      "\n",
      "Epoch 00033: val_acc did not improve from 0.78400\n",
      "Epoch 34/50\n",
      "4500/4500 [==============================] - 2s 437us/step - loss: 0.0501 - acc: 0.9829 - val_loss: 1.4571 - val_acc: 0.7060\n",
      "\n",
      "Epoch 00034: val_acc did not improve from 0.78400\n",
      "Epoch 35/50\n",
      "4500/4500 [==============================] - 2s 450us/step - loss: 0.0680 - acc: 0.9747 - val_loss: 1.4804 - val_acc: 0.7200\n",
      "\n",
      "Epoch 00035: val_acc did not improve from 0.78400\n",
      "Epoch 36/50\n",
      "4500/4500 [==============================] - 2s 445us/step - loss: 0.0355 - acc: 0.9891 - val_loss: 1.4331 - val_acc: 0.7380\n",
      "\n",
      "Epoch 00036: val_acc did not improve from 0.78400\n",
      "Epoch 37/50\n",
      "4500/4500 [==============================] - 2s 476us/step - loss: 0.0522 - acc: 0.9816 - val_loss: 1.4971 - val_acc: 0.7440\n",
      "\n",
      "Epoch 00037: val_acc did not improve from 0.78400\n",
      "Epoch 38/50\n",
      "4500/4500 [==============================] - 2s 457us/step - loss: 0.0469 - acc: 0.9831 - val_loss: 1.7905 - val_acc: 0.7380\n",
      "\n",
      "Epoch 00038: val_acc did not improve from 0.78400\n",
      "Epoch 39/50\n",
      "4500/4500 [==============================] - 2s 433us/step - loss: 0.0669 - acc: 0.9744 - val_loss: 1.1454 - val_acc: 0.6700\n",
      "\n",
      "Epoch 00039: val_acc did not improve from 0.78400\n",
      "Epoch 40/50\n",
      "4500/4500 [==============================] - 2s 442us/step - loss: 0.0531 - acc: 0.9796 - val_loss: 1.7505 - val_acc: 0.7340\n",
      "\n",
      "Epoch 00040: val_acc did not improve from 0.78400\n",
      "Epoch 41/50\n",
      "4500/4500 [==============================] - 2s 443us/step - loss: 0.0324 - acc: 0.9880 - val_loss: 1.7825 - val_acc: 0.7340\n",
      "\n",
      "Epoch 00041: val_acc did not improve from 0.78400\n",
      "Epoch 42/50\n",
      "4500/4500 [==============================] - 2s 457us/step - loss: 0.0303 - acc: 0.9904 - val_loss: 1.8100 - val_acc: 0.7220\n",
      "\n",
      "Epoch 00042: val_acc did not improve from 0.78400\n",
      "Epoch 43/50\n",
      "4500/4500 [==============================] - 2s 459us/step - loss: 0.0744 - acc: 0.9762 - val_loss: 1.2449 - val_acc: 0.7320\n",
      "\n",
      "Epoch 00043: val_acc did not improve from 0.78400\n",
      "Epoch 44/50\n",
      "4500/4500 [==============================] - 2s 445us/step - loss: 0.0285 - acc: 0.9900 - val_loss: 1.6131 - val_acc: 0.7360\n",
      "\n",
      "Epoch 00044: val_acc did not improve from 0.78400\n",
      "Epoch 45/50\n",
      "4500/4500 [==============================] - 2s 442us/step - loss: 0.0332 - acc: 0.9871 - val_loss: 1.5885 - val_acc: 0.7120\n",
      "\n",
      "Epoch 00045: val_acc did not improve from 0.78400\n",
      "Epoch 46/50\n",
      "4500/4500 [==============================] - 2s 459us/step - loss: 0.0512 - acc: 0.9824 - val_loss: 1.4332 - val_acc: 0.7140\n",
      "\n",
      "Epoch 00046: val_acc did not improve from 0.78400\n",
      "Epoch 47/50\n",
      "4500/4500 [==============================] - 2s 447us/step - loss: 0.0699 - acc: 0.9771 - val_loss: 1.6129 - val_acc: 0.7340\n",
      "\n",
      "Epoch 00047: val_acc did not improve from 0.78400\n",
      "Epoch 48/50\n",
      "4500/4500 [==============================] - 2s 444us/step - loss: 0.0271 - acc: 0.9907 - val_loss: 1.7175 - val_acc: 0.7180\n",
      "\n",
      "Epoch 00048: val_acc did not improve from 0.78400\n",
      "Epoch 49/50\n",
      "4500/4500 [==============================] - 2s 451us/step - loss: 0.0189 - acc: 0.9944 - val_loss: 1.7306 - val_acc: 0.7620\n",
      "\n",
      "Epoch 00049: val_acc did not improve from 0.78400\n",
      "Epoch 50/50\n",
      "4500/4500 [==============================] - 2s 445us/step - loss: 0.0307 - acc: 0.9916 - val_loss: 1.6383 - val_acc: 0.7520\n",
      "\n",
      "Epoch 00050: val_acc did not improve from 0.78400\n"
     ]
    },
    {
     "data": {
      "text/plain": [
       "<keras.callbacks.History at 0x7f86a8e1bc18>"
      ]
     },
     "execution_count": 26,
     "metadata": {},
     "output_type": "execute_result"
    }
   ],
   "source": [
    "from keras.callbacks import ModelCheckpoint\n",
    "\n",
    "checkpointer = ModelCheckpoint('/tmp/char_ensemble_13.h5', save_best_only=True, monitor='val_acc', verbose=1)\n",
    "\n",
    "char_model.fit(X_char_train, y_train, callbacks=[checkpointer],\n",
    "          validation_data=(X_char_dev, y_dev), epochs=50, batch_size=32)\n"
   ]
  },
  {
   "cell_type": "code",
   "execution_count": 27,
   "metadata": {},
   "outputs": [
    {
     "name": "stdout",
     "output_type": "stream",
     "text": [
      "500/500 [==============================] - 0s 167us/step\n",
      "Loss        : 0.5993\n",
      "Accuracy    : 0.7840\n",
      "Precision   : 0.7822\n",
      "Recall      : 0.7117\n",
      "F1          : 0.7453\n"
     ]
    }
   ],
   "source": [
    "from hate.utils import print_evaluation\n",
    "\n",
    "char_model.load_weights(checkpointer.filepath)\n",
    "\n",
    "\n",
    "print_evaluation(char_model, X_char_dev, y_dev)"
   ]
  },
  {
   "cell_type": "code",
   "execution_count": 28,
   "metadata": {},
   "outputs": [
    {
     "name": "stdout",
     "output_type": "stream",
     "text": [
      "Train on 4500 samples, validate on 500 samples\n",
      "Epoch 1/30\n",
      "4500/4500 [==============================] - 4s 801us/step - loss: 0.7138 - acc: 0.5636 - val_loss: 0.6713 - val_acc: 0.6400\n",
      "\n",
      "Epoch 00001: val_acc improved from -inf to 0.64000, saving model to /tmp/elmo_ensemble_13.h5\n",
      "Epoch 2/30\n",
      "4500/4500 [==============================] - 3s 622us/step - loss: 0.6545 - acc: 0.6184 - val_loss: 0.6414 - val_acc: 0.6460\n",
      "\n",
      "Epoch 00002: val_acc improved from 0.64000 to 0.64600, saving model to /tmp/elmo_ensemble_13.h5\n",
      "Epoch 3/30\n",
      "4500/4500 [==============================] - 3s 624us/step - loss: 0.6323 - acc: 0.6578 - val_loss: 0.6218 - val_acc: 0.6640\n",
      "\n",
      "Epoch 00003: val_acc improved from 0.64600 to 0.66400, saving model to /tmp/elmo_ensemble_13.h5\n",
      "Epoch 4/30\n",
      "4500/4500 [==============================] - 3s 629us/step - loss: 0.6086 - acc: 0.6784 - val_loss: 0.5949 - val_acc: 0.6760\n",
      "\n",
      "Epoch 00004: val_acc improved from 0.66400 to 0.67600, saving model to /tmp/elmo_ensemble_13.h5\n",
      "Epoch 5/30\n",
      "4500/4500 [==============================] - 3s 631us/step - loss: 0.5811 - acc: 0.7036 - val_loss: 0.5682 - val_acc: 0.7020\n",
      "\n",
      "Epoch 00005: val_acc improved from 0.67600 to 0.70200, saving model to /tmp/elmo_ensemble_13.h5\n",
      "Epoch 6/30\n",
      "4500/4500 [==============================] - 3s 623us/step - loss: 0.5654 - acc: 0.7189 - val_loss: 0.5477 - val_acc: 0.7240\n",
      "\n",
      "Epoch 00006: val_acc improved from 0.70200 to 0.72400, saving model to /tmp/elmo_ensemble_13.h5\n",
      "Epoch 7/30\n",
      "4500/4500 [==============================] - 3s 633us/step - loss: 0.5484 - acc: 0.7316 - val_loss: 0.5281 - val_acc: 0.7300\n",
      "\n",
      "Epoch 00007: val_acc improved from 0.72400 to 0.73000, saving model to /tmp/elmo_ensemble_13.h5\n",
      "Epoch 8/30\n",
      "4500/4500 [==============================] - 3s 626us/step - loss: 0.5296 - acc: 0.7476 - val_loss: 0.5104 - val_acc: 0.7560\n",
      "\n",
      "Epoch 00008: val_acc improved from 0.73000 to 0.75600, saving model to /tmp/elmo_ensemble_13.h5\n",
      "Epoch 9/30\n",
      "4500/4500 [==============================] - 3s 627us/step - loss: 0.5153 - acc: 0.7544 - val_loss: 0.5043 - val_acc: 0.7620\n",
      "\n",
      "Epoch 00009: val_acc improved from 0.75600 to 0.76200, saving model to /tmp/elmo_ensemble_13.h5\n",
      "Epoch 10/30\n",
      "4500/4500 [==============================] - 3s 619us/step - loss: 0.5020 - acc: 0.7616 - val_loss: 0.4875 - val_acc: 0.7680\n",
      "\n",
      "Epoch 00010: val_acc improved from 0.76200 to 0.76800, saving model to /tmp/elmo_ensemble_13.h5\n",
      "Epoch 11/30\n",
      "4500/4500 [==============================] - 3s 631us/step - loss: 0.4908 - acc: 0.7702 - val_loss: 0.4739 - val_acc: 0.7760\n",
      "\n",
      "Epoch 00011: val_acc improved from 0.76800 to 0.77600, saving model to /tmp/elmo_ensemble_13.h5\n",
      "Epoch 12/30\n",
      "4500/4500 [==============================] - 3s 626us/step - loss: 0.4802 - acc: 0.7769 - val_loss: 0.4761 - val_acc: 0.7760\n",
      "\n",
      "Epoch 00012: val_acc improved from 0.77600 to 0.77600, saving model to /tmp/elmo_ensemble_13.h5\n",
      "Epoch 13/30\n",
      "4500/4500 [==============================] - 3s 625us/step - loss: 0.4683 - acc: 0.7929 - val_loss: 0.4620 - val_acc: 0.7760\n",
      "\n",
      "Epoch 00013: val_acc did not improve from 0.77600\n",
      "Epoch 14/30\n",
      "4500/4500 [==============================] - 3s 629us/step - loss: 0.4669 - acc: 0.7853 - val_loss: 0.4551 - val_acc: 0.7800\n",
      "\n",
      "Epoch 00014: val_acc improved from 0.77600 to 0.78000, saving model to /tmp/elmo_ensemble_13.h5\n",
      "Epoch 15/30\n",
      "4500/4500 [==============================] - 3s 624us/step - loss: 0.4580 - acc: 0.7927 - val_loss: 0.4463 - val_acc: 0.7960\n",
      "\n",
      "Epoch 00015: val_acc improved from 0.78000 to 0.79600, saving model to /tmp/elmo_ensemble_13.h5\n",
      "Epoch 16/30\n",
      "4500/4500 [==============================] - 3s 630us/step - loss: 0.4477 - acc: 0.8027 - val_loss: 0.4467 - val_acc: 0.7920\n",
      "\n",
      "Epoch 00016: val_acc did not improve from 0.79600\n",
      "Epoch 17/30\n",
      "4500/4500 [==============================] - 3s 621us/step - loss: 0.4385 - acc: 0.8011 - val_loss: 0.4446 - val_acc: 0.7960\n",
      "\n",
      "Epoch 00017: val_acc did not improve from 0.79600\n",
      "Epoch 18/30\n",
      "4500/4500 [==============================] - 3s 631us/step - loss: 0.4300 - acc: 0.8013 - val_loss: 0.4389 - val_acc: 0.8060\n",
      "\n",
      "Epoch 00018: val_acc improved from 0.79600 to 0.80600, saving model to /tmp/elmo_ensemble_13.h5\n",
      "Epoch 19/30\n",
      "4500/4500 [==============================] - 3s 621us/step - loss: 0.4247 - acc: 0.8153 - val_loss: 0.4337 - val_acc: 0.8060\n",
      "\n",
      "Epoch 00019: val_acc improved from 0.80600 to 0.80600, saving model to /tmp/elmo_ensemble_13.h5\n",
      "Epoch 20/30\n",
      "4500/4500 [==============================] - 3s 621us/step - loss: 0.4134 - acc: 0.8180 - val_loss: 0.4285 - val_acc: 0.8040\n",
      "\n",
      "Epoch 00020: val_acc did not improve from 0.80600\n",
      "Epoch 21/30\n",
      "4500/4500 [==============================] - 3s 629us/step - loss: 0.4077 - acc: 0.8218 - val_loss: 0.4299 - val_acc: 0.8000\n",
      "\n",
      "Epoch 00021: val_acc did not improve from 0.80600\n",
      "Epoch 22/30\n",
      "4500/4500 [==============================] - 3s 618us/step - loss: 0.4046 - acc: 0.8256 - val_loss: 0.4310 - val_acc: 0.8080\n",
      "\n",
      "Epoch 00022: val_acc improved from 0.80600 to 0.80800, saving model to /tmp/elmo_ensemble_13.h5\n",
      "Epoch 23/30\n",
      "4500/4500 [==============================] - 3s 622us/step - loss: 0.3927 - acc: 0.8276 - val_loss: 0.4265 - val_acc: 0.8020\n",
      "\n",
      "Epoch 00023: val_acc did not improve from 0.80800\n",
      "Epoch 24/30\n",
      "4500/4500 [==============================] - 3s 622us/step - loss: 0.3926 - acc: 0.8309 - val_loss: 0.4227 - val_acc: 0.8000\n",
      "\n",
      "Epoch 00024: val_acc did not improve from 0.80800\n",
      "Epoch 25/30\n",
      "4500/4500 [==============================] - 3s 625us/step - loss: 0.3879 - acc: 0.8300 - val_loss: 0.4225 - val_acc: 0.8120\n",
      "\n",
      "Epoch 00025: val_acc improved from 0.80800 to 0.81200, saving model to /tmp/elmo_ensemble_13.h5\n",
      "Epoch 26/30\n",
      "4500/4500 [==============================] - 3s 621us/step - loss: 0.3788 - acc: 0.8444 - val_loss: 0.4211 - val_acc: 0.8060\n",
      "\n",
      "Epoch 00026: val_acc did not improve from 0.81200\n",
      "Epoch 27/30\n",
      "4500/4500 [==============================] - 3s 631us/step - loss: 0.3786 - acc: 0.8364 - val_loss: 0.4207 - val_acc: 0.8140\n",
      "\n",
      "Epoch 00027: val_acc improved from 0.81200 to 0.81400, saving model to /tmp/elmo_ensemble_13.h5\n",
      "Epoch 28/30\n",
      "4500/4500 [==============================] - 3s 626us/step - loss: 0.3752 - acc: 0.8438 - val_loss: 0.4168 - val_acc: 0.8080\n",
      "\n",
      "Epoch 00028: val_acc did not improve from 0.81400\n",
      "Epoch 29/30\n",
      "4500/4500 [==============================] - 3s 632us/step - loss: 0.3750 - acc: 0.8422 - val_loss: 0.4190 - val_acc: 0.8140\n",
      "\n",
      "Epoch 00029: val_acc improved from 0.81400 to 0.81400, saving model to /tmp/elmo_ensemble_13.h5\n",
      "Epoch 30/30\n",
      "4500/4500 [==============================] - 3s 627us/step - loss: 0.3701 - acc: 0.8436 - val_loss: 0.4195 - val_acc: 0.8160\n",
      "\n",
      "Epoch 00030: val_acc improved from 0.81400 to 0.81600, saving model to /tmp/elmo_ensemble_13.h5\n"
     ]
    },
    {
     "data": {
      "text/plain": [
       "<keras.callbacks.History at 0x7f87d019e748>"
      ]
     },
     "execution_count": 28,
     "metadata": {},
     "output_type": "execute_result"
    }
   ],
   "source": [
    "from keras.callbacks import ModelCheckpoint\n",
    "\n",
    "checkpointer = ModelCheckpoint('/tmp/elmo_ensemble_13.h5', save_best_only=True, monitor='val_acc', verbose=1)\n",
    "\n",
    "elmo_model.fit(X_elmo_train, y_train, callbacks=[checkpointer],\n",
    "          validation_data=(X_elmo_dev, y_dev), epochs=30, batch_size=32)\n"
   ]
  },
  {
   "cell_type": "code",
   "execution_count": 29,
   "metadata": {},
   "outputs": [
    {
     "name": "stdout",
     "output_type": "stream",
     "text": [
      "500/500 [==============================] - 0s 331us/step\n",
      "Loss        : 0.4195\n",
      "Accuracy    : 0.8160\n",
      "Precision   : 0.7731\n",
      "Recall      : 0.8288\n",
      "F1          : 0.8000\n"
     ]
    }
   ],
   "source": [
    "from hate.utils import print_evaluation\n",
    "\n",
    "elmo_model.load_weights(checkpointer.filepath)\n",
    "\n",
    "\n",
    "print_evaluation(elmo_model, X_elmo_dev, y_dev)"
   ]
  },
  {
   "cell_type": "code",
   "execution_count": 30,
   "metadata": {},
   "outputs": [
    {
     "name": "stdout",
     "output_type": "stream",
     "text": [
      "Train on 4500 samples, validate on 500 samples\n",
      "Epoch 1/30\n",
      "4500/4500 [==============================] - 2s 335us/step - loss: 0.6581 - acc: 0.5987 - val_loss: 0.6209 - val_acc: 0.6300\n",
      "\n",
      "Epoch 00001: val_acc improved from -inf to 0.63000, saving model to /tmp/bow_ensemble_13.h5\n",
      "Epoch 2/30\n",
      "4500/4500 [==============================] - 1s 206us/step - loss: 0.5567 - acc: 0.7456 - val_loss: 0.5198 - val_acc: 0.7600\n",
      "\n",
      "Epoch 00002: val_acc improved from 0.63000 to 0.76000, saving model to /tmp/bow_ensemble_13.h5\n",
      "Epoch 3/30\n",
      "4500/4500 [==============================] - 1s 203us/step - loss: 0.4636 - acc: 0.7980 - val_loss: 0.4715 - val_acc: 0.7960\n",
      "\n",
      "Epoch 00003: val_acc improved from 0.76000 to 0.79600, saving model to /tmp/bow_ensemble_13.h5\n",
      "Epoch 4/30\n",
      "4500/4500 [==============================] - 1s 205us/step - loss: 0.4041 - acc: 0.8469 - val_loss: 0.4491 - val_acc: 0.8080\n",
      "\n",
      "Epoch 00004: val_acc improved from 0.79600 to 0.80800, saving model to /tmp/bow_ensemble_13.h5\n",
      "Epoch 5/30\n",
      "4500/4500 [==============================] - 1s 203us/step - loss: 0.3599 - acc: 0.8631 - val_loss: 0.4407 - val_acc: 0.8140\n",
      "\n",
      "Epoch 00005: val_acc improved from 0.80800 to 0.81400, saving model to /tmp/bow_ensemble_13.h5\n",
      "Epoch 6/30\n",
      "4500/4500 [==============================] - 1s 197us/step - loss: 0.3242 - acc: 0.8776 - val_loss: 0.4363 - val_acc: 0.8100\n",
      "\n",
      "Epoch 00006: val_acc did not improve from 0.81400\n",
      "Epoch 7/30\n",
      "4500/4500 [==============================] - 1s 205us/step - loss: 0.2928 - acc: 0.8918 - val_loss: 0.4396 - val_acc: 0.8120\n",
      "\n",
      "Epoch 00007: val_acc did not improve from 0.81400\n",
      "Epoch 8/30\n",
      "4500/4500 [==============================] - 1s 203us/step - loss: 0.2819 - acc: 0.9002 - val_loss: 0.4374 - val_acc: 0.8120\n",
      "\n",
      "Epoch 00008: val_acc did not improve from 0.81400\n",
      "Epoch 9/30\n",
      "4500/4500 [==============================] - 1s 202us/step - loss: 0.2695 - acc: 0.9053 - val_loss: 0.4418 - val_acc: 0.8120\n",
      "\n",
      "Epoch 00009: val_acc did not improve from 0.81400\n",
      "Epoch 10/30\n",
      "4500/4500 [==============================] - 1s 204us/step - loss: 0.2423 - acc: 0.9162 - val_loss: 0.4429 - val_acc: 0.8020\n",
      "\n",
      "Epoch 00010: val_acc did not improve from 0.81400\n",
      "Epoch 11/30\n",
      "4500/4500 [==============================] - 1s 203us/step - loss: 0.2328 - acc: 0.9204 - val_loss: 0.4446 - val_acc: 0.8020\n",
      "\n",
      "Epoch 00011: val_acc did not improve from 0.81400\n",
      "Epoch 12/30\n",
      "4500/4500 [==============================] - 1s 199us/step - loss: 0.2250 - acc: 0.9213 - val_loss: 0.4479 - val_acc: 0.8020\n",
      "\n",
      "Epoch 00012: val_acc did not improve from 0.81400\n",
      "Epoch 13/30\n",
      "4500/4500 [==============================] - 1s 202us/step - loss: 0.2203 - acc: 0.9198 - val_loss: 0.4480 - val_acc: 0.7960\n",
      "\n",
      "Epoch 00013: val_acc did not improve from 0.81400\n",
      "Epoch 14/30\n",
      "4500/4500 [==============================] - 1s 205us/step - loss: 0.2072 - acc: 0.9253 - val_loss: 0.4551 - val_acc: 0.8020\n",
      "\n",
      "Epoch 00014: val_acc did not improve from 0.81400\n",
      "Epoch 15/30\n",
      "4500/4500 [==============================] - 1s 204us/step - loss: 0.1989 - acc: 0.9336 - val_loss: 0.4586 - val_acc: 0.8060\n",
      "\n",
      "Epoch 00015: val_acc did not improve from 0.81400\n",
      "Epoch 16/30\n",
      "4500/4500 [==============================] - 1s 207us/step - loss: 0.1969 - acc: 0.9338 - val_loss: 0.4609 - val_acc: 0.8040\n",
      "\n",
      "Epoch 00016: val_acc did not improve from 0.81400\n",
      "Epoch 17/30\n",
      "4500/4500 [==============================] - 1s 198us/step - loss: 0.1896 - acc: 0.9344 - val_loss: 0.4616 - val_acc: 0.8000\n",
      "\n",
      "Epoch 00017: val_acc did not improve from 0.81400\n",
      "Epoch 18/30\n",
      "4500/4500 [==============================] - 1s 200us/step - loss: 0.1855 - acc: 0.9380 - val_loss: 0.4649 - val_acc: 0.8020\n",
      "\n",
      "Epoch 00018: val_acc did not improve from 0.81400\n",
      "Epoch 19/30\n",
      "4500/4500 [==============================] - 1s 203us/step - loss: 0.1742 - acc: 0.9449 - val_loss: 0.4669 - val_acc: 0.8000\n",
      "\n",
      "Epoch 00019: val_acc did not improve from 0.81400\n",
      "Epoch 20/30\n",
      "4500/4500 [==============================] - 1s 209us/step - loss: 0.1782 - acc: 0.9411 - val_loss: 0.4685 - val_acc: 0.8000\n",
      "\n",
      "Epoch 00020: val_acc did not improve from 0.81400\n",
      "Epoch 21/30\n",
      "4500/4500 [==============================] - 1s 210us/step - loss: 0.1636 - acc: 0.9473 - val_loss: 0.4731 - val_acc: 0.8000\n",
      "\n",
      "Epoch 00021: val_acc did not improve from 0.81400\n",
      "Epoch 22/30\n",
      "4500/4500 [==============================] - 1s 199us/step - loss: 0.1581 - acc: 0.9487 - val_loss: 0.4760 - val_acc: 0.8000\n",
      "\n",
      "Epoch 00022: val_acc did not improve from 0.81400\n",
      "Epoch 23/30\n",
      "4500/4500 [==============================] - 1s 204us/step - loss: 0.1545 - acc: 0.9469 - val_loss: 0.4766 - val_acc: 0.8020\n",
      "\n",
      "Epoch 00023: val_acc did not improve from 0.81400\n",
      "Epoch 24/30\n",
      "4500/4500 [==============================] - 1s 205us/step - loss: 0.1497 - acc: 0.9511 - val_loss: 0.4797 - val_acc: 0.8000\n",
      "\n",
      "Epoch 00024: val_acc did not improve from 0.81400\n",
      "Epoch 25/30\n",
      "4500/4500 [==============================] - 1s 208us/step - loss: 0.1549 - acc: 0.9493 - val_loss: 0.4824 - val_acc: 0.7960\n",
      "\n",
      "Epoch 00025: val_acc did not improve from 0.81400\n",
      "Epoch 26/30\n",
      "4500/4500 [==============================] - 1s 206us/step - loss: 0.1478 - acc: 0.9556 - val_loss: 0.4856 - val_acc: 0.7960\n",
      "\n",
      "Epoch 00026: val_acc did not improve from 0.81400\n",
      "Epoch 27/30\n",
      "4500/4500 [==============================] - 1s 207us/step - loss: 0.1425 - acc: 0.9547 - val_loss: 0.4892 - val_acc: 0.7960\n",
      "\n",
      "Epoch 00027: val_acc did not improve from 0.81400\n",
      "Epoch 28/30\n",
      "4500/4500 [==============================] - 1s 204us/step - loss: 0.1389 - acc: 0.9584 - val_loss: 0.4915 - val_acc: 0.7980\n",
      "\n",
      "Epoch 00028: val_acc did not improve from 0.81400\n",
      "Epoch 29/30\n",
      "4500/4500 [==============================] - 1s 204us/step - loss: 0.1424 - acc: 0.9569 - val_loss: 0.4940 - val_acc: 0.8000\n",
      "\n",
      "Epoch 00029: val_acc did not improve from 0.81400\n",
      "Epoch 30/30\n",
      "4500/4500 [==============================] - 1s 201us/step - loss: 0.1325 - acc: 0.9604 - val_loss: 0.4949 - val_acc: 0.8000\n",
      "\n",
      "Epoch 00030: val_acc did not improve from 0.81400\n"
     ]
    },
    {
     "data": {
      "text/plain": [
       "<keras.callbacks.History at 0x7f87cf8e6da0>"
      ]
     },
     "execution_count": 30,
     "metadata": {},
     "output_type": "execute_result"
    }
   ],
   "source": [
    "from keras.callbacks import ModelCheckpoint\n",
    "\n",
    "checkpointer = ModelCheckpoint('/tmp/bow_ensemble_13.h5', save_best_only=True, monitor='val_acc', verbose=1)\n",
    "\n",
    "bow_model.fit(X_bow_train, y_train, callbacks=[checkpointer],\n",
    "          validation_data=(X_bow_dev, y_dev), epochs=30, batch_size=32)\n"
   ]
  },
  {
   "cell_type": "code",
   "execution_count": 31,
   "metadata": {},
   "outputs": [
    {
     "name": "stdout",
     "output_type": "stream",
     "text": [
      "500/500 [==============================] - 0s 105us/step\n",
      "Loss        : 0.4407\n",
      "Accuracy    : 0.8140\n",
      "Precision   : 0.8177\n",
      "Recall      : 0.7477\n",
      "F1          : 0.7812\n"
     ]
    }
   ],
   "source": [
    "from hate.utils import print_evaluation\n",
    "\n",
    "bow_model.load_weights(checkpointer.filepath)\n",
    "\n",
    "\n",
    "print_evaluation(bow_model, X_bow_dev, y_dev)"
   ]
  },
  {
   "cell_type": "code",
   "execution_count": 32,
   "metadata": {},
   "outputs": [
    {
     "name": "stdout",
     "output_type": "stream",
     "text": [
      "Train on 4500 samples, validate on 500 samples\n",
      "Epoch 1/30\n",
      "4500/4500 [==============================] - 3s 575us/step - loss: 0.6607 - acc: 0.6213 - val_loss: 0.6269 - val_acc: 0.6700\n",
      "\n",
      "Epoch 00001: val_acc improved from -inf to 0.67000, saving model to /tmp/emb_ensemble_13.h5\n",
      "Epoch 2/30\n",
      "4500/4500 [==============================] - 2s 365us/step - loss: 0.5952 - acc: 0.7022 - val_loss: 0.5621 - val_acc: 0.7360\n",
      "\n",
      "Epoch 00002: val_acc improved from 0.67000 to 0.73600, saving model to /tmp/emb_ensemble_13.h5\n",
      "Epoch 3/30\n",
      "4500/4500 [==============================] - 2s 362us/step - loss: 0.5576 - acc: 0.7351 - val_loss: 0.5435 - val_acc: 0.7440\n",
      "\n",
      "Epoch 00003: val_acc improved from 0.73600 to 0.74400, saving model to /tmp/emb_ensemble_13.h5\n",
      "Epoch 4/30\n",
      "4500/4500 [==============================] - 2s 358us/step - loss: 0.5274 - acc: 0.7553 - val_loss: 0.5277 - val_acc: 0.7580\n",
      "\n",
      "Epoch 00004: val_acc improved from 0.74400 to 0.75800, saving model to /tmp/emb_ensemble_13.h5\n",
      "Epoch 5/30\n",
      "4500/4500 [==============================] - 2s 363us/step - loss: 0.5048 - acc: 0.7613 - val_loss: 0.5111 - val_acc: 0.7700\n",
      "\n",
      "Epoch 00005: val_acc improved from 0.75800 to 0.77000, saving model to /tmp/emb_ensemble_13.h5\n",
      "Epoch 6/30\n",
      "4500/4500 [==============================] - 2s 380us/step - loss: 0.4945 - acc: 0.7716 - val_loss: 0.5063 - val_acc: 0.7720\n",
      "\n",
      "Epoch 00006: val_acc improved from 0.77000 to 0.77200, saving model to /tmp/emb_ensemble_13.h5\n",
      "Epoch 7/30\n",
      "4500/4500 [==============================] - 2s 358us/step - loss: 0.4893 - acc: 0.7709 - val_loss: 0.4957 - val_acc: 0.7900\n",
      "\n",
      "Epoch 00007: val_acc improved from 0.77200 to 0.79000, saving model to /tmp/emb_ensemble_13.h5\n",
      "Epoch 8/30\n",
      "4500/4500 [==============================] - 2s 361us/step - loss: 0.4754 - acc: 0.7829 - val_loss: 0.4938 - val_acc: 0.7940\n",
      "\n",
      "Epoch 00008: val_acc improved from 0.79000 to 0.79400, saving model to /tmp/emb_ensemble_13.h5\n",
      "Epoch 9/30\n",
      "4500/4500 [==============================] - 2s 371us/step - loss: 0.4678 - acc: 0.7862 - val_loss: 0.4892 - val_acc: 0.7980\n",
      "\n",
      "Epoch 00009: val_acc improved from 0.79400 to 0.79800, saving model to /tmp/emb_ensemble_13.h5\n",
      "Epoch 10/30\n",
      "4500/4500 [==============================] - 2s 360us/step - loss: 0.4721 - acc: 0.7847 - val_loss: 0.4846 - val_acc: 0.8000\n",
      "\n",
      "Epoch 00010: val_acc improved from 0.79800 to 0.80000, saving model to /tmp/emb_ensemble_13.h5\n",
      "Epoch 11/30\n",
      "4500/4500 [==============================] - 2s 363us/step - loss: 0.4545 - acc: 0.7969 - val_loss: 0.4823 - val_acc: 0.8040\n",
      "\n",
      "Epoch 00011: val_acc improved from 0.80000 to 0.80400, saving model to /tmp/emb_ensemble_13.h5\n",
      "Epoch 12/30\n",
      "4500/4500 [==============================] - 2s 361us/step - loss: 0.4537 - acc: 0.7953 - val_loss: 0.4802 - val_acc: 0.8040\n",
      "\n",
      "Epoch 00012: val_acc did not improve from 0.80400\n",
      "Epoch 13/30\n",
      "4500/4500 [==============================] - 2s 357us/step - loss: 0.4469 - acc: 0.7991 - val_loss: 0.4772 - val_acc: 0.8000\n",
      "\n",
      "Epoch 00013: val_acc did not improve from 0.80400\n",
      "Epoch 14/30\n",
      "4500/4500 [==============================] - 2s 365us/step - loss: 0.4437 - acc: 0.7998 - val_loss: 0.4929 - val_acc: 0.7880\n",
      "\n",
      "Epoch 00014: val_acc did not improve from 0.80400\n",
      "Epoch 15/30\n",
      "4500/4500 [==============================] - 2s 359us/step - loss: 0.4364 - acc: 0.8047 - val_loss: 0.4836 - val_acc: 0.7900\n",
      "\n",
      "Epoch 00015: val_acc did not improve from 0.80400\n",
      "Epoch 16/30\n",
      "4500/4500 [==============================] - 2s 364us/step - loss: 0.4386 - acc: 0.8024 - val_loss: 0.4876 - val_acc: 0.7980\n",
      "\n",
      "Epoch 00016: val_acc did not improve from 0.80400\n",
      "Epoch 17/30\n",
      "4500/4500 [==============================] - 2s 367us/step - loss: 0.4346 - acc: 0.8091 - val_loss: 0.4789 - val_acc: 0.7980\n",
      "\n",
      "Epoch 00017: val_acc did not improve from 0.80400\n",
      "Epoch 18/30\n",
      "4500/4500 [==============================] - 2s 359us/step - loss: 0.4253 - acc: 0.8116 - val_loss: 0.4980 - val_acc: 0.7740\n",
      "\n",
      "Epoch 00018: val_acc did not improve from 0.80400\n",
      "Epoch 19/30\n",
      "4500/4500 [==============================] - 2s 359us/step - loss: 0.4269 - acc: 0.8049 - val_loss: 0.4769 - val_acc: 0.8020\n",
      "\n",
      "Epoch 00019: val_acc did not improve from 0.80400\n",
      "Epoch 20/30\n",
      "4500/4500 [==============================] - 2s 367us/step - loss: 0.4193 - acc: 0.8162 - val_loss: 0.4848 - val_acc: 0.8000\n",
      "\n",
      "Epoch 00020: val_acc did not improve from 0.80400\n",
      "Epoch 21/30\n",
      "4500/4500 [==============================] - 2s 364us/step - loss: 0.4159 - acc: 0.8133 - val_loss: 0.4857 - val_acc: 0.7980\n",
      "\n",
      "Epoch 00021: val_acc did not improve from 0.80400\n",
      "Epoch 22/30\n",
      "4500/4500 [==============================] - 2s 367us/step - loss: 0.4167 - acc: 0.8138 - val_loss: 0.4724 - val_acc: 0.8160\n",
      "\n",
      "Epoch 00022: val_acc improved from 0.80400 to 0.81600, saving model to /tmp/emb_ensemble_13.h5\n",
      "Epoch 23/30\n",
      "4500/4500 [==============================] - 2s 361us/step - loss: 0.4030 - acc: 0.8158 - val_loss: 0.4896 - val_acc: 0.7960\n",
      "\n",
      "Epoch 00023: val_acc did not improve from 0.81600\n",
      "Epoch 24/30\n",
      "4500/4500 [==============================] - 2s 367us/step - loss: 0.4084 - acc: 0.8218 - val_loss: 0.4781 - val_acc: 0.8060\n",
      "\n",
      "Epoch 00024: val_acc did not improve from 0.81600\n",
      "Epoch 25/30\n",
      "4500/4500 [==============================] - 2s 366us/step - loss: 0.4051 - acc: 0.8209 - val_loss: 0.4849 - val_acc: 0.7980\n",
      "\n",
      "Epoch 00025: val_acc did not improve from 0.81600\n",
      "Epoch 26/30\n",
      "4500/4500 [==============================] - 2s 354us/step - loss: 0.4038 - acc: 0.8229 - val_loss: 0.4759 - val_acc: 0.8060\n",
      "\n",
      "Epoch 00026: val_acc did not improve from 0.81600\n",
      "Epoch 27/30\n",
      "4500/4500 [==============================] - 2s 362us/step - loss: 0.4003 - acc: 0.8211 - val_loss: 0.4760 - val_acc: 0.8100\n",
      "\n",
      "Epoch 00027: val_acc did not improve from 0.81600\n",
      "Epoch 28/30\n",
      "4500/4500 [==============================] - 2s 367us/step - loss: 0.3950 - acc: 0.8287 - val_loss: 0.4943 - val_acc: 0.7940\n",
      "\n",
      "Epoch 00028: val_acc did not improve from 0.81600\n",
      "Epoch 29/30\n",
      "4500/4500 [==============================] - 2s 358us/step - loss: 0.3974 - acc: 0.8269 - val_loss: 0.4843 - val_acc: 0.8060\n",
      "\n",
      "Epoch 00029: val_acc did not improve from 0.81600\n",
      "Epoch 30/30\n",
      "4500/4500 [==============================] - 2s 366us/step - loss: 0.3983 - acc: 0.8247 - val_loss: 0.4797 - val_acc: 0.8100\n",
      "\n",
      "Epoch 00030: val_acc did not improve from 0.81600\n"
     ]
    },
    {
     "data": {
      "text/plain": [
       "<keras.callbacks.History at 0x7f87cf3b8978>"
      ]
     },
     "execution_count": 32,
     "metadata": {},
     "output_type": "execute_result"
    }
   ],
   "source": [
    "from keras.callbacks import ModelCheckpoint\n",
    "\n",
    "checkpointer = ModelCheckpoint('/tmp/emb_ensemble_13.h5', save_best_only=True, monitor='val_acc', verbose=1)\n",
    "\n",
    "emb_model.fit(X_emb_train, y_train, callbacks=[checkpointer],\n",
    "          validation_data=(X_emb_dev, y_dev), epochs=30, batch_size=32)\n"
   ]
  },
  {
   "cell_type": "code",
   "execution_count": 33,
   "metadata": {},
   "outputs": [
    {
     "name": "stdout",
     "output_type": "stream",
     "text": [
      "500/500 [==============================] - 0s 135us/step\n",
      "Loss        : 0.4724\n",
      "Accuracy    : 0.8160\n",
      "Precision   : 0.7982\n",
      "Recall      : 0.7838\n",
      "F1          : 0.7909\n"
     ]
    }
   ],
   "source": [
    "from hate.utils import print_evaluation\n",
    "\n",
    "emb_model.load_weights(checkpointer.filepath)\n",
    "\n",
    "\n",
    "print_evaluation(emb_model, X_emb_dev, y_dev)"
   ]
  },
  {
   "cell_type": "markdown",
   "metadata": {},
   "source": [
    "## Ensemble de \"promedios\"\n",
    "\n",
    "¿Cuánto da de accuracy si promediamos los valores?"
   ]
  },
  {
   "cell_type": "code",
   "execution_count": 34,
   "metadata": {},
   "outputs": [],
   "source": [
    "from sklearn.metrics import accuracy_score\n",
    "y_char_pred = char_model.predict(X_char_dev)\n",
    "y_elmo_pred = elmo_model.predict(X_elmo_dev)\n",
    "y_bow_pred = bow_model.predict(X_bow_dev)\n",
    "y_emb_dev = emb_model.predict(X_emb_dev)\n",
    "\n"
   ]
  },
  {
   "cell_type": "markdown",
   "metadata": {},
   "source": [
    "Todos"
   ]
  },
  {
   "cell_type": "code",
   "execution_count": 35,
   "metadata": {},
   "outputs": [
    {
     "data": {
      "text/plain": [
       "0.83"
      ]
     },
     "execution_count": 35,
     "metadata": {},
     "output_type": "execute_result"
    }
   ],
   "source": [
    "outputs = np.hstack((y_char_pred, y_elmo_pred, y_bow_pred, y_emb_dev))\n",
    "\n",
    "y_pred = outputs.mean(axis=1) >= 0.5\n",
    "\n",
    "accuracy_score(y_dev, y_pred)"
   ]
  },
  {
   "cell_type": "markdown",
   "metadata": {},
   "source": [
    "Sin embeddings"
   ]
  },
  {
   "cell_type": "code",
   "execution_count": 36,
   "metadata": {},
   "outputs": [
    {
     "data": {
      "text/plain": [
       "0.822"
      ]
     },
     "execution_count": 36,
     "metadata": {},
     "output_type": "execute_result"
    }
   ],
   "source": [
    "outputs = np.hstack((y_char_pred, y_elmo_pred, y_bow_pred))\n",
    "\n",
    "y_pred = outputs.mean(axis=1) >= 0.5\n",
    "\n",
    "accuracy_score(y_dev, y_pred)"
   ]
  },
  {
   "cell_type": "markdown",
   "metadata": {},
   "source": [
    "Sin Char"
   ]
  },
  {
   "cell_type": "code",
   "execution_count": 37,
   "metadata": {},
   "outputs": [
    {
     "data": {
      "text/plain": [
       "0.834"
      ]
     },
     "execution_count": 37,
     "metadata": {},
     "output_type": "execute_result"
    }
   ],
   "source": [
    "outputs = np.hstack((y_elmo_pred, y_bow_pred, y_emb_dev))\n",
    "\n",
    "y_pred = outputs.mean(axis=1) >= 0.5\n",
    "\n",
    "accuracy_score(y_dev, y_pred)"
   ]
  },
  {
   "cell_type": "markdown",
   "metadata": {},
   "source": [
    "Sin bow"
   ]
  },
  {
   "cell_type": "code",
   "execution_count": 38,
   "metadata": {},
   "outputs": [
    {
     "data": {
      "text/plain": [
       "0.832"
      ]
     },
     "execution_count": 38,
     "metadata": {},
     "output_type": "execute_result"
    }
   ],
   "source": [
    "outputs = np.hstack((y_char_pred, y_elmo_pred, y_emb_dev))\n",
    "\n",
    "y_pred = outputs.mean(axis=1) >= 0.5\n",
    "\n",
    "accuracy_score(y_dev, y_pred)"
   ]
  },
  {
   "cell_type": "markdown",
   "metadata": {},
   "source": [
    "Sin ElMO"
   ]
  },
  {
   "cell_type": "code",
   "execution_count": 39,
   "metadata": {},
   "outputs": [
    {
     "data": {
      "text/plain": [
       "0.806"
      ]
     },
     "execution_count": 39,
     "metadata": {},
     "output_type": "execute_result"
    }
   ],
   "source": [
    "outputs = np.hstack((y_char_pred, y_bow_pred, y_emb_dev))\n",
    "\n",
    "y_pred = outputs.mean(axis=1) >= 0.5\n",
    "\n",
    "accuracy_score(y_dev, y_pred)"
   ]
  },
  {
   "cell_type": "markdown",
   "metadata": {},
   "source": [
    "Char + Elmo"
   ]
  },
  {
   "cell_type": "code",
   "execution_count": 40,
   "metadata": {},
   "outputs": [
    {
     "data": {
      "text/plain": [
       "0.818"
      ]
     },
     "execution_count": 40,
     "metadata": {},
     "output_type": "execute_result"
    }
   ],
   "source": [
    "outputs = np.hstack((y_char_pred, y_elmo_pred))\n",
    "\n",
    "y_pred = outputs.mean(axis=1) >= 0.5\n",
    "\n",
    "accuracy_score(y_dev, y_pred)"
   ]
  },
  {
   "cell_type": "markdown",
   "metadata": {},
   "source": [
    "Char + BoW"
   ]
  },
  {
   "cell_type": "code",
   "execution_count": 41,
   "metadata": {},
   "outputs": [
    {
     "data": {
      "text/plain": [
       "0.808"
      ]
     },
     "execution_count": 41,
     "metadata": {},
     "output_type": "execute_result"
    }
   ],
   "source": [
    "outputs = np.hstack((y_char_pred, y_bow_pred))\n",
    "\n",
    "y_pred = outputs.mean(axis=1) >= 0.5\n",
    "\n",
    "accuracy_score(y_dev, y_pred)"
   ]
  },
  {
   "cell_type": "markdown",
   "metadata": {},
   "source": [
    "Char + Emb"
   ]
  },
  {
   "cell_type": "code",
   "execution_count": 42,
   "metadata": {},
   "outputs": [
    {
     "data": {
      "text/plain": [
       "0.806"
      ]
     },
     "execution_count": 42,
     "metadata": {},
     "output_type": "execute_result"
    }
   ],
   "source": [
    "outputs = np.hstack((y_char_pred, y_emb_dev))\n",
    "\n",
    "y_pred = outputs.mean(axis=1) >= 0.5\n",
    "\n",
    "accuracy_score(y_dev, y_pred)"
   ]
  },
  {
   "cell_type": "markdown",
   "metadata": {},
   "source": [
    "Elmo + BoW"
   ]
  },
  {
   "cell_type": "code",
   "execution_count": 43,
   "metadata": {},
   "outputs": [
    {
     "data": {
      "text/plain": [
       "0.834"
      ]
     },
     "execution_count": 43,
     "metadata": {},
     "output_type": "execute_result"
    }
   ],
   "source": [
    "outputs = np.hstack((y_elmo_pred, y_bow_pred))\n",
    "\n",
    "y_pred = outputs.mean(axis=1) >= 0.5\n",
    "\n",
    "accuracy_score(y_dev, y_pred)"
   ]
  },
  {
   "cell_type": "markdown",
   "metadata": {},
   "source": [
    "ElMo + Emb"
   ]
  },
  {
   "cell_type": "code",
   "execution_count": 44,
   "metadata": {},
   "outputs": [
    {
     "data": {
      "text/plain": [
       "0.818"
      ]
     },
     "execution_count": 44,
     "metadata": {},
     "output_type": "execute_result"
    }
   ],
   "source": [
    "outputs = np.hstack((y_elmo_pred, y_emb_dev))\n",
    "\n",
    "y_pred = outputs.mean(axis=1) >= 0.5\n",
    "\n",
    "accuracy_score(y_dev, y_pred)"
   ]
  },
  {
   "cell_type": "markdown",
   "metadata": {},
   "source": [
    "No queda claro exactamente la mejor combinación, pero SEGURO que es usando ElMO"
   ]
  },
  {
   "cell_type": "markdown",
   "metadata": {},
   "source": [
    "## Error Analysis\n",
    "\n",
    "Vamos a ver los tweets con mayores errores"
   ]
  },
  {
   "cell_type": "code",
   "execution_count": 45,
   "metadata": {},
   "outputs": [
    {
     "name": "stdout",
     "output_type": "stream",
     "text": [
      "Falsos negativos: 53\n",
      "Falsos positivos: 36\n"
     ]
    },
    {
     "data": {
      "text/html": [
       "<div>\n",
       "<style scoped>\n",
       "    .dataframe tbody tr th:only-of-type {\n",
       "        vertical-align: middle;\n",
       "    }\n",
       "\n",
       "    .dataframe tbody tr th {\n",
       "        vertical-align: top;\n",
       "    }\n",
       "\n",
       "    .dataframe thead th {\n",
       "        text-align: right;\n",
       "    }\n",
       "</style>\n",
       "<table border=\"1\" class=\"dataframe\">\n",
       "  <thead>\n",
       "    <tr style=\"text-align: right;\">\n",
       "      <th></th>\n",
       "      <th>pred_true</th>\n",
       "      <th>pred_false</th>\n",
       "    </tr>\n",
       "    <tr>\n",
       "      <th>real</th>\n",
       "      <th></th>\n",
       "      <th></th>\n",
       "    </tr>\n",
       "  </thead>\n",
       "  <tbody>\n",
       "    <tr>\n",
       "      <th>hs=1</th>\n",
       "      <td>169</td>\n",
       "      <td>53</td>\n",
       "    </tr>\n",
       "    <tr>\n",
       "      <th>hs=0</th>\n",
       "      <td>36</td>\n",
       "      <td>242</td>\n",
       "    </tr>\n",
       "  </tbody>\n",
       "</table>\n",
       "</div>"
      ],
      "text/plain": [
       "      pred_true  pred_false\n",
       "real                       \n",
       "hs=1        169          53\n",
       "hs=0         36         242"
      ]
     },
     "execution_count": 45,
     "metadata": {},
     "output_type": "execute_result"
    }
   ],
   "source": [
    "outputs = np.hstack((y_char_pred, y_elmo_pred, y_bow_pred))\n",
    "df_dev[\"proba\"] = outputs.mean(axis=1)\n",
    "\n",
    "\n",
    "true_positives = df_dev[(df_dev[\"HS\"] == 1) & (df_dev[\"proba\"] >= 0.5)].copy()\n",
    "true_negatives = df_dev[(df_dev[\"HS\"] == 0) & (df_dev[\"proba\"] < 0.5)].copy()\n",
    "\n",
    "false_positives = df_dev[(df_dev[\"HS\"] == 0) & (df_dev[\"proba\"] > 0.5)].copy()\n",
    "false_positives.sort_values(\"proba\", ascending=False, inplace=True)\n",
    "\n",
    "\n",
    "false_negatives = df_dev[(df_dev[\"HS\"] == 1) & (df_dev[\"proba\"] < 0.5)].copy()\n",
    "false_negatives.sort_values(\"proba\", ascending=True, inplace=True)\n",
    "\n",
    "conf_matrix = pd.DataFrame([\n",
    "    {\"real\":\"hs=1\", \"pred_true\": len(true_positives), \"pred_false\": len(false_negatives)},\n",
    "    {\"real\":\"hs=0\", \"pred_true\": len(false_positives), \"pred_false\": len(true_negatives)}\n",
    "])\n",
    "\n",
    "\n",
    "\n",
    "conf_matrix.set_index(\"real\", inplace=True)\n",
    "\n",
    "print(\"Falsos negativos: {}\".format(len(false_negatives)))\n",
    "print(\"Falsos positivos: {}\".format(len(false_positives)))\n",
    "\n",
    "conf_matrix[[\"pred_true\", \"pred_false\"]]"
   ]
  },
  {
   "cell_type": "markdown",
   "metadata": {},
   "source": [
    "## Falsos Negativos\n",
    "\n",
    "Veamos los 20 falsos negativos en los cuales nuestro modelo se equivoca más"
   ]
  },
  {
   "cell_type": "code",
   "execution_count": 46,
   "metadata": {},
   "outputs": [
    {
     "data": {
      "text/html": [
       "<div>\n",
       "<style scoped>\n",
       "    .dataframe tbody tr th:only-of-type {\n",
       "        vertical-align: middle;\n",
       "    }\n",
       "\n",
       "    .dataframe tbody tr th {\n",
       "        vertical-align: top;\n",
       "    }\n",
       "\n",
       "    .dataframe thead th {\n",
       "        text-align: right;\n",
       "    }\n",
       "</style>\n",
       "<table border=\"1\" class=\"dataframe\">\n",
       "  <thead>\n",
       "    <tr style=\"text-align: right;\">\n",
       "      <th></th>\n",
       "      <th>text</th>\n",
       "      <th>proba</th>\n",
       "    </tr>\n",
       "    <tr>\n",
       "      <th>id</th>\n",
       "      <th></th>\n",
       "      <th></th>\n",
       "    </tr>\n",
       "  </thead>\n",
       "  <tbody>\n",
       "    <tr>\n",
       "      <th>21072</th>\n",
       "      <td>Voy andando por la calle y me han dicho cosas en árabe ya que me estas acosando dime lo en español para que te entienda, asique como yo no les entiendo me he cagado en su puta madre en árabe para que ellos a mi si.</td>\n",
       "      <td>0.021820</td>\n",
       "    </tr>\n",
       "    <tr>\n",
       "      <th>24352</th>\n",
       "      <td>¿Ves que tu coño me importe? Cómete mi polla, basura https://t.co/ht02KyYWZh</td>\n",
       "      <td>0.072011</td>\n",
       "    </tr>\n",
       "    <tr>\n",
       "      <th>22065</th>\n",
       "      <td>| lo único que dominas es mi polla en tu cara. https://t.co/qlYOd4zPwW</td>\n",
       "      <td>0.106512</td>\n",
       "    </tr>\n",
       "    <tr>\n",
       "      <th>21215</th>\n",
       "      <td>Que tal otro aporte anónimo son de la puta de mi esposa, así los dejó en navidad enseñando le los calzones al vecino rt y siguenos @TANGASUCIA @Tangasrobadas https://t.co/70ioUjveqY</td>\n",
       "      <td>0.117612</td>\n",
       "    </tr>\n",
       "    <tr>\n",
       "      <th>24925</th>\n",
       "      <td>La verdad que si, no veia la hora de llegar a los 5 mil amigos😂 ahora de a poco voy borrando esos indios indocumentados😂 https://t.co/Xw8q4GLM8v</td>\n",
       "      <td>0.145032</td>\n",
       "    </tr>\n",
       "    <tr>\n",
       "      <th>24928</th>\n",
       "      <td>Hoy, 20hrs, haremos un twittazo en contra Rodolfo Noriega, quien, pese a ser un incitador al odio e inmigrante, sigue en Chile. El hashtag, será #FueraRodolfoNoriega. https://t.co/1AvN3N7AvJ</td>\n",
       "      <td>0.163630</td>\n",
       "    </tr>\n",
       "    <tr>\n",
       "      <th>21887</th>\n",
       "      <td>@A3Noticias Esta tiene que ser una 'fake new' porque las mujeres son siempre las víctimas, no las hijas de puta maltratadoras. Eso o el chaval es un machista que se lo ha merecido (machete al machote).</td>\n",
       "      <td>0.167827</td>\n",
       "    </tr>\n",
       "    <tr>\n",
       "      <th>21152</th>\n",
       "      <td>@NatyBurgos15 @Horaciogenta @PaolaPa05 Cállate vos Black and bitch como la puta falsa abogada. Espero se pudra en la cárcel y devuelva todo. Dedícate a estudiar en serio. La droga es mala. Cristina puta</td>\n",
       "      <td>0.174950</td>\n",
       "    </tr>\n",
       "    <tr>\n",
       "      <th>24083</th>\n",
       "      <td>@alvhann La mujer conoce bien la debilidad del hombre, y cada día le sube más la falda y posteriormente se queja de acoso...</td>\n",
       "      <td>0.204040</td>\n",
       "    </tr>\n",
       "    <tr>\n",
       "      <th>22898</th>\n",
       "      <td>\"@monicaoltra : \"\"Sólo seis CCAA estamos absorbiendo la inmigración, no damos abasto\"\".........  A VER SI POR FIN OS DAIS CUENTA QUE LA SOLIDARIDAD Y EL BUENISMO TIENE LÍMITES. DEJAD LA DEMAGOGIA DE UNA VEZ.  NO PUEDE HABER INMIGRACIÓN ILEGAL ILIMITADA.   https://t.co/gwCwCCv9wb\"</td>\n",
       "      <td>0.217562</td>\n",
       "    </tr>\n",
       "    <tr>\n",
       "      <th>24864</th>\n",
       "      <td>rosalia me podría decir sudaca i wouldn't give a fuck</td>\n",
       "      <td>0.238016</td>\n",
       "    </tr>\n",
       "    <tr>\n",
       "      <th>22008</th>\n",
       "      <td>@Namurii @medicaster_xz @Yorha2d @KeloKlau_ Se merecía de puta y no quiere que le metan la verga, jajaja no mamen</td>\n",
       "      <td>0.252052</td>\n",
       "    </tr>\n",
       "    <tr>\n",
       "      <th>24488</th>\n",
       "      <td>Un indocumentado...habla y habla y no para y acaba hablando su ignorancia.Empezamos bien. https://t.co/SMRsqjtEBT</td>\n",
       "      <td>0.263365</td>\n",
       "    </tr>\n",
       "    <tr>\n",
       "      <th>23716</th>\n",
       "      <td>- El otro día me comí a Laura es muy fácil que guarra jajajaja - Laura también te comió a ti entonces tú eres igual de guarro e igual de fácil. - Puto feminazi putas modas eres feminista solo para ligar bien queda gilipollas - em, ok</td>\n",
       "      <td>0.267462</td>\n",
       "    </tr>\n",
       "    <tr>\n",
       "      <th>24986</th>\n",
       "      <td>\"Traducción:  \"\"Escucha puta sueca!\"\"  \"\"Los árabes estamos aquí para apoderarnos de vuestro jodido país! Ponte de rodillas y chupame la polla\"\"! https://t.co/rX5ducZDax\"</td>\n",
       "      <td>0.268429</td>\n",
       "    </tr>\n",
       "    <tr>\n",
       "      <th>22199</th>\n",
       "      <td>Todo aquél que se haya molestado en investigar un poco sabe que desde tiempos antiguos los mayores negreros y esclavistas del mundo fueron los árabes. https://t.co/DY5Uo8979v</td>\n",
       "      <td>0.272685</td>\n",
       "    </tr>\n",
       "    <tr>\n",
       "      <th>24746</th>\n",
       "      <td>@rU_1970 muestra como teni esa vagina de puta caliente llena de moco wacha culia hija de la perra traga semen 146:146</td>\n",
       "      <td>0.278937</td>\n",
       "    </tr>\n",
       "    <tr>\n",
       "      <th>22168</th>\n",
       "      <td>Mi novia es como mi polla. Sé que está ahí porque de vez en cuando se levanta. Una de mis pantalones y la otra de la cama.</td>\n",
       "      <td>0.284083</td>\n",
       "    </tr>\n",
       "    <tr>\n",
       "      <th>23922</th>\n",
       "      <td>Pobre moromierda. Pues a mi me parece mas digna y respetable la vida de una linda gallina que acabará en un KFC que ése semita culturizado en el país de la violación que acaban de  dejar libre https://t.co/lrL1K09aIb</td>\n",
       "      <td>0.288575</td>\n",
       "    </tr>\n",
       "    <tr>\n",
       "      <th>24126</th>\n",
       "      <td>LA SOLUCIÓN ES SOLDARLE EL TIMÓN DE LA PATERA RUMBO DE DONDE SALIERON CON AGUA Y COMIDA. https://t.co/59pInBdgnR</td>\n",
       "      <td>0.298182</td>\n",
       "    </tr>\n",
       "    <tr>\n",
       "      <th>22560</th>\n",
       "      <td>@CarlaEUrena @FelipeCalderon Callateeeee !! Puta gallina cacarea !! Ni idea tienes de nada .</td>\n",
       "      <td>0.300827</td>\n",
       "    </tr>\n",
       "    <tr>\n",
       "      <th>24895</th>\n",
       "      <td>@xSuzuHopkins @gimme5yens El de mi polla a granel. Que te calles, virgen.</td>\n",
       "      <td>0.301285</td>\n",
       "    </tr>\n",
       "    <tr>\n",
       "      <th>22669</th>\n",
       "      <td>mario, hablas de la hija de chavez pero vos decir ser italiano y no vivis en italia. Para los tanos (si les importara lo que hace un sudaca) tamben serias un traidor viviendo aca. #maldición</td>\n",
       "      <td>0.303886</td>\n",
       "    </tr>\n",
       "    <tr>\n",
       "      <th>24434</th>\n",
       "      <td>\"Hace tanto calor que podría matar a un árabe indiferentemente. (Referencia de \"\"El extranjero\"\")\"</td>\n",
       "      <td>0.305554</td>\n",
       "    </tr>\n",
       "    <tr>\n",
       "      <th>20711</th>\n",
       "      <td>@lopezdoriga eso es culpa de los gobiernos corruptos que tienen arreglos con esta escoria. Ojalá se muera la perra esa...</td>\n",
       "      <td>0.320729</td>\n",
       "    </tr>\n",
       "    <tr>\n",
       "      <th>24768</th>\n",
       "      <td>1.Sera casualidad que cuando hay una gran entrada de refugiados árabes en Europa, un grupo de Árabes atenta. 2.Cuando hay una gran entrada de Africanos en Europa, un grupo de Africanos atenta. 3.Chinos, preparaos!  #topmanta #Desmontando #políticos #Noticias</td>\n",
       "      <td>0.328369</td>\n",
       "    </tr>\n",
       "    <tr>\n",
       "      <th>21727</th>\n",
       "      <td>España crea su primer 'campo de refugiados' en la bahía de Algeciras https://t.co/l7Zmh2kvPN vía @elmundoes Gran noticia para el contribuyente español. Españoles a pagar, a pagar. Las pensiones pensad en las pensiones. Esto la sanidad como es gratis podemos dejar de pagarla no?</td>\n",
       "      <td>0.354383</td>\n",
       "    </tr>\n",
       "    <tr>\n",
       "      <th>23568</th>\n",
       "      <td>Para mi si querés llegar a latinoamerica no suma el discurso argento de nosotros somos descendientes d europ.. Nose un mexicano nos diria para loca somos tos sudakas..</td>\n",
       "      <td>0.376395</td>\n",
       "    </tr>\n",
       "    <tr>\n",
       "      <th>24247</th>\n",
       "      <td>La fundación Francisco Franco propone eliminar las concertinas de la valla de Ceuta, y untar con tocino de cerdo la frontera para evitar que los moros nos coman.</td>\n",
       "      <td>0.378078</td>\n",
       "    </tr>\n",
       "    <tr>\n",
       "      <th>24055</th>\n",
       "      <td>@elisacarrio Callate gorda borracha hija de mil puta sos lo peor de la politica argentina ya lo dijo don Raul Alfonsin</td>\n",
       "      <td>0.388354</td>\n",
       "    </tr>\n",
       "    <tr>\n",
       "      <th>20657</th>\n",
       "      <td>ESTO NO SE PUEDE PERMITIR NI TOLERAR, QUE VAYAN HA HACER EL SALVAJE A SU PUÑETERO PAIS ¡ESTAN POR CIVILIZAR! ¿NO? - En @elconfidencial: Más de 20 guardias civiles heridos, algunos por cal viva, tras el salto a la valla de Ceuta https://t.co/4NMcSXKvHk</td>\n",
       "      <td>0.388581</td>\n",
       "    </tr>\n",
       "    <tr>\n",
       "      <th>24907</th>\n",
       "      <td>La Policía tramita en Algeciras 400 expedientes al día de inmigrantes indocumentados https://t.co/SIr9Y5ROP3 vía @elmundoes. Miles al día ,que entran . Qué no caben leche . Qué lo piensan todo el mundo y El Gobierno NO hace NADA.Nos tenemos que ir Los Españoles,para que entren?</td>\n",
       "      <td>0.389520</td>\n",
       "    </tr>\n",
       "    <tr>\n",
       "      <th>23688</th>\n",
       "      <td>Ninguna mujer es tan santa como para no aprender a coger bien, ni tan puta como para no aprender a amar.</td>\n",
       "      <td>0.398733</td>\n",
       "    </tr>\n",
       "    <tr>\n",
       "      <th>21612</th>\n",
       "      <td>@ferdiazgil @ilseCeroUno01 @Compotita Exacto. Guarra y egoísta, que el que venga detrás se busque la vida.</td>\n",
       "      <td>0.400316</td>\n",
       "    </tr>\n",
       "    <tr>\n",
       "      <th>22592</th>\n",
       "      <td>o sea tantos arabes q hay en venezuela y no pueden hacer un atentado decente q pasa ?????????</td>\n",
       "      <td>0.403377</td>\n",
       "    </tr>\n",
       "    <tr>\n",
       "      <th>21339</th>\n",
       "      <td>La #Inmigración, como sabemos, es mala, se ha demostrado en media #Europa. Pero no debemos caer en la tentación de salpicar nuestra #soberanía con extremismos, tenemos que defender lo nuestro, si, pero desde posiciones conservadoras y no radicales. Es lo mejor. RP</td>\n",
       "      <td>0.405503</td>\n",
       "    </tr>\n",
       "    <tr>\n",
       "      <th>24104</th>\n",
       "      <td>Yo llego atender alguna llamada del tlf de mi papá y llega hablar una mujer es que le mento la madre a esa puta</td>\n",
       "      <td>0.421362</td>\n",
       "    </tr>\n",
       "    <tr>\n",
       "      <th>24822</th>\n",
       "      <td>@Relatofeminista 'A mí sólo me gustan las tías si son guarras'. Para mí está claro que si usa guarra para adjetivar el tipo de mujeres que le gusta no debe de asociarle las mismas connotaciones negativas que presuponéis. Tengo amigas que se autoadjetivan</td>\n",
       "      <td>0.444962</td>\n",
       "    </tr>\n",
       "    <tr>\n",
       "      <th>20265</th>\n",
       "      <td>Tema inmigración de Venezuela como estamos y que bebemos hacer ayer mire un programa con abogados pidiendo abrir un estudio con todos ellos pera trabajar en Argentina no es como mucho que antecedentes tienen que hacemos con los nuestros es un tema a mirar antes que nos estalle</td>\n",
       "      <td>0.447579</td>\n",
       "    </tr>\n",
       "    <tr>\n",
       "      <th>24123</th>\n",
       "      <td>¿Qué hace una mujer trepando una pared de vidrio? Quiere ver que hay al otro lado</td>\n",
       "      <td>0.456026</td>\n",
       "    </tr>\n",
       "    <tr>\n",
       "      <th>22660</th>\n",
       "      <td>En esta vida llamada spice girls, yo sería Ginger spice...les explico: No sería la negra, ni la güera ridícula, ni la deportista plana, y mucho menos la posona. Básicamente sería Ginger, por qué es la única que tuvo un éxito como solista. Bendiciones</td>\n",
       "      <td>0.456184</td>\n",
       "    </tr>\n",
       "    <tr>\n",
       "      <th>23750</th>\n",
       "      <td>Hdsptm güeras pelones sin cejas https://t.co/K8otT8zeuI</td>\n",
       "      <td>0.462144</td>\n",
       "    </tr>\n",
       "    <tr>\n",
       "      <th>24909</th>\n",
       "      <td>\"Mientras los ciudadanos de a pie(ahora más que nunca \"\"a pie\"\") enfrentamos la inseguridad a diario, sin armas, solo con valor y bolas (no hay otra), al indocumentado impostor lo rodearon con esterillas protectoras (inútiles ante un RPG)\"</td>\n",
       "      <td>0.462961</td>\n",
       "    </tr>\n",
       "    <tr>\n",
       "      <th>20584</th>\n",
       "      <td>Mientras, los inmigrantes con todo tipo de ayudas. Más de 3,5 millones de españoles viven con menos de 350 euros al mes https://t.co/4Po0xeidkl vía @laSextaTV</td>\n",
       "      <td>0.472673</td>\n",
       "    </tr>\n",
       "    <tr>\n",
       "      <th>21535</th>\n",
       "      <td>#VOX critica duramente a ⁦@pablocasado_⁩ “Les da la bienvenida como si fuera un cartel del welcome de #Carmena “ ¡Expulsión inmediata de moromierdas!  https://t.co/HaySDibj2l</td>\n",
       "      <td>0.472981</td>\n",
       "    </tr>\n",
       "    <tr>\n",
       "      <th>22725</th>\n",
       "      <td>Malditos espaldas mojadas https://t.co/UVE6OEzpQY</td>\n",
       "      <td>0.475258</td>\n",
       "    </tr>\n",
       "    <tr>\n",
       "      <th>20353</th>\n",
       "      <td>La diferencia entre comida mexicana y la comida árabe es que una te da diarrea y otra te de diarrea explosiva</td>\n",
       "      <td>0.478550</td>\n",
       "    </tr>\n",
       "    <tr>\n",
       "      <th>21455</th>\n",
       "      <td>Me llamo Nobita Me gusta Shizuka La chica es bonita Me gusta esa puta https://t.co/8rsZ7u5DVh</td>\n",
       "      <td>0.479317</td>\n",
       "    </tr>\n",
       "    <tr>\n",
       "      <th>22381</th>\n",
       "      <td>@callodehacha Y este pendejo!!! Wey tu eres un puta que se da al mejor postor. Por lo menos el estava pedo, pero tu cabron no mames. A chingar tu madre asi nomas quedo!!!</td>\n",
       "      <td>0.483020</td>\n",
       "    </tr>\n",
       "    <tr>\n",
       "      <th>24401</th>\n",
       "      <td>No habrá que darles de lo 'nuestro'. Ellos se apropiarán de lo 'suyo'.  @Manuj_Hidalgo les dice ☝️ a quienes piensan q hay q jubilar a los mayores para q trabajen los jóvenes o q los q vienen d fuera te quitan el trabajo.  #Inmigración https://t.co/mzDhf2Fdqv vía @voz_opinion</td>\n",
       "      <td>0.483137</td>\n",
       "    </tr>\n",
       "    <tr>\n",
       "      <th>20953</th>\n",
       "      <td>@Stop2Invasion la nacionalidad mal otorgada y con comportamientos no adientes y sin voluntad de integrarse etc..se puede retrotraer, así que menos happy inmigrantes porque les queda lo que se quede Sanchez</td>\n",
       "      <td>0.485419</td>\n",
       "    </tr>\n",
       "    <tr>\n",
       "      <th>23341</th>\n",
       "      <td>Sudacas que votan a la derecha, que queres?</td>\n",
       "      <td>0.486177</td>\n",
       "    </tr>\n",
       "    <tr>\n",
       "      <th>21841</th>\n",
       "      <td>La otra no noticia del día es la visita del sonriente Casado a Algeciras, a visitar en Ceuta y Algeciras, no a los guardias civiles heridos tras la violenta entrada de ilegales del otro día, sino a un grupo de subsaharianos que han entrado en nuestro país de forma igualmente ileg</td>\n",
       "      <td>0.491965</td>\n",
       "    </tr>\n",
       "  </tbody>\n",
       "</table>\n",
       "</div>"
      ],
      "text/plain": [
       "                                                                                                                                                                                                                                                                                           text  \\\n",
       "id                                                                                                                                                                                                                                                                                                \n",
       "21072                                                                    Voy andando por la calle y me han dicho cosas en árabe ya que me estas acosando dime lo en español para que te entienda, asique como yo no les entiendo me he cagado en su puta madre en árabe para que ellos a mi si.   \n",
       "24352                                                                                                                                                                                                              ¿Ves que tu coño me importe? Cómete mi polla, basura https://t.co/ht02KyYWZh   \n",
       "22065                                                                                                                                                                                                                    | lo único que dominas es mi polla en tu cara. https://t.co/qlYOd4zPwW   \n",
       "21215                                                                                                     Que tal otro aporte anónimo son de la puta de mi esposa, así los dejó en navidad enseñando le los calzones al vecino rt y siguenos @TANGASUCIA @Tangasrobadas https://t.co/70ioUjveqY   \n",
       "24925                                                                                                                                          La verdad que si, no veia la hora de llegar a los 5 mil amigos😂 ahora de a poco voy borrando esos indios indocumentados😂 https://t.co/Xw8q4GLM8v   \n",
       "24928                                                                                            Hoy, 20hrs, haremos un twittazo en contra Rodolfo Noriega, quien, pese a ser un incitador al odio e inmigrante, sigue en Chile. El hashtag, será #FueraRodolfoNoriega. https://t.co/1AvN3N7AvJ   \n",
       "21887                                                                                 @A3Noticias Esta tiene que ser una 'fake new' porque las mujeres son siempre las víctimas, no las hijas de puta maltratadoras. Eso o el chaval es un machista que se lo ha merecido (machete al machote).   \n",
       "21152                                                                                @NatyBurgos15 @Horaciogenta @PaolaPa05 Cállate vos Black and bitch como la puta falsa abogada. Espero se pudra en la cárcel y devuelva todo. Dedícate a estudiar en serio. La droga es mala. Cristina puta   \n",
       "24083                                                                                                                                                              @alvhann La mujer conoce bien la debilidad del hombre, y cada día le sube más la falda y posteriormente se queja de acoso...   \n",
       "22898  \"@monicaoltra : \"\"Sólo seis CCAA estamos absorbiendo la inmigración, no damos abasto\"\".........  A VER SI POR FIN OS DAIS CUENTA QUE LA SOLIDARIDAD Y EL BUENISMO TIENE LÍMITES. DEJAD LA DEMAGOGIA DE UNA VEZ.  NO PUEDE HABER INMIGRACIÓN ILEGAL ILIMITADA.   https://t.co/gwCwCCv9wb\"   \n",
       "24864                                                                                                                                                                                                                                     rosalia me podría decir sudaca i wouldn't give a fuck   \n",
       "22008                                                                                                                                                                         @Namurii @medicaster_xz @Yorha2d @KeloKlau_ Se merecía de puta y no quiere que le metan la verga, jajaja no mamen   \n",
       "24488                                                                                                                                                                         Un indocumentado...habla y habla y no para y acaba hablando su ignorancia.Empezamos bien. https://t.co/SMRsqjtEBT   \n",
       "23716                                                 - El otro día me comí a Laura es muy fácil que guarra jajajaja - Laura también te comió a ti entonces tú eres igual de guarro e igual de fácil. - Puto feminazi putas modas eres feminista solo para ligar bien queda gilipollas - em, ok   \n",
       "24986                                                                                                                \"Traducción:  \"\"Escucha puta sueca!\"\"  \"\"Los árabes estamos aquí para apoderarnos de vuestro jodido país! Ponte de rodillas y chupame la polla\"\"! https://t.co/rX5ducZDax\"   \n",
       "22199                                                                                                            Todo aquél que se haya molestado en investigar un poco sabe que desde tiempos antiguos los mayores negreros y esclavistas del mundo fueron los árabes. https://t.co/DY5Uo8979v   \n",
       "24746                                                                                                                                                                     @rU_1970 muestra como teni esa vagina de puta caliente llena de moco wacha culia hija de la perra traga semen 146:146   \n",
       "22168                                                                                                                                                                Mi novia es como mi polla. Sé que está ahí porque de vez en cuando se levanta. Una de mis pantalones y la otra de la cama.   \n",
       "23922                                                                  Pobre moromierda. Pues a mi me parece mas digna y respetable la vida de una linda gallina que acabará en un KFC que ése semita culturizado en el país de la violación que acaban de  dejar libre https://t.co/lrL1K09aIb   \n",
       "24126                                                                                                                                                                          LA SOLUCIÓN ES SOLDARLE EL TIMÓN DE LA PATERA RUMBO DE DONDE SALIERON CON AGUA Y COMIDA. https://t.co/59pInBdgnR   \n",
       "22560                                                                                                                                                                                              @CarlaEUrena @FelipeCalderon Callateeeee !! Puta gallina cacarea !! Ni idea tienes de nada .   \n",
       "24895                                                                                                                                                                                                                 @xSuzuHopkins @gimme5yens El de mi polla a granel. Que te calles, virgen.   \n",
       "22669                                                                                            mario, hablas de la hija de chavez pero vos decir ser italiano y no vivis en italia. Para los tanos (si les importara lo que hace un sudaca) tamben serias un traidor viviendo aca. #maldición   \n",
       "24434                                                                                                                                                                                        \"Hace tanto calor que podría matar a un árabe indiferentemente. (Referencia de \"\"El extranjero\"\")\"   \n",
       "20711                                                                                                                                                                 @lopezdoriga eso es culpa de los gobiernos corruptos que tienen arreglos con esta escoria. Ojalá se muera la perra esa...   \n",
       "24768                        1.Sera casualidad que cuando hay una gran entrada de refugiados árabes en Europa, un grupo de Árabes atenta. 2.Cuando hay una gran entrada de Africanos en Europa, un grupo de Africanos atenta. 3.Chinos, preparaos!  #topmanta #Desmontando #políticos #Noticias   \n",
       "21727    España crea su primer 'campo de refugiados' en la bahía de Algeciras https://t.co/l7Zmh2kvPN vía @elmundoes Gran noticia para el contribuyente español. Españoles a pagar, a pagar. Las pensiones pensad en las pensiones. Esto la sanidad como es gratis podemos dejar de pagarla no?   \n",
       "23568                                                                                                                   Para mi si querés llegar a latinoamerica no suma el discurso argento de nosotros somos descendientes d europ.. Nose un mexicano nos diria para loca somos tos sudakas..   \n",
       "24247                                                                                                                         La fundación Francisco Franco propone eliminar las concertinas de la valla de Ceuta, y untar con tocino de cerdo la frontera para evitar que los moros nos coman.   \n",
       "24055                                                                                                                                                                    @elisacarrio Callate gorda borracha hija de mil puta sos lo peor de la politica argentina ya lo dijo don Raul Alfonsin   \n",
       "20657                               ESTO NO SE PUEDE PERMITIR NI TOLERAR, QUE VAYAN HA HACER EL SALVAJE A SU PUÑETERO PAIS ¡ESTAN POR CIVILIZAR! ¿NO? - En @elconfidencial: Más de 20 guardias civiles heridos, algunos por cal viva, tras el salto a la valla de Ceuta https://t.co/4NMcSXKvHk   \n",
       "24907    La Policía tramita en Algeciras 400 expedientes al día de inmigrantes indocumentados https://t.co/SIr9Y5ROP3 vía @elmundoes. Miles al día ,que entran . Qué no caben leche . Qué lo piensan todo el mundo y El Gobierno NO hace NADA.Nos tenemos que ir Los Españoles,para que entren?   \n",
       "23688                                                                                                                                                                                  Ninguna mujer es tan santa como para no aprender a coger bien, ni tan puta como para no aprender a amar.   \n",
       "21612                                                                                                                                                                                @ferdiazgil @ilseCeroUno01 @Compotita Exacto. Guarra y egoísta, que el que venga detrás se busque la vida.   \n",
       "22592                                                                                                                                                                                             o sea tantos arabes q hay en venezuela y no pueden hacer un atentado decente q pasa ?????????   \n",
       "21339                  La #Inmigración, como sabemos, es mala, se ha demostrado en media #Europa. Pero no debemos caer en la tentación de salpicar nuestra #soberanía con extremismos, tenemos que defender lo nuestro, si, pero desde posiciones conservadoras y no radicales. Es lo mejor. RP   \n",
       "24104                                                                                                                                                                           Yo llego atender alguna llamada del tlf de mi papá y llega hablar una mujer es que le mento la madre a esa puta   \n",
       "24822                           @Relatofeminista 'A mí sólo me gustan las tías si son guarras'. Para mí está claro que si usa guarra para adjetivar el tipo de mujeres que le gusta no debe de asociarle las mismas connotaciones negativas que presuponéis. Tengo amigas que se autoadjetivan    \n",
       "20265     Tema inmigración de Venezuela como estamos y que bebemos hacer ayer mire un programa con abogados pidiendo abrir un estudio con todos ellos pera trabajar en Argentina no es como mucho que antecedentes tienen que hacemos con los nuestros es un tema a mirar antes que nos estalle   \n",
       "24123                                                                                                                                                                                                         ¿Qué hace una mujer trepando una pared de vidrio? Quiere ver que hay al otro lado   \n",
       "22660                                En esta vida llamada spice girls, yo sería Ginger spice...les explico: No sería la negra, ni la güera ridícula, ni la deportista plana, y mucho menos la posona. Básicamente sería Ginger, por qué es la única que tuvo un éxito como solista. Bendiciones   \n",
       "23750                                                                                                                                                                                                                                   Hdsptm güeras pelones sin cejas https://t.co/K8otT8zeuI   \n",
       "24909                                           \"Mientras los ciudadanos de a pie(ahora más que nunca \"\"a pie\"\") enfrentamos la inseguridad a diario, sin armas, solo con valor y bolas (no hay otra), al indocumentado impostor lo rodearon con esterillas protectoras (inútiles ante un RPG)\"   \n",
       "20584                                                                                                                            Mientras, los inmigrantes con todo tipo de ayudas. Más de 3,5 millones de españoles viven con menos de 350 euros al mes https://t.co/4Po0xeidkl vía @laSextaTV   \n",
       "21535                                                                                                            #VOX critica duramente a ⁦@pablocasado_⁩ “Les da la bienvenida como si fuera un cartel del welcome de #Carmena “ ¡Expulsión inmediata de moromierdas!  https://t.co/HaySDibj2l   \n",
       "22725                                                                                                                                                                                                                                         Malditos espaldas mojadas https://t.co/UVE6OEzpQY   \n",
       "20353                                                                                                                                                                             La diferencia entre comida mexicana y la comida árabe es que una te da diarrea y otra te de diarrea explosiva   \n",
       "21455                                                                                                                                                                                             Me llamo Nobita Me gusta Shizuka La chica es bonita Me gusta esa puta https://t.co/8rsZ7u5DVh   \n",
       "22381                                                                                                                @callodehacha Y este pendejo!!! Wey tu eres un puta que se da al mejor postor. Por lo menos el estava pedo, pero tu cabron no mames. A chingar tu madre asi nomas quedo!!!   \n",
       "24401      No habrá que darles de lo 'nuestro'. Ellos se apropiarán de lo 'suyo'.  @Manuj_Hidalgo les dice ☝️ a quienes piensan q hay q jubilar a los mayores para q trabajen los jóvenes o q los q vienen d fuera te quitan el trabajo.  #Inmigración https://t.co/mzDhf2Fdqv vía @voz_opinion   \n",
       "20953                                                                             @Stop2Invasion la nacionalidad mal otorgada y con comportamientos no adientes y sin voluntad de integrarse etc..se puede retrotraer, así que menos happy inmigrantes porque les queda lo que se quede Sanchez   \n",
       "23341                                                                                                                                                                                                                                               Sudacas que votan a la derecha, que queres?   \n",
       "21841  La otra no noticia del día es la visita del sonriente Casado a Algeciras, a visitar en Ceuta y Algeciras, no a los guardias civiles heridos tras la violenta entrada de ilegales del otro día, sino a un grupo de subsaharianos que han entrado en nuestro país de forma igualmente ileg   \n",
       "\n",
       "          proba  \n",
       "id               \n",
       "21072  0.021820  \n",
       "24352  0.072011  \n",
       "22065  0.106512  \n",
       "21215  0.117612  \n",
       "24925  0.145032  \n",
       "24928  0.163630  \n",
       "21887  0.167827  \n",
       "21152  0.174950  \n",
       "24083  0.204040  \n",
       "22898  0.217562  \n",
       "24864  0.238016  \n",
       "22008  0.252052  \n",
       "24488  0.263365  \n",
       "23716  0.267462  \n",
       "24986  0.268429  \n",
       "22199  0.272685  \n",
       "24746  0.278937  \n",
       "22168  0.284083  \n",
       "23922  0.288575  \n",
       "24126  0.298182  \n",
       "22560  0.300827  \n",
       "24895  0.301285  \n",
       "22669  0.303886  \n",
       "24434  0.305554  \n",
       "20711  0.320729  \n",
       "24768  0.328369  \n",
       "21727  0.354383  \n",
       "23568  0.376395  \n",
       "24247  0.378078  \n",
       "24055  0.388354  \n",
       "20657  0.388581  \n",
       "24907  0.389520  \n",
       "23688  0.398733  \n",
       "21612  0.400316  \n",
       "22592  0.403377  \n",
       "21339  0.405503  \n",
       "24104  0.421362  \n",
       "24822  0.444962  \n",
       "20265  0.447579  \n",
       "24123  0.456026  \n",
       "22660  0.456184  \n",
       "23750  0.462144  \n",
       "24909  0.462961  \n",
       "20584  0.472673  \n",
       "21535  0.472981  \n",
       "22725  0.475258  \n",
       "20353  0.478550  \n",
       "21455  0.479317  \n",
       "22381  0.483020  \n",
       "24401  0.483137  \n",
       "20953  0.485419  \n",
       "23341  0.486177  \n",
       "21841  0.491965  "
      ]
     },
     "execution_count": 46,
     "metadata": {},
     "output_type": "execute_result"
    }
   ],
   "source": [
    "pd.set_option('max_colwidth', 300)\n",
    "\n",
    "false_negatives[[\"text\", \"proba\"]]\n"
   ]
  },
  {
   "cell_type": "markdown",
   "metadata": {},
   "source": [
    "¿Cómo los tokenizamos?"
   ]
  },
  {
   "cell_type": "code",
   "execution_count": 47,
   "metadata": {},
   "outputs": [
    {
     "data": {
      "text/plain": [
       "'La otra no noticia del día es la visita del sonriente Casado a Algeciras, a visitar en Ceuta y Algeciras, no a los guardias civiles heridos tras la violenta entrada de ilegales del otro día, sino a un grupo de subsaharianos que han entrado en nuestro país de forma igualmente ileg'"
      ]
     },
     "execution_count": 47,
     "metadata": {},
     "output_type": "execute_result"
    }
   ],
   "source": [
    "df_dev.loc[21841][\"text\"]"
   ]
  },
  {
   "cell_type": "markdown",
   "metadata": {},
   "source": [
    "## Falsos positivos"
   ]
  },
  {
   "cell_type": "code",
   "execution_count": 48,
   "metadata": {},
   "outputs": [
    {
     "data": {
      "text/html": [
       "<div>\n",
       "<style scoped>\n",
       "    .dataframe tbody tr th:only-of-type {\n",
       "        vertical-align: middle;\n",
       "    }\n",
       "\n",
       "    .dataframe tbody tr th {\n",
       "        vertical-align: top;\n",
       "    }\n",
       "\n",
       "    .dataframe thead th {\n",
       "        text-align: right;\n",
       "    }\n",
       "</style>\n",
       "<table border=\"1\" class=\"dataframe\">\n",
       "  <thead>\n",
       "    <tr style=\"text-align: right;\">\n",
       "      <th></th>\n",
       "      <th>text</th>\n",
       "      <th>proba</th>\n",
       "    </tr>\n",
       "    <tr>\n",
       "      <th>id</th>\n",
       "      <th></th>\n",
       "      <th></th>\n",
       "    </tr>\n",
       "  </thead>\n",
       "  <tbody>\n",
       "    <tr>\n",
       "      <th>21892</th>\n",
       "      <td>@saancisco Callate puta tu eres el traidor.</td>\n",
       "      <td>0.953804</td>\n",
       "    </tr>\n",
       "    <tr>\n",
       "      <th>24159</th>\n",
       "      <td>@LeonDeJapon Jajajajajaja tu eres uno, diego jajajajajaja mentira perra perra perrraaaaaaaaaa de mierda jajaja ♡</td>\n",
       "      <td>0.935751</td>\n",
       "    </tr>\n",
       "    <tr>\n",
       "      <th>23320</th>\n",
       "      <td>@HenriFalconLara No digas nada que tú eres cómplice de lo que está pasando... y recuerda seguirás siendo la perra más perra de Venezuela</td>\n",
       "      <td>0.927564</td>\n",
       "    </tr>\n",
       "    <tr>\n",
       "      <th>21050</th>\n",
       "      <td>@GvyMC @Wismichu Callate puta rata😂😂 ya estas llorando??</td>\n",
       "      <td>0.923498</td>\n",
       "    </tr>\n",
       "    <tr>\n",
       "      <th>23565</th>\n",
       "      <td>La solución no es darle papeles a todos. Es exigir a nuestro gobierno q no fabrique y venda armas a los gobiernos subsaharianos para que estos no masacren y acorralen a su población haciendo q quieran venir aquí x lo civil o criminal. Desesperación y supervivencia pura.</td>\n",
       "      <td>0.898119</td>\n",
       "    </tr>\n",
       "    <tr>\n",
       "      <th>22457</th>\n",
       "      <td>De Colombia tocará emigrar en pateras, como hacen los africanos subsaharianos.</td>\n",
       "      <td>0.869195</td>\n",
       "    </tr>\n",
       "    <tr>\n",
       "      <th>24402</th>\n",
       "      <td>zorra eres tu que no te sientes hombre y no entiendes que toda mujer es bella</td>\n",
       "      <td>0.867788</td>\n",
       "    </tr>\n",
       "    <tr>\n",
       "      <th>22848</th>\n",
       "      <td>Pinche bebé pendejo cállate el hocico, nomás te están cortando el pelo. Puta chillona</td>\n",
       "      <td>0.825065</td>\n",
       "    </tr>\n",
       "    <tr>\n",
       "      <th>21497</th>\n",
       "      <td>Talvez quede como zorra pero te lo mereces Socia😎</td>\n",
       "      <td>0.821831</td>\n",
       "    </tr>\n",
       "    <tr>\n",
       "      <th>22416</th>\n",
       "      <td>@Pepe_ElEzequiel Puta!? Puta con las que vos te metes Esa mujer es un ángel enviado por Jesucristo nuestro señor para darnos esa paz que buscamos sólo con verla</td>\n",
       "      <td>0.810618</td>\n",
       "    </tr>\n",
       "    <tr>\n",
       "      <th>22115</th>\n",
       "      <td>Una chica no es una guarra, una zorra, una puta, una buscan por su manera de vestir.</td>\n",
       "      <td>0.797787</td>\n",
       "    </tr>\n",
       "    <tr>\n",
       "      <th>22014</th>\n",
       "      <td>Ni tú eres una zorra hambrienta ni yo un incorregible depredador.</td>\n",
       "      <td>0.776452</td>\n",
       "    </tr>\n",
       "    <tr>\n",
       "      <th>22152</th>\n",
       "      <td>\"Ya que el \"\"residente\"\" del gobierno @sanchezcastejon no quiere ayudar a la @guardiacivil en laa fronteras, propongo hacer una colecta para que todo español que quiera y pueda, viaje a melilla y rodee la valla. Si nos invaden que sea con igualdad de fuerzas. #FelizSábado\"</td>\n",
       "      <td>0.761378</td>\n",
       "    </tr>\n",
       "    <tr>\n",
       "      <th>23386</th>\n",
       "      <td>Y tú eres una puta mierda que solo sirves para decir gilipollas y q gente como tú te den la razón, que vivan las fiestas y más las d pueblo https://t.co/FlfTcshHQD</td>\n",
       "      <td>0.752316</td>\n",
       "    </tr>\n",
       "    <tr>\n",
       "      <th>20952</th>\n",
       "      <td>@NicolasMaduro Callate la jeta perra que de este año no pasas</td>\n",
       "      <td>0.749215</td>\n",
       "    </tr>\n",
       "    <tr>\n",
       "      <th>21671</th>\n",
       "      <td>@danlntifada @fatinascidi @manolivizoso @Zurine3 @Jvillaver2 https://t.co/HG4ljNlwR3, coño entonces tu eres de lo que te guias por el antes de cristo y despues de cristo,cuando llegamos los Españoles,y le contagiamos todas clases de enfermedades Europeas</td>\n",
       "      <td>0.746521</td>\n",
       "    </tr>\n",
       "    <tr>\n",
       "      <th>22517</th>\n",
       "      <td>-¿eres poblana? -soy colombiana -¿y por qué eres güera? en Colombia TODAS son morenas, fui a Colombia 3 veces. -ok, mentí 🙄 solo me pinto el cabello</td>\n",
       "      <td>0.735045</td>\n",
       "    </tr>\n",
       "    <tr>\n",
       "      <th>20376</th>\n",
       "      <td>Zorra tu abuela, imbécil.</td>\n",
       "      <td>0.732388</td>\n",
       "    </tr>\n",
       "    <tr>\n",
       "      <th>21249</th>\n",
       "      <td>No tienes ni puta idea. Lo que dices no es cierto. Solo podrán ser repatriados con los países que España tiene un convenio. A los subsaharianos no se les reaptria. A los marroquíes , sí https://t.co/cwjTPSBn2r</td>\n",
       "      <td>0.689442</td>\n",
       "    </tr>\n",
       "    <tr>\n",
       "      <th>21769</th>\n",
       "      <td>@Yolandamar3 Los musulmanes no tienen ni puta idea de lo que es una mujer. Para ellos las mujeres son esclavas.</td>\n",
       "      <td>0.683233</td>\n",
       "    </tr>\n",
       "    <tr>\n",
       "      <th>23532</th>\n",
       "      <td>Mi primito insulta con 'Puto, Maricon, Puta' PENDEJO DE MIERDA CALLATE</td>\n",
       "      <td>0.633058</td>\n",
       "    </tr>\n",
       "    <tr>\n",
       "      <th>24115</th>\n",
       "      <td>Chica, pero por qué  borras las fotos en Cholon, en yates? Si al final la frijolera  que todos los fines de semana revuelven y hasta estrujan  es la tuya y nadie debe opinar en eso... Tranquila deje sus fotos.</td>\n",
       "      <td>0.617078</td>\n",
       "    </tr>\n",
       "    <tr>\n",
       "      <th>21943</th>\n",
       "      <td>Feliz cumple a vos amiga, espero que la pases hermoso por que te lo mereces, 18 no son nada perra😝 te amo tonta @keymailen1 https://t.co/0lvMiYB9rc</td>\n",
       "      <td>0.597086</td>\n",
       "    </tr>\n",
       "    <tr>\n",
       "      <th>24651</th>\n",
       "      <td>@elrod_g @jonawoodz35 Jajajajajajajajajajajaajaj mike cb yo te amo cc tu eres una puta comida cb sabe que nos debe una comidita 😂😂😂😂😂😂😂😂😂😂😂</td>\n",
       "      <td>0.595641</td>\n",
       "    </tr>\n",
       "    <tr>\n",
       "      <th>24294</th>\n",
       "      <td>#Repost @chefjames (get_repost) ・・・ Cuando dicen comida árabe, seguro lo primero que les viene a la mente son estos dos platillos 😎!!! Y yo por supuesto tenía que ponerlos a competir,… https://t.co/76l5ke2566</td>\n",
       "      <td>0.586603</td>\n",
       "    </tr>\n",
       "    <tr>\n",
       "      <th>21705</th>\n",
       "      <td>... todos los trabajadores inmigrantes en #Qatar reportaron recibir pagas menores a las prometidas y pagaron cuotas para poder trabajar ahí. Sus pasaportes fueron confiscados por el empleador a su llegada a #Qatar #FightRacism #StandUp4HumanRights #Qatar #UN #Spain https://t.co/SLfZ68QDnB</td>\n",
       "      <td>0.580360</td>\n",
       "    </tr>\n",
       "    <tr>\n",
       "      <th>20935</th>\n",
       "      <td>@Ro_Valdess LA PUTA CALLATE QUE QUIERO TENER EL PELO NARANJAAA Y ME VA A QUEDAR HORRIBLE PORQUE SOY NEGRA</td>\n",
       "      <td>0.580324</td>\n",
       "    </tr>\n",
       "    <tr>\n",
       "      <th>24180</th>\n",
       "      <td>Qué tan difícil es España cuando emigras sin papeles (por @EnriqueVasquez) https://t.co/yjZ4XV4QfU</td>\n",
       "      <td>0.563874</td>\n",
       "    </tr>\n",
       "    <tr>\n",
       "      <th>23086</th>\n",
       "      <td>@Brigitte_Grey Perra /\\ te enseñaré lo que es el nuevo orden mundial</td>\n",
       "      <td>0.559140</td>\n",
       "    </tr>\n",
       "    <tr>\n",
       "      <th>24172</th>\n",
       "      <td>Y los que no se denuncian... hagamos números. El acoso a las mujeres es diario. No todos los hombres son acosadores, pero todas las mujeres han sido acosadas. https://t.co/jza9llhqWA</td>\n",
       "      <td>0.557727</td>\n",
       "    </tr>\n",
       "    <tr>\n",
       "      <th>21812</th>\n",
       "      <td>Las personas y la manía de creer que por que la mujer es sexy tiene que ser puta seguro pues NO dejen el mojón mental.</td>\n",
       "      <td>0.543512</td>\n",
       "    </tr>\n",
       "    <tr>\n",
       "      <th>22661</th>\n",
       "      <td>Sr, @sanchezcastejon pues dígales q cuando bajen del barco cojan el autobús dirección Doñana y todos para ti, olvidas las necesidades españoles x el POPULISMO q te da la inmigración. Una más de tus atrocidades https://t.co/k4Li6gfAEl</td>\n",
       "      <td>0.538830</td>\n",
       "    </tr>\n",
       "    <tr>\n",
       "      <th>20612</th>\n",
       "      <td>Embajada de Venezuela en Emiratos Arabes Unidos condena el atentado terrorista contra el Presidente @NicolasMaduro. El mundo arabe condena este vil acto Nuestro pais, nuestro pueblo, no daran cabida a tan miserable accion @nicmaduroguerra @CancilleriaVE @jaarreaza @catiacandanga https://t.co/5G6...</td>\n",
       "      <td>0.525797</td>\n",
       "    </tr>\n",
       "    <tr>\n",
       "      <th>23021</th>\n",
       "      <td>Creo que los colegios que impartan el Islam debe de ser el mismo numero de co!egiosque en los países árabes  imparten el cristianismo.Que no somos más tontos porque no ensayamos https://t.co/u9PV1noorb</td>\n",
       "      <td>0.509315</td>\n",
       "    </tr>\n",
       "    <tr>\n",
       "      <th>21100</th>\n",
       "      <td>@Albert_Rivera @pablocasado_ parece que vuestro postureo en Ceuta parece que no ha colado  https://t.co/2hkW22TXNd</td>\n",
       "      <td>0.507245</td>\n",
       "    </tr>\n",
       "    <tr>\n",
       "      <th>24066</th>\n",
       "      <td>👞La huella dejada por los árabes en Al-Andalus, es decir, en España https://t.co/HBoW2AOBey https://t.co/sYejNvzv6j</td>\n",
       "      <td>0.506648</td>\n",
       "    </tr>\n",
       "  </tbody>\n",
       "</table>\n",
       "</div>"
      ],
      "text/plain": [
       "                                                                                                                                                                                                                                                                                                              text  \\\n",
       "id                                                                                                                                                                                                                                                                                                                   \n",
       "21892                                                                                                                                                                                                                                                                  @saancisco Callate puta tu eres el traidor.   \n",
       "24159                                                                                                                                                                                             @LeonDeJapon Jajajajajaja tu eres uno, diego jajajajajaja mentira perra perra perrraaaaaaaaaa de mierda jajaja ♡   \n",
       "23320                                                                                                                                                                     @HenriFalconLara No digas nada que tú eres cómplice de lo que está pasando... y recuerda seguirás siendo la perra más perra de Venezuela   \n",
       "21050                                                                                                                                                                                                                                                     @GvyMC @Wismichu Callate puta rata😂😂 ya estas llorando??   \n",
       "23565                               La solución no es darle papeles a todos. Es exigir a nuestro gobierno q no fabrique y venda armas a los gobiernos subsaharianos para que estos no masacren y acorralen a su población haciendo q quieran venir aquí x lo civil o criminal. Desesperación y supervivencia pura.   \n",
       "22457                                                                                                                                                                                                                               De Colombia tocará emigrar en pateras, como hacen los africanos subsaharianos.   \n",
       "24402                                                                                                                                                                                                                                zorra eres tu que no te sientes hombre y no entiendes que toda mujer es bella   \n",
       "22848                                                                                                                                                                                                                        Pinche bebé pendejo cállate el hocico, nomás te están cortando el pelo. Puta chillona   \n",
       "21497                                                                                                                                                                                                                                                            Talvez quede como zorra pero te lo mereces Socia😎   \n",
       "22416                                                                                                                                             @Pepe_ElEzequiel Puta!? Puta con las que vos te metes Esa mujer es un ángel enviado por Jesucristo nuestro señor para darnos esa paz que buscamos sólo con verla   \n",
       "22115                                                                                                                                                                                                                         Una chica no es una guarra, una zorra, una puta, una buscan por su manera de vestir.   \n",
       "22014                                                                                                                                                                                                                                            Ni tú eres una zorra hambrienta ni yo un incorregible depredador.   \n",
       "22152                            \"Ya que el \"\"residente\"\" del gobierno @sanchezcastejon no quiere ayudar a la @guardiacivil en laa fronteras, propongo hacer una colecta para que todo español que quiera y pueda, viaje a melilla y rodee la valla. Si nos invaden que sea con igualdad de fuerzas. #FelizSábado\"   \n",
       "23386                                                                                                                                          Y tú eres una puta mierda que solo sirves para decir gilipollas y q gente como tú te den la razón, que vivan las fiestas y más las d pueblo https://t.co/FlfTcshHQD   \n",
       "20952                                                                                                                                                                                                                                                @NicolasMaduro Callate la jeta perra que de este año no pasas   \n",
       "21671                                              @danlntifada @fatinascidi @manolivizoso @Zurine3 @Jvillaver2 https://t.co/HG4ljNlwR3, coño entonces tu eres de lo que te guias por el antes de cristo y despues de cristo,cuando llegamos los Españoles,y le contagiamos todas clases de enfermedades Europeas    \n",
       "22517                                                                                                                                                         -¿eres poblana? -soy colombiana -¿y por qué eres güera? en Colombia TODAS son morenas, fui a Colombia 3 veces. -ok, mentí 🙄 solo me pinto el cabello   \n",
       "20376                                                                                                                                                                                                                                                                                    Zorra tu abuela, imbécil.   \n",
       "21249                                                                                            No tienes ni puta idea. Lo que dices no es cierto. Solo podrán ser repatriados con los países que España tiene un convenio. A los subsaharianos no se les reaptria. A los marroquíes , sí https://t.co/cwjTPSBn2r   \n",
       "21769                                                                                                                                                                                              @Yolandamar3 Los musulmanes no tienen ni puta idea de lo que es una mujer. Para ellos las mujeres son esclavas.   \n",
       "23532                                                                                                                                                                                                                                       Mi primito insulta con 'Puto, Maricon, Puta' PENDEJO DE MIERDA CALLATE   \n",
       "24115                                                                                            Chica, pero por qué  borras las fotos en Cholon, en yates? Si al final la frijolera  que todos los fines de semana revuelven y hasta estrujan  es la tuya y nadie debe opinar en eso... Tranquila deje sus fotos.   \n",
       "21943                                                                                                                                                          Feliz cumple a vos amiga, espero que la pases hermoso por que te lo mereces, 18 no son nada perra😝 te amo tonta @keymailen1 https://t.co/0lvMiYB9rc   \n",
       "24651                                                                                                                                                                  @elrod_g @jonawoodz35 Jajajajajajajajajajajaajaj mike cb yo te amo cc tu eres una puta comida cb sabe que nos debe una comidita 😂😂😂😂😂😂😂😂😂😂😂   \n",
       "24294                                                                                             #Repost @chefjames (get_repost) ・・・ Cuando dicen comida árabe, seguro lo primero que les viene a la mente son estos dos platillos 😎!!! Y yo por supuesto tenía que ponerlos a competir,… https://t.co/76l5ke2566   \n",
       "21705            ... todos los trabajadores inmigrantes en #Qatar reportaron recibir pagas menores a las prometidas y pagaron cuotas para poder trabajar ahí. Sus pasaportes fueron confiscados por el empleador a su llegada a #Qatar #FightRacism #StandUp4HumanRights #Qatar #UN #Spain https://t.co/SLfZ68QDnB   \n",
       "20935                                                                                                                                                                                                    @Ro_Valdess LA PUTA CALLATE QUE QUIERO TENER EL PELO NARANJAAA Y ME VA A QUEDAR HORRIBLE PORQUE SOY NEGRA   \n",
       "24180                                                                                                                                                                                                           Qué tan difícil es España cuando emigras sin papeles (por @EnriqueVasquez) https://t.co/yjZ4XV4QfU   \n",
       "23086                                                                                                                                                                                                                                         @Brigitte_Grey Perra /\\ te enseñaré lo que es el nuevo orden mundial   \n",
       "24172                                                                                                                       Y los que no se denuncian... hagamos números. El acoso a las mujeres es diario. No todos los hombres son acosadores, pero todas las mujeres han sido acosadas. https://t.co/jza9llhqWA   \n",
       "21812                                                                                                                                                                                       Las personas y la manía de creer que por que la mujer es sexy tiene que ser puta seguro pues NO dejen el mojón mental.   \n",
       "22661                                                                    Sr, @sanchezcastejon pues dígales q cuando bajen del barco cojan el autobús dirección Doñana y todos para ti, olvidas las necesidades españoles x el POPULISMO q te da la inmigración. Una más de tus atrocidades https://t.co/k4Li6gfAEl   \n",
       "20612  Embajada de Venezuela en Emiratos Arabes Unidos condena el atentado terrorista contra el Presidente @NicolasMaduro. El mundo arabe condena este vil acto Nuestro pais, nuestro pueblo, no daran cabida a tan miserable accion @nicmaduroguerra @CancilleriaVE @jaarreaza @catiacandanga https://t.co/5G6...   \n",
       "23021                                                                                                    Creo que los colegios que impartan el Islam debe de ser el mismo numero de co!egiosque en los países árabes  imparten el cristianismo.Que no somos más tontos porque no ensayamos https://t.co/u9PV1noorb   \n",
       "21100                                                                                                                                                                                           @Albert_Rivera @pablocasado_ parece que vuestro postureo en Ceuta parece que no ha colado  https://t.co/2hkW22TXNd   \n",
       "24066                                                                                                                                                                                          👞La huella dejada por los árabes en Al-Andalus, es decir, en España https://t.co/HBoW2AOBey https://t.co/sYejNvzv6j   \n",
       "\n",
       "          proba  \n",
       "id               \n",
       "21892  0.953804  \n",
       "24159  0.935751  \n",
       "23320  0.927564  \n",
       "21050  0.923498  \n",
       "23565  0.898119  \n",
       "22457  0.869195  \n",
       "24402  0.867788  \n",
       "22848  0.825065  \n",
       "21497  0.821831  \n",
       "22416  0.810618  \n",
       "22115  0.797787  \n",
       "22014  0.776452  \n",
       "22152  0.761378  \n",
       "23386  0.752316  \n",
       "20952  0.749215  \n",
       "21671  0.746521  \n",
       "22517  0.735045  \n",
       "20376  0.732388  \n",
       "21249  0.689442  \n",
       "21769  0.683233  \n",
       "23532  0.633058  \n",
       "24115  0.617078  \n",
       "21943  0.597086  \n",
       "24651  0.595641  \n",
       "24294  0.586603  \n",
       "21705  0.580360  \n",
       "20935  0.580324  \n",
       "24180  0.563874  \n",
       "23086  0.559140  \n",
       "24172  0.557727  \n",
       "21812  0.543512  \n",
       "22661  0.538830  \n",
       "20612  0.525797  \n",
       "23021  0.509315  \n",
       "21100  0.507245  \n",
       "24066  0.506648  "
      ]
     },
     "execution_count": 48,
     "metadata": {},
     "output_type": "execute_result"
    }
   ],
   "source": [
    "pd.set_option('max_colwidth', 300)\n",
    "false_positives[[\"text\", \"proba\"]]"
   ]
  },
  {
   "cell_type": "markdown",
   "metadata": {},
   "source": [
    "# Conclusiones\n",
    "\n",
    "No mejora mucho usando embeddings también! mejor quedémonos el otro modelo..."
   ]
  }
 ],
 "metadata": {
  "kernelspec": {
   "display_name": "Python 3",
   "language": "python",
   "name": "python3"
  },
  "language_info": {
   "codemirror_mode": {
    "name": "ipython",
    "version": 3
   },
   "file_extension": ".py",
   "mimetype": "text/x-python",
   "name": "python",
   "nbconvert_exporter": "python",
   "pygments_lexer": "ipython3",
   "version": "3.6.5"
  }
 },
 "nbformat": 4,
 "nbformat_minor": 2
}
