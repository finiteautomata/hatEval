{
 "cells": [
  {
   "cell_type": "markdown",
   "metadata": {},
   "source": [
    "# Ensembles con Training Separado\n",
    "\n",
    "En esta notebook, veremos de hacer un ensemble neuronal de las técnicas vistas hasta el momento (y quizás alguna más).\n",
    "\n",
    "A diferencia de los modelos anteriores, acá los vamos a entrenar por separado y luego ensamblar\n",
    "\n",
    "Vamos a usar\n",
    "\n",
    "- Modelo char\n",
    "- Modelo BoW\n",
    "- Modelo ElMO\n",
    "- Quizás modelo de Word Embeddings\n"
   ]
  },
  {
   "cell_type": "code",
   "execution_count": 1,
   "metadata": {},
   "outputs": [
    {
     "name": "stdout",
     "output_type": "stream",
     "text": [
      "Instancias de entrenamiento: 4500\n",
      "Instancias de desarrollo: 500\n"
     ]
    }
   ],
   "source": [
    "import pandas as pd\n",
    "import csv\n",
    "\n",
    "df_dev = pd.read_table(\"../../../data/es/dev_es.tsv\", index_col=\"id\", quoting=csv.QUOTE_NONE)\n",
    "df_train = pd.read_table(\"../../../data/es/train_es.tsv\", index_col=\"id\", quoting=csv.QUOTE_NONE)\n",
    "\n",
    "text_train, y_train = df_train[\"text\"], df_train[\"HS\"]\n",
    "text_dev, y_dev = df_dev[\"text\"], df_dev[\"HS\"]\n",
    "\n",
    "print(\"Instancias de entrenamiento: {}\".format(len(df_train)))\n",
    "print(\"Instancias de desarrollo: {}\".format(len(df_dev)))\n"
   ]
  },
  {
   "cell_type": "code",
   "execution_count": 2,
   "metadata": {},
   "outputs": [
    {
     "name": "stderr",
     "output_type": "stream",
     "text": [
      "Using TensorFlow backend.\n"
     ]
    },
    {
     "name": "stdout",
     "output_type": "stream",
     "text": [
      "Embeddings disponibles\n",
      "['/home/jmperez/WordVectors/UBA_w5_200.vec', '/home/jmperez/WordVectors/wiki.es.vec', '/home/jmperez/WordVectors/UBA_w5_300.vec']\n",
      "Problema con la sig línea:\n",
      "['.', '.', '-0.22232', '0.0052569', '0.47066', '0.13836', '0.15991', '0.19504', '0.00067885', '0.020299']\n",
      "Problema con la sig línea:\n",
      "['.', '...', '-0.11666', '-0.083768', '0.028919', '0.29973', '0.21017', '0.27808', '0.063251', '0.090223']\n",
      "Problema con la sig línea:\n",
      "['.', '..', '-0.43752', '-0.0016885', '0.1533', '0.28071', '0.18051', '0.28698', '0.11806', '0.044891']\n"
     ]
    }
   ],
   "source": [
    "import os\n",
    "import glob\n",
    "from hate.utils import load_embedding\n",
    "\n",
    "path_to_embeddings = os.path.expanduser(\"~/WordVectors\")\n",
    "\n",
    "print(\"Embeddings disponibles\")\n",
    "print(glob.glob(path_to_embeddings+\"/*.vec\"))\n",
    "\n",
    "word_to_vec = load_embedding(os.path.join(path_to_embeddings, \"UBA_w5_300.vec\"))"
   ]
  },
  {
   "cell_type": "markdown",
   "metadata": {},
   "source": [
    "Hagamos tokenize sobre el texto"
   ]
  },
  {
   "cell_type": "code",
   "execution_count": 3,
   "metadata": {},
   "outputs": [],
   "source": [
    "%matplotlib inline\n",
    "from nltk.tokenize import TweetTokenizer\n",
    "from keras.preprocessing.sequence import pad_sequences\n",
    "from sklearn.feature_extraction.text import CountVectorizer, TfidfTransformer\n",
    "from nltk.stem import SnowballStemmer\n",
    "import matplotlib.pyplot as plt\n",
    "import unidecode\n",
    "\n",
    "\n",
    "stemmer = SnowballStemmer('spanish')\n",
    "\n",
    "def tokenize(tweet, stem=False, deaccent=True, alpha_only=False, **kwargs):\n",
    "    tokenizer = TweetTokenizer(**kwargs)\n",
    "    tokens = tokenizer.tokenize(tweet)\n",
    "    \n",
    "    ret = []\n",
    "    \n",
    "    def fstem(x):\n",
    "        if stem:\n",
    "            return stemmer.stem(x)\n",
    "        else:\n",
    "            return x\n",
    "        \n",
    "    for token in tokens:\n",
    "        tok = None\n",
    "        if token[0] == \"#\":            \n",
    "            tok = fstem(token[1:])\n",
    "        elif token[0] == \"@\":\n",
    "            tok = \"@user\"\n",
    "        elif \"http\" in token:\n",
    "            continue\n",
    "        else:\n",
    "            tok = fstem(token)\n",
    "        \n",
    "        if deaccent and tok.isalpha():\n",
    "            tok = unidecode.unidecode(tok)\n",
    "        if alpha_only and not tok.isalpha():\n",
    "            continue\n",
    "        \n",
    "        ret.append(tok)\n",
    "    return ret\n",
    "\n"
   ]
  },
  {
   "cell_type": "markdown",
   "metadata": {},
   "source": [
    "## Embeddings Model"
   ]
  },
  {
   "cell_type": "code",
   "execution_count": 4,
   "metadata": {},
   "outputs": [],
   "source": [
    "tokenize_args = {\n",
    "    \"preserve_case\": False, \n",
    "    \"deaccent\": False,\n",
    "    \"reduce_len\": True, \n",
    "    \"strip_handles\": False,\n",
    "    \"stem\": False,\n",
    "    \"alpha_only\": True\n",
    "}\n",
    "\n",
    "text_train = [\" \".join(tokenize(t, **tokenize_args)) for t in df_train[\"text\"].values]\n",
    "text_dev = [\" \".join(tokenize(t, **tokenize_args)) for t in df_dev[\"text\"].values]\n"
   ]
  },
  {
   "cell_type": "code",
   "execution_count": 5,
   "metadata": {},
   "outputs": [
    {
     "data": {
      "text/plain": [
       "'no hay nada más lento que un caracol cállate hijo de puta eso lo dices porque no tienes blackberry'"
      ]
     },
     "execution_count": 5,
     "metadata": {},
     "output_type": "execute_result"
    }
   ],
   "source": [
    "text_train[-1]"
   ]
  },
  {
   "cell_type": "code",
   "execution_count": 6,
   "metadata": {},
   "outputs": [],
   "source": [
    "from keras.preprocessing.text import Tokenizer\n",
    "from keras.preprocessing.sequence import pad_sequences\n",
    "\n",
    "emb_num_words = 12500\n",
    "\n",
    "tokenizer = Tokenizer(num_words=emb_num_words)\n",
    "tokenizer.fit_on_texts(text_train)\n",
    "\n",
    "emb_train = tokenizer.texts_to_sequences(text_train)\n",
    "emb_dev = tokenizer.texts_to_sequences(text_dev)\n"
   ]
  },
  {
   "cell_type": "code",
   "execution_count": 7,
   "metadata": {},
   "outputs": [
    {
     "name": "stdout",
     "output_type": "stream",
     "text": [
      "Vocabulario: 14008 palabras\n"
     ]
    }
   ],
   "source": [
    "print(\"Vocabulario: {} palabras\".format(len(tokenizer.word_index)))"
   ]
  },
  {
   "cell_type": "code",
   "execution_count": 8,
   "metadata": {},
   "outputs": [
    {
     "data": {
      "text/plain": [
       "(array([525., 981., 923., 771., 415., 331., 286., 181.,  73.,  14.]),\n",
       " array([ 1. ,  6.8, 12.6, 18.4, 24.2, 30. , 35.8, 41.6, 47.4, 53.2, 59. ]),\n",
       " <a list of 10 Patch objects>)"
      ]
     },
     "execution_count": 8,
     "metadata": {},
     "output_type": "execute_result"
    },
    {
     "data": {
      "image/png": "[encoded data removed]",
      "text/plain": [
       "<Figure size 432x288 with 1 Axes>"
      ]
     },
     "metadata": {
      "needs_background": "light"
     },
     "output_type": "display_data"
    }
   ],
   "source": [
    "plt.hist([len(t) for t in emb_train])"
   ]
  },
  {
   "cell_type": "code",
   "execution_count": 9,
   "metadata": {},
   "outputs": [],
   "source": [
    "\n",
    "emb_max_length = 50\n",
    "\n",
    "X_emb_train = pad_sequences(emb_train, emb_max_length)\n",
    "X_emb_dev = pad_sequences(emb_dev, emb_max_length)"
   ]
  },
  {
   "cell_type": "code",
   "execution_count": 10,
   "metadata": {},
   "outputs": [],
   "source": [
    "# create a weight matrix for words in training docs\n",
    "import numpy as np\n",
    "\n",
    "embedding_size = word_to_vec[\"hola\"].shape[0]\n",
    "embedding_matrix = np.zeros((emb_num_words, embedding_size))\n",
    "\n",
    "for word, i in tokenizer.word_index.items():\n",
    "    embedding_vector = word_to_vec.get(word)\n",
    "    if embedding_vector is not None and i < emb_num_words:\n",
    "        embedding_matrix[i] = embedding_vector"
   ]
  },
  {
   "cell_type": "markdown",
   "metadata": {},
   "source": [
    "## Bow Model"
   ]
  },
  {
   "cell_type": "code",
   "execution_count": 11,
   "metadata": {},
   "outputs": [
    {
     "data": {
      "text/plain": [
       "((4500, 3662), (500, 3662))"
      ]
     },
     "execution_count": 11,
     "metadata": {},
     "output_type": "execute_result"
    }
   ],
   "source": [
    "\n",
    "tokenize_args = {\n",
    "    \"preserve_case\": False, \n",
    "    \"deaccent\": False,\n",
    "    \"reduce_len\": True, \n",
    "    \"strip_handles\": False,\n",
    "    \"stem\": True,\n",
    "    \"alpha_only\": True\n",
    "}\n",
    "vect = CountVectorizer(tokenizer=lambda t: tokenize(t, **tokenize_args), \n",
    "                       max_df=0.90, min_df=0.001, ngram_range=(1, 2), binary=True)\n",
    "\n",
    "vect.fit(df_train[\"text\"])\n",
    "\n",
    "X_bow_train = vect.transform(df_train[\"text\"])\n",
    "X_bow_dev = vect.transform(df_dev[\"text\"])\n",
    "\n",
    "X_bow_train.shape, X_bow_dev.shape"
   ]
  },
  {
   "cell_type": "markdown",
   "metadata": {},
   "source": [
    "## Char Input"
   ]
  },
  {
   "cell_type": "code",
   "execution_count": 12,
   "metadata": {},
   "outputs": [],
   "source": [
    "from keras.preprocessing.text import Tokenizer\n",
    "from keras.preprocessing.sequence import pad_sequences\n",
    "\n",
    "vocab_size = 200\n",
    "\n",
    "\n",
    "tokenize_args = {\n",
    "    \"preserve_case\": False, \n",
    "    \"deaccent\": True,\n",
    "    \"reduce_len\": True, \n",
    "    \"strip_handles\": False,\n",
    "    \"stem\": True,\n",
    "    \"alpha_only\": False\n",
    "}\n",
    "\n",
    "text_train = [\" \".join(tokenize(t, **tokenize_args)) for t in df_train[\"text\"].values]\n",
    "text_dev = [\" \".join(tokenize(t, **tokenize_args)) for t in df_dev[\"text\"].values]\n",
    "\n",
    "char_tokenizer = Tokenizer(num_words=vocab_size, char_level=True, \n",
    "                           lower=tokenize_args[\"preserve_case\"])\n",
    "char_tokenizer.fit_on_texts(text_train)\n",
    "\n",
    "X_char_train = char_tokenizer.texts_to_sequences(text_train)\n",
    "X_char_dev = char_tokenizer.texts_to_sequences(text_dev)"
   ]
  },
  {
   "cell_type": "code",
   "execution_count": 13,
   "metadata": {},
   "outputs": [
    {
     "data": {
      "text/plain": [
       "(array([358., 909., 892., 801., 491., 274., 256., 264., 220.,  35.]),\n",
       " array([  5. ,  32.1,  59.2,  86.3, 113.4, 140.5, 167.6, 194.7, 221.8,\n",
       "        248.9, 276. ]),\n",
       " <a list of 10 Patch objects>)"
      ]
     },
     "execution_count": 13,
     "metadata": {},
     "output_type": "execute_result"
    },
    {
     "data": {
      "image/png": "[encoded data removed]",
      "text/plain": [
       "<Figure size 432x288 with 1 Axes>"
      ]
     },
     "metadata": {
      "needs_background": "light"
     },
     "output_type": "display_data"
    }
   ],
   "source": [
    "%matplotlib inline\n",
    "import matplotlib.pyplot as plt\n",
    "\n",
    "plt.hist([len(seq) for seq in X_char_train])"
   ]
  },
  {
   "cell_type": "markdown",
   "metadata": {},
   "source": [
    "Sanity check: veamos que si \"destokenizo\", me reconstruye algo razonable"
   ]
  },
  {
   "cell_type": "code",
   "execution_count": 14,
   "metadata": {},
   "outputs": [
    {
     "name": "stdout",
     "output_type": "stream",
     "text": [
      "[\"e a s y j e t   q u i e r   d u p l i c   e l   n u m e r   d e   m u j e r   p i l o t   '   v e r a s   t u   p a r   a p a r c   e l   a v i o n   . .\"]\n",
      "easyjet quier duplic el numer de mujer pilot ' veras tu par aparc el avion ..\n",
      "['e l   g o b i e r n   d e b   c r e   u n   c o n t r o l   e s t r i c t   d e   i n m i g r   e n   l a s   z o n   f r o n t e r i z   c o n   c o l o m b i   p o r   q   d e s p u e s   d e l   2 0 - 8   q u e r r a n   v e n   e n   m a s']\n",
      "el gobiern deb cre un control estrict de inmigr en las zon fronteriz con colombi por q despues del 20-8 querran ven en mas\n"
     ]
    }
   ],
   "source": [
    "print(char_tokenizer.sequences_to_texts(X_char_train[0:1]))\n",
    "print(text_train[0])\n",
    "print(char_tokenizer.sequences_to_texts(X_char_train[1:2]))\n",
    "print(text_train[1])"
   ]
  },
  {
   "cell_type": "code",
   "execution_count": 15,
   "metadata": {},
   "outputs": [],
   "source": [
    "\n",
    "max_charlen = 300\n",
    "\n",
    "X_char_train = pad_sequences(X_char_train, maxlen=max_charlen)\n",
    "X_char_dev = pad_sequences(X_char_dev, maxlen=max_charlen)"
   ]
  },
  {
   "cell_type": "markdown",
   "metadata": {},
   "source": [
    "## Elmo Input"
   ]
  },
  {
   "cell_type": "code",
   "execution_count": 16,
   "metadata": {},
   "outputs": [
    {
     "data": {
      "text/plain": [
       "['easyjet',\n",
       " 'quiere',\n",
       " 'duplicar',\n",
       " 'el',\n",
       " 'número',\n",
       " 'de',\n",
       " 'mujeres',\n",
       " 'piloto',\n",
       " 'verás',\n",
       " 'tú',\n",
       " 'para',\n",
       " 'aparcar',\n",
       " 'el',\n",
       " 'avión']"
      ]
     },
     "execution_count": 16,
     "metadata": {},
     "output_type": "execute_result"
    }
   ],
   "source": [
    "from keras.utils import to_categorical\n",
    "import numpy as np\n",
    "\n",
    "tokenize_args = {\n",
    "    \"preserve_case\": False, \n",
    "    \"deaccent\": False,\n",
    "    \"reduce_len\": True, \n",
    "    \"strip_handles\": False,\n",
    "    \"alpha_only\": True,\n",
    "}\n",
    "\n",
    "\n",
    "tokens_train = [tokenize(tweet, **tokenize_args) for tweet in df_train[\"text\"].values]\n",
    "tokens_dev = [tokenize(tweet, **tokenize_args) for tweet in df_dev[\"text\"].values]\n",
    "\n",
    "tokens_train[0]"
   ]
  },
  {
   "cell_type": "markdown",
   "metadata": {},
   "source": [
    "Ahora, calculemos los inputs de ElMO"
   ]
  },
  {
   "cell_type": "code",
   "execution_count": 17,
   "metadata": {},
   "outputs": [
    {
     "data": {
      "text/plain": [
       "(array([505., 959., 927., 772., 417., 336., 285., 200.,  82.,  17.]),\n",
       " array([ 1. ,  6.8, 12.6, 18.4, 24.2, 30. , 35.8, 41.6, 47.4, 53.2, 59. ]),\n",
       " <a list of 10 Patch objects>)"
      ]
     },
     "execution_count": 17,
     "metadata": {},
     "output_type": "execute_result"
    },
    {
     "data": {
      "image/png": "[encoded data removed]",
      "text/plain": [
       "<Figure size 432x288 with 1 Axes>"
      ]
     },
     "metadata": {
      "needs_background": "light"
     },
     "output_type": "display_data"
    }
   ],
   "source": [
    "%matplotlib inline\n",
    "import matplotlib.pyplot as plt\n",
    "\n",
    "plt.hist([len(t) for t in tokens_train])"
   ]
  },
  {
   "cell_type": "markdown",
   "metadata": {},
   "source": [
    "Padeamos los vectores con espacios"
   ]
  },
  {
   "cell_type": "code",
   "execution_count": 18,
   "metadata": {},
   "outputs": [],
   "source": [
    "elmo_max_length = 50\n",
    "\n",
    "def pad_tokens(tokens, max_len):\n",
    "    if len(tokens) >= max_len:\n",
    "        return tokens[:max_len]\n",
    "    else:\n",
    "        tokens = tokens + [''] * (max_len - len(tokens))\n",
    "    return tokens\n",
    "\n",
    "padded_tokens_train = [pad_tokens(seq, elmo_max_length) for seq in tokens_train]\n",
    "padded_tokens_dev = [pad_tokens(seq, elmo_max_length) for seq in tokens_dev]\n"
   ]
  },
  {
   "cell_type": "code",
   "execution_count": 19,
   "metadata": {},
   "outputs": [],
   "source": [
    "%%capture\n",
    "from elmoformanylangs import Embedder\n",
    "\n",
    "e = Embedder(\"../../../models/elmo/es/\")"
   ]
  },
  {
   "cell_type": "code",
   "execution_count": 20,
   "metadata": {},
   "outputs": [
    {
     "name": "stdout",
     "output_type": "stream",
     "text": [
      "['easyjet', 'quiere', 'duplicar', 'el', 'número', 'de', 'mujeres', 'piloto', 'verás', 'tú', 'para', 'aparcar', 'el', 'avión', '', '', '', '', '', '', '', '', '', '', '', '', '', '', '', '', '', '', '', '', '', '', '', '', '', '', '', '', '', '', '', '', '', '', '', '']\n"
     ]
    }
   ],
   "source": [
    "import numpy as np\n",
    "\n",
    "print(padded_tokens_train[0])\n",
    "\n",
    "elmo_dim = 1024\n",
    "\n",
    "elmo_train = np.array(e.sents2elmo(padded_tokens_train, -1))\n",
    "elmo_dev = np.array(e.sents2elmo(padded_tokens_dev, -1))"
   ]
  },
  {
   "cell_type": "code",
   "execution_count": 21,
   "metadata": {},
   "outputs": [
    {
     "data": {
      "text/plain": [
       "(array([8.7600e+04, 5.0632e+04, 2.1550e+04, 3.0614e+04, 2.4553e+04,\n",
       "        8.9620e+03, 1.0110e+03, 7.2000e+01, 4.0000e+00, 2.0000e+00]),\n",
       " array([13.044178, 16.201115, 19.35805 , 22.514986, 25.67192 , 28.828857,\n",
       "        31.985794, 35.14273 , 38.299664, 41.4566  , 44.613537],\n",
       "       dtype=float32),\n",
       " <a list of 10 Patch objects>)"
      ]
     },
     "execution_count": 21,
     "metadata": {},
     "output_type": "execute_result"
    },
    {
     "data": {
      "image/png": "[encoded data removed]",
      "text/plain": [
       "<Figure size 432x288 with 1 Axes>"
      ]
     },
     "metadata": {
      "needs_background": "light"
     },
     "output_type": "display_data"
    }
   ],
   "source": [
    "plt.hist([np.linalg.norm(t) for seq in elmo_train for t in seq ])"
   ]
  },
  {
   "cell_type": "code",
   "execution_count": 22,
   "metadata": {},
   "outputs": [
    {
     "data": {
      "text/plain": [
       "((4500, 50, 1024), (500, 50, 1024))"
      ]
     },
     "execution_count": 22,
     "metadata": {},
     "output_type": "execute_result"
    }
   ],
   "source": [
    "\n",
    "def pad_vectors(X, max_len, norm=False):\n",
    "    pad_vector = np.zeros((1, elmo_dim))\n",
    "    ret = []\n",
    "    \n",
    "    for seq in X:\n",
    "        if norm:\n",
    "            seq = seq / np.linalg.norm(seq, axis=1)[..., np.newaxis]\n",
    "        if len(seq) > max_len:\n",
    "            ret.append(seq[:max_len])\n",
    "        else:\n",
    "            padded = np.vstack([\n",
    "                seq, \n",
    "                np.zeros((max_len - len(seq), elmo_dim))\n",
    "            ])\n",
    "            \n",
    "            ret.append(padded)\n",
    "        \n",
    "    return ret\n",
    "\n",
    "\n",
    "X_elmo_train = np.array(pad_vectors(elmo_train, elmo_max_length))\n",
    "X_elmo_dev = np.array(pad_vectors(elmo_dev, elmo_max_length))\n",
    "\n",
    "X_elmo_train.shape, X_elmo_dev.shape"
   ]
  },
  {
   "cell_type": "code",
   "execution_count": 23,
   "metadata": {},
   "outputs": [
    {
     "data": {
      "text/plain": [
       "(array([8.7600e+04, 5.0632e+04, 2.1550e+04, 3.0614e+04, 2.4553e+04,\n",
       "        8.9620e+03, 1.0110e+03, 7.2000e+01, 4.0000e+00, 2.0000e+00]),\n",
       " array([13.04417761, 16.20111336, 19.35804911, 22.51498485, 25.6719206 ,\n",
       "        28.82885635, 31.9857921 , 35.14272785, 38.2996636 , 41.45659935,\n",
       "        44.61353509]),\n",
       " <a list of 10 Patch objects>)"
      ]
     },
     "execution_count": 23,
     "metadata": {},
     "output_type": "execute_result"
    },
    {
     "data": {
      "image/png": "[encoded data removed]",
      "text/plain": [
       "<Figure size 432x288 with 1 Axes>"
      ]
     },
     "metadata": {
      "needs_background": "light"
     },
     "output_type": "display_data"
    }
   ],
   "source": [
    "norms = [np.linalg.norm(t) for seq in X_elmo_train for t in seq ]\n",
    "\n",
    "plt.hist(norms)"
   ]
  },
  {
   "cell_type": "markdown",
   "metadata": {},
   "source": [
    "## Modelo múltiple inputs\n",
    "Hagamos un primer modelo con múltiple inputs."
   ]
  },
  {
   "cell_type": "code",
   "execution_count": 43,
   "metadata": {},
   "outputs": [
    {
     "name": "stdout",
     "output_type": "stream",
     "text": [
      "_________________________________________________________________\n",
      "Layer (type)                 Output Shape              Param #   \n",
      "=================================================================\n",
      "Char_Input (InputLayer)      (None, 300)               0         \n",
      "_________________________________________________________________\n",
      "embedding_17 (Embedding)     (None, 300, 64)           12800     \n",
      "_________________________________________________________________\n",
      "conv1d_9 (Conv1D)            (None, 300, 128)          49280     \n",
      "_________________________________________________________________\n",
      "max_pooling1d_9 (MaxPooling1 (None, 75, 128)           0         \n",
      "_________________________________________________________________\n",
      "bidirectional_25 (Bidirectio (None, 256)               264192    \n",
      "_________________________________________________________________\n",
      "dropout_65 (Dropout)         (None, 256)               0         \n",
      "_________________________________________________________________\n",
      "dense_char (Dense)           (None, 128)               32896     \n",
      "_________________________________________________________________\n",
      "dropout_66 (Dropout)         (None, 128)               0         \n",
      "_________________________________________________________________\n",
      "dense_41 (Dense)             (None, 1)                 129       \n",
      "=================================================================\n",
      "Total params: 359,297\n",
      "Trainable params: 359,297\n",
      "Non-trainable params: 0\n",
      "_________________________________________________________________\n",
      "None\n",
      "_________________________________________________________________\n",
      "Layer (type)                 Output Shape              Param #   \n",
      "=================================================================\n",
      "Elmo_Input (InputLayer)      (None, 50, 1024)          0         \n",
      "_________________________________________________________________\n",
      "bidirectional_26 (Bidirectio (None, 192)               861696    \n",
      "_________________________________________________________________\n",
      "dropout_67 (Dropout)         (None, 192)               0         \n",
      "_________________________________________________________________\n",
      "dense_elmo (Dense)           (None, 128)               24704     \n",
      "_________________________________________________________________\n",
      "dropout_68 (Dropout)         (None, 128)               0         \n",
      "_________________________________________________________________\n",
      "dense_42 (Dense)             (None, 1)                 129       \n",
      "=================================================================\n",
      "Total params: 886,529\n",
      "Trainable params: 886,529\n",
      "Non-trainable params: 0\n",
      "_________________________________________________________________\n",
      "None\n",
      "_________________________________________________________________\n",
      "Layer (type)                 Output Shape              Param #   \n",
      "=================================================================\n",
      "BoW_Input (InputLayer)       (None, 3662)              0         \n",
      "_________________________________________________________________\n",
      "dense_43 (Dense)             (None, 128)               468864    \n",
      "_________________________________________________________________\n",
      "dropout_69 (Dropout)         (None, 128)               0         \n",
      "_________________________________________________________________\n",
      "dense_bow (Dense)            (None, 128)               16512     \n",
      "_________________________________________________________________\n",
      "dropout_70 (Dropout)         (None, 128)               0         \n",
      "_________________________________________________________________\n",
      "dense_44 (Dense)             (None, 1)                 129       \n",
      "=================================================================\n",
      "Total params: 485,505\n",
      "Trainable params: 485,505\n",
      "Non-trainable params: 0\n",
      "_________________________________________________________________\n",
      "None\n",
      "_________________________________________________________________\n",
      "Layer (type)                 Output Shape              Param #   \n",
      "=================================================================\n",
      "Emb_Input (InputLayer)       (None, 50)                0         \n",
      "_________________________________________________________________\n",
      "embedding_18 (Embedding)     (None, 50, 300)           3750000   \n",
      "_________________________________________________________________\n",
      "bidirectional_27 (Bidirectio (None, 128)               187392    \n",
      "_________________________________________________________________\n",
      "dropout_71 (Dropout)         (None, 128)               0         \n",
      "_________________________________________________________________\n",
      "dense_emb (Dense)            (None, 128)               16512     \n",
      "_________________________________________________________________\n",
      "dropout_72 (Dropout)         (None, 128)               0         \n",
      "_________________________________________________________________\n",
      "dense_45 (Dense)             (None, 1)                 129       \n",
      "=================================================================\n",
      "Total params: 3,954,033\n",
      "Trainable params: 204,033\n",
      "Non-trainable params: 3,750,000\n",
      "_________________________________________________________________\n",
      "None\n"
     ]
    },
    {
     "data": {
      "image/png": "[encoded data removed]",
      "text/plain": [
       "<IPython.core.display.Image object>"
      ]
     },
     "metadata": {},
     "output_type": "display_data"
    },
    {
     "data": {
      "image/png": "[encoded data removed]",
      "text/plain": [
       "<IPython.core.display.Image object>"
      ]
     },
     "metadata": {},
     "output_type": "display_data"
    },
    {
     "data": {
      "image/png": "[encoded data removed]",
      "text/plain": [
       "<IPython.core.display.Image object>"
      ]
     },
     "metadata": {},
     "output_type": "display_data"
    },
    {
     "data": {
      "image/png": "[encoded data removed]",
      "text/plain": [
       "<IPython.core.display.Image object>"
      ]
     },
     "metadata": {},
     "output_type": "display_data"
    }
   ],
   "source": [
    "from keras.models import Model\n",
    "from keras.layers import (\n",
    "    Dense, GRU, Dropout, LSTM, Bidirectional, Embedding, GlobalAveragePooling1D,\n",
    "    CuDNNLSTM, CuDNNGRU, Conv1D, MaxPooling1D, Input, Concatenate, BatchNormalization)\n",
    "from keras.optimizers import Adam\n",
    "from keras.utils import plot_model\n",
    "from IPython.display import Image\n",
    "\n",
    "recursive_class = CuDNNLSTM\n",
    "\n",
    "def create_char_graph(max_charlen, vocab_size, embedding_dim=64, filters=128, kernel_size=6,\n",
    "                      pooling_size=3, lstm_units=128, dense_units=128, dropout=[0.75, 0.50]):\n",
    "    input_char = Input(shape=(max_charlen,), name=\"Char_Input\")\n",
    "    x = Embedding(vocab_size, embedding_dim)(input_char)\n",
    "    x = Conv1D(filters=filters, kernel_size=kernel_size, \n",
    "               padding='same', activation='relu')(x) \n",
    "    \n",
    "    x = MaxPooling1D(pool_size=pooling_size)(x)\n",
    "    x = Bidirectional(recursive_class(lstm_units))(x)\n",
    "    x = Dropout(dropout[0])(x)\n",
    "    x = Dense(dense_units, activation='relu', name='dense_char')(x)\n",
    "    x = Dropout(dropout[1])(x)\n",
    "    output = Dense(1, activation='sigmoid')(x)\n",
    "    return input_char, output\n",
    "\n",
    "\n",
    "def create_elmo_graph(max_length, lstm_units=128, dense_units=128, dropout=[0.75, 0.50]):\n",
    "    input_elmo = Input(shape=(max_length, elmo_dim), name=\"Elmo_Input\")\n",
    "    y = Bidirectional(recursive_class(lstm_units))(input_elmo)\n",
    "    y = Dropout(dropout[0])(y)\n",
    "    y = Dense(dense_units, activation='relu', name='dense_elmo')(y)\n",
    "    y = Dropout(dropout[1])(y)\n",
    "    output = Dense(1, activation='sigmoid')(y)\n",
    "    return input_elmo, output\n",
    "\n",
    "def create_bow_graph(input_shape, dense_units=512, dropout=[0.75, 0.50]):\n",
    "    input_bow = Input(shape=input_shape, name=\"BoW_Input\")\n",
    "    z = Dense(dense_units, activation='relu')(input_bow)\n",
    "    z = Dropout(dropout[0])(z)\n",
    "    z = Dense(128, activation='relu', name='dense_bow')(z)\n",
    "    z = Dropout(dropout[1])(z)\n",
    "    output = Dense(1, activation='sigmoid')(z)\n",
    "    return input_bow, output\n",
    "\n",
    "def create_embeddings_graph(max_len, embedding_matrix, lstm_units=256, dense_units=128, dropout=[0.75, 0.50]):\n",
    "    input_embeddings = Input(shape=(max_len, ), name=\"Emb_Input\")\n",
    "\n",
    "    w = Embedding(embedding_matrix.shape[0], embedding_matrix.shape[1], \n",
    "                  input_length=max_len, weights=[embedding_matrix], trainable=False)(input_embeddings)\n",
    "    #w = GlobalAveragePooling1D()(w)\n",
    "    w = Bidirectional(recursive_class(lstm_units))(w)\n",
    "    w = Dropout(dropout[0])(w)\n",
    "    w = Dense(dense_units, activation='relu', name='dense_emb')(w)\n",
    "    w = Dropout(dropout[1])(w)\n",
    "    output = Dense(1, activation='sigmoid')(w)\n",
    "    return input_embeddings, output\n",
    "\n",
    "\n",
    "\n",
    "\n",
    "dropouts = [0.75, 0.55]\n",
    "\n",
    "\n",
    "input_char, output_char = create_char_graph(\n",
    "    max_charlen, vocab_size, embedding_dim=64, lstm_units=128, \n",
    "    filters=128, kernel_size=6, pooling_size=4,\n",
    "    dropout=dropouts)\n",
    "\n",
    "input_elmo, output_elmo = create_elmo_graph(elmo_max_length, lstm_units=96, dropout=dropouts)\n",
    "input_bow, output_bow = create_bow_graph(input_shape=(X_bow_train.shape[1],), dense_units=128, dropout=dropouts)\n",
    "\n",
    "input_emb, output_emb = create_embeddings_graph(emb_max_length, embedding_matrix, lstm_units=64, dropout=dropouts)\n",
    "\n",
    "char_model = Model(inputs=[input_char], outputs=[output_char])\n",
    "elmo_model = Model(inputs=[input_elmo], outputs=[output_elmo])\n",
    "bow_model = Model(inputs=[input_bow], outputs=[output_bow])\n",
    "emb_model = Model(inputs=[input_emb], outputs=[output_emb])\n",
    "\n",
    "\n",
    "use_char = True\n",
    "use_elmo = True\n",
    "use_bow = True\n",
    "use_emb = True\n",
    "\n",
    "\n",
    "if use_char:\n",
    "    pass\n",
    "if use_elmo:\n",
    "    pass\n",
    "if use_bow:\n",
    "    pass\n",
    "if use_emb:\n",
    "    pass\n",
    "\n",
    "images = []\n",
    "\n",
    "print(char_model.summary())\n",
    "plot_model(char_model, to_file='/tmp/char_model.png')\n",
    "images.append(Image('/tmp/char_model.png'))\n",
    "\n",
    "print(elmo_model.summary())\n",
    "plot_model(elmo_model, to_file='/tmp/elmo_model.png')\n",
    "images.append(Image('/tmp/elmo_model.png'))\n",
    "\n",
    "print(bow_model.summary())\n",
    "plot_model(bow_model, to_file='/tmp/bow_model.png')\n",
    "images.append(Image('/tmp/bow_model.png'))\n",
    "\n",
    "print(emb_model.summary())\n",
    "plot_model(emb_model, to_file='/tmp/emb_model.png')\n",
    "images.append(Image('/tmp/emb_model.png'))\n",
    "\n",
    "from IPython.display import display\n",
    "\n",
    "display(*images)"
   ]
  },
  {
   "cell_type": "code",
   "execution_count": 46,
   "metadata": {},
   "outputs": [],
   "source": [
    "optimizer_args = {\n",
    "    \"lr\": 0.001,\n",
    "    \"decay\": 0.01,\n",
    "    \"amsgrad\": False\n",
    "}\n",
    "\n",
    "\n",
    "\n",
    "\n",
    "char_model.compile(loss='binary_crossentropy', \n",
    "              optimizer=Adam(), \n",
    "              metrics=['accuracy'])\n",
    "\n",
    "elmo_model.compile(loss='binary_crossentropy', \n",
    "              optimizer=Adam(**optimizer_args), \n",
    "              metrics=['accuracy'])\n",
    "\n",
    "bow_model.compile(loss='binary_crossentropy', \n",
    "              optimizer=Adam(**optimizer_args), \n",
    "              metrics=['accuracy'])\n",
    "\n",
    "emb_model.compile(loss='binary_crossentropy', \n",
    "              optimizer=Adam(**optimizer_args), \n",
    "              metrics=['accuracy'])\n"
   ]
  },
  {
   "cell_type": "code",
   "execution_count": 47,
   "metadata": {},
   "outputs": [
    {
     "name": "stdout",
     "output_type": "stream",
     "text": [
      "Train on 4500 samples, validate on 500 samples\n",
      "Epoch 1/50\n",
      "4500/4500 [==============================] - 4s 990us/step - loss: 0.6497 - acc: 0.6616 - val_loss: 0.6624 - val_acc: 0.6440\n",
      "\n",
      "Epoch 00001: val_acc improved from -inf to 0.64400, saving model to /tmp/char_ensemble_13.h5\n",
      "Epoch 2/50\n",
      "4500/4500 [==============================] - 2s 530us/step - loss: 0.5849 - acc: 0.7073 - val_loss: 0.6072 - val_acc: 0.6740\n",
      "\n",
      "Epoch 00002: val_acc improved from 0.64400 to 0.67400, saving model to /tmp/char_ensemble_13.h5\n",
      "Epoch 3/50\n",
      "4500/4500 [==============================] - 2s 536us/step - loss: 0.5540 - acc: 0.7269 - val_loss: 0.6456 - val_acc: 0.6800\n",
      "\n",
      "Epoch 00003: val_acc improved from 0.67400 to 0.68000, saving model to /tmp/char_ensemble_13.h5\n",
      "Epoch 4/50\n",
      "4500/4500 [==============================] - 2s 533us/step - loss: 0.5129 - acc: 0.7496 - val_loss: 0.5524 - val_acc: 0.7380\n",
      "\n",
      "Epoch 00004: val_acc improved from 0.68000 to 0.73800, saving model to /tmp/char_ensemble_13.h5\n",
      "Epoch 5/50\n",
      "4500/4500 [==============================] - 2s 519us/step - loss: 0.4915 - acc: 0.7756 - val_loss: 0.6187 - val_acc: 0.6660\n",
      "\n",
      "Epoch 00005: val_acc did not improve from 0.73800\n",
      "Epoch 6/50\n",
      "4500/4500 [==============================] - 2s 533us/step - loss: 0.4641 - acc: 0.7880 - val_loss: 0.5656 - val_acc: 0.7320\n",
      "\n",
      "Epoch 00006: val_acc did not improve from 0.73800\n",
      "Epoch 7/50\n",
      "4500/4500 [==============================] - 2s 538us/step - loss: 0.4293 - acc: 0.8104 - val_loss: 0.5754 - val_acc: 0.7420\n",
      "\n",
      "Epoch 00007: val_acc improved from 0.73800 to 0.74200, saving model to /tmp/char_ensemble_13.h5\n",
      "Epoch 8/50\n",
      "4500/4500 [==============================] - 2s 537us/step - loss: 0.4130 - acc: 0.8220 - val_loss: 0.5992 - val_acc: 0.7040\n",
      "\n",
      "Epoch 00008: val_acc did not improve from 0.74200\n",
      "Epoch 9/50\n",
      "4500/4500 [==============================] - 2s 522us/step - loss: 0.3692 - acc: 0.8458 - val_loss: 0.5950 - val_acc: 0.7620\n",
      "\n",
      "Epoch 00009: val_acc improved from 0.74200 to 0.76200, saving model to /tmp/char_ensemble_13.h5\n",
      "Epoch 10/50\n",
      "4500/4500 [==============================] - 2s 536us/step - loss: 0.3637 - acc: 0.8507 - val_loss: 0.6934 - val_acc: 0.6920\n",
      "\n",
      "Epoch 00010: val_acc did not improve from 0.76200\n",
      "Epoch 11/50\n",
      "4500/4500 [==============================] - 2s 523us/step - loss: 0.3197 - acc: 0.8713 - val_loss: 0.6411 - val_acc: 0.7300\n",
      "\n",
      "Epoch 00011: val_acc did not improve from 0.76200\n",
      "Epoch 12/50\n",
      "4500/4500 [==============================] - 2s 535us/step - loss: 0.3000 - acc: 0.8800 - val_loss: 0.7052 - val_acc: 0.7580\n",
      "\n",
      "Epoch 00012: val_acc did not improve from 0.76200\n",
      "Epoch 13/50\n",
      "4500/4500 [==============================] - 2s 534us/step - loss: 0.2734 - acc: 0.8922 - val_loss: 0.7503 - val_acc: 0.7220\n",
      "\n",
      "Epoch 00013: val_acc did not improve from 0.76200\n",
      "Epoch 14/50\n",
      "4500/4500 [==============================] - 2s 524us/step - loss: 0.2458 - acc: 0.9058 - val_loss: 0.8166 - val_acc: 0.7340\n",
      "\n",
      "Epoch 00014: val_acc did not improve from 0.76200\n",
      "Epoch 15/50\n",
      "4500/4500 [==============================] - 2s 541us/step - loss: 0.2195 - acc: 0.9127 - val_loss: 0.8771 - val_acc: 0.7200\n",
      "\n",
      "Epoch 00015: val_acc did not improve from 0.76200\n",
      "Epoch 16/50\n",
      "4500/4500 [==============================] - 2s 527us/step - loss: 0.2108 - acc: 0.9189 - val_loss: 0.7359 - val_acc: 0.6920\n",
      "\n",
      "Epoch 00016: val_acc did not improve from 0.76200\n",
      "Epoch 17/50\n",
      "4500/4500 [==============================] - 2s 539us/step - loss: 0.1626 - acc: 0.9396 - val_loss: 1.0058 - val_acc: 0.6640\n",
      "\n",
      "Epoch 00017: val_acc did not improve from 0.76200\n",
      "Epoch 18/50\n",
      "4500/4500 [==============================] - 2s 531us/step - loss: 0.1428 - acc: 0.9473 - val_loss: 1.0381 - val_acc: 0.7140\n",
      "\n",
      "Epoch 00018: val_acc did not improve from 0.76200\n",
      "Epoch 19/50\n",
      "4500/4500 [==============================] - 2s 534us/step - loss: 0.1684 - acc: 0.9362 - val_loss: 0.9984 - val_acc: 0.7020\n",
      "\n",
      "Epoch 00019: val_acc did not improve from 0.76200\n",
      "Epoch 20/50\n",
      "4500/4500 [==============================] - 2s 526us/step - loss: 0.1579 - acc: 0.9396 - val_loss: 0.9869 - val_acc: 0.6680\n",
      "\n",
      "Epoch 00020: val_acc did not improve from 0.76200\n",
      "Epoch 21/50\n",
      "4500/4500 [==============================] - 2s 539us/step - loss: 0.1090 - acc: 0.9593 - val_loss: 1.2091 - val_acc: 0.7320\n",
      "\n",
      "Epoch 00021: val_acc did not improve from 0.76200\n",
      "Epoch 22/50\n",
      "4500/4500 [==============================] - 2s 535us/step - loss: 0.1008 - acc: 0.9656 - val_loss: 1.2068 - val_acc: 0.7020\n",
      "\n",
      "Epoch 00022: val_acc did not improve from 0.76200\n",
      "Epoch 23/50\n",
      "4500/4500 [==============================] - 2s 545us/step - loss: 0.0909 - acc: 0.9660 - val_loss: 1.2532 - val_acc: 0.7300\n",
      "\n",
      "Epoch 00023: val_acc did not improve from 0.76200\n",
      "Epoch 24/50\n",
      "4500/4500 [==============================] - 2s 535us/step - loss: 0.0911 - acc: 0.9667 - val_loss: 1.4521 - val_acc: 0.6920\n",
      "\n",
      "Epoch 00024: val_acc did not improve from 0.76200\n",
      "Epoch 25/50\n",
      "4500/4500 [==============================] - 2s 533us/step - loss: 0.1059 - acc: 0.9627 - val_loss: 1.5178 - val_acc: 0.7320\n",
      "\n",
      "Epoch 00025: val_acc did not improve from 0.76200\n",
      "Epoch 26/50\n",
      "4500/4500 [==============================] - 2s 532us/step - loss: 0.0564 - acc: 0.9816 - val_loss: 1.3810 - val_acc: 0.6920\n",
      "\n",
      "Epoch 00026: val_acc did not improve from 0.76200\n",
      "Epoch 27/50\n",
      "4500/4500 [==============================] - 2s 534us/step - loss: 0.0666 - acc: 0.9762 - val_loss: 1.3945 - val_acc: 0.7160\n",
      "\n",
      "Epoch 00027: val_acc did not improve from 0.76200\n",
      "Epoch 28/50\n",
      "4500/4500 [==============================] - 2s 538us/step - loss: 0.1013 - acc: 0.9631 - val_loss: 1.2666 - val_acc: 0.7420\n",
      "\n",
      "Epoch 00028: val_acc did not improve from 0.76200\n",
      "Epoch 29/50\n",
      "4500/4500 [==============================] - 2s 530us/step - loss: 0.0477 - acc: 0.9833 - val_loss: 1.5365 - val_acc: 0.7240\n",
      "\n",
      "Epoch 00029: val_acc did not improve from 0.76200\n",
      "Epoch 30/50\n",
      "4500/4500 [==============================] - 2s 541us/step - loss: 0.0571 - acc: 0.9784 - val_loss: 1.6405 - val_acc: 0.7140\n",
      "\n",
      "Epoch 00030: val_acc did not improve from 0.76200\n",
      "Epoch 31/50\n",
      "4500/4500 [==============================] - 2s 523us/step - loss: 0.0725 - acc: 0.9762 - val_loss: 1.4729 - val_acc: 0.7120\n",
      "\n",
      "Epoch 00031: val_acc did not improve from 0.76200\n",
      "Epoch 32/50\n",
      "4500/4500 [==============================] - 2s 529us/step - loss: 0.0545 - acc: 0.9796 - val_loss: 1.8610 - val_acc: 0.6960\n",
      "\n",
      "Epoch 00032: val_acc did not improve from 0.76200\n",
      "Epoch 33/50\n",
      "4500/4500 [==============================] - 2s 543us/step - loss: 0.1077 - acc: 0.9638 - val_loss: 1.1636 - val_acc: 0.6720\n",
      "\n",
      "Epoch 00033: val_acc did not improve from 0.76200\n",
      "Epoch 34/50\n",
      "4500/4500 [==============================] - 2s 537us/step - loss: 0.0429 - acc: 0.9878 - val_loss: 1.6614 - val_acc: 0.7100\n",
      "\n",
      "Epoch 00034: val_acc did not improve from 0.76200\n",
      "Epoch 35/50\n",
      "4500/4500 [==============================] - 2s 523us/step - loss: 0.0504 - acc: 0.9827 - val_loss: 1.6247 - val_acc: 0.6840\n",
      "\n",
      "Epoch 00035: val_acc did not improve from 0.76200\n",
      "Epoch 36/50\n",
      "4500/4500 [==============================] - 2s 532us/step - loss: 0.0517 - acc: 0.9829 - val_loss: 1.4503 - val_acc: 0.6940\n",
      "\n",
      "Epoch 00036: val_acc did not improve from 0.76200\n",
      "Epoch 37/50\n",
      "4500/4500 [==============================] - 2s 518us/step - loss: 0.0478 - acc: 0.9851 - val_loss: 1.3992 - val_acc: 0.7340\n",
      "\n",
      "Epoch 00037: val_acc did not improve from 0.76200\n",
      "Epoch 38/50\n",
      "4500/4500 [==============================] - 2s 532us/step - loss: 0.0306 - acc: 0.9902 - val_loss: 1.8275 - val_acc: 0.6960\n",
      "\n",
      "Epoch 00038: val_acc did not improve from 0.76200\n",
      "Epoch 39/50\n",
      "4500/4500 [==============================] - 2s 529us/step - loss: 0.0203 - acc: 0.9936 - val_loss: 2.5807 - val_acc: 0.6780\n",
      "\n",
      "Epoch 00039: val_acc did not improve from 0.76200\n",
      "Epoch 40/50\n",
      "4500/4500 [==============================] - 2s 521us/step - loss: 0.1305 - acc: 0.9584 - val_loss: 1.6939 - val_acc: 0.7200\n",
      "\n",
      "Epoch 00040: val_acc did not improve from 0.76200\n",
      "Epoch 41/50\n",
      "4500/4500 [==============================] - 2s 524us/step - loss: 0.0443 - acc: 0.9851 - val_loss: 1.7384 - val_acc: 0.7120\n",
      "\n",
      "Epoch 00041: val_acc did not improve from 0.76200\n",
      "Epoch 42/50\n",
      "4500/4500 [==============================] - 2s 517us/step - loss: 0.0628 - acc: 0.9796 - val_loss: 1.5570 - val_acc: 0.7120\n",
      "\n",
      "Epoch 00042: val_acc did not improve from 0.76200\n",
      "Epoch 43/50\n",
      "4500/4500 [==============================] - 2s 526us/step - loss: 0.0487 - acc: 0.9833 - val_loss: 1.5336 - val_acc: 0.7020\n",
      "\n",
      "Epoch 00043: val_acc did not improve from 0.76200\n",
      "Epoch 44/50\n",
      "4500/4500 [==============================] - 2s 535us/step - loss: 0.0181 - acc: 0.9944 - val_loss: 2.0316 - val_acc: 0.7100\n",
      "\n",
      "Epoch 00044: val_acc did not improve from 0.76200\n",
      "Epoch 45/50\n",
      "4500/4500 [==============================] - 2s 535us/step - loss: 0.0388 - acc: 0.9873 - val_loss: 1.7983 - val_acc: 0.7120\n",
      "\n",
      "Epoch 00045: val_acc did not improve from 0.76200\n",
      "Epoch 46/50\n",
      "4500/4500 [==============================] - 2s 527us/step - loss: 0.0177 - acc: 0.9947 - val_loss: 1.7465 - val_acc: 0.7120\n",
      "\n",
      "Epoch 00046: val_acc did not improve from 0.76200\n",
      "Epoch 47/50\n",
      "4500/4500 [==============================] - 2s 532us/step - loss: 0.0567 - acc: 0.9844 - val_loss: 1.4143 - val_acc: 0.6820\n",
      "\n",
      "Epoch 00047: val_acc did not improve from 0.76200\n",
      "Epoch 48/50\n",
      "4500/4500 [==============================] - 2s 529us/step - loss: 0.0530 - acc: 0.9820 - val_loss: 1.5479 - val_acc: 0.7160\n",
      "\n",
      "Epoch 00048: val_acc did not improve from 0.76200\n",
      "Epoch 49/50\n",
      "4500/4500 [==============================] - 2s 530us/step - loss: 0.0248 - acc: 0.9922 - val_loss: 1.8676 - val_acc: 0.7200\n",
      "\n",
      "Epoch 00049: val_acc did not improve from 0.76200\n",
      "Epoch 50/50\n",
      "4500/4500 [==============================] - 2s 535us/step - loss: 0.0353 - acc: 0.9867 - val_loss: 1.9528 - val_acc: 0.7360\n",
      "\n",
      "Epoch 00050: val_acc did not improve from 0.76200\n"
     ]
    },
    {
     "data": {
      "text/plain": [
       "<keras.callbacks.History at 0x7f0124ff2cf8>"
      ]
     },
     "execution_count": 47,
     "metadata": {},
     "output_type": "execute_result"
    }
   ],
   "source": [
    "from keras.callbacks import ModelCheckpoint\n",
    "\n",
    "checkpointer = ModelCheckpoint('/tmp/char_ensemble_13.h5', save_best_only=True, monitor='val_acc', verbose=1)\n",
    "\n",
    "char_model.fit(X_char_train, y_train, callbacks=[checkpointer],\n",
    "          validation_data=(X_char_dev, y_dev), epochs=50, batch_size=32)\n"
   ]
  },
  {
   "cell_type": "code",
   "execution_count": 48,
   "metadata": {},
   "outputs": [
    {
     "name": "stdout",
     "output_type": "stream",
     "text": [
      "500/500 [==============================] - 0s 199us/step\n",
      "Loss        : 0.5950\n",
      "Accuracy    : 0.7620\n",
      "Precision   : 0.7085\n",
      "Recall      : 0.7883\n",
      "F1          : 0.7463\n"
     ]
    }
   ],
   "source": [
    "from hate.utils import print_evaluation\n",
    "\n",
    "char_model.load_weights(checkpointer.filepath)\n",
    "\n",
    "\n",
    "print_evaluation(char_model, X_char_dev, y_dev)"
   ]
  },
  {
   "cell_type": "code",
   "execution_count": 49,
   "metadata": {},
   "outputs": [
    {
     "name": "stdout",
     "output_type": "stream",
     "text": [
      "Train on 4500 samples, validate on 500 samples\n",
      "Epoch 1/30\n",
      "4500/4500 [==============================] - 5s 1ms/step - loss: 0.7173 - acc: 0.5484 - val_loss: 0.6747 - val_acc: 0.5860\n",
      "\n",
      "Epoch 00001: val_acc improved from -inf to 0.58600, saving model to /tmp/elmo_ensemble_13.h5\n",
      "Epoch 2/30\n",
      "4500/4500 [==============================] - 3s 711us/step - loss: 0.6675 - acc: 0.5967 - val_loss: 0.6521 - val_acc: 0.6480\n",
      "\n",
      "Epoch 00002: val_acc improved from 0.58600 to 0.64800, saving model to /tmp/elmo_ensemble_13.h5\n",
      "Epoch 3/30\n",
      "4500/4500 [==============================] - 3s 721us/step - loss: 0.6379 - acc: 0.6418 - val_loss: 0.6283 - val_acc: 0.6740\n",
      "\n",
      "Epoch 00003: val_acc improved from 0.64800 to 0.67400, saving model to /tmp/elmo_ensemble_13.h5\n",
      "Epoch 4/30\n",
      "4500/4500 [==============================] - 3s 720us/step - loss: 0.6202 - acc: 0.6647 - val_loss: 0.6034 - val_acc: 0.6880\n",
      "\n",
      "Epoch 00004: val_acc improved from 0.67400 to 0.68800, saving model to /tmp/elmo_ensemble_13.h5\n",
      "Epoch 5/30\n",
      "4500/4500 [==============================] - 3s 718us/step - loss: 0.6012 - acc: 0.6849 - val_loss: 0.5880 - val_acc: 0.7020\n",
      "\n",
      "Epoch 00005: val_acc improved from 0.68800 to 0.70200, saving model to /tmp/elmo_ensemble_13.h5\n",
      "Epoch 6/30\n",
      "4500/4500 [==============================] - 3s 722us/step - loss: 0.5855 - acc: 0.7053 - val_loss: 0.5652 - val_acc: 0.7080\n",
      "\n",
      "Epoch 00006: val_acc improved from 0.70200 to 0.70800, saving model to /tmp/elmo_ensemble_13.h5\n",
      "Epoch 7/30\n",
      "4500/4500 [==============================] - 3s 729us/step - loss: 0.5667 - acc: 0.7171 - val_loss: 0.5450 - val_acc: 0.7180\n",
      "\n",
      "Epoch 00007: val_acc improved from 0.70800 to 0.71800, saving model to /tmp/elmo_ensemble_13.h5\n",
      "Epoch 8/30\n",
      "4500/4500 [==============================] - 3s 739us/step - loss: 0.5515 - acc: 0.7284 - val_loss: 0.5322 - val_acc: 0.7360\n",
      "\n",
      "Epoch 00008: val_acc improved from 0.71800 to 0.73600, saving model to /tmp/elmo_ensemble_13.h5\n",
      "Epoch 9/30\n",
      "4500/4500 [==============================] - 3s 722us/step - loss: 0.5343 - acc: 0.7389 - val_loss: 0.5162 - val_acc: 0.7520\n",
      "\n",
      "Epoch 00009: val_acc improved from 0.73600 to 0.75200, saving model to /tmp/elmo_ensemble_13.h5\n",
      "Epoch 10/30\n",
      "4500/4500 [==============================] - 3s 705us/step - loss: 0.5197 - acc: 0.7511 - val_loss: 0.5045 - val_acc: 0.7600\n",
      "\n",
      "Epoch 00010: val_acc improved from 0.75200 to 0.76000, saving model to /tmp/elmo_ensemble_13.h5\n",
      "Epoch 11/30\n",
      "4500/4500 [==============================] - 3s 725us/step - loss: 0.5185 - acc: 0.7511 - val_loss: 0.4953 - val_acc: 0.7720\n",
      "\n",
      "Epoch 00011: val_acc improved from 0.76000 to 0.77200, saving model to /tmp/elmo_ensemble_13.h5\n",
      "Epoch 12/30\n",
      "4500/4500 [==============================] - 3s 720us/step - loss: 0.5055 - acc: 0.7580 - val_loss: 0.4935 - val_acc: 0.7680\n",
      "\n",
      "Epoch 00012: val_acc did not improve from 0.77200\n",
      "Epoch 13/30\n",
      "4500/4500 [==============================] - 3s 728us/step - loss: 0.4943 - acc: 0.7744 - val_loss: 0.4797 - val_acc: 0.7780\n",
      "\n",
      "Epoch 00013: val_acc improved from 0.77200 to 0.77800, saving model to /tmp/elmo_ensemble_13.h5\n",
      "Epoch 14/30\n",
      "4500/4500 [==============================] - 3s 736us/step - loss: 0.4836 - acc: 0.7744 - val_loss: 0.4704 - val_acc: 0.7880\n",
      "\n",
      "Epoch 00014: val_acc improved from 0.77800 to 0.78800, saving model to /tmp/elmo_ensemble_13.h5\n",
      "Epoch 15/30\n",
      "4500/4500 [==============================] - 3s 723us/step - loss: 0.4811 - acc: 0.7764 - val_loss: 0.4656 - val_acc: 0.7860\n",
      "\n",
      "Epoch 00015: val_acc did not improve from 0.78800\n",
      "Epoch 16/30\n",
      "4500/4500 [==============================] - 3s 721us/step - loss: 0.4767 - acc: 0.7791 - val_loss: 0.4599 - val_acc: 0.7920\n",
      "\n",
      "Epoch 00016: val_acc improved from 0.78800 to 0.79200, saving model to /tmp/elmo_ensemble_13.h5\n",
      "Epoch 17/30\n",
      "4500/4500 [==============================] - 3s 722us/step - loss: 0.4601 - acc: 0.7891 - val_loss: 0.4553 - val_acc: 0.7900\n",
      "\n",
      "Epoch 00017: val_acc did not improve from 0.79200\n",
      "Epoch 18/30\n",
      "4500/4500 [==============================] - 3s 721us/step - loss: 0.4576 - acc: 0.7898 - val_loss: 0.4524 - val_acc: 0.8020\n",
      "\n",
      "Epoch 00018: val_acc improved from 0.79200 to 0.80200, saving model to /tmp/elmo_ensemble_13.h5\n",
      "Epoch 19/30\n",
      "4500/4500 [==============================] - 3s 708us/step - loss: 0.4607 - acc: 0.7958 - val_loss: 0.4495 - val_acc: 0.8020\n",
      "\n",
      "Epoch 00019: val_acc did not improve from 0.80200\n",
      "Epoch 20/30\n",
      "4500/4500 [==============================] - 3s 716us/step - loss: 0.4545 - acc: 0.7956 - val_loss: 0.4463 - val_acc: 0.8040\n",
      "\n",
      "Epoch 00020: val_acc improved from 0.80200 to 0.80400, saving model to /tmp/elmo_ensemble_13.h5\n",
      "Epoch 21/30\n",
      "4500/4500 [==============================] - 3s 707us/step - loss: 0.4457 - acc: 0.8002 - val_loss: 0.4401 - val_acc: 0.7960\n",
      "\n",
      "Epoch 00021: val_acc did not improve from 0.80400\n",
      "Epoch 22/30\n",
      "4500/4500 [==============================] - 3s 724us/step - loss: 0.4288 - acc: 0.8047 - val_loss: 0.4391 - val_acc: 0.8100\n",
      "\n",
      "Epoch 00022: val_acc improved from 0.80400 to 0.81000, saving model to /tmp/elmo_ensemble_13.h5\n",
      "Epoch 23/30\n",
      "4500/4500 [==============================] - 3s 732us/step - loss: 0.4331 - acc: 0.8027 - val_loss: 0.4376 - val_acc: 0.7980\n",
      "\n",
      "Epoch 00023: val_acc did not improve from 0.81000\n",
      "Epoch 24/30\n",
      "4500/4500 [==============================] - 3s 710us/step - loss: 0.4200 - acc: 0.8151 - val_loss: 0.4355 - val_acc: 0.7960\n",
      "\n",
      "Epoch 00024: val_acc did not improve from 0.81000\n",
      "Epoch 25/30\n",
      "4500/4500 [==============================] - 3s 720us/step - loss: 0.4165 - acc: 0.8184 - val_loss: 0.4306 - val_acc: 0.8020\n",
      "\n",
      "Epoch 00025: val_acc did not improve from 0.81000\n",
      "Epoch 26/30\n",
      "4500/4500 [==============================] - 3s 723us/step - loss: 0.4153 - acc: 0.8167 - val_loss: 0.4276 - val_acc: 0.8100\n",
      "\n",
      "Epoch 00026: val_acc improved from 0.81000 to 0.81000, saving model to /tmp/elmo_ensemble_13.h5\n",
      "Epoch 27/30\n",
      "4500/4500 [==============================] - 3s 729us/step - loss: 0.4128 - acc: 0.8147 - val_loss: 0.4247 - val_acc: 0.8180\n",
      "\n",
      "Epoch 00027: val_acc improved from 0.81000 to 0.81800, saving model to /tmp/elmo_ensemble_13.h5\n",
      "Epoch 28/30\n",
      "4500/4500 [==============================] - 3s 716us/step - loss: 0.4045 - acc: 0.8216 - val_loss: 0.4270 - val_acc: 0.8020\n",
      "\n",
      "Epoch 00028: val_acc did not improve from 0.81800\n",
      "Epoch 29/30\n",
      "4500/4500 [==============================] - 3s 723us/step - loss: 0.4015 - acc: 0.8296 - val_loss: 0.4240 - val_acc: 0.8040\n",
      "\n",
      "Epoch 00029: val_acc did not improve from 0.81800\n",
      "Epoch 30/30\n",
      "4500/4500 [==============================] - 3s 730us/step - loss: 0.4010 - acc: 0.8207 - val_loss: 0.4255 - val_acc: 0.8000\n",
      "\n",
      "Epoch 00030: val_acc did not improve from 0.81800\n"
     ]
    },
    {
     "data": {
      "text/plain": [
       "<keras.callbacks.History at 0x7f01235d6978>"
      ]
     },
     "execution_count": 49,
     "metadata": {},
     "output_type": "execute_result"
    }
   ],
   "source": [
    "from keras.callbacks import ModelCheckpoint\n",
    "\n",
    "checkpointer = ModelCheckpoint('/tmp/elmo_ensemble_13.h5', save_best_only=True, monitor='val_acc', verbose=1)\n",
    "\n",
    "elmo_model.fit(X_elmo_train, y_train, callbacks=[checkpointer],\n",
    "          validation_data=(X_elmo_dev, y_dev), epochs=30, batch_size=32)\n"
   ]
  },
  {
   "cell_type": "code",
   "execution_count": 50,
   "metadata": {},
   "outputs": [
    {
     "name": "stdout",
     "output_type": "stream",
     "text": [
      "500/500 [==============================] - 0s 355us/step\n",
      "Loss        : 0.4247\n",
      "Accuracy    : 0.8180\n",
      "Precision   : 0.8075\n",
      "Recall      : 0.7748\n",
      "F1          : 0.7908\n"
     ]
    }
   ],
   "source": [
    "from hate.utils import print_evaluation\n",
    "\n",
    "elmo_model.load_weights(checkpointer.filepath)\n",
    "\n",
    "\n",
    "print_evaluation(elmo_model, X_elmo_dev, y_dev)"
   ]
  },
  {
   "cell_type": "code",
   "execution_count": 51,
   "metadata": {},
   "outputs": [
    {
     "name": "stdout",
     "output_type": "stream",
     "text": [
      "Train on 4500 samples, validate on 500 samples\n",
      "Epoch 1/30\n",
      "4500/4500 [==============================] - 3s 659us/step - loss: 0.6573 - acc: 0.5969 - val_loss: 0.6213 - val_acc: 0.6480\n",
      "\n",
      "Epoch 00001: val_acc improved from -inf to 0.64800, saving model to /tmp/bow_ensemble_13.h5\n",
      "Epoch 2/30\n",
      "4500/4500 [==============================] - 1s 221us/step - loss: 0.5784 - acc: 0.7149 - val_loss: 0.5437 - val_acc: 0.7520\n",
      "\n",
      "Epoch 00002: val_acc improved from 0.64800 to 0.75200, saving model to /tmp/bow_ensemble_13.h5\n",
      "Epoch 3/30\n",
      "4500/4500 [==============================] - 1s 211us/step - loss: 0.5100 - acc: 0.7789 - val_loss: 0.4967 - val_acc: 0.7680\n",
      "\n",
      "Epoch 00003: val_acc improved from 0.75200 to 0.76800, saving model to /tmp/bow_ensemble_13.h5\n",
      "Epoch 4/30\n",
      "4500/4500 [==============================] - 1s 212us/step - loss: 0.4643 - acc: 0.7940 - val_loss: 0.4718 - val_acc: 0.7860\n",
      "\n",
      "Epoch 00004: val_acc improved from 0.76800 to 0.78600, saving model to /tmp/bow_ensemble_13.h5\n",
      "Epoch 5/30\n",
      "4500/4500 [==============================] - 1s 216us/step - loss: 0.4218 - acc: 0.8222 - val_loss: 0.4577 - val_acc: 0.7940\n",
      "\n",
      "Epoch 00005: val_acc improved from 0.78600 to 0.79400, saving model to /tmp/bow_ensemble_13.h5\n",
      "Epoch 6/30\n",
      "4500/4500 [==============================] - 1s 214us/step - loss: 0.3963 - acc: 0.8342 - val_loss: 0.4476 - val_acc: 0.8020\n",
      "\n",
      "Epoch 00006: val_acc improved from 0.79400 to 0.80200, saving model to /tmp/bow_ensemble_13.h5\n",
      "Epoch 7/30\n",
      "4500/4500 [==============================] - 1s 214us/step - loss: 0.3827 - acc: 0.8413 - val_loss: 0.4422 - val_acc: 0.8100\n",
      "\n",
      "Epoch 00007: val_acc improved from 0.80200 to 0.81000, saving model to /tmp/bow_ensemble_13.h5\n",
      "Epoch 8/30\n",
      "4500/4500 [==============================] - 1s 219us/step - loss: 0.3573 - acc: 0.8580 - val_loss: 0.4414 - val_acc: 0.8060\n",
      "\n",
      "Epoch 00008: val_acc did not improve from 0.81000\n",
      "Epoch 9/30\n",
      "4500/4500 [==============================] - 1s 217us/step - loss: 0.3441 - acc: 0.8658 - val_loss: 0.4381 - val_acc: 0.8080\n",
      "\n",
      "Epoch 00009: val_acc did not improve from 0.81000\n",
      "Epoch 10/30\n",
      "4500/4500 [==============================] - 1s 220us/step - loss: 0.3292 - acc: 0.8776 - val_loss: 0.4381 - val_acc: 0.8100\n",
      "\n",
      "Epoch 00010: val_acc did not improve from 0.81000\n",
      "Epoch 11/30\n",
      "4500/4500 [==============================] - 1s 216us/step - loss: 0.3203 - acc: 0.8771 - val_loss: 0.4390 - val_acc: 0.8080\n",
      "\n",
      "Epoch 00011: val_acc did not improve from 0.81000\n",
      "Epoch 12/30\n",
      "4500/4500 [==============================] - 1s 213us/step - loss: 0.3113 - acc: 0.8820 - val_loss: 0.4394 - val_acc: 0.8080\n",
      "\n",
      "Epoch 00012: val_acc did not improve from 0.81000\n",
      "Epoch 13/30\n",
      "4500/4500 [==============================] - 1s 221us/step - loss: 0.3035 - acc: 0.8822 - val_loss: 0.4390 - val_acc: 0.8120\n",
      "\n",
      "Epoch 00013: val_acc improved from 0.81000 to 0.81200, saving model to /tmp/bow_ensemble_13.h5\n",
      "Epoch 14/30\n",
      "4500/4500 [==============================] - 1s 218us/step - loss: 0.2958 - acc: 0.8922 - val_loss: 0.4396 - val_acc: 0.8140\n",
      "\n",
      "Epoch 00014: val_acc improved from 0.81200 to 0.81400, saving model to /tmp/bow_ensemble_13.h5\n",
      "Epoch 15/30\n",
      "4500/4500 [==============================] - 1s 217us/step - loss: 0.2827 - acc: 0.8956 - val_loss: 0.4413 - val_acc: 0.8140\n",
      "\n",
      "Epoch 00015: val_acc did not improve from 0.81400\n",
      "Epoch 16/30\n",
      "4500/4500 [==============================] - 1s 214us/step - loss: 0.2740 - acc: 0.8978 - val_loss: 0.4431 - val_acc: 0.8140\n",
      "\n",
      "Epoch 00016: val_acc did not improve from 0.81400\n",
      "Epoch 17/30\n",
      "4500/4500 [==============================] - 1s 211us/step - loss: 0.2810 - acc: 0.8911 - val_loss: 0.4442 - val_acc: 0.8120\n",
      "\n",
      "Epoch 00017: val_acc did not improve from 0.81400\n",
      "Epoch 18/30\n",
      "4500/4500 [==============================] - 1s 220us/step - loss: 0.2693 - acc: 0.9024 - val_loss: 0.4451 - val_acc: 0.8060\n",
      "\n",
      "Epoch 00018: val_acc did not improve from 0.81400\n",
      "Epoch 19/30\n",
      "4500/4500 [==============================] - 1s 212us/step - loss: 0.2552 - acc: 0.9098 - val_loss: 0.4464 - val_acc: 0.8100\n",
      "\n",
      "Epoch 00019: val_acc did not improve from 0.81400\n",
      "Epoch 20/30\n",
      "4500/4500 [==============================] - 1s 219us/step - loss: 0.2520 - acc: 0.9116 - val_loss: 0.4482 - val_acc: 0.8080\n",
      "\n",
      "Epoch 00020: val_acc did not improve from 0.81400\n",
      "Epoch 21/30\n",
      "4500/4500 [==============================] - 1s 213us/step - loss: 0.2478 - acc: 0.9093 - val_loss: 0.4497 - val_acc: 0.8100\n",
      "\n",
      "Epoch 00021: val_acc did not improve from 0.81400\n",
      "Epoch 22/30\n",
      "4500/4500 [==============================] - 1s 213us/step - loss: 0.2412 - acc: 0.9109 - val_loss: 0.4500 - val_acc: 0.8100\n",
      "\n",
      "Epoch 00022: val_acc did not improve from 0.81400\n",
      "Epoch 23/30\n",
      "4500/4500 [==============================] - 1s 217us/step - loss: 0.2371 - acc: 0.9158 - val_loss: 0.4519 - val_acc: 0.8100\n",
      "\n",
      "Epoch 00023: val_acc did not improve from 0.81400\n",
      "Epoch 24/30\n",
      "4500/4500 [==============================] - 1s 209us/step - loss: 0.2329 - acc: 0.9176 - val_loss: 0.4532 - val_acc: 0.8140\n",
      "\n",
      "Epoch 00024: val_acc did not improve from 0.81400\n",
      "Epoch 25/30\n",
      "4500/4500 [==============================] - 1s 216us/step - loss: 0.2317 - acc: 0.9169 - val_loss: 0.4548 - val_acc: 0.8140\n",
      "\n",
      "Epoch 00025: val_acc did not improve from 0.81400\n",
      "Epoch 26/30\n",
      "4500/4500 [==============================] - 1s 215us/step - loss: 0.2248 - acc: 0.9222 - val_loss: 0.4568 - val_acc: 0.8120\n",
      "\n",
      "Epoch 00026: val_acc did not improve from 0.81400\n",
      "Epoch 27/30\n",
      "4500/4500 [==============================] - 1s 216us/step - loss: 0.2196 - acc: 0.9233 - val_loss: 0.4581 - val_acc: 0.8120\n",
      "\n",
      "Epoch 00027: val_acc did not improve from 0.81400\n",
      "Epoch 28/30\n",
      "4500/4500 [==============================] - 1s 213us/step - loss: 0.2223 - acc: 0.9238 - val_loss: 0.4601 - val_acc: 0.8120\n",
      "\n",
      "Epoch 00028: val_acc did not improve from 0.81400\n",
      "Epoch 29/30\n",
      "4500/4500 [==============================] - 1s 218us/step - loss: 0.2216 - acc: 0.9202 - val_loss: 0.4621 - val_acc: 0.8120\n",
      "\n",
      "Epoch 00029: val_acc did not improve from 0.81400\n",
      "Epoch 30/30\n",
      "4500/4500 [==============================] - 1s 216us/step - loss: 0.2168 - acc: 0.9193 - val_loss: 0.4629 - val_acc: 0.8120\n",
      "\n",
      "Epoch 00030: val_acc did not improve from 0.81400\n"
     ]
    },
    {
     "data": {
      "text/plain": [
       "<keras.callbacks.History at 0x7f0122d5d550>"
      ]
     },
     "execution_count": 51,
     "metadata": {},
     "output_type": "execute_result"
    }
   ],
   "source": [
    "from keras.callbacks import ModelCheckpoint\n",
    "\n",
    "checkpointer = ModelCheckpoint('/tmp/bow_ensemble_13.h5', save_best_only=True, monitor='val_acc', verbose=1)\n",
    "\n",
    "bow_model.fit(X_bow_train, y_train, callbacks=[checkpointer],\n",
    "          validation_data=(X_bow_dev, y_dev), epochs=30, batch_size=32)\n"
   ]
  },
  {
   "cell_type": "code",
   "execution_count": 52,
   "metadata": {},
   "outputs": [
    {
     "name": "stdout",
     "output_type": "stream",
     "text": [
      "500/500 [==============================] - 0s 99us/step\n",
      "Loss        : 0.4396\n",
      "Accuracy    : 0.8140\n",
      "Precision   : 0.8028\n",
      "Recall      : 0.7703\n",
      "F1          : 0.7862\n"
     ]
    }
   ],
   "source": [
    "from hate.utils import print_evaluation\n",
    "\n",
    "bow_model.load_weights(checkpointer.filepath)\n",
    "\n",
    "\n",
    "print_evaluation(bow_model, X_bow_dev, y_dev)"
   ]
  },
  {
   "cell_type": "code",
   "execution_count": 78,
   "metadata": {},
   "outputs": [
    {
     "name": "stdout",
     "output_type": "stream",
     "text": [
      "Train on 4500 samples, validate on 500 samples\n",
      "Epoch 1/30\n",
      "4500/4500 [==============================] - 4s 974us/step - loss: 0.6616 - acc: 0.6136 - val_loss: 0.6258 - val_acc: 0.6740\n",
      "\n",
      "Epoch 00001: val_acc improved from -inf to 0.67400, saving model to /tmp/emb_ensemble_13.h5\n",
      "Epoch 2/30\n",
      "4500/4500 [==============================] - 2s 433us/step - loss: 0.5951 - acc: 0.6980 - val_loss: 0.5761 - val_acc: 0.7000\n",
      "\n",
      "Epoch 00002: val_acc improved from 0.67400 to 0.70000, saving model to /tmp/emb_ensemble_13.h5\n",
      "Epoch 3/30\n",
      "4500/4500 [==============================] - 2s 430us/step - loss: 0.5496 - acc: 0.7407 - val_loss: 0.5273 - val_acc: 0.7460\n",
      "\n",
      "Epoch 00003: val_acc improved from 0.70000 to 0.74600, saving model to /tmp/emb_ensemble_13.h5\n",
      "Epoch 4/30\n",
      "4500/4500 [==============================] - 2s 427us/step - loss: 0.5180 - acc: 0.7582 - val_loss: 0.5185 - val_acc: 0.7500\n",
      "\n",
      "Epoch 00004: val_acc improved from 0.74600 to 0.75000, saving model to /tmp/emb_ensemble_13.h5\n",
      "Epoch 5/30\n",
      "4500/4500 [==============================] - 2s 431us/step - loss: 0.5092 - acc: 0.7658 - val_loss: 0.5124 - val_acc: 0.7680\n",
      "\n",
      "Epoch 00005: val_acc improved from 0.75000 to 0.76800, saving model to /tmp/emb_ensemble_13.h5\n",
      "Epoch 6/30\n",
      "4500/4500 [==============================] - 2s 424us/step - loss: 0.4994 - acc: 0.7707 - val_loss: 0.5008 - val_acc: 0.7700\n",
      "\n",
      "Epoch 00006: val_acc improved from 0.76800 to 0.77000, saving model to /tmp/emb_ensemble_13.h5\n",
      "Epoch 7/30\n",
      "4500/4500 [==============================] - 2s 437us/step - loss: 0.4972 - acc: 0.7807 - val_loss: 0.4968 - val_acc: 0.7780\n",
      "\n",
      "Epoch 00007: val_acc improved from 0.77000 to 0.77800, saving model to /tmp/emb_ensemble_13.h5\n",
      "Epoch 8/30\n",
      "4500/4500 [==============================] - 2s 426us/step - loss: 0.4821 - acc: 0.7862 - val_loss: 0.5022 - val_acc: 0.7680\n",
      "\n",
      "Epoch 00008: val_acc did not improve from 0.77800\n",
      "Epoch 9/30\n",
      "4500/4500 [==============================] - 2s 422us/step - loss: 0.4715 - acc: 0.7840 - val_loss: 0.4953 - val_acc: 0.7680\n",
      "\n",
      "Epoch 00009: val_acc did not improve from 0.77800\n",
      "Epoch 10/30\n",
      "4500/4500 [==============================] - 2s 433us/step - loss: 0.4723 - acc: 0.7918 - val_loss: 0.4902 - val_acc: 0.7760\n",
      "\n",
      "Epoch 00010: val_acc did not improve from 0.77800\n",
      "Epoch 11/30\n",
      "4500/4500 [==============================] - 2s 429us/step - loss: 0.4724 - acc: 0.7922 - val_loss: 0.4879 - val_acc: 0.7760\n",
      "\n",
      "Epoch 00011: val_acc did not improve from 0.77800\n",
      "Epoch 12/30\n",
      "4500/4500 [==============================] - 2s 432us/step - loss: 0.4629 - acc: 0.7987 - val_loss: 0.4891 - val_acc: 0.7900\n",
      "\n",
      "Epoch 00012: val_acc improved from 0.77800 to 0.79000, saving model to /tmp/emb_ensemble_13.h5\n",
      "Epoch 13/30\n",
      "4500/4500 [==============================] - 2s 425us/step - loss: 0.4554 - acc: 0.7984 - val_loss: 0.4836 - val_acc: 0.7780\n",
      "\n",
      "Epoch 00013: val_acc did not improve from 0.79000\n",
      "Epoch 14/30\n",
      "4500/4500 [==============================] - 2s 427us/step - loss: 0.4512 - acc: 0.7936 - val_loss: 0.4816 - val_acc: 0.7760\n",
      "\n",
      "Epoch 00014: val_acc did not improve from 0.79000\n",
      "Epoch 15/30\n",
      "4500/4500 [==============================] - 2s 434us/step - loss: 0.4540 - acc: 0.7953 - val_loss: 0.4837 - val_acc: 0.7700\n",
      "\n",
      "Epoch 00015: val_acc did not improve from 0.79000\n",
      "Epoch 16/30\n",
      "4500/4500 [==============================] - 2s 424us/step - loss: 0.4435 - acc: 0.8056 - val_loss: 0.4830 - val_acc: 0.7640\n",
      "\n",
      "Epoch 00016: val_acc did not improve from 0.79000\n",
      "Epoch 17/30\n",
      "4500/4500 [==============================] - 2s 428us/step - loss: 0.4492 - acc: 0.8020 - val_loss: 0.4778 - val_acc: 0.7840\n",
      "\n",
      "Epoch 00017: val_acc did not improve from 0.79000\n",
      "Epoch 18/30\n",
      "4500/4500 [==============================] - 2s 431us/step - loss: 0.4426 - acc: 0.8056 - val_loss: 0.4805 - val_acc: 0.7740\n",
      "\n",
      "Epoch 00018: val_acc did not improve from 0.79000\n",
      "Epoch 19/30\n",
      "4500/4500 [==============================] - 2s 420us/step - loss: 0.4392 - acc: 0.8078 - val_loss: 0.4770 - val_acc: 0.7960\n",
      "\n",
      "Epoch 00019: val_acc improved from 0.79000 to 0.79600, saving model to /tmp/emb_ensemble_13.h5\n",
      "Epoch 20/30\n",
      "4500/4500 [==============================] - 2s 429us/step - loss: 0.4422 - acc: 0.8053 - val_loss: 0.4778 - val_acc: 0.7740\n",
      "\n",
      "Epoch 00020: val_acc did not improve from 0.79600\n",
      "Epoch 21/30\n",
      "4500/4500 [==============================] - 2s 427us/step - loss: 0.4335 - acc: 0.8109 - val_loss: 0.4751 - val_acc: 0.7960\n",
      "\n",
      "Epoch 00021: val_acc did not improve from 0.79600\n",
      "Epoch 22/30\n",
      "4500/4500 [==============================] - 2s 425us/step - loss: 0.4302 - acc: 0.8147 - val_loss: 0.4715 - val_acc: 0.7980\n",
      "\n",
      "Epoch 00022: val_acc improved from 0.79600 to 0.79800, saving model to /tmp/emb_ensemble_13.h5\n",
      "Epoch 23/30\n",
      "4500/4500 [==============================] - 2s 425us/step - loss: 0.4250 - acc: 0.8140 - val_loss: 0.4800 - val_acc: 0.7700\n",
      "\n",
      "Epoch 00023: val_acc did not improve from 0.79800\n",
      "Epoch 24/30\n",
      "4500/4500 [==============================] - 2s 423us/step - loss: 0.4274 - acc: 0.8124 - val_loss: 0.4724 - val_acc: 0.7840\n",
      "\n",
      "Epoch 00024: val_acc did not improve from 0.79800\n",
      "Epoch 25/30\n",
      "4500/4500 [==============================] - 2s 423us/step - loss: 0.4238 - acc: 0.8136 - val_loss: 0.4743 - val_acc: 0.7880\n",
      "\n",
      "Epoch 00025: val_acc did not improve from 0.79800\n",
      "Epoch 26/30\n",
      "4500/4500 [==============================] - 2s 436us/step - loss: 0.4234 - acc: 0.8176 - val_loss: 0.4719 - val_acc: 0.7880\n",
      "\n",
      "Epoch 00026: val_acc did not improve from 0.79800\n",
      "Epoch 27/30\n",
      "4500/4500 [==============================] - 2s 425us/step - loss: 0.4207 - acc: 0.8198 - val_loss: 0.4730 - val_acc: 0.7900\n",
      "\n",
      "Epoch 00027: val_acc did not improve from 0.79800\n",
      "Epoch 28/30\n",
      "4500/4500 [==============================] - 2s 420us/step - loss: 0.4201 - acc: 0.8176 - val_loss: 0.4715 - val_acc: 0.7860\n",
      "\n",
      "Epoch 00028: val_acc did not improve from 0.79800\n",
      "Epoch 29/30\n",
      "4500/4500 [==============================] - 2s 429us/step - loss: 0.4143 - acc: 0.8213 - val_loss: 0.4746 - val_acc: 0.7780\n",
      "\n",
      "Epoch 00029: val_acc did not improve from 0.79800\n",
      "Epoch 30/30\n",
      "4500/4500 [==============================] - 2s 427us/step - loss: 0.4159 - acc: 0.8240 - val_loss: 0.4713 - val_acc: 0.7860\n",
      "\n",
      "Epoch 00030: val_acc did not improve from 0.79800\n"
     ]
    },
    {
     "data": {
      "text/plain": [
       "<keras.callbacks.History at 0x7f0122462908>"
      ]
     },
     "execution_count": 78,
     "metadata": {},
     "output_type": "execute_result"
    }
   ],
   "source": [
    "from keras.callbacks import ModelCheckpoint\n",
    "\n",
    "checkpointer = ModelCheckpoint('/tmp/emb_ensemble_13.h5', save_best_only=True, monitor='val_acc', verbose=1)\n",
    "\n",
    "emb_model.fit(X_emb_train, y_train, callbacks=[checkpointer],\n",
    "          validation_data=(X_emb_dev, y_dev), epochs=30, batch_size=32)\n"
   ]
  },
  {
   "cell_type": "code",
   "execution_count": 79,
   "metadata": {},
   "outputs": [
    {
     "name": "stdout",
     "output_type": "stream",
     "text": [
      "500/500 [==============================] - 0s 166us/step\n",
      "Loss        : 0.4715\n",
      "Accuracy    : 0.7980\n",
      "Precision   : 0.7597\n",
      "Recall      : 0.7973\n",
      "F1          : 0.7780\n"
     ]
    }
   ],
   "source": [
    "from hate.utils import print_evaluation\n",
    "\n",
    "emb_model.load_weights(checkpointer.filepath)\n",
    "\n",
    "\n",
    "print_evaluation(emb_model, X_emb_dev, y_dev)"
   ]
  },
  {
   "cell_type": "markdown",
   "metadata": {},
   "source": [
    "## Ensemble de \"promedios\"\n",
    "\n",
    "¿Cuánto da de accuracy si promediamos los valores?"
   ]
  },
  {
   "cell_type": "code",
   "execution_count": 103,
   "metadata": {},
   "outputs": [],
   "source": [
    "from sklearn.metrics import accuracy_score\n",
    "y_char_pred = char_model.predict(X_char_dev)\n",
    "y_elmo_pred = elmo_model.predict(X_elmo_dev)\n",
    "y_bow_pred = bow_model.predict(X_bow_dev)\n",
    "y_emb_dev = emb_model.predict(X_emb_dev)\n",
    "\n"
   ]
  },
  {
   "cell_type": "markdown",
   "metadata": {},
   "source": [
    "Todos"
   ]
  },
  {
   "cell_type": "code",
   "execution_count": 106,
   "metadata": {},
   "outputs": [
    {
     "data": {
      "text/plain": [
       "0.826"
      ]
     },
     "execution_count": 106,
     "metadata": {},
     "output_type": "execute_result"
    }
   ],
   "source": [
    "outputs = np.hstack((y_char_pred, y_elmo_pred, y_bow_pred, y_emb_dev))\n",
    "\n",
    "y_pred = outputs.mean(axis=1) >= 0.5\n",
    "\n",
    "accuracy_score(y_dev, y_pred)"
   ]
  },
  {
   "cell_type": "markdown",
   "metadata": {},
   "source": [
    "Sin embeddings"
   ]
  },
  {
   "cell_type": "code",
   "execution_count": 107,
   "metadata": {},
   "outputs": [
    {
     "data": {
      "text/plain": [
       "0.832"
      ]
     },
     "execution_count": 107,
     "metadata": {},
     "output_type": "execute_result"
    }
   ],
   "source": [
    "outputs = np.hstack((y_char_pred, y_elmo_pred, y_bow_pred))\n",
    "\n",
    "y_pred = outputs.mean(axis=1) >= 0.5\n",
    "\n",
    "accuracy_score(y_dev, y_pred)"
   ]
  },
  {
   "cell_type": "markdown",
   "metadata": {},
   "source": [
    "Sin Char"
   ]
  },
  {
   "cell_type": "code",
   "execution_count": 108,
   "metadata": {},
   "outputs": [
    {
     "data": {
      "text/plain": [
       "0.83"
      ]
     },
     "execution_count": 108,
     "metadata": {},
     "output_type": "execute_result"
    }
   ],
   "source": [
    "outputs = np.hstack((y_elmo_pred, y_bow_pred, y_emb_dev))\n",
    "\n",
    "y_pred = outputs.mean(axis=1) >= 0.5\n",
    "\n",
    "accuracy_score(y_dev, y_pred)"
   ]
  },
  {
   "cell_type": "markdown",
   "metadata": {},
   "source": [
    "Sin bow"
   ]
  },
  {
   "cell_type": "code",
   "execution_count": 110,
   "metadata": {},
   "outputs": [
    {
     "data": {
      "text/plain": [
       "0.82"
      ]
     },
     "execution_count": 110,
     "metadata": {},
     "output_type": "execute_result"
    }
   ],
   "source": [
    "outputs = np.hstack((y_char_pred, y_elmo_pred, y_emb_dev))\n",
    "\n",
    "y_pred = outputs.mean(axis=1) >= 0.5\n",
    "\n",
    "accuracy_score(y_dev, y_pred)"
   ]
  },
  {
   "cell_type": "markdown",
   "metadata": {},
   "source": [
    "Char + Elmo"
   ]
  },
  {
   "cell_type": "code",
   "execution_count": 112,
   "metadata": {},
   "outputs": [
    {
     "data": {
      "text/plain": [
       "0.796"
      ]
     },
     "execution_count": 112,
     "metadata": {},
     "output_type": "execute_result"
    }
   ],
   "source": [
    "outputs = np.hstack((y_char_pred, y_elmo_pred))\n",
    "\n",
    "y_pred = outputs.mean(axis=1) >= 0.5\n",
    "\n",
    "accuracy_score(y_dev, y_pred)"
   ]
  },
  {
   "cell_type": "markdown",
   "metadata": {},
   "source": [
    "Char + BoW"
   ]
  },
  {
   "cell_type": "code",
   "execution_count": 115,
   "metadata": {},
   "outputs": [
    {
     "data": {
      "text/plain": [
       "0.8"
      ]
     },
     "execution_count": 115,
     "metadata": {},
     "output_type": "execute_result"
    }
   ],
   "source": [
    "outputs = np.hstack((y_char_pred, y_bow_pred))\n",
    "\n",
    "y_pred = outputs.mean(axis=1) >= 0.5\n",
    "\n",
    "accuracy_score(y_dev, y_pred)"
   ]
  },
  {
   "cell_type": "markdown",
   "metadata": {},
   "source": [
    "Char + Emb"
   ]
  },
  {
   "cell_type": "code",
   "execution_count": 117,
   "metadata": {},
   "outputs": [
    {
     "data": {
      "text/plain": [
       "0.802"
      ]
     },
     "execution_count": 117,
     "metadata": {},
     "output_type": "execute_result"
    }
   ],
   "source": [
    "outputs = np.hstack((y_char_pred, y_emb_dev))\n",
    "\n",
    "y_pred = outputs.mean(axis=1) >= 0.5\n",
    "\n",
    "accuracy_score(y_dev, y_pred)"
   ]
  },
  {
   "cell_type": "markdown",
   "metadata": {},
   "source": [
    "Elmo + BoW"
   ]
  },
  {
   "cell_type": "code",
   "execution_count": 118,
   "metadata": {},
   "outputs": [
    {
     "data": {
      "text/plain": [
       "0.834"
      ]
     },
     "execution_count": 118,
     "metadata": {},
     "output_type": "execute_result"
    }
   ],
   "source": [
    "outputs = np.hstack((y_elmo_pred, y_bow_pred))\n",
    "\n",
    "y_pred = outputs.mean(axis=1) >= 0.5\n",
    "\n",
    "accuracy_score(y_dev, y_pred)"
   ]
  },
  {
   "cell_type": "markdown",
   "metadata": {},
   "source": [
    "ElMo + Emb"
   ]
  },
  {
   "cell_type": "code",
   "execution_count": 119,
   "metadata": {},
   "outputs": [
    {
     "data": {
      "text/plain": [
       "0.822"
      ]
     },
     "execution_count": 119,
     "metadata": {},
     "output_type": "execute_result"
    }
   ],
   "source": [
    "outputs = np.hstack((y_elmo_pred, y_emb_dev))\n",
    "\n",
    "y_pred = outputs.mean(axis=1) >= 0.5\n",
    "\n",
    "accuracy_score(y_dev, y_pred)"
   ]
  },
  {
   "cell_type": "markdown",
   "metadata": {},
   "source": [
    "Parece que lo mejor es ELMO + BoW + quizás Char"
   ]
  },
  {
   "cell_type": "markdown",
   "metadata": {},
   "source": [
    "## Error Analysis\n",
    "\n",
    "Vamos a ver los tweets con mayores errores"
   ]
  },
  {
   "cell_type": "code",
   "execution_count": null,
   "metadata": {},
   "outputs": [],
   "source": []
  },
  {
   "cell_type": "code",
   "execution_count": 123,
   "metadata": {},
   "outputs": [
    {
     "name": "stdout",
     "output_type": "stream",
     "text": [
      "Falsos negativos: 45\n",
      "Falsos positivos: 39\n"
     ]
    },
    {
     "data": {
      "text/html": [
       "<div>\n",
       "<style scoped>\n",
       "    .dataframe tbody tr th:only-of-type {\n",
       "        vertical-align: middle;\n",
       "    }\n",
       "\n",
       "    .dataframe tbody tr th {\n",
       "        vertical-align: top;\n",
       "    }\n",
       "\n",
       "    .dataframe thead th {\n",
       "        text-align: right;\n",
       "    }\n",
       "</style>\n",
       "<table border=\"1\" class=\"dataframe\">\n",
       "  <thead>\n",
       "    <tr style=\"text-align: right;\">\n",
       "      <th></th>\n",
       "      <th>pred_true</th>\n",
       "      <th>pred_false</th>\n",
       "    </tr>\n",
       "    <tr>\n",
       "      <th>real</th>\n",
       "      <th></th>\n",
       "      <th></th>\n",
       "    </tr>\n",
       "  </thead>\n",
       "  <tbody>\n",
       "    <tr>\n",
       "      <th>hs=1</th>\n",
       "      <td>177</td>\n",
       "      <td>45</td>\n",
       "    </tr>\n",
       "    <tr>\n",
       "      <th>hs=0</th>\n",
       "      <td>39</td>\n",
       "      <td>239</td>\n",
       "    </tr>\n",
       "  </tbody>\n",
       "</table>\n",
       "</div>"
      ],
      "text/plain": [
       "      pred_true  pred_false\n",
       "real                       \n",
       "hs=1        177          45\n",
       "hs=0         39         239"
      ]
     },
     "execution_count": 123,
     "metadata": {},
     "output_type": "execute_result"
    }
   ],
   "source": [
    "outputs = np.hstack((y_char_pred, y_elmo_pred, y_bow_pred))\n",
    "df_dev[\"proba\"] = outputs.mean(axis=1)\n",
    "\n",
    "\n",
    "true_positives = df_dev[(df_dev[\"HS\"] == 1) & (df_dev[\"proba\"] >= 0.5)].copy()\n",
    "true_negatives = df_dev[(df_dev[\"HS\"] == 0) & (df_dev[\"proba\"] < 0.5)].copy()\n",
    "\n",
    "false_positives = df_dev[(df_dev[\"HS\"] == 0) & (df_dev[\"proba\"] > 0.5)].copy()\n",
    "false_positives.sort_values(\"proba\", ascending=False, inplace=True)\n",
    "\n",
    "\n",
    "false_negatives = df_dev[(df_dev[\"HS\"] == 1) & (df_dev[\"proba\"] < 0.5)].copy()\n",
    "false_negatives.sort_values(\"proba\", ascending=True, inplace=True)\n",
    "\n",
    "conf_matrix = pd.DataFrame([\n",
    "    {\"real\":\"hs=1\", \"pred_true\": len(true_positives), \"pred_false\": len(false_negatives)},\n",
    "    {\"real\":\"hs=0\", \"pred_true\": len(false_positives), \"pred_false\": len(true_negatives)}\n",
    "])\n",
    "\n",
    "\n",
    "\n",
    "conf_matrix.set_index(\"real\", inplace=True)\n",
    "\n",
    "print(\"Falsos negativos: {}\".format(len(false_negatives)))\n",
    "print(\"Falsos positivos: {}\".format(len(false_positives)))\n",
    "\n",
    "conf_matrix[[\"pred_true\", \"pred_false\"]]"
   ]
  },
  {
   "cell_type": "markdown",
   "metadata": {},
   "source": [
    "## Falsos Negativos\n",
    "\n",
    "Veamos los 20 falsos negativos en los cuales nuestro modelo se equivoca más"
   ]
  },
  {
   "cell_type": "code",
   "execution_count": 124,
   "metadata": {},
   "outputs": [
    {
     "data": {
      "text/html": [
       "<div>\n",
       "<style scoped>\n",
       "    .dataframe tbody tr th:only-of-type {\n",
       "        vertical-align: middle;\n",
       "    }\n",
       "\n",
       "    .dataframe tbody tr th {\n",
       "        vertical-align: top;\n",
       "    }\n",
       "\n",
       "    .dataframe thead th {\n",
       "        text-align: right;\n",
       "    }\n",
       "</style>\n",
       "<table border=\"1\" class=\"dataframe\">\n",
       "  <thead>\n",
       "    <tr style=\"text-align: right;\">\n",
       "      <th></th>\n",
       "      <th>text</th>\n",
       "      <th>proba</th>\n",
       "    </tr>\n",
       "    <tr>\n",
       "      <th>id</th>\n",
       "      <th></th>\n",
       "      <th></th>\n",
       "    </tr>\n",
       "  </thead>\n",
       "  <tbody>\n",
       "    <tr>\n",
       "      <th>21072</th>\n",
       "      <td>Voy andando por la calle y me han dicho cosas en árabe ya que me estas acosando dime lo en español para que te entienda, asique como yo no les entiendo me he cagado en su puta madre en árabe para que ellos a mi si.</td>\n",
       "      <td>0.053848</td>\n",
       "    </tr>\n",
       "    <tr>\n",
       "      <th>24352</th>\n",
       "      <td>¿Ves que tu coño me importe? Cómete mi polla, basura https://t.co/ht02KyYWZh</td>\n",
       "      <td>0.104640</td>\n",
       "    </tr>\n",
       "    <tr>\n",
       "      <th>21215</th>\n",
       "      <td>Que tal otro aporte anónimo son de la puta de mi esposa, así los dejó en navidad enseñando le los calzones al vecino rt y siguenos @TANGASUCIA @Tangasrobadas https://t.co/70ioUjveqY</td>\n",
       "      <td>0.109435</td>\n",
       "    </tr>\n",
       "    <tr>\n",
       "      <th>22065</th>\n",
       "      <td>| lo único que dominas es mi polla en tu cara. https://t.co/qlYOd4zPwW</td>\n",
       "      <td>0.160813</td>\n",
       "    </tr>\n",
       "    <tr>\n",
       "      <th>23716</th>\n",
       "      <td>- El otro día me comí a Laura es muy fácil que guarra jajajaja - Laura también te comió a ti entonces tú eres igual de guarro e igual de fácil. - Puto feminazi putas modas eres feminista solo para ligar bien queda gilipollas - em, ok</td>\n",
       "      <td>0.198587</td>\n",
       "    </tr>\n",
       "    <tr>\n",
       "      <th>23922</th>\n",
       "      <td>Pobre moromierda. Pues a mi me parece mas digna y respetable la vida de una linda gallina que acabará en un KFC que ése semita culturizado en el país de la violación que acaban de  dejar libre https://t.co/lrL1K09aIb</td>\n",
       "      <td>0.216723</td>\n",
       "    </tr>\n",
       "    <tr>\n",
       "      <th>20213</th>\n",
       "      <td>@britneyspears Perra te lo mereces, esa presentación de WORK BICTH estuvo a tu altura, por fin le hiciste justicia a la canción y al álbum Britney Jean al presentar la canción en un programa de TV luciendo hermosa, acuerpada y subliminal</td>\n",
       "      <td>0.217936</td>\n",
       "    </tr>\n",
       "    <tr>\n",
       "      <th>24488</th>\n",
       "      <td>Un indocumentado...habla y habla y no para y acaba hablando su ignorancia.Empezamos bien. https://t.co/SMRsqjtEBT</td>\n",
       "      <td>0.221825</td>\n",
       "    </tr>\n",
       "    <tr>\n",
       "      <th>24925</th>\n",
       "      <td>La verdad que si, no veia la hora de llegar a los 5 mil amigos😂 ahora de a poco voy borrando esos indios indocumentados😂 https://t.co/Xw8q4GLM8v</td>\n",
       "      <td>0.228921</td>\n",
       "    </tr>\n",
       "    <tr>\n",
       "      <th>21887</th>\n",
       "      <td>@A3Noticias Esta tiene que ser una 'fake new' porque las mujeres son siempre las víctimas, no las hijas de puta maltratadoras. Eso o el chaval es un machista que se lo ha merecido (machete al machote).</td>\n",
       "      <td>0.240531</td>\n",
       "    </tr>\n",
       "    <tr>\n",
       "      <th>20711</th>\n",
       "      <td>@lopezdoriga eso es culpa de los gobiernos corruptos que tienen arreglos con esta escoria. Ojalá se muera la perra esa...</td>\n",
       "      <td>0.246015</td>\n",
       "    </tr>\n",
       "    <tr>\n",
       "      <th>22008</th>\n",
       "      <td>@Namurii @medicaster_xz @Yorha2d @KeloKlau_ Se merecía de puta y no quiere que le metan la verga, jajaja no mamen</td>\n",
       "      <td>0.258150</td>\n",
       "    </tr>\n",
       "    <tr>\n",
       "      <th>24928</th>\n",
       "      <td>Hoy, 20hrs, haremos un twittazo en contra Rodolfo Noriega, quien, pese a ser un incitador al odio e inmigrante, sigue en Chile. El hashtag, será #FueraRodolfoNoriega. https://t.co/1AvN3N7AvJ</td>\n",
       "      <td>0.289168</td>\n",
       "    </tr>\n",
       "    <tr>\n",
       "      <th>24746</th>\n",
       "      <td>@rU_1970 muestra como teni esa vagina de puta caliente llena de moco wacha culia hija de la perra traga semen 146:146</td>\n",
       "      <td>0.308191</td>\n",
       "    </tr>\n",
       "    <tr>\n",
       "      <th>21727</th>\n",
       "      <td>España crea su primer 'campo de refugiados' en la bahía de Algeciras https://t.co/l7Zmh2kvPN vía @elmundoes Gran noticia para el contribuyente español. Españoles a pagar, a pagar. Las pensiones pensad en las pensiones. Esto la sanidad como es gratis podemos dejar de pagarla no?</td>\n",
       "      <td>0.329323</td>\n",
       "    </tr>\n",
       "    <tr>\n",
       "      <th>24434</th>\n",
       "      <td>\"Hace tanto calor que podría matar a un árabe indiferentemente. (Referencia de \"\"El extranjero\"\")\"</td>\n",
       "      <td>0.345809</td>\n",
       "    </tr>\n",
       "    <tr>\n",
       "      <th>21351</th>\n",
       "      <td>@abril9979 Cállate pelotuda imbécil si sos hermosa la próxima te pego te amo bye</td>\n",
       "      <td>0.360916</td>\n",
       "    </tr>\n",
       "    <tr>\n",
       "      <th>20019</th>\n",
       "      <td>\"Y NADIE SE HA PREGUNTADO LO QUE LE VA A COSTAR AL HOMBRE DEL GUANTAZO LA SITUACION..?!? PORQUE SEGURO ES, QUE EL MENDA MUSULMONO LE VA A PONER UNA DENUNCIA, QUE EL FALLO VA A SER \"\"CULPABLE\"\", QUE UNA PANDILLA DE MUSULMONOS LE VA A ESTAR ESPERANDO DELANTE DE LA PUERTA DE SU NEGOCIO https://t.co...</td>\n",
       "      <td>0.367997</td>\n",
       "    </tr>\n",
       "    <tr>\n",
       "      <th>24986</th>\n",
       "      <td>\"Traducción:  \"\"Escucha puta sueca!\"\"  \"\"Los árabes estamos aquí para apoderarnos de vuestro jodido país! Ponte de rodillas y chupame la polla\"\"! https://t.co/rX5ducZDax\"</td>\n",
       "      <td>0.370696</td>\n",
       "    </tr>\n",
       "    <tr>\n",
       "      <th>24864</th>\n",
       "      <td>rosalia me podría decir sudaca i wouldn't give a fuck</td>\n",
       "      <td>0.370878</td>\n",
       "    </tr>\n",
       "    <tr>\n",
       "      <th>22669</th>\n",
       "      <td>mario, hablas de la hija de chavez pero vos decir ser italiano y no vivis en italia. Para los tanos (si les importara lo que hace un sudaca) tamben serias un traidor viviendo aca. #maldición</td>\n",
       "      <td>0.381002</td>\n",
       "    </tr>\n",
       "    <tr>\n",
       "      <th>22199</th>\n",
       "      <td>Todo aquél que se haya molestado en investigar un poco sabe que desde tiempos antiguos los mayores negreros y esclavistas del mundo fueron los árabes. https://t.co/DY5Uo8979v</td>\n",
       "      <td>0.393340</td>\n",
       "    </tr>\n",
       "    <tr>\n",
       "      <th>20353</th>\n",
       "      <td>La diferencia entre comida mexicana y la comida árabe es que una te da diarrea y otra te de diarrea explosiva</td>\n",
       "      <td>0.398300</td>\n",
       "    </tr>\n",
       "    <tr>\n",
       "      <th>24126</th>\n",
       "      <td>LA SOLUCIÓN ES SOLDARLE EL TIMÓN DE LA PATERA RUMBO DE DONDE SALIERON CON AGUA Y COMIDA. https://t.co/59pInBdgnR</td>\n",
       "      <td>0.402442</td>\n",
       "    </tr>\n",
       "    <tr>\n",
       "      <th>21535</th>\n",
       "      <td>#VOX critica duramente a ⁦@pablocasado_⁩ “Les da la bienvenida como si fuera un cartel del welcome de #Carmena “ ¡Expulsión inmediata de moromierdas!  https://t.co/HaySDibj2l</td>\n",
       "      <td>0.403973</td>\n",
       "    </tr>\n",
       "    <tr>\n",
       "      <th>22898</th>\n",
       "      <td>\"@monicaoltra : \"\"Sólo seis CCAA estamos absorbiendo la inmigración, no damos abasto\"\".........  A VER SI POR FIN OS DAIS CUENTA QUE LA SOLIDARIDAD Y EL BUENISMO TIENE LÍMITES. DEJAD LA DEMAGOGIA DE UNA VEZ.  NO PUEDE HABER INMIGRACIÓN ILEGAL ILIMITADA.   https://t.co/gwCwCCv9wb\"</td>\n",
       "      <td>0.403994</td>\n",
       "    </tr>\n",
       "    <tr>\n",
       "      <th>22953</th>\n",
       "      <td>Le puedes dar un pez a un hombre y comerá un día Como le des una caña a un subsahariano fabricará una lanza y atravesará a un guardia civil</td>\n",
       "      <td>0.405189</td>\n",
       "    </tr>\n",
       "    <tr>\n",
       "      <th>22660</th>\n",
       "      <td>En esta vida llamada spice girls, yo sería Ginger spice...les explico: No sería la negra, ni la güera ridícula, ni la deportista plana, y mucho menos la posona. Básicamente sería Ginger, por qué es la única que tuvo un éxito como solista. Bendiciones</td>\n",
       "      <td>0.407229</td>\n",
       "    </tr>\n",
       "    <tr>\n",
       "      <th>22560</th>\n",
       "      <td>@CarlaEUrena @FelipeCalderon Callateeeee !! Puta gallina cacarea !! Ni idea tienes de nada .</td>\n",
       "      <td>0.411788</td>\n",
       "    </tr>\n",
       "    <tr>\n",
       "      <th>20265</th>\n",
       "      <td>Tema inmigración de Venezuela como estamos y que bebemos hacer ayer mire un programa con abogados pidiendo abrir un estudio con todos ellos pera trabajar en Argentina no es como mucho que antecedentes tienen que hacemos con los nuestros es un tema a mirar antes que nos estalle</td>\n",
       "      <td>0.411835</td>\n",
       "    </tr>\n",
       "    <tr>\n",
       "      <th>24083</th>\n",
       "      <td>@alvhann La mujer conoce bien la debilidad del hombre, y cada día le sube más la falda y posteriormente se queja de acoso...</td>\n",
       "      <td>0.414591</td>\n",
       "    </tr>\n",
       "    <tr>\n",
       "      <th>24895</th>\n",
       "      <td>@xSuzuHopkins @gimme5yens El de mi polla a granel. Que te calles, virgen.</td>\n",
       "      <td>0.415093</td>\n",
       "    </tr>\n",
       "    <tr>\n",
       "      <th>23341</th>\n",
       "      <td>Sudacas que votan a la derecha, que queres?</td>\n",
       "      <td>0.422633</td>\n",
       "    </tr>\n",
       "    <tr>\n",
       "      <th>24590</th>\n",
       "      <td>SOMOS MUCHO MÁS DE LO QUE SUEÑAS SER PINCHÉ SUDACA CAGADO, y si no te gusta dime donde nos topamos pa reventarnos el hocico 1:1 @amarchesin1 https://t.co/vHHPBKS1AK</td>\n",
       "      <td>0.431867</td>\n",
       "    </tr>\n",
       "    <tr>\n",
       "      <th>20307</th>\n",
       "      <td>tu eres lesbi Ana xk no as probaddo mi polla</td>\n",
       "      <td>0.434162</td>\n",
       "    </tr>\n",
       "    <tr>\n",
       "      <th>24104</th>\n",
       "      <td>Yo llego atender alguna llamada del tlf de mi papá y llega hablar una mujer es que le mento la madre a esa puta</td>\n",
       "      <td>0.443080</td>\n",
       "    </tr>\n",
       "    <tr>\n",
       "      <th>23396</th>\n",
       "      <td>Habeis visto el video de la señora del Metro de Madrid que no deja sentar a una niña extranjera??? pues el vídeo de los negratas pegando a un turista americano por defender a una mujer con una silla de un bebé en Barcelona no lo vais a ver!! #👏👏👏👏👏</td>\n",
       "      <td>0.444748</td>\n",
       "    </tr>\n",
       "    <tr>\n",
       "      <th>21152</th>\n",
       "      <td>@NatyBurgos15 @Horaciogenta @PaolaPa05 Cállate vos Black and bitch como la puta falsa abogada. Espero se pudra en la cárcel y devuelva todo. Dedícate a estudiar en serio. La droga es mala. Cristina puta</td>\n",
       "      <td>0.447799</td>\n",
       "    </tr>\n",
       "    <tr>\n",
       "      <th>23750</th>\n",
       "      <td>Hdsptm güeras pelones sin cejas https://t.co/K8otT8zeuI</td>\n",
       "      <td>0.466234</td>\n",
       "    </tr>\n",
       "    <tr>\n",
       "      <th>22592</th>\n",
       "      <td>o sea tantos arabes q hay en venezuela y no pueden hacer un atentado decente q pasa ?????????</td>\n",
       "      <td>0.468170</td>\n",
       "    </tr>\n",
       "    <tr>\n",
       "      <th>23098</th>\n",
       "      <td>@RealBetis Valores como el 'mi novia es sevillista y una puta más' o el 'Rubén Castro alé, Rubén Castro alé, no fue tu culpa, era una puta, lo hiciste bien'?</td>\n",
       "      <td>0.468929</td>\n",
       "    </tr>\n",
       "    <tr>\n",
       "      <th>22381</th>\n",
       "      <td>@callodehacha Y este pendejo!!! Wey tu eres un puta que se da al mejor postor. Por lo menos el estava pedo, pero tu cabron no mames. A chingar tu madre asi nomas quedo!!!</td>\n",
       "      <td>0.478994</td>\n",
       "    </tr>\n",
       "    <tr>\n",
       "      <th>21455</th>\n",
       "      <td>Me llamo Nobita Me gusta Shizuka La chica es bonita Me gusta esa puta https://t.co/8rsZ7u5DVh</td>\n",
       "      <td>0.482561</td>\n",
       "    </tr>\n",
       "    <tr>\n",
       "      <th>20953</th>\n",
       "      <td>@Stop2Invasion la nacionalidad mal otorgada y con comportamientos no adientes y sin voluntad de integrarse etc..se puede retrotraer, así que menos happy inmigrantes porque les queda lo que se quede Sanchez</td>\n",
       "      <td>0.491989</td>\n",
       "    </tr>\n",
       "    <tr>\n",
       "      <th>24055</th>\n",
       "      <td>@elisacarrio Callate gorda borracha hija de mil puta sos lo peor de la politica argentina ya lo dijo don Raul Alfonsin</td>\n",
       "      <td>0.493790</td>\n",
       "    </tr>\n",
       "  </tbody>\n",
       "</table>\n",
       "</div>"
      ],
      "text/plain": [
       "                                                                                                                                                                                                                                                                                                              text  \\\n",
       "id                                                                                                                                                                                                                                                                                                                   \n",
       "21072                                                                                       Voy andando por la calle y me han dicho cosas en árabe ya que me estas acosando dime lo en español para que te entienda, asique como yo no les entiendo me he cagado en su puta madre en árabe para que ellos a mi si.   \n",
       "24352                                                                                                                                                                                                                                 ¿Ves que tu coño me importe? Cómete mi polla, basura https://t.co/ht02KyYWZh   \n",
       "21215                                                                                                                        Que tal otro aporte anónimo son de la puta de mi esposa, así los dejó en navidad enseñando le los calzones al vecino rt y siguenos @TANGASUCIA @Tangasrobadas https://t.co/70ioUjveqY   \n",
       "22065                                                                                                                                                                                                                                       | lo único que dominas es mi polla en tu cara. https://t.co/qlYOd4zPwW   \n",
       "23716                                                                    - El otro día me comí a Laura es muy fácil que guarra jajajaja - Laura también te comió a ti entonces tú eres igual de guarro e igual de fácil. - Puto feminazi putas modas eres feminista solo para ligar bien queda gilipollas - em, ok   \n",
       "23922                                                                                     Pobre moromierda. Pues a mi me parece mas digna y respetable la vida de una linda gallina que acabará en un KFC que ése semita culturizado en el país de la violación que acaban de  dejar libre https://t.co/lrL1K09aIb   \n",
       "20213                                                                @britneyspears Perra te lo mereces, esa presentación de WORK BICTH estuvo a tu altura, por fin le hiciste justicia a la canción y al álbum Britney Jean al presentar la canción en un programa de TV luciendo hermosa, acuerpada y subliminal   \n",
       "24488                                                                                                                                                                                            Un indocumentado...habla y habla y no para y acaba hablando su ignorancia.Empezamos bien. https://t.co/SMRsqjtEBT   \n",
       "24925                                                                                                                                                             La verdad que si, no veia la hora de llegar a los 5 mil amigos😂 ahora de a poco voy borrando esos indios indocumentados😂 https://t.co/Xw8q4GLM8v   \n",
       "21887                                                                                                    @A3Noticias Esta tiene que ser una 'fake new' porque las mujeres son siempre las víctimas, no las hijas de puta maltratadoras. Eso o el chaval es un machista que se lo ha merecido (machete al machote).   \n",
       "20711                                                                                                                                                                                    @lopezdoriga eso es culpa de los gobiernos corruptos que tienen arreglos con esta escoria. Ojalá se muera la perra esa...   \n",
       "22008                                                                                                                                                                                            @Namurii @medicaster_xz @Yorha2d @KeloKlau_ Se merecía de puta y no quiere que le metan la verga, jajaja no mamen   \n",
       "24928                                                                                                               Hoy, 20hrs, haremos un twittazo en contra Rodolfo Noriega, quien, pese a ser un incitador al odio e inmigrante, sigue en Chile. El hashtag, será #FueraRodolfoNoriega. https://t.co/1AvN3N7AvJ   \n",
       "24746                                                                                                                                                                                        @rU_1970 muestra como teni esa vagina de puta caliente llena de moco wacha culia hija de la perra traga semen 146:146   \n",
       "21727                       España crea su primer 'campo de refugiados' en la bahía de Algeciras https://t.co/l7Zmh2kvPN vía @elmundoes Gran noticia para el contribuyente español. Españoles a pagar, a pagar. Las pensiones pensad en las pensiones. Esto la sanidad como es gratis podemos dejar de pagarla no?   \n",
       "24434                                                                                                                                                                                                           \"Hace tanto calor que podría matar a un árabe indiferentemente. (Referencia de \"\"El extranjero\"\")\"   \n",
       "21351                                                                                                                                                                                                                             @abril9979 Cállate pelotuda imbécil si sos hermosa la próxima te pego te amo bye   \n",
       "20019  \"Y NADIE SE HA PREGUNTADO LO QUE LE VA A COSTAR AL HOMBRE DEL GUANTAZO LA SITUACION..?!? PORQUE SEGURO ES, QUE EL MENDA MUSULMONO LE VA A PONER UNA DENUNCIA, QUE EL FALLO VA A SER \"\"CULPABLE\"\", QUE UNA PANDILLA DE MUSULMONOS LE VA A ESTAR ESPERANDO DELANTE DE LA PUERTA DE SU NEGOCIO https://t.co...   \n",
       "24986                                                                                                                                   \"Traducción:  \"\"Escucha puta sueca!\"\"  \"\"Los árabes estamos aquí para apoderarnos de vuestro jodido país! Ponte de rodillas y chupame la polla\"\"! https://t.co/rX5ducZDax\"   \n",
       "24864                                                                                                                                                                                                                                                        rosalia me podría decir sudaca i wouldn't give a fuck   \n",
       "22669                                                                                                               mario, hablas de la hija de chavez pero vos decir ser italiano y no vivis en italia. Para los tanos (si les importara lo que hace un sudaca) tamben serias un traidor viviendo aca. #maldición   \n",
       "22199                                                                                                                               Todo aquél que se haya molestado en investigar un poco sabe que desde tiempos antiguos los mayores negreros y esclavistas del mundo fueron los árabes. https://t.co/DY5Uo8979v   \n",
       "20353                                                                                                                                                                                                La diferencia entre comida mexicana y la comida árabe es que una te da diarrea y otra te de diarrea explosiva   \n",
       "24126                                                                                                                                                                                             LA SOLUCIÓN ES SOLDARLE EL TIMÓN DE LA PATERA RUMBO DE DONDE SALIERON CON AGUA Y COMIDA. https://t.co/59pInBdgnR   \n",
       "21535                                                                                                                               #VOX critica duramente a ⁦@pablocasado_⁩ “Les da la bienvenida como si fuera un cartel del welcome de #Carmena “ ¡Expulsión inmediata de moromierdas!  https://t.co/HaySDibj2l   \n",
       "22898                     \"@monicaoltra : \"\"Sólo seis CCAA estamos absorbiendo la inmigración, no damos abasto\"\".........  A VER SI POR FIN OS DAIS CUENTA QUE LA SOLIDARIDAD Y EL BUENISMO TIENE LÍMITES. DEJAD LA DEMAGOGIA DE UNA VEZ.  NO PUEDE HABER INMIGRACIÓN ILEGAL ILIMITADA.   https://t.co/gwCwCCv9wb\"   \n",
       "22953                                                                                                                                                                  Le puedes dar un pez a un hombre y comerá un día Como le des una caña a un subsahariano fabricará una lanza y atravesará a un guardia civil   \n",
       "22660                                                   En esta vida llamada spice girls, yo sería Ginger spice...les explico: No sería la negra, ni la güera ridícula, ni la deportista plana, y mucho menos la posona. Básicamente sería Ginger, por qué es la única que tuvo un éxito como solista. Bendiciones   \n",
       "22560                                                                                                                                                                                                                 @CarlaEUrena @FelipeCalderon Callateeeee !! Puta gallina cacarea !! Ni idea tienes de nada .   \n",
       "20265                        Tema inmigración de Venezuela como estamos y que bebemos hacer ayer mire un programa con abogados pidiendo abrir un estudio con todos ellos pera trabajar en Argentina no es como mucho que antecedentes tienen que hacemos con los nuestros es un tema a mirar antes que nos estalle   \n",
       "24083                                                                                                                                                                                 @alvhann La mujer conoce bien la debilidad del hombre, y cada día le sube más la falda y posteriormente se queja de acoso...   \n",
       "24895                                                                                                                                                                                                                                    @xSuzuHopkins @gimme5yens El de mi polla a granel. Que te calles, virgen.   \n",
       "23341                                                                                                                                                                                                                                                                  Sudacas que votan a la derecha, que queres?   \n",
       "24590                                                                                                                                         SOMOS MUCHO MÁS DE LO QUE SUEÑAS SER PINCHÉ SUDACA CAGADO, y si no te gusta dime donde nos topamos pa reventarnos el hocico 1:1 @amarchesin1 https://t.co/vHHPBKS1AK   \n",
       "20307                                                                                                                                                                                                                                                                 tu eres lesbi Ana xk no as probaddo mi polla   \n",
       "24104                                                                                                                                                                                              Yo llego atender alguna llamada del tlf de mi papá y llega hablar una mujer es que le mento la madre a esa puta   \n",
       "23396                                                     Habeis visto el video de la señora del Metro de Madrid que no deja sentar a una niña extranjera??? pues el vídeo de los negratas pegando a un turista americano por defender a una mujer con una silla de un bebé en Barcelona no lo vais a ver!! #👏👏👏👏👏   \n",
       "21152                                                                                                   @NatyBurgos15 @Horaciogenta @PaolaPa05 Cállate vos Black and bitch como la puta falsa abogada. Espero se pudra en la cárcel y devuelva todo. Dedícate a estudiar en serio. La droga es mala. Cristina puta   \n",
       "23750                                                                                                                                                                                                                                                      Hdsptm güeras pelones sin cejas https://t.co/K8otT8zeuI   \n",
       "22592                                                                                                                                                                                                                o sea tantos arabes q hay en venezuela y no pueden hacer un atentado decente q pasa ?????????   \n",
       "23098                                                                                                                                                @RealBetis Valores como el 'mi novia es sevillista y una puta más' o el 'Rubén Castro alé, Rubén Castro alé, no fue tu culpa, era una puta, lo hiciste bien'?   \n",
       "22381                                                                                                                                   @callodehacha Y este pendejo!!! Wey tu eres un puta que se da al mejor postor. Por lo menos el estava pedo, pero tu cabron no mames. A chingar tu madre asi nomas quedo!!!   \n",
       "21455                                                                                                                                                                                                                Me llamo Nobita Me gusta Shizuka La chica es bonita Me gusta esa puta https://t.co/8rsZ7u5DVh   \n",
       "20953                                                                                                @Stop2Invasion la nacionalidad mal otorgada y con comportamientos no adientes y sin voluntad de integrarse etc..se puede retrotraer, así que menos happy inmigrantes porque les queda lo que se quede Sanchez   \n",
       "24055                                                                                                                                                                                       @elisacarrio Callate gorda borracha hija de mil puta sos lo peor de la politica argentina ya lo dijo don Raul Alfonsin   \n",
       "\n",
       "          proba  \n",
       "id               \n",
       "21072  0.053848  \n",
       "24352  0.104640  \n",
       "21215  0.109435  \n",
       "22065  0.160813  \n",
       "23716  0.198587  \n",
       "23922  0.216723  \n",
       "20213  0.217936  \n",
       "24488  0.221825  \n",
       "24925  0.228921  \n",
       "21887  0.240531  \n",
       "20711  0.246015  \n",
       "22008  0.258150  \n",
       "24928  0.289168  \n",
       "24746  0.308191  \n",
       "21727  0.329323  \n",
       "24434  0.345809  \n",
       "21351  0.360916  \n",
       "20019  0.367997  \n",
       "24986  0.370696  \n",
       "24864  0.370878  \n",
       "22669  0.381002  \n",
       "22199  0.393340  \n",
       "20353  0.398300  \n",
       "24126  0.402442  \n",
       "21535  0.403973  \n",
       "22898  0.403994  \n",
       "22953  0.405189  \n",
       "22660  0.407229  \n",
       "22560  0.411788  \n",
       "20265  0.411835  \n",
       "24083  0.414591  \n",
       "24895  0.415093  \n",
       "23341  0.422633  \n",
       "24590  0.431867  \n",
       "20307  0.434162  \n",
       "24104  0.443080  \n",
       "23396  0.444748  \n",
       "21152  0.447799  \n",
       "23750  0.466234  \n",
       "22592  0.468170  \n",
       "23098  0.468929  \n",
       "22381  0.478994  \n",
       "21455  0.482561  \n",
       "20953  0.491989  \n",
       "24055  0.493790  "
      ]
     },
     "execution_count": 124,
     "metadata": {},
     "output_type": "execute_result"
    }
   ],
   "source": [
    "pd.set_option('max_colwidth', 300)\n",
    "\n",
    "false_negatives[[\"text\", \"proba\"]]\n"
   ]
  },
  {
   "cell_type": "markdown",
   "metadata": {},
   "source": [
    "¿Cómo los tokenizamos?"
   ]
  },
  {
   "cell_type": "code",
   "execution_count": 125,
   "metadata": {},
   "outputs": [
    {
     "data": {
      "text/plain": [
       "'La otra no noticia del día es la visita del sonriente Casado a Algeciras, a visitar en Ceuta y Algeciras, no a los guardias civiles heridos tras la violenta entrada de ilegales del otro día, sino a un grupo de subsaharianos que han entrado en nuestro país de forma igualmente ileg'"
      ]
     },
     "execution_count": 125,
     "metadata": {},
     "output_type": "execute_result"
    }
   ],
   "source": [
    "df_dev.loc[21841][\"text\"]"
   ]
  },
  {
   "cell_type": "markdown",
   "metadata": {},
   "source": [
    "## Falsos positivos"
   ]
  },
  {
   "cell_type": "code",
   "execution_count": 126,
   "metadata": {},
   "outputs": [
    {
     "data": {
      "text/html": [
       "<div>\n",
       "<style scoped>\n",
       "    .dataframe tbody tr th:only-of-type {\n",
       "        vertical-align: middle;\n",
       "    }\n",
       "\n",
       "    .dataframe tbody tr th {\n",
       "        vertical-align: top;\n",
       "    }\n",
       "\n",
       "    .dataframe thead th {\n",
       "        text-align: right;\n",
       "    }\n",
       "</style>\n",
       "<table border=\"1\" class=\"dataframe\">\n",
       "  <thead>\n",
       "    <tr style=\"text-align: right;\">\n",
       "      <th></th>\n",
       "      <th>text</th>\n",
       "      <th>proba</th>\n",
       "    </tr>\n",
       "    <tr>\n",
       "      <th>id</th>\n",
       "      <th></th>\n",
       "      <th></th>\n",
       "    </tr>\n",
       "  </thead>\n",
       "  <tbody>\n",
       "    <tr>\n",
       "      <th>21892</th>\n",
       "      <td>@saancisco Callate puta tu eres el traidor.</td>\n",
       "      <td>0.971176</td>\n",
       "    </tr>\n",
       "    <tr>\n",
       "      <th>24159</th>\n",
       "      <td>@LeonDeJapon Jajajajajaja tu eres uno, diego jajajajajaja mentira perra perra perrraaaaaaaaaa de mierda jajaja ♡</td>\n",
       "      <td>0.949714</td>\n",
       "    </tr>\n",
       "    <tr>\n",
       "      <th>21050</th>\n",
       "      <td>@GvyMC @Wismichu Callate puta rata😂😂 ya estas llorando??</td>\n",
       "      <td>0.908704</td>\n",
       "    </tr>\n",
       "    <tr>\n",
       "      <th>22014</th>\n",
       "      <td>Ni tú eres una zorra hambrienta ni yo un incorregible depredador.</td>\n",
       "      <td>0.894342</td>\n",
       "    </tr>\n",
       "    <tr>\n",
       "      <th>23565</th>\n",
       "      <td>La solución no es darle papeles a todos. Es exigir a nuestro gobierno q no fabrique y venda armas a los gobiernos subsaharianos para que estos no masacren y acorralen a su población haciendo q quieran venir aquí x lo civil o criminal. Desesperación y supervivencia pura.</td>\n",
       "      <td>0.876209</td>\n",
       "    </tr>\n",
       "    <tr>\n",
       "      <th>22115</th>\n",
       "      <td>Una chica no es una guarra, una zorra, una puta, una buscan por su manera de vestir.</td>\n",
       "      <td>0.870437</td>\n",
       "    </tr>\n",
       "    <tr>\n",
       "      <th>22457</th>\n",
       "      <td>De Colombia tocará emigrar en pateras, como hacen los africanos subsaharianos.</td>\n",
       "      <td>0.866394</td>\n",
       "    </tr>\n",
       "    <tr>\n",
       "      <th>24402</th>\n",
       "      <td>zorra eres tu que no te sientes hombre y no entiendes que toda mujer es bella</td>\n",
       "      <td>0.833239</td>\n",
       "    </tr>\n",
       "    <tr>\n",
       "      <th>22416</th>\n",
       "      <td>@Pepe_ElEzequiel Puta!? Puta con las que vos te metes Esa mujer es un ángel enviado por Jesucristo nuestro señor para darnos esa paz que buscamos sólo con verla</td>\n",
       "      <td>0.828367</td>\n",
       "    </tr>\n",
       "    <tr>\n",
       "      <th>23320</th>\n",
       "      <td>@HenriFalconLara No digas nada que tú eres cómplice de lo que está pasando... y recuerda seguirás siendo la perra más perra de Venezuela</td>\n",
       "      <td>0.808735</td>\n",
       "    </tr>\n",
       "    <tr>\n",
       "      <th>24651</th>\n",
       "      <td>@elrod_g @jonawoodz35 Jajajajajajajajajajajaajaj mike cb yo te amo cc tu eres una puta comida cb sabe que nos debe una comidita 😂😂😂😂😂😂😂😂😂😂😂</td>\n",
       "      <td>0.801547</td>\n",
       "    </tr>\n",
       "    <tr>\n",
       "      <th>22848</th>\n",
       "      <td>Pinche bebé pendejo cállate el hocico, nomás te están cortando el pelo. Puta chillona</td>\n",
       "      <td>0.790747</td>\n",
       "    </tr>\n",
       "    <tr>\n",
       "      <th>21497</th>\n",
       "      <td>Talvez quede como zorra pero te lo mereces Socia😎</td>\n",
       "      <td>0.777796</td>\n",
       "    </tr>\n",
       "    <tr>\n",
       "      <th>22517</th>\n",
       "      <td>-¿eres poblana? -soy colombiana -¿y por qué eres güera? en Colombia TODAS son morenas, fui a Colombia 3 veces. -ok, mentí 🙄 solo me pinto el cabello</td>\n",
       "      <td>0.767298</td>\n",
       "    </tr>\n",
       "    <tr>\n",
       "      <th>20952</th>\n",
       "      <td>@NicolasMaduro Callate la jeta perra que de este año no pasas</td>\n",
       "      <td>0.721324</td>\n",
       "    </tr>\n",
       "    <tr>\n",
       "      <th>24115</th>\n",
       "      <td>Chica, pero por qué  borras las fotos en Cholon, en yates? Si al final la frijolera  que todos los fines de semana revuelven y hasta estrujan  es la tuya y nadie debe opinar en eso... Tranquila deje sus fotos.</td>\n",
       "      <td>0.711919</td>\n",
       "    </tr>\n",
       "    <tr>\n",
       "      <th>20376</th>\n",
       "      <td>Zorra tu abuela, imbécil.</td>\n",
       "      <td>0.673383</td>\n",
       "    </tr>\n",
       "    <tr>\n",
       "      <th>20148</th>\n",
       "      <td>Racismo es que hagas enfrijoladas con frijoles güeros y no negros.</td>\n",
       "      <td>0.671160</td>\n",
       "    </tr>\n",
       "    <tr>\n",
       "      <th>21812</th>\n",
       "      <td>Las personas y la manía de creer que por que la mujer es sexy tiene que ser puta seguro pues NO dejen el mojón mental.</td>\n",
       "      <td>0.664420</td>\n",
       "    </tr>\n",
       "    <tr>\n",
       "      <th>22152</th>\n",
       "      <td>\"Ya que el \"\"residente\"\" del gobierno @sanchezcastejon no quiere ayudar a la @guardiacivil en laa fronteras, propongo hacer una colecta para que todo español que quiera y pueda, viaje a melilla y rodee la valla. Si nos invaden que sea con igualdad de fuerzas. #FelizSábado\"</td>\n",
       "      <td>0.662515</td>\n",
       "    </tr>\n",
       "    <tr>\n",
       "      <th>24520</th>\n",
       "      <td>el novio de mi hermanastra dijo que mi perra es muy tarada y después me dijo autista a mi y a mi señoro callate tincho que te voy a empalar 1er aviso</td>\n",
       "      <td>0.658998</td>\n",
       "    </tr>\n",
       "    <tr>\n",
       "      <th>23532</th>\n",
       "      <td>Mi primito insulta con 'Puto, Maricon, Puta' PENDEJO DE MIERDA CALLATE</td>\n",
       "      <td>0.657645</td>\n",
       "    </tr>\n",
       "    <tr>\n",
       "      <th>21769</th>\n",
       "      <td>@Yolandamar3 Los musulmanes no tienen ni puta idea de lo que es una mujer. Para ellos las mujeres son esclavas.</td>\n",
       "      <td>0.652143</td>\n",
       "    </tr>\n",
       "    <tr>\n",
       "      <th>21249</th>\n",
       "      <td>No tienes ni puta idea. Lo que dices no es cierto. Solo podrán ser repatriados con los países que España tiene un convenio. A los subsaharianos no se les reaptria. A los marroquíes , sí https://t.co/cwjTPSBn2r</td>\n",
       "      <td>0.644854</td>\n",
       "    </tr>\n",
       "    <tr>\n",
       "      <th>24180</th>\n",
       "      <td>Qué tan difícil es España cuando emigras sin papeles (por @EnriqueVasquez) https://t.co/yjZ4XV4QfU</td>\n",
       "      <td>0.618895</td>\n",
       "    </tr>\n",
       "    <tr>\n",
       "      <th>24209</th>\n",
       "      <td>¿Ya les he contado que si fuera rica/millonaria sería toda una PERRA?, Yisus me está enseñando humildad... Y no he aprendido mucho ldvdd.</td>\n",
       "      <td>0.606998</td>\n",
       "    </tr>\n",
       "    <tr>\n",
       "      <th>23386</th>\n",
       "      <td>Y tú eres una puta mierda que solo sirves para decir gilipollas y q gente como tú te den la razón, que vivan las fiestas y más las d pueblo https://t.co/FlfTcshHQD</td>\n",
       "      <td>0.602891</td>\n",
       "    </tr>\n",
       "    <tr>\n",
       "      <th>21155</th>\n",
       "      <td>@diegocruzva @lila_tresmil @Relatofeminista Como coño se va a resistir la pobre chica con 3 tios violabdola DESGRACIDO !!!!!!!!!!!!!!!!!!!!!!!!!! No eres mejor que ellos para nada, verguenza te debería dar! Verguenza!!!!!!!¡!!!!!!!!</td>\n",
       "      <td>0.594888</td>\n",
       "    </tr>\n",
       "    <tr>\n",
       "      <th>20935</th>\n",
       "      <td>@Ro_Valdess LA PUTA CALLATE QUE QUIERO TENER EL PELO NARANJAAA Y ME VA A QUEDAR HORRIBLE PORQUE SOY NEGRA</td>\n",
       "      <td>0.594047</td>\n",
       "    </tr>\n",
       "    <tr>\n",
       "      <th>24311</th>\n",
       "      <td>Igual tú para follarte a alguien te fijas en su personalidad pero en una APP que es para FOLLAR no todos tienen que tener el mismo criterio.</td>\n",
       "      <td>0.579976</td>\n",
       "    </tr>\n",
       "    <tr>\n",
       "      <th>20861</th>\n",
       "      <td>Iglesias, Carmena, Otero, Bardem y Wyoming ofrecen sus residencias a los inmigrantes de Ceuta https://t.co/NMgbQjDCR6</td>\n",
       "      <td>0.572705</td>\n",
       "    </tr>\n",
       "    <tr>\n",
       "      <th>24019</th>\n",
       "      <td>Acá nos huevean si nos encapuchamos pero en los paises árabes estariamos todas obligadas a encapucharnos 🤷‍♀️</td>\n",
       "      <td>0.564296</td>\n",
       "    </tr>\n",
       "    <tr>\n",
       "      <th>24294</th>\n",
       "      <td>#Repost @chefjames (get_repost) ・・・ Cuando dicen comida árabe, seguro lo primero que les viene a la mente son estos dos platillos 😎!!! Y yo por supuesto tenía que ponerlos a competir,… https://t.co/76l5ke2566</td>\n",
       "      <td>0.553929</td>\n",
       "    </tr>\n",
       "    <tr>\n",
       "      <th>21255</th>\n",
       "      <td>Y tú eres una maldita escoria con una repugnante inclinación por los hombres.. ¡Seres como tú me producen náuseas! https://t.co/TaHDcpZdnm</td>\n",
       "      <td>0.551736</td>\n",
       "    </tr>\n",
       "    <tr>\n",
       "      <th>21966</th>\n",
       "      <td>escúchame ya me jodería jajajajajajajajajajajajajaja si pa ti enseñar es ser una guarra yo soy biennnn guarra, menos mal que no me respeto que si no... https://t.co/yt5fHp99b7</td>\n",
       "      <td>0.551115</td>\n",
       "    </tr>\n",
       "    <tr>\n",
       "      <th>24172</th>\n",
       "      <td>Y los que no se denuncian... hagamos números. El acoso a las mujeres es diario. No todos los hombres son acosadores, pero todas las mujeres han sido acosadas. https://t.co/jza9llhqWA</td>\n",
       "      <td>0.536343</td>\n",
       "    </tr>\n",
       "    <tr>\n",
       "      <th>23751</th>\n",
       "      <td>Sánchez crea un mando único para controlar las fronteras y la inmigración ilegal  https://t.co/G9AcHPq1cM  Compartido desde tu tablón de Google</td>\n",
       "      <td>0.522387</td>\n",
       "    </tr>\n",
       "    <tr>\n",
       "      <th>22846</th>\n",
       "      <td>Si a mi se me ocurre enseñar por twitter una conversación de whatsap con mi madre me manda a dormir a la caseta de mi perra.</td>\n",
       "      <td>0.510151</td>\n",
       "    </tr>\n",
       "    <tr>\n",
       "      <th>23614</th>\n",
       "      <td>Jordania, Egipto y Túnez son los países árabes que han llevado a cabo mayores planes de ajuste dictados por el Fondo Monetario Internacional. No hay mejora y desde Amán hasta El Cairo las calles se inundan de protestas. @mespanolescofet https://t.co/5zKYKiDryu</td>\n",
       "      <td>0.506581</td>\n",
       "    </tr>\n",
       "  </tbody>\n",
       "</table>\n",
       "</div>"
      ],
      "text/plain": [
       "                                                                                                                                                                                                                                                                                    text  \\\n",
       "id                                                                                                                                                                                                                                                                                         \n",
       "21892                                                                                                                                                                                                                                        @saancisco Callate puta tu eres el traidor.   \n",
       "24159                                                                                                                                                                   @LeonDeJapon Jajajajajaja tu eres uno, diego jajajajajaja mentira perra perra perrraaaaaaaaaa de mierda jajaja ♡   \n",
       "21050                                                                                                                                                                                                                           @GvyMC @Wismichu Callate puta rata😂😂 ya estas llorando??   \n",
       "22014                                                                                                                                                                                                                  Ni tú eres una zorra hambrienta ni yo un incorregible depredador.   \n",
       "23565     La solución no es darle papeles a todos. Es exigir a nuestro gobierno q no fabrique y venda armas a los gobiernos subsaharianos para que estos no masacren y acorralen a su población haciendo q quieran venir aquí x lo civil o criminal. Desesperación y supervivencia pura.   \n",
       "22115                                                                                                                                                                                               Una chica no es una guarra, una zorra, una puta, una buscan por su manera de vestir.   \n",
       "22457                                                                                                                                                                                                     De Colombia tocará emigrar en pateras, como hacen los africanos subsaharianos.   \n",
       "24402                                                                                                                                                                                                      zorra eres tu que no te sientes hombre y no entiendes que toda mujer es bella   \n",
       "22416                                                                                                                   @Pepe_ElEzequiel Puta!? Puta con las que vos te metes Esa mujer es un ángel enviado por Jesucristo nuestro señor para darnos esa paz que buscamos sólo con verla   \n",
       "23320                                                                                                                                           @HenriFalconLara No digas nada que tú eres cómplice de lo que está pasando... y recuerda seguirás siendo la perra más perra de Venezuela   \n",
       "24651                                                                                                                                        @elrod_g @jonawoodz35 Jajajajajajajajajajajaajaj mike cb yo te amo cc tu eres una puta comida cb sabe que nos debe una comidita 😂😂😂😂😂😂😂😂😂😂😂   \n",
       "22848                                                                                                                                                                                              Pinche bebé pendejo cállate el hocico, nomás te están cortando el pelo. Puta chillona   \n",
       "21497                                                                                                                                                                                                                                  Talvez quede como zorra pero te lo mereces Socia😎   \n",
       "22517                                                                                                                               -¿eres poblana? -soy colombiana -¿y por qué eres güera? en Colombia TODAS son morenas, fui a Colombia 3 veces. -ok, mentí 🙄 solo me pinto el cabello   \n",
       "20952                                                                                                                                                                                                                      @NicolasMaduro Callate la jeta perra que de este año no pasas   \n",
       "24115                                                                  Chica, pero por qué  borras las fotos en Cholon, en yates? Si al final la frijolera  que todos los fines de semana revuelven y hasta estrujan  es la tuya y nadie debe opinar en eso... Tranquila deje sus fotos.   \n",
       "20376                                                                                                                                                                                                                                                          Zorra tu abuela, imbécil.   \n",
       "20148                                                                                                                                                                                                                 Racismo es que hagas enfrijoladas con frijoles güeros y no negros.   \n",
       "21812                                                                                                                                                             Las personas y la manía de creer que por que la mujer es sexy tiene que ser puta seguro pues NO dejen el mojón mental.   \n",
       "22152  \"Ya que el \"\"residente\"\" del gobierno @sanchezcastejon no quiere ayudar a la @guardiacivil en laa fronteras, propongo hacer una colecta para que todo español que quiera y pueda, viaje a melilla y rodee la valla. Si nos invaden que sea con igualdad de fuerzas. #FelizSábado\"   \n",
       "24520                                                                                                                              el novio de mi hermanastra dijo que mi perra es muy tarada y después me dijo autista a mi y a mi señoro callate tincho que te voy a empalar 1er aviso   \n",
       "23532                                                                                                                                                                                                             Mi primito insulta con 'Puto, Maricon, Puta' PENDEJO DE MIERDA CALLATE   \n",
       "21769                                                                                                                                                                    @Yolandamar3 Los musulmanes no tienen ni puta idea de lo que es una mujer. Para ellos las mujeres son esclavas.   \n",
       "21249                                                                  No tienes ni puta idea. Lo que dices no es cierto. Solo podrán ser repatriados con los países que España tiene un convenio. A los subsaharianos no se les reaptria. A los marroquíes , sí https://t.co/cwjTPSBn2r   \n",
       "24180                                                                                                                                                                                 Qué tan difícil es España cuando emigras sin papeles (por @EnriqueVasquez) https://t.co/yjZ4XV4QfU   \n",
       "24209                                                                                                                                          ¿Ya les he contado que si fuera rica/millonaria sería toda una PERRA?, Yisus me está enseñando humildad... Y no he aprendido mucho ldvdd.   \n",
       "23386                                                                                                                Y tú eres una puta mierda que solo sirves para decir gilipollas y q gente como tú te den la razón, que vivan las fiestas y más las d pueblo https://t.co/FlfTcshHQD   \n",
       "21155                                           @diegocruzva @lila_tresmil @Relatofeminista Como coño se va a resistir la pobre chica con 3 tios violabdola DESGRACIDO !!!!!!!!!!!!!!!!!!!!!!!!!! No eres mejor que ellos para nada, verguenza te debería dar! Verguenza!!!!!!!¡!!!!!!!!   \n",
       "20935                                                                                                                                                                          @Ro_Valdess LA PUTA CALLATE QUE QUIERO TENER EL PELO NARANJAAA Y ME VA A QUEDAR HORRIBLE PORQUE SOY NEGRA   \n",
       "24311                                                                                                                                       Igual tú para follarte a alguien te fijas en su personalidad pero en una APP que es para FOLLAR no todos tienen que tener el mismo criterio.   \n",
       "20861                                                                                                                                                              Iglesias, Carmena, Otero, Bardem y Wyoming ofrecen sus residencias a los inmigrantes de Ceuta https://t.co/NMgbQjDCR6   \n",
       "24019                                                                                                                                                                      Acá nos huevean si nos encapuchamos pero en los paises árabes estariamos todas obligadas a encapucharnos 🤷‍♀️   \n",
       "24294                                                                   #Repost @chefjames (get_repost) ・・・ Cuando dicen comida árabe, seguro lo primero que les viene a la mente son estos dos platillos 😎!!! Y yo por supuesto tenía que ponerlos a competir,… https://t.co/76l5ke2566   \n",
       "21255                                                                                                                                         Y tú eres una maldita escoria con una repugnante inclinación por los hombres.. ¡Seres como tú me producen náuseas! https://t.co/TaHDcpZdnm   \n",
       "21966                                                                                                    escúchame ya me jodería jajajajajajajajajajajajajaja si pa ti enseñar es ser una guarra yo soy biennnn guarra, menos mal que no me respeto que si no... https://t.co/yt5fHp99b7   \n",
       "24172                                                                                             Y los que no se denuncian... hagamos números. El acoso a las mujeres es diario. No todos los hombres son acosadores, pero todas las mujeres han sido acosadas. https://t.co/jza9llhqWA   \n",
       "23751                                                                                                                                    Sánchez crea un mando único para controlar las fronteras y la inmigración ilegal  https://t.co/G9AcHPq1cM  Compartido desde tu tablón de Google   \n",
       "22846                                                                                                                                                       Si a mi se me ocurre enseñar por twitter una conversación de whatsap con mi madre me manda a dormir a la caseta de mi perra.   \n",
       "23614               Jordania, Egipto y Túnez son los países árabes que han llevado a cabo mayores planes de ajuste dictados por el Fondo Monetario Internacional. No hay mejora y desde Amán hasta El Cairo las calles se inundan de protestas. @mespanolescofet https://t.co/5zKYKiDryu   \n",
       "\n",
       "          proba  \n",
       "id               \n",
       "21892  0.971176  \n",
       "24159  0.949714  \n",
       "21050  0.908704  \n",
       "22014  0.894342  \n",
       "23565  0.876209  \n",
       "22115  0.870437  \n",
       "22457  0.866394  \n",
       "24402  0.833239  \n",
       "22416  0.828367  \n",
       "23320  0.808735  \n",
       "24651  0.801547  \n",
       "22848  0.790747  \n",
       "21497  0.777796  \n",
       "22517  0.767298  \n",
       "20952  0.721324  \n",
       "24115  0.711919  \n",
       "20376  0.673383  \n",
       "20148  0.671160  \n",
       "21812  0.664420  \n",
       "22152  0.662515  \n",
       "24520  0.658998  \n",
       "23532  0.657645  \n",
       "21769  0.652143  \n",
       "21249  0.644854  \n",
       "24180  0.618895  \n",
       "24209  0.606998  \n",
       "23386  0.602891  \n",
       "21155  0.594888  \n",
       "20935  0.594047  \n",
       "24311  0.579976  \n",
       "20861  0.572705  \n",
       "24019  0.564296  \n",
       "24294  0.553929  \n",
       "21255  0.551736  \n",
       "21966  0.551115  \n",
       "24172  0.536343  \n",
       "23751  0.522387  \n",
       "22846  0.510151  \n",
       "23614  0.506581  "
      ]
     },
     "execution_count": 126,
     "metadata": {},
     "output_type": "execute_result"
    }
   ],
   "source": [
    "pd.set_option('max_colwidth', 300)\n",
    "false_positives[[\"text\", \"proba\"]]"
   ]
  },
  {
   "cell_type": "markdown",
   "metadata": {},
   "source": [
    "# Conclusiones\n",
    "\n",
    "No mejora mucho usando embeddings también! mejor quedémonos el otro modelo..."
   ]
  }
 ],
 "metadata": {
  "kernelspec": {
   "display_name": "Python 3",
   "language": "python",
   "name": "python3"
  },
  "language_info": {
   "codemirror_mode": {
    "name": "ipython",
    "version": 3
   },
   "file_extension": ".py",
   "mimetype": "text/x-python",
   "name": "python",
   "nbconvert_exporter": "python",
   "pygments_lexer": "ipython3",
   "version": "3.6.5"
  }
 },
 "nbformat": 4,
 "nbformat_minor": 2
}
