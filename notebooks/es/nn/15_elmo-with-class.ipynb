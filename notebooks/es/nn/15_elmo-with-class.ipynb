{
 "cells": [
  {
   "cell_type": "markdown",
   "metadata": {},
   "source": [
    "# LSTM  + ElMO\n",
    "\n",
    "En esta, rehacemos todo lo de ElMO pero usando nuestra nueva clase: ElMOModel"
   ]
  },
  {
   "cell_type": "code",
   "execution_count": 1,
   "metadata": {},
   "outputs": [
    {
     "name": "stdout",
     "output_type": "stream",
     "text": [
      "Instancias de entrenamiento: 4500\n",
      "Instancias de desarrollo: 500\n",
      "Instancias de test: 1600\n"
     ]
    }
   ],
   "source": [
    "import pandas as pd\n",
    "import csv\n",
    "\n",
    "df_dev = pd.read_table(\"../../../data/es/dev_es.tsv\", index_col=\"id\", quoting=csv.QUOTE_NONE)\n",
    "df_train = pd.read_table(\"../../../data/es/train_es.tsv\", index_col=\"id\", quoting=csv.QUOTE_NONE)\n",
    "df_test = pd.read_table(\"../../../data/es/test_es.tsv\", index_col=\"id\", quoting=csv.QUOTE_NONE)\n",
    "\n",
    "print(\"Instancias de entrenamiento: {}\".format(len(df_train)))\n",
    "print(\"Instancias de desarrollo: {}\".format(len(df_dev)))\n",
    "print(\"Instancias de test: {}\".format(len(df_test)))\n"
   ]
  },
  {
   "cell_type": "markdown",
   "metadata": {},
   "source": [
    "Tengo que hacer dos cosas:\n",
    "\n",
    "- Primero, convertir los tweets a secuencias de texto\n",
    "- Luego, paddear las secuencias a cierta longitud (Keras necesita esto para poder paralelizar cálculo)"
   ]
  },
  {
   "cell_type": "code",
   "execution_count": 2,
   "metadata": {},
   "outputs": [
    {
     "name": "stderr",
     "output_type": "stream",
     "text": [
      "Using TensorFlow backend.\n"
     ]
    }
   ],
   "source": [
    "from hate.nn.preprocessing import Tokenizer\n",
    "\n",
    "tokenize_args = {\n",
    "    \"preserve_case\": False, \n",
    "    \"deaccent\": False,\n",
    "    \"reduce_len\": True, \n",
    "    \"strip_handles\": False,\n",
    "    \"alpha_only\": True,\n",
    "    \"stem\": False\n",
    "}\n",
    "\n",
    "tokenizer = Tokenizer(preserve_case=False, reduce_len=True, strip_handles=True)\n",
    "\n",
    "tokens_train = [tokenizer.tokenize(tweet) for tweet in df_train[\"text\"].values]\n",
    "tokens_dev = [tokenizer.tokenize(tweet) for tweet in df_dev[\"text\"].values]\n",
    "tokens_test = [tokenizer.tokenize(tweet) for tweet in df_test[\"text\"].values]"
   ]
  },
  {
   "cell_type": "markdown",
   "metadata": {},
   "source": [
    "Veamos las distribuciones de las longitudes de tokens"
   ]
  },
  {
   "cell_type": "code",
   "execution_count": 3,
   "metadata": {},
   "outputs": [
    {
     "name": "stdout",
     "output_type": "stream",
     "text": [
      "Media de longitud: train 22.91 dev 23.33 test 23.33\n"
     ]
    },
    {
     "data": {
      "image/png": "[encoded data removed]",
      "text/plain": [
       "<Figure size 720x216 with 3 Axes>"
      ]
     },
     "metadata": {
      "needs_background": "light"
     },
     "output_type": "display_data"
    }
   ],
   "source": [
    "%matplotlib inline\n",
    "import numpy as np\n",
    "import matplotlib.pyplot as plt\n",
    "\n",
    "plt.rcParams[\"figure.figsize\"] = (10,3)\n",
    "\n",
    "train_lens = np.array([len(t) for t in tokens_train]) \n",
    "dev_lens = np.array([len(t) for t in tokens_dev])\n",
    "test_lens = np.array([len(t) for t in tokens_test])\n",
    "\n",
    "plt.subplot(1, 3, 1)\n",
    "\n",
    "plt.hist(train_lens)\n",
    "\n",
    "plt.subplot(1, 3, 2)\n",
    "plt.hist(dev_lens)\n",
    "\n",
    "plt.subplot(1, 3, 3)\n",
    "plt.hist(test_lens)\n",
    "\n",
    "print(\"Media de longitud: train {:.2f} dev {:.2f} test {:.2f}\".format(train_lens.mean(), dev_lens.mean(), test_lens.mean()))\n"
   ]
  },
  {
   "cell_type": "code",
   "execution_count": 4,
   "metadata": {},
   "outputs": [
    {
     "name": "stderr",
     "output_type": "stream",
     "text": [
      "2019-01-20 16:29:06,430 INFO: char embedding size: 2637\n",
      "2019-01-20 16:29:07,386 INFO: word embedding size: 185214\n",
      "2019-01-20 16:29:16,407 INFO: Model(\n",
      "  (token_embedder): ConvTokenEmbedder(\n",
      "    (word_emb_layer): EmbeddingLayer(\n",
      "      (embedding): Embedding(185214, 100, padding_idx=3)\n",
      "    )\n",
      "    (char_emb_layer): EmbeddingLayer(\n",
      "      (embedding): Embedding(2637, 50, padding_idx=2634)\n",
      "    )\n",
      "    (convolutions): ModuleList(\n",
      "      (0): Conv1d(50, 32, kernel_size=(1,), stride=(1,))\n",
      "      (1): Conv1d(50, 32, kernel_size=(2,), stride=(1,))\n",
      "      (2): Conv1d(50, 64, kernel_size=(3,), stride=(1,))\n",
      "      (3): Conv1d(50, 128, kernel_size=(4,), stride=(1,))\n",
      "      (4): Conv1d(50, 256, kernel_size=(5,), stride=(1,))\n",
      "      (5): Conv1d(50, 512, kernel_size=(6,), stride=(1,))\n",
      "      (6): Conv1d(50, 1024, kernel_size=(7,), stride=(1,))\n",
      "    )\n",
      "    (highways): Highway(\n",
      "      (_layers): ModuleList(\n",
      "        (0): Linear(in_features=2048, out_features=4096, bias=True)\n",
      "        (1): Linear(in_features=2048, out_features=4096, bias=True)\n",
      "      )\n",
      "    )\n",
      "    (projection): Linear(in_features=2148, out_features=512, bias=True)\n",
      "  )\n",
      "  (encoder): ElmobiLm(\n",
      "    (forward_layer_0): LstmCellWithProjection(\n",
      "      (input_linearity): Linear(in_features=512, out_features=16384, bias=False)\n",
      "      (state_linearity): Linear(in_features=512, out_features=16384, bias=True)\n",
      "      (state_projection): Linear(in_features=4096, out_features=512, bias=False)\n",
      "    )\n",
      "    (backward_layer_0): LstmCellWithProjection(\n",
      "      (input_linearity): Linear(in_features=512, out_features=16384, bias=False)\n",
      "      (state_linearity): Linear(in_features=512, out_features=16384, bias=True)\n",
      "      (state_projection): Linear(in_features=4096, out_features=512, bias=False)\n",
      "    )\n",
      "    (forward_layer_1): LstmCellWithProjection(\n",
      "      (input_linearity): Linear(in_features=512, out_features=16384, bias=False)\n",
      "      (state_linearity): Linear(in_features=512, out_features=16384, bias=True)\n",
      "      (state_projection): Linear(in_features=4096, out_features=512, bias=False)\n",
      "    )\n",
      "    (backward_layer_1): LstmCellWithProjection(\n",
      "      (input_linearity): Linear(in_features=512, out_features=16384, bias=False)\n",
      "      (state_linearity): Linear(in_features=512, out_features=16384, bias=True)\n",
      "      (state_projection): Linear(in_features=4096, out_features=512, bias=False)\n",
      "    )\n",
      "  )\n",
      ")\n"
     ]
    }
   ],
   "source": [
    "%%capture\n",
    "from elmoformanylangs import Embedder\n",
    "\n",
    "e = Embedder(\"../../../models/elmo/es/\")"
   ]
  },
  {
   "cell_type": "markdown",
   "metadata": {},
   "source": [
    "Carguemos embeddings"
   ]
  },
  {
   "cell_type": "code",
   "execution_count": 5,
   "metadata": {},
   "outputs": [
    {
     "name": "stdout",
     "output_type": "stream",
     "text": [
      "_________________________________________________________________\n",
      "Layer (type)                 Output Shape              Param #   \n",
      "=================================================================\n",
      "Elmo_Input (InputLayer)      (None, 60, 1024)          0         \n",
      "_________________________________________________________________\n",
      "bidirectional_1 (Bidirection (None, 256)               1181696   \n",
      "_________________________________________________________________\n",
      "dropout_1 (Dropout)          (None, 256)               0         \n",
      "_________________________________________________________________\n",
      "dense_elmo (Dense)           (None, 128)               32896     \n",
      "_________________________________________________________________\n",
      "dropout_2 (Dropout)          (None, 128)               0         \n",
      "_________________________________________________________________\n",
      "output (Dense)               (None, 1)                 129       \n",
      "=================================================================\n",
      "Total params: 1,214,721\n",
      "Trainable params: 1,214,721\n",
      "Non-trainable params: 0\n",
      "_________________________________________________________________\n",
      "None\n"
     ]
    }
   ],
   "source": [
    "from hate.nn import ElmoModel\n",
    "from keras.optimizers import Adam\n",
    "from keras.layers import CuDNNLSTM, CuDNNGRU\n",
    "\n",
    "embedding_dim = 1024\n",
    "\n",
    "optimizer_args = {\n",
    "    \"lr\": 0.0005,\n",
    "    \"decay\": 0.01\n",
    "}\n",
    "\n",
    "tokenize_args = {\n",
    "    \"preserve_case\": False, \n",
    "    \"deaccent\": False,\n",
    "    \"reduce_len\": True, \n",
    "    \"strip_handles\": False,\n",
    "    \"alpha_only\": True,\n",
    "    \"stem\": False\n",
    "}\n",
    "\n",
    "max_len = 60\n",
    "\n",
    "X_train, y_train = df_train[\"text\"], df_train[\"HS\"]\n",
    "X_dev, y_dev = df_dev[\"text\"], df_dev[\"HS\"]\n",
    "\n",
    "model = ElmoModel(\n",
    "    max_len=60, embedder=e, tokenize_args=tokenize_args,\n",
    "    recursive_class=CuDNNLSTM,\n",
    ")\n",
    "\n",
    "model.compile(loss='binary_crossentropy', \n",
    "              optimizer=Adam(**optimizer_args), \n",
    "              metrics=['accuracy'])\n",
    "print(model.summary())\n",
    "\n"
   ]
  },
  {
   "cell_type": "code",
   "execution_count": 6,
   "metadata": {},
   "outputs": [
    {
     "name": "stderr",
     "output_type": "stream",
     "text": [
      "2019-01-20 16:29:35,009 INFO: 71 batches, avg len: 62.0\n",
      "2019-01-20 16:29:39,928 INFO: Finished 1000 sentences.\n",
      "2019-01-20 16:29:43,723 INFO: Finished 2000 sentences.\n",
      "2019-01-20 16:29:47,318 INFO: Finished 3000 sentences.\n",
      "2019-01-20 16:29:51,115 INFO: Finished 4000 sentences.\n",
      "2019-01-20 16:29:54,826 INFO: 8 batches, avg len: 62.0\n"
     ]
    },
    {
     "name": "stdout",
     "output_type": "stream",
     "text": [
      "WARNING:tensorflow:Variable *= will be deprecated. Use `var.assign(var * other)` if you want assignment to the variable value or `x = x * y` if you want a new python Tensor object.\n"
     ]
    },
    {
     "name": "stderr",
     "output_type": "stream",
     "text": [
      "2019-01-20 16:29:57,067 WARNING: Variable *= will be deprecated. Use `var.assign(var * other)` if you want assignment to the variable value or `x = x * y` if you want a new python Tensor object.\n"
     ]
    },
    {
     "name": "stdout",
     "output_type": "stream",
     "text": [
      "Train on 4500 samples, validate on 500 samples\n",
      "Epoch 1/40\n",
      "4500/4500 [==============================] - 5s 1ms/step - loss: 0.7059 - acc: 0.5662 - val_loss: 0.6664 - val_acc: 0.6180\n",
      "\n",
      "Epoch 00001: val_acc improved from -inf to 0.61800, saving model to /tmp/elmo_15.h5\n",
      "Epoch 2/40\n",
      "4500/4500 [==============================] - 3s 576us/step - loss: 0.6642 - acc: 0.6051 - val_loss: 0.6534 - val_acc: 0.6460\n",
      "\n",
      "Epoch 00002: val_acc improved from 0.61800 to 0.64600, saving model to /tmp/elmo_15.h5\n",
      "Epoch 3/40\n",
      "4500/4500 [==============================] - 3s 572us/step - loss: 0.6359 - acc: 0.6444 - val_loss: 0.6267 - val_acc: 0.6620\n",
      "\n",
      "Epoch 00003: val_acc improved from 0.64600 to 0.66200, saving model to /tmp/elmo_15.h5\n",
      "Epoch 4/40\n",
      "4500/4500 [==============================] - 3s 574us/step - loss: 0.6197 - acc: 0.6629 - val_loss: 0.6067 - val_acc: 0.6700\n",
      "\n",
      "Epoch 00004: val_acc improved from 0.66200 to 0.67000, saving model to /tmp/elmo_15.h5\n",
      "Epoch 5/40\n",
      "4500/4500 [==============================] - 3s 568us/step - loss: 0.5927 - acc: 0.6873 - val_loss: 0.5837 - val_acc: 0.6760\n",
      "\n",
      "Epoch 00005: val_acc improved from 0.67000 to 0.67600, saving model to /tmp/elmo_15.h5\n",
      "Epoch 6/40\n",
      "4500/4500 [==============================] - 3s 574us/step - loss: 0.5773 - acc: 0.6976 - val_loss: 0.5656 - val_acc: 0.7000\n",
      "\n",
      "Epoch 00006: val_acc improved from 0.67600 to 0.70000, saving model to /tmp/elmo_15.h5\n",
      "Epoch 7/40\n",
      "4500/4500 [==============================] - 3s 575us/step - loss: 0.5547 - acc: 0.7229 - val_loss: 0.5508 - val_acc: 0.7120\n",
      "\n",
      "Epoch 00007: val_acc improved from 0.70000 to 0.71200, saving model to /tmp/elmo_15.h5\n",
      "Epoch 8/40\n",
      "4500/4500 [==============================] - 3s 575us/step - loss: 0.5438 - acc: 0.7313 - val_loss: 0.5392 - val_acc: 0.7180\n",
      "\n",
      "Epoch 00008: val_acc improved from 0.71200 to 0.71800, saving model to /tmp/elmo_15.h5\n",
      "Epoch 9/40\n",
      "4500/4500 [==============================] - 3s 568us/step - loss: 0.5340 - acc: 0.7411 - val_loss: 0.5193 - val_acc: 0.7480\n",
      "\n",
      "Epoch 00009: val_acc improved from 0.71800 to 0.74800, saving model to /tmp/elmo_15.h5\n",
      "Epoch 10/40\n",
      "4500/4500 [==============================] - 3s 579us/step - loss: 0.5212 - acc: 0.7489 - val_loss: 0.5111 - val_acc: 0.7560\n",
      "\n",
      "Epoch 00010: val_acc improved from 0.74800 to 0.75600, saving model to /tmp/elmo_15.h5\n",
      "Epoch 11/40\n",
      "4500/4500 [==============================] - 3s 574us/step - loss: 0.5108 - acc: 0.7564 - val_loss: 0.5026 - val_acc: 0.7640\n",
      "\n",
      "Epoch 00011: val_acc improved from 0.75600 to 0.76400, saving model to /tmp/elmo_15.h5\n",
      "Epoch 12/40\n",
      "4500/4500 [==============================] - 3s 581us/step - loss: 0.5033 - acc: 0.7638 - val_loss: 0.4943 - val_acc: 0.7700\n",
      "\n",
      "Epoch 00012: val_acc improved from 0.76400 to 0.77000, saving model to /tmp/elmo_15.h5\n",
      "Epoch 13/40\n",
      "4500/4500 [==============================] - 3s 577us/step - loss: 0.4983 - acc: 0.7704 - val_loss: 0.4878 - val_acc: 0.7740\n",
      "\n",
      "Epoch 00013: val_acc improved from 0.77000 to 0.77400, saving model to /tmp/elmo_15.h5\n",
      "Epoch 14/40\n",
      "4500/4500 [==============================] - 3s 571us/step - loss: 0.4912 - acc: 0.7649 - val_loss: 0.4786 - val_acc: 0.7760\n",
      "\n",
      "Epoch 00014: val_acc improved from 0.77400 to 0.77600, saving model to /tmp/elmo_15.h5\n",
      "Epoch 15/40\n",
      "4500/4500 [==============================] - 3s 571us/step - loss: 0.4939 - acc: 0.7656 - val_loss: 0.4824 - val_acc: 0.7740\n",
      "\n",
      "Epoch 00015: val_acc did not improve from 0.77600\n",
      "Epoch 16/40\n",
      "4500/4500 [==============================] - 3s 570us/step - loss: 0.4795 - acc: 0.7720 - val_loss: 0.4724 - val_acc: 0.7880\n",
      "\n",
      "Epoch 00016: val_acc improved from 0.77600 to 0.78800, saving model to /tmp/elmo_15.h5\n",
      "Epoch 17/40\n",
      "4500/4500 [==============================] - 3s 574us/step - loss: 0.4735 - acc: 0.7807 - val_loss: 0.4712 - val_acc: 0.7720\n",
      "\n",
      "Epoch 00017: val_acc did not improve from 0.78800\n",
      "Epoch 18/40\n",
      "4500/4500 [==============================] - 3s 573us/step - loss: 0.4622 - acc: 0.7978 - val_loss: 0.4634 - val_acc: 0.7820\n",
      "\n",
      "Epoch 00018: val_acc did not improve from 0.78800\n",
      "Epoch 19/40\n",
      "4500/4500 [==============================] - 3s 566us/step - loss: 0.4641 - acc: 0.7887 - val_loss: 0.4617 - val_acc: 0.7900\n",
      "\n",
      "Epoch 00019: val_acc improved from 0.78800 to 0.79000, saving model to /tmp/elmo_15.h5\n",
      "Epoch 20/40\n",
      "4500/4500 [==============================] - 3s 565us/step - loss: 0.4548 - acc: 0.7951 - val_loss: 0.4604 - val_acc: 0.7940\n",
      "\n",
      "Epoch 00020: val_acc improved from 0.79000 to 0.79400, saving model to /tmp/elmo_15.h5\n",
      "Epoch 21/40\n",
      "4500/4500 [==============================] - 3s 575us/step - loss: 0.4516 - acc: 0.7991 - val_loss: 0.4600 - val_acc: 0.7900\n",
      "\n",
      "Epoch 00021: val_acc did not improve from 0.79400\n",
      "Epoch 22/40\n",
      "4500/4500 [==============================] - 3s 573us/step - loss: 0.4500 - acc: 0.7962 - val_loss: 0.4531 - val_acc: 0.8040\n",
      "\n",
      "Epoch 00022: val_acc improved from 0.79400 to 0.80400, saving model to /tmp/elmo_15.h5\n",
      "Epoch 23/40\n",
      "4500/4500 [==============================] - 3s 607us/step - loss: 0.4481 - acc: 0.8038 - val_loss: 0.4513 - val_acc: 0.8060\n",
      "\n",
      "Epoch 00023: val_acc improved from 0.80400 to 0.80600, saving model to /tmp/elmo_15.h5\n",
      "Epoch 24/40\n",
      "4500/4500 [==============================] - 3s 647us/step - loss: 0.4339 - acc: 0.8091 - val_loss: 0.4495 - val_acc: 0.8040\n",
      "\n",
      "Epoch 00024: val_acc did not improve from 0.80600\n",
      "Epoch 25/40\n",
      "4500/4500 [==============================] - 3s 657us/step - loss: 0.4302 - acc: 0.8069 - val_loss: 0.4507 - val_acc: 0.7940\n",
      "\n",
      "Epoch 00025: val_acc did not improve from 0.80600\n",
      "Epoch 26/40\n",
      "4500/4500 [==============================] - 3s 647us/step - loss: 0.4333 - acc: 0.8060 - val_loss: 0.4482 - val_acc: 0.7980\n",
      "\n",
      "Epoch 00026: val_acc did not improve from 0.80600\n",
      "Epoch 27/40\n",
      "4500/4500 [==============================] - 3s 646us/step - loss: 0.4269 - acc: 0.8078 - val_loss: 0.4434 - val_acc: 0.8020\n",
      "\n",
      "Epoch 00027: val_acc did not improve from 0.80600\n",
      "Epoch 28/40\n",
      "4500/4500 [==============================] - 3s 655us/step - loss: 0.4191 - acc: 0.8129 - val_loss: 0.4528 - val_acc: 0.7960\n",
      "\n",
      "Epoch 00028: val_acc did not improve from 0.80600\n",
      "Epoch 29/40\n",
      "4500/4500 [==============================] - 3s 646us/step - loss: 0.4176 - acc: 0.8149 - val_loss: 0.4406 - val_acc: 0.7960\n",
      "\n",
      "Epoch 00029: val_acc did not improve from 0.80600\n",
      "Epoch 30/40\n",
      "4500/4500 [==============================] - 3s 648us/step - loss: 0.4259 - acc: 0.8133 - val_loss: 0.4423 - val_acc: 0.7920\n",
      "\n",
      "Epoch 00030: val_acc did not improve from 0.80600\n",
      "Epoch 31/40\n",
      "4500/4500 [==============================] - 3s 642us/step - loss: 0.4059 - acc: 0.8224 - val_loss: 0.4398 - val_acc: 0.7960\n",
      "\n",
      "Epoch 00031: val_acc did not improve from 0.80600\n",
      "Epoch 32/40\n",
      "4500/4500 [==============================] - 3s 652us/step - loss: 0.4011 - acc: 0.8207 - val_loss: 0.4390 - val_acc: 0.7980\n",
      "\n",
      "Epoch 00032: val_acc did not improve from 0.80600\n",
      "Epoch 33/40\n",
      "4500/4500 [==============================] - 3s 648us/step - loss: 0.4094 - acc: 0.8220 - val_loss: 0.4385 - val_acc: 0.8000\n",
      "\n",
      "Epoch 00033: val_acc did not improve from 0.80600\n",
      "Epoch 34/40\n",
      "4500/4500 [==============================] - 3s 644us/step - loss: 0.4031 - acc: 0.8282 - val_loss: 0.4425 - val_acc: 0.8020\n",
      "\n",
      "Epoch 00034: val_acc did not improve from 0.80600\n",
      "Epoch 35/40\n",
      "4500/4500 [==============================] - 3s 651us/step - loss: 0.3993 - acc: 0.8267 - val_loss: 0.4378 - val_acc: 0.7940\n",
      "\n",
      "Epoch 00035: val_acc did not improve from 0.80600\n",
      "Epoch 36/40\n",
      "4500/4500 [==============================] - 3s 646us/step - loss: 0.3930 - acc: 0.8316 - val_loss: 0.4455 - val_acc: 0.8020\n",
      "\n",
      "Epoch 00036: val_acc did not improve from 0.80600\n",
      "Epoch 37/40\n",
      "4500/4500 [==============================] - 3s 650us/step - loss: 0.3937 - acc: 0.8378 - val_loss: 0.4458 - val_acc: 0.8000\n",
      "\n",
      "Epoch 00037: val_acc did not improve from 0.80600\n",
      "Epoch 38/40\n",
      "4500/4500 [==============================] - 3s 648us/step - loss: 0.3884 - acc: 0.8380 - val_loss: 0.4371 - val_acc: 0.7940\n",
      "\n",
      "Epoch 00038: val_acc did not improve from 0.80600\n",
      "Epoch 39/40\n",
      "4500/4500 [==============================] - 3s 646us/step - loss: 0.3845 - acc: 0.8327 - val_loss: 0.4394 - val_acc: 0.7920\n",
      "\n",
      "Epoch 00039: val_acc did not improve from 0.80600\n",
      "Epoch 40/40\n",
      "4500/4500 [==============================] - 3s 644us/step - loss: 0.3818 - acc: 0.8351 - val_loss: 0.4359 - val_acc: 0.7940\n",
      "\n",
      "Epoch 00040: val_acc did not improve from 0.80600\n"
     ]
    }
   ],
   "source": [
    "from keras.callbacks import ModelCheckpoint, BaseLogger\n",
    "\n",
    "checkpointer = ModelCheckpoint('/tmp/elmo_15.h5', \n",
    "                               save_best_only=True, monitor='val_acc', verbose=1)\n",
    "logger = BaseLogger(['accuracy'])\n",
    "\n",
    "history_callback = model.fit(X_train, y_train, callbacks=[logger, checkpointer], \n",
    "                             validation_data=(X_dev, y_dev), epochs=40, batch_size=32)"
   ]
  },
  {
   "cell_type": "code",
   "execution_count": 7,
   "metadata": {},
   "outputs": [],
   "source": [
    "accuracies = history_callback.history['val_acc']"
   ]
  },
  {
   "cell_type": "code",
   "execution_count": 8,
   "metadata": {},
   "outputs": [
    {
     "data": {
      "text/plain": [
       "0.8060000004768372"
      ]
     },
     "execution_count": 8,
     "metadata": {},
     "output_type": "execute_result"
    }
   ],
   "source": [
    "max(accuracies)"
   ]
  },
  {
   "cell_type": "code",
   "execution_count": 9,
   "metadata": {},
   "outputs": [
    {
     "name": "stderr",
     "output_type": "stream",
     "text": [
      "2019-01-20 16:31:51,768 INFO: 8 batches, avg len: 62.0\n"
     ]
    },
    {
     "name": "stdout",
     "output_type": "stream",
     "text": [
      "500/500 [==============================] - 0s 274us/step\n"
     ]
    },
    {
     "name": "stderr",
     "output_type": "stream",
     "text": [
      "2019-01-20 16:31:55,245 INFO: 8 batches, avg len: 62.0\n"
     ]
    },
    {
     "name": "stdout",
     "output_type": "stream",
     "text": [
      "Loss        : 0.4513\n",
      "Accuracy    : 0.8060\n",
      "Precision   : 0.7990\n",
      "Recall      : 0.7523\n",
      "F1          : 0.7749\n"
     ]
    }
   ],
   "source": [
    "from hate.utils import print_evaluation\n",
    "\n",
    "model.load_weights(checkpointer.filepath)\n",
    "\n",
    "print_evaluation(model, X_dev, y_dev)"
   ]
  },
  {
   "cell_type": "markdown",
   "metadata": {},
   "source": [
    "## Submission"
   ]
  },
  {
   "cell_type": "code",
   "execution_count": 17,
   "metadata": {},
   "outputs": [
    {
     "name": "stderr",
     "output_type": "stream",
     "text": [
      "2019-01-20 16:34:25,682 INFO: 25 batches, avg len: 62.0\n",
      "2019-01-20 16:34:30,822 INFO: Finished 1000 sentences.\n",
      "2019-01-20 16:34:35,083 INFO: 8 batches, avg len: 62.0\n"
     ]
    }
   ],
   "source": [
    "df_test[\"preds\"] = (model.predict(df_test[\"text\"]) >= 0.5).astype(int)\n",
    "df_dev[\"preds\"] = (model.predict(df_dev[\"text\"]) >= 0.5).astype(int)"
   ]
  },
  {
   "cell_type": "code",
   "execution_count": null,
   "metadata": {},
   "outputs": [],
   "source": [
    "\n",
    "dev_submission = \"../../../submissions/dev/15_elmo.tsv\" \n",
    "\n",
    "df_test.to_csv(\"../../../submissions/15_elmo.tsv\", columns=[\"id\", \"preds\"], \n",
    "              sep='\\t', quoting=csv.QUOTE_NONE, header=False)\n"
   ]
  },
  {
   "cell_type": "code",
   "execution_count": 40,
   "metadata": {},
   "outputs": [],
   "source": [
    "i, r = list(df_test.iterrows())[0]"
   ]
  },
  {
   "cell_type": "code",
   "execution_count": 48,
   "metadata": {},
   "outputs": [],
   "source": [
    "\n",
    "with open('es_a.tsv', 'w') as f:\n",
    "    for i, row in df_test.iterrows():\n",
    "        f.write('{}\\t{}\\n'.format(i, row[\"preds\"]))\n"
   ]
  },
  {
   "cell_type": "code",
   "execution_count": 49,
   "metadata": {},
   "outputs": [],
   "source": [
    "!cp es_a.tsv ../../../submissions/15_elmo.tsv"
   ]
  },
  {
   "cell_type": "code",
   "execution_count": 50,
   "metadata": {},
   "outputs": [],
   "source": [
    "import zipfile\n",
    "\n",
    "with zipfile.ZipFile(\"es_a.tsv.zip\", 'w') as f:\n",
    "    f.write('es_a.tsv')\n"
   ]
  }
 ],
 "metadata": {
  "kernelspec": {
   "display_name": "Python 3",
   "language": "python",
   "name": "python3"
  },
  "language_info": {
   "codemirror_mode": {
    "name": "ipython",
    "version": 3
   },
   "file_extension": ".py",
   "mimetype": "text/x-python",
   "name": "python",
   "nbconvert_exporter": "python",
   "pygments_lexer": "ipython3",
   "version": "3.6.5"
  }
 },
 "nbformat": 4,
 "nbformat_minor": 2
}
