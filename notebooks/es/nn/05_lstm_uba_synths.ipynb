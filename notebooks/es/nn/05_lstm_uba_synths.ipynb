{
 "cells": [
  {
   "cell_type": "markdown",
   "metadata": {},
   "source": [
    "# LSTM con embeddings + double translated\n",
    "\n",
    "Modelo básico con los embeddings de fasttext"
   ]
  },
  {
   "cell_type": "code",
   "execution_count": 1,
   "metadata": {},
   "outputs": [
    {
     "name": "stdout",
     "output_type": "stream",
     "text": [
      "Instancias de entrenamiento: 4500\n",
      "Instancias de desarrollo: 500\n",
      "Instancias de test: 1600\n"
     ]
    }
   ],
   "source": [
    "%load_ext autoreload\n",
    "%autoreload 2\n",
    "%matplotlib inline\n",
    "import pandas as pd\n",
    "import csv\n",
    "import numpy as np\n",
    "import tensorflow as tf\n",
    "import random\n",
    "\n",
    "np.random.seed(2019)\n",
    "tf.random.set_random_seed(2019)\n",
    "random.seed(2019)\n",
    "\n",
    "df_dev = pd.read_table(\"../../../data/es/dev_es.tsv\", index_col=\"id\", quoting=csv.QUOTE_NONE)\n",
    "df_train = pd.read_table(\"../../../data/es/train_es.tsv\", index_col=\"id\", quoting=csv.QUOTE_NONE)\n",
    "df_test = pd.read_table(\"../../../data/es/reference_es.tsv\", header=None, \n",
    "                        names=[\"text\", \"HS\", \"TR\", \"AG\"], quoting=csv.QUOTE_NONE)\n",
    "\n",
    "\n",
    "text_train, y_train = df_train[\"text\"], df_train[\"HS\"]\n",
    "text_dev, y_dev = df_dev[\"text\"], df_dev[\"HS\"]\n",
    "text_test, y_test = df_test[\"text\"], df_test[\"HS\"]\n",
    "\n",
    "print(\"Instancias de entrenamiento: {}\".format(len(df_train)))\n",
    "print(\"Instancias de desarrollo: {}\".format(len(df_dev)))\n",
    "print(\"Instancias de test: {}\".format(len(df_test)))"
   ]
  },
  {
   "cell_type": "code",
   "execution_count": 2,
   "metadata": {},
   "outputs": [],
   "source": [
    "train_synth_en = pd.read_table(\"../../../data/es/train_es.synth.en.tsv\", index_col=\"id\", quoting=csv.QUOTE_NONE)\n",
    "train_synth_fr = pd.read_table(\"../../../data/es/train_es.synth.fr.tsv\", index_col=\"id\", quoting=csv.QUOTE_NONE)\n",
    "\n",
    "text_train_synth_en, y_train_synth_en = train_synth_en[\"text\"], train_synth_en[\"HS\"]\n",
    "text_train_synth_fr, y_train_synth_fr = train_synth_fr[\"text\"], train_synth_fr[\"HS\"]"
   ]
  },
  {
   "cell_type": "markdown",
   "metadata": {},
   "source": [
    "Tengo que hacer dos cosas:\n",
    "\n",
    "- Primero, convertir los tweets a secuencias de texto\n",
    "- Luego, paddear las secuencias a cierta longitud (Keras necesita esto para poder paralelizar cálculo)"
   ]
  },
  {
   "cell_type": "code",
   "execution_count": 3,
   "metadata": {},
   "outputs": [
    {
     "name": "stderr",
     "output_type": "stream",
     "text": [
      "Using TensorFlow backend.\n"
     ]
    }
   ],
   "source": [
    "from keras.preprocessing.text import Tokenizer\n",
    "from keras.preprocessing.sequence import pad_sequences\n",
    "\n",
    "num_words = 200000\n",
    "\n",
    "tokenizer = Tokenizer(num_words=num_words)\n",
    "tokenizer.fit_on_texts(text_train)\n",
    "\n",
    "X_train = tokenizer.texts_to_sequences(text_train)\n",
    "X_dev = tokenizer.texts_to_sequences(text_dev)\n",
    "X_test = tokenizer.texts_to_sequences(text_test)\n",
    "X_train_synth_en = tokenizer.texts_to_sequences(text_train_synth_en)\n",
    "X_train_synth_fr = tokenizer.texts_to_sequences(text_train_synth_fr)\n",
    "\n",
    "max_length = 30\n",
    "\n",
    "X_train = pad_sequences(X_train, max_length)\n",
    "X_dev = pad_sequences(X_dev, max_length)\n",
    "X_test = pad_sequences(X_test, max_length)\n",
    "X_train_synth_en = pad_sequences(X_train_synth_en, max_length)\n",
    "X_train_synth_fr = pad_sequences(X_train_synth_fr, max_length)"
   ]
  },
  {
   "cell_type": "markdown",
   "metadata": {},
   "source": [
    "Carguemos embeddings"
   ]
  },
  {
   "cell_type": "code",
   "execution_count": 4,
   "metadata": {},
   "outputs": [
    {
     "name": "stdout",
     "output_type": "stream",
     "text": [
      "Available embeddings:  ['/home/jmperez/WordVectors/UBA_w5_200.vec', '/home/jmperez/WordVectors/wiki.es.vec', '/home/jmperez/WordVectors/UBA_w5_300.vec']\n"
     ]
    }
   ],
   "source": [
    "import os\n",
    "from glob import glob\n",
    "\n",
    "path_to_embeddings = os.path.expanduser(\"~/WordVectors/\")\n",
    "\n",
    "print(\"Available embeddings: \", glob(os.path.join(path_to_embeddings, \"*.vec\")))"
   ]
  },
  {
   "cell_type": "markdown",
   "metadata": {},
   "source": [
    "# Twitter Embeddings"
   ]
  },
  {
   "cell_type": "code",
   "execution_count": 5,
   "metadata": {},
   "outputs": [
    {
     "name": "stdout",
     "output_type": "stream",
     "text": [
      "********************************************************************************\n",
      "********************************************************************************\n",
      "********************************************************************************\n",
      "\n",
      "Problema con la sig línea:\n",
      "['.', '.', '-0.22232', '0.0052569', '0.47066', '0.13836', '0.15991', '0.19504', '0.00067885', '0.020299']\n",
      "********************************************************************************\n",
      "********************************************************************************\n",
      "********************************************************************************\n",
      "\n",
      "Problema con la sig línea:\n",
      "['.', '...', '-0.11666', '-0.083768', '0.028919', '0.29973', '0.21017', '0.27808', '0.063251', '0.090223']\n",
      "********************************************************************************\n",
      "********************************************************************************\n",
      "********************************************************************************\n",
      "\n",
      "Problema con la sig línea:\n",
      "['.', '..', '-0.43752', '-0.0016885', '0.1533', '0.28071', '0.18051', '0.28698', '0.11806', '0.044891']\n"
     ]
    }
   ],
   "source": [
    "import numpy as np\n",
    "\n",
    "word_to_vec = {}\n",
    "\n",
    "with open(os.path.join(path_to_embeddings, \"UBA_w5_300.vec\")) as f:\n",
    "    for line in f:\n",
    "        values = line.split()\n",
    "        word = values[0]\n",
    "        try:\n",
    "            vec = np.asarray(values[1:], dtype=\"float32\")\n",
    "        except:\n",
    "            print((\"*\" * 80  + \"\\n\")*3)\n",
    "            print(\"Problema con la sig línea:\")\n",
    "            print(values[:10])\n",
    "            word = values[1]\n",
    "            vec = np.asarray(values[2:], dtype=\"float32\")\n",
    "        word_to_vec[word] = vec\n",
    "        \n",
    "embedding_size = len(word_to_vec[\"hola\"])"
   ]
  },
  {
   "cell_type": "code",
   "execution_count": 6,
   "metadata": {},
   "outputs": [],
   "source": [
    "# create a weight matrix for words in training docs\n",
    "embedding_matrix = np.zeros((num_words, embedding_size))\n",
    "for word, i in tokenizer.word_index.items():\n",
    "    embedding_vector = word_to_vec.get(word)\n",
    "    if embedding_vector is not None:\n",
    "        embedding_matrix[i] = embedding_vector"
   ]
  },
  {
   "cell_type": "code",
   "execution_count": 7,
   "metadata": {},
   "outputs": [
    {
     "data": {
      "text/plain": [
       "(200000, 300)"
      ]
     },
     "execution_count": 7,
     "metadata": {},
     "output_type": "execute_result"
    }
   ],
   "source": [
    "embedding_matrix.shape"
   ]
  },
  {
   "cell_type": "markdown",
   "metadata": {},
   "source": [
    "# Sin Synths\n"
   ]
  },
  {
   "cell_type": "code",
   "execution_count": 8,
   "metadata": {},
   "outputs": [
    {
     "name": "stdout",
     "output_type": "stream",
     "text": [
      "WARNING:tensorflow:Variable *= will be deprecated. Use `var.assign(var * other)` if you want assignment to the variable value or `x = x * y` if you want a new python Tensor object.\n",
      "Train on 4500 samples, validate on 500 samples\n",
      "Epoch 1/20\n",
      "4500/4500 [==============================] - 2s 543us/step - loss: 0.6361 - acc: 0.6531 - val_loss: 0.5991 - val_acc: 0.6780\n",
      "Epoch 2/20\n",
      "4500/4500 [==============================] - 1s 279us/step - loss: 0.5516 - acc: 0.7267 - val_loss: 0.5550 - val_acc: 0.7120\n",
      "Epoch 3/20\n",
      "4500/4500 [==============================] - 1s 283us/step - loss: 0.5114 - acc: 0.7531 - val_loss: 0.5430 - val_acc: 0.7380\n",
      "Epoch 4/20\n",
      "4500/4500 [==============================] - 1s 283us/step - loss: 0.4908 - acc: 0.7669 - val_loss: 0.5342 - val_acc: 0.7560\n",
      "Epoch 5/20\n",
      "4500/4500 [==============================] - 1s 283us/step - loss: 0.4714 - acc: 0.7809 - val_loss: 0.5358 - val_acc: 0.7520\n",
      "Epoch 6/20\n",
      "4500/4500 [==============================] - 1s 286us/step - loss: 0.4552 - acc: 0.7887 - val_loss: 0.5330 - val_acc: 0.7380\n",
      "Epoch 7/20\n",
      "4500/4500 [==============================] - 1s 283us/step - loss: 0.4425 - acc: 0.8031 - val_loss: 0.5412 - val_acc: 0.7360\n",
      "Epoch 8/20\n",
      "4500/4500 [==============================] - 1s 284us/step - loss: 0.4337 - acc: 0.7982 - val_loss: 0.5283 - val_acc: 0.7480\n",
      "Epoch 9/20\n",
      "4500/4500 [==============================] - 1s 287us/step - loss: 0.4220 - acc: 0.8096 - val_loss: 0.5246 - val_acc: 0.7640\n",
      "Epoch 10/20\n",
      "4500/4500 [==============================] - 1s 283us/step - loss: 0.4117 - acc: 0.8140 - val_loss: 0.5204 - val_acc: 0.7680\n",
      "Epoch 11/20\n",
      "4500/4500 [==============================] - 1s 287us/step - loss: 0.4011 - acc: 0.8209 - val_loss: 0.5142 - val_acc: 0.7620\n",
      "Epoch 12/20\n",
      "4500/4500 [==============================] - 1s 283us/step - loss: 0.3910 - acc: 0.8278 - val_loss: 0.5195 - val_acc: 0.7740\n",
      "Epoch 13/20\n",
      "4500/4500 [==============================] - 1s 277us/step - loss: 0.3873 - acc: 0.8333 - val_loss: 0.5247 - val_acc: 0.7640\n",
      "Epoch 14/20\n",
      "4500/4500 [==============================] - 1s 282us/step - loss: 0.3773 - acc: 0.8329 - val_loss: 0.5259 - val_acc: 0.7700\n",
      "Epoch 15/20\n",
      "4500/4500 [==============================] - 1s 283us/step - loss: 0.3710 - acc: 0.8413 - val_loss: 0.5394 - val_acc: 0.7680\n",
      "Epoch 16/20\n",
      "4500/4500 [==============================] - 1s 284us/step - loss: 0.3643 - acc: 0.8344 - val_loss: 0.5287 - val_acc: 0.7740\n",
      "Epoch 17/20\n",
      "4500/4500 [==============================] - 1s 284us/step - loss: 0.3573 - acc: 0.8416 - val_loss: 0.5357 - val_acc: 0.7760\n",
      "Epoch 18/20\n",
      "4500/4500 [==============================] - 1s 284us/step - loss: 0.3540 - acc: 0.8467 - val_loss: 0.5345 - val_acc: 0.7760\n",
      "Epoch 19/20\n",
      "4500/4500 [==============================] - 1s 282us/step - loss: 0.3460 - acc: 0.8480 - val_loss: 0.5479 - val_acc: 0.7700\n",
      "Epoch 20/20\n",
      "4500/4500 [==============================] - 1s 281us/step - loss: 0.3429 - acc: 0.8489 - val_loss: 0.5440 - val_acc: 0.7760\n"
     ]
    },
    {
     "data": {
      "text/plain": [
       "<keras.callbacks.History at 0x7f1b1719ae10>"
      ]
     },
     "execution_count": 8,
     "metadata": {},
     "output_type": "execute_result"
    }
   ],
   "source": [
    "from keras.models import Sequential\n",
    "from keras.layers import Dense\n",
    "from keras.layers import CuDNNLSTM, Dropout, Conv1D, Flatten\n",
    "from keras.layers.embeddings import Embedding\n",
    "from keras.preprocessing import sequence\n",
    "from keras.optimizers import Adam\n",
    "\n",
    "model = Sequential()\n",
    "model.add(Embedding(num_words, embedding_size, input_length=max_length, \n",
    "                    weights=[embedding_matrix], trainable=False))\n",
    "model.add(CuDNNLSTM(100, return_sequences=False))\n",
    "model.add(Dropout(0.5))\n",
    "model.add(Dense(128, activation='relu'))\n",
    "model.add(Dropout(0.25))\n",
    "model.add(Dense(1, activation='sigmoid'))\n",
    "\n",
    "optimizer_args = {\n",
    "    \"lr\": 0.001,\n",
    "    \"decay\": 0.01\n",
    "}\n",
    "model.compile(loss='binary_crossentropy', \n",
    "              optimizer=Adam(**optimizer_args), \n",
    "              metrics=['accuracy'])\n",
    "model.fit(X_train, y_train, validation_data=(X_dev, y_dev), epochs=20, batch_size=32)\n"
   ]
  },
  {
   "cell_type": "code",
   "execution_count": null,
   "metadata": {},
   "outputs": [],
   "source": []
  },
  {
   "cell_type": "code",
   "execution_count": 9,
   "metadata": {},
   "outputs": [
    {
     "name": "stdout",
     "output_type": "stream",
     "text": [
      "Evaluación sobre dev\n",
      "500/500 [==============================] - 0s 98us/step\n",
      "Loss           : 0.5440\n",
      "Accuracy       : 0.7760\n",
      "Precision(1)   : 0.7273\n",
      "Precision(1)   : 0.8217\n",
      "Precision(avg) : 0.7745\n",
      "\n",
      "Recall(1)      : 0.7928\n",
      "Recall(0)      : 0.7626\n",
      "Recall(avg)    : 0.7777\n",
      "\n",
      "F1(1)          : 0.7586\n",
      "F1(0)          : 0.7910\n",
      "F1(avg)        : 0.7748\n",
      "\n",
      "\n",
      "Evaluación sobre test\n",
      "1600/1600 [==============================] - 0s 107us/step\n",
      "Loss           : 0.6801\n",
      "Accuracy       : 0.6875\n",
      "Precision(1)   : 0.5973\n",
      "Precision(1)   : 0.7828\n",
      "Precision(avg) : 0.6900\n",
      "\n",
      "Recall(1)      : 0.7439\n",
      "Recall(0)      : 0.6479\n",
      "Recall(avg)    : 0.6959\n",
      "\n",
      "F1(1)          : 0.6626\n",
      "F1(0)          : 0.7090\n",
      "F1(avg)        : 0.6858\n"
     ]
    }
   ],
   "source": [
    "from hate.utils import print_evaluation\n",
    "\n",
    "print(\"Evaluación sobre dev\")\n",
    "print_evaluation(model, X_dev, y_dev)\n",
    "print(\"\\n\\nEvaluación sobre test\")\n",
    "print_evaluation(model, X_test, y_test)\n",
    "\n"
   ]
  },
  {
   "cell_type": "markdown",
   "metadata": {},
   "source": [
    "## Usando los synths generados de entrenamiento (sólo inglés)"
   ]
  },
  {
   "cell_type": "code",
   "execution_count": 10,
   "metadata": {},
   "outputs": [],
   "source": [
    "\n",
    "X_tr = np.vstack((X_train, X_train_synth_en))\n",
    "y_tr = np.vstack((y_train.values.reshape(-1, 1), \n",
    "                  y_train_synth_en.values.reshape(-1, 1),\n",
    "))"
   ]
  },
  {
   "cell_type": "code",
   "execution_count": 11,
   "metadata": {},
   "outputs": [
    {
     "name": "stdout",
     "output_type": "stream",
     "text": [
      "Train on 5991 samples, validate on 500 samples\n",
      "Epoch 1/20\n",
      "5991/5991 [==============================] - 2s 342us/step - loss: 0.6181 - acc: 0.6740 - val_loss: 0.6634 - val_acc: 0.6440\n",
      "Epoch 2/20\n",
      "5991/5991 [==============================] - 2s 289us/step - loss: 0.5347 - acc: 0.7518 - val_loss: 0.5452 - val_acc: 0.7320\n",
      "Epoch 3/20\n",
      "5991/5991 [==============================] - 2s 279us/step - loss: 0.5043 - acc: 0.7640 - val_loss: 0.5359 - val_acc: 0.7420\n",
      "Epoch 4/20\n",
      "5991/5991 [==============================] - 2s 280us/step - loss: 0.4863 - acc: 0.7748 - val_loss: 0.5315 - val_acc: 0.7400\n",
      "Epoch 5/20\n",
      "5991/5991 [==============================] - 2s 285us/step - loss: 0.4791 - acc: 0.7875 - val_loss: 0.5253 - val_acc: 0.7460\n",
      "Epoch 6/20\n",
      "5991/5991 [==============================] - 2s 280us/step - loss: 0.4589 - acc: 0.7904 - val_loss: 0.5255 - val_acc: 0.7680\n",
      "Epoch 7/20\n",
      "5991/5991 [==============================] - 2s 283us/step - loss: 0.4490 - acc: 0.7997 - val_loss: 0.5441 - val_acc: 0.7320\n",
      "Epoch 8/20\n",
      "5991/5991 [==============================] - 2s 278us/step - loss: 0.4427 - acc: 0.7985 - val_loss: 0.5260 - val_acc: 0.7580\n",
      "Epoch 9/20\n",
      "5991/5991 [==============================] - 2s 281us/step - loss: 0.4301 - acc: 0.8070 - val_loss: 0.5185 - val_acc: 0.7560\n",
      "Epoch 10/20\n",
      "5991/5991 [==============================] - 2s 279us/step - loss: 0.4256 - acc: 0.8080 - val_loss: 0.5090 - val_acc: 0.7760\n",
      "Epoch 11/20\n",
      "5991/5991 [==============================] - 2s 284us/step - loss: 0.4165 - acc: 0.8176 - val_loss: 0.5204 - val_acc: 0.7720\n",
      "Epoch 12/20\n",
      "5991/5991 [==============================] - 2s 279us/step - loss: 0.4067 - acc: 0.8191 - val_loss: 0.5193 - val_acc: 0.7780\n",
      "Epoch 13/20\n",
      "5991/5991 [==============================] - 2s 281us/step - loss: 0.4024 - acc: 0.8206 - val_loss: 0.5161 - val_acc: 0.7680\n",
      "Epoch 14/20\n",
      "5991/5991 [==============================] - 2s 284us/step - loss: 0.4013 - acc: 0.8219 - val_loss: 0.5178 - val_acc: 0.7820\n",
      "Epoch 15/20\n",
      "5991/5991 [==============================] - 2s 279us/step - loss: 0.3982 - acc: 0.8297 - val_loss: 0.5190 - val_acc: 0.7780\n",
      "Epoch 16/20\n",
      "5991/5991 [==============================] - 2s 283us/step - loss: 0.3883 - acc: 0.8251 - val_loss: 0.5164 - val_acc: 0.7740\n",
      "Epoch 17/20\n",
      "5991/5991 [==============================] - 2s 282us/step - loss: 0.3834 - acc: 0.8363 - val_loss: 0.5132 - val_acc: 0.7760\n",
      "Epoch 18/20\n",
      "5991/5991 [==============================] - 2s 281us/step - loss: 0.3799 - acc: 0.8297 - val_loss: 0.5177 - val_acc: 0.7720\n",
      "Epoch 19/20\n",
      "5991/5991 [==============================] - 2s 286us/step - loss: 0.3743 - acc: 0.8334 - val_loss: 0.5173 - val_acc: 0.7780\n",
      "Epoch 20/20\n",
      "5991/5991 [==============================] - 2s 277us/step - loss: 0.3705 - acc: 0.8381 - val_loss: 0.5189 - val_acc: 0.7700\n"
     ]
    },
    {
     "data": {
      "text/plain": [
       "<keras.callbacks.History at 0x7f1a70336588>"
      ]
     },
     "execution_count": 11,
     "metadata": {},
     "output_type": "execute_result"
    }
   ],
   "source": [
    "from keras.models import Sequential\n",
    "from keras.layers import Dense\n",
    "from keras.layers import LSTM, Dropout, Conv1D, Flatten\n",
    "from keras.layers.embeddings import Embedding\n",
    "from keras.preprocessing import sequence\n",
    "\n",
    "\n",
    "model = Sequential()\n",
    "model.add(Embedding(num_words, embedding_size, input_length=max_length, \n",
    "                    weights=[embedding_matrix], trainable=False))\n",
    "model.add(CuDNNLSTM(100))\n",
    "model.add(Dropout(0.5))\n",
    "model.add(Dense(128, activation='relu'))\n",
    "model.add(Dropout(0.5))\n",
    "model.add(Dense(1, activation='sigmoid'))\n",
    "optimizer_args = {\n",
    "    \"lr\": 0.001,\n",
    "    \"decay\": 0.01\n",
    "}\n",
    "model.compile(loss='binary_crossentropy', \n",
    "              optimizer=Adam(**optimizer_args), \n",
    "              metrics=['accuracy'])\n",
    "model.fit(X_tr, y_tr, \n",
    "          validation_data=(X_dev, y_dev), epochs=20, batch_size=32)\n"
   ]
  },
  {
   "cell_type": "code",
   "execution_count": 12,
   "metadata": {},
   "outputs": [
    {
     "name": "stdout",
     "output_type": "stream",
     "text": [
      "Evaluación sobre dev\n",
      "500/500 [==============================] - 0s 104us/step\n",
      "Loss           : 0.5189\n",
      "Accuracy       : 0.7700\n",
      "Precision(1)   : 0.7257\n",
      "Precision(1)   : 0.8099\n",
      "Precision(avg) : 0.7678\n",
      "\n",
      "Recall(1)      : 0.7748\n",
      "Recall(0)      : 0.7662\n",
      "Recall(avg)    : 0.7705\n",
      "\n",
      "F1(1)          : 0.7495\n",
      "F1(0)          : 0.7874\n",
      "F1(avg)        : 0.7684\n",
      "\n",
      "\n",
      "Evaluación sobre test\n",
      "1600/1600 [==============================] - 0s 108us/step\n",
      "Loss           : 0.6262\n",
      "Accuracy       : 0.6863\n",
      "Precision(1)   : 0.6031\n",
      "Precision(1)   : 0.7626\n",
      "Precision(avg) : 0.6829\n",
      "\n",
      "Recall(1)      : 0.7000\n",
      "Recall(0)      : 0.6766\n",
      "Recall(avg)    : 0.6883\n",
      "\n",
      "F1(1)          : 0.6480\n",
      "F1(0)          : 0.7170\n",
      "F1(avg)        : 0.6825\n"
     ]
    }
   ],
   "source": [
    "from hate.utils import print_evaluation\n",
    "\n",
    "print(\"Evaluación sobre dev\")\n",
    "print_evaluation(model, X_dev, y_dev)\n",
    "print(\"\\n\\nEvaluación sobre test\")\n",
    "print_evaluation(model, X_test, y_test)\n",
    "\n"
   ]
  },
  {
   "cell_type": "markdown",
   "metadata": {},
   "source": [
    "## Usando Inglés + Francés"
   ]
  },
  {
   "cell_type": "code",
   "execution_count": 13,
   "metadata": {},
   "outputs": [],
   "source": [
    "\n",
    "X_tr = np.vstack((X_train, X_train_synth_en, X_train_synth_fr))\n",
    "y_tr = np.vstack((\n",
    "    y_train.values.reshape(-1, 1), \n",
    "    y_train_synth_en.values.reshape(-1, 1),\n",
    "    y_train_synth_fr.values.reshape(-1, 1)\n",
    "))"
   ]
  },
  {
   "cell_type": "code",
   "execution_count": 14,
   "metadata": {},
   "outputs": [
    {
     "name": "stdout",
     "output_type": "stream",
     "text": [
      "Train on 7168 samples, validate on 500 samples\n",
      "Epoch 1/20\n",
      "7168/7168 [==============================] - 3s 362us/step - loss: 0.6036 - acc: 0.6770 - val_loss: 0.5610 - val_acc: 0.7160\n",
      "Epoch 2/20\n",
      "7168/7168 [==============================] - 2s 278us/step - loss: 0.5290 - acc: 0.7480 - val_loss: 0.5332 - val_acc: 0.7320\n",
      "Epoch 3/20\n",
      "7168/7168 [==============================] - 2s 284us/step - loss: 0.5017 - acc: 0.7619 - val_loss: 0.5229 - val_acc: 0.7400\n",
      "Epoch 4/20\n",
      "7168/7168 [==============================] - 2s 280us/step - loss: 0.4846 - acc: 0.7737 - val_loss: 0.5207 - val_acc: 0.7580\n",
      "Epoch 5/20\n",
      "7168/7168 [==============================] - 2s 280us/step - loss: 0.4703 - acc: 0.7822 - val_loss: 0.5139 - val_acc: 0.7640\n",
      "Epoch 6/20\n",
      "7168/7168 [==============================] - 2s 280us/step - loss: 0.4563 - acc: 0.7884 - val_loss: 0.5088 - val_acc: 0.7660\n",
      "Epoch 7/20\n",
      "7168/7168 [==============================] - 2s 279us/step - loss: 0.4451 - acc: 0.7976 - val_loss: 0.5267 - val_acc: 0.7480\n",
      "Epoch 8/20\n",
      "7168/7168 [==============================] - 2s 275us/step - loss: 0.4339 - acc: 0.8044 - val_loss: 0.5046 - val_acc: 0.7720\n",
      "Epoch 9/20\n",
      "7168/7168 [==============================] - 2s 282us/step - loss: 0.4278 - acc: 0.8112 - val_loss: 0.5232 - val_acc: 0.7540\n",
      "Epoch 10/20\n",
      "7168/7168 [==============================] - 2s 279us/step - loss: 0.4183 - acc: 0.8158 - val_loss: 0.5049 - val_acc: 0.7700\n",
      "Epoch 11/20\n",
      "7168/7168 [==============================] - 2s 276us/step - loss: 0.4150 - acc: 0.8181 - val_loss: 0.5061 - val_acc: 0.7760\n",
      "Epoch 12/20\n",
      "7168/7168 [==============================] - 2s 277us/step - loss: 0.4050 - acc: 0.8209 - val_loss: 0.5004 - val_acc: 0.7820\n",
      "Epoch 13/20\n",
      "7168/7168 [==============================] - 2s 281us/step - loss: 0.4010 - acc: 0.8203 - val_loss: 0.5021 - val_acc: 0.7680\n",
      "Epoch 14/20\n",
      "7168/7168 [==============================] - 2s 281us/step - loss: 0.3935 - acc: 0.8278 - val_loss: 0.5035 - val_acc: 0.7680\n",
      "Epoch 15/20\n",
      "7168/7168 [==============================] - 2s 281us/step - loss: 0.3888 - acc: 0.8301 - val_loss: 0.5065 - val_acc: 0.7760\n",
      "Epoch 16/20\n",
      "7168/7168 [==============================] - 2s 283us/step - loss: 0.3859 - acc: 0.8359 - val_loss: 0.5100 - val_acc: 0.7820\n",
      "Epoch 17/20\n",
      "7168/7168 [==============================] - 2s 285us/step - loss: 0.3817 - acc: 0.8324 - val_loss: 0.5077 - val_acc: 0.7720\n",
      "Epoch 18/20\n",
      "7168/7168 [==============================] - 2s 285us/step - loss: 0.3764 - acc: 0.8341 - val_loss: 0.5121 - val_acc: 0.7820\n",
      "Epoch 19/20\n",
      "7168/7168 [==============================] - 2s 278us/step - loss: 0.3748 - acc: 0.8373 - val_loss: 0.5138 - val_acc: 0.7720\n",
      "Epoch 20/20\n",
      "7168/7168 [==============================] - 2s 277us/step - loss: 0.3670 - acc: 0.8397 - val_loss: 0.5086 - val_acc: 0.7760\n"
     ]
    },
    {
     "data": {
      "text/plain": [
       "<keras.callbacks.History at 0x7f19985e9780>"
      ]
     },
     "execution_count": 14,
     "metadata": {},
     "output_type": "execute_result"
    }
   ],
   "source": [
    "\n",
    "model = Sequential()\n",
    "model.add(Embedding(num_words, embedding_size, input_length=max_length, \n",
    "                    weights=[embedding_matrix], trainable=False))\n",
    "model.add(CuDNNLSTM(100))\n",
    "model.add(Dropout(0.5))\n",
    "model.add(Dense(128, activation='relu'))\n",
    "model.add(Dropout(0.5))\n",
    "model.add(Dense(1, activation='sigmoid'))\n",
    "\n",
    "optimizer_args = {\n",
    "    \"lr\": 0.001,\n",
    "    \"decay\": 0.01\n",
    "}\n",
    "model.compile(loss='binary_crossentropy', \n",
    "              optimizer=Adam(**optimizer_args), \n",
    "              metrics=['accuracy'])\n",
    "model.fit(X_tr, y_tr, \n",
    "          validation_data=(X_dev, y_dev), epochs=20, batch_size=32)\n"
   ]
  },
  {
   "cell_type": "code",
   "execution_count": 15,
   "metadata": {},
   "outputs": [
    {
     "name": "stdout",
     "output_type": "stream",
     "text": [
      "Evaluación sobre dev\n",
      "500/500 [==============================] - 0s 109us/step\n",
      "Loss           : 0.5086\n",
      "Accuracy       : 0.7760\n",
      "Precision(1)   : 0.7594\n",
      "Precision(1)   : 0.7882\n",
      "Precision(avg) : 0.7738\n",
      "\n",
      "Recall(1)      : 0.7252\n",
      "Recall(0)      : 0.8165\n",
      "Recall(avg)    : 0.7709\n",
      "\n",
      "F1(1)          : 0.7419\n",
      "F1(0)          : 0.8021\n",
      "F1(avg)        : 0.7720\n",
      "\n",
      "\n",
      "Evaluación sobre test\n",
      "1600/1600 [==============================] - 0s 106us/step\n",
      "Loss           : 0.6264\n",
      "Accuracy       : 0.6963\n",
      "Precision(1)   : 0.6192\n",
      "Precision(1)   : 0.7609\n",
      "Precision(avg) : 0.6900\n",
      "\n",
      "Recall(1)      : 0.6848\n",
      "Recall(0)      : 0.7043\n",
      "Recall(avg)    : 0.6946\n",
      "\n",
      "F1(1)          : 0.6504\n",
      "F1(0)          : 0.7315\n",
      "F1(avg)        : 0.6909\n"
     ]
    }
   ],
   "source": [
    "from hate.utils import print_evaluation\n",
    "\n",
    "print(\"Evaluación sobre dev\")\n",
    "print_evaluation(model, X_dev, y_dev)\n",
    "print(\"\\n\\nEvaluación sobre test\")\n",
    "print_evaluation(model, X_test, y_test)"
   ]
  }
 ],
 "metadata": {
  "kernelspec": {
   "display_name": "Python 3",
   "language": "python",
   "name": "python3"
  },
  "language_info": {
   "codemirror_mode": {
    "name": "ipython",
    "version": 3
   },
   "file_extension": ".py",
   "mimetype": "text/x-python",
   "name": "python",
   "nbconvert_exporter": "python",
   "pygments_lexer": "ipython3",
   "version": "3.6.5"
  }
 },
 "nbformat": 4,
 "nbformat_minor": 2
}
