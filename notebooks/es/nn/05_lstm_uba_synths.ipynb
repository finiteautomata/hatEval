{
 "cells": [
  {
   "cell_type": "markdown",
   "metadata": {},
   "source": [
    "# LSTM con embeddings + double translated\n",
    "\n",
    "Modelo básico con los embeddings de fasttext"
   ]
  },
  {
   "cell_type": "code",
   "execution_count": 1,
   "metadata": {},
   "outputs": [],
   "source": [
    "%load_ext autoreload\n",
    "%autoreload 2\n",
    "%matplotlib inline\n",
    "\n",
    "import pandas as pd\n",
    "df_train = pd.read_table(\"../../../data/es/train_es.tsv\", index_col=\"id\")\n",
    "df_dev = pd.read_table(\"../../../data/es/dev_es.tsv\", index_col=\"id\")\n",
    "\n",
    "text_train, y_train = df_train[\"text\"], df_train[\"HS\"]\n",
    "text_dev, y_dev = df_dev[\"text\"], df_dev[\"HS\"]"
   ]
  },
  {
   "cell_type": "code",
   "execution_count": 2,
   "metadata": {},
   "outputs": [],
   "source": [
    "train_synth_en = pd.read_table(\"../../../data/es/train_es.synth.en.tsv\", index_col=\"id\")\n",
    "train_synth_fr = pd.read_table(\"../../../data/es/train_es.synth.fr.tsv\", index_col=\"id\")\n",
    "\n",
    "text_train_synth_en, y_train_synth_en = train_synth_en[\"text\"], train_synth_en[\"HS\"]\n",
    "text_train_synth_fr, y_train_synth_fr = train_synth_fr[\"text\"], train_synth_fr[\"HS\"]"
   ]
  },
  {
   "cell_type": "markdown",
   "metadata": {},
   "source": [
    "Tengo que hacer dos cosas:\n",
    "\n",
    "- Primero, convertir los tweets a secuencias de texto\n",
    "- Luego, paddear las secuencias a cierta longitud (Keras necesita esto para poder paralelizar cálculo)"
   ]
  },
  {
   "cell_type": "code",
   "execution_count": 3,
   "metadata": {},
   "outputs": [
    {
     "name": "stderr",
     "output_type": "stream",
     "text": [
      "Using TensorFlow backend.\n"
     ]
    }
   ],
   "source": [
    "from keras.preprocessing.text import Tokenizer\n",
    "from keras.preprocessing.sequence import pad_sequences\n",
    "\n",
    "num_words = 200000\n",
    "\n",
    "tokenizer = Tokenizer(num_words=num_words)\n",
    "tokenizer.fit_on_texts(text_train)\n",
    "\n",
    "X_train = tokenizer.texts_to_sequences(text_train)\n",
    "X_dev = tokenizer.texts_to_sequences(text_dev)\n",
    "\n",
    "X_train_synth_en = tokenizer.texts_to_sequences(text_train_synth_en)\n",
    "X_train_synth_fr = tokenizer.texts_to_sequences(text_train_synth_fr)\n",
    "\n",
    "max_length = 30\n",
    "\n",
    "X_train = pad_sequences(X_train, max_length)\n",
    "X_dev = pad_sequences(X_dev, max_length)\n",
    "X_train_synth_en = pad_sequences(X_train_synth_en, max_length)\n",
    "X_train_synth_fr = pad_sequences(X_train_synth_fr, max_length)"
   ]
  },
  {
   "cell_type": "markdown",
   "metadata": {},
   "source": [
    "Carguemos embeddings"
   ]
  },
  {
   "cell_type": "code",
   "execution_count": 4,
   "metadata": {},
   "outputs": [
    {
     "name": "stdout",
     "output_type": "stream",
     "text": [
      "Available embeddings:  ['/home/jmperez/WordVectors/UBA_w5_200.vec', '/home/jmperez/WordVectors/wiki.es.vec', '/home/jmperez/WordVectors/UBA_w5_300.vec']\n"
     ]
    }
   ],
   "source": [
    "import os\n",
    "from glob import glob\n",
    "\n",
    "path_to_embeddings = os.path.expanduser(\"~/WordVectors/\")\n",
    "\n",
    "print(\"Available embeddings: \", glob(os.path.join(path_to_embeddings, \"*.vec\")))"
   ]
  },
  {
   "cell_type": "markdown",
   "metadata": {},
   "source": [
    "# Twitter Embeddings"
   ]
  },
  {
   "cell_type": "code",
   "execution_count": 5,
   "metadata": {},
   "outputs": [
    {
     "name": "stdout",
     "output_type": "stream",
     "text": [
      "********************************************************************************\n",
      "********************************************************************************\n",
      "********************************************************************************\n",
      "\n",
      "Problema con la sig línea:\n",
      "['.', '.', '-0.22232', '0.0052569', '0.47066', '0.13836', '0.15991', '0.19504', '0.00067885', '0.020299']\n",
      "********************************************************************************\n",
      "********************************************************************************\n",
      "********************************************************************************\n",
      "\n",
      "Problema con la sig línea:\n",
      "['.', '...', '-0.11666', '-0.083768', '0.028919', '0.29973', '0.21017', '0.27808', '0.063251', '0.090223']\n",
      "********************************************************************************\n",
      "********************************************************************************\n",
      "********************************************************************************\n",
      "\n",
      "Problema con la sig línea:\n",
      "['.', '..', '-0.43752', '-0.0016885', '0.1533', '0.28071', '0.18051', '0.28698', '0.11806', '0.044891']\n"
     ]
    }
   ],
   "source": [
    "import numpy as np\n",
    "\n",
    "word_to_vec = {}\n",
    "\n",
    "with open(os.path.join(path_to_embeddings, \"UBA_w5_300.vec\")) as f:\n",
    "    for line in f:\n",
    "        values = line.split()\n",
    "        word = values[0]\n",
    "        try:\n",
    "            vec = np.asarray(values[1:], dtype=\"float32\")\n",
    "        except:\n",
    "            print((\"*\" * 80  + \"\\n\")*3)\n",
    "            print(\"Problema con la sig línea:\")\n",
    "            print(values[:10])\n",
    "            word = values[1]\n",
    "            vec = np.asarray(values[2:], dtype=\"float32\")\n",
    "        word_to_vec[word] = vec\n",
    "        \n",
    "embedding_size = len(word_to_vec[\"hola\"])"
   ]
  },
  {
   "cell_type": "code",
   "execution_count": 6,
   "metadata": {},
   "outputs": [],
   "source": [
    "# create a weight matrix for words in training docs\n",
    "embedding_matrix = np.zeros((num_words, embedding_size))\n",
    "for word, i in tokenizer.word_index.items():\n",
    "    embedding_vector = word_to_vec.get(word)\n",
    "    if embedding_vector is not None:\n",
    "        embedding_matrix[i] = embedding_vector"
   ]
  },
  {
   "cell_type": "code",
   "execution_count": 7,
   "metadata": {},
   "outputs": [
    {
     "data": {
      "text/plain": [
       "(200000, 300)"
      ]
     },
     "execution_count": 7,
     "metadata": {},
     "output_type": "execute_result"
    }
   ],
   "source": [
    "embedding_matrix.shape"
   ]
  },
  {
   "cell_type": "markdown",
   "metadata": {},
   "source": [
    "# Sin Synths\n"
   ]
  },
  {
   "cell_type": "code",
   "execution_count": 8,
   "metadata": {},
   "outputs": [
    {
     "name": "stdout",
     "output_type": "stream",
     "text": [
      "Train on 4469 samples, validate on 500 samples\n",
      "Epoch 1/10\n",
      "4469/4469 [==============================] - 8s 2ms/step - loss: 0.6175 - acc: 0.6733 - val_loss: 0.5560 - val_acc: 0.7100\n",
      "Epoch 2/10\n",
      "4469/4469 [==============================] - 7s 2ms/step - loss: 0.5254 - acc: 0.7501 - val_loss: 0.5208 - val_acc: 0.7460\n",
      "Epoch 3/10\n",
      "4469/4469 [==============================] - 7s 2ms/step - loss: 0.4758 - acc: 0.7787 - val_loss: 0.4949 - val_acc: 0.7700\n",
      "Epoch 4/10\n",
      "4469/4469 [==============================] - 7s 2ms/step - loss: 0.4271 - acc: 0.8076 - val_loss: 0.4839 - val_acc: 0.7740\n",
      "Epoch 5/10\n",
      "4469/4469 [==============================] - 7s 2ms/step - loss: 0.3965 - acc: 0.8212 - val_loss: 0.4718 - val_acc: 0.7740\n",
      "Epoch 6/10\n",
      "4469/4469 [==============================] - 7s 2ms/step - loss: 0.3516 - acc: 0.8530 - val_loss: 0.5068 - val_acc: 0.7580\n",
      "Epoch 7/10\n",
      "4469/4469 [==============================] - 7s 2ms/step - loss: 0.3223 - acc: 0.8604 - val_loss: 0.4784 - val_acc: 0.7800\n",
      "Epoch 8/10\n",
      "4469/4469 [==============================] - 7s 2ms/step - loss: 0.2906 - acc: 0.8763 - val_loss: 0.5158 - val_acc: 0.7660\n",
      "Epoch 9/10\n",
      "4469/4469 [==============================] - 7s 2ms/step - loss: 0.2622 - acc: 0.8901 - val_loss: 0.5249 - val_acc: 0.7700\n",
      "Epoch 10/10\n",
      "4469/4469 [==============================] - 6s 1ms/step - loss: 0.2271 - acc: 0.9089 - val_loss: 0.5496 - val_acc: 0.7780\n"
     ]
    },
    {
     "data": {
      "text/plain": [
       "<keras.callbacks.History at 0x7f0b545207b8>"
      ]
     },
     "execution_count": 8,
     "metadata": {},
     "output_type": "execute_result"
    }
   ],
   "source": [
    "from keras.models import Sequential\n",
    "from keras.layers import Dense\n",
    "from keras.layers import LSTM, Dropout, Conv1D, Flatten\n",
    "from keras.layers.embeddings import Embedding\n",
    "from keras.preprocessing import sequence\n",
    "\n",
    "\n",
    "model = Sequential()\n",
    "model.add(Embedding(num_words, embedding_size, input_length=max_length, \n",
    "                    weights=[embedding_matrix], trainable=False))\n",
    "model.add(LSTM(100, return_sequences=False))\n",
    "model.add(Dropout(0.5))\n",
    "model.add(Dense(128, activation='relu'))\n",
    "model.add(Dropout(0.25))\n",
    "model.add(Dense(1, activation='sigmoid'))\n",
    "\n",
    "model.compile(loss='binary_crossentropy', optimizer='adam', metrics=['accuracy'])\n",
    "\n",
    "model.fit(X_train, y_train, validation_data=(X_dev, y_dev), epochs=10, batch_size=32)\n"
   ]
  },
  {
   "cell_type": "code",
   "execution_count": 9,
   "metadata": {},
   "outputs": [
    {
     "name": "stdout",
     "output_type": "stream",
     "text": [
      "500/500 [==============================] - 0s 563us/step\n",
      "Loss        : 0.5496\n",
      "Accuracy    : 0.7780\n",
      "Precision   : 0.7303\n",
      "Recall      : 0.7928\n",
      "F1          : 0.7603\n"
     ]
    }
   ],
   "source": [
    "from hate.utils import print_evaluation\n",
    "\n",
    "print_evaluation(model, X_dev, y_dev.values)"
   ]
  },
  {
   "cell_type": "markdown",
   "metadata": {},
   "source": [
    "## Usando los synths generados de entrenamiento (sólo inglés)"
   ]
  },
  {
   "cell_type": "code",
   "execution_count": 10,
   "metadata": {},
   "outputs": [],
   "source": [
    "\n",
    "X_tr = np.vstack((X_train, X_train_synth_en))\n",
    "y_tr = np.vstack((y_train.values.reshape(-1, 1), \n",
    "                  y_train_synth_en.values.reshape(-1, 1),\n",
    "))"
   ]
  },
  {
   "cell_type": "code",
   "execution_count": 11,
   "metadata": {},
   "outputs": [
    {
     "name": "stdout",
     "output_type": "stream",
     "text": [
      "Train on 5960 samples, validate on 500 samples\n",
      "Epoch 1/10\n",
      "5960/5960 [==============================] - 9s 2ms/step - loss: 0.6267 - acc: 0.6560 - val_loss: 0.5877 - val_acc: 0.6860\n",
      "Epoch 2/10\n",
      "5960/5960 [==============================] - 8s 1ms/step - loss: 0.5377 - acc: 0.7411 - val_loss: 0.5626 - val_acc: 0.7160\n",
      "Epoch 3/10\n",
      "5960/5960 [==============================] - 8s 1ms/step - loss: 0.4915 - acc: 0.7765 - val_loss: 0.5351 - val_acc: 0.7260\n",
      "Epoch 4/10\n",
      "5960/5960 [==============================] - 8s 1ms/step - loss: 0.4452 - acc: 0.8005 - val_loss: 0.4876 - val_acc: 0.7660\n",
      "Epoch 5/10\n",
      "5960/5960 [==============================] - 8s 1ms/step - loss: 0.3961 - acc: 0.8290 - val_loss: 0.4979 - val_acc: 0.7740\n",
      "Epoch 6/10\n",
      "5960/5960 [==============================] - 8s 1ms/step - loss: 0.3558 - acc: 0.8515 - val_loss: 0.5029 - val_acc: 0.7460\n",
      "Epoch 7/10\n",
      "5960/5960 [==============================] - 9s 2ms/step - loss: 0.3110 - acc: 0.8693 - val_loss: 0.5186 - val_acc: 0.7440\n",
      "Epoch 8/10\n",
      "5960/5960 [==============================] - 9s 2ms/step - loss: 0.2789 - acc: 0.8874 - val_loss: 0.5586 - val_acc: 0.7420\n",
      "Epoch 9/10\n",
      "5960/5960 [==============================] - 9s 1ms/step - loss: 0.2314 - acc: 0.9052 - val_loss: 0.5312 - val_acc: 0.7880\n",
      "Epoch 10/10\n",
      "5960/5960 [==============================] - 9s 2ms/step - loss: 0.1892 - acc: 0.9250 - val_loss: 0.6460 - val_acc: 0.7680\n"
     ]
    },
    {
     "data": {
      "text/plain": [
       "<keras.callbacks.History at 0x7f0ba8cf5828>"
      ]
     },
     "execution_count": 11,
     "metadata": {},
     "output_type": "execute_result"
    }
   ],
   "source": [
    "from keras.models import Sequential\n",
    "from keras.layers import Dense\n",
    "from keras.layers import LSTM, Dropout, Conv1D, Flatten\n",
    "from keras.layers.embeddings import Embedding\n",
    "from keras.preprocessing import sequence\n",
    "\n",
    "\n",
    "model = Sequential()\n",
    "model.add(Embedding(num_words, embedding_size, input_length=max_length, \n",
    "                    weights=[embedding_matrix], trainable=False))\n",
    "model.add(LSTM(100))\n",
    "model.add(Dropout(0.5))\n",
    "model.add(Dense(128, activation='relu'))\n",
    "model.add(Dropout(0.5))\n",
    "model.add(Dense(1, activation='sigmoid'))\n",
    "\n",
    "model.compile(loss='binary_crossentropy', optimizer='adam', metrics=['accuracy'])\n",
    "\n",
    "model.fit(X_tr, y_tr, \n",
    "          validation_data=(X_dev, y_dev), epochs=10, batch_size=32)\n"
   ]
  },
  {
   "cell_type": "code",
   "execution_count": 12,
   "metadata": {},
   "outputs": [
    {
     "name": "stdout",
     "output_type": "stream",
     "text": [
      "500/500 [==============================] - 0s 537us/step\n",
      "Loss        : 0.6460\n",
      "Accuracy    : 0.7680\n",
      "Precision   : 0.7624\n",
      "Recall      : 0.6937\n",
      "F1          : 0.7264\n"
     ]
    }
   ],
   "source": [
    "from hate.utils import print_evaluation\n",
    "\n",
    "print_evaluation(model, X_dev, y_dev.values)"
   ]
  },
  {
   "cell_type": "markdown",
   "metadata": {},
   "source": [
    "## Usando Inglés + Francés"
   ]
  },
  {
   "cell_type": "code",
   "execution_count": 13,
   "metadata": {},
   "outputs": [],
   "source": [
    "\n",
    "X_tr = np.vstack((X_train, X_train_synth_en, X_train_synth_fr))\n",
    "y_tr = np.vstack((\n",
    "    y_train.values.reshape(-1, 1), \n",
    "    y_train_synth_en.values.reshape(-1, 1),\n",
    "    y_train_synth_fr.values.reshape(-1, 1)\n",
    "))"
   ]
  },
  {
   "cell_type": "code",
   "execution_count": 14,
   "metadata": {},
   "outputs": [
    {
     "name": "stdout",
     "output_type": "stream",
     "text": [
      "Train on 7137 samples, validate on 500 samples\n",
      "Epoch 1/10\n",
      "7137/7137 [==============================] - 12s 2ms/step - loss: 0.6068 - acc: 0.6821 - val_loss: 0.5458 - val_acc: 0.7220\n",
      "Epoch 2/10\n",
      "7137/7137 [==============================] - 11s 2ms/step - loss: 0.5225 - acc: 0.7516 - val_loss: 0.5244 - val_acc: 0.7780\n",
      "Epoch 3/10\n",
      "7137/7137 [==============================] - 11s 1ms/step - loss: 0.4741 - acc: 0.7817 - val_loss: 0.4965 - val_acc: 0.7580\n",
      "Epoch 4/10\n",
      "7137/7137 [==============================] - 11s 1ms/step - loss: 0.4214 - acc: 0.8082 - val_loss: 0.4973 - val_acc: 0.7480\n",
      "Epoch 5/10\n",
      "7137/7137 [==============================] - 11s 2ms/step - loss: 0.3768 - acc: 0.8349 - val_loss: 0.5049 - val_acc: 0.7860\n",
      "Epoch 6/10\n",
      "7137/7137 [==============================] - 11s 2ms/step - loss: 0.3505 - acc: 0.8491 - val_loss: 0.5036 - val_acc: 0.7440\n",
      "Epoch 7/10\n",
      "7137/7137 [==============================] - 11s 2ms/step - loss: 0.3088 - acc: 0.8675 - val_loss: 0.5239 - val_acc: 0.7520\n",
      "Epoch 8/10\n",
      "7137/7137 [==============================] - 11s 2ms/step - loss: 0.2720 - acc: 0.8894 - val_loss: 0.5565 - val_acc: 0.7500\n",
      "Epoch 9/10\n",
      "7137/7137 [==============================] - 11s 2ms/step - loss: 0.2275 - acc: 0.9092 - val_loss: 0.6766 - val_acc: 0.7620\n",
      "Epoch 10/10\n",
      "7137/7137 [==============================] - 11s 2ms/step - loss: 0.2193 - acc: 0.9133 - val_loss: 0.6197 - val_acc: 0.7460\n"
     ]
    },
    {
     "data": {
      "text/plain": [
       "<keras.callbacks.History at 0x7f0ba744a630>"
      ]
     },
     "execution_count": 14,
     "metadata": {},
     "output_type": "execute_result"
    }
   ],
   "source": [
    "\n",
    "model = Sequential()\n",
    "model.add(Embedding(num_words, embedding_size, input_length=max_length, \n",
    "                    weights=[embedding_matrix], trainable=False))\n",
    "model.add(LSTM(100))\n",
    "model.add(Dropout(0.5))\n",
    "model.add(Dense(128, activation='relu'))\n",
    "model.add(Dropout(0.5))\n",
    "model.add(Dense(1, activation='sigmoid'))\n",
    "\n",
    "model.compile(loss='binary_crossentropy', optimizer='adam', metrics=['accuracy'])\n",
    "\n",
    "model.fit(X_tr, y_tr, \n",
    "          validation_data=(X_dev, y_dev), epochs=10, batch_size=32)\n"
   ]
  },
  {
   "cell_type": "code",
   "execution_count": 15,
   "metadata": {},
   "outputs": [
    {
     "name": "stdout",
     "output_type": "stream",
     "text": [
      "500/500 [==============================] - 0s 587us/step\n",
      "Loss        : 0.6197\n",
      "Accuracy    : 0.7460\n",
      "Precision   : 0.6971\n",
      "Recall      : 0.7568\n",
      "F1          : 0.7257\n"
     ]
    }
   ],
   "source": [
    "from hate.utils import print_evaluation\n",
    "\n",
    "print_evaluation(model, X_dev, y_dev.values)"
   ]
  },
  {
   "cell_type": "code",
   "execution_count": null,
   "metadata": {},
   "outputs": [],
   "source": []
  }
 ],
 "metadata": {
  "kernelspec": {
   "display_name": "Python 3",
   "language": "python",
   "name": "python3"
  },
  "language_info": {
   "codemirror_mode": {
    "name": "ipython",
    "version": 3
   },
   "file_extension": ".py",
   "mimetype": "text/x-python",
   "name": "python",
   "nbconvert_exporter": "python",
   "pygments_lexer": "ipython3",
   "version": "3.6.5"
  }
 },
 "nbformat": 4,
 "nbformat_minor": 2
}
