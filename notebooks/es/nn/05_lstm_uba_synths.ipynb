{
 "cells": [
  {
   "cell_type": "markdown",
   "metadata": {},
   "source": [
    "# LSTM con embeddings + double translated\n",
    "\n",
    "Modelo básico con los embeddings de fasttext"
   ]
  },
  {
   "cell_type": "code",
   "execution_count": 1,
   "metadata": {},
   "outputs": [
    {
     "name": "stdout",
     "output_type": "stream",
     "text": [
      "Instancias de entrenamiento: 4500\n",
      "Instancias de desarrollo: 500\n"
     ]
    }
   ],
   "source": [
    "%load_ext autoreload\n",
    "%autoreload 2\n",
    "%matplotlib inline\n",
    "import pandas as pd\n",
    "import csv\n",
    "\n",
    "df_dev = pd.read_table(\"../../../data/es/dev_es.tsv\", index_col=\"id\", quoting=csv.QUOTE_NONE)\n",
    "df_train = pd.read_table(\"../../../data/es/train_es.tsv\", index_col=\"id\", quoting=csv.QUOTE_NONE)\n",
    "\n",
    "text_train, y_train = df_train[\"text\"], df_train[\"HS\"]\n",
    "text_dev, y_dev = df_dev[\"text\"], df_dev[\"HS\"]\n",
    "\n",
    "print(\"Instancias de entrenamiento: {}\".format(len(df_train)))\n",
    "print(\"Instancias de desarrollo: {}\".format(len(df_dev)))\n"
   ]
  },
  {
   "cell_type": "code",
   "execution_count": 2,
   "metadata": {},
   "outputs": [],
   "source": [
    "train_synth_en = pd.read_table(\"../../../data/es/train_es.synth.en.tsv\", index_col=\"id\", quoting=csv.QUOTE_NONE)\n",
    "train_synth_fr = pd.read_table(\"../../../data/es/train_es.synth.fr.tsv\", index_col=\"id\", quoting=csv.QUOTE_NONE)\n",
    "\n",
    "text_train_synth_en, y_train_synth_en = train_synth_en[\"text\"], train_synth_en[\"HS\"]\n",
    "text_train_synth_fr, y_train_synth_fr = train_synth_fr[\"text\"], train_synth_fr[\"HS\"]"
   ]
  },
  {
   "cell_type": "markdown",
   "metadata": {},
   "source": [
    "Tengo que hacer dos cosas:\n",
    "\n",
    "- Primero, convertir los tweets a secuencias de texto\n",
    "- Luego, paddear las secuencias a cierta longitud (Keras necesita esto para poder paralelizar cálculo)"
   ]
  },
  {
   "cell_type": "code",
   "execution_count": 3,
   "metadata": {},
   "outputs": [
    {
     "name": "stderr",
     "output_type": "stream",
     "text": [
      "Using TensorFlow backend.\n"
     ]
    }
   ],
   "source": [
    "from keras.preprocessing.text import Tokenizer\n",
    "from keras.preprocessing.sequence import pad_sequences\n",
    "\n",
    "num_words = 200000\n",
    "\n",
    "tokenizer = Tokenizer(num_words=num_words)\n",
    "tokenizer.fit_on_texts(text_train)\n",
    "\n",
    "X_train = tokenizer.texts_to_sequences(text_train)\n",
    "X_dev = tokenizer.texts_to_sequences(text_dev)\n",
    "\n",
    "X_train_synth_en = tokenizer.texts_to_sequences(text_train_synth_en)\n",
    "X_train_synth_fr = tokenizer.texts_to_sequences(text_train_synth_fr)\n",
    "\n",
    "max_length = 30\n",
    "\n",
    "X_train = pad_sequences(X_train, max_length)\n",
    "X_dev = pad_sequences(X_dev, max_length)\n",
    "X_train_synth_en = pad_sequences(X_train_synth_en, max_length)\n",
    "X_train_synth_fr = pad_sequences(X_train_synth_fr, max_length)"
   ]
  },
  {
   "cell_type": "markdown",
   "metadata": {},
   "source": [
    "Carguemos embeddings"
   ]
  },
  {
   "cell_type": "code",
   "execution_count": 4,
   "metadata": {},
   "outputs": [
    {
     "name": "stdout",
     "output_type": "stream",
     "text": [
      "Available embeddings:  ['/home/jmperez/WordVectors/UBA_w5_200.vec', '/home/jmperez/WordVectors/wiki.es.vec', '/home/jmperez/WordVectors/UBA_w5_300.vec']\n"
     ]
    }
   ],
   "source": [
    "import os\n",
    "from glob import glob\n",
    "\n",
    "path_to_embeddings = os.path.expanduser(\"~/WordVectors/\")\n",
    "\n",
    "print(\"Available embeddings: \", glob(os.path.join(path_to_embeddings, \"*.vec\")))"
   ]
  },
  {
   "cell_type": "markdown",
   "metadata": {},
   "source": [
    "# Twitter Embeddings"
   ]
  },
  {
   "cell_type": "code",
   "execution_count": 5,
   "metadata": {},
   "outputs": [
    {
     "name": "stdout",
     "output_type": "stream",
     "text": [
      "********************************************************************************\n",
      "********************************************************************************\n",
      "********************************************************************************\n",
      "\n",
      "Problema con la sig línea:\n",
      "['.', '.', '-0.22232', '0.0052569', '0.47066', '0.13836', '0.15991', '0.19504', '0.00067885', '0.020299']\n",
      "********************************************************************************\n",
      "********************************************************************************\n",
      "********************************************************************************\n",
      "\n",
      "Problema con la sig línea:\n",
      "['.', '...', '-0.11666', '-0.083768', '0.028919', '0.29973', '0.21017', '0.27808', '0.063251', '0.090223']\n",
      "********************************************************************************\n",
      "********************************************************************************\n",
      "********************************************************************************\n",
      "\n",
      "Problema con la sig línea:\n",
      "['.', '..', '-0.43752', '-0.0016885', '0.1533', '0.28071', '0.18051', '0.28698', '0.11806', '0.044891']\n"
     ]
    }
   ],
   "source": [
    "import numpy as np\n",
    "\n",
    "word_to_vec = {}\n",
    "\n",
    "with open(os.path.join(path_to_embeddings, \"UBA_w5_300.vec\")) as f:\n",
    "    for line in f:\n",
    "        values = line.split()\n",
    "        word = values[0]\n",
    "        try:\n",
    "            vec = np.asarray(values[1:], dtype=\"float32\")\n",
    "        except:\n",
    "            print((\"*\" * 80  + \"\\n\")*3)\n",
    "            print(\"Problema con la sig línea:\")\n",
    "            print(values[:10])\n",
    "            word = values[1]\n",
    "            vec = np.asarray(values[2:], dtype=\"float32\")\n",
    "        word_to_vec[word] = vec\n",
    "        \n",
    "embedding_size = len(word_to_vec[\"hola\"])"
   ]
  },
  {
   "cell_type": "code",
   "execution_count": 6,
   "metadata": {},
   "outputs": [],
   "source": [
    "# create a weight matrix for words in training docs\n",
    "embedding_matrix = np.zeros((num_words, embedding_size))\n",
    "for word, i in tokenizer.word_index.items():\n",
    "    embedding_vector = word_to_vec.get(word)\n",
    "    if embedding_vector is not None:\n",
    "        embedding_matrix[i] = embedding_vector"
   ]
  },
  {
   "cell_type": "code",
   "execution_count": 7,
   "metadata": {},
   "outputs": [
    {
     "data": {
      "text/plain": [
       "(200000, 300)"
      ]
     },
     "execution_count": 7,
     "metadata": {},
     "output_type": "execute_result"
    }
   ],
   "source": [
    "embedding_matrix.shape"
   ]
  },
  {
   "cell_type": "markdown",
   "metadata": {},
   "source": [
    "# Sin Synths\n"
   ]
  },
  {
   "cell_type": "code",
   "execution_count": 8,
   "metadata": {},
   "outputs": [
    {
     "name": "stdout",
     "output_type": "stream",
     "text": [
      "Train on 4500 samples, validate on 500 samples\n",
      "Epoch 1/20\n",
      "4500/4500 [==============================] - 8s 2ms/step - loss: 0.6210 - acc: 0.6702 - val_loss: 0.5703 - val_acc: 0.7080\n",
      "Epoch 2/20\n",
      "4500/4500 [==============================] - 7s 1ms/step - loss: 0.5394 - acc: 0.7378 - val_loss: 0.5382 - val_acc: 0.7220\n",
      "Epoch 3/20\n",
      "4500/4500 [==============================] - 7s 1ms/step - loss: 0.4974 - acc: 0.7718 - val_loss: 0.5282 - val_acc: 0.7440\n",
      "Epoch 4/20\n",
      "4500/4500 [==============================] - 7s 1ms/step - loss: 0.4783 - acc: 0.7773 - val_loss: 0.5124 - val_acc: 0.7600\n",
      "Epoch 5/20\n",
      "4500/4500 [==============================] - 7s 1ms/step - loss: 0.4574 - acc: 0.7916 - val_loss: 0.5151 - val_acc: 0.7720\n",
      "Epoch 6/20\n",
      "4500/4500 [==============================] - 7s 1ms/step - loss: 0.4452 - acc: 0.8018 - val_loss: 0.5064 - val_acc: 0.7700\n",
      "Epoch 7/20\n",
      "4500/4500 [==============================] - 7s 1ms/step - loss: 0.4302 - acc: 0.8127 - val_loss: 0.5175 - val_acc: 0.7740\n",
      "Epoch 8/20\n",
      "4500/4500 [==============================] - 7s 1ms/step - loss: 0.4176 - acc: 0.8156 - val_loss: 0.5005 - val_acc: 0.7700\n",
      "Epoch 9/20\n",
      "4500/4500 [==============================] - 7s 1ms/step - loss: 0.4071 - acc: 0.8191 - val_loss: 0.5080 - val_acc: 0.7780\n",
      "Epoch 10/20\n",
      "4500/4500 [==============================] - 7s 1ms/step - loss: 0.4010 - acc: 0.8231 - val_loss: 0.5091 - val_acc: 0.7820\n",
      "Epoch 11/20\n",
      "4500/4500 [==============================] - 7s 1ms/step - loss: 0.3892 - acc: 0.8307 - val_loss: 0.5059 - val_acc: 0.7840\n",
      "Epoch 12/20\n",
      "4500/4500 [==============================] - 7s 1ms/step - loss: 0.3807 - acc: 0.8291 - val_loss: 0.5122 - val_acc: 0.7900\n",
      "Epoch 13/20\n",
      "4500/4500 [==============================] - 7s 1ms/step - loss: 0.3726 - acc: 0.8387 - val_loss: 0.5103 - val_acc: 0.7820\n",
      "Epoch 14/20\n",
      "4500/4500 [==============================] - 7s 1ms/step - loss: 0.3679 - acc: 0.8376 - val_loss: 0.5107 - val_acc: 0.7860\n",
      "Epoch 15/20\n",
      "4500/4500 [==============================] - 7s 1ms/step - loss: 0.3605 - acc: 0.8471 - val_loss: 0.5158 - val_acc: 0.7780\n",
      "Epoch 16/20\n",
      "4500/4500 [==============================] - 7s 1ms/step - loss: 0.3544 - acc: 0.8484 - val_loss: 0.5135 - val_acc: 0.7800\n",
      "Epoch 17/20\n",
      "4500/4500 [==============================] - 7s 1ms/step - loss: 0.3525 - acc: 0.8482 - val_loss: 0.5173 - val_acc: 0.7740\n",
      "Epoch 18/20\n",
      "4500/4500 [==============================] - 7s 1ms/step - loss: 0.3511 - acc: 0.8480 - val_loss: 0.5252 - val_acc: 0.7820\n",
      "Epoch 19/20\n",
      "4500/4500 [==============================] - 7s 2ms/step - loss: 0.3424 - acc: 0.8527 - val_loss: 0.5206 - val_acc: 0.7780\n",
      "Epoch 20/20\n",
      "4500/4500 [==============================] - 7s 1ms/step - loss: 0.3384 - acc: 0.8522 - val_loss: 0.5251 - val_acc: 0.7780\n"
     ]
    },
    {
     "data": {
      "text/plain": [
       "<keras.callbacks.History at 0x7f18387b83c8>"
      ]
     },
     "execution_count": 8,
     "metadata": {},
     "output_type": "execute_result"
    }
   ],
   "source": [
    "from keras.models import Sequential\n",
    "from keras.layers import Dense\n",
    "from keras.layers import LSTM, Dropout, Conv1D, Flatten\n",
    "from keras.layers.embeddings import Embedding\n",
    "from keras.preprocessing import sequence\n",
    "from keras.optimizers import Adam\n",
    "\n",
    "model = Sequential()\n",
    "model.add(Embedding(num_words, embedding_size, input_length=max_length, \n",
    "                    weights=[embedding_matrix], trainable=False))\n",
    "model.add(LSTM(100, return_sequences=False))\n",
    "model.add(Dropout(0.5))\n",
    "model.add(Dense(128, activation='relu'))\n",
    "model.add(Dropout(0.25))\n",
    "model.add(Dense(1, activation='sigmoid'))\n",
    "\n",
    "optimizer_args = {\n",
    "    \"lr\": 0.001,\n",
    "    \"decay\": 0.01\n",
    "}\n",
    "model.compile(loss='binary_crossentropy', \n",
    "              optimizer=Adam(**optimizer_args), \n",
    "              metrics=['accuracy'])\n",
    "model.fit(X_train, y_train, validation_data=(X_dev, y_dev), epochs=20, batch_size=32)\n"
   ]
  },
  {
   "cell_type": "code",
   "execution_count": 9,
   "metadata": {},
   "outputs": [
    {
     "name": "stdout",
     "output_type": "stream",
     "text": [
      "500/500 [==============================] - 0s 627us/step\n",
      "Loss        : 0.5251\n",
      "Accuracy    : 0.7780\n",
      "Precision   : 0.7467\n",
      "Recall      : 0.7568\n",
      "F1          : 0.7517\n"
     ]
    }
   ],
   "source": [
    "from hate.utils import print_evaluation\n",
    "\n",
    "print_evaluation(model, X_dev, y_dev.values)"
   ]
  },
  {
   "cell_type": "markdown",
   "metadata": {},
   "source": [
    "## Usando los synths generados de entrenamiento (sólo inglés)"
   ]
  },
  {
   "cell_type": "code",
   "execution_count": 10,
   "metadata": {},
   "outputs": [],
   "source": [
    "\n",
    "X_tr = np.vstack((X_train, X_train_synth_en))\n",
    "y_tr = np.vstack((y_train.values.reshape(-1, 1), \n",
    "                  y_train_synth_en.values.reshape(-1, 1),\n",
    "))"
   ]
  },
  {
   "cell_type": "code",
   "execution_count": 11,
   "metadata": {},
   "outputs": [
    {
     "name": "stdout",
     "output_type": "stream",
     "text": [
      "Train on 5991 samples, validate on 500 samples\n",
      "Epoch 1/20\n",
      "5991/5991 [==============================] - 10s 2ms/step - loss: 0.6176 - acc: 0.6753 - val_loss: 0.5596 - val_acc: 0.7220\n",
      "Epoch 2/20\n",
      "5991/5991 [==============================] - 9s 2ms/step - loss: 0.5335 - acc: 0.7478 - val_loss: 0.5455 - val_acc: 0.7360\n",
      "Epoch 3/20\n",
      "5991/5991 [==============================] - 9s 2ms/step - loss: 0.5026 - acc: 0.7675 - val_loss: 0.5200 - val_acc: 0.7560\n",
      "Epoch 4/20\n",
      "5991/5991 [==============================] - 9s 2ms/step - loss: 0.4820 - acc: 0.7813 - val_loss: 0.5184 - val_acc: 0.7540\n",
      "Epoch 5/20\n",
      "5991/5991 [==============================] - 9s 2ms/step - loss: 0.4668 - acc: 0.7852 - val_loss: 0.5072 - val_acc: 0.7620\n",
      "Epoch 6/20\n",
      "5991/5991 [==============================] - 9s 2ms/step - loss: 0.4555 - acc: 0.7895 - val_loss: 0.5084 - val_acc: 0.7720\n",
      "Epoch 7/20\n",
      "5991/5991 [==============================] - 9s 2ms/step - loss: 0.4470 - acc: 0.8004 - val_loss: 0.5113 - val_acc: 0.7680\n",
      "Epoch 8/20\n",
      "5991/5991 [==============================] - 9s 2ms/step - loss: 0.4408 - acc: 0.7995 - val_loss: 0.5062 - val_acc: 0.7720\n",
      "Epoch 9/20\n",
      "5991/5991 [==============================] - 9s 2ms/step - loss: 0.4346 - acc: 0.8079 - val_loss: 0.5257 - val_acc: 0.7600\n",
      "Epoch 10/20\n",
      "5991/5991 [==============================] - 9s 2ms/step - loss: 0.4260 - acc: 0.8121 - val_loss: 0.5022 - val_acc: 0.7680\n",
      "Epoch 11/20\n",
      "5991/5991 [==============================] - 9s 2ms/step - loss: 0.4173 - acc: 0.8112 - val_loss: 0.5050 - val_acc: 0.7720\n",
      "Epoch 12/20\n",
      "5991/5991 [==============================] - 9s 2ms/step - loss: 0.4152 - acc: 0.8196 - val_loss: 0.5031 - val_acc: 0.7880\n",
      "Epoch 13/20\n",
      "5991/5991 [==============================] - 9s 2ms/step - loss: 0.4100 - acc: 0.8212 - val_loss: 0.5029 - val_acc: 0.7820\n",
      "Epoch 14/20\n",
      "5991/5991 [==============================] - 9s 2ms/step - loss: 0.4085 - acc: 0.8179 - val_loss: 0.5073 - val_acc: 0.7920\n",
      "Epoch 15/20\n",
      "5991/5991 [==============================] - 9s 2ms/step - loss: 0.4010 - acc: 0.8247 - val_loss: 0.5064 - val_acc: 0.7880\n",
      "Epoch 16/20\n",
      "5991/5991 [==============================] - 9s 2ms/step - loss: 0.3967 - acc: 0.8282 - val_loss: 0.5038 - val_acc: 0.7860\n",
      "Epoch 17/20\n",
      "5991/5991 [==============================] - 9s 2ms/step - loss: 0.3931 - acc: 0.8297 - val_loss: 0.5058 - val_acc: 0.7860\n",
      "Epoch 18/20\n",
      "5991/5991 [==============================] - 9s 2ms/step - loss: 0.3883 - acc: 0.8366 - val_loss: 0.5097 - val_acc: 0.7840\n",
      "Epoch 19/20\n",
      "5991/5991 [==============================] - 9s 2ms/step - loss: 0.3856 - acc: 0.8354 - val_loss: 0.5056 - val_acc: 0.7900\n",
      "Epoch 20/20\n",
      "5991/5991 [==============================] - 9s 2ms/step - loss: 0.3804 - acc: 0.8349 - val_loss: 0.5081 - val_acc: 0.7900\n"
     ]
    },
    {
     "data": {
      "text/plain": [
       "<keras.callbacks.History at 0x7f1946708080>"
      ]
     },
     "execution_count": 11,
     "metadata": {},
     "output_type": "execute_result"
    }
   ],
   "source": [
    "from keras.models import Sequential\n",
    "from keras.layers import Dense\n",
    "from keras.layers import LSTM, Dropout, Conv1D, Flatten\n",
    "from keras.layers.embeddings import Embedding\n",
    "from keras.preprocessing import sequence\n",
    "\n",
    "\n",
    "model = Sequential()\n",
    "model.add(Embedding(num_words, embedding_size, input_length=max_length, \n",
    "                    weights=[embedding_matrix], trainable=False))\n",
    "model.add(LSTM(100))\n",
    "model.add(Dropout(0.5))\n",
    "model.add(Dense(128, activation='relu'))\n",
    "model.add(Dropout(0.5))\n",
    "model.add(Dense(1, activation='sigmoid'))\n",
    "optimizer_args = {\n",
    "    \"lr\": 0.001,\n",
    "    \"decay\": 0.01\n",
    "}\n",
    "model.compile(loss='binary_crossentropy', \n",
    "              optimizer=Adam(**optimizer_args), \n",
    "              metrics=['accuracy'])\n",
    "model.fit(X_tr, y_tr, \n",
    "          validation_data=(X_dev, y_dev), epochs=20, batch_size=32)\n"
   ]
  },
  {
   "cell_type": "code",
   "execution_count": 12,
   "metadata": {},
   "outputs": [
    {
     "name": "stdout",
     "output_type": "stream",
     "text": [
      "500/500 [==============================] - 0s 600us/step\n",
      "Loss        : 0.5081\n",
      "Accuracy    : 0.7900\n",
      "Precision   : 0.7600\n",
      "Recall      : 0.7703\n",
      "F1          : 0.7651\n"
     ]
    }
   ],
   "source": [
    "from hate.utils import print_evaluation\n",
    "\n",
    "print_evaluation(model, X_dev, y_dev.values)"
   ]
  },
  {
   "cell_type": "markdown",
   "metadata": {},
   "source": [
    "## Usando Inglés + Francés"
   ]
  },
  {
   "cell_type": "code",
   "execution_count": 13,
   "metadata": {},
   "outputs": [],
   "source": [
    "\n",
    "X_tr = np.vstack((X_train, X_train_synth_en, X_train_synth_fr))\n",
    "y_tr = np.vstack((\n",
    "    y_train.values.reshape(-1, 1), \n",
    "    y_train_synth_en.values.reshape(-1, 1),\n",
    "    y_train_synth_fr.values.reshape(-1, 1)\n",
    "))"
   ]
  },
  {
   "cell_type": "code",
   "execution_count": 14,
   "metadata": {},
   "outputs": [
    {
     "name": "stdout",
     "output_type": "stream",
     "text": [
      "Train on 7168 samples, validate on 500 samples\n",
      "Epoch 1/20\n",
      "7168/7168 [==============================] - 11s 2ms/step - loss: 0.6146 - acc: 0.6738 - val_loss: 0.5677 - val_acc: 0.7140\n",
      "Epoch 2/20\n",
      "7168/7168 [==============================] - 11s 1ms/step - loss: 0.5353 - acc: 0.7457 - val_loss: 0.5413 - val_acc: 0.7220\n",
      "Epoch 3/20\n",
      "7168/7168 [==============================] - 11s 1ms/step - loss: 0.5004 - acc: 0.7617 - val_loss: 0.5312 - val_acc: 0.7360\n",
      "Epoch 4/20\n",
      "7168/7168 [==============================] - 11s 1ms/step - loss: 0.4829 - acc: 0.7790 - val_loss: 0.5306 - val_acc: 0.7460\n",
      "Epoch 5/20\n",
      "7168/7168 [==============================] - 11s 1ms/step - loss: 0.4710 - acc: 0.7832 - val_loss: 0.5176 - val_acc: 0.7500\n",
      "Epoch 6/20\n",
      "7168/7168 [==============================] - 11s 1ms/step - loss: 0.4556 - acc: 0.7948 - val_loss: 0.5120 - val_acc: 0.7580\n",
      "Epoch 7/20\n",
      "7168/7168 [==============================] - 11s 1ms/step - loss: 0.4483 - acc: 0.7981 - val_loss: 0.5143 - val_acc: 0.7640\n",
      "Epoch 8/20\n",
      "7168/7168 [==============================] - 11s 1ms/step - loss: 0.4406 - acc: 0.8043 - val_loss: 0.5305 - val_acc: 0.7400\n",
      "Epoch 9/20\n",
      "7168/7168 [==============================] - 11s 1ms/step - loss: 0.4286 - acc: 0.8072 - val_loss: 0.5237 - val_acc: 0.7520\n",
      "Epoch 10/20\n",
      "7168/7168 [==============================] - 11s 1ms/step - loss: 0.4240 - acc: 0.8100 - val_loss: 0.5166 - val_acc: 0.7700\n",
      "Epoch 11/20\n",
      "7168/7168 [==============================] - 11s 1ms/step - loss: 0.4151 - acc: 0.8139 - val_loss: 0.5163 - val_acc: 0.7640\n",
      "Epoch 12/20\n",
      "7168/7168 [==============================] - 11s 1ms/step - loss: 0.4057 - acc: 0.8238 - val_loss: 0.5124 - val_acc: 0.7680\n",
      "Epoch 13/20\n",
      "7168/7168 [==============================] - 11s 1ms/step - loss: 0.4040 - acc: 0.8235 - val_loss: 0.5174 - val_acc: 0.7760\n",
      "Epoch 14/20\n",
      "7168/7168 [==============================] - 11s 1ms/step - loss: 0.3934 - acc: 0.8249 - val_loss: 0.5236 - val_acc: 0.7620\n",
      "Epoch 15/20\n",
      "7168/7168 [==============================] - 11s 1ms/step - loss: 0.3892 - acc: 0.8331 - val_loss: 0.5260 - val_acc: 0.7660\n",
      "Epoch 16/20\n",
      "7168/7168 [==============================] - 11s 1ms/step - loss: 0.3833 - acc: 0.8320 - val_loss: 0.5264 - val_acc: 0.7680\n",
      "Epoch 17/20\n",
      "7168/7168 [==============================] - 11s 1ms/step - loss: 0.3768 - acc: 0.8329 - val_loss: 0.5301 - val_acc: 0.7740\n",
      "Epoch 18/20\n",
      "7168/7168 [==============================] - 11s 1ms/step - loss: 0.3745 - acc: 0.8352 - val_loss: 0.5282 - val_acc: 0.7640\n",
      "Epoch 19/20\n",
      "7168/7168 [==============================] - 11s 1ms/step - loss: 0.3698 - acc: 0.8408 - val_loss: 0.5308 - val_acc: 0.7640\n",
      "Epoch 20/20\n",
      "7168/7168 [==============================] - 11s 1ms/step - loss: 0.3650 - acc: 0.8400 - val_loss: 0.5467 - val_acc: 0.7580\n"
     ]
    },
    {
     "data": {
      "text/plain": [
       "<keras.callbacks.History at 0x7f189aff4d68>"
      ]
     },
     "execution_count": 14,
     "metadata": {},
     "output_type": "execute_result"
    }
   ],
   "source": [
    "\n",
    "model = Sequential()\n",
    "model.add(Embedding(num_words, embedding_size, input_length=max_length, \n",
    "                    weights=[embedding_matrix], trainable=False))\n",
    "model.add(LSTM(100))\n",
    "model.add(Dropout(0.5))\n",
    "model.add(Dense(128, activation='relu'))\n",
    "model.add(Dropout(0.5))\n",
    "model.add(Dense(1, activation='sigmoid'))\n",
    "\n",
    "optimizer_args = {\n",
    "    \"lr\": 0.001,\n",
    "    \"decay\": 0.01\n",
    "}\n",
    "model.compile(loss='binary_crossentropy', \n",
    "              optimizer=Adam(**optimizer_args), \n",
    "              metrics=['accuracy'])\n",
    "model.fit(X_tr, y_tr, \n",
    "          validation_data=(X_dev, y_dev), epochs=20, batch_size=32)\n"
   ]
  },
  {
   "cell_type": "code",
   "execution_count": 15,
   "metadata": {},
   "outputs": [
    {
     "name": "stdout",
     "output_type": "stream",
     "text": [
      "500/500 [==============================] - 0s 581us/step\n",
      "Loss        : 0.5467\n",
      "Accuracy    : 0.7580\n",
      "Precision   : 0.6980\n",
      "Recall      : 0.8018\n",
      "F1          : 0.7463\n"
     ]
    }
   ],
   "source": [
    "from hate.utils import print_evaluation\n",
    "\n",
    "print_evaluation(model, X_dev, y_dev.values)"
   ]
  }
 ],
 "metadata": {
  "kernelspec": {
   "display_name": "Python 3",
   "language": "python",
   "name": "python3"
  },
  "language_info": {
   "codemirror_mode": {
    "name": "ipython",
    "version": 3
   },
   "file_extension": ".py",
   "mimetype": "text/x-python",
   "name": "python",
   "nbconvert_exporter": "python",
   "pygments_lexer": "ipython3",
   "version": "3.6.5"
  }
 },
 "nbformat": 4,
 "nbformat_minor": 2
}
