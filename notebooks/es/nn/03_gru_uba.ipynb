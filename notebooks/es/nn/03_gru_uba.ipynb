{
 "cells": [
  {
   "cell_type": "markdown",
   "metadata": {},
   "source": [
    "# GRU \n",
    "\n",
    "Usamos UBA."
   ]
  },
  {
   "cell_type": "code",
   "execution_count": 1,
   "metadata": {},
   "outputs": [
    {
     "name": "stdout",
     "output_type": "stream",
     "text": [
      "Instancias de entrenamiento: 4500\n",
      "Instancias de desarrollo: 500\n"
     ]
    }
   ],
   "source": [
    "import pandas as pd\n",
    "import csv\n",
    "import numpy as np\n",
    "import tensorflow as tf\n",
    "import random\n",
    "\n",
    "np.random.seed(2019)\n",
    "tf.random.set_random_seed(2019)\n",
    "random.seed(2019)\n",
    "\n",
    "df_dev = pd.read_table(\"../../../data/es/dev_es.tsv\", index_col=\"id\", quoting=csv.QUOTE_NONE)\n",
    "df_train = pd.read_table(\"../../../data/es/train_es.tsv\", index_col=\"id\", quoting=csv.QUOTE_NONE)\n",
    "df_test = pd.read_table(\"../../../data/es/reference_es.tsv\", header=None, \n",
    "                        names=[\"text\", \"HS\", \"TR\", \"AG\"], quoting=csv.QUOTE_NONE)\n",
    "\n",
    "\n",
    "text_train, y_train = df_train[\"text\"], df_train[\"HS\"]\n",
    "text_dev, y_dev = df_dev[\"text\"], df_dev[\"HS\"]\n",
    "text_test, y_test = df_test[\"text\"], df_test[\"HS\"]\n",
    "\n",
    "print(\"Instancias de entrenamiento: {}\".format(len(df_train)))\n",
    "print(\"Instancias de desarrollo: {}\".format(len(df_dev)))\n"
   ]
  },
  {
   "cell_type": "markdown",
   "metadata": {},
   "source": [
    "Tengo que hacer dos cosas:\n",
    "\n",
    "- Primero, convertir los tweets a secuencias de texto\n",
    "- Luego, paddear las secuencias a cierta longitud (Keras necesita esto para poder paralelizar cálculo)"
   ]
  },
  {
   "cell_type": "code",
   "execution_count": 2,
   "metadata": {},
   "outputs": [
    {
     "name": "stderr",
     "output_type": "stream",
     "text": [
      "Using TensorFlow backend.\n"
     ]
    }
   ],
   "source": [
    "from keras.preprocessing.text import Tokenizer\n",
    "from keras.preprocessing.sequence import pad_sequences\n",
    "\n",
    "num_words = 200000\n",
    "\n",
    "tokenizer = Tokenizer(num_words=num_words)\n",
    "tokenizer.fit_on_texts(text_train)\n",
    "\n",
    "X_train = tokenizer.texts_to_sequences(text_train)\n",
    "X_dev = tokenizer.texts_to_sequences(text_dev)\n",
    "X_test = tokenizer.texts_to_sequences(text_test)\n",
    "max_length = 30\n",
    "\n",
    "X_train = pad_sequences(X_train, max_length)\n",
    "X_dev = pad_sequences(X_dev, max_length)\n",
    "X_test = pad_sequences(X_test, max_length)"
   ]
  },
  {
   "cell_type": "markdown",
   "metadata": {},
   "source": [
    "Carguemos embeddings"
   ]
  },
  {
   "cell_type": "code",
   "execution_count": 3,
   "metadata": {},
   "outputs": [
    {
     "name": "stdout",
     "output_type": "stream",
     "text": [
      "Available embeddings:  ['/home/jmperez/WordVectors/UBA_w5_200.vec', '/home/jmperez/WordVectors/wiki.es.vec', '/home/jmperez/WordVectors/UBA_w5_300.vec']\n"
     ]
    }
   ],
   "source": [
    "import os\n",
    "from glob import glob\n",
    "\n",
    "path_to_embeddings = os.path.expanduser(\"/home/jmperez/WordVectors/\")\n",
    "\n",
    "print(\"Available embeddings: \", glob(os.path.join(path_to_embeddings, \"*.vec\")))"
   ]
  },
  {
   "cell_type": "markdown",
   "metadata": {},
   "source": [
    "# Twitter Embeddings"
   ]
  },
  {
   "cell_type": "code",
   "execution_count": 4,
   "metadata": {},
   "outputs": [
    {
     "name": "stdout",
     "output_type": "stream",
     "text": [
      "********************************************************************************\n",
      "********************************************************************************\n",
      "********************************************************************************\n",
      "\n",
      "Problema con la sig línea:\n",
      "['.', '.', '-0.22232', '0.0052569', '0.47066', '0.13836', '0.15991', '0.19504', '0.00067885', '0.020299']\n",
      "********************************************************************************\n",
      "********************************************************************************\n",
      "********************************************************************************\n",
      "\n",
      "Problema con la sig línea:\n",
      "['.', '...', '-0.11666', '-0.083768', '0.028919', '0.29973', '0.21017', '0.27808', '0.063251', '0.090223']\n",
      "********************************************************************************\n",
      "********************************************************************************\n",
      "********************************************************************************\n",
      "\n",
      "Problema con la sig línea:\n",
      "['.', '..', '-0.43752', '-0.0016885', '0.1533', '0.28071', '0.18051', '0.28698', '0.11806', '0.044891']\n"
     ]
    }
   ],
   "source": [
    "import numpy as np\n",
    "\n",
    "word_to_vec = {}\n",
    "\n",
    "with open(os.path.join(path_to_embeddings, \"UBA_w5_300.vec\")) as f:\n",
    "    for line in f:\n",
    "        values = line.split()\n",
    "        word = values[0]\n",
    "        try:\n",
    "            vec = np.asarray(values[1:], dtype=\"float32\")\n",
    "        except:\n",
    "            print((\"*\" * 80  + \"\\n\")*3)\n",
    "            print(\"Problema con la sig línea:\")\n",
    "            print(values[:10])\n",
    "            word = values[1]\n",
    "            vec = np.asarray(values[2:], dtype=\"float32\")\n",
    "        word_to_vec[word] = vec\n",
    "        \n",
    "embedding_size = len(word_to_vec[\"hola\"])"
   ]
  },
  {
   "cell_type": "code",
   "execution_count": 5,
   "metadata": {},
   "outputs": [],
   "source": [
    "# create a weight matrix for words in training docs\n",
    "embedding_matrix = np.zeros((num_words, embedding_size))\n",
    "for word, i in tokenizer.word_index.items():\n",
    "    embedding_vector = word_to_vec.get(word)\n",
    "    if embedding_vector is not None:\n",
    "        embedding_matrix[i] = embedding_vector"
   ]
  },
  {
   "cell_type": "code",
   "execution_count": 6,
   "metadata": {},
   "outputs": [
    {
     "data": {
      "text/plain": [
       "(200000, 300)"
      ]
     },
     "execution_count": 6,
     "metadata": {},
     "output_type": "execute_result"
    }
   ],
   "source": [
    "embedding_matrix.shape"
   ]
  },
  {
   "cell_type": "code",
   "execution_count": 7,
   "metadata": {},
   "outputs": [
    {
     "name": "stdout",
     "output_type": "stream",
     "text": [
      "_________________________________________________________________\n",
      "Layer (type)                 Output Shape              Param #   \n",
      "=================================================================\n",
      "embedding_1 (Embedding)      (None, 30, 300)           60000000  \n",
      "_________________________________________________________________\n",
      "cu_dnngru_1 (CuDNNGRU)       (None, 100)               120600    \n",
      "_________________________________________________________________\n",
      "dropout_1 (Dropout)          (None, 100)               0         \n",
      "_________________________________________________________________\n",
      "dense_1 (Dense)              (None, 128)               12928     \n",
      "_________________________________________________________________\n",
      "dense_2 (Dense)              (None, 1)                 129       \n",
      "=================================================================\n",
      "Total params: 60,133,657\n",
      "Trainable params: 133,657\n",
      "Non-trainable params: 60,000,000\n",
      "_________________________________________________________________\n",
      "None\n",
      "WARNING:tensorflow:Variable *= will be deprecated. Use `var.assign(var * other)` if you want assignment to the variable value or `x = x * y` if you want a new python Tensor object.\n",
      "Train on 4500 samples, validate on 500 samples\n",
      "Epoch 1/20\n",
      "4500/4500 [==============================] - 2s 514us/step - loss: 0.6276 - acc: 0.6547 - val_loss: 0.5821 - val_acc: 0.6860\n",
      "Epoch 2/20\n",
      "4500/4500 [==============================] - 1s 269us/step - loss: 0.5388 - acc: 0.7422 - val_loss: 0.5490 - val_acc: 0.7200\n",
      "Epoch 3/20\n",
      "4500/4500 [==============================] - 1s 274us/step - loss: 0.5050 - acc: 0.7609 - val_loss: 0.5524 - val_acc: 0.7340\n",
      "Epoch 4/20\n",
      "4500/4500 [==============================] - 1s 273us/step - loss: 0.4854 - acc: 0.7782 - val_loss: 0.5362 - val_acc: 0.7480\n",
      "Epoch 5/20\n",
      "4500/4500 [==============================] - 1s 275us/step - loss: 0.4665 - acc: 0.7869 - val_loss: 0.5351 - val_acc: 0.7500\n",
      "Epoch 6/20\n",
      "4500/4500 [==============================] - 1s 271us/step - loss: 0.4573 - acc: 0.7958 - val_loss: 0.5349 - val_acc: 0.7480\n",
      "Epoch 7/20\n",
      "4500/4500 [==============================] - 1s 279us/step - loss: 0.4483 - acc: 0.7987 - val_loss: 0.5308 - val_acc: 0.7640\n",
      "Epoch 8/20\n",
      "4500/4500 [==============================] - 1s 274us/step - loss: 0.4378 - acc: 0.8076 - val_loss: 0.5243 - val_acc: 0.7620\n",
      "Epoch 9/20\n",
      "4500/4500 [==============================] - 1s 270us/step - loss: 0.4261 - acc: 0.8084 - val_loss: 0.5263 - val_acc: 0.7580\n",
      "Epoch 10/20\n",
      "4500/4500 [==============================] - 1s 276us/step - loss: 0.4244 - acc: 0.8127 - val_loss: 0.5240 - val_acc: 0.7640\n",
      "Epoch 11/20\n",
      "4500/4500 [==============================] - 1s 272us/step - loss: 0.4209 - acc: 0.8189 - val_loss: 0.5257 - val_acc: 0.7500\n",
      "Epoch 12/20\n",
      "4500/4500 [==============================] - 1s 273us/step - loss: 0.4101 - acc: 0.8249 - val_loss: 0.5351 - val_acc: 0.7440\n",
      "Epoch 13/20\n",
      "4500/4500 [==============================] - 1s 272us/step - loss: 0.4027 - acc: 0.8307 - val_loss: 0.5231 - val_acc: 0.7640\n",
      "Epoch 14/20\n",
      "4500/4500 [==============================] - 1s 274us/step - loss: 0.4024 - acc: 0.8271 - val_loss: 0.5288 - val_acc: 0.7480\n",
      "Epoch 15/20\n",
      "4500/4500 [==============================] - 1s 274us/step - loss: 0.3969 - acc: 0.8298 - val_loss: 0.5262 - val_acc: 0.7460\n",
      "Epoch 16/20\n",
      "4500/4500 [==============================] - 1s 275us/step - loss: 0.3935 - acc: 0.8284 - val_loss: 0.5260 - val_acc: 0.7520\n",
      "Epoch 17/20\n",
      "4500/4500 [==============================] - 1s 271us/step - loss: 0.3908 - acc: 0.8336 - val_loss: 0.5262 - val_acc: 0.7520\n",
      "Epoch 18/20\n",
      "4500/4500 [==============================] - 1s 275us/step - loss: 0.3853 - acc: 0.8347 - val_loss: 0.5222 - val_acc: 0.7580\n",
      "Epoch 19/20\n",
      "4500/4500 [==============================] - 1s 275us/step - loss: 0.3838 - acc: 0.8364 - val_loss: 0.5306 - val_acc: 0.7460\n",
      "Epoch 20/20\n",
      "4500/4500 [==============================] - 1s 274us/step - loss: 0.3791 - acc: 0.8393 - val_loss: 0.5410 - val_acc: 0.7440\n"
     ]
    },
    {
     "data": {
      "text/plain": [
       "<keras.callbacks.History at 0x7f473b39cd30>"
      ]
     },
     "execution_count": 7,
     "metadata": {},
     "output_type": "execute_result"
    }
   ],
   "source": [
    "from keras.models import Sequential\n",
    "from keras.layers import Dense\n",
    "from keras.layers import CuDNNGRU, Dropout\n",
    "from keras.layers.embeddings import Embedding\n",
    "from keras.preprocessing import sequence\n",
    "from keras.optimizers import Adam\n",
    "\n",
    "model = Sequential()\n",
    "model.add(Embedding(num_words, embedding_size, input_length=max_length, \n",
    "                    weights=[embedding_matrix], trainable=False))\n",
    "model.add(CuDNNGRU(100))\n",
    "model.add(Dropout(0.5))\n",
    "model.add(Dense(128, activation='relu'))\n",
    "model.add(Dense(1, activation='sigmoid'))\n",
    "\n",
    "optimizer_args = {\n",
    "    \"lr\": 0.001,\n",
    "    \"decay\": 0.01\n",
    "}\n",
    "\n",
    "model.compile(loss='binary_crossentropy', \n",
    "              optimizer=Adam(**optimizer_args), \n",
    "              metrics=['accuracy'])\n",
    "print(model.summary())\n",
    "\n",
    "model.fit(X_train, y_train, validation_data=(X_dev, y_dev), epochs=20, batch_size=32)\n"
   ]
  },
  {
   "cell_type": "code",
   "execution_count": 8,
   "metadata": {},
   "outputs": [
    {
     "name": "stdout",
     "output_type": "stream",
     "text": [
      "Evaluación sobre dev\n",
      "500/500 [==============================] - 0s 104us/step\n",
      "Loss           : 0.5410\n",
      "Accuracy       : 0.7440\n",
      "Precision(1)   : 0.6754\n",
      "Precision(1)   : 0.8233\n",
      "Precision(avg) : 0.7493\n",
      "\n",
      "Recall(1)      : 0.8153\n",
      "Recall(0)      : 0.6871\n",
      "Recall(avg)    : 0.7512\n",
      "\n",
      "F1(1)          : 0.7388\n",
      "F1(0)          : 0.7490\n",
      "F1(avg)        : 0.7439\n",
      "\n",
      "\n",
      "Evaluación sobre test\n",
      "1600/1600 [==============================] - 0s 98us/step\n",
      "Loss           : 0.6712\n",
      "Accuracy       : 0.6687\n",
      "Precision(1)   : 0.5721\n",
      "Precision(1)   : 0.7937\n",
      "Precision(avg) : 0.6829\n",
      "\n",
      "Recall(1)      : 0.7818\n",
      "Recall(0)      : 0.5894\n",
      "Recall(avg)    : 0.6856\n",
      "\n",
      "F1(1)          : 0.6607\n",
      "F1(0)          : 0.6764\n",
      "F1(avg)        : 0.6686\n"
     ]
    }
   ],
   "source": [
    "from hate.utils import print_evaluation\n",
    "\n",
    "print(\"Evaluación sobre dev\")\n",
    "print_evaluation(model, X_dev, y_dev)\n",
    "print(\"\\n\\nEvaluación sobre test\")\n",
    "print_evaluation(model, X_test, y_test)\n",
    "\n"
   ]
  },
  {
   "cell_type": "markdown",
   "metadata": {},
   "source": [
    "## Bidirectional GRU"
   ]
  },
  {
   "cell_type": "code",
   "execution_count": 9,
   "metadata": {},
   "outputs": [
    {
     "name": "stdout",
     "output_type": "stream",
     "text": [
      "_________________________________________________________________\n",
      "Layer (type)                 Output Shape              Param #   \n",
      "=================================================================\n",
      "embedding_2 (Embedding)      (None, 30, 300)           60000000  \n",
      "_________________________________________________________________\n",
      "bidirectional_1 (Bidirection (None, 200)               241200    \n",
      "_________________________________________________________________\n",
      "dropout_2 (Dropout)          (None, 200)               0         \n",
      "_________________________________________________________________\n",
      "dense_3 (Dense)              (None, 128)               25728     \n",
      "_________________________________________________________________\n",
      "dropout_3 (Dropout)          (None, 128)               0         \n",
      "_________________________________________________________________\n",
      "dense_4 (Dense)              (None, 1)                 129       \n",
      "=================================================================\n",
      "Total params: 60,267,057\n",
      "Trainable params: 267,057\n",
      "Non-trainable params: 60,000,000\n",
      "_________________________________________________________________\n",
      "None\n",
      "Train on 4500 samples, validate on 500 samples\n",
      "Epoch 1/20\n",
      "4500/4500 [==============================] - 2s 484us/step - loss: 0.6520 - acc: 0.6278 - val_loss: 0.6179 - val_acc: 0.6500\n",
      "Epoch 2/20\n",
      "4500/4500 [==============================] - 2s 378us/step - loss: 0.5671 - acc: 0.7153 - val_loss: 0.5580 - val_acc: 0.7080\n",
      "Epoch 3/20\n",
      "4500/4500 [==============================] - 2s 376us/step - loss: 0.5131 - acc: 0.7553 - val_loss: 0.6105 - val_acc: 0.7020\n",
      "Epoch 4/20\n",
      "4500/4500 [==============================] - 2s 372us/step - loss: 0.4905 - acc: 0.7716 - val_loss: 0.5282 - val_acc: 0.7280\n",
      "Epoch 5/20\n",
      "4500/4500 [==============================] - 2s 373us/step - loss: 0.4757 - acc: 0.7822 - val_loss: 0.5229 - val_acc: 0.7420\n",
      "Epoch 6/20\n",
      "4500/4500 [==============================] - 2s 378us/step - loss: 0.4577 - acc: 0.7991 - val_loss: 0.5217 - val_acc: 0.7480\n",
      "Epoch 7/20\n",
      "4500/4500 [==============================] - 2s 371us/step - loss: 0.4423 - acc: 0.8062 - val_loss: 0.5125 - val_acc: 0.7580\n",
      "Epoch 8/20\n",
      "4500/4500 [==============================] - 2s 380us/step - loss: 0.4335 - acc: 0.8084 - val_loss: 0.5133 - val_acc: 0.7580\n",
      "Epoch 9/20\n",
      "4500/4500 [==============================] - 2s 377us/step - loss: 0.4217 - acc: 0.8142 - val_loss: 0.5164 - val_acc: 0.7540\n",
      "Epoch 10/20\n",
      "4500/4500 [==============================] - 2s 373us/step - loss: 0.4227 - acc: 0.8151 - val_loss: 0.5118 - val_acc: 0.7540\n",
      "Epoch 11/20\n",
      "4500/4500 [==============================] - 2s 380us/step - loss: 0.4130 - acc: 0.8173 - val_loss: 0.5129 - val_acc: 0.7520\n",
      "Epoch 12/20\n",
      "4500/4500 [==============================] - 2s 369us/step - loss: 0.4023 - acc: 0.8271 - val_loss: 0.5266 - val_acc: 0.7660\n",
      "Epoch 13/20\n",
      "4500/4500 [==============================] - 2s 381us/step - loss: 0.3981 - acc: 0.8278 - val_loss: 0.5154 - val_acc: 0.7580\n",
      "Epoch 14/20\n",
      "4500/4500 [==============================] - 2s 371us/step - loss: 0.3939 - acc: 0.8367 - val_loss: 0.5155 - val_acc: 0.7640\n",
      "Epoch 15/20\n",
      "4500/4500 [==============================] - 2s 383us/step - loss: 0.3873 - acc: 0.8376 - val_loss: 0.5165 - val_acc: 0.7660\n",
      "Epoch 16/20\n",
      "4500/4500 [==============================] - 2s 378us/step - loss: 0.3844 - acc: 0.8358 - val_loss: 0.5141 - val_acc: 0.7640\n",
      "Epoch 17/20\n",
      "4500/4500 [==============================] - 2s 376us/step - loss: 0.3784 - acc: 0.8382 - val_loss: 0.5153 - val_acc: 0.7640\n",
      "Epoch 18/20\n",
      "4500/4500 [==============================] - 2s 381us/step - loss: 0.3694 - acc: 0.8473 - val_loss: 0.5187 - val_acc: 0.7560\n",
      "Epoch 19/20\n",
      "4500/4500 [==============================] - 2s 373us/step - loss: 0.3721 - acc: 0.8418 - val_loss: 0.5132 - val_acc: 0.7580\n",
      "Epoch 20/20\n",
      "4500/4500 [==============================] - 2s 376us/step - loss: 0.3667 - acc: 0.8427 - val_loss: 0.5180 - val_acc: 0.7560\n"
     ]
    },
    {
     "data": {
      "text/plain": [
       "<keras.callbacks.History at 0x7f45d80faf60>"
      ]
     },
     "execution_count": 9,
     "metadata": {},
     "output_type": "execute_result"
    }
   ],
   "source": [
    "from keras.layers import Bidirectional\n",
    "from keras.layers.embeddings import Embedding\n",
    "from keras.preprocessing import sequence\n",
    "\n",
    "embedding_vector_length = 32\n",
    "\n",
    "model = Sequential()\n",
    "model.add(Embedding(num_words, embedding_size, input_length=max_length, \n",
    "                    weights=[embedding_matrix], trainable=False))\n",
    "model.add(Bidirectional(CuDNNGRU(100)))\n",
    "model.add(Dropout(0.5))\n",
    "model.add(Dense(128, activation='relu'))\n",
    "model.add(Dropout(0.5))\n",
    "model.add(Dense(1, activation='sigmoid'))\n",
    "\n",
    "optimizer_args = {\n",
    "    \"lr\": 0.001,\n",
    "    \"decay\": 0.01\n",
    "}\n",
    "\n",
    "model.compile(loss='binary_crossentropy', \n",
    "              optimizer=Adam(**optimizer_args), \n",
    "              metrics=['accuracy'])\n",
    "print(model.summary())\n",
    "\n",
    "model.fit(X_train, y_train, validation_data=(X_dev, y_dev), epochs=20, batch_size=32)\n"
   ]
  },
  {
   "cell_type": "code",
   "execution_count": 10,
   "metadata": {},
   "outputs": [
    {
     "name": "stdout",
     "output_type": "stream",
     "text": [
      "Evaluación sobre dev\n",
      "500/500 [==============================] - 0s 134us/step\n",
      "Loss           : 0.5180\n",
      "Accuracy       : 0.7560\n",
      "Precision(1)   : 0.7083\n",
      "Precision(1)   : 0.8000\n",
      "Precision(avg) : 0.7542\n",
      "\n",
      "Recall(1)      : 0.7658\n",
      "Recall(0)      : 0.7482\n",
      "Recall(avg)    : 0.7570\n",
      "\n",
      "F1(1)          : 0.7359\n",
      "F1(0)          : 0.7732\n",
      "F1(avg)        : 0.7546\n",
      "\n",
      "\n",
      "Evaluación sobre test\n",
      "1600/1600 [==============================] - 0s 140us/step\n",
      "Loss           : 0.6177\n",
      "Accuracy       : 0.6906\n",
      "Precision(1)   : 0.6002\n",
      "Precision(1)   : 0.7864\n",
      "Precision(avg) : 0.6933\n",
      "\n",
      "Recall(1)      : 0.7485\n",
      "Recall(0)      : 0.6500\n",
      "Recall(avg)    : 0.6992\n",
      "\n",
      "F1(1)          : 0.6662\n",
      "F1(0)          : 0.7117\n",
      "F1(avg)        : 0.6890\n"
     ]
    }
   ],
   "source": [
    "from hate.utils import print_evaluation\n",
    "\n",
    "print(\"Evaluación sobre dev\")\n",
    "print_evaluation(model, X_dev, y_dev)\n",
    "print(\"\\n\\nEvaluación sobre test\")\n",
    "print_evaluation(model, X_test, y_test)\n",
    "\n"
   ]
  },
  {
   "cell_type": "code",
   "execution_count": null,
   "metadata": {},
   "outputs": [],
   "source": []
  }
 ],
 "metadata": {
  "kernelspec": {
   "display_name": "Python 3",
   "language": "python",
   "name": "python3"
  },
  "language_info": {
   "codemirror_mode": {
    "name": "ipython",
    "version": 3
   },
   "file_extension": ".py",
   "mimetype": "text/x-python",
   "name": "python",
   "nbconvert_exporter": "python",
   "pygments_lexer": "ipython3",
   "version": "3.6.5"
  }
 },
 "nbformat": 4,
 "nbformat_minor": 2
}
