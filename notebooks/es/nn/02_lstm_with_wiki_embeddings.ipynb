{
 "cells": [
  {
   "cell_type": "markdown",
   "metadata": {},
   "source": [
    "# LSTM con WIKI\n",
    "\n",
    "Modelo básico con los embeddings de fasttext"
   ]
  },
  {
   "cell_type": "code",
   "execution_count": 1,
   "metadata": {},
   "outputs": [
    {
     "name": "stdout",
     "output_type": "stream",
     "text": [
      "Instancias de entrenamiento: 4500\n",
      "Instancias de desarrollo: 500\n"
     ]
    }
   ],
   "source": [
    "import pandas as pd\n",
    "import csv\n",
    "\n",
    "df_dev = pd.read_table(\"../../../data/es/dev_es.tsv\", index_col=\"id\", quoting=csv.QUOTE_NONE)\n",
    "df_train = pd.read_table(\"../../../data/es/train_es.tsv\", index_col=\"id\", quoting=csv.QUOTE_NONE)\n",
    "\n",
    "text_train, y_train = df_train[\"text\"], df_train[\"HS\"]\n",
    "text_dev, y_dev = df_dev[\"text\"], df_dev[\"HS\"]\n",
    "\n",
    "print(\"Instancias de entrenamiento: {}\".format(len(df_train)))\n",
    "print(\"Instancias de desarrollo: {}\".format(len(df_dev)))\n"
   ]
  },
  {
   "cell_type": "markdown",
   "metadata": {},
   "source": [
    "Tengo que hacer dos cosas:\n",
    "\n",
    "- Primero, convertir los tweets a secuencias de texto\n",
    "- Luego, paddear las secuencias a cierta longitud (Keras necesita esto para poder paralelizar cálculo)"
   ]
  },
  {
   "cell_type": "code",
   "execution_count": 2,
   "metadata": {},
   "outputs": [
    {
     "name": "stderr",
     "output_type": "stream",
     "text": [
      "Using TensorFlow backend.\n"
     ]
    }
   ],
   "source": [
    "from keras.preprocessing.text import Tokenizer\n",
    "from keras.preprocessing.sequence import pad_sequences\n",
    "\n",
    "num_words = 200000\n",
    "\n",
    "tokenizer = Tokenizer(num_words=num_words)\n",
    "tokenizer.fit_on_texts(text_train)\n",
    "\n",
    "X_train = tokenizer.texts_to_sequences(text_train)\n",
    "X_dev = tokenizer.texts_to_sequences(text_dev)\n",
    "\n",
    "max_length = 30\n",
    "\n",
    "X_train = pad_sequences(X_train, max_length)\n",
    "X_dev = pad_sequences(X_dev, max_length)"
   ]
  },
  {
   "cell_type": "markdown",
   "metadata": {},
   "source": [
    "Carguemos embeddings"
   ]
  },
  {
   "cell_type": "code",
   "execution_count": 3,
   "metadata": {},
   "outputs": [
    {
     "name": "stdout",
     "output_type": "stream",
     "text": [
      "Available embeddings:  ['/home/jmperez/WordVectors/UBA_w5_200.vec', '/home/jmperez/WordVectors/wiki.es.vec', '/home/jmperez/WordVectors/UBA_w5_300.vec']\n"
     ]
    }
   ],
   "source": [
    "import os\n",
    "from glob import glob\n",
    "\n",
    "path_to_embeddings = os.path.expanduser(\"/home/jmperez/WordVectors/\")\n",
    "\n",
    "print(\"Available embeddings: \", glob(os.path.join(path_to_embeddings, \"*.vec\")))"
   ]
  },
  {
   "cell_type": "markdown",
   "metadata": {},
   "source": [
    "# Wikipedia Embeddings\n",
    "\n",
    "Me quedo sólo con los embeddings de unigramas..."
   ]
  },
  {
   "cell_type": "code",
   "execution_count": 4,
   "metadata": {},
   "outputs": [],
   "source": [
    "import numpy as np\n",
    "\n",
    "word_to_vec = {}\n",
    "\n",
    "with open(os.path.join(path_to_embeddings, \"wiki.es.vec\")) as f:\n",
    "    for i, line in enumerate(f):\n",
    "        values = line.split()\n",
    "        word = values[0]\n",
    "        try:\n",
    "            vec = np.asarray(values[1:], dtype=\"float32\")\n",
    "            word_to_vec[word] = vec\n",
    "        except:\n",
    "            continue\n",
    "        \n",
    "        \n",
    "embedding_size = len(word_to_vec[\"hola\"])"
   ]
  },
  {
   "cell_type": "code",
   "execution_count": 5,
   "metadata": {},
   "outputs": [],
   "source": [
    "# create a weight matrix for words in training docs\n",
    "embedding_matrix = np.zeros((num_words, embedding_size))\n",
    "for word, i in tokenizer.word_index.items():\n",
    "    embedding_vector = word_to_vec.get(word)\n",
    "    if embedding_vector is not None:\n",
    "        embedding_matrix[i] = embedding_vector"
   ]
  },
  {
   "cell_type": "code",
   "execution_count": 6,
   "metadata": {},
   "outputs": [
    {
     "data": {
      "text/plain": [
       "(200000, 300)"
      ]
     },
     "execution_count": 6,
     "metadata": {},
     "output_type": "execute_result"
    }
   ],
   "source": [
    "embedding_matrix.shape"
   ]
  },
  {
   "cell_type": "code",
   "execution_count": 10,
   "metadata": {},
   "outputs": [
    {
     "name": "stdout",
     "output_type": "stream",
     "text": [
      "Train on 4500 samples, validate on 500 samples\n",
      "Epoch 1/20\n",
      "4500/4500 [==============================] - 7s 2ms/step - loss: 0.6585 - acc: 0.6231 - val_loss: 0.6474 - val_acc: 0.6420\n",
      "Epoch 2/20\n",
      "4500/4500 [==============================] - 7s 1ms/step - loss: 0.6016 - acc: 0.6949 - val_loss: 0.6126 - val_acc: 0.6720\n",
      "Epoch 3/20\n",
      "4500/4500 [==============================] - 7s 1ms/step - loss: 0.5588 - acc: 0.7276 - val_loss: 0.5904 - val_acc: 0.7020\n",
      "Epoch 4/20\n",
      "4500/4500 [==============================] - 7s 1ms/step - loss: 0.5388 - acc: 0.7431 - val_loss: 0.5892 - val_acc: 0.6880\n",
      "Epoch 5/20\n",
      "4500/4500 [==============================] - 7s 1ms/step - loss: 0.5158 - acc: 0.7553 - val_loss: 0.5714 - val_acc: 0.7260\n",
      "Epoch 6/20\n",
      "4500/4500 [==============================] - 7s 1ms/step - loss: 0.5078 - acc: 0.7607 - val_loss: 0.5908 - val_acc: 0.7080\n",
      "Epoch 7/20\n",
      "4500/4500 [==============================] - 6s 1ms/step - loss: 0.4962 - acc: 0.7682 - val_loss: 0.5542 - val_acc: 0.7320\n",
      "Epoch 8/20\n",
      "4500/4500 [==============================] - 7s 1ms/step - loss: 0.4786 - acc: 0.7787 - val_loss: 0.5512 - val_acc: 0.7240\n",
      "Epoch 9/20\n",
      "4500/4500 [==============================] - 7s 1ms/step - loss: 0.4680 - acc: 0.7824 - val_loss: 0.5529 - val_acc: 0.7320\n",
      "Epoch 10/20\n",
      "4500/4500 [==============================] - 7s 1ms/step - loss: 0.4619 - acc: 0.7860 - val_loss: 0.5399 - val_acc: 0.7560\n",
      "Epoch 11/20\n",
      "4500/4500 [==============================] - 7s 1ms/step - loss: 0.4563 - acc: 0.7927 - val_loss: 0.5419 - val_acc: 0.7540\n",
      "Epoch 12/20\n",
      "4500/4500 [==============================] - 7s 1ms/step - loss: 0.4483 - acc: 0.7942 - val_loss: 0.5346 - val_acc: 0.7600\n",
      "Epoch 13/20\n",
      "4500/4500 [==============================] - 6s 1ms/step - loss: 0.4425 - acc: 0.8011 - val_loss: 0.5414 - val_acc: 0.7460\n",
      "Epoch 14/20\n",
      "4500/4500 [==============================] - 7s 1ms/step - loss: 0.4373 - acc: 0.8009 - val_loss: 0.5444 - val_acc: 0.7440\n",
      "Epoch 15/20\n",
      "4500/4500 [==============================] - 7s 1ms/step - loss: 0.4312 - acc: 0.8042 - val_loss: 0.5395 - val_acc: 0.7540\n",
      "Epoch 16/20\n",
      "4500/4500 [==============================] - 7s 1ms/step - loss: 0.4309 - acc: 0.8051 - val_loss: 0.5372 - val_acc: 0.7500\n",
      "Epoch 17/20\n",
      "4500/4500 [==============================] - 7s 1ms/step - loss: 0.4202 - acc: 0.8133 - val_loss: 0.5268 - val_acc: 0.7520\n",
      "Epoch 18/20\n",
      "4500/4500 [==============================] - 7s 1ms/step - loss: 0.4200 - acc: 0.8129 - val_loss: 0.5470 - val_acc: 0.7460\n",
      "Epoch 19/20\n",
      "4500/4500 [==============================] - 7s 1ms/step - loss: 0.4185 - acc: 0.8138 - val_loss: 0.5338 - val_acc: 0.7600\n",
      "Epoch 20/20\n",
      "4500/4500 [==============================] - 7s 1ms/step - loss: 0.4097 - acc: 0.8216 - val_loss: 0.5336 - val_acc: 0.7540\n"
     ]
    },
    {
     "data": {
      "text/plain": [
       "<keras.callbacks.History at 0x7f1c763e29e8>"
      ]
     },
     "execution_count": 10,
     "metadata": {},
     "output_type": "execute_result"
    }
   ],
   "source": [
    "from keras.models import Sequential\n",
    "from keras.layers import Dense\n",
    "from keras.layers import LSTM, Dropout\n",
    "from keras.optimizers import Adam\n",
    "from keras.layers.embeddings import Embedding\n",
    "from keras.preprocessing import sequence\n",
    "\n",
    "\n",
    "model = Sequential()\n",
    "model.add(Embedding(num_words, embedding_size, input_length=max_length, weights=[embedding_matrix], trainable=False))\n",
    "model.add(LSTM(100))\n",
    "model.add(Dropout(0.65))\n",
    "model.add(Dense(128, activation='relu'))\n",
    "model.add(Dropout(0.35))\n",
    "model.add(Dense(1, activation='sigmoid'))\n",
    "optimizer_args = {\n",
    "    \"lr\": 0.001,\n",
    "    \"decay\": 0.01\n",
    "}\n",
    "model.compile(loss='binary_crossentropy', \n",
    "              optimizer=Adam(**optimizer_args), \n",
    "              metrics=['accuracy'])\n",
    "model.fit(X_train, y_train, \n",
    "          validation_data=(X_dev, y_dev), \n",
    "          epochs=20, batch_size=32)\n"
   ]
  },
  {
   "cell_type": "code",
   "execution_count": 11,
   "metadata": {},
   "outputs": [
    {
     "name": "stdout",
     "output_type": "stream",
     "text": [
      "500/500 [==============================] - 0s 590us/step\n",
      "Loss        : 0.5336\n",
      "Accuracy    : 0.7540\n",
      "Precision   : 0.7538\n",
      "Recall      : 0.6622\n",
      "F1          : 0.7050\n"
     ]
    }
   ],
   "source": [
    "from hate.utils import print_evaluation\n",
    "\n",
    "print_evaluation(model, X_dev, y_dev.values)"
   ]
  },
  {
   "cell_type": "markdown",
   "metadata": {},
   "source": [
    "## Bidirectional LSTM"
   ]
  },
  {
   "cell_type": "code",
   "execution_count": 12,
   "metadata": {},
   "outputs": [
    {
     "name": "stdout",
     "output_type": "stream",
     "text": [
      "_________________________________________________________________\n",
      "Layer (type)                 Output Shape              Param #   \n",
      "=================================================================\n",
      "embedding_4 (Embedding)      (None, 30, 300)           60000000  \n",
      "_________________________________________________________________\n",
      "bidirectional_1 (Bidirection (None, 200)               320800    \n",
      "_________________________________________________________________\n",
      "dropout_7 (Dropout)          (None, 200)               0         \n",
      "_________________________________________________________________\n",
      "dense_7 (Dense)              (None, 128)               25728     \n",
      "_________________________________________________________________\n",
      "dropout_8 (Dropout)          (None, 128)               0         \n",
      "_________________________________________________________________\n",
      "dense_8 (Dense)              (None, 1)                 129       \n",
      "=================================================================\n",
      "Total params: 60,346,657\n",
      "Trainable params: 346,657\n",
      "Non-trainable params: 60,000,000\n",
      "_________________________________________________________________\n",
      "None\n",
      "Train on 4500 samples, validate on 500 samples\n",
      "Epoch 1/20\n",
      "4500/4500 [==============================] - 13s 3ms/step - loss: 0.6473 - acc: 0.6382 - val_loss: 0.6311 - val_acc: 0.6480\n",
      "Epoch 2/20\n",
      "4500/4500 [==============================] - 12s 3ms/step - loss: 0.5784 - acc: 0.7187 - val_loss: 0.6187 - val_acc: 0.6560\n",
      "Epoch 3/20\n",
      "4500/4500 [==============================] - 12s 3ms/step - loss: 0.5350 - acc: 0.7371 - val_loss: 0.5679 - val_acc: 0.7200\n",
      "Epoch 4/20\n",
      "4500/4500 [==============================] - 12s 3ms/step - loss: 0.5038 - acc: 0.7633 - val_loss: 0.5596 - val_acc: 0.7160\n",
      "Epoch 5/20\n",
      "4500/4500 [==============================] - 12s 3ms/step - loss: 0.4815 - acc: 0.7749 - val_loss: 0.5367 - val_acc: 0.7520\n",
      "Epoch 6/20\n",
      "4500/4500 [==============================] - 12s 3ms/step - loss: 0.4625 - acc: 0.7902 - val_loss: 0.5471 - val_acc: 0.7320\n",
      "Epoch 7/20\n",
      "4500/4500 [==============================] - 12s 3ms/step - loss: 0.4521 - acc: 0.7913 - val_loss: 0.5239 - val_acc: 0.7440\n",
      "Epoch 8/20\n",
      "4500/4500 [==============================] - 12s 3ms/step - loss: 0.4338 - acc: 0.8038 - val_loss: 0.5422 - val_acc: 0.7280\n",
      "Epoch 9/20\n",
      "4500/4500 [==============================] - 12s 3ms/step - loss: 0.4307 - acc: 0.8073 - val_loss: 0.5241 - val_acc: 0.7680\n",
      "Epoch 10/20\n",
      "4500/4500 [==============================] - 12s 3ms/step - loss: 0.4264 - acc: 0.8093 - val_loss: 0.5434 - val_acc: 0.7360\n",
      "Epoch 11/20\n",
      "4500/4500 [==============================] - 12s 3ms/step - loss: 0.4150 - acc: 0.8107 - val_loss: 0.5169 - val_acc: 0.7600\n",
      "Epoch 12/20\n",
      "4500/4500 [==============================] - 12s 3ms/step - loss: 0.4074 - acc: 0.8136 - val_loss: 0.5151 - val_acc: 0.7420\n",
      "Epoch 13/20\n",
      "4500/4500 [==============================] - 12s 3ms/step - loss: 0.3997 - acc: 0.8249 - val_loss: 0.5273 - val_acc: 0.7420\n",
      "Epoch 14/20\n",
      "4500/4500 [==============================] - 12s 3ms/step - loss: 0.3914 - acc: 0.8251 - val_loss: 0.5201 - val_acc: 0.7620\n",
      "Epoch 15/20\n",
      "4500/4500 [==============================] - 12s 3ms/step - loss: 0.3922 - acc: 0.8180 - val_loss: 0.5115 - val_acc: 0.7540\n",
      "Epoch 16/20\n",
      "4500/4500 [==============================] - 12s 3ms/step - loss: 0.3887 - acc: 0.8249 - val_loss: 0.5215 - val_acc: 0.7700\n",
      "Epoch 17/20\n",
      "4500/4500 [==============================] - 12s 3ms/step - loss: 0.3804 - acc: 0.8282 - val_loss: 0.5198 - val_acc: 0.7700\n",
      "Epoch 18/20\n",
      "4500/4500 [==============================] - 12s 3ms/step - loss: 0.3727 - acc: 0.8340 - val_loss: 0.5116 - val_acc: 0.7460\n",
      "Epoch 19/20\n",
      "4500/4500 [==============================] - 12s 3ms/step - loss: 0.3727 - acc: 0.8351 - val_loss: 0.5153 - val_acc: 0.7540\n",
      "Epoch 20/20\n",
      "4500/4500 [==============================] - 12s 3ms/step - loss: 0.3660 - acc: 0.8398 - val_loss: 0.5199 - val_acc: 0.7680\n"
     ]
    },
    {
     "data": {
      "text/plain": [
       "<keras.callbacks.History at 0x7f1bcdd1a780>"
      ]
     },
     "execution_count": 12,
     "metadata": {},
     "output_type": "execute_result"
    }
   ],
   "source": [
    "from keras.layers import Bidirectional\n",
    "from keras.layers.embeddings import Embedding\n",
    "from keras.preprocessing import sequence\n",
    "\n",
    "embedding_vector_length = 32\n",
    "\n",
    "model = Sequential()\n",
    "model.add(Embedding(num_words, embedding_size, input_length=max_length, \n",
    "                    weights=[embedding_matrix], trainable=False))\n",
    "model.add(Bidirectional(LSTM(100)))\n",
    "model.add(Dropout(0.5))\n",
    "model.add(Dense(128, activation='relu'))\n",
    "model.add(Dropout(0.5))\n",
    "model.add(Dense(1, activation='sigmoid'))\n",
    "\n",
    "model.compile(loss='binary_crossentropy', \n",
    "              optimizer=Adam(**optimizer_args), \n",
    "              metrics=['accuracy'])\n",
    "\n",
    "print(model.summary())\n",
    "\n",
    "model.fit(X_train, y_train, validation_data=(X_dev, y_dev), epochs=25, batch_size=32)\n"
   ]
  },
  {
   "cell_type": "code",
   "execution_count": 13,
   "metadata": {},
   "outputs": [
    {
     "name": "stdout",
     "output_type": "stream",
     "text": [
      "500/500 [==============================] - 1s 1ms/step\n",
      "Loss        : 0.5199\n",
      "Accuracy    : 0.7680\n",
      "Precision   : 0.7345\n",
      "Recall      : 0.7477\n",
      "F1          : 0.7411\n"
     ]
    }
   ],
   "source": [
    "from hate.utils import print_evaluation\n",
    "\n",
    "print_evaluation(model, X_dev, y_dev.values)"
   ]
  },
  {
   "cell_type": "code",
   "execution_count": null,
   "metadata": {},
   "outputs": [],
   "source": []
  }
 ],
 "metadata": {
  "kernelspec": {
   "display_name": "Python 3",
   "language": "python",
   "name": "python3"
  },
  "language_info": {
   "codemirror_mode": {
    "name": "ipython",
    "version": 3
   },
   "file_extension": ".py",
   "mimetype": "text/x-python",
   "name": "python",
   "nbconvert_exporter": "python",
   "pygments_lexer": "ipython3",
   "version": "3.6.5"
  }
 },
 "nbformat": 4,
 "nbformat_minor": 2
}
