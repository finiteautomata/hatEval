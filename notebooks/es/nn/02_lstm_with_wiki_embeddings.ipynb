{
 "cells": [
  {
   "cell_type": "markdown",
   "metadata": {},
   "source": [
    "# LSTM con embeddings\n",
    "\n",
    "Modelo básico con los embeddings de fasttext"
   ]
  },
  {
   "cell_type": "code",
   "execution_count": 1,
   "metadata": {},
   "outputs": [
    {
     "name": "stdout",
     "output_type": "stream",
     "text": [
      "dev_es.tsv  train_es.tsv\n"
     ]
    }
   ],
   "source": [
    "%ls ../data/dev_es/"
   ]
  },
  {
   "cell_type": "code",
   "execution_count": 2,
   "metadata": {},
   "outputs": [],
   "source": [
    "import pandas as pd\n",
    "df_train = pd.read_table(\"../../../data/dev_es/train_es.tsv\", index_col=\"id\")\n",
    "df_dev = pd.read_table(\"../../../data/dev_es/dev_es.tsv\", index_col=\"id\")\n",
    "\n",
    "text_train, y_train = df_train[\"text\"], df_train[\"HS\"]\n",
    "text_dev, y_dev = df_dev[\"text\"], df_dev[\"HS\"]"
   ]
  },
  {
   "cell_type": "markdown",
   "metadata": {},
   "source": [
    "Tengo que hacer dos cosas:\n",
    "\n",
    "- Primero, convertir los tweets a secuencias de texto\n",
    "- Luego, paddear las secuencias a cierta longitud (Keras necesita esto para poder paralelizar cálculo)"
   ]
  },
  {
   "cell_type": "code",
   "execution_count": 3,
   "metadata": {},
   "outputs": [
    {
     "name": "stderr",
     "output_type": "stream",
     "text": [
      "Using TensorFlow backend.\n"
     ]
    }
   ],
   "source": [
    "from keras.preprocessing.text import Tokenizer\n",
    "from keras.preprocessing.sequence import pad_sequences\n",
    "\n",
    "num_words = 200000\n",
    "\n",
    "tokenizer = Tokenizer(num_words=num_words)\n",
    "tokenizer.fit_on_texts(text_train)\n",
    "\n",
    "X_train = tokenizer.texts_to_sequences(text_train)\n",
    "X_dev = tokenizer.texts_to_sequences(text_dev)\n",
    "\n",
    "max_length = 30\n",
    "\n",
    "X_train = pad_sequences(X_train, max_length)\n",
    "X_dev = pad_sequences(X_dev, max_length)"
   ]
  },
  {
   "cell_type": "markdown",
   "metadata": {},
   "source": [
    "Carguemos embeddings"
   ]
  },
  {
   "cell_type": "code",
   "execution_count": 4,
   "metadata": {},
   "outputs": [
    {
     "name": "stdout",
     "output_type": "stream",
     "text": [
      "Available embeddings:  ['/home/jmperez/WordVectors/UBA_w5_200.vec', '/home/jmperez/WordVectors/wiki.es.vec', '/home/jmperez/WordVectors/UBA_w5_300.vec']\n"
     ]
    }
   ],
   "source": [
    "import os\n",
    "from glob import glob\n",
    "\n",
    "path_to_embeddings = os.path.expanduser(\"/home/jmperez/WordVectors/\")\n",
    "\n",
    "print(\"Available embeddings: \", glob(os.path.join(path_to_embeddings, \"*.vec\")))"
   ]
  },
  {
   "cell_type": "markdown",
   "metadata": {},
   "source": [
    "# Wikipedia Embeddings\n",
    "\n",
    "Me quedo sólo con los embeddings de unigramas..."
   ]
  },
  {
   "cell_type": "code",
   "execution_count": 5,
   "metadata": {},
   "outputs": [],
   "source": [
    "import numpy as np\n",
    "\n",
    "word_to_vec = {}\n",
    "\n",
    "with open(os.path.join(path_to_embeddings, \"wiki.es.vec\")) as f:\n",
    "    for i, line in enumerate(f):\n",
    "        values = line.split()\n",
    "        word = values[0]\n",
    "        try:\n",
    "            vec = np.asarray(values[1:], dtype=\"float32\")\n",
    "            word_to_vec[word] = vec\n",
    "        except:\n",
    "            continue\n",
    "        \n",
    "        \n",
    "embedding_size = len(word_to_vec[\"hola\"])"
   ]
  },
  {
   "cell_type": "code",
   "execution_count": 6,
   "metadata": {},
   "outputs": [],
   "source": [
    "# create a weight matrix for words in training docs\n",
    "embedding_matrix = np.zeros((num_words, embedding_size))\n",
    "for word, i in tokenizer.word_index.items():\n",
    "    embedding_vector = word_to_vec.get(word)\n",
    "    if embedding_vector is not None:\n",
    "        embedding_matrix[i] = embedding_vector"
   ]
  },
  {
   "cell_type": "code",
   "execution_count": 7,
   "metadata": {},
   "outputs": [
    {
     "data": {
      "text/plain": [
       "(200000, 300)"
      ]
     },
     "execution_count": 7,
     "metadata": {},
     "output_type": "execute_result"
    }
   ],
   "source": [
    "embedding_matrix.shape"
   ]
  },
  {
   "cell_type": "code",
   "execution_count": 9,
   "metadata": {},
   "outputs": [
    {
     "name": "stdout",
     "output_type": "stream",
     "text": [
      "_________________________________________________________________\n",
      "Layer (type)                 Output Shape              Param #   \n",
      "=================================================================\n",
      "embedding_2 (Embedding)      (None, 30, 300)           60000000  \n",
      "_________________________________________________________________\n",
      "lstm_2 (LSTM)                (None, 100)               160400    \n",
      "_________________________________________________________________\n",
      "dropout_3 (Dropout)          (None, 100)               0         \n",
      "_________________________________________________________________\n",
      "dense_3 (Dense)              (None, 128)               12928     \n",
      "_________________________________________________________________\n",
      "dropout_4 (Dropout)          (None, 128)               0         \n",
      "_________________________________________________________________\n",
      "dense_4 (Dense)              (None, 1)                 129       \n",
      "=================================================================\n",
      "Total params: 60,173,457\n",
      "Trainable params: 173,457\n",
      "Non-trainable params: 60,000,000\n",
      "_________________________________________________________________\n",
      "None\n",
      "Train on 4469 samples, validate on 500 samples\n",
      "Epoch 1/20\n",
      "4469/4469 [==============================] - 8s 2ms/step - loss: 0.6523 - acc: 0.6326 - val_loss: 0.6456 - val_acc: 0.6620\n",
      "Epoch 2/20\n",
      "4469/4469 [==============================] - 7s 1ms/step - loss: 0.6012 - acc: 0.6917 - val_loss: 0.6015 - val_acc: 0.6840\n",
      "Epoch 3/20\n",
      "4469/4469 [==============================] - 7s 1ms/step - loss: 0.5467 - acc: 0.7384 - val_loss: 0.5506 - val_acc: 0.7440\n",
      "Epoch 4/20\n",
      "4469/4469 [==============================] - 7s 1ms/step - loss: 0.5216 - acc: 0.7469 - val_loss: 0.5246 - val_acc: 0.7420\n",
      "Epoch 5/20\n",
      "4469/4469 [==============================] - 6s 1ms/step - loss: 0.4746 - acc: 0.7774 - val_loss: 0.5288 - val_acc: 0.7520\n",
      "Epoch 6/20\n",
      "4469/4469 [==============================] - 6s 1ms/step - loss: 0.4337 - acc: 0.8031 - val_loss: 0.4887 - val_acc: 0.7600\n",
      "Epoch 7/20\n",
      "4469/4469 [==============================] - 6s 1ms/step - loss: 0.3927 - acc: 0.8293 - val_loss: 0.5200 - val_acc: 0.7620\n",
      "Epoch 8/20\n",
      "4469/4469 [==============================] - 7s 1ms/step - loss: 0.3523 - acc: 0.8474 - val_loss: 0.5227 - val_acc: 0.7640\n",
      "Epoch 9/20\n",
      "4469/4469 [==============================] - 6s 1ms/step - loss: 0.3184 - acc: 0.8593 - val_loss: 0.5240 - val_acc: 0.7720\n",
      "Epoch 10/20\n",
      "4469/4469 [==============================] - 7s 1ms/step - loss: 0.2950 - acc: 0.8749 - val_loss: 0.5055 - val_acc: 0.7860\n",
      "Epoch 11/20\n",
      "4469/4469 [==============================] - 7s 1ms/step - loss: 0.2572 - acc: 0.8971 - val_loss: 0.5400 - val_acc: 0.7660\n",
      "Epoch 12/20\n",
      "4469/4469 [==============================] - 7s 1ms/step - loss: 0.2314 - acc: 0.9065 - val_loss: 0.6788 - val_acc: 0.7600\n",
      "Epoch 13/20\n",
      "4469/4469 [==============================] - 7s 1ms/step - loss: 0.2044 - acc: 0.9143 - val_loss: 0.6615 - val_acc: 0.7680\n",
      "Epoch 14/20\n",
      "4469/4469 [==============================] - 7s 1ms/step - loss: 0.1729 - acc: 0.9282 - val_loss: 0.7963 - val_acc: 0.7740\n",
      "Epoch 15/20\n",
      "4469/4469 [==============================] - 7s 1ms/step - loss: 0.1516 - acc: 0.9416 - val_loss: 0.7287 - val_acc: 0.7660\n",
      "Epoch 16/20\n",
      "4469/4469 [==============================] - 7s 1ms/step - loss: 0.1162 - acc: 0.9544 - val_loss: 0.7989 - val_acc: 0.7400\n",
      "Epoch 17/20\n",
      "4469/4469 [==============================] - 7s 1ms/step - loss: 0.0993 - acc: 0.9579 - val_loss: 1.0275 - val_acc: 0.7480\n",
      "Epoch 18/20\n",
      "4469/4469 [==============================] - 7s 2ms/step - loss: 0.0779 - acc: 0.9684 - val_loss: 0.9555 - val_acc: 0.7580\n",
      "Epoch 19/20\n",
      "4469/4469 [==============================] - 6s 1ms/step - loss: 0.0879 - acc: 0.9673 - val_loss: 0.9760 - val_acc: 0.7700\n",
      "Epoch 20/20\n",
      "4469/4469 [==============================] - 7s 1ms/step - loss: 0.0628 - acc: 0.9801 - val_loss: 1.0599 - val_acc: 0.7440\n"
     ]
    },
    {
     "data": {
      "text/plain": [
       "<keras.callbacks.History at 0x7f06445017f0>"
      ]
     },
     "execution_count": 9,
     "metadata": {},
     "output_type": "execute_result"
    }
   ],
   "source": [
    "from keras.models import Sequential\n",
    "from keras.layers import Dense\n",
    "from keras.layers import LSTM, Dropout\n",
    "from keras.layers.embeddings import Embedding\n",
    "from keras.preprocessing import sequence\n",
    "\n",
    "\n",
    "model = Sequential()\n",
    "model.add(Embedding(num_words, embedding_size, input_length=max_length, weights=[embedding_matrix], trainable=False))\n",
    "model.add(LSTM(100))\n",
    "model.add(Dropout(0.65))\n",
    "model.add(Dense(128, activation='relu'))\n",
    "model.add(Dropout(0.35))\n",
    "model.add(Dense(1, activation='sigmoid'))\n",
    "model.compile(loss='binary_crossentropy', optimizer='adam', metrics=['accuracy'])\n",
    "print(model.summary())\n",
    "\n",
    "model.fit(X_train, y_train, \n",
    "          validation_data=(X_dev, y_dev), \n",
    "          epochs=20, batch_size=32)\n"
   ]
  },
  {
   "cell_type": "code",
   "execution_count": 9,
   "metadata": {},
   "outputs": [
    {
     "name": "stdout",
     "output_type": "stream",
     "text": [
      "500/500 [==============================] - 0s 583us/step\n",
      "Loss function: 0.577\n",
      "Accuracy: 79.20%\n"
     ]
    }
   ],
   "source": [
    "loss, accuracy = model.evaluate(X_dev, y_dev)\n",
    "\n",
    "print(\"Loss function: {:.3f}\".format(loss))\n",
    "print(\"Accuracy: {:.2f}%\".format(accuracy*100))"
   ]
  },
  {
   "cell_type": "markdown",
   "metadata": {},
   "source": [
    "## Bidirectional LSTM"
   ]
  },
  {
   "cell_type": "code",
   "execution_count": 10,
   "metadata": {},
   "outputs": [
    {
     "name": "stdout",
     "output_type": "stream",
     "text": [
      "_________________________________________________________________\n",
      "Layer (type)                 Output Shape              Param #   \n",
      "=================================================================\n",
      "embedding_2 (Embedding)      (None, 30, 300)           60000000  \n",
      "_________________________________________________________________\n",
      "bidirectional_1 (Bidirection (None, 200)               320800    \n",
      "_________________________________________________________________\n",
      "dropout_3 (Dropout)          (None, 200)               0         \n",
      "_________________________________________________________________\n",
      "dense_3 (Dense)              (None, 128)               25728     \n",
      "_________________________________________________________________\n",
      "dropout_4 (Dropout)          (None, 128)               0         \n",
      "_________________________________________________________________\n",
      "dense_4 (Dense)              (None, 1)                 129       \n",
      "=================================================================\n",
      "Total params: 60,346,657\n",
      "Trainable params: 346,657\n",
      "Non-trainable params: 60,000,000\n",
      "_________________________________________________________________\n",
      "None\n",
      "Train on 4469 samples, validate on 500 samples\n",
      "Epoch 1/10\n",
      "4469/4469 [==============================] - 13s 3ms/step - loss: 0.6551 - acc: 0.6268 - val_loss: 0.6232 - val_acc: 0.6580\n",
      "Epoch 2/10\n",
      "4469/4469 [==============================] - 12s 3ms/step - loss: 0.5786 - acc: 0.7156 - val_loss: 0.5836 - val_acc: 0.6940\n",
      "Epoch 3/10\n",
      "4469/4469 [==============================] - 12s 3ms/step - loss: 0.5216 - acc: 0.7527 - val_loss: 0.5240 - val_acc: 0.7420\n",
      "Epoch 4/10\n",
      "4469/4469 [==============================] - 12s 3ms/step - loss: 0.4784 - acc: 0.7778 - val_loss: 0.5105 - val_acc: 0.7400\n",
      "Epoch 5/10\n",
      "4469/4469 [==============================] - 12s 3ms/step - loss: 0.4267 - acc: 0.8100 - val_loss: 0.5031 - val_acc: 0.7580\n",
      "Epoch 6/10\n",
      "4469/4469 [==============================] - 12s 3ms/step - loss: 0.3901 - acc: 0.8268 - val_loss: 0.5097 - val_acc: 0.7580\n",
      "Epoch 7/10\n",
      "4469/4469 [==============================] - 12s 3ms/step - loss: 0.3528 - acc: 0.8414 - val_loss: 0.5408 - val_acc: 0.7780\n",
      "Epoch 8/10\n",
      "4469/4469 [==============================] - 12s 3ms/step - loss: 0.3040 - acc: 0.8720 - val_loss: 0.5342 - val_acc: 0.7700\n",
      "Epoch 9/10\n",
      "4469/4469 [==============================] - 12s 3ms/step - loss: 0.2731 - acc: 0.8913 - val_loss: 0.5848 - val_acc: 0.7480\n",
      "Epoch 10/10\n",
      "4469/4469 [==============================] - 12s 3ms/step - loss: 0.2321 - acc: 0.9067 - val_loss: 0.6443 - val_acc: 0.7660\n"
     ]
    },
    {
     "data": {
      "text/plain": [
       "<keras.callbacks.History at 0x7f45bc2067f0>"
      ]
     },
     "execution_count": 10,
     "metadata": {},
     "output_type": "execute_result"
    }
   ],
   "source": [
    "from keras.layers import Bidirectional\n",
    "from keras.layers.embeddings import Embedding\n",
    "from keras.preprocessing import sequence\n",
    "\n",
    "embedding_vector_length = 32\n",
    "\n",
    "model = Sequential()\n",
    "model.add(Embedding(num_words, embedding_size, input_length=max_length, \n",
    "                    weights=[embedding_matrix], trainable=False))\n",
    "model.add(Bidirectional(LSTM(100)))\n",
    "model.add(Dropout(0.5))\n",
    "model.add(Dense(128, activation='relu'))\n",
    "model.add(Dropout(0.5))\n",
    "model.add(Dense(1, activation='sigmoid'))\n",
    "model.compile(loss='binary_crossentropy', optimizer='adam', metrics=['accuracy'])\n",
    "print(model.summary())\n",
    "\n",
    "model.fit(X_train, y_train, validation_data=(X_dev, y_dev), epochs=10, batch_size=32)\n"
   ]
  },
  {
   "cell_type": "code",
   "execution_count": 12,
   "metadata": {},
   "outputs": [
    {
     "name": "stdout",
     "output_type": "stream",
     "text": [
      "500/500 [==============================] - 1s 1ms/step\n",
      "Loss function: 0.644\n",
      "Accuracy: 76.60%\n"
     ]
    }
   ],
   "source": [
    "loss, accuracy = model.evaluate(X_dev, y_dev)\n",
    "\n",
    "print(\"Loss function: {:.3f}\".format(loss))\n",
    "print(\"Accuracy: {:.2f}%\".format(accuracy*100))"
   ]
  },
  {
   "cell_type": "code",
   "execution_count": null,
   "metadata": {},
   "outputs": [],
   "source": []
  }
 ],
 "metadata": {
  "kernelspec": {
   "display_name": "Python 3",
   "language": "python",
   "name": "python3"
  },
  "language_info": {
   "codemirror_mode": {
    "name": "ipython",
    "version": 3
   },
   "file_extension": ".py",
   "mimetype": "text/x-python",
   "name": "python",
   "nbconvert_exporter": "python",
   "pygments_lexer": "ipython3",
   "version": "3.6.5"
  }
 },
 "nbformat": 4,
 "nbformat_minor": 2
}
