{
 "cells": [
  {
   "cell_type": "markdown",
   "metadata": {},
   "source": [
    "# Ensembles\n",
    "\n",
    "En esta notebook, veremos de hacer un ensemble neuronal de las técnicas vistas hasta el momento (y quizás alguna más)\n",
    "\n",
    "Vamos a usar\n",
    "\n",
    "- Modelo char\n",
    "- Modelo BoW\n",
    "- Modelo ElMO\n"
   ]
  },
  {
   "cell_type": "code",
   "execution_count": 1,
   "metadata": {},
   "outputs": [
    {
     "name": "stdout",
     "output_type": "stream",
     "text": [
      "Instancias de entrenamiento: 4500\n",
      "Instancias de desarrollo: 500\n"
     ]
    }
   ],
   "source": [
    "import pandas as pd\n",
    "import csv\n",
    "\n",
    "df_dev = pd.read_table(\"../../../data/es/dev_es.tsv\", index_col=\"id\", quoting=csv.QUOTE_NONE)\n",
    "df_train = pd.read_table(\"../../../data/es/train_es.tsv\", index_col=\"id\", quoting=csv.QUOTE_NONE)\n",
    "\n",
    "text_train, y_train = df_train[\"text\"], df_train[\"HS\"]\n",
    "text_dev, y_dev = df_dev[\"text\"], df_dev[\"HS\"]\n",
    "\n",
    "print(\"Instancias de entrenamiento: {}\".format(len(df_train)))\n",
    "print(\"Instancias de desarrollo: {}\".format(len(df_dev)))\n"
   ]
  },
  {
   "cell_type": "code",
   "execution_count": 2,
   "metadata": {},
   "outputs": [
    {
     "name": "stderr",
     "output_type": "stream",
     "text": [
      "Using TensorFlow backend.\n"
     ]
    },
    {
     "name": "stdout",
     "output_type": "stream",
     "text": [
      "Embeddings disponibles\n",
      "['/home/jmperez/WordVectors/UBA_w5_200.vec', '/home/jmperez/WordVectors/wiki.es.vec', '/home/jmperez/WordVectors/UBA_w5_300.vec']\n",
      "Problema con la sig línea:\n",
      "['.', '.', '-0.22232', '0.0052569', '0.47066', '0.13836', '0.15991', '0.19504', '0.00067885', '0.020299']\n",
      "Problema con la sig línea:\n",
      "['.', '...', '-0.11666', '-0.083768', '0.028919', '0.29973', '0.21017', '0.27808', '0.063251', '0.090223']\n",
      "Problema con la sig línea:\n",
      "['.', '..', '-0.43752', '-0.0016885', '0.1533', '0.28071', '0.18051', '0.28698', '0.11806', '0.044891']\n"
     ]
    }
   ],
   "source": [
    "import os\n",
    "import glob\n",
    "from hate.utils import load_embedding\n",
    "\n",
    "path_to_embeddings = os.path.expanduser(\"~/WordVectors\")\n",
    "\n",
    "print(\"Embeddings disponibles\")\n",
    "print(glob.glob(path_to_embeddings+\"/*.vec\"))\n",
    "\n",
    "word_to_vec = load_embedding(os.path.join(path_to_embeddings, \"UBA_w5_300.vec\"))"
   ]
  },
  {
   "cell_type": "markdown",
   "metadata": {},
   "source": [
    "Hagamos tokenize sobre el texto"
   ]
  },
  {
   "cell_type": "code",
   "execution_count": 3,
   "metadata": {},
   "outputs": [],
   "source": [
    "%matplotlib inline\n",
    "from nltk.tokenize import TweetTokenizer\n",
    "from keras.preprocessing.sequence import pad_sequences\n",
    "from sklearn.feature_extraction.text import CountVectorizer, TfidfTransformer\n",
    "from nltk.stem import SnowballStemmer\n",
    "import matplotlib.pyplot as plt\n",
    "import unidecode\n",
    "\n",
    "\n",
    "stemmer = SnowballStemmer('spanish')\n",
    "\n",
    "def tokenize(tweet, stem=False, deaccent=True, alpha_only=False, **kwargs):\n",
    "    tokenizer = TweetTokenizer(**kwargs)\n",
    "    tokens = tokenizer.tokenize(tweet)\n",
    "    \n",
    "    ret = []\n",
    "    \n",
    "    def fstem(x):\n",
    "        if stem:\n",
    "            return stemmer.stem(x)\n",
    "        else:\n",
    "            return x\n",
    "        \n",
    "    for token in tokens:\n",
    "        tok = None\n",
    "        if token[0] == \"#\":            \n",
    "            tok = fstem(token[1:])\n",
    "        elif token[0] == \"@\":\n",
    "            tok = \"@user\"\n",
    "        elif \"http\" in token:\n",
    "            continue\n",
    "        else:\n",
    "            tok = fstem(token)\n",
    "        \n",
    "        if deaccent and tok.isalpha():\n",
    "            tok = unidecode.unidecode(tok)\n",
    "        if alpha_only and not tok.isalpha():\n",
    "            continue\n",
    "        \n",
    "        ret.append(tok)\n",
    "    return ret\n",
    "\n"
   ]
  },
  {
   "cell_type": "markdown",
   "metadata": {},
   "source": [
    "## Embeddings Model"
   ]
  },
  {
   "cell_type": "code",
   "execution_count": 4,
   "metadata": {},
   "outputs": [],
   "source": [
    "tokenize_args = {\n",
    "    \"preserve_case\": False, \n",
    "    \"deaccent\": False,\n",
    "    \"reduce_len\": True, \n",
    "    \"strip_handles\": False,\n",
    "    \"stem\": False,\n",
    "    \"alpha_only\": True\n",
    "}\n",
    "\n",
    "text_train = [\" \".join(tokenize(t, **tokenize_args)) for t in df_train[\"text\"].values]\n",
    "text_dev = [\" \".join(tokenize(t, **tokenize_args)) for t in df_dev[\"text\"].values]\n"
   ]
  },
  {
   "cell_type": "code",
   "execution_count": 5,
   "metadata": {},
   "outputs": [
    {
     "data": {
      "text/plain": [
       "'no hay nada más lento que un caracol cállate hijo de puta eso lo dices porque no tienes blackberry'"
      ]
     },
     "execution_count": 5,
     "metadata": {},
     "output_type": "execute_result"
    }
   ],
   "source": [
    "text_train[-1]"
   ]
  },
  {
   "cell_type": "code",
   "execution_count": 6,
   "metadata": {},
   "outputs": [],
   "source": [
    "from keras.preprocessing.text import Tokenizer\n",
    "from keras.preprocessing.sequence import pad_sequences\n",
    "\n",
    "emb_num_words = 12500\n",
    "\n",
    "tokenizer = Tokenizer(num_words=emb_num_words)\n",
    "tokenizer.fit_on_texts(text_train)\n",
    "\n",
    "emb_train = tokenizer.texts_to_sequences(text_train)\n",
    "emb_dev = tokenizer.texts_to_sequences(text_dev)\n"
   ]
  },
  {
   "cell_type": "code",
   "execution_count": 7,
   "metadata": {},
   "outputs": [
    {
     "name": "stdout",
     "output_type": "stream",
     "text": [
      "Vocabulario: 14008 palabras\n"
     ]
    }
   ],
   "source": [
    "print(\"Vocabulario: {} palabras\".format(len(tokenizer.word_index)))"
   ]
  },
  {
   "cell_type": "code",
   "execution_count": 8,
   "metadata": {},
   "outputs": [
    {
     "data": {
      "text/plain": [
       "(array([525., 981., 923., 771., 415., 331., 286., 181.,  73.,  14.]),\n",
       " array([ 1. ,  6.8, 12.6, 18.4, 24.2, 30. , 35.8, 41.6, 47.4, 53.2, 59. ]),\n",
       " <a list of 10 Patch objects>)"
      ]
     },
     "execution_count": 8,
     "metadata": {},
     "output_type": "execute_result"
    },
    {
     "data": {
      "image/png": "[encoded data removed]",
      "text/plain": [
       "<Figure size 432x288 with 1 Axes>"
      ]
     },
     "metadata": {
      "needs_background": "light"
     },
     "output_type": "display_data"
    }
   ],
   "source": [
    "plt.hist([len(t) for t in emb_train])"
   ]
  },
  {
   "cell_type": "code",
   "execution_count": 9,
   "metadata": {},
   "outputs": [],
   "source": [
    "\n",
    "emb_max_length = 50\n",
    "\n",
    "X_emb_train = pad_sequences(emb_train, emb_max_length)\n",
    "X_emb_dev = pad_sequences(emb_dev, emb_max_length)"
   ]
  },
  {
   "cell_type": "code",
   "execution_count": 10,
   "metadata": {},
   "outputs": [],
   "source": [
    "# create a weight matrix for words in training docs\n",
    "import numpy as np\n",
    "\n",
    "embedding_size = word_to_vec[\"hola\"].shape[0]\n",
    "embedding_matrix = np.zeros((emb_num_words, embedding_size))\n",
    "\n",
    "for word, i in tokenizer.word_index.items():\n",
    "    embedding_vector = word_to_vec.get(word)\n",
    "    if embedding_vector is not None and i < emb_num_words:\n",
    "        embedding_matrix[i] = embedding_vector"
   ]
  },
  {
   "cell_type": "markdown",
   "metadata": {},
   "source": [
    "## Bow Model"
   ]
  },
  {
   "cell_type": "code",
   "execution_count": 11,
   "metadata": {},
   "outputs": [],
   "source": [
    "\n",
    "tokenize_args = {\n",
    "    \"preserve_case\": False, \n",
    "    \"deaccent\": False,\n",
    "    \"reduce_len\": True, \n",
    "    \"strip_handles\": False,\n",
    "    \"stem\": True,\n",
    "    \"alpha_only\": True\n",
    "}\n",
    "vect = CountVectorizer(tokenizer=lambda t: tokenize(t, **tokenize_args), \n",
    "                       max_df=0.90, min_df=0.001, ngram_range=(1, 2), binary=True)\n",
    "\n",
    "vect.fit(df_train[\"text\"])\n",
    "\n",
    "X_bow_train = vect.transform(df_train[\"text\"])\n",
    "X_bow_dev = vect.transform(df_dev[\"text\"])\n",
    "\n",
    "X_bow_train.shape, X_bow_dev.shape"
   ]
  },
  {
   "cell_type": "markdown",
   "metadata": {},
   "source": [
    "## Char Input"
   ]
  },
  {
   "cell_type": "code",
   "execution_count": 12,
   "metadata": {},
   "outputs": [],
   "source": [
    "from keras.preprocessing.text import Tokenizer\n",
    "from keras.preprocessing.sequence import pad_sequences\n",
    "\n",
    "vocab_size = 200\n",
    "\n",
    "\n",
    "tokenize_args = {\n",
    "    \"preserve_case\": False, \n",
    "    \"deaccent\": True,\n",
    "    \"reduce_len\": True, \n",
    "    \"strip_handles\": False,\n",
    "    \"stem\": True,\n",
    "    \"alpha_only\": False\n",
    "}\n",
    "\n",
    "text_train = [\" \".join(tokenize(t, **tokenize_args)) for t in df_train[\"text\"].values]\n",
    "text_dev = [\" \".join(tokenize(t, **tokenize_args)) for t in df_dev[\"text\"].values]\n",
    "\n",
    "char_tokenizer = Tokenizer(num_words=vocab_size, char_level=True, \n",
    "                           lower=tokenize_args[\"preserve_case\"])\n",
    "char_tokenizer.fit_on_texts(text_train)\n",
    "\n",
    "X_char_train = char_tokenizer.texts_to_sequences(text_train)\n",
    "X_char_dev = char_tokenizer.texts_to_sequences(text_dev)"
   ]
  },
  {
   "cell_type": "code",
   "execution_count": 13,
   "metadata": {},
   "outputs": [
    {
     "data": {
      "text/plain": [
       "(array([358., 909., 892., 801., 491., 274., 256., 264., 220.,  35.]),\n",
       " array([  5. ,  32.1,  59.2,  86.3, 113.4, 140.5, 167.6, 194.7, 221.8,\n",
       "        248.9, 276. ]),\n",
       " <a list of 10 Patch objects>)"
      ]
     },
     "execution_count": 13,
     "metadata": {},
     "output_type": "execute_result"
    },
    {
     "data": {
      "image/png": "[encoded data removed]",
      "text/plain": [
       "<Figure size 432x288 with 1 Axes>"
      ]
     },
     "metadata": {
      "needs_background": "light"
     },
     "output_type": "display_data"
    }
   ],
   "source": [
    "%matplotlib inline\n",
    "import matplotlib.pyplot as plt\n",
    "\n",
    "plt.hist([len(seq) for seq in X_char_train])"
   ]
  },
  {
   "cell_type": "markdown",
   "metadata": {},
   "source": [
    "Sanity check: veamos que si \"destokenizo\", me reconstruye algo razonable"
   ]
  },
  {
   "cell_type": "code",
   "execution_count": 14,
   "metadata": {},
   "outputs": [
    {
     "name": "stdout",
     "output_type": "stream",
     "text": [
      "[\"e a s y j e t   q u i e r   d u p l i c   e l   n u m e r   d e   m u j e r   p i l o t   '   v e r a s   t u   p a r   a p a r c   e l   a v i o n   . .\"]\n",
      "easyjet quier duplic el numer de mujer pilot ' veras tu par aparc el avion ..\n",
      "['e l   g o b i e r n   d e b   c r e   u n   c o n t r o l   e s t r i c t   d e   i n m i g r   e n   l a s   z o n   f r o n t e r i z   c o n   c o l o m b i   p o r   q   d e s p u e s   d e l   2 0 - 8   q u e r r a n   v e n   e n   m a s']\n",
      "el gobiern deb cre un control estrict de inmigr en las zon fronteriz con colombi por q despues del 20-8 querran ven en mas\n"
     ]
    }
   ],
   "source": [
    "print(char_tokenizer.sequences_to_texts(X_char_train[0:1]))\n",
    "print(text_train[0])\n",
    "print(char_tokenizer.sequences_to_texts(X_char_train[1:2]))\n",
    "print(text_train[1])"
   ]
  },
  {
   "cell_type": "code",
   "execution_count": 15,
   "metadata": {},
   "outputs": [],
   "source": [
    "\n",
    "max_charlen = 300\n",
    "\n",
    "X_char_train = pad_sequences(X_char_train, maxlen=max_charlen)\n",
    "X_char_dev = pad_sequences(X_char_dev, maxlen=max_charlen)"
   ]
  },
  {
   "cell_type": "markdown",
   "metadata": {},
   "source": [
    "## Elmo Input"
   ]
  },
  {
   "cell_type": "code",
   "execution_count": 16,
   "metadata": {},
   "outputs": [
    {
     "data": {
      "text/plain": [
       "['easyjet',\n",
       " 'quiere',\n",
       " 'duplicar',\n",
       " 'el',\n",
       " 'número',\n",
       " 'de',\n",
       " 'mujeres',\n",
       " 'piloto',\n",
       " 'verás',\n",
       " 'tú',\n",
       " 'para',\n",
       " 'aparcar',\n",
       " 'el',\n",
       " 'avión']"
      ]
     },
     "execution_count": 16,
     "metadata": {},
     "output_type": "execute_result"
    }
   ],
   "source": [
    "from keras.utils import to_categorical\n",
    "import numpy as np\n",
    "\n",
    "tokenize_args = {\n",
    "    \"preserve_case\": False, \n",
    "    \"deaccent\": False,\n",
    "    \"reduce_len\": True, \n",
    "    \"strip_handles\": False,\n",
    "    \"alpha_only\": True,\n",
    "}\n",
    "\n",
    "\n",
    "tokens_train = [tokenize(tweet, **tokenize_args) for tweet in df_train[\"text\"].values]\n",
    "tokens_dev = [tokenize(tweet, **tokenize_args) for tweet in df_dev[\"text\"].values]\n",
    "\n",
    "tokens_train[0]"
   ]
  },
  {
   "cell_type": "markdown",
   "metadata": {},
   "source": [
    "Ahora, calculemos los inputs de ElMO"
   ]
  },
  {
   "cell_type": "code",
   "execution_count": 17,
   "metadata": {},
   "outputs": [
    {
     "data": {
      "text/plain": [
       "(array([505., 959., 927., 772., 417., 336., 285., 200.,  82.,  17.]),\n",
       " array([ 1. ,  6.8, 12.6, 18.4, 24.2, 30. , 35.8, 41.6, 47.4, 53.2, 59. ]),\n",
       " <a list of 10 Patch objects>)"
      ]
     },
     "execution_count": 17,
     "metadata": {},
     "output_type": "execute_result"
    },
    {
     "data": {
      "image/png": "[encoded data removed]",
      "text/plain": [
       "<Figure size 432x288 with 1 Axes>"
      ]
     },
     "metadata": {
      "needs_background": "light"
     },
     "output_type": "display_data"
    }
   ],
   "source": [
    "%matplotlib inline\n",
    "import matplotlib.pyplot as plt\n",
    "\n",
    "plt.hist([len(t) for t in tokens_train])"
   ]
  },
  {
   "cell_type": "markdown",
   "metadata": {},
   "source": [
    "Padeamos los vectores con espacios"
   ]
  },
  {
   "cell_type": "code",
   "execution_count": 18,
   "metadata": {},
   "outputs": [],
   "source": [
    "elmo_max_length = 50\n",
    "\n",
    "def pad_tokens(tokens, max_len):\n",
    "    if len(tokens) >= max_len:\n",
    "        return tokens[:max_len]\n",
    "    else:\n",
    "        tokens = tokens + [''] * (max_len - len(tokens))\n",
    "    return tokens\n",
    "\n",
    "padded_tokens_train = [pad_tokens(seq, elmo_max_length) for seq in tokens_train]\n",
    "padded_tokens_dev = [pad_tokens(seq, elmo_max_length) for seq in tokens_dev]\n"
   ]
  },
  {
   "cell_type": "code",
   "execution_count": 19,
   "metadata": {},
   "outputs": [],
   "source": [
    "%%capture\n",
    "from elmoformanylangs import Embedder\n",
    "\n",
    "e = Embedder(\"../../../models/elmo/es/\")"
   ]
  },
  {
   "cell_type": "code",
   "execution_count": 20,
   "metadata": {},
   "outputs": [
    {
     "name": "stdout",
     "output_type": "stream",
     "text": [
      "['easyjet', 'quiere', 'duplicar', 'el', 'número', 'de', 'mujeres', 'piloto', 'verás', 'tú', 'para', 'aparcar', 'el', 'avión', '', '', '', '', '', '', '', '', '', '', '', '', '', '', '', '', '', '', '', '', '', '', '', '', '', '', '', '', '', '', '', '', '', '', '', '']\n"
     ]
    }
   ],
   "source": [
    "import numpy as np\n",
    "\n",
    "print(padded_tokens_train[0])\n",
    "\n",
    "elmo_dim = 1024\n",
    "\n",
    "elmo_train = np.array(e.sents2elmo(padded_tokens_train, -1))\n",
    "elmo_dev = np.array(e.sents2elmo(padded_tokens_dev, -1))"
   ]
  },
  {
   "cell_type": "code",
   "execution_count": 21,
   "metadata": {},
   "outputs": [
    {
     "data": {
      "text/plain": [
       "(array([8.7644e+04, 5.0588e+04, 2.1545e+04, 3.0607e+04, 2.4557e+04,\n",
       "        8.9710e+03, 1.0110e+03, 7.1000e+01, 4.0000e+00, 2.0000e+00]),\n",
       " array([13.044382, 16.201157, 19.35793 , 22.514704, 25.671478, 28.82825 ,\n",
       "        31.985025, 35.1418  , 38.298573, 41.45535 , 44.61212 ],\n",
       "       dtype=float32),\n",
       " <a list of 10 Patch objects>)"
      ]
     },
     "execution_count": 21,
     "metadata": {},
     "output_type": "execute_result"
    },
    {
     "data": {
      "image/png": "[encoded data removed]",
      "text/plain": [
       "<Figure size 432x288 with 1 Axes>"
      ]
     },
     "metadata": {
      "needs_background": "light"
     },
     "output_type": "display_data"
    }
   ],
   "source": [
    "plt.hist([np.linalg.norm(t) for seq in elmo_train for t in seq ])"
   ]
  },
  {
   "cell_type": "code",
   "execution_count": 22,
   "metadata": {},
   "outputs": [
    {
     "data": {
      "text/plain": [
       "((4500, 50, 1024), (500, 50, 1024))"
      ]
     },
     "execution_count": 22,
     "metadata": {},
     "output_type": "execute_result"
    }
   ],
   "source": [
    "\n",
    "def pad_vectors(X, max_len, norm=False):\n",
    "    pad_vector = np.zeros((1, elmo_dim))\n",
    "    ret = []\n",
    "    \n",
    "    for seq in X:\n",
    "        if norm:\n",
    "            seq = seq / np.linalg.norm(seq, axis=1)[..., np.newaxis]\n",
    "        if len(seq) > max_len:\n",
    "            ret.append(seq[:max_len])\n",
    "        else:\n",
    "            padded = np.vstack([\n",
    "                seq, \n",
    "                np.zeros((max_len - len(seq), elmo_dim))\n",
    "            ])\n",
    "            \n",
    "            ret.append(padded)\n",
    "        \n",
    "    return ret\n",
    "\n",
    "\n",
    "X_elmo_train = np.array(pad_vectors(elmo_train, elmo_max_length))\n",
    "X_elmo_dev = np.array(pad_vectors(elmo_dev, elmo_max_length))\n",
    "\n",
    "X_elmo_train.shape, X_elmo_dev.shape"
   ]
  },
  {
   "cell_type": "code",
   "execution_count": 23,
   "metadata": {},
   "outputs": [
    {
     "data": {
      "text/plain": [
       "(array([8.7644e+04, 5.0588e+04, 2.1545e+04, 3.0607e+04, 2.4557e+04,\n",
       "        8.9710e+03, 1.0110e+03, 7.1000e+01, 4.0000e+00, 2.0000e+00]),\n",
       " array([13.04438215, 16.20115588, 19.35792962, 22.51470335, 25.67147708,\n",
       "        28.82825081, 31.98502455, 35.14179828, 38.29857201, 41.45534574,\n",
       "        44.61211947]),\n",
       " <a list of 10 Patch objects>)"
      ]
     },
     "execution_count": 23,
     "metadata": {},
     "output_type": "execute_result"
    },
    {
     "data": {
      "image/png": "[encoded data removed]",
      "text/plain": [
       "<Figure size 432x288 with 1 Axes>"
      ]
     },
     "metadata": {
      "needs_background": "light"
     },
     "output_type": "display_data"
    }
   ],
   "source": [
    "norms = [np.linalg.norm(t) for seq in X_elmo_train for t in seq ]\n",
    "\n",
    "plt.hist(norms)"
   ]
  },
  {
   "cell_type": "markdown",
   "metadata": {},
   "source": [
    "## Modelo múltiple inputs\n",
    "Hagamos un primer modelo con múltiple inputs."
   ]
  },
  {
   "cell_type": "code",
   "execution_count": 33,
   "metadata": {},
   "outputs": [
    {
     "name": "stdout",
     "output_type": "stream",
     "text": [
      "__________________________________________________________________________________________________\n",
      "Layer (type)                    Output Shape         Param #     Connected to                     \n",
      "==================================================================================================\n",
      "Char_Input (InputLayer)         (None, 300)          0                                            \n",
      "__________________________________________________________________________________________________\n",
      "embedding_9 (Embedding)         (None, 300, 64)      12800       Char_Input[0][0]                 \n",
      "__________________________________________________________________________________________________\n",
      "conv1d_5 (Conv1D)               (None, 300, 128)     57472       embedding_9[0][0]                \n",
      "__________________________________________________________________________________________________\n",
      "Emb_Input (InputLayer)          (None, 50)           0                                            \n",
      "__________________________________________________________________________________________________\n",
      "max_pooling1d_5 (MaxPooling1D)  (None, 75, 128)      0           conv1d_5[0][0]                   \n",
      "__________________________________________________________________________________________________\n",
      "Elmo_Input (InputLayer)         (None, 50, 1024)     0                                            \n",
      "__________________________________________________________________________________________________\n",
      "BoW_Input (InputLayer)          (None, 3662)         0                                            \n",
      "__________________________________________________________________________________________________\n",
      "embedding_10 (Embedding)        (None, 50, 300)      3750000     Emb_Input[0][0]                  \n",
      "__________________________________________________________________________________________________\n",
      "bidirectional_13 (Bidirectional (None, 128)          99328       max_pooling1d_5[0][0]            \n",
      "__________________________________________________________________________________________________\n",
      "bidirectional_14 (Bidirectional (None, 192)          861696      Elmo_Input[0][0]                 \n",
      "__________________________________________________________________________________________________\n",
      "dense_5 (Dense)                 (None, 128)          468864      BoW_Input[0][0]                  \n",
      "__________________________________________________________________________________________________\n",
      "bidirectional_15 (Bidirectional (None, 128)          187392      embedding_10[0][0]               \n",
      "__________________________________________________________________________________________________\n",
      "dropout_21 (Dropout)            (None, 128)          0           bidirectional_13[0][0]           \n",
      "__________________________________________________________________________________________________\n",
      "dropout_22 (Dropout)            (None, 192)          0           bidirectional_14[0][0]           \n",
      "__________________________________________________________________________________________________\n",
      "dropout_23 (Dropout)            (None, 128)          0           dense_5[0][0]                    \n",
      "__________________________________________________________________________________________________\n",
      "dropout_24 (Dropout)            (None, 128)          0           bidirectional_15[0][0]           \n",
      "__________________________________________________________________________________________________\n",
      "dense_char (Dense)              (None, 128)          16512       dropout_21[0][0]                 \n",
      "__________________________________________________________________________________________________\n",
      "dense_elmo (Dense)              (None, 128)          24704       dropout_22[0][0]                 \n",
      "__________________________________________________________________________________________________\n",
      "dense_bow (Dense)               (None, 128)          16512       dropout_23[0][0]                 \n",
      "__________________________________________________________________________________________________\n",
      "dense_emb (Dense)               (None, 128)          16512       dropout_24[0][0]                 \n",
      "__________________________________________________________________________________________________\n",
      "concatenate_5 (Concatenate)     (None, 512)          0           dense_char[0][0]                 \n",
      "                                                                 dense_elmo[0][0]                 \n",
      "                                                                 dense_bow[0][0]                  \n",
      "                                                                 dense_emb[0][0]                  \n",
      "__________________________________________________________________________________________________\n",
      "dropout_25 (Dropout)            (None, 512)          0           concatenate_5[0][0]              \n",
      "__________________________________________________________________________________________________\n",
      "sigmoid_output (Dense)          (None, 1)            513         dropout_25[0][0]                 \n",
      "==================================================================================================\n",
      "Total params: 5,512,305\n",
      "Trainable params: 1,762,305\n",
      "Non-trainable params: 3,750,000\n",
      "__________________________________________________________________________________________________\n",
      "None\n"
     ]
    },
    {
     "data": {
      "image/png": "[encoded data removed]",
      "text/plain": [
       "<IPython.core.display.Image object>"
      ]
     },
     "execution_count": 33,
     "metadata": {},
     "output_type": "execute_result"
    }
   ],
   "source": [
    "from keras.models import Model\n",
    "from keras.layers import (\n",
    "    Dense, GRU, Dropout, LSTM, Bidirectional, Embedding, GlobalAveragePooling1D,\n",
    "    CuDNNLSTM, CuDNNGRU, Conv1D, MaxPooling1D, Input, Concatenate, BatchNormalization)\n",
    "from keras.optimizers import Adam\n",
    "from keras.utils import plot_model\n",
    "\n",
    "recursive_class = CuDNNLSTM\n",
    "\n",
    "def create_char_graph(max_charlen, vocab_size, embedding_dim=64, filters=128, kernel_size=6,\n",
    "                      pooling_size=3, lstm_units=128, dense_units=128, dropout=[0.75, 0.50]):\n",
    "    input_char = Input(shape=(max_charlen,), name=\"Char_Input\")\n",
    "    x = Embedding(vocab_size, embedding_dim)(input_char)\n",
    "    x = Conv1D(filters=filters, kernel_size=kernel_size, \n",
    "               padding='same', activation='relu')(x) \n",
    "    \n",
    "    x = MaxPooling1D(pool_size=pooling_size)(x)\n",
    "    x = Bidirectional(recursive_class(lstm_units))(x)\n",
    "    x = Dropout(dropout[0])(x)\n",
    "    x = Dense(dense_units, activation='relu', name='dense_char')(x)\n",
    "    \n",
    "    return input_char, x\n",
    "\n",
    "\n",
    "def create_elmo_graph(max_length, lstm_units=128, dense_units=128, dropout=[0.75, 0.50]):\n",
    "    input_elmo = Input(shape=(max_length, elmo_dim), name=\"Elmo_Input\")\n",
    "    y = Bidirectional(recursive_class(lstm_units))(input_elmo)\n",
    "    y = Dropout(dropout[0])(y)\n",
    "    y = Dense(dense_units, activation='relu', name='dense_elmo')(y)\n",
    "    return input_elmo, y\n",
    "\n",
    "def create_bow_graph(input_shape, dense_units=512, dropout=[0.75, 0.50]):\n",
    "    input_bow = Input(shape=input_shape, name=\"BoW_Input\")\n",
    "    z = Dense(dense_units, activation='relu')(input_bow)\n",
    "    z = Dropout(dropout[0])(z)\n",
    "    z = Dense(128, activation='relu', name='dense_bow')(z)\n",
    "    \n",
    "    return input_bow, z\n",
    "\n",
    "def create_embeddings_graph(max_len, embedding_matrix, lstm_units=256, dense_units=128, dropout=[0.75, 0.50]):\n",
    "    input_embeddings = Input(shape=(max_len, ), name=\"Emb_Input\")\n",
    "\n",
    "    w = Embedding(embedding_matrix.shape[0], embedding_matrix.shape[1], \n",
    "                  input_length=max_len, weights=[embedding_matrix], trainable=False)(input_embeddings)\n",
    "    #w = GlobalAveragePooling1D()(w)\n",
    "    w = Bidirectional(recursive_class(lstm_units))(w)\n",
    "    w = Dropout(dropout[0])(w)\n",
    "    w = Dense(dense_units, activation='relu', name='dense_emb')(w)\n",
    "    return input_embeddings, w\n",
    "\n",
    "\n",
    "\n",
    "\n",
    "dropouts = [0.75, 0.55]\n",
    "\n",
    "\n",
    "input_char, output_char = create_char_graph(\n",
    "    max_charlen, vocab_size, embedding_dim=64, lstm_units=64, \n",
    "    filters=128, kernel_size=7, pooling_size=4,\n",
    "    dropout=dropouts)\n",
    "\n",
    "input_elmo, output_elmo = create_elmo_graph(elmo_max_length, lstm_units=96, dropout=dropouts)\n",
    "input_bow, output_bow = create_bow_graph(input_shape=(X_bow_train.shape[1],), dense_units=128, dropout=dropouts)\n",
    "\n",
    "input_emb, output_emb = create_embeddings_graph(emb_max_length, embedding_matrix, lstm_units=64, dropout=dropouts)\n",
    "\n",
    "\n",
    "use_char = True\n",
    "use_elmo = True\n",
    "use_bow = True\n",
    "use_emb = True\n",
    "\n",
    "X_tr = []\n",
    "X_dev = []\n",
    "to_merge = []\n",
    "inputs = []\n",
    "\n",
    "if use_char:\n",
    "    to_merge.append(output_char)\n",
    "    inputs.append(input_char)\n",
    "    X_tr.append(X_char_train)\n",
    "    X_dev.append(X_char_dev)\n",
    "if use_elmo:\n",
    "    to_merge.append(output_elmo)\n",
    "    inputs.append(input_elmo)\n",
    "    X_tr.append(X_elmo_train)\n",
    "    X_dev.append(X_elmo_dev)    \n",
    "if use_bow:\n",
    "    to_merge.append(output_bow)\n",
    "    inputs.append(input_bow)\n",
    "    X_tr.append(X_bow_train)\n",
    "    X_dev.append(X_bow_dev)\n",
    "if use_emb:\n",
    "    to_merge.append(output_emb)\n",
    "    inputs.append(input_emb)\n",
    "    X_tr.append(X_emb_train)\n",
    "    X_dev.append(X_emb_dev)\n",
    "\n",
    "    \n",
    "if use_char + use_elmo + use_bow + use_emb  >= 2:\n",
    "    merge_layer = Concatenate()(to_merge)\n",
    "else:\n",
    "    merge_layer = to_merge[0]\n",
    "\n",
    "merge_layer = Dropout(dropouts[1])(merge_layer)\n",
    "#merge_layer = Dense(64, activation='relu')(merge_layer)\n",
    "output = Dense(1, name=\"sigmoid_output\", activation='sigmoid')(merge_layer)\n",
    "\n",
    "optimizer_args = {\n",
    "    \"lr\": 0.0005,\n",
    "    \"decay\": 0.01,\n",
    "    \"amsgrad\": False\n",
    "}\n",
    "\n",
    "\n",
    "\n",
    "model = Model(inputs=inputs, outputs=[output])\n",
    "model.compile(loss='binary_crossentropy', \n",
    "              optimizer=Adam(**optimizer_args), \n",
    "              metrics=['accuracy'])\n",
    "\n",
    "\n",
    "from IPython.display import Image\n",
    "\n",
    "print(model.summary())\n",
    "\n",
    "\n",
    "plot_model(model, to_file='model.png')\n",
    "Image('model.png')"
   ]
  },
  {
   "cell_type": "code",
   "execution_count": 34,
   "metadata": {},
   "outputs": [
    {
     "name": "stdout",
     "output_type": "stream",
     "text": [
      "Train on 4500 samples, validate on 500 samples\n",
      "Epoch 1/80\n",
      "4500/4500 [==============================] - 9s 2ms/step - loss: 0.6795 - acc: 0.5942 - val_loss: 0.6519 - val_acc: 0.6560\n",
      "\n",
      "Epoch 00001: val_acc improved from -inf to 0.65600, saving model to /tmp/ensemble_12.h5\n",
      "Epoch 2/80\n",
      "4500/4500 [==============================] - 6s 1ms/step - loss: 0.6289 - acc: 0.6504 - val_loss: 0.6125 - val_acc: 0.6760\n",
      "\n",
      "Epoch 00002: val_acc improved from 0.65600 to 0.67600, saving model to /tmp/ensemble_12.h5\n",
      "Epoch 3/80\n",
      "4500/4500 [==============================] - 6s 1ms/step - loss: 0.5948 - acc: 0.6867 - val_loss: 0.5787 - val_acc: 0.7080\n",
      "\n",
      "Epoch 00003: val_acc improved from 0.67600 to 0.70800, saving model to /tmp/ensemble_12.h5\n",
      "Epoch 4/80\n",
      "4500/4500 [==============================] - 6s 1ms/step - loss: 0.5562 - acc: 0.7256 - val_loss: 0.5486 - val_acc: 0.7440\n",
      "\n",
      "Epoch 00004: val_acc improved from 0.70800 to 0.74400, saving model to /tmp/ensemble_12.h5\n",
      "Epoch 5/80\n",
      "4500/4500 [==============================] - 6s 1ms/step - loss: 0.5269 - acc: 0.7502 - val_loss: 0.5217 - val_acc: 0.7600\n",
      "\n",
      "Epoch 00005: val_acc improved from 0.74400 to 0.76000, saving model to /tmp/ensemble_12.h5\n",
      "Epoch 6/80\n",
      "4500/4500 [==============================] - 6s 1ms/step - loss: 0.5001 - acc: 0.7669 - val_loss: 0.5000 - val_acc: 0.7760\n",
      "\n",
      "Epoch 00006: val_acc improved from 0.76000 to 0.77600, saving model to /tmp/ensemble_12.h5\n",
      "Epoch 7/80\n",
      "4500/4500 [==============================] - 6s 1ms/step - loss: 0.4811 - acc: 0.7802 - val_loss: 0.4846 - val_acc: 0.7840\n",
      "\n",
      "Epoch 00007: val_acc improved from 0.77600 to 0.78400, saving model to /tmp/ensemble_12.h5\n",
      "Epoch 8/80\n",
      "4500/4500 [==============================] - 6s 1ms/step - loss: 0.4653 - acc: 0.7904 - val_loss: 0.4815 - val_acc: 0.7740\n",
      "\n",
      "Epoch 00008: val_acc did not improve from 0.78400\n",
      "Epoch 9/80\n",
      "4500/4500 [==============================] - 6s 1ms/step - loss: 0.4432 - acc: 0.8024 - val_loss: 0.4635 - val_acc: 0.7980\n",
      "\n",
      "Epoch 00009: val_acc improved from 0.78400 to 0.79800, saving model to /tmp/ensemble_12.h5\n",
      "Epoch 10/80\n",
      "4500/4500 [==============================] - 6s 1ms/step - loss: 0.4470 - acc: 0.7964 - val_loss: 0.4662 - val_acc: 0.7940\n",
      "\n",
      "Epoch 00010: val_acc did not improve from 0.79800\n",
      "Epoch 11/80\n",
      "4500/4500 [==============================] - 6s 1ms/step - loss: 0.4290 - acc: 0.8124 - val_loss: 0.4532 - val_acc: 0.8000\n",
      "\n",
      "Epoch 00011: val_acc improved from 0.79800 to 0.80000, saving model to /tmp/ensemble_12.h5\n",
      "Epoch 12/80\n",
      "4500/4500 [==============================] - 6s 1ms/step - loss: 0.4182 - acc: 0.8171 - val_loss: 0.4495 - val_acc: 0.8020\n",
      "\n",
      "Epoch 00012: val_acc improved from 0.80000 to 0.80200, saving model to /tmp/ensemble_12.h5\n",
      "Epoch 13/80\n",
      "4500/4500 [==============================] - 6s 1ms/step - loss: 0.4178 - acc: 0.8151 - val_loss: 0.4430 - val_acc: 0.8040\n",
      "\n",
      "Epoch 00013: val_acc improved from 0.80200 to 0.80400, saving model to /tmp/ensemble_12.h5\n",
      "Epoch 14/80\n",
      "4500/4500 [==============================] - 6s 1ms/step - loss: 0.4087 - acc: 0.8176 - val_loss: 0.4368 - val_acc: 0.8140\n",
      "\n",
      "Epoch 00014: val_acc improved from 0.80400 to 0.81400, saving model to /tmp/ensemble_12.h5\n",
      "Epoch 15/80\n",
      "4500/4500 [==============================] - 6s 1ms/step - loss: 0.3998 - acc: 0.8244 - val_loss: 0.4327 - val_acc: 0.8100\n",
      "\n",
      "Epoch 00015: val_acc did not improve from 0.81400\n",
      "Epoch 16/80\n",
      "4500/4500 [==============================] - 6s 1ms/step - loss: 0.3958 - acc: 0.8296 - val_loss: 0.4334 - val_acc: 0.8120\n",
      "\n",
      "Epoch 00016: val_acc did not improve from 0.81400\n",
      "Epoch 17/80\n",
      "4500/4500 [==============================] - 6s 1ms/step - loss: 0.3914 - acc: 0.8324 - val_loss: 0.4285 - val_acc: 0.8220\n",
      "\n",
      "Epoch 00017: val_acc improved from 0.81400 to 0.82200, saving model to /tmp/ensemble_12.h5\n",
      "Epoch 18/80\n",
      "4500/4500 [==============================] - 6s 1ms/step - loss: 0.3840 - acc: 0.8398 - val_loss: 0.4295 - val_acc: 0.8100\n",
      "\n",
      "Epoch 00018: val_acc did not improve from 0.82200\n",
      "Epoch 19/80\n",
      "4500/4500 [==============================] - 6s 1ms/step - loss: 0.3782 - acc: 0.8402 - val_loss: 0.4264 - val_acc: 0.8200\n",
      "\n",
      "Epoch 00019: val_acc did not improve from 0.82200\n",
      "Epoch 20/80\n",
      "4500/4500 [==============================] - 6s 1ms/step - loss: 0.3722 - acc: 0.8356 - val_loss: 0.4235 - val_acc: 0.8180\n",
      "\n",
      "Epoch 00020: val_acc did not improve from 0.82200\n",
      "Epoch 21/80\n",
      "4500/4500 [==============================] - 6s 1ms/step - loss: 0.3687 - acc: 0.8453 - val_loss: 0.4195 - val_acc: 0.8240\n",
      "\n",
      "Epoch 00021: val_acc improved from 0.82200 to 0.82400, saving model to /tmp/ensemble_12.h5\n",
      "Epoch 22/80\n",
      "4500/4500 [==============================] - 6s 1ms/step - loss: 0.3656 - acc: 0.8449 - val_loss: 0.4200 - val_acc: 0.8220\n",
      "\n",
      "Epoch 00022: val_acc did not improve from 0.82400\n",
      "Epoch 23/80\n",
      "4500/4500 [==============================] - 6s 1ms/step - loss: 0.3623 - acc: 0.8487 - val_loss: 0.4172 - val_acc: 0.8220\n",
      "\n",
      "Epoch 00023: val_acc did not improve from 0.82400\n",
      "Epoch 24/80\n",
      "4500/4500 [==============================] - 6s 1ms/step - loss: 0.3594 - acc: 0.8511 - val_loss: 0.4157 - val_acc: 0.8280\n",
      "\n",
      "Epoch 00024: val_acc improved from 0.82400 to 0.82800, saving model to /tmp/ensemble_12.h5\n",
      "Epoch 25/80\n",
      "4500/4500 [==============================] - 6s 1ms/step - loss: 0.3464 - acc: 0.8536 - val_loss: 0.4121 - val_acc: 0.8220\n",
      "\n",
      "Epoch 00025: val_acc did not improve from 0.82800\n",
      "Epoch 26/80\n",
      "4500/4500 [==============================] - 6s 1ms/step - loss: 0.3498 - acc: 0.8549 - val_loss: 0.4122 - val_acc: 0.8220\n",
      "\n",
      "Epoch 00026: val_acc did not improve from 0.82800\n",
      "Epoch 27/80\n",
      "4500/4500 [==============================] - 6s 1ms/step - loss: 0.3488 - acc: 0.8547 - val_loss: 0.4107 - val_acc: 0.8260\n",
      "\n",
      "Epoch 00027: val_acc did not improve from 0.82800\n",
      "Epoch 28/80\n",
      "4500/4500 [==============================] - 6s 1ms/step - loss: 0.3417 - acc: 0.8560 - val_loss: 0.4105 - val_acc: 0.8220\n",
      "\n",
      "Epoch 00028: val_acc did not improve from 0.82800\n",
      "Epoch 29/80\n",
      "4500/4500 [==============================] - 6s 1ms/step - loss: 0.3419 - acc: 0.8571 - val_loss: 0.4073 - val_acc: 0.8280\n",
      "\n",
      "Epoch 00029: val_acc did not improve from 0.82800\n",
      "Epoch 30/80\n",
      "4500/4500 [==============================] - 6s 1ms/step - loss: 0.3343 - acc: 0.8649 - val_loss: 0.4079 - val_acc: 0.8280\n",
      "\n",
      "Epoch 00030: val_acc did not improve from 0.82800\n",
      "Epoch 31/80\n",
      "4500/4500 [==============================] - 6s 1ms/step - loss: 0.3429 - acc: 0.8613 - val_loss: 0.4094 - val_acc: 0.8240\n",
      "\n",
      "Epoch 00031: val_acc did not improve from 0.82800\n",
      "Epoch 32/80\n",
      "4500/4500 [==============================] - 6s 1ms/step - loss: 0.3332 - acc: 0.8636 - val_loss: 0.4060 - val_acc: 0.8300\n",
      "\n",
      "Epoch 00032: val_acc improved from 0.82800 to 0.83000, saving model to /tmp/ensemble_12.h5\n",
      "Epoch 33/80\n",
      "4500/4500 [==============================] - 6s 1ms/step - loss: 0.3302 - acc: 0.8669 - val_loss: 0.4039 - val_acc: 0.8300\n",
      "\n",
      "Epoch 00033: val_acc did not improve from 0.83000\n",
      "Epoch 34/80\n",
      "4500/4500 [==============================] - 6s 1ms/step - loss: 0.3280 - acc: 0.8627 - val_loss: 0.4037 - val_acc: 0.8280\n",
      "\n",
      "Epoch 00034: val_acc did not improve from 0.83000\n",
      "Epoch 35/80\n",
      "4500/4500 [==============================] - 6s 1ms/step - loss: 0.3191 - acc: 0.8724 - val_loss: 0.4037 - val_acc: 0.8260\n",
      "\n",
      "Epoch 00035: val_acc did not improve from 0.83000\n",
      "Epoch 36/80\n",
      "4500/4500 [==============================] - 6s 1ms/step - loss: 0.3250 - acc: 0.8658 - val_loss: 0.4020 - val_acc: 0.8320\n",
      "\n",
      "Epoch 00036: val_acc improved from 0.83000 to 0.83200, saving model to /tmp/ensemble_12.h5\n",
      "Epoch 37/80\n",
      "4500/4500 [==============================] - 6s 1ms/step - loss: 0.3254 - acc: 0.8691 - val_loss: 0.4028 - val_acc: 0.8320\n",
      "\n",
      "Epoch 00037: val_acc did not improve from 0.83200\n",
      "Epoch 38/80\n",
      "4500/4500 [==============================] - 6s 1ms/step - loss: 0.3195 - acc: 0.8664 - val_loss: 0.4015 - val_acc: 0.8300\n",
      "\n",
      "Epoch 00038: val_acc did not improve from 0.83200\n",
      "Epoch 39/80\n",
      "4500/4500 [==============================] - 6s 1ms/step - loss: 0.3114 - acc: 0.8702 - val_loss: 0.4008 - val_acc: 0.8280\n",
      "\n",
      "Epoch 00039: val_acc did not improve from 0.83200\n",
      "Epoch 40/80\n",
      "4500/4500 [==============================] - 6s 1ms/step - loss: 0.3160 - acc: 0.8744 - val_loss: 0.4011 - val_acc: 0.8340\n",
      "\n",
      "Epoch 00040: val_acc improved from 0.83200 to 0.83400, saving model to /tmp/ensemble_12.h5\n",
      "Epoch 41/80\n",
      "4500/4500 [==============================] - 6s 1ms/step - loss: 0.3162 - acc: 0.8676 - val_loss: 0.3991 - val_acc: 0.8320\n",
      "\n",
      "Epoch 00041: val_acc did not improve from 0.83400\n",
      "Epoch 42/80\n",
      "4500/4500 [==============================] - 6s 1ms/step - loss: 0.3128 - acc: 0.8702 - val_loss: 0.4002 - val_acc: 0.8320\n",
      "\n",
      "Epoch 00042: val_acc did not improve from 0.83400\n",
      "Epoch 43/80\n",
      "4500/4500 [==============================] - 6s 1ms/step - loss: 0.3100 - acc: 0.8716 - val_loss: 0.3987 - val_acc: 0.8340\n",
      "\n",
      "Epoch 00043: val_acc did not improve from 0.83400\n",
      "Epoch 44/80\n",
      "4500/4500 [==============================] - 6s 1ms/step - loss: 0.3048 - acc: 0.8740 - val_loss: 0.3976 - val_acc: 0.8300\n",
      "\n",
      "Epoch 00044: val_acc did not improve from 0.83400\n",
      "Epoch 45/80\n",
      "4500/4500 [==============================] - 6s 1ms/step - loss: 0.3135 - acc: 0.8727 - val_loss: 0.3963 - val_acc: 0.8380\n",
      "\n",
      "Epoch 00045: val_acc improved from 0.83400 to 0.83800, saving model to /tmp/ensemble_12.h5\n",
      "Epoch 46/80\n",
      "4500/4500 [==============================] - 6s 1ms/step - loss: 0.3042 - acc: 0.8780 - val_loss: 0.3977 - val_acc: 0.8340\n",
      "\n",
      "Epoch 00046: val_acc did not improve from 0.83800\n",
      "Epoch 47/80\n",
      "4500/4500 [==============================] - 6s 1ms/step - loss: 0.3006 - acc: 0.8800 - val_loss: 0.3982 - val_acc: 0.8380\n",
      "\n",
      "Epoch 00047: val_acc did not improve from 0.83800\n",
      "Epoch 48/80\n",
      "4500/4500 [==============================] - 6s 1ms/step - loss: 0.3083 - acc: 0.8691 - val_loss: 0.3967 - val_acc: 0.8320\n",
      "\n",
      "Epoch 00048: val_acc did not improve from 0.83800\n",
      "Epoch 49/80\n",
      "4500/4500 [==============================] - 6s 1ms/step - loss: 0.2970 - acc: 0.8816 - val_loss: 0.3958 - val_acc: 0.8360\n",
      "\n",
      "Epoch 00049: val_acc did not improve from 0.83800\n",
      "Epoch 50/80\n",
      "4500/4500 [==============================] - 6s 1ms/step - loss: 0.2973 - acc: 0.8849 - val_loss: 0.3976 - val_acc: 0.8300\n",
      "\n",
      "Epoch 00050: val_acc did not improve from 0.83800\n",
      "Epoch 51/80\n",
      "4500/4500 [==============================] - 6s 1ms/step - loss: 0.3039 - acc: 0.8776 - val_loss: 0.3965 - val_acc: 0.8300\n",
      "\n",
      "Epoch 00051: val_acc did not improve from 0.83800\n",
      "Epoch 52/80\n",
      "4500/4500 [==============================] - 6s 1ms/step - loss: 0.2982 - acc: 0.8809 - val_loss: 0.3957 - val_acc: 0.8320\n",
      "\n",
      "Epoch 00052: val_acc did not improve from 0.83800\n",
      "Epoch 53/80\n",
      "4500/4500 [==============================] - 6s 1ms/step - loss: 0.2874 - acc: 0.8849 - val_loss: 0.3965 - val_acc: 0.8380\n",
      "\n",
      "Epoch 00053: val_acc did not improve from 0.83800\n",
      "Epoch 54/80\n",
      "4500/4500 [==============================] - 6s 1ms/step - loss: 0.2923 - acc: 0.8836 - val_loss: 0.3955 - val_acc: 0.8360\n",
      "\n",
      "Epoch 00054: val_acc did not improve from 0.83800\n",
      "Epoch 55/80\n",
      "4500/4500 [==============================] - 6s 1ms/step - loss: 0.2911 - acc: 0.8836 - val_loss: 0.3963 - val_acc: 0.8280\n",
      "\n",
      "Epoch 00055: val_acc did not improve from 0.83800\n",
      "Epoch 56/80\n",
      "4500/4500 [==============================] - 6s 1ms/step - loss: 0.2872 - acc: 0.8878 - val_loss: 0.3954 - val_acc: 0.8320\n",
      "\n",
      "Epoch 00056: val_acc did not improve from 0.83800\n",
      "Epoch 57/80\n",
      "4500/4500 [==============================] - 6s 1ms/step - loss: 0.2862 - acc: 0.8842 - val_loss: 0.3960 - val_acc: 0.8360\n",
      "\n",
      "Epoch 00057: val_acc did not improve from 0.83800\n",
      "Epoch 58/80\n",
      "4500/4500 [==============================] - 6s 1ms/step - loss: 0.2817 - acc: 0.8853 - val_loss: 0.3945 - val_acc: 0.8360\n",
      "\n",
      "Epoch 00058: val_acc did not improve from 0.83800\n",
      "Epoch 59/80\n",
      "4500/4500 [==============================] - 6s 1ms/step - loss: 0.2801 - acc: 0.8933 - val_loss: 0.3944 - val_acc: 0.8380\n",
      "\n",
      "Epoch 00059: val_acc did not improve from 0.83800\n",
      "Epoch 60/80\n",
      "4500/4500 [==============================] - 6s 1ms/step - loss: 0.2764 - acc: 0.8938 - val_loss: 0.3941 - val_acc: 0.8360\n",
      "\n",
      "Epoch 00060: val_acc did not improve from 0.83800\n",
      "Epoch 61/80\n",
      "4500/4500 [==============================] - 6s 1ms/step - loss: 0.2819 - acc: 0.8893 - val_loss: 0.3923 - val_acc: 0.8360\n",
      "\n",
      "Epoch 00061: val_acc did not improve from 0.83800\n",
      "Epoch 62/80\n",
      "4500/4500 [==============================] - 6s 1ms/step - loss: 0.2763 - acc: 0.8924 - val_loss: 0.3931 - val_acc: 0.8380\n",
      "\n",
      "Epoch 00062: val_acc did not improve from 0.83800\n",
      "Epoch 63/80\n",
      "4500/4500 [==============================] - 6s 1ms/step - loss: 0.2791 - acc: 0.8869 - val_loss: 0.3926 - val_acc: 0.8400\n",
      "\n",
      "Epoch 00063: val_acc improved from 0.83800 to 0.84000, saving model to /tmp/ensemble_12.h5\n",
      "Epoch 64/80\n",
      "4500/4500 [==============================] - 6s 1ms/step - loss: 0.2718 - acc: 0.8913 - val_loss: 0.3929 - val_acc: 0.8380\n",
      "\n",
      "Epoch 00064: val_acc did not improve from 0.84000\n",
      "Epoch 65/80\n",
      "4500/4500 [==============================] - 6s 1ms/step - loss: 0.2716 - acc: 0.8964 - val_loss: 0.3951 - val_acc: 0.8360\n",
      "\n",
      "Epoch 00065: val_acc did not improve from 0.84000\n",
      "Epoch 66/80\n",
      "4500/4500 [==============================] - 6s 1ms/step - loss: 0.2788 - acc: 0.8922 - val_loss: 0.3943 - val_acc: 0.8340\n",
      "\n",
      "Epoch 00066: val_acc did not improve from 0.84000\n",
      "Epoch 67/80\n",
      "4500/4500 [==============================] - 6s 1ms/step - loss: 0.2730 - acc: 0.8931 - val_loss: 0.3929 - val_acc: 0.8380\n",
      "\n",
      "Epoch 00067: val_acc did not improve from 0.84000\n",
      "Epoch 68/80\n",
      "4500/4500 [==============================] - 6s 1ms/step - loss: 0.2738 - acc: 0.8956 - val_loss: 0.3927 - val_acc: 0.8340\n",
      "\n",
      "Epoch 00068: val_acc did not improve from 0.84000\n",
      "Epoch 69/80\n",
      "4500/4500 [==============================] - 6s 1ms/step - loss: 0.2799 - acc: 0.8880 - val_loss: 0.3923 - val_acc: 0.8340\n",
      "\n",
      "Epoch 00069: val_acc did not improve from 0.84000\n",
      "Epoch 70/80\n",
      "4500/4500 [==============================] - 6s 1ms/step - loss: 0.2700 - acc: 0.8898 - val_loss: 0.3919 - val_acc: 0.8340\n",
      "\n",
      "Epoch 00070: val_acc did not improve from 0.84000\n",
      "Epoch 71/80\n",
      "4500/4500 [==============================] - 6s 1ms/step - loss: 0.2731 - acc: 0.8900 - val_loss: 0.3919 - val_acc: 0.8360\n",
      "\n",
      "Epoch 00071: val_acc did not improve from 0.84000\n",
      "Epoch 72/80\n",
      "4500/4500 [==============================] - 6s 1ms/step - loss: 0.2686 - acc: 0.8980 - val_loss: 0.3925 - val_acc: 0.8380\n",
      "\n",
      "Epoch 00072: val_acc did not improve from 0.84000\n",
      "Epoch 73/80\n",
      "4500/4500 [==============================] - 6s 1ms/step - loss: 0.2658 - acc: 0.8942 - val_loss: 0.3932 - val_acc: 0.8420\n",
      "\n",
      "Epoch 00073: val_acc improved from 0.84000 to 0.84200, saving model to /tmp/ensemble_12.h5\n",
      "Epoch 74/80\n",
      "4500/4500 [==============================] - 6s 1ms/step - loss: 0.2681 - acc: 0.8938 - val_loss: 0.3920 - val_acc: 0.8340\n",
      "\n",
      "Epoch 00074: val_acc did not improve from 0.84200\n",
      "Epoch 75/80\n",
      "4500/4500 [==============================] - 6s 1ms/step - loss: 0.2673 - acc: 0.8913 - val_loss: 0.3919 - val_acc: 0.8400\n",
      "\n",
      "Epoch 00075: val_acc did not improve from 0.84200\n",
      "Epoch 76/80\n",
      "4500/4500 [==============================] - 6s 1ms/step - loss: 0.2709 - acc: 0.8904 - val_loss: 0.3900 - val_acc: 0.8340\n",
      "\n",
      "Epoch 00076: val_acc did not improve from 0.84200\n",
      "Epoch 77/80\n",
      "4500/4500 [==============================] - 6s 1ms/step - loss: 0.2622 - acc: 0.8947 - val_loss: 0.3925 - val_acc: 0.8360\n",
      "\n",
      "Epoch 00077: val_acc did not improve from 0.84200\n",
      "Epoch 78/80\n",
      "4500/4500 [==============================] - 6s 1ms/step - loss: 0.2547 - acc: 0.9044 - val_loss: 0.3920 - val_acc: 0.8380\n",
      "\n",
      "Epoch 00078: val_acc did not improve from 0.84200\n",
      "Epoch 79/80\n",
      "4500/4500 [==============================] - 6s 1ms/step - loss: 0.2616 - acc: 0.8993 - val_loss: 0.3911 - val_acc: 0.8360\n",
      "\n",
      "Epoch 00079: val_acc did not improve from 0.84200\n",
      "Epoch 80/80\n",
      "4500/4500 [==============================] - 6s 1ms/step - loss: 0.2663 - acc: 0.8942 - val_loss: 0.3922 - val_acc: 0.8360\n",
      "\n",
      "Epoch 00080: val_acc did not improve from 0.84200\n"
     ]
    },
    {
     "data": {
      "text/plain": [
       "<keras.callbacks.History at 0x7f19b7f66358>"
      ]
     },
     "execution_count": 34,
     "metadata": {},
     "output_type": "execute_result"
    }
   ],
   "source": [
    "from keras.callbacks import ModelCheckpoint\n",
    "\n",
    "checkpointer = ModelCheckpoint('/tmp/ensemble_12.h5', save_best_only=True, monitor='val_acc', verbose=1)\n",
    "\n",
    "model.fit(X_tr, y_train, callbacks=[checkpointer],\n",
    "          validation_data=(X_dev, y_dev), epochs=80, batch_size=32)\n"
   ]
  },
  {
   "cell_type": "code",
   "execution_count": 35,
   "metadata": {},
   "outputs": [
    {
     "name": "stdout",
     "output_type": "stream",
     "text": [
      "500/500 [==============================] - 0s 617us/step\n",
      "Loss        : 0.3932\n",
      "Accuracy    : 0.8420\n",
      "Precision   : 0.8235\n",
      "Recall      : 0.8198\n",
      "F1          : 0.8217\n"
     ]
    }
   ],
   "source": [
    "from hate.utils import print_evaluation\n",
    "\n",
    "model.load_weights('/tmp/ensemble_12.h5')\n",
    "\n",
    "\n",
    "print_evaluation(model, X_dev, y_dev)"
   ]
  },
  {
   "cell_type": "code",
   "execution_count": 36,
   "metadata": {},
   "outputs": [],
   "source": [
    "model.save_weights(\"../../../models/nn/ensemble_12.h5\")"
   ]
  },
  {
   "cell_type": "markdown",
   "metadata": {},
   "source": [
    "## Weights\n",
    "\n",
    "¿Cómo contribuyó cada input al output? Veamos la capa de concatenación"
   ]
  },
  {
   "cell_type": "markdown",
   "metadata": {},
   "source": [
    "dense_char (Dense)              (None, 128)          16512       dropout_21[0][0]                 \n",
    "__________________________________________________________________________________________________\n",
    "dense_elmo (Dense)              (None, 128)          24704       dropout_22[0][0]                 \n",
    "__________________________________________________________________________________________________\n",
    "dense_bow (Dense)               (None, 128)          16512       dropout_23[0][0]                 \n",
    "__________________________________________________________________________________________________\n",
    "dense_emb (Dense)               (None, 128)          16512       dropout_24[0][0]      "
   ]
  },
  {
   "cell_type": "code",
   "execution_count": 60,
   "metadata": {},
   "outputs": [],
   "source": [
    "elmo_weights, elmo_biases = model.get_layer('dense_elmo').get_weights()\n",
    "bow_weights, bow_biases = model.get_layer('dense_bow').get_weights()\n",
    "char_weights, char_biases = model.get_layer('dense_char').get_weights()\n",
    "emb_weights, emb_biases = model.get_layer('dense_emb').get_weights()\n",
    "\n"
   ]
  },
  {
   "cell_type": "code",
   "execution_count": 65,
   "metadata": {},
   "outputs": [
    {
     "data": {
      "text/plain": [
       "(0.00084794476, 0.00657505, 0.00044106727, 0.0007584571)"
      ]
     },
     "execution_count": 65,
     "metadata": {},
     "output_type": "execute_result"
    }
   ],
   "source": [
    "elmo_weights.mean(), bow_weights.mean(), char_weights.mean(), emb_weights.mean()"
   ]
  },
  {
   "cell_type": "markdown",
   "metadata": {},
   "source": [
    "Al parecer, la que tiene más \"peso\" promedio es BoW, luego elmo, luego embeddings, y finalmente char....?\n",
    "\n",
    "Veamos cómo combina estos pesos recolectados para sacar el output"
   ]
  },
  {
   "cell_type": "code",
   "execution_count": 71,
   "metadata": {},
   "outputs": [
    {
     "data": {
      "text/plain": [
       "[<matplotlib.lines.Line2D at 0x7f15ae87a668>]"
      ]
     },
     "execution_count": 71,
     "metadata": {},
     "output_type": "execute_result"
    },
    {
     "data": {
      "image/png": "[encoded data removed]",
      "text/plain": [
       "<Figure size 432x288 with 1 Axes>"
      ]
     },
     "metadata": {
      "needs_background": "light"
     },
     "output_type": "display_data"
    }
   ],
   "source": [
    "weights, biases = model.get_layer('sigmoid_output').get_weights()\n",
    "\n",
    "plt.plot(weights)"
   ]
  },
  {
   "cell_type": "code",
   "execution_count": 72,
   "metadata": {},
   "outputs": [
    {
     "data": {
      "text/plain": [
       "(0.0062277084, 0.0013016419, -0.009642567, -0.0021438943)"
      ]
     },
     "execution_count": 72,
     "metadata": {},
     "output_type": "execute_result"
    }
   ],
   "source": [
    "weights[:128].mean(), weights[128:256].mean(), weights[256:384].mean(), weights[384:512].mean()"
   ]
  },
  {
   "cell_type": "markdown",
   "metadata": {},
   "source": [
    "## Error Analysis\n",
    "\n",
    "Vamos a ver los tweets con mayores errores"
   ]
  },
  {
   "cell_type": "code",
   "execution_count": 73,
   "metadata": {},
   "outputs": [
    {
     "name": "stdout",
     "output_type": "stream",
     "text": [
      "Falsos negativos: 40\n",
      "Falsos positivos: 39\n"
     ]
    },
    {
     "data": {
      "text/html": [
       "<div>\n",
       "<style scoped>\n",
       "    .dataframe tbody tr th:only-of-type {\n",
       "        vertical-align: middle;\n",
       "    }\n",
       "\n",
       "    .dataframe tbody tr th {\n",
       "        vertical-align: top;\n",
       "    }\n",
       "\n",
       "    .dataframe thead th {\n",
       "        text-align: right;\n",
       "    }\n",
       "</style>\n",
       "<table border=\"1\" class=\"dataframe\">\n",
       "  <thead>\n",
       "    <tr style=\"text-align: right;\">\n",
       "      <th></th>\n",
       "      <th>pred_true</th>\n",
       "      <th>pred_false</th>\n",
       "    </tr>\n",
       "    <tr>\n",
       "      <th>real</th>\n",
       "      <th></th>\n",
       "      <th></th>\n",
       "    </tr>\n",
       "  </thead>\n",
       "  <tbody>\n",
       "    <tr>\n",
       "      <th>hs=1</th>\n",
       "      <td>182</td>\n",
       "      <td>40</td>\n",
       "    </tr>\n",
       "    <tr>\n",
       "      <th>hs=0</th>\n",
       "      <td>39</td>\n",
       "      <td>239</td>\n",
       "    </tr>\n",
       "  </tbody>\n",
       "</table>\n",
       "</div>"
      ],
      "text/plain": [
       "      pred_true  pred_false\n",
       "real                       \n",
       "hs=1        182          40\n",
       "hs=0         39         239"
      ]
     },
     "execution_count": 73,
     "metadata": {},
     "output_type": "execute_result"
    }
   ],
   "source": [
    "df_dev[\"proba\"] = model.predict(X_dev)\n",
    "\n",
    "\n",
    "true_positives = df_dev[(df_dev[\"HS\"] == 1) & (df_dev[\"proba\"] >= 0.5)].copy()\n",
    "true_negatives = df_dev[(df_dev[\"HS\"] == 0) & (df_dev[\"proba\"] < 0.5)].copy()\n",
    "\n",
    "false_positives = df_dev[(df_dev[\"HS\"] == 0) & (df_dev[\"proba\"] > 0.5)].copy()\n",
    "false_positives.sort_values(\"proba\", ascending=False, inplace=True)\n",
    "\n",
    "\n",
    "false_negatives = df_dev[(df_dev[\"HS\"] == 1) & (df_dev[\"proba\"] < 0.5)].copy()\n",
    "false_negatives.sort_values(\"proba\", ascending=True, inplace=True)\n",
    "\n",
    "conf_matrix = pd.DataFrame([\n",
    "    {\"real\":\"hs=1\", \"pred_true\": len(true_positives), \"pred_false\": len(false_negatives)},\n",
    "    {\"real\":\"hs=0\", \"pred_true\": len(false_positives), \"pred_false\": len(true_negatives)}\n",
    "])\n",
    "\n",
    "\n",
    "\n",
    "conf_matrix.set_index(\"real\", inplace=True)\n",
    "\n",
    "print(\"Falsos negativos: {}\".format(len(false_negatives)))\n",
    "print(\"Falsos positivos: {}\".format(len(false_positives)))\n",
    "\n",
    "conf_matrix[[\"pred_true\", \"pred_false\"]]"
   ]
  },
  {
   "cell_type": "markdown",
   "metadata": {},
   "source": [
    "## Falsos Negativos\n",
    "\n",
    "Veamos los 20 falsos negativos en los cuales nuestro modelo se equivoca más"
   ]
  },
  {
   "cell_type": "code",
   "execution_count": 74,
   "metadata": {},
   "outputs": [
    {
     "data": {
      "text/html": [
       "<div>\n",
       "<style scoped>\n",
       "    .dataframe tbody tr th:only-of-type {\n",
       "        vertical-align: middle;\n",
       "    }\n",
       "\n",
       "    .dataframe tbody tr th {\n",
       "        vertical-align: top;\n",
       "    }\n",
       "\n",
       "    .dataframe thead th {\n",
       "        text-align: right;\n",
       "    }\n",
       "</style>\n",
       "<table border=\"1\" class=\"dataframe\">\n",
       "  <thead>\n",
       "    <tr style=\"text-align: right;\">\n",
       "      <th></th>\n",
       "      <th>text</th>\n",
       "      <th>proba</th>\n",
       "    </tr>\n",
       "    <tr>\n",
       "      <th>id</th>\n",
       "      <th></th>\n",
       "      <th></th>\n",
       "    </tr>\n",
       "  </thead>\n",
       "  <tbody>\n",
       "    <tr>\n",
       "      <th>21072</th>\n",
       "      <td>Voy andando por la calle y me han dicho cosas en árabe ya que me estas acosando dime lo en español para que te entienda, asique como yo no les entiendo me he cagado en su puta madre en árabe para que ellos a mi si.</td>\n",
       "      <td>0.007829</td>\n",
       "    </tr>\n",
       "    <tr>\n",
       "      <th>21215</th>\n",
       "      <td>Que tal otro aporte anónimo son de la puta de mi esposa, así los dejó en navidad enseñando le los calzones al vecino rt y siguenos @TANGASUCIA @Tangasrobadas https://t.co/70ioUjveqY</td>\n",
       "      <td>0.014301</td>\n",
       "    </tr>\n",
       "    <tr>\n",
       "      <th>21535</th>\n",
       "      <td>#VOX critica duramente a ⁦@pablocasado_⁩ “Les da la bienvenida como si fuera un cartel del welcome de #Carmena “ ¡Expulsión inmediata de moromierdas!  https://t.co/HaySDibj2l</td>\n",
       "      <td>0.036465</td>\n",
       "    </tr>\n",
       "    <tr>\n",
       "      <th>24352</th>\n",
       "      <td>¿Ves que tu coño me importe? Cómete mi polla, basura https://t.co/ht02KyYWZh</td>\n",
       "      <td>0.121606</td>\n",
       "    </tr>\n",
       "    <tr>\n",
       "      <th>24126</th>\n",
       "      <td>LA SOLUCIÓN ES SOLDARLE EL TIMÓN DE LA PATERA RUMBO DE DONDE SALIERON CON AGUA Y COMIDA. https://t.co/59pInBdgnR</td>\n",
       "      <td>0.129170</td>\n",
       "    </tr>\n",
       "    <tr>\n",
       "      <th>20175</th>\n",
       "      <td>Ay Dios cuando se entere Casado de que la ola de calor viene dada por la entrada masiva, sin papeles, de aire subsahariano</td>\n",
       "      <td>0.129799</td>\n",
       "    </tr>\n",
       "    <tr>\n",
       "      <th>20019</th>\n",
       "      <td>\"Y NADIE SE HA PREGUNTADO LO QUE LE VA A COSTAR AL HOMBRE DEL GUANTAZO LA SITUACION..?!? PORQUE SEGURO ES, QUE EL MENDA MUSULMONO LE VA A PONER UNA DENUNCIA, QUE EL FALLO VA A SER \"\"CULPABLE\"\", QUE UNA PANDILLA DE MUSULMONOS LE VA A ESTAR ESPERANDO DELANTE DE LA PUERTA DE SU NEGOCIO https://t.co...</td>\n",
       "      <td>0.131386</td>\n",
       "    </tr>\n",
       "    <tr>\n",
       "      <th>22065</th>\n",
       "      <td>| lo único que dominas es mi polla en tu cara. https://t.co/qlYOd4zPwW</td>\n",
       "      <td>0.134488</td>\n",
       "    </tr>\n",
       "    <tr>\n",
       "      <th>21727</th>\n",
       "      <td>España crea su primer 'campo de refugiados' en la bahía de Algeciras https://t.co/l7Zmh2kvPN vía @elmundoes Gran noticia para el contribuyente español. Españoles a pagar, a pagar. Las pensiones pensad en las pensiones. Esto la sanidad como es gratis podemos dejar de pagarla no?</td>\n",
       "      <td>0.150273</td>\n",
       "    </tr>\n",
       "    <tr>\n",
       "      <th>23716</th>\n",
       "      <td>- El otro día me comí a Laura es muy fácil que guarra jajajaja - Laura también te comió a ti entonces tú eres igual de guarro e igual de fácil. - Puto feminazi putas modas eres feminista solo para ligar bien queda gilipollas - em, ok</td>\n",
       "      <td>0.166734</td>\n",
       "    </tr>\n",
       "    <tr>\n",
       "      <th>22008</th>\n",
       "      <td>@Namurii @medicaster_xz @Yorha2d @KeloKlau_ Se merecía de puta y no quiere que le metan la verga, jajaja no mamen</td>\n",
       "      <td>0.173736</td>\n",
       "    </tr>\n",
       "    <tr>\n",
       "      <th>23922</th>\n",
       "      <td>Pobre moromierda. Pues a mi me parece mas digna y respetable la vida de una linda gallina que acabará en un KFC que ése semita culturizado en el país de la violación que acaban de  dejar libre https://t.co/lrL1K09aIb</td>\n",
       "      <td>0.184705</td>\n",
       "    </tr>\n",
       "    <tr>\n",
       "      <th>22199</th>\n",
       "      <td>Todo aquél que se haya molestado en investigar un poco sabe que desde tiempos antiguos los mayores negreros y esclavistas del mundo fueron los árabes. https://t.co/DY5Uo8979v</td>\n",
       "      <td>0.189853</td>\n",
       "    </tr>\n",
       "    <tr>\n",
       "      <th>24083</th>\n",
       "      <td>@alvhann La mujer conoce bien la debilidad del hombre, y cada día le sube más la falda y posteriormente se queja de acoso...</td>\n",
       "      <td>0.209504</td>\n",
       "    </tr>\n",
       "    <tr>\n",
       "      <th>22669</th>\n",
       "      <td>mario, hablas de la hija de chavez pero vos decir ser italiano y no vivis en italia. Para los tanos (si les importara lo que hace un sudaca) tamben serias un traidor viviendo aca. #maldición</td>\n",
       "      <td>0.210558</td>\n",
       "    </tr>\n",
       "    <tr>\n",
       "      <th>20213</th>\n",
       "      <td>@britneyspears Perra te lo mereces, esa presentación de WORK BICTH estuvo a tu altura, por fin le hiciste justicia a la canción y al álbum Britney Jean al presentar la canción en un programa de TV luciendo hermosa, acuerpada y subliminal</td>\n",
       "      <td>0.228687</td>\n",
       "    </tr>\n",
       "    <tr>\n",
       "      <th>24986</th>\n",
       "      <td>\"Traducción:  \"\"Escucha puta sueca!\"\"  \"\"Los árabes estamos aquí para apoderarnos de vuestro jodido país! Ponte de rodillas y chupame la polla\"\"! https://t.co/rX5ducZDax\"</td>\n",
       "      <td>0.237313</td>\n",
       "    </tr>\n",
       "    <tr>\n",
       "      <th>22168</th>\n",
       "      <td>Mi novia es como mi polla. Sé que está ahí porque de vez en cuando se levanta. Una de mis pantalones y la otra de la cama.</td>\n",
       "      <td>0.244974</td>\n",
       "    </tr>\n",
       "    <tr>\n",
       "      <th>20353</th>\n",
       "      <td>La diferencia entre comida mexicana y la comida árabe es que una te da diarrea y otra te de diarrea explosiva</td>\n",
       "      <td>0.282728</td>\n",
       "    </tr>\n",
       "    <tr>\n",
       "      <th>24488</th>\n",
       "      <td>Un indocumentado...habla y habla y no para y acaba hablando su ignorancia.Empezamos bien. https://t.co/SMRsqjtEBT</td>\n",
       "      <td>0.287867</td>\n",
       "    </tr>\n",
       "    <tr>\n",
       "      <th>22560</th>\n",
       "      <td>@CarlaEUrena @FelipeCalderon Callateeeee !! Puta gallina cacarea !! Ni idea tienes de nada .</td>\n",
       "      <td>0.289017</td>\n",
       "    </tr>\n",
       "    <tr>\n",
       "      <th>24925</th>\n",
       "      <td>La verdad que si, no veia la hora de llegar a los 5 mil amigos😂 ahora de a poco voy borrando esos indios indocumentados😂 https://t.co/Xw8q4GLM8v</td>\n",
       "      <td>0.297295</td>\n",
       "    </tr>\n",
       "    <tr>\n",
       "      <th>20711</th>\n",
       "      <td>@lopezdoriga eso es culpa de los gobiernos corruptos que tienen arreglos con esta escoria. Ojalá se muera la perra esa...</td>\n",
       "      <td>0.310814</td>\n",
       "    </tr>\n",
       "    <tr>\n",
       "      <th>21887</th>\n",
       "      <td>@A3Noticias Esta tiene que ser una 'fake new' porque las mujeres son siempre las víctimas, no las hijas de puta maltratadoras. Eso o el chaval es un machista que se lo ha merecido (machete al machote).</td>\n",
       "      <td>0.314434</td>\n",
       "    </tr>\n",
       "    <tr>\n",
       "      <th>21469</th>\n",
       "      <td>Un jugador de mi equipo canta 'mi novia es sevillista y es una puta más' tras el derbi. Pide perdón y la gente le dice que no debe disculparse, que son cánticos normales de la rivalidad. Y luego nos sorprendemos de que pasen las cosas que pasan... https://t.co/MmjIZdi1Xq</td>\n",
       "      <td>0.318254</td>\n",
       "    </tr>\n",
       "    <tr>\n",
       "      <th>24104</th>\n",
       "      <td>Yo llego atender alguna llamada del tlf de mi papá y llega hablar una mujer es que le mento la madre a esa puta</td>\n",
       "      <td>0.319175</td>\n",
       "    </tr>\n",
       "    <tr>\n",
       "      <th>24864</th>\n",
       "      <td>rosalia me podría decir sudaca i wouldn't give a fuck</td>\n",
       "      <td>0.327756</td>\n",
       "    </tr>\n",
       "    <tr>\n",
       "      <th>24434</th>\n",
       "      <td>\"Hace tanto calor que podría matar a un árabe indiferentemente. (Referencia de \"\"El extranjero\"\")\"</td>\n",
       "      <td>0.335948</td>\n",
       "    </tr>\n",
       "    <tr>\n",
       "      <th>24895</th>\n",
       "      <td>@xSuzuHopkins @gimme5yens El de mi polla a granel. Que te calles, virgen.</td>\n",
       "      <td>0.344567</td>\n",
       "    </tr>\n",
       "    <tr>\n",
       "      <th>23750</th>\n",
       "      <td>Hdsptm güeras pelones sin cejas https://t.co/K8otT8zeuI</td>\n",
       "      <td>0.379359</td>\n",
       "    </tr>\n",
       "    <tr>\n",
       "      <th>24536</th>\n",
       "      <td>Eres una perra que no merece a sus amigos — ¿Quieres ser mi amigo/a? Tal vez a ti sí te merezca. https://t.co/NjEcj00Z9a</td>\n",
       "      <td>0.389982</td>\n",
       "    </tr>\n",
       "    <tr>\n",
       "      <th>22953</th>\n",
       "      <td>Le puedes dar un pez a un hombre y comerá un día Como le des una caña a un subsahariano fabricará una lanza y atravesará a un guardia civil</td>\n",
       "      <td>0.409141</td>\n",
       "    </tr>\n",
       "    <tr>\n",
       "      <th>22381</th>\n",
       "      <td>@callodehacha Y este pendejo!!! Wey tu eres un puta que se da al mejor postor. Por lo menos el estava pedo, pero tu cabron no mames. A chingar tu madre asi nomas quedo!!!</td>\n",
       "      <td>0.418062</td>\n",
       "    </tr>\n",
       "    <tr>\n",
       "      <th>23415</th>\n",
       "      <td>Exacto! #puralata #feminazis #HombreAbusado https://t.co/zTEvaftxcd</td>\n",
       "      <td>0.433023</td>\n",
       "    </tr>\n",
       "    <tr>\n",
       "      <th>21152</th>\n",
       "      <td>@NatyBurgos15 @Horaciogenta @PaolaPa05 Cállate vos Black and bitch como la puta falsa abogada. Espero se pudra en la cárcel y devuelva todo. Dedícate a estudiar en serio. La droga es mala. Cristina puta</td>\n",
       "      <td>0.440366</td>\n",
       "    </tr>\n",
       "    <tr>\n",
       "      <th>23246</th>\n",
       "      <td>Ósea se merecía lo que le pasó por puta, descuidada, mochilera y ofrecida verdad, querido cisticerco? https://t.co/ywl2G76Fxi</td>\n",
       "      <td>0.454091</td>\n",
       "    </tr>\n",
       "    <tr>\n",
       "      <th>23647</th>\n",
       "      <td>#España inmigrantes saltando la valla en #Ceuta 850 lo intentan y 600 pasan, ahí ¡¡ QUE NO LES FALTE DE NÁ !! quitamos concertinas, que no se lesionen, pero a los heridos de la @guardiacivil que les den, no? Que vergüenza de país</td>\n",
       "      <td>0.454392</td>\n",
       "    </tr>\n",
       "    <tr>\n",
       "      <th>23341</th>\n",
       "      <td>Sudacas que votan a la derecha, que queres?</td>\n",
       "      <td>0.467233</td>\n",
       "    </tr>\n",
       "    <tr>\n",
       "      <th>22898</th>\n",
       "      <td>\"@monicaoltra : \"\"Sólo seis CCAA estamos absorbiendo la inmigración, no damos abasto\"\".........  A VER SI POR FIN OS DAIS CUENTA QUE LA SOLIDARIDAD Y EL BUENISMO TIENE LÍMITES. DEJAD LA DEMAGOGIA DE UNA VEZ.  NO PUEDE HABER INMIGRACIÓN ILEGAL ILIMITADA.   https://t.co/gwCwCCv9wb\"</td>\n",
       "      <td>0.498641</td>\n",
       "    </tr>\n",
       "    <tr>\n",
       "      <th>23688</th>\n",
       "      <td>Ninguna mujer es tan santa como para no aprender a coger bien, ni tan puta como para no aprender a amar.</td>\n",
       "      <td>0.499420</td>\n",
       "    </tr>\n",
       "  </tbody>\n",
       "</table>\n",
       "</div>"
      ],
      "text/plain": [
       "                                                                                                                                                                                                                                                                                                              text  \\\n",
       "id                                                                                                                                                                                                                                                                                                                   \n",
       "21072                                                                                       Voy andando por la calle y me han dicho cosas en árabe ya que me estas acosando dime lo en español para que te entienda, asique como yo no les entiendo me he cagado en su puta madre en árabe para que ellos a mi si.   \n",
       "21215                                                                                                                        Que tal otro aporte anónimo son de la puta de mi esposa, así los dejó en navidad enseñando le los calzones al vecino rt y siguenos @TANGASUCIA @Tangasrobadas https://t.co/70ioUjveqY   \n",
       "21535                                                                                                                               #VOX critica duramente a ⁦@pablocasado_⁩ “Les da la bienvenida como si fuera un cartel del welcome de #Carmena “ ¡Expulsión inmediata de moromierdas!  https://t.co/HaySDibj2l   \n",
       "24352                                                                                                                                                                                                                                 ¿Ves que tu coño me importe? Cómete mi polla, basura https://t.co/ht02KyYWZh   \n",
       "24126                                                                                                                                                                                             LA SOLUCIÓN ES SOLDARLE EL TIMÓN DE LA PATERA RUMBO DE DONDE SALIERON CON AGUA Y COMIDA. https://t.co/59pInBdgnR   \n",
       "20175                                                                                                                                                                                   Ay Dios cuando se entere Casado de que la ola de calor viene dada por la entrada masiva, sin papeles, de aire subsahariano   \n",
       "20019  \"Y NADIE SE HA PREGUNTADO LO QUE LE VA A COSTAR AL HOMBRE DEL GUANTAZO LA SITUACION..?!? PORQUE SEGURO ES, QUE EL MENDA MUSULMONO LE VA A PONER UNA DENUNCIA, QUE EL FALLO VA A SER \"\"CULPABLE\"\", QUE UNA PANDILLA DE MUSULMONOS LE VA A ESTAR ESPERANDO DELANTE DE LA PUERTA DE SU NEGOCIO https://t.co...   \n",
       "22065                                                                                                                                                                                                                                       | lo único que dominas es mi polla en tu cara. https://t.co/qlYOd4zPwW   \n",
       "21727                       España crea su primer 'campo de refugiados' en la bahía de Algeciras https://t.co/l7Zmh2kvPN vía @elmundoes Gran noticia para el contribuyente español. Españoles a pagar, a pagar. Las pensiones pensad en las pensiones. Esto la sanidad como es gratis podemos dejar de pagarla no?   \n",
       "23716                                                                    - El otro día me comí a Laura es muy fácil que guarra jajajaja - Laura también te comió a ti entonces tú eres igual de guarro e igual de fácil. - Puto feminazi putas modas eres feminista solo para ligar bien queda gilipollas - em, ok   \n",
       "22008                                                                                                                                                                                            @Namurii @medicaster_xz @Yorha2d @KeloKlau_ Se merecía de puta y no quiere que le metan la verga, jajaja no mamen   \n",
       "23922                                                                                     Pobre moromierda. Pues a mi me parece mas digna y respetable la vida de una linda gallina que acabará en un KFC que ése semita culturizado en el país de la violación que acaban de  dejar libre https://t.co/lrL1K09aIb   \n",
       "22199                                                                                                                               Todo aquél que se haya molestado en investigar un poco sabe que desde tiempos antiguos los mayores negreros y esclavistas del mundo fueron los árabes. https://t.co/DY5Uo8979v   \n",
       "24083                                                                                                                                                                                 @alvhann La mujer conoce bien la debilidad del hombre, y cada día le sube más la falda y posteriormente se queja de acoso...   \n",
       "22669                                                                                                               mario, hablas de la hija de chavez pero vos decir ser italiano y no vivis en italia. Para los tanos (si les importara lo que hace un sudaca) tamben serias un traidor viviendo aca. #maldición   \n",
       "20213                                                                @britneyspears Perra te lo mereces, esa presentación de WORK BICTH estuvo a tu altura, por fin le hiciste justicia a la canción y al álbum Britney Jean al presentar la canción en un programa de TV luciendo hermosa, acuerpada y subliminal   \n",
       "24986                                                                                                                                   \"Traducción:  \"\"Escucha puta sueca!\"\"  \"\"Los árabes estamos aquí para apoderarnos de vuestro jodido país! Ponte de rodillas y chupame la polla\"\"! https://t.co/rX5ducZDax\"   \n",
       "22168                                                                                                                                                                                   Mi novia es como mi polla. Sé que está ahí porque de vez en cuando se levanta. Una de mis pantalones y la otra de la cama.   \n",
       "20353                                                                                                                                                                                                La diferencia entre comida mexicana y la comida árabe es que una te da diarrea y otra te de diarrea explosiva   \n",
       "24488                                                                                                                                                                                            Un indocumentado...habla y habla y no para y acaba hablando su ignorancia.Empezamos bien. https://t.co/SMRsqjtEBT   \n",
       "22560                                                                                                                                                                                                                 @CarlaEUrena @FelipeCalderon Callateeeee !! Puta gallina cacarea !! Ni idea tienes de nada .   \n",
       "24925                                                                                                                                                             La verdad que si, no veia la hora de llegar a los 5 mil amigos😂 ahora de a poco voy borrando esos indios indocumentados😂 https://t.co/Xw8q4GLM8v   \n",
       "20711                                                                                                                                                                                    @lopezdoriga eso es culpa de los gobiernos corruptos que tienen arreglos con esta escoria. Ojalá se muera la perra esa...   \n",
       "21887                                                                                                    @A3Noticias Esta tiene que ser una 'fake new' porque las mujeres son siempre las víctimas, no las hijas de puta maltratadoras. Eso o el chaval es un machista que se lo ha merecido (machete al machote).   \n",
       "21469                              Un jugador de mi equipo canta 'mi novia es sevillista y es una puta más' tras el derbi. Pide perdón y la gente le dice que no debe disculparse, que son cánticos normales de la rivalidad. Y luego nos sorprendemos de que pasen las cosas que pasan... https://t.co/MmjIZdi1Xq   \n",
       "24104                                                                                                                                                                                              Yo llego atender alguna llamada del tlf de mi papá y llega hablar una mujer es que le mento la madre a esa puta   \n",
       "24864                                                                                                                                                                                                                                                        rosalia me podría decir sudaca i wouldn't give a fuck   \n",
       "24434                                                                                                                                                                                                           \"Hace tanto calor que podría matar a un árabe indiferentemente. (Referencia de \"\"El extranjero\"\")\"   \n",
       "24895                                                                                                                                                                                                                                    @xSuzuHopkins @gimme5yens El de mi polla a granel. Que te calles, virgen.   \n",
       "23750                                                                                                                                                                                                                                                      Hdsptm güeras pelones sin cejas https://t.co/K8otT8zeuI   \n",
       "24536                                                                                                                                                                                     Eres una perra que no merece a sus amigos — ¿Quieres ser mi amigo/a? Tal vez a ti sí te merezca. https://t.co/NjEcj00Z9a   \n",
       "22953                                                                                                                                                                  Le puedes dar un pez a un hombre y comerá un día Como le des una caña a un subsahariano fabricará una lanza y atravesará a un guardia civil   \n",
       "22381                                                                                                                                   @callodehacha Y este pendejo!!! Wey tu eres un puta que se da al mejor postor. Por lo menos el estava pedo, pero tu cabron no mames. A chingar tu madre asi nomas quedo!!!   \n",
       "23415                                                                                                                                                                                                                                          Exacto! #puralata #feminazis #HombreAbusado https://t.co/zTEvaftxcd   \n",
       "21152                                                                                                   @NatyBurgos15 @Horaciogenta @PaolaPa05 Cállate vos Black and bitch como la puta falsa abogada. Espero se pudra en la cárcel y devuelva todo. Dedícate a estudiar en serio. La droga es mala. Cristina puta   \n",
       "23246                                                                                                                                                                                Ósea se merecía lo que le pasó por puta, descuidada, mochilera y ofrecida verdad, querido cisticerco? https://t.co/ywl2G76Fxi   \n",
       "23647                                                                        #España inmigrantes saltando la valla en #Ceuta 850 lo intentan y 600 pasan, ahí ¡¡ QUE NO LES FALTE DE NÁ !! quitamos concertinas, que no se lesionen, pero a los heridos de la @guardiacivil que les den, no? Que vergüenza de país   \n",
       "23341                                                                                                                                                                                                                                                                  Sudacas que votan a la derecha, que queres?   \n",
       "22898                     \"@monicaoltra : \"\"Sólo seis CCAA estamos absorbiendo la inmigración, no damos abasto\"\".........  A VER SI POR FIN OS DAIS CUENTA QUE LA SOLIDARIDAD Y EL BUENISMO TIENE LÍMITES. DEJAD LA DEMAGOGIA DE UNA VEZ.  NO PUEDE HABER INMIGRACIÓN ILEGAL ILIMITADA.   https://t.co/gwCwCCv9wb\"   \n",
       "23688                                                                                                                                                                                                     Ninguna mujer es tan santa como para no aprender a coger bien, ni tan puta como para no aprender a amar.   \n",
       "\n",
       "          proba  \n",
       "id               \n",
       "21072  0.007829  \n",
       "21215  0.014301  \n",
       "21535  0.036465  \n",
       "24352  0.121606  \n",
       "24126  0.129170  \n",
       "20175  0.129799  \n",
       "20019  0.131386  \n",
       "22065  0.134488  \n",
       "21727  0.150273  \n",
       "23716  0.166734  \n",
       "22008  0.173736  \n",
       "23922  0.184705  \n",
       "22199  0.189853  \n",
       "24083  0.209504  \n",
       "22669  0.210558  \n",
       "20213  0.228687  \n",
       "24986  0.237313  \n",
       "22168  0.244974  \n",
       "20353  0.282728  \n",
       "24488  0.287867  \n",
       "22560  0.289017  \n",
       "24925  0.297295  \n",
       "20711  0.310814  \n",
       "21887  0.314434  \n",
       "21469  0.318254  \n",
       "24104  0.319175  \n",
       "24864  0.327756  \n",
       "24434  0.335948  \n",
       "24895  0.344567  \n",
       "23750  0.379359  \n",
       "24536  0.389982  \n",
       "22953  0.409141  \n",
       "22381  0.418062  \n",
       "23415  0.433023  \n",
       "21152  0.440366  \n",
       "23246  0.454091  \n",
       "23647  0.454392  \n",
       "23341  0.467233  \n",
       "22898  0.498641  \n",
       "23688  0.499420  "
      ]
     },
     "execution_count": 74,
     "metadata": {},
     "output_type": "execute_result"
    }
   ],
   "source": [
    "pd.set_option('max_colwidth', 300)\n",
    "\n",
    "false_negatives[[\"text\", \"proba\"]]\n"
   ]
  },
  {
   "cell_type": "markdown",
   "metadata": {},
   "source": [
    "¿Cómo los tokenizamos?"
   ]
  },
  {
   "cell_type": "code",
   "execution_count": 75,
   "metadata": {},
   "outputs": [
    {
     "data": {
      "text/plain": [
       "'La otra no noticia del día es la visita del sonriente Casado a Algeciras, a visitar en Ceuta y Algeciras, no a los guardias civiles heridos tras la violenta entrada de ilegales del otro día, sino a un grupo de subsaharianos que han entrado en nuestro país de forma igualmente ileg'"
      ]
     },
     "execution_count": 75,
     "metadata": {},
     "output_type": "execute_result"
    }
   ],
   "source": [
    "df_dev.loc[21841][\"text\"]"
   ]
  },
  {
   "cell_type": "markdown",
   "metadata": {},
   "source": [
    "## Falsos positivos"
   ]
  },
  {
   "cell_type": "code",
   "execution_count": 76,
   "metadata": {},
   "outputs": [
    {
     "data": {
      "text/html": [
       "<div>\n",
       "<style scoped>\n",
       "    .dataframe tbody tr th:only-of-type {\n",
       "        vertical-align: middle;\n",
       "    }\n",
       "\n",
       "    .dataframe tbody tr th {\n",
       "        vertical-align: top;\n",
       "    }\n",
       "\n",
       "    .dataframe thead th {\n",
       "        text-align: right;\n",
       "    }\n",
       "</style>\n",
       "<table border=\"1\" class=\"dataframe\">\n",
       "  <thead>\n",
       "    <tr style=\"text-align: right;\">\n",
       "      <th></th>\n",
       "      <th>text</th>\n",
       "      <th>proba</th>\n",
       "    </tr>\n",
       "    <tr>\n",
       "      <th>id</th>\n",
       "      <th></th>\n",
       "      <th></th>\n",
       "    </tr>\n",
       "  </thead>\n",
       "  <tbody>\n",
       "    <tr>\n",
       "      <th>21050</th>\n",
       "      <td>@GvyMC @Wismichu Callate puta rata😂😂 ya estas llorando??</td>\n",
       "      <td>0.981258</td>\n",
       "    </tr>\n",
       "    <tr>\n",
       "      <th>24402</th>\n",
       "      <td>zorra eres tu que no te sientes hombre y no entiendes que toda mujer es bella</td>\n",
       "      <td>0.969726</td>\n",
       "    </tr>\n",
       "    <tr>\n",
       "      <th>21892</th>\n",
       "      <td>@saancisco Callate puta tu eres el traidor.</td>\n",
       "      <td>0.961956</td>\n",
       "    </tr>\n",
       "    <tr>\n",
       "      <th>24159</th>\n",
       "      <td>@LeonDeJapon Jajajajajaja tu eres uno, diego jajajajajaja mentira perra perra perrraaaaaaaaaa de mierda jajaja ♡</td>\n",
       "      <td>0.959643</td>\n",
       "    </tr>\n",
       "    <tr>\n",
       "      <th>20376</th>\n",
       "      <td>Zorra tu abuela, imbécil.</td>\n",
       "      <td>0.957004</td>\n",
       "    </tr>\n",
       "    <tr>\n",
       "      <th>23565</th>\n",
       "      <td>La solución no es darle papeles a todos. Es exigir a nuestro gobierno q no fabrique y venda armas a los gobiernos subsaharianos para que estos no masacren y acorralen a su población haciendo q quieran venir aquí x lo civil o criminal. Desesperación y supervivencia pura.</td>\n",
       "      <td>0.947687</td>\n",
       "    </tr>\n",
       "    <tr>\n",
       "      <th>22457</th>\n",
       "      <td>De Colombia tocará emigrar en pateras, como hacen los africanos subsaharianos.</td>\n",
       "      <td>0.940329</td>\n",
       "    </tr>\n",
       "    <tr>\n",
       "      <th>24019</th>\n",
       "      <td>Acá nos huevean si nos encapuchamos pero en los paises árabes estariamos todas obligadas a encapucharnos 🤷‍♀️</td>\n",
       "      <td>0.933842</td>\n",
       "    </tr>\n",
       "    <tr>\n",
       "      <th>22416</th>\n",
       "      <td>@Pepe_ElEzequiel Puta!? Puta con las que vos te metes Esa mujer es un ángel enviado por Jesucristo nuestro señor para darnos esa paz que buscamos sólo con verla</td>\n",
       "      <td>0.887685</td>\n",
       "    </tr>\n",
       "    <tr>\n",
       "      <th>22115</th>\n",
       "      <td>Una chica no es una guarra, una zorra, una puta, una buscan por su manera de vestir.</td>\n",
       "      <td>0.886817</td>\n",
       "    </tr>\n",
       "    <tr>\n",
       "      <th>21497</th>\n",
       "      <td>Talvez quede como zorra pero te lo mereces Socia😎</td>\n",
       "      <td>0.862556</td>\n",
       "    </tr>\n",
       "    <tr>\n",
       "      <th>21249</th>\n",
       "      <td>No tienes ni puta idea. Lo que dices no es cierto. Solo podrán ser repatriados con los países que España tiene un convenio. A los subsaharianos no se les reaptria. A los marroquíes , sí https://t.co/cwjTPSBn2r</td>\n",
       "      <td>0.856639</td>\n",
       "    </tr>\n",
       "    <tr>\n",
       "      <th>22014</th>\n",
       "      <td>Ni tú eres una zorra hambrienta ni yo un incorregible depredador.</td>\n",
       "      <td>0.829782</td>\n",
       "    </tr>\n",
       "    <tr>\n",
       "      <th>24115</th>\n",
       "      <td>Chica, pero por qué  borras las fotos en Cholon, en yates? Si al final la frijolera  que todos los fines de semana revuelven y hasta estrujan  es la tuya y nadie debe opinar en eso... Tranquila deje sus fotos.</td>\n",
       "      <td>0.824456</td>\n",
       "    </tr>\n",
       "    <tr>\n",
       "      <th>21966</th>\n",
       "      <td>escúchame ya me jodería jajajajajajajajajajajajajaja si pa ti enseñar es ser una guarra yo soy biennnn guarra, menos mal que no me respeto que si no... https://t.co/yt5fHp99b7</td>\n",
       "      <td>0.815015</td>\n",
       "    </tr>\n",
       "    <tr>\n",
       "      <th>20148</th>\n",
       "      <td>Racismo es que hagas enfrijoladas con frijoles güeros y no negros.</td>\n",
       "      <td>0.814247</td>\n",
       "    </tr>\n",
       "    <tr>\n",
       "      <th>24180</th>\n",
       "      <td>Qué tan difícil es España cuando emigras sin papeles (por @EnriqueVasquez) https://t.co/yjZ4XV4QfU</td>\n",
       "      <td>0.807815</td>\n",
       "    </tr>\n",
       "    <tr>\n",
       "      <th>21705</th>\n",
       "      <td>... todos los trabajadores inmigrantes en #Qatar reportaron recibir pagas menores a las prometidas y pagaron cuotas para poder trabajar ahí. Sus pasaportes fueron confiscados por el empleador a su llegada a #Qatar #FightRacism #StandUp4HumanRights #Qatar #UN #Spain https://t.co/SLfZ68QDnB</td>\n",
       "      <td>0.804439</td>\n",
       "    </tr>\n",
       "    <tr>\n",
       "      <th>21255</th>\n",
       "      <td>Y tú eres una maldita escoria con una repugnante inclinación por los hombres.. ¡Seres como tú me producen náuseas! https://t.co/TaHDcpZdnm</td>\n",
       "      <td>0.798398</td>\n",
       "    </tr>\n",
       "    <tr>\n",
       "      <th>20935</th>\n",
       "      <td>@Ro_Valdess LA PUTA CALLATE QUE QUIERO TENER EL PELO NARANJAAA Y ME VA A QUEDAR HORRIBLE PORQUE SOY NEGRA</td>\n",
       "      <td>0.783515</td>\n",
       "    </tr>\n",
       "    <tr>\n",
       "      <th>23021</th>\n",
       "      <td>Creo que los colegios que impartan el Islam debe de ser el mismo numero de co!egiosque en los países árabes  imparten el cristianismo.Que no somos más tontos porque no ensayamos https://t.co/u9PV1noorb</td>\n",
       "      <td>0.778751</td>\n",
       "    </tr>\n",
       "    <tr>\n",
       "      <th>22517</th>\n",
       "      <td>-¿eres poblana? -soy colombiana -¿y por qué eres güera? en Colombia TODAS son morenas, fui a Colombia 3 veces. -ok, mentí 🙄 solo me pinto el cabello</td>\n",
       "      <td>0.774916</td>\n",
       "    </tr>\n",
       "    <tr>\n",
       "      <th>23320</th>\n",
       "      <td>@HenriFalconLara No digas nada que tú eres cómplice de lo que está pasando... y recuerda seguirás siendo la perra más perra de Venezuela</td>\n",
       "      <td>0.743287</td>\n",
       "    </tr>\n",
       "    <tr>\n",
       "      <th>23250</th>\n",
       "      <td>@stevendidierh @CandeeCarranza Callate que estamos de la panza por tu puta amarena</td>\n",
       "      <td>0.736385</td>\n",
       "    </tr>\n",
       "    <tr>\n",
       "      <th>23086</th>\n",
       "      <td>@Brigitte_Grey Perra /\\ te enseñaré lo que es el nuevo orden mundial</td>\n",
       "      <td>0.734745</td>\n",
       "    </tr>\n",
       "    <tr>\n",
       "      <th>20952</th>\n",
       "      <td>@NicolasMaduro Callate la jeta perra que de este año no pasas</td>\n",
       "      <td>0.720078</td>\n",
       "    </tr>\n",
       "    <tr>\n",
       "      <th>21077</th>\n",
       "      <td>Para cuando pones a Maduro en l frontera? Q se sepa el esta indocumentado ya que no tiene PdN legitima. L q mostro Tibitrampa es un fraude ya q la mama dicese venezolana, pero ella nunca se nacionalizo. Cuando cumples el encargo maleante? https://t.co/Xibew53U7l</td>\n",
       "      <td>0.684613</td>\n",
       "    </tr>\n",
       "    <tr>\n",
       "      <th>23345</th>\n",
       "      <td>Hoy a eso de las 21:00 hrs tendremos crossover con el tata Seba de Sudaca Gamer en donde estaremos conversando y aclarando varios puntos sobre uno de los considerados peores juegos dentro de la franquicia Castlevania. Akumajo Dracula Mokushiroku.</td>\n",
       "      <td>0.665279</td>\n",
       "    </tr>\n",
       "    <tr>\n",
       "      <th>21877</th>\n",
       "      <td>Grande-Marlaska acusa al Gobierno de Rajoy de la crisis migratoria en España via @El_Plural https://t.co/ts6R8DqYWW El Tribunal de Estrasburgo consideró que España había vulnerado el Convenio Europeo de Derechos Humanos al devolver a Marruecos a dos inmigrantes subsaharianos...</td>\n",
       "      <td>0.656047</td>\n",
       "    </tr>\n",
       "    <tr>\n",
       "      <th>21812</th>\n",
       "      <td>Las personas y la manía de creer que por que la mujer es sexy tiene que ser puta seguro pues NO dejen el mojón mental.</td>\n",
       "      <td>0.626406</td>\n",
       "    </tr>\n",
       "    <tr>\n",
       "      <th>24651</th>\n",
       "      <td>@elrod_g @jonawoodz35 Jajajajajajajajajajajaajaj mike cb yo te amo cc tu eres una puta comida cb sabe que nos debe una comidita 😂😂😂😂😂😂😂😂😂😂😂</td>\n",
       "      <td>0.601520</td>\n",
       "    </tr>\n",
       "    <tr>\n",
       "      <th>23532</th>\n",
       "      <td>Mi primito insulta con 'Puto, Maricon, Puta' PENDEJO DE MIERDA CALLATE</td>\n",
       "      <td>0.576362</td>\n",
       "    </tr>\n",
       "    <tr>\n",
       "      <th>24209</th>\n",
       "      <td>¿Ya les he contado que si fuera rica/millonaria sería toda una PERRA?, Yisus me está enseñando humildad... Y no he aprendido mucho ldvdd.</td>\n",
       "      <td>0.574207</td>\n",
       "    </tr>\n",
       "    <tr>\n",
       "      <th>23392</th>\n",
       "      <td>#caballos: Descubre uno de los secretos mejor guardados de la #URSS...  ...los 🐎 árabes rusos!!!  https://t.co/yJCR0kmEpU</td>\n",
       "      <td>0.558815</td>\n",
       "    </tr>\n",
       "    <tr>\n",
       "      <th>23386</th>\n",
       "      <td>Y tú eres una puta mierda que solo sirves para decir gilipollas y q gente como tú te den la razón, que vivan las fiestas y más las d pueblo https://t.co/FlfTcshHQD</td>\n",
       "      <td>0.555486</td>\n",
       "    </tr>\n",
       "    <tr>\n",
       "      <th>22848</th>\n",
       "      <td>Pinche bebé pendejo cállate el hocico, nomás te están cortando el pelo. Puta chillona</td>\n",
       "      <td>0.548382</td>\n",
       "    </tr>\n",
       "    <tr>\n",
       "      <th>21616</th>\n",
       "      <td>Agentes de la Patrulla Fronteriza de USA detuvo a un grupo de 95 inmigrantes #indocumentados en el desierto del suroeste de #Arizona.   #BuildTheWall https://t.co/8Z2f4PFWPM</td>\n",
       "      <td>0.531252</td>\n",
       "    </tr>\n",
       "    <tr>\n",
       "      <th>24520</th>\n",
       "      <td>el novio de mi hermanastra dijo que mi perra es muy tarada y después me dijo autista a mi y a mi señoro callate tincho que te voy a empalar 1er aviso</td>\n",
       "      <td>0.521502</td>\n",
       "    </tr>\n",
       "    <tr>\n",
       "      <th>24172</th>\n",
       "      <td>Y los que no se denuncian... hagamos números. El acoso a las mujeres es diario. No todos los hombres son acosadores, pero todas las mujeres han sido acosadas. https://t.co/jza9llhqWA</td>\n",
       "      <td>0.513162</td>\n",
       "    </tr>\n",
       "  </tbody>\n",
       "</table>\n",
       "</div>"
      ],
      "text/plain": [
       "                                                                                                                                                                                                                                                                                                    text  \\\n",
       "id                                                                                                                                                                                                                                                                                                         \n",
       "21050                                                                                                                                                                                                                                           @GvyMC @Wismichu Callate puta rata😂😂 ya estas llorando??   \n",
       "24402                                                                                                                                                                                                                      zorra eres tu que no te sientes hombre y no entiendes que toda mujer es bella   \n",
       "21892                                                                                                                                                                                                                                                        @saancisco Callate puta tu eres el traidor.   \n",
       "24159                                                                                                                                                                                   @LeonDeJapon Jajajajajaja tu eres uno, diego jajajajajaja mentira perra perra perrraaaaaaaaaa de mierda jajaja ♡   \n",
       "20376                                                                                                                                                                                                                                                                          Zorra tu abuela, imbécil.   \n",
       "23565                     La solución no es darle papeles a todos. Es exigir a nuestro gobierno q no fabrique y venda armas a los gobiernos subsaharianos para que estos no masacren y acorralen a su población haciendo q quieran venir aquí x lo civil o criminal. Desesperación y supervivencia pura.   \n",
       "22457                                                                                                                                                                                                                     De Colombia tocará emigrar en pateras, como hacen los africanos subsaharianos.   \n",
       "24019                                                                                                                                                                                      Acá nos huevean si nos encapuchamos pero en los paises árabes estariamos todas obligadas a encapucharnos 🤷‍♀️   \n",
       "22416                                                                                                                                   @Pepe_ElEzequiel Puta!? Puta con las que vos te metes Esa mujer es un ángel enviado por Jesucristo nuestro señor para darnos esa paz que buscamos sólo con verla   \n",
       "22115                                                                                                                                                                                                               Una chica no es una guarra, una zorra, una puta, una buscan por su manera de vestir.   \n",
       "21497                                                                                                                                                                                                                                                  Talvez quede como zorra pero te lo mereces Socia😎   \n",
       "21249                                                                                  No tienes ni puta idea. Lo que dices no es cierto. Solo podrán ser repatriados con los países que España tiene un convenio. A los subsaharianos no se les reaptria. A los marroquíes , sí https://t.co/cwjTPSBn2r   \n",
       "22014                                                                                                                                                                                                                                  Ni tú eres una zorra hambrienta ni yo un incorregible depredador.   \n",
       "24115                                                                                  Chica, pero por qué  borras las fotos en Cholon, en yates? Si al final la frijolera  que todos los fines de semana revuelven y hasta estrujan  es la tuya y nadie debe opinar en eso... Tranquila deje sus fotos.   \n",
       "21966                                                                                                                    escúchame ya me jodería jajajajajajajajajajajajajaja si pa ti enseñar es ser una guarra yo soy biennnn guarra, menos mal que no me respeto que si no... https://t.co/yt5fHp99b7   \n",
       "20148                                                                                                                                                                                                                                 Racismo es que hagas enfrijoladas con frijoles güeros y no negros.   \n",
       "24180                                                                                                                                                                                                 Qué tan difícil es España cuando emigras sin papeles (por @EnriqueVasquez) https://t.co/yjZ4XV4QfU   \n",
       "21705  ... todos los trabajadores inmigrantes en #Qatar reportaron recibir pagas menores a las prometidas y pagaron cuotas para poder trabajar ahí. Sus pasaportes fueron confiscados por el empleador a su llegada a #Qatar #FightRacism #StandUp4HumanRights #Qatar #UN #Spain https://t.co/SLfZ68QDnB   \n",
       "21255                                                                                                                                                         Y tú eres una maldita escoria con una repugnante inclinación por los hombres.. ¡Seres como tú me producen náuseas! https://t.co/TaHDcpZdnm   \n",
       "20935                                                                                                                                                                                          @Ro_Valdess LA PUTA CALLATE QUE QUIERO TENER EL PELO NARANJAAA Y ME VA A QUEDAR HORRIBLE PORQUE SOY NEGRA   \n",
       "23021                                                                                          Creo que los colegios que impartan el Islam debe de ser el mismo numero de co!egiosque en los países árabes  imparten el cristianismo.Que no somos más tontos porque no ensayamos https://t.co/u9PV1noorb   \n",
       "22517                                                                                                                                               -¿eres poblana? -soy colombiana -¿y por qué eres güera? en Colombia TODAS son morenas, fui a Colombia 3 veces. -ok, mentí 🙄 solo me pinto el cabello   \n",
       "23320                                                                                                                                                           @HenriFalconLara No digas nada que tú eres cómplice de lo que está pasando... y recuerda seguirás siendo la perra más perra de Venezuela   \n",
       "23250                                                                                                                                                                                                                 @stevendidierh @CandeeCarranza Callate que estamos de la panza por tu puta amarena   \n",
       "23086                                                                                                                                                                                                                               @Brigitte_Grey Perra /\\ te enseñaré lo que es el nuevo orden mundial   \n",
       "20952                                                                                                                                                                                                                                      @NicolasMaduro Callate la jeta perra que de este año no pasas   \n",
       "21077                             Para cuando pones a Maduro en l frontera? Q se sepa el esta indocumentado ya que no tiene PdN legitima. L q mostro Tibitrampa es un fraude ya q la mama dicese venezolana, pero ella nunca se nacionalizo. Cuando cumples el encargo maleante? https://t.co/Xibew53U7l   \n",
       "23345                                             Hoy a eso de las 21:00 hrs tendremos crossover con el tata Seba de Sudaca Gamer en donde estaremos conversando y aclarando varios puntos sobre uno de los considerados peores juegos dentro de la franquicia Castlevania. Akumajo Dracula Mokushiroku.   \n",
       "21877             Grande-Marlaska acusa al Gobierno de Rajoy de la crisis migratoria en España via @El_Plural https://t.co/ts6R8DqYWW El Tribunal de Estrasburgo consideró que España había vulnerado el Convenio Europeo de Derechos Humanos al devolver a Marruecos a dos inmigrantes subsaharianos...   \n",
       "21812                                                                                                                                                                             Las personas y la manía de creer que por que la mujer es sexy tiene que ser puta seguro pues NO dejen el mojón mental.   \n",
       "24651                                                                                                                                                        @elrod_g @jonawoodz35 Jajajajajajajajajajajaajaj mike cb yo te amo cc tu eres una puta comida cb sabe que nos debe una comidita 😂😂😂😂😂😂😂😂😂😂😂   \n",
       "23532                                                                                                                                                                                                                             Mi primito insulta con 'Puto, Maricon, Puta' PENDEJO DE MIERDA CALLATE   \n",
       "24209                                                                                                                                                          ¿Ya les he contado que si fuera rica/millonaria sería toda una PERRA?, Yisus me está enseñando humildad... Y no he aprendido mucho ldvdd.   \n",
       "23392                                                                                                                                                                          #caballos: Descubre uno de los secretos mejor guardados de la #URSS...  ...los 🐎 árabes rusos!!!  https://t.co/yJCR0kmEpU   \n",
       "23386                                                                                                                                Y tú eres una puta mierda que solo sirves para decir gilipollas y q gente como tú te den la razón, que vivan las fiestas y más las d pueblo https://t.co/FlfTcshHQD   \n",
       "22848                                                                                                                                                                                                              Pinche bebé pendejo cállate el hocico, nomás te están cortando el pelo. Puta chillona   \n",
       "21616                                                                                                                      Agentes de la Patrulla Fronteriza de USA detuvo a un grupo de 95 inmigrantes #indocumentados en el desierto del suroeste de #Arizona.   #BuildTheWall https://t.co/8Z2f4PFWPM   \n",
       "24520                                                                                                                                              el novio de mi hermanastra dijo que mi perra es muy tarada y después me dijo autista a mi y a mi señoro callate tincho que te voy a empalar 1er aviso   \n",
       "24172                                                                                                             Y los que no se denuncian... hagamos números. El acoso a las mujeres es diario. No todos los hombres son acosadores, pero todas las mujeres han sido acosadas. https://t.co/jza9llhqWA   \n",
       "\n",
       "          proba  \n",
       "id               \n",
       "21050  0.981258  \n",
       "24402  0.969726  \n",
       "21892  0.961956  \n",
       "24159  0.959643  \n",
       "20376  0.957004  \n",
       "23565  0.947687  \n",
       "22457  0.940329  \n",
       "24019  0.933842  \n",
       "22416  0.887685  \n",
       "22115  0.886817  \n",
       "21497  0.862556  \n",
       "21249  0.856639  \n",
       "22014  0.829782  \n",
       "24115  0.824456  \n",
       "21966  0.815015  \n",
       "20148  0.814247  \n",
       "24180  0.807815  \n",
       "21705  0.804439  \n",
       "21255  0.798398  \n",
       "20935  0.783515  \n",
       "23021  0.778751  \n",
       "22517  0.774916  \n",
       "23320  0.743287  \n",
       "23250  0.736385  \n",
       "23086  0.734745  \n",
       "20952  0.720078  \n",
       "21077  0.684613  \n",
       "23345  0.665279  \n",
       "21877  0.656047  \n",
       "21812  0.626406  \n",
       "24651  0.601520  \n",
       "23532  0.576362  \n",
       "24209  0.574207  \n",
       "23392  0.558815  \n",
       "23386  0.555486  \n",
       "22848  0.548382  \n",
       "21616  0.531252  \n",
       "24520  0.521502  \n",
       "24172  0.513162  "
      ]
     },
     "execution_count": 76,
     "metadata": {},
     "output_type": "execute_result"
    }
   ],
   "source": [
    "pd.set_option('max_colwidth', 300)\n",
    "false_positives[[\"text\", \"proba\"]]"
   ]
  },
  {
   "cell_type": "markdown",
   "metadata": {},
   "source": [
    "# Conclusiones\n",
    "\n",
    "No mejora mucho usando embeddings también! mejor quedémonos el otro modelo..."
   ]
  }
 ],
 "metadata": {
  "kernelspec": {
   "display_name": "Python 3",
   "language": "python",
   "name": "python3"
  },
  "language_info": {
   "codemirror_mode": {
    "name": "ipython",
    "version": 3
   },
   "file_extension": ".py",
   "mimetype": "text/x-python",
   "name": "python",
   "nbconvert_exporter": "python",
   "pygments_lexer": "ipython3",
   "version": "3.6.5"
  }
 },
 "nbformat": 4,
 "nbformat_minor": 2
}
