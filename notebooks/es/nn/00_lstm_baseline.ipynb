{
 "cells": [
  {
   "cell_type": "markdown",
   "metadata": {},
   "source": [
    "# LSTM sin embeddings\n",
    "\n",
    "Modelo básico con embeddings entrenados acá. Un baseline :-)"
   ]
  },
  {
   "cell_type": "code",
   "execution_count": 1,
   "metadata": {},
   "outputs": [
    {
     "name": "stderr",
     "output_type": "stream",
     "text": [
      "Using TensorFlow backend.\n"
     ]
    }
   ],
   "source": [
    "import keras"
   ]
  },
  {
   "cell_type": "code",
   "execution_count": 2,
   "metadata": {},
   "outputs": [
    {
     "name": "stdout",
     "output_type": "stream",
     "text": [
      "dev_es.tsv  train_es.tsv\n"
     ]
    }
   ],
   "source": [
    "%ls ../../../data/dev_es/"
   ]
  },
  {
   "cell_type": "code",
   "execution_count": 3,
   "metadata": {},
   "outputs": [],
   "source": [
    "import pandas as pd\n",
    "df_train = pd.read_table(\"../../../data/dev_es/train_es.tsv\", index_col=\"id\")\n",
    "df_dev = pd.read_table(\"../../../data/dev_es/dev_es.tsv\", index_col=\"id\")\n",
    "\n",
    "text_train, y_train = df_train[\"text\"], df_train[\"HS\"]\n",
    "text_dev, y_dev = df_dev[\"text\"], df_dev[\"HS\"]"
   ]
  },
  {
   "cell_type": "code",
   "execution_count": 4,
   "metadata": {},
   "outputs": [],
   "source": [
    "from keras.preprocessing.text import Tokenizer\n",
    "from keras.preprocessing.sequence import pad_sequences\n",
    "\n",
    "num_words = 100000\n",
    "\n",
    "tokenizer = Tokenizer(num_words=num_words)\n",
    "tokenizer.fit_on_texts(text_train)\n",
    "\n",
    "X_train = tokenizer.texts_to_sequences(text_train)\n",
    "X_dev = tokenizer.texts_to_sequences(text_dev)\n",
    "\n",
    "max_length = 30\n",
    "\n",
    "X_train = pad_sequences(X_train, max_length)\n",
    "X_dev = pad_sequences(X_dev, max_length)"
   ]
  },
  {
   "cell_type": "code",
   "execution_count": null,
   "metadata": {},
   "outputs": [
    {
     "name": "stdout",
     "output_type": "stream",
     "text": [
      "_________________________________________________________________\n",
      "Layer (type)                 Output Shape              Param #   \n",
      "=================================================================\n",
      "embedding_1 (Embedding)      (None, 30, 32)            3200000   \n",
      "_________________________________________________________________\n",
      "lstm_1 (LSTM)                (None, 100)               53200     \n",
      "_________________________________________________________________\n",
      "dropout_1 (Dropout)          (None, 100)               0         \n",
      "_________________________________________________________________\n",
      "dense_1 (Dense)              (None, 128)               12928     \n",
      "_________________________________________________________________\n",
      "dropout_2 (Dropout)          (None, 128)               0         \n",
      "_________________________________________________________________\n",
      "dense_2 (Dense)              (None, 1)                 129       \n",
      "=================================================================\n",
      "Total params: 3,266,257\n",
      "Trainable params: 3,266,257\n",
      "Non-trainable params: 0\n",
      "_________________________________________________________________\n",
      "None\n",
      "Train on 4469 samples, validate on 500 samples\n",
      "Epoch 1/10\n",
      "4469/4469 [==============================] - 9s 2ms/step - loss: 0.6340 - acc: 0.6507 - val_loss: 0.5535 - val_acc: 0.7240\n",
      "Epoch 2/10\n",
      "4469/4469 [==============================] - 7s 2ms/step - loss: 0.3096 - acc: 0.8778 - val_loss: 0.6097 - val_acc: 0.7200\n",
      "Epoch 3/10\n",
      "4469/4469 [==============================] - 7s 2ms/step - loss: 0.0874 - acc: 0.9718 - val_loss: 0.8304 - val_acc: 0.7160\n",
      "Epoch 4/10\n",
      "4469/4469 [==============================] - 7s 2ms/step - loss: 0.0307 - acc: 0.9910 - val_loss: 0.9787 - val_acc: 0.7340\n",
      "Epoch 5/10\n",
      "4469/4469 [==============================] - 8s 2ms/step - loss: 0.0079 - acc: 0.9975 - val_loss: 1.1518 - val_acc: 0.6940\n",
      "Epoch 6/10\n",
      "4469/4469 [==============================] - 8s 2ms/step - loss: 0.0124 - acc: 0.9971 - val_loss: 1.2783 - val_acc: 0.7100\n",
      "Epoch 7/10\n",
      "4469/4469 [==============================] - 8s 2ms/step - loss: 0.0074 - acc: 0.9978 - val_loss: 1.7712 - val_acc: 0.6920\n",
      "Epoch 8/10\n",
      "4469/4469 [==============================] - 7s 2ms/step - loss: 0.0051 - acc: 0.9984 - val_loss: 1.5390 - val_acc: 0.7140\n",
      "Epoch 9/10\n",
      "4469/4469 [==============================] - 7s 2ms/step - loss: 5.7110e-04 - acc: 1.0000 - val_loss: 1.8570 - val_acc: 0.7240\n",
      "Epoch 10/10\n",
      "4469/4469 [==============================] - 8s 2ms/step - loss: 2.1146e-04 - acc: 1.0000 - val_loss: 1.9551 - val_acc: 0.7060\n"
     ]
    },
    {
     "data": {
      "text/plain": [
       "<keras.callbacks.History at 0x7f007471bbe0>"
      ]
     },
     "execution_count": 5,
     "metadata": {},
     "output_type": "execute_result"
    }
   ],
   "source": [
    "from keras.models import Sequential\n",
    "from keras.layers import Dense\n",
    "from keras.layers import LSTM, Dropout\n",
    "from keras.layers.embeddings import Embedding\n",
    "from keras.preprocessing import sequence\n",
    "\n",
    "embedding_vector_length = 32\n",
    "\n",
    "model = Sequential()\n",
    "model.add(Embedding(num_words, embedding_vector_length, input_length=max_length))\n",
    "model.add(LSTM(100))\n",
    "model.add(Dropout(0.5))\n",
    "model.add(Dense(128, activation='relu'))\n",
    "model.add(Dropout(0.5))\n",
    "model.add(Dense(1, activation='sigmoid'))\n",
    "model.compile(loss='binary_crossentropy', optimizer='adam', metrics=['accuracy'])\n",
    "print(model.summary())\n",
    "\n",
    "model.fit(X_train, y_train, validation_data=(X_dev, y_dev), epochs=10, batch_size=32)\n"
   ]
  },
  {
   "cell_type": "code",
   "execution_count": null,
   "metadata": {},
   "outputs": [
    {
     "name": "stdout",
     "output_type": "stream",
     "text": [
      "500/500 [==============================] - 0s 577us/step\n",
      "Loss function: 1.955\n",
      "Accuracy: 70.600%\n"
     ]
    }
   ],
   "source": [
    "loss, accuracy = model.evaluate(X_dev, y_dev)\n",
    "\n",
    "print(\"Loss function: {:.3f}\".format(loss))\n",
    "print(\"Accuracy: {:.3f}%\".format(accuracy*100))"
   ]
  },
  {
   "cell_type": "markdown",
   "metadata": {},
   "source": [
    "## Bidirectional LSTM"
   ]
  },
  {
   "cell_type": "code",
   "execution_count": null,
   "metadata": {},
   "outputs": [
    {
     "name": "stdout",
     "output_type": "stream",
     "text": [
      "_________________________________________________________________\n",
      "Layer (type)                 Output Shape              Param #   \n",
      "=================================================================\n",
      "embedding_2 (Embedding)      (None, 30, 32)            3200000   \n",
      "_________________________________________________________________\n",
      "bidirectional_1 (Bidirection (None, 200)               106400    \n",
      "_________________________________________________________________\n",
      "dropout_3 (Dropout)          (None, 200)               0         \n",
      "_________________________________________________________________\n",
      "dense_3 (Dense)              (None, 128)               25728     \n",
      "_________________________________________________________________\n",
      "dropout_4 (Dropout)          (None, 128)               0         \n",
      "_________________________________________________________________\n",
      "dense_4 (Dense)              (None, 1)                 129       \n",
      "=================================================================\n",
      "Total params: 3,332,257\n",
      "Trainable params: 3,332,257\n",
      "Non-trainable params: 0\n",
      "_________________________________________________________________\n",
      "None\n",
      "Train on 4469 samples, validate on 500 samples\n",
      "Epoch 1/10\n",
      "4469/4469 [==============================] - 14s 3ms/step - loss: 0.6372 - acc: 0.6373 - val_loss: 0.5390 - val_acc: 0.7220\n",
      "Epoch 2/10\n",
      "4469/4469 [==============================] - 12s 3ms/step - loss: 0.3295 - acc: 0.8626 - val_loss: 0.6046 - val_acc: 0.7320\n",
      "Epoch 3/10\n",
      "4469/4469 [==============================] - 12s 3ms/step - loss: 0.1025 - acc: 0.9638 - val_loss: 0.7451 - val_acc: 0.7380\n",
      "Epoch 4/10\n",
      "4469/4469 [==============================] - 13s 3ms/step - loss: 0.0330 - acc: 0.9895 - val_loss: 1.0627 - val_acc: 0.7100\n",
      "Epoch 5/10\n",
      "4469/4469 [==============================] - 13s 3ms/step - loss: 0.0106 - acc: 0.9971 - val_loss: 1.1377 - val_acc: 0.6980\n",
      "Epoch 6/10\n",
      "3232/4469 [====================>.........] - ETA: 3s - loss: 0.0149 - acc: 0.9950"
     ]
    }
   ],
   "source": [
    "from keras.layers import Bidirectional\n",
    "from keras.layers.embeddings import Embedding\n",
    "from keras.preprocessing import sequence\n",
    "\n",
    "embedding_vector_length = 32\n",
    "\n",
    "model = Sequential()\n",
    "model.add(Embedding(num_words, embedding_vector_length, input_length=max_length))\n",
    "model.add(Bidirectional(LSTM(100)))\n",
    "model.add(Dropout(0.5))\n",
    "model.add(Dense(128, activation='relu'))\n",
    "model.add(Dropout(0.5))\n",
    "model.add(Dense(1, activation='sigmoid'))\n",
    "model.compile(loss='binary_crossentropy', optimizer='adam', metrics=['accuracy'])\n",
    "print(model.summary())\n",
    "\n",
    "model.fit(X_train, y_train, validation_data=(X_dev, y_dev), epochs=10, batch_size=32)\n"
   ]
  },
  {
   "cell_type": "code",
   "execution_count": null,
   "metadata": {},
   "outputs": [],
   "source": [
    "loss, accuracy = model.evaluate(X_dev, y_dev)\n",
    "\n",
    "print(\"Loss function: {:.3f}\".format(loss))\n",
    "print(\"Accuracy: {:.3f}%\".format(accuracy*100))"
   ]
  }
 ],
 "metadata": {
  "kernelspec": {
   "display_name": "Python 3",
   "language": "python",
   "name": "python3"
  },
  "language_info": {
   "codemirror_mode": {
    "name": "ipython",
    "version": 3
   },
   "file_extension": ".py",
   "mimetype": "text/x-python",
   "name": "python",
   "nbconvert_exporter": "python",
   "pygments_lexer": "ipython3",
   "version": "3.6.5"
  }
 },
 "nbformat": 4,
 "nbformat_minor": 2
}
