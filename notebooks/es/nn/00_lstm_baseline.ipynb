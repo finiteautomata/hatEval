{
 "cells": [
  {
   "cell_type": "markdown",
   "metadata": {},
   "source": [
    "# LSTM sin embeddings\n",
    "\n",
    "Modelo básico con embeddings entrenados acá. Un baseline :-)"
   ]
  },
  {
   "cell_type": "code",
   "execution_count": 1,
   "metadata": {},
   "outputs": [],
   "source": [
    "import pandas as pd\n",
    "import csv\n",
    "\n",
    "df_dev = pd.read_table(\"../../../data/es/dev_es.tsv\", index_col=\"id\", quoting=csv.QUOTE_NONE)\n",
    "df_train = pd.read_table(\"../../../data/es/train_es.tsv\", index_col=\"id\", quoting=csv.QUOTE_NONE)\n",
    "df_test = pd.read_table(\"../../../data/es/reference_es.tsv\", header=None, \n",
    "                        names=[\"text\", \"HS\", \"TR\", \"AG\"], quoting=csv.QUOTE_NONE)\n",
    "\n",
    "\n",
    "\n",
    "\n",
    "text_train, y_train = df_train[\"text\"], df_train[\"HS\"]\n",
    "text_dev, y_dev = df_dev[\"text\"], df_dev[\"HS\"]\n",
    "text_test, y_test = df_test[\"text\"], df_test[\"HS\"]\n"
   ]
  },
  {
   "cell_type": "code",
   "execution_count": 2,
   "metadata": {},
   "outputs": [
    {
     "name": "stderr",
     "output_type": "stream",
     "text": [
      "Using TensorFlow backend.\n"
     ]
    }
   ],
   "source": [
    "from keras.preprocessing.text import Tokenizer\n",
    "from keras.preprocessing.sequence import pad_sequences\n",
    "\n",
    "num_words = 100000\n",
    "\n",
    "tokenizer = Tokenizer(num_words=num_words)\n",
    "tokenizer.fit_on_texts(text_train)\n",
    "\n",
    "X_train = tokenizer.texts_to_sequences(text_train)\n",
    "X_dev = tokenizer.texts_to_sequences(text_dev)\n",
    "X_test = tokenizer.texts_to_sequences(text_test)\n",
    "max_length = 30\n",
    "\n",
    "X_train = pad_sequences(X_train, max_length)\n",
    "X_dev = pad_sequences(X_dev, max_length)\n",
    "X_test = pad_sequences(X_test, max_length)"
   ]
  },
  {
   "cell_type": "code",
   "execution_count": 4,
   "metadata": {},
   "outputs": [
    {
     "name": "stdout",
     "output_type": "stream",
     "text": [
      "_________________________________________________________________\n",
      "Layer (type)                 Output Shape              Param #   \n",
      "=================================================================\n",
      "embedding_2 (Embedding)      (None, 30, 32)            3200000   \n",
      "_________________________________________________________________\n",
      "lstm_2 (LSTM)                (None, 100)               53200     \n",
      "_________________________________________________________________\n",
      "dropout_3 (Dropout)          (None, 100)               0         \n",
      "_________________________________________________________________\n",
      "dense_3 (Dense)              (None, 128)               12928     \n",
      "_________________________________________________________________\n",
      "dropout_4 (Dropout)          (None, 128)               0         \n",
      "_________________________________________________________________\n",
      "dense_4 (Dense)              (None, 1)                 129       \n",
      "=================================================================\n",
      "Total params: 3,266,257\n",
      "Trainable params: 3,266,257\n",
      "Non-trainable params: 0\n",
      "_________________________________________________________________\n",
      "None\n",
      "Train on 4500 samples, validate on 500 samples\n",
      "Epoch 1/3\n",
      "4500/4500 [==============================] - 7s 2ms/step - loss: 0.6389 - acc: 0.6396 - val_loss: 0.5488 - val_acc: 0.7240\n",
      "Epoch 2/3\n",
      "4500/4500 [==============================] - 7s 1ms/step - loss: 0.3435 - acc: 0.8607 - val_loss: 0.7039 - val_acc: 0.7340\n",
      "Epoch 3/3\n",
      "4500/4500 [==============================] - 7s 1ms/step - loss: 0.1066 - acc: 0.9629 - val_loss: 0.8102 - val_acc: 0.7140\n"
     ]
    },
    {
     "data": {
      "text/plain": [
       "<keras.callbacks.History at 0x7fd64c123898>"
      ]
     },
     "execution_count": 4,
     "metadata": {},
     "output_type": "execute_result"
    }
   ],
   "source": [
    "from keras.models import Sequential\n",
    "from keras.layers import Dense\n",
    "from keras.layers import LSTM, Dropout\n",
    "from keras.layers.embeddings import Embedding\n",
    "from keras.preprocessing import sequence\n",
    "\n",
    "embedding_vector_length = 32\n",
    "\n",
    "model = Sequential()\n",
    "model.add(Embedding(num_words, embedding_vector_length, input_length=max_length))\n",
    "model.add(LSTM(100))\n",
    "model.add(Dropout(0.5))\n",
    "model.add(Dense(128, activation='relu'))\n",
    "model.add(Dropout(0.5))\n",
    "model.add(Dense(1, activation='sigmoid'))\n",
    "model.compile(loss='binary_crossentropy', optimizer='adam', metrics=['accuracy'])\n",
    "print(model.summary())\n",
    "\n",
    "model.fit(X_train, y_train, validation_data=(X_dev, y_dev), epochs=3, batch_size=32)\n"
   ]
  },
  {
   "cell_type": "code",
   "execution_count": 6,
   "metadata": {},
   "outputs": [
    {
     "name": "stdout",
     "output_type": "stream",
     "text": [
      "Evaluación sobre dev\n",
      "500/500 [==============================] - 0s 429us/step\n",
      "Loss           : 0.8102\n",
      "Accuracy       : 0.7140\n",
      "Precision(1)   : 0.6586\n",
      "Precision(1)   : 0.7689\n",
      "Precision(avg) : 0.7138\n",
      "\n",
      "Recall(1)      : 0.7387\n",
      "Recall(0)      : 0.6942\n",
      "Recall(avg)    : 0.7165\n",
      "\n",
      "F1(1)          : 0.6964\n",
      "F1(0)          : 0.7297\n",
      "F1(avg)        : 0.7130\n",
      "\n",
      "\n",
      "Evaluación sobre test\n",
      "1600/1600 [==============================] - 1s 354us/step\n",
      "Loss           : 0.9839\n",
      "Accuracy       : 0.6650\n",
      "Precision(1)   : 0.5769\n",
      "Precision(1)   : 0.7544\n",
      "Precision(avg) : 0.6657\n",
      "\n",
      "Recall(1)      : 0.7045\n",
      "Recall(0)      : 0.6372\n",
      "Recall(avg)    : 0.6709\n",
      "\n",
      "F1(1)          : 0.6344\n",
      "F1(0)          : 0.6909\n",
      "F1(avg)        : 0.6626\n"
     ]
    }
   ],
   "source": [
    "from hate.utils import print_evaluation\n",
    "\n",
    "print(\"Evaluación sobre dev\")\n",
    "print_evaluation(model, X_dev, y_dev)\n",
    "print(\"\\n\\nEvaluación sobre test\")\n",
    "print_evaluation(model, X_test, y_test)\n",
    "\n"
   ]
  },
  {
   "cell_type": "markdown",
   "metadata": {},
   "source": [
    "## Bidirectional LSTM"
   ]
  },
  {
   "cell_type": "code",
   "execution_count": 9,
   "metadata": {},
   "outputs": [
    {
     "name": "stdout",
     "output_type": "stream",
     "text": [
      "_________________________________________________________________\n",
      "Layer (type)                 Output Shape              Param #   \n",
      "=================================================================\n",
      "embedding_5 (Embedding)      (None, 30, 32)            3200000   \n",
      "_________________________________________________________________\n",
      "bidirectional_3 (Bidirection (None, 200)               107200    \n",
      "_________________________________________________________________\n",
      "dropout_9 (Dropout)          (None, 200)               0         \n",
      "_________________________________________________________________\n",
      "dense_9 (Dense)              (None, 128)               25728     \n",
      "_________________________________________________________________\n",
      "dropout_10 (Dropout)         (None, 128)               0         \n",
      "_________________________________________________________________\n",
      "dense_10 (Dense)             (None, 1)                 129       \n",
      "=================================================================\n",
      "Total params: 3,333,057\n",
      "Trainable params: 3,333,057\n",
      "Non-trainable params: 0\n",
      "_________________________________________________________________\n",
      "None\n",
      "Train on 4500 samples, validate on 500 samples\n",
      "Epoch 1/5\n",
      "4500/4500 [==============================] - 3s 674us/step - loss: 0.6433 - acc: 0.6351 - val_loss: 0.6126 - val_acc: 0.6980\n",
      "Epoch 2/5\n",
      "4500/4500 [==============================] - 2s 402us/step - loss: 0.3573 - acc: 0.8496 - val_loss: 0.6128 - val_acc: 0.7540\n",
      "Epoch 3/5\n",
      "4500/4500 [==============================] - 2s 400us/step - loss: 0.1075 - acc: 0.9624 - val_loss: 0.8359 - val_acc: 0.7200\n",
      "Epoch 4/5\n",
      "4500/4500 [==============================] - 2s 399us/step - loss: 0.0328 - acc: 0.9911 - val_loss: 1.0156 - val_acc: 0.6840\n",
      "Epoch 5/5\n",
      "4500/4500 [==============================] - 2s 405us/step - loss: 0.0262 - acc: 0.9931 - val_loss: 1.1604 - val_acc: 0.7120\n"
     ]
    },
    {
     "data": {
      "text/plain": [
       "<keras.callbacks.History at 0x7fd588212ef0>"
      ]
     },
     "execution_count": 9,
     "metadata": {},
     "output_type": "execute_result"
    }
   ],
   "source": [
    "from keras.layers import Bidirectional, CuDNNLSTM\n",
    "from keras.layers.embeddings import Embedding\n",
    "from keras.preprocessing import sequence\n",
    "\n",
    "embedding_vector_length = 32\n",
    "\n",
    "model = Sequential()\n",
    "model.add(Embedding(num_words, embedding_vector_length, input_length=max_length))\n",
    "model.add(Bidirectional(CuDNNLSTM(100)))\n",
    "model.add(Dropout(0.5))\n",
    "model.add(Dense(128, activation='relu'))\n",
    "model.add(Dropout(0.5))\n",
    "model.add(Dense(1, activation='sigmoid'))\n",
    "model.compile(loss='binary_crossentropy', optimizer='adam', metrics=['accuracy'])\n",
    "print(model.summary())\n",
    "\n",
    "model.fit(X_train, y_train, validation_data=(X_dev, y_dev), epochs=5, batch_size=32)\n"
   ]
  },
  {
   "cell_type": "code",
   "execution_count": 10,
   "metadata": {},
   "outputs": [
    {
     "name": "stdout",
     "output_type": "stream",
     "text": [
      "Evaluación sobre dev\n",
      "500/500 [==============================] - 0s 139us/step\n",
      "Loss           : 1.1604\n",
      "Accuracy       : 0.7120\n",
      "Precision(1)   : 0.7120\n",
      "Precision(1)   : 0.7120\n",
      "Precision(avg) : 0.7120\n",
      "\n",
      "Recall(1)      : 0.5901\n",
      "Recall(0)      : 0.8094\n",
      "Recall(avg)    : 0.6997\n",
      "\n",
      "F1(1)          : 0.6453\n",
      "F1(0)          : 0.7576\n",
      "F1(avg)        : 0.7014\n",
      "\n",
      "\n",
      "Evaluación sobre test\n",
      "1600/1600 [==============================] - 0s 135us/step\n",
      "Loss           : 1.3687\n",
      "Accuracy       : 0.6881\n",
      "Precision(1)   : 0.6344\n",
      "Precision(1)   : 0.7203\n",
      "Precision(avg) : 0.6773\n",
      "\n",
      "Recall(1)      : 0.5758\n",
      "Recall(0)      : 0.7670\n",
      "Recall(avg)    : 0.6714\n",
      "\n",
      "F1(1)          : 0.6037\n",
      "F1(0)          : 0.7429\n",
      "F1(avg)        : 0.6733\n"
     ]
    }
   ],
   "source": [
    "from hate.utils import print_evaluation\n",
    "\n",
    "print(\"Evaluación sobre dev\")\n",
    "print_evaluation(model, X_dev, y_dev)\n",
    "print(\"\\n\\nEvaluación sobre test\")\n",
    "print_evaluation(model, X_test, y_test)\n",
    "\n"
   ]
  },
  {
   "cell_type": "code",
   "execution_count": null,
   "metadata": {},
   "outputs": [],
   "source": []
  }
 ],
 "metadata": {
  "kernelspec": {
   "display_name": "Python 3",
   "language": "python",
   "name": "python3"
  },
  "language_info": {
   "codemirror_mode": {
    "name": "ipython",
    "version": 3
   },
   "file_extension": ".py",
   "mimetype": "text/x-python",
   "name": "python",
   "nbconvert_exporter": "python",
   "pygments_lexer": "ipython3",
   "version": "3.6.5"
  }
 },
 "nbformat": 4,
 "nbformat_minor": 2
}
