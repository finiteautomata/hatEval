{
 "cells": [
  {
   "cell_type": "markdown",
   "metadata": {},
   "source": [
    "# LSTM sin embeddings\n",
    "\n",
    "Modelo básico con embeddings entrenados acá. Un baseline :-)"
   ]
  },
  {
   "cell_type": "code",
   "execution_count": 1,
   "metadata": {},
   "outputs": [],
   "source": [
    "import pandas as pd\n",
    "import csv\n",
    "\n",
    "df_dev = pd.read_table(\"../../../data/es/dev_es.tsv\", index_col=\"id\", quoting=csv.QUOTE_NONE)\n",
    "df_train = pd.read_table(\"../../../data/es/train_es.tsv\", index_col=\"id\", quoting=csv.QUOTE_NONE)\n",
    "\n",
    "text_train, y_train = df_train[\"text\"], df_train[\"HS\"]\n",
    "text_dev, y_dev = df_dev[\"text\"], df_dev[\"HS\"]"
   ]
  },
  {
   "cell_type": "code",
   "execution_count": 2,
   "metadata": {},
   "outputs": [
    {
     "name": "stderr",
     "output_type": "stream",
     "text": [
      "Using TensorFlow backend.\n"
     ]
    }
   ],
   "source": [
    "from keras.preprocessing.text import Tokenizer\n",
    "from keras.preprocessing.sequence import pad_sequences\n",
    "\n",
    "num_words = 100000\n",
    "\n",
    "tokenizer = Tokenizer(num_words=num_words)\n",
    "tokenizer.fit_on_texts(text_train)\n",
    "\n",
    "X_train = tokenizer.texts_to_sequences(text_train)\n",
    "X_dev = tokenizer.texts_to_sequences(text_dev)\n",
    "\n",
    "max_length = 30\n",
    "\n",
    "X_train = pad_sequences(X_train, max_length)\n",
    "X_dev = pad_sequences(X_dev, max_length)"
   ]
  },
  {
   "cell_type": "code",
   "execution_count": 3,
   "metadata": {},
   "outputs": [
    {
     "name": "stdout",
     "output_type": "stream",
     "text": [
      "_________________________________________________________________\n",
      "Layer (type)                 Output Shape              Param #   \n",
      "=================================================================\n",
      "embedding_1 (Embedding)      (None, 30, 32)            3200000   \n",
      "_________________________________________________________________\n",
      "lstm_1 (LSTM)                (None, 100)               53200     \n",
      "_________________________________________________________________\n",
      "dropout_1 (Dropout)          (None, 100)               0         \n",
      "_________________________________________________________________\n",
      "dense_1 (Dense)              (None, 128)               12928     \n",
      "_________________________________________________________________\n",
      "dropout_2 (Dropout)          (None, 128)               0         \n",
      "_________________________________________________________________\n",
      "dense_2 (Dense)              (None, 1)                 129       \n",
      "=================================================================\n",
      "Total params: 3,266,257\n",
      "Trainable params: 3,266,257\n",
      "Non-trainable params: 0\n",
      "_________________________________________________________________\n",
      "None\n",
      "Train on 4500 samples, validate on 500 samples\n",
      "Epoch 1/10\n",
      "4500/4500 [==============================] - 9s 2ms/step - loss: 0.6447 - acc: 0.6302 - val_loss: 0.5779 - val_acc: 0.7160\n",
      "Epoch 2/10\n",
      "4500/4500 [==============================] - 7s 2ms/step - loss: 0.3352 - acc: 0.8696 - val_loss: 0.5779 - val_acc: 0.7420\n",
      "Epoch 3/10\n",
      "4500/4500 [==============================] - 7s 2ms/step - loss: 0.0934 - acc: 0.9693 - val_loss: 0.7255 - val_acc: 0.6960\n",
      "Epoch 4/10\n",
      "4500/4500 [==============================] - 7s 2ms/step - loss: 0.0269 - acc: 0.9916 - val_loss: 1.5323 - val_acc: 0.7280\n",
      "Epoch 5/10\n",
      "4500/4500 [==============================] - 7s 2ms/step - loss: 0.0113 - acc: 0.9967 - val_loss: 1.4370 - val_acc: 0.7220\n",
      "Epoch 6/10\n",
      "4500/4500 [==============================] - 7s 2ms/step - loss: 0.0135 - acc: 0.9964 - val_loss: 1.3372 - val_acc: 0.7440\n",
      "Epoch 7/10\n",
      "4500/4500 [==============================] - 7s 2ms/step - loss: 0.0143 - acc: 0.9971 - val_loss: 1.3606 - val_acc: 0.7080\n",
      "Epoch 8/10\n",
      "4500/4500 [==============================] - 7s 2ms/step - loss: 0.0033 - acc: 0.9991 - val_loss: 1.5695 - val_acc: 0.6920\n",
      "Epoch 9/10\n",
      "4500/4500 [==============================] - 7s 2ms/step - loss: 0.0030 - acc: 0.9993 - val_loss: 1.8601 - val_acc: 0.6940\n",
      "Epoch 10/10\n",
      "4500/4500 [==============================] - 7s 2ms/step - loss: 3.5401e-04 - acc: 1.0000 - val_loss: 2.0049 - val_acc: 0.6880\n"
     ]
    },
    {
     "data": {
      "text/plain": [
       "<keras.callbacks.History at 0x7f1fcd144f60>"
      ]
     },
     "execution_count": 3,
     "metadata": {},
     "output_type": "execute_result"
    }
   ],
   "source": [
    "from keras.models import Sequential\n",
    "from keras.layers import Dense\n",
    "from keras.layers import LSTM, Dropout\n",
    "from keras.layers.embeddings import Embedding\n",
    "from keras.preprocessing import sequence\n",
    "\n",
    "embedding_vector_length = 32\n",
    "\n",
    "model = Sequential()\n",
    "model.add(Embedding(num_words, embedding_vector_length, input_length=max_length))\n",
    "model.add(LSTM(100))\n",
    "model.add(Dropout(0.5))\n",
    "model.add(Dense(128, activation='relu'))\n",
    "model.add(Dropout(0.5))\n",
    "model.add(Dense(1, activation='sigmoid'))\n",
    "model.compile(loss='binary_crossentropy', optimizer='adam', metrics=['accuracy'])\n",
    "print(model.summary())\n",
    "\n",
    "model.fit(X_train, y_train, validation_data=(X_dev, y_dev), epochs=10, batch_size=32)\n"
   ]
  },
  {
   "cell_type": "code",
   "execution_count": 4,
   "metadata": {},
   "outputs": [
    {
     "name": "stdout",
     "output_type": "stream",
     "text": [
      "500/500 [==============================] - 0s 589us/step\n",
      "Loss        : 2.0049\n",
      "Accuracy    : 0.6880\n",
      "Precision   : 0.6650\n",
      "Recall      : 0.5991\n",
      "F1          : 0.6303\n"
     ]
    }
   ],
   "source": [
    "from hate.utils import print_evaluation\n",
    "\n",
    "print_evaluation(model, X_dev, y_dev.values)"
   ]
  },
  {
   "cell_type": "markdown",
   "metadata": {},
   "source": [
    "## Bidirectional LSTM"
   ]
  },
  {
   "cell_type": "code",
   "execution_count": 5,
   "metadata": {},
   "outputs": [
    {
     "name": "stdout",
     "output_type": "stream",
     "text": [
      "_________________________________________________________________\n",
      "Layer (type)                 Output Shape              Param #   \n",
      "=================================================================\n",
      "embedding_2 (Embedding)      (None, 30, 32)            3200000   \n",
      "_________________________________________________________________\n",
      "bidirectional_1 (Bidirection (None, 200)               106400    \n",
      "_________________________________________________________________\n",
      "dropout_3 (Dropout)          (None, 200)               0         \n",
      "_________________________________________________________________\n",
      "dense_3 (Dense)              (None, 128)               25728     \n",
      "_________________________________________________________________\n",
      "dropout_4 (Dropout)          (None, 128)               0         \n",
      "_________________________________________________________________\n",
      "dense_4 (Dense)              (None, 1)                 129       \n",
      "=================================================================\n",
      "Total params: 3,332,257\n",
      "Trainable params: 3,332,257\n",
      "Non-trainable params: 0\n",
      "_________________________________________________________________\n",
      "None\n",
      "Train on 4500 samples, validate on 500 samples\n",
      "Epoch 1/10\n",
      "4500/4500 [==============================] - 14s 3ms/step - loss: 0.6474 - acc: 0.6236 - val_loss: 0.5605 - val_acc: 0.7200\n",
      "Epoch 2/10\n",
      "4500/4500 [==============================] - 12s 3ms/step - loss: 0.3458 - acc: 0.8578 - val_loss: 0.6068 - val_acc: 0.7360\n",
      "Epoch 3/10\n",
      "4500/4500 [==============================] - 12s 3ms/step - loss: 0.1066 - acc: 0.9644 - val_loss: 0.8677 - val_acc: 0.7240\n",
      "Epoch 4/10\n",
      "4500/4500 [==============================] - 12s 3ms/step - loss: 0.0326 - acc: 0.9907 - val_loss: 1.2390 - val_acc: 0.7260\n",
      "Epoch 5/10\n",
      "4500/4500 [==============================] - 12s 3ms/step - loss: 0.0083 - acc: 0.9978 - val_loss: 1.5150 - val_acc: 0.7100\n",
      "Epoch 6/10\n",
      "4500/4500 [==============================] - 12s 3ms/step - loss: 0.0037 - acc: 0.9993 - val_loss: 1.5244 - val_acc: 0.7180\n",
      "Epoch 7/10\n",
      "4500/4500 [==============================] - 12s 3ms/step - loss: 6.2350e-04 - acc: 1.0000 - val_loss: 1.7411 - val_acc: 0.7260\n",
      "Epoch 8/10\n",
      "4500/4500 [==============================] - 12s 3ms/step - loss: 1.7610e-04 - acc: 1.0000 - val_loss: 1.8750 - val_acc: 0.7280\n",
      "Epoch 9/10\n",
      "4500/4500 [==============================] - 12s 3ms/step - loss: 1.9397e-04 - acc: 1.0000 - val_loss: 1.9659 - val_acc: 0.7300\n",
      "Epoch 10/10\n",
      "4500/4500 [==============================] - 12s 3ms/step - loss: 9.7398e-05 - acc: 1.0000 - val_loss: 2.0531 - val_acc: 0.7260\n"
     ]
    },
    {
     "data": {
      "text/plain": [
       "<keras.callbacks.History at 0x7f1ff907d940>"
      ]
     },
     "execution_count": 5,
     "metadata": {},
     "output_type": "execute_result"
    }
   ],
   "source": [
    "from keras.layers import Bidirectional\n",
    "from keras.layers.embeddings import Embedding\n",
    "from keras.preprocessing import sequence\n",
    "\n",
    "embedding_vector_length = 32\n",
    "\n",
    "model = Sequential()\n",
    "model.add(Embedding(num_words, embedding_vector_length, input_length=max_length))\n",
    "model.add(Bidirectional(LSTM(100)))\n",
    "model.add(Dropout(0.5))\n",
    "model.add(Dense(128, activation='relu'))\n",
    "model.add(Dropout(0.5))\n",
    "model.add(Dense(1, activation='sigmoid'))\n",
    "model.compile(loss='binary_crossentropy', optimizer='adam', metrics=['accuracy'])\n",
    "print(model.summary())\n",
    "\n",
    "model.fit(X_train, y_train, validation_data=(X_dev, y_dev), epochs=10, batch_size=32)\n"
   ]
  },
  {
   "cell_type": "code",
   "execution_count": 6,
   "metadata": {},
   "outputs": [
    {
     "name": "stdout",
     "output_type": "stream",
     "text": [
      "500/500 [==============================] - 1s 1ms/step\n",
      "Loss        : 2.0531\n",
      "Accuracy    : 0.7260\n",
      "Precision   : 0.6923\n",
      "Recall      : 0.6892\n",
      "F1          : 0.6907\n"
     ]
    }
   ],
   "source": [
    "from hate.utils import print_evaluation\n",
    "\n",
    "print_evaluation(model, X_dev, y_dev.values)"
   ]
  }
 ],
 "metadata": {
  "kernelspec": {
   "display_name": "Python 3",
   "language": "python",
   "name": "python3"
  },
  "language_info": {
   "codemirror_mode": {
    "name": "ipython",
    "version": 3
   },
   "file_extension": ".py",
   "mimetype": "text/x-python",
   "name": "python",
   "nbconvert_exporter": "python",
   "pygments_lexer": "ipython3",
   "version": "3.6.5"
  }
 },
 "nbformat": 4,
 "nbformat_minor": 2
}
