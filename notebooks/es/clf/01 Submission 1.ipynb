{
 "cells": [
  {
   "cell_type": "code",
   "execution_count": 1,
   "metadata": {},
   "outputs": [],
   "source": [
    "from hate.settings import corpora\n",
    "train = corpora['train_es']\n",
    "X_train, y_train = list(train.X()), list(train.y())\n",
    "dev = corpora['dev_es']\n",
    "X_dev, y_dev = list(dev.X()), list(dev.y())"
   ]
  },
  {
   "cell_type": "code",
   "execution_count": null,
   "metadata": {},
   "outputs": [],
   "source": [
    "# Logistic Regression\n",
    "# filename = '/home/francolq/hatEval/SENTIMENT_UBAv2_50_2.bin'\n",
    "# filename = '/home/francolq/tass2018/UBAv2_50_2.bin'\n",
    "from hate.classifier import HateClassifier\n",
    "filename = '/users/jsanchez/francolq/hatEval/tass2018/SENTIMENT_UBAv2_50_2.bin'\n",
    "clf = HateClassifier(\n",
    "    lang='es',\n",
    "    bow=True,\n",
    "    bow_params={\n",
    "        'binary': True,\n",
    "        'ngram_range': (1, 2),\n",
    "    },\n",
    "    boc=True,\n",
    "    boc_params={\n",
    "        'analyzer': 'char',\n",
    "        'binary': True,\n",
    "        'ngram_range': (1, 5),\n",
    "    },\n",
    "    #emb='fasttext',\n",
    "    emb='wfasttext',\n",
    "    emb_params={\n",
    "        'file': filename,\n",
    "    },\n",
    "    clf='maxent'\n",
    ")\n",
    "clf.fit(X_train, y_train)\n",
    "clf.eval(X_dev, y_dev)"
   ]
  },
  {
   "cell_type": "code",
   "execution_count": 23,
   "metadata": {},
   "outputs": [
    {
     "name": "stdout",
     "output_type": "stream",
     "text": [
      "accuracy\t0.85\n",
      "\n",
      "              precision    recall  f1-score   support\n",
      "\n",
      "           0       0.87      0.85      0.86       278\n",
      "           1       0.82      0.84      0.83       222\n",
      "\n",
      "   micro avg       0.85      0.85      0.85       500\n",
      "   macro avg       0.84      0.85      0.84       500\n",
      "weighted avg       0.85      0.85      0.85       500\n",
      "\n",
      "[[237  41]\n",
      " [ 36 186]]\n"
     ]
    }
   ],
   "source": [
    "# SVM\n",
    "filename = '/users/jsanchez/francolq/hatEval/tass2018/SENTIMENT_UBAv2_50_2.bin'\n",
    "clf = HateClassifier(\n",
    "    lang='es',\n",
    "    bow=True,\n",
    "    bow_params={\n",
    "        'binary': True,\n",
    "        'ngram_range': (1, 2),\n",
    "    },\n",
    "    boc=True,\n",
    "    boc_params={\n",
    "        'analyzer': 'char',\n",
    "        'binary': True,\n",
    "        'ngram_range': (1, 5),\n",
    "    },\n",
    "    #emb='fasttext',\n",
    "    emb='wfasttext',\n",
    "    emb_params={\n",
    "        'file': filename,\n",
    "    },\n",
    ")\n",
    "clf.fit(X_train, y_train)\n",
    "clf.eval(X_dev, y_dev)"
   ]
  },
  {
   "cell_type": "markdown",
   "metadata": {},
   "source": [
    "## Test"
   ]
  },
  {
   "cell_type": "code",
   "execution_count": 4,
   "metadata": {},
   "outputs": [],
   "source": [
    "from hate.settings import corpora\n",
    "test = corpora['test_es']\n",
    "X_test = list(test.X())"
   ]
  },
  {
   "cell_type": "code",
   "execution_count": 15,
   "metadata": {},
   "outputs": [],
   "source": [
    "y_pred = clf.predict(X_test)"
   ]
  },
  {
   "cell_type": "code",
   "execution_count": 16,
   "metadata": {},
   "outputs": [
    {
     "data": {
      "text/plain": [
       "Counter({'0': 774, '1': 826})"
      ]
     },
     "execution_count": 16,
     "metadata": {},
     "output_type": "execute_result"
    }
   ],
   "source": [
    "from collections import Counter\n",
    "Counter(y_pred)"
   ]
  },
  {
   "cell_type": "markdown",
   "metadata": {},
   "source": [
    "## Submit"
   ]
  },
  {
   "cell_type": "code",
   "execution_count": 17,
   "metadata": {},
   "outputs": [],
   "source": [
    "ids = [e['id'] for e in test.entries]"
   ]
  },
  {
   "cell_type": "code",
   "execution_count": 18,
   "metadata": {},
   "outputs": [],
   "source": [
    "# write submission\n",
    "f = open('es_a.tsv', 'w')\n",
    "for id, y in zip(ids, y_pred):\n",
    "    f.write('{}\\t{}\\n'.format(id, y))\n",
    "f.close()"
   ]
  },
  {
   "cell_type": "code",
   "execution_count": 19,
   "metadata": {},
   "outputs": [],
   "source": [
    "from zipfile import ZipFile\n",
    "with ZipFile('es_a.zip', 'w') as myzip:\n",
    "    myzip.write('es_a.tsv')"
   ]
  }
 ],
 "metadata": {
  "kernelspec": {
   "display_name": "Python 3",
   "language": "python",
   "name": "python3"
  },
  "language_info": {
   "codemirror_mode": {
    "name": "ipython",
    "version": 3
   },
   "file_extension": ".py",
   "mimetype": "text/x-python",
   "name": "python",
   "nbconvert_exporter": "python",
   "pygments_lexer": "ipython3",
   "version": "3.7.2+"
  }
 },
 "nbformat": 4,
 "nbformat_minor": 2
}
