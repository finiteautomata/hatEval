{
 "cells": [
  {
   "cell_type": "markdown",
   "metadata": {},
   "source": [
    "# Fasttext Supervised\n",
    "\n",
    "https://fasttext.cc/docs/en/supervised-tutorial.html"
   ]
  },
  {
   "cell_type": "markdown",
   "metadata": {},
   "source": [
    "## Prepare data"
   ]
  },
  {
   "cell_type": "code",
   "execution_count": 2,
   "metadata": {},
   "outputs": [],
   "source": [
    "from hate.settings import corpora\n",
    "train = corpora['train_es']\n",
    "X_train, y_train = list(train.X()), list(train.y())\n",
    "dev = corpora['dev_es']\n",
    "X_dev, y_dev = list(dev.X()), list(dev.y())"
   ]
  },
  {
   "cell_type": "code",
   "execution_count": 5,
   "metadata": {},
   "outputs": [],
   "source": [
    "f = open('fasttext_train_es.txt', 'w')\n",
    "for x, y in zip(X_train, y_train):\n",
    "    f.write('__label__{} {}\\n'.format(y, x))\n",
    "f.close()"
   ]
  },
  {
   "cell_type": "code",
   "execution_count": 6,
   "metadata": {},
   "outputs": [],
   "source": [
    "f = open('fasttext_dev_es.txt', 'w')\n",
    "for x, y in zip(X_dev, y_dev):\n",
    "    f.write('__label__{} {}\\n'.format(y, x))\n",
    "f.close()"
   ]
  },
  {
   "cell_type": "markdown",
   "metadata": {},
   "source": [
    "## Train from scratch"
   ]
  },
  {
   "cell_type": "code",
   "execution_count": 17,
   "metadata": {},
   "outputs": [],
   "source": [
    "import fastText"
   ]
  },
  {
   "cell_type": "code",
   "execution_count": 2,
   "metadata": {},
   "outputs": [
    {
     "data": {
      "text/plain": [
       "\u001b[0;31mSignature:\u001b[0m\n",
       "\u001b[0mfastText\u001b[0m\u001b[0;34m.\u001b[0m\u001b[0mtrain_supervised\u001b[0m\u001b[0;34m(\u001b[0m\u001b[0;34m\u001b[0m\n",
       "\u001b[0;34m\u001b[0m    \u001b[0;34m[\u001b[0m\u001b[0;34m'input'\u001b[0m\u001b[0;34m,\u001b[0m \u001b[0;34m'lr=0.1'\u001b[0m\u001b[0;34m,\u001b[0m \u001b[0;34m'dim=100'\u001b[0m\u001b[0;34m,\u001b[0m \u001b[0;34m'ws=5'\u001b[0m\u001b[0;34m,\u001b[0m \u001b[0;34m'epoch=5'\u001b[0m\u001b[0;34m,\u001b[0m \u001b[0;34m'minCount=1'\u001b[0m\u001b[0;34m,\u001b[0m \u001b[0;34m'minCountLabel=0'\u001b[0m\u001b[0;34m,\u001b[0m \u001b[0;34m'minn=0'\u001b[0m\u001b[0;34m,\u001b[0m \u001b[0;34m'maxn=0'\u001b[0m\u001b[0;34m,\u001b[0m \u001b[0;34m'neg=5'\u001b[0m\u001b[0;34m,\u001b[0m \u001b[0;34m'wordNgrams=1'\u001b[0m\u001b[0;34m,\u001b[0m \u001b[0;34m\"loss='softmax'\"\u001b[0m\u001b[0;34m,\u001b[0m \u001b[0;34m'bucket=2000000'\u001b[0m\u001b[0;34m,\u001b[0m \u001b[0;34m'thread=19'\u001b[0m\u001b[0;34m,\u001b[0m \u001b[0;34m'lrUpdateRate=100'\u001b[0m\u001b[0;34m,\u001b[0m \u001b[0;34m't=0.0001'\u001b[0m\u001b[0;34m,\u001b[0m \u001b[0;34m\"label='__label__'\"\u001b[0m\u001b[0;34m,\u001b[0m \u001b[0;34m'verbose=2'\u001b[0m\u001b[0;34m,\u001b[0m \u001b[0;34m\"pretrainedVectors=''\"\u001b[0m\u001b[0;34m]\u001b[0m\u001b[0;34m,\u001b[0m\u001b[0;34m\u001b[0m\n",
       "\u001b[0;34m\u001b[0m\u001b[0;34m)\u001b[0m\u001b[0;34m\u001b[0m\u001b[0;34m\u001b[0m\u001b[0m\n",
       "\u001b[0;31mDocstring:\u001b[0m\n",
       "Train a supervised model and return a model object.\n",
       "\n",
       "input must be a filepath. The input text does not need to be tokenized\n",
       "as per the tokenize function, but it must be preprocessed and encoded\n",
       "as UTF-8. You might want to consult standard preprocessing scripts such\n",
       "as tokenizer.perl mentioned here: http://www.statmt.org/wmt07/baseline.html\n",
       "\n",
       "The input file must must contain at least one label per line. For an\n",
       "example consult the example datasets which are part of the fastText\n",
       "repository such as the dataset pulled by classification-example.sh.\n",
       "\u001b[0;31mFile:\u001b[0m      ~/.virtualenvs/pln/lib/python3.7/site-packages/fastText/FastText.py\n",
       "\u001b[0;31mType:\u001b[0m      function\n"
      ]
     },
     "metadata": {},
     "output_type": "display_data"
    }
   ],
   "source": [
    "fastText.train_supervised?"
   ]
  },
  {
   "cell_type": "code",
   "execution_count": 56,
   "metadata": {},
   "outputs": [],
   "source": [
    "model = fastText.train_supervised('fasttext_train_es.txt', lr=0.1, epoch=25, wordNgrams=2)"
   ]
  },
  {
   "cell_type": "code",
   "execution_count": 40,
   "metadata": {},
   "outputs": [],
   "source": [
    "model.save_model('SUPERVISED.bin')"
   ]
  },
  {
   "cell_type": "markdown",
   "metadata": {},
   "source": [
    "## Test"
   ]
  },
  {
   "cell_type": "code",
   "execution_count": 57,
   "metadata": {},
   "outputs": [
    {
     "data": {
      "text/plain": [
       "(500, 0.77, 0.77)"
      ]
     },
     "execution_count": 57,
     "metadata": {},
     "output_type": "execute_result"
    }
   ],
   "source": [
    "model.test('fasttext_dev_es.txt')\n",
    "# model.test?"
   ]
  },
  {
   "cell_type": "markdown",
   "metadata": {},
   "source": [
    "## Train from Standard Pretrained"
   ]
  },
  {
   "cell_type": "code",
   "execution_count": 66,
   "metadata": {},
   "outputs": [],
   "source": [
    "model = fastText.train_supervised(\n",
    "    'fasttext_train_es.txt',\n",
    "    lr=0.1,\n",
    "    epoch=25,\n",
    "    wordNgrams=2,\n",
    "    dim=300,\n",
    "    #pretrainedVectors='/users/jsanchez/francolq/hatEval/tass2018/SENTIMENT_UBAv2_50_2.bin'\n",
    "    pretrainedVectors='cc.es.300.vec'\n",
    ")"
   ]
  },
  {
   "cell_type": "code",
   "execution_count": 67,
   "metadata": {},
   "outputs": [
    {
     "data": {
      "text/plain": [
       "(500, 0.768, 0.768)"
      ]
     },
     "execution_count": 67,
     "metadata": {},
     "output_type": "execute_result"
    }
   ],
   "source": [
    "model.test('fasttext_dev_es.txt')"
   ]
  },
  {
   "cell_type": "code",
   "execution_count": null,
   "metadata": {},
   "outputs": [],
   "source": [
    "model.save_model(...)"
   ]
  },
  {
   "cell_type": "markdown",
   "metadata": {},
   "source": [
    "## Train from Our Pretrained\n",
    "\n",
    "Here improves a bit."
   ]
  },
  {
   "cell_type": "raw",
   "metadata": {},
   "source": [
    "$ ./fasttext print-word-vectors ../hatEval/tass2018/SENTIMENT_UBAv2_50_2.bin < ../hatEval/notebooks/fasttext_train_es.txt > ../hatEval/notebooks/fasttext_train_es.vec\n",
    "$ wc -l fasttext_train_es.vec\n",
    "99347 fasttext_train_es.vec\n",
    "$ echo '99347 50' | cat - fasttext_train_es.vec > fixed_fasttext_train_es.vec\n"
   ]
  },
  {
   "cell_type": "code",
   "execution_count": 31,
   "metadata": {},
   "outputs": [],
   "source": [
    "model = fastText.train_supervised(\n",
    "    'fasttext_train_es.txt',\n",
    "    lr=0.5,\n",
    "    epoch=20,\n",
    "    wordNgrams=2,\n",
    "    dim=50,\n",
    "    pretrainedVectors='fixed_fasttext_train_es.vec'\n",
    ")"
   ]
  },
  {
   "cell_type": "code",
   "execution_count": 32,
   "metadata": {},
   "outputs": [
    {
     "data": {
      "text/plain": [
       "(500, 0.778, 0.778)"
      ]
     },
     "execution_count": 32,
     "metadata": {},
     "output_type": "execute_result"
    }
   ],
   "source": [
    "model.test('fasttext_dev_es.txt')"
   ]
  },
  {
   "cell_type": "markdown",
   "metadata": {},
   "source": [
    "## Train from our pretrained with proper preprocessing\n",
    "\n",
    "Improves more!"
   ]
  },
  {
   "cell_type": "code",
   "execution_count": 47,
   "metadata": {},
   "outputs": [],
   "source": [
    "from hate.tokenizer import Tokenizer\n",
    "tkn = Tokenizer(lang='es', lem=False, neg=True, rdup=True)\n",
    "X_train_tokens = [tkn(x) for x in X_train]\n",
    "X_dev_tokens = [tkn(x) for x in X_dev]"
   ]
  },
  {
   "cell_type": "code",
   "execution_count": 12,
   "metadata": {},
   "outputs": [
    {
     "data": {
      "text/html": [
       "<div>\n",
       "<style scoped>\n",
       "    .dataframe tbody tr th:only-of-type {\n",
       "        vertical-align: middle;\n",
       "    }\n",
       "\n",
       "    .dataframe tbody tr th {\n",
       "        vertical-align: top;\n",
       "    }\n",
       "\n",
       "    .dataframe thead th {\n",
       "        text-align: right;\n",
       "    }\n",
       "</style>\n",
       "<table border=\"1\" class=\"dataframe\">\n",
       "  <thead>\n",
       "    <tr style=\"text-align: right;\">\n",
       "      <th></th>\n",
       "      <th>0</th>\n",
       "      <th>1</th>\n",
       "    </tr>\n",
       "  </thead>\n",
       "  <tbody>\n",
       "    <tr>\n",
       "      <th>0</th>\n",
       "      <td>Easyjet quiere duplicar el número de mujeres piloto' Verás tú para aparcar el avión.. http://t.co/46NuLkm09x</td>\n",
       "      <td>[easyjet, quiere, duplicar, número, mujeres, piloto, verás, aparcar, avión, url]</td>\n",
       "    </tr>\n",
       "    <tr>\n",
       "      <th>1</th>\n",
       "      <td>El gobierno debe crear un control estricto de inmigración en las zonas fronterizas con Colombia por q después del 20-8querrán venir en masa</td>\n",
       "      <td>[gobierno, debe, crear, control, estricto, inmigración, zonas, fronterizas, colombia, q, después, querrán, venir, masa]</td>\n",
       "    </tr>\n",
       "    <tr>\n",
       "      <th>2</th>\n",
       "      <td>Yo veo a mujeres destruidas por acoso laboral y callejero. Otras con depresión debido a violación sexual o maltrato físico. Y conocí a varias que se suicidaron por este tipo de comportamientos machistas. Vas a seguir con tu show pobre? https://t.co/JE6MEgvIh4</td>\n",
       "      <td>[veo, mujeres, destruidas, acoso, laboral, callejero, depresión, debido, violación, sexual, maltrato, físico, conocí, varias, suicidaron, tipo, comportamientos, machistas, vas, seguir, show, pobre, url]</td>\n",
       "    </tr>\n",
       "    <tr>\n",
       "      <th>3</th>\n",
       "      <td>— Yo soy respetuoso con los demás, sólamente les recuerdo lo que son. Y si son escoria no es culpa mía. ... — ¡Claro que lo sé! ¿¡Por quién me tomas!?</td>\n",
       "      <td>[—, respetuoso, demás, sólamente, recuerdo, si, escoria, no, NOT_culpa, —, claro, sé, quién, tomas]</td>\n",
       "    </tr>\n",
       "    <tr>\n",
       "      <th>4</th>\n",
       "      <td>Antonio Caballero y como ser de mal gusto e ignorante a la vez. Claro que no es lo mismo acoso sexual y violación pero hay varias conductas que componen la violencia sexual.</td>\n",
       "      <td>[antonio, caballero, ser, mal, gusto, ignorante, vez, claro, no, NOT_mismo, NOT_acoso, NOT_sexual, violación, varias, conductas, componen, violencia, sexual]</td>\n",
       "    </tr>\n",
       "    <tr>\n",
       "      <th>5</th>\n",
       "      <td>@Zurine3 Cuánto hijo de puta sobra en el mundo...</td>\n",
       "      <td>[@user, cuánto, hijo, puta, sobra, mundo]</td>\n",
       "    </tr>\n",
       "    <tr>\n",
       "      <th>6</th>\n",
       "      <td>Pablo Casado debería estudiar un máster en inmigración https://t.co/Pcz6GPJ6dG</td>\n",
       "      <td>[pablo, casado, debería, estudiar, máster, inmigración, url]</td>\n",
       "    </tr>\n",
       "    <tr>\n",
       "      <th>7</th>\n",
       "      <td>vos me haces eso te pego una patada en la cara https://t.co/2drqUu5Rwc</td>\n",
       "      <td>[vos, haces, pego, patada, cara, url]</td>\n",
       "    </tr>\n",
       "    <tr>\n",
       "      <th>8</th>\n",
       "      <td>#Noticiasdelalinea: Detienen en Guatapanal motocicleta y nacional haitiano indocumentado https://t.co/qs9MTKddqK</td>\n",
       "      <td>[#noticiasdelalinea, detienen, guatapanal, motocicleta, nacional, haitiano, indocumentado, url]</td>\n",
       "    </tr>\n",
       "    <tr>\n",
       "      <th>9</th>\n",
       "      <td>@MaivePerez Llora te lo.mereces por zorra</td>\n",
       "      <td>[@user, llora, lo.mereces, zorra]</td>\n",
       "    </tr>\n",
       "  </tbody>\n",
       "</table>\n",
       "</div>"
      ],
      "text/plain": [
       "                                                                                                                                                                                                                                                                     0  \\\n",
       "0  Easyjet quiere duplicar el número de mujeres piloto' Verás tú para aparcar el avión.. http://t.co/46NuLkm09x                                                                                                                                                          \n",
       "1  El gobierno debe crear un control estricto de inmigración en las zonas fronterizas con Colombia por q después del 20-8querrán venir en masa                                                                                                                           \n",
       "2  Yo veo a mujeres destruidas por acoso laboral y callejero. Otras con depresión debido a violación sexual o maltrato físico. Y conocí a varias que se suicidaron por este tipo de comportamientos machistas. Vas a seguir con tu show pobre? https://t.co/JE6MEgvIh4   \n",
       "3  — Yo soy respetuoso con los demás, sólamente les recuerdo lo que son. Y si son escoria no es culpa mía. ... — ¡Claro que lo sé! ¿¡Por quién me tomas!?                                                                                                                \n",
       "4  Antonio Caballero y como ser de mal gusto e ignorante a la vez. Claro que no es lo mismo acoso sexual y violación pero hay varias conductas que componen la violencia sexual.                                                                                         \n",
       "5  @Zurine3 Cuánto hijo de puta sobra en el mundo...                                                                                                                                                                                                                     \n",
       "6  Pablo Casado debería estudiar un máster en inmigración https://t.co/Pcz6GPJ6dG                                                                                                                                                                                        \n",
       "7  vos me haces eso te pego una patada en la cara https://t.co/2drqUu5Rwc                                                                                                                                                                                                \n",
       "8  #Noticiasdelalinea: Detienen en Guatapanal motocicleta y nacional haitiano indocumentado https://t.co/qs9MTKddqK                                                                                                                                                      \n",
       "9  @MaivePerez Llora te lo.mereces por zorra                                                                                                                                                                                                                             \n",
       "\n",
       "                                                                                                                                                                                                            1  \n",
       "0  [easyjet, quiere, duplicar, número, mujeres, piloto, verás, aparcar, avión, url]                                                                                                                            \n",
       "1  [gobierno, debe, crear, control, estricto, inmigración, zonas, fronterizas, colombia, q, después, querrán, venir, masa]                                                                                     \n",
       "2  [veo, mujeres, destruidas, acoso, laboral, callejero, depresión, debido, violación, sexual, maltrato, físico, conocí, varias, suicidaron, tipo, comportamientos, machistas, vas, seguir, show, pobre, url]  \n",
       "3  [—, respetuoso, demás, sólamente, recuerdo, si, escoria, no, NOT_culpa, —, claro, sé, quién, tomas]                                                                                                         \n",
       "4  [antonio, caballero, ser, mal, gusto, ignorante, vez, claro, no, NOT_mismo, NOT_acoso, NOT_sexual, violación, varias, conductas, componen, violencia, sexual]                                               \n",
       "5  [@user, cuánto, hijo, puta, sobra, mundo]                                                                                                                                                                   \n",
       "6  [pablo, casado, debería, estudiar, máster, inmigración, url]                                                                                                                                                \n",
       "7  [vos, haces, pego, patada, cara, url]                                                                                                                                                                       \n",
       "8  [#noticiasdelalinea, detienen, guatapanal, motocicleta, nacional, haitiano, indocumentado, url]                                                                                                             \n",
       "9  [@user, llora, lo.mereces, zorra]                                                                                                                                                                           "
      ]
     },
     "execution_count": 12,
     "metadata": {},
     "output_type": "execute_result"
    }
   ],
   "source": [
    "import pandas as pd\n",
    "pd.options.display.max_colwidth = 0\n",
    "df = pd.DataFrame([(x, x2) for x, x2 in zip(X_train, X_train_tokens)])\n",
    "df[:10]"
   ]
  },
  {
   "cell_type": "code",
   "execution_count": 48,
   "metadata": {},
   "outputs": [],
   "source": [
    "f = open('fasttext_sentiment_train_es.txt', 'w')\n",
    "for x, y in zip(X_train_tokens, y_train):\n",
    "    f.write('__label__{} '.format(y) + ' '.join(x) + '\\n')\n",
    "f.close()\n",
    "f = open('fasttext_sentiment_dev_es.txt', 'w')\n",
    "for x, y in zip(X_dev_tokens, y_dev):\n",
    "    f.write('__label__{} '.format(y) + ' '.join(x) + '\\n')\n",
    "f.close()"
   ]
  },
  {
   "cell_type": "code",
   "execution_count": null,
   "metadata": {},
   "outputs": [],
   "source": [
    "$ ./fasttext print-word-vectors ../hatEval/tass2018/SENTIMENT_UBAv2_50_2.bin < ../hatEval/notebooks/fasttext_sentiment_train_es.txt > ../hatEval/notebooks/fasttext_sentiment_train_es.vec\n",
    "$ wc -l fasttext_sentiment_train_es.vec\n",
    "59148 fasttext_sentiment_train_es.vec\n",
    "$ echo '59148 50' | cat - fasttext_sentiment_train_es.vec > fixed_fasttext_sentiment_train_es.vec\n"
   ]
  },
  {
   "cell_type": "code",
   "execution_count": 36,
   "metadata": {},
   "outputs": [],
   "source": [
    "model = fastText.train_supervised(\n",
    "    'fasttext_sentiment_train_es.txt',\n",
    "    lr=0.1,\n",
    "    epoch=20,\n",
    "    wordNgrams=2,\n",
    "    dim=50,\n",
    "    pretrainedVectors='fixed_fasttext_sentiment_train_es.vec'\n",
    ")"
   ]
  },
  {
   "cell_type": "code",
   "execution_count": 55,
   "metadata": {},
   "outputs": [],
   "source": [
    "model = fastText.train_supervised(\n",
    "    'fasttext_sentiment_train_es.txt',\n",
    "    lr=0.5,\n",
    "    epoch=20,\n",
    "    wordNgrams=2,\n",
    "    dim=50,\n",
    "    pretrainedVectors='fixed_fasttext_sentiment_train_es.vec'\n",
    ")"
   ]
  },
  {
   "cell_type": "code",
   "execution_count": 56,
   "metadata": {},
   "outputs": [
    {
     "data": {
      "text/plain": [
       "(500, 0.792, 0.792)"
      ]
     },
     "execution_count": 56,
     "metadata": {},
     "output_type": "execute_result"
    }
   ],
   "source": [
    "model.test('fasttext_sentiment_dev_es.txt')"
   ]
  },
  {
   "cell_type": "code",
   "execution_count": 57,
   "metadata": {},
   "outputs": [],
   "source": [
    "model.save_model('SUPERVISED_SENTIMENT.bin')"
   ]
  },
  {
   "cell_type": "raw",
   "metadata": {},
   "source": [
    "# COMMANDLINE VERSION (sort of):\n",
    "./fasttext supervised -input ../hatEval/notebooks/fasttext_train_es.txt -output SUPERVISED_SENTIMENT\n",
    "./fasttext test SUPERVISED_SENTIMENT.bin ../hatEval/notebooks/fasttext_sentiment_dev_es.txt \n"
   ]
  },
  {
   "cell_type": "markdown",
   "metadata": {},
   "source": [
    "## Test our original embeddings with no supervision\n",
    "\n",
    "You stupid it was never trained it can't be tested"
   ]
  },
  {
   "cell_type": "code",
   "execution_count": 13,
   "metadata": {},
   "outputs": [],
   "source": [
    "import fastText\n",
    "filename = '/users/jsanchez/francolq/hatEval/tass2018/SENTIMENT_UBAv2_50_2.bin'\n",
    "model = fastText.load_model(filename)"
   ]
  },
  {
   "cell_type": "code",
   "execution_count": null,
   "metadata": {},
   "outputs": [],
   "source": [
    "model.test()"
   ]
  },
  {
   "cell_type": "code",
   "execution_count": null,
   "metadata": {},
   "outputs": [],
   "source": [
    "$ ./fasttext test ../hatEval/tass2018/SENTIMENT_UBAv2_50_2.bin ../hatEval/notebooks/fasttext_sentiment_dev_es.txt \n",
    "N\t0\n",
    "P@1\t-nan\n",
    "R@1\t-nan\n",
    "$ ./fasttext test ../hatEval/tass2018/SENTIMENT_UBAv2_50_2.bin ../hatEval/notebooks/fasttext_dev_es.txt \n",
    "N\t0\n",
    "P@1\t-nan\n",
    "R@1\t-nan\n"
   ]
  },
  {
   "cell_type": "markdown",
   "metadata": {},
   "source": [
    "## Test in Pipeline\n",
    "\n",
    "Really sad."
   ]
  },
  {
   "cell_type": "code",
   "execution_count": 5,
   "metadata": {},
   "outputs": [
    {
     "name": "stdout",
     "output_type": "stream",
     "text": [
      "accuracy\t0.78\n",
      "\n",
      "              precision    recall  f1-score   support\n",
      "\n",
      "           0       0.84      0.75      0.79       278\n",
      "           1       0.72      0.82      0.77       222\n",
      "\n",
      "   micro avg       0.78      0.78      0.78       500\n",
      "   macro avg       0.78      0.79      0.78       500\n",
      "weighted avg       0.79      0.78      0.78       500\n",
      "\n",
      "[[208  70]\n",
      " [ 39 183]]\n"
     ]
    }
   ],
   "source": [
    "from hate.classifier import HateClassifier\n",
    "\n",
    "# filename = 'SUPERVISED.bin'\n",
    "filename = 'SUPERVISED_SENTIMENT.bin'\n",
    "clf = HateClassifier(\n",
    "    lang='es',\n",
    "    bow=True,\n",
    "    bow_params={\n",
    "        'binary': True,\n",
    "        'ngram_range': (1, 2),\n",
    "    },\n",
    "    boc=True,\n",
    "    boc_params={\n",
    "        'analyzer': 'char',\n",
    "        'binary': True,\n",
    "        'ngram_range': (1, 5),\n",
    "    },\n",
    "    #emb='fasttext',\n",
    "    emb='wfasttext',\n",
    "    emb_params={\n",
    "        'file': filename,\n",
    "        #'tokenizer': None,  # for SUPERVISED.bin\n",
    "    },\n",
    "    #clf='maxent'\n",
    ")\n",
    "clf.fit(X_train, y_train)\n",
    "clf.eval(X_dev, y_dev)"
   ]
  },
  {
   "cell_type": "code",
   "execution_count": 10,
   "metadata": {},
   "outputs": [
    {
     "name": "stdout",
     "output_type": "stream",
     "text": [
      "accuracy\t0.79\n",
      "\n",
      "              precision    recall  f1-score   support\n",
      "\n",
      "           0       0.84      0.78      0.81       278\n",
      "           1       0.75      0.81      0.78       222\n",
      "\n",
      "   micro avg       0.79      0.79      0.79       500\n",
      "   macro avg       0.79      0.80      0.79       500\n",
      "weighted avg       0.80      0.79      0.79       500\n",
      "\n",
      "[[217  61]\n",
      " [ 42 180]]\n"
     ]
    }
   ],
   "source": [
    "# ONLY FASTTEXT\n",
    "from hate.classifier import HateClassifier\n",
    "\n",
    "#filename = 'SUPERVISED.bin'\n",
    "filename = 'SUPERVISED_SENTIMENT.bin'\n",
    "clf = HateClassifier(\n",
    "    lang='es',\n",
    "    bow=False,\n",
    "    boc=False,\n",
    "    emb='fasttext',\n",
    "    #emb='wfasttext',\n",
    "    emb_params={\n",
    "        'file': filename,\n",
    "        #'tokenizer': None,\n",
    "    },\n",
    "    clf='svm'\n",
    ")\n",
    "clf.fit(X_train, y_train)\n",
    "clf.eval(X_dev, y_dev)"
   ]
  }
 ],
 "metadata": {
  "kernelspec": {
   "display_name": "Python 3",
   "language": "python",
   "name": "python3"
  },
  "language_info": {
   "codemirror_mode": {
    "name": "ipython",
    "version": 3
   },
   "file_extension": ".py",
   "mimetype": "text/x-python",
   "name": "python",
   "nbconvert_exporter": "python",
   "pygments_lexer": "ipython3",
   "version": "3.7.2"
  }
 },
 "nbformat": 4,
 "nbformat_minor": 2
}
