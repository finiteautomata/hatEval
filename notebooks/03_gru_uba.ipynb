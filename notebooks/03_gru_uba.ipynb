{
 "cells": [
  {
   "cell_type": "markdown",
   "metadata": {},
   "source": [
    "# GRU \n",
    "\n",
    "Usamos UBA. No vamos a probar bidireccional porque evidentemente está andando bastante mal"
   ]
  },
  {
   "cell_type": "code",
   "execution_count": 1,
   "metadata": {},
   "outputs": [
    {
     "name": "stdout",
     "output_type": "stream",
     "text": [
      "dev_es.tsv  train_es.tsv\n"
     ]
    }
   ],
   "source": [
    "%ls ../data/dev_es/"
   ]
  },
  {
   "cell_type": "code",
   "execution_count": 2,
   "metadata": {},
   "outputs": [],
   "source": [
    "import pandas as pd\n",
    "df_train = pd.read_table(\"../data/dev_es/train_es.tsv\", index_col=\"id\")\n",
    "df_dev = pd.read_table(\"../data/dev_es/dev_es.tsv\", index_col=\"id\")\n",
    "\n",
    "text_train, y_train = df_train[\"text\"], df_train[\"HS\"]\n",
    "text_dev, y_dev = df_dev[\"text\"], df_dev[\"HS\"]"
   ]
  },
  {
   "cell_type": "markdown",
   "metadata": {},
   "source": [
    "Tengo que hacer dos cosas:\n",
    "\n",
    "- Primero, convertir los tweets a secuencias de texto\n",
    "- Luego, paddear las secuencias a cierta longitud (Keras necesita esto para poder paralelizar cálculo)"
   ]
  },
  {
   "cell_type": "code",
   "execution_count": 3,
   "metadata": {},
   "outputs": [
    {
     "name": "stderr",
     "output_type": "stream",
     "text": [
      "Using TensorFlow backend.\n"
     ]
    }
   ],
   "source": [
    "from keras.preprocessing.text import Tokenizer\n",
    "from keras.preprocessing.sequence import pad_sequences\n",
    "\n",
    "num_words = 200000\n",
    "\n",
    "tokenizer = Tokenizer(num_words=num_words)\n",
    "tokenizer.fit_on_texts(text_train)\n",
    "\n",
    "X_train = tokenizer.texts_to_sequences(text_train)\n",
    "X_dev = tokenizer.texts_to_sequences(text_dev)\n",
    "\n",
    "max_length = 30\n",
    "\n",
    "X_train = pad_sequences(X_train, max_length)\n",
    "X_dev = pad_sequences(X_dev, max_length)"
   ]
  },
  {
   "cell_type": "markdown",
   "metadata": {},
   "source": [
    "Carguemos embeddings"
   ]
  },
  {
   "cell_type": "code",
   "execution_count": 4,
   "metadata": {},
   "outputs": [
    {
     "name": "stdout",
     "output_type": "stream",
     "text": [
      "Available embeddings:  ['/home/jmperez/WordVectors/UBA_w5_200.vec', '/home/jmperez/WordVectors/wiki.es.vec', '/home/jmperez/WordVectors/UBA_w5_300.vec']\n"
     ]
    }
   ],
   "source": [
    "import os\n",
    "from glob import glob\n",
    "\n",
    "path_to_embeddings = os.path.expanduser(\"/home/jmperez/WordVectors/\")\n",
    "\n",
    "print(\"Available embeddings: \", glob(os.path.join(path_to_embeddings, \"*.vec\")))"
   ]
  },
  {
   "cell_type": "markdown",
   "metadata": {},
   "source": [
    "# Twitter Embeddings"
   ]
  },
  {
   "cell_type": "code",
   "execution_count": 5,
   "metadata": {},
   "outputs": [
    {
     "name": "stdout",
     "output_type": "stream",
     "text": [
      "********************************************************************************\n",
      "********************************************************************************\n",
      "********************************************************************************\n",
      "\n",
      "Problema con la sig línea:\n",
      "['.', '.', '-0.22232', '0.0052569', '0.47066', '0.13836', '0.15991', '0.19504', '0.00067885', '0.020299']\n",
      "********************************************************************************\n",
      "********************************************************************************\n",
      "********************************************************************************\n",
      "\n",
      "Problema con la sig línea:\n",
      "['.', '...', '-0.11666', '-0.083768', '0.028919', '0.29973', '0.21017', '0.27808', '0.063251', '0.090223']\n",
      "********************************************************************************\n",
      "********************************************************************************\n",
      "********************************************************************************\n",
      "\n",
      "Problema con la sig línea:\n",
      "['.', '..', '-0.43752', '-0.0016885', '0.1533', '0.28071', '0.18051', '0.28698', '0.11806', '0.044891']\n"
     ]
    }
   ],
   "source": [
    "import numpy as np\n",
    "\n",
    "word_to_vec = {}\n",
    "\n",
    "with open(os.path.join(path_to_embeddings, \"UBA_w5_300.vec\")) as f:\n",
    "    for line in f:\n",
    "        values = line.split()\n",
    "        word = values[0]\n",
    "        try:\n",
    "            vec = np.asarray(values[1:], dtype=\"float32\")\n",
    "        except:\n",
    "            print((\"*\" * 80  + \"\\n\")*3)\n",
    "            print(\"Problema con la sig línea:\")\n",
    "            print(values[:10])\n",
    "            word = values[1]\n",
    "            vec = np.asarray(values[2:], dtype=\"float32\")\n",
    "        word_to_vec[word] = vec\n",
    "        \n",
    "embedding_size = len(word_to_vec[\"hola\"])"
   ]
  },
  {
   "cell_type": "code",
   "execution_count": 6,
   "metadata": {},
   "outputs": [],
   "source": [
    "# create a weight matrix for words in training docs\n",
    "embedding_matrix = np.zeros((num_words, embedding_size))\n",
    "for word, i in tokenizer.word_index.items():\n",
    "    embedding_vector = word_to_vec.get(word)\n",
    "    if embedding_vector is not None:\n",
    "        embedding_matrix[i] = embedding_vector"
   ]
  },
  {
   "cell_type": "code",
   "execution_count": 7,
   "metadata": {},
   "outputs": [
    {
     "data": {
      "text/plain": [
       "(200000, 300)"
      ]
     },
     "execution_count": 7,
     "metadata": {},
     "output_type": "execute_result"
    }
   ],
   "source": [
    "embedding_matrix.shape"
   ]
  },
  {
   "cell_type": "code",
   "execution_count": 8,
   "metadata": {},
   "outputs": [
    {
     "name": "stdout",
     "output_type": "stream",
     "text": [
      "_________________________________________________________________\n",
      "Layer (type)                 Output Shape              Param #   \n",
      "=================================================================\n",
      "embedding_1 (Embedding)      (None, 30, 300)           60000000  \n",
      "_________________________________________________________________\n",
      "gru_1 (GRU)                  (None, 100)               120300    \n",
      "_________________________________________________________________\n",
      "dropout_1 (Dropout)          (None, 100)               0         \n",
      "_________________________________________________________________\n",
      "dense_1 (Dense)              (None, 128)               12928     \n",
      "_________________________________________________________________\n",
      "dense_2 (Dense)              (None, 1)                 129       \n",
      "=================================================================\n",
      "Total params: 60,133,357\n",
      "Trainable params: 133,357\n",
      "Non-trainable params: 60,000,000\n",
      "_________________________________________________________________\n",
      "None\n",
      "Train on 4469 samples, validate on 500 samples\n",
      "Epoch 1/10\n",
      "4469/4469 [==============================] - 6s 1ms/step - loss: 0.6251 - acc: 0.6610 - val_loss: 0.5877 - val_acc: 0.6880\n",
      "Epoch 2/10\n",
      "4469/4469 [==============================] - 6s 1ms/step - loss: 0.5220 - acc: 0.7465 - val_loss: 0.5589 - val_acc: 0.7180\n",
      "Epoch 3/10\n",
      "4469/4469 [==============================] - 6s 1ms/step - loss: 0.4505 - acc: 0.7939 - val_loss: 0.5745 - val_acc: 0.7120\n",
      "Epoch 4/10\n",
      "4469/4469 [==============================] - 6s 1ms/step - loss: 0.3926 - acc: 0.8226 - val_loss: 0.5667 - val_acc: 0.7120\n",
      "Epoch 5/10\n",
      "4469/4469 [==============================] - 6s 1ms/step - loss: 0.3514 - acc: 0.8458 - val_loss: 0.4817 - val_acc: 0.7680\n",
      "Epoch 6/10\n",
      "4469/4469 [==============================] - 6s 1ms/step - loss: 0.3044 - acc: 0.8666 - val_loss: 0.5318 - val_acc: 0.7520\n",
      "Epoch 7/10\n",
      "4469/4469 [==============================] - 6s 1ms/step - loss: 0.2654 - acc: 0.8935 - val_loss: 0.5106 - val_acc: 0.7800\n",
      "Epoch 8/10\n",
      "4469/4469 [==============================] - 6s 1ms/step - loss: 0.2293 - acc: 0.9069 - val_loss: 0.5986 - val_acc: 0.7820\n",
      "Epoch 9/10\n",
      "4469/4469 [==============================] - 6s 1ms/step - loss: 0.1864 - acc: 0.9324 - val_loss: 0.8975 - val_acc: 0.6680\n",
      "Epoch 10/10\n",
      "4469/4469 [==============================] - 6s 1ms/step - loss: 0.1570 - acc: 0.9394 - val_loss: 0.6844 - val_acc: 0.7840\n"
     ]
    },
    {
     "data": {
      "text/plain": [
       "<keras.callbacks.History at 0x7f47a6ff8198>"
      ]
     },
     "execution_count": 8,
     "metadata": {},
     "output_type": "execute_result"
    }
   ],
   "source": [
    "from keras.models import Sequential\n",
    "from keras.layers import Dense\n",
    "from keras.layers import GRU, Dropout\n",
    "from keras.layers.embeddings import Embedding\n",
    "from keras.preprocessing import sequence\n",
    "\n",
    "\n",
    "model = Sequential()\n",
    "model.add(Embedding(num_words, embedding_size, input_length=max_length, \n",
    "                    weights=[embedding_matrix], trainable=False))\n",
    "model.add(GRU(100))\n",
    "model.add(Dropout(0.5))\n",
    "model.add(Dense(128, activation='relu'))\n",
    "model.add(Dense(1, activation='sigmoid'))\n",
    "model.compile(loss='binary_crossentropy', optimizer='adam', metrics=['accuracy'])\n",
    "print(model.summary())\n",
    "\n",
    "model.fit(X_train, y_train, validation_data=(X_dev, y_dev), epochs=10, batch_size=32)\n"
   ]
  },
  {
   "cell_type": "code",
   "execution_count": 9,
   "metadata": {},
   "outputs": [
    {
     "name": "stdout",
     "output_type": "stream",
     "text": [
      "500/500 [==============================] - 0s 483us/step\n",
      "Loss function: 0.684\n",
      "Accuracy: 78.40%\n"
     ]
    }
   ],
   "source": [
    "loss, accuracy = model.evaluate(X_dev, y_dev)\n",
    "\n",
    "print(\"Loss function: {:.3f}\".format(loss))\n",
    "print(\"Accuracy: {:.2f}%\".format(accuracy*100))"
   ]
  },
  {
   "cell_type": "markdown",
   "metadata": {},
   "source": [
    "## Bidirectional GRU"
   ]
  },
  {
   "cell_type": "code",
   "execution_count": 10,
   "metadata": {},
   "outputs": [
    {
     "name": "stdout",
     "output_type": "stream",
     "text": [
      "_________________________________________________________________\n",
      "Layer (type)                 Output Shape              Param #   \n",
      "=================================================================\n",
      "embedding_2 (Embedding)      (None, 30, 300)           60000000  \n",
      "_________________________________________________________________\n",
      "bidirectional_1 (Bidirection (None, 200)               240600    \n",
      "_________________________________________________________________\n",
      "dropout_2 (Dropout)          (None, 200)               0         \n",
      "_________________________________________________________________\n",
      "dense_3 (Dense)              (None, 128)               25728     \n",
      "_________________________________________________________________\n",
      "dropout_3 (Dropout)          (None, 128)               0         \n",
      "_________________________________________________________________\n",
      "dense_4 (Dense)              (None, 1)                 129       \n",
      "=================================================================\n",
      "Total params: 60,266,457\n",
      "Trainable params: 266,457\n",
      "Non-trainable params: 60,000,000\n",
      "_________________________________________________________________\n",
      "None\n",
      "Train on 4469 samples, validate on 500 samples\n",
      "Epoch 1/10\n",
      "4469/4469 [==============================] - 10s 2ms/step - loss: 0.6394 - acc: 0.6496 - val_loss: 0.6182 - val_acc: 0.6740\n",
      "Epoch 2/10\n",
      "4469/4469 [==============================] - 9s 2ms/step - loss: 0.5566 - acc: 0.7259 - val_loss: 0.5482 - val_acc: 0.7280\n",
      "Epoch 3/10\n",
      "4469/4469 [==============================] - 9s 2ms/step - loss: 0.4788 - acc: 0.7783 - val_loss: 0.5121 - val_acc: 0.7400\n",
      "Epoch 4/10\n",
      "4469/4469 [==============================] - 9s 2ms/step - loss: 0.4185 - acc: 0.8098 - val_loss: 0.5234 - val_acc: 0.7500\n",
      "Epoch 5/10\n",
      "4469/4469 [==============================] - 9s 2ms/step - loss: 0.3718 - acc: 0.8351 - val_loss: 0.5198 - val_acc: 0.7620\n",
      "Epoch 6/10\n",
      "4469/4469 [==============================] - 9s 2ms/step - loss: 0.3178 - acc: 0.8599 - val_loss: 0.5065 - val_acc: 0.7820\n",
      "Epoch 7/10\n",
      "4469/4469 [==============================] - 9s 2ms/step - loss: 0.2662 - acc: 0.8928 - val_loss: 0.5786 - val_acc: 0.7800\n",
      "Epoch 8/10\n",
      "4469/4469 [==============================] - 9s 2ms/step - loss: 0.2269 - acc: 0.9078 - val_loss: 0.5978 - val_acc: 0.7520\n",
      "Epoch 9/10\n",
      "4469/4469 [==============================] - 9s 2ms/step - loss: 0.1726 - acc: 0.9349 - val_loss: 0.7163 - val_acc: 0.7640\n",
      "Epoch 10/10\n",
      "4469/4469 [==============================] - 9s 2ms/step - loss: 0.1237 - acc: 0.9514 - val_loss: 0.9051 - val_acc: 0.7160\n"
     ]
    },
    {
     "data": {
      "text/plain": [
       "<keras.callbacks.History at 0x7f4770284b00>"
      ]
     },
     "execution_count": 10,
     "metadata": {},
     "output_type": "execute_result"
    }
   ],
   "source": [
    "from keras.layers import Bidirectional\n",
    "from keras.layers.embeddings import Embedding\n",
    "from keras.preprocessing import sequence\n",
    "\n",
    "embedding_vector_length = 32\n",
    "\n",
    "model = Sequential()\n",
    "model.add(Embedding(num_words, embedding_size, input_length=max_length, \n",
    "                    weights=[embedding_matrix], trainable=False))\n",
    "model.add(Bidirectional(GRU(100)))\n",
    "model.add(Dropout(0.5))\n",
    "model.add(Dense(128, activation='relu'))\n",
    "model.add(Dropout(0.5))\n",
    "model.add(Dense(1, activation='sigmoid'))\n",
    "model.compile(loss='binary_crossentropy', optimizer='adam', metrics=['accuracy'])\n",
    "print(model.summary())\n",
    "\n",
    "model.fit(X_train, y_train, validation_data=(X_dev, y_dev), epochs=10, batch_size=32)\n"
   ]
  },
  {
   "cell_type": "code",
   "execution_count": 11,
   "metadata": {},
   "outputs": [
    {
     "name": "stdout",
     "output_type": "stream",
     "text": [
      "500/500 [==============================] - 0s 908us/step\n",
      "Loss function: 0.905\n",
      "Accuracy: 71.60%\n"
     ]
    }
   ],
   "source": [
    "loss, accuracy = model.evaluate(X_dev, y_dev)\n",
    "\n",
    "print(\"Loss function: {:.3f}\".format(loss))\n",
    "print(\"Accuracy: {:.2f}%\".format(accuracy*100))"
   ]
  },
  {
   "cell_type": "code",
   "execution_count": null,
   "metadata": {},
   "outputs": [],
   "source": []
  }
 ],
 "metadata": {
  "kernelspec": {
   "display_name": "Python 3",
   "language": "python",
   "name": "python3"
  },
  "language_info": {
   "codemirror_mode": {
    "name": "ipython",
    "version": 3
   },
   "file_extension": ".py",
   "mimetype": "text/x-python",
   "name": "python",
   "nbconvert_exporter": "python",
   "pygments_lexer": "ipython3",
   "version": "3.6.5"
  }
 },
 "nbformat": 4,
 "nbformat_minor": 2
}
