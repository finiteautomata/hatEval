{
 "cells": [
  {
   "cell_type": "markdown",
   "metadata": {},
   "source": [
    "# Convex Combination Layer"
   ]
  },
  {
   "cell_type": "code",
   "execution_count": null,
   "metadata": {},
   "outputs": [],
   "source": [
    "from keras.engine.topology import Layer\n",
    "from keras.models import Model\n",
    "from keras.layers import Input\n",
    "from keras import backend as K\n",
    "import numpy as np\n",
    "\n",
    "H = 40\n",
    "T = 1024\n",
    "\n",
    "\n",
    "class ConvexCombination(Layer):\n",
    "    def __init__(self, **kwargs):\n",
    "        super(ConvexCombination, self).__init__(**kwargs)\n",
    "\n",
    "    def build(self, input_shape):\n",
    "        batch_size, H, T = input_shape[0]\n",
    "        self.l = self.add_weight(name='l0',\n",
    "                                     shape=(3, 1),  # Adding one dimension for broadcasting\n",
    "                                     initializer='uniform',  # Try also 'ones' and 'uniform'\n",
    "                                     trainable=True)\n",
    "        self.gamma =  self.add_weight(name='elmo_gamma',\n",
    "                                     shape=(1, 1),  # Adding one dimension for broadcasting\n",
    "                                     initializer='uniform',  # Try also 'ones' and 'uniform'\n",
    "                                     trainable=True)\n",
    "        super(ConvexCombination, self).build(input_shape)\n",
    "\n",
    "    def call(self, x):\n",
    "        # x is a list of two tensors with shape=(batch_size, H, T)\n",
    "        h0, h1, h2 = x\n",
    "        weights = K.softmax(self.l)\n",
    "        return self.gamma * (weights[0] * h0 + weights[1] * h1 + weights[2] * h2)\n",
    "\n",
    "    def compute_output_shape(self, input_shape):\n",
    "        return input_shape[0]\n",
    "\n",
    "\n",
    "h1 = Input(shape=(H, T))\n",
    "h2 = Input(shape=(H, T))\n",
    "h3 = Input(shape=(H, T))\n",
    "\n",
    "cc = ConvexCombination()([h1, h2, h3])\n",
    "model = Model(inputs=[h1, h2, h3],\n",
    "              outputs=cc)"
   ]
  },
  {
   "cell_type": "code",
   "execution_count": null,
   "metadata": {},
   "outputs": [],
   "source": []
  }
 ],
 "metadata": {
  "kernelspec": {
   "display_name": "Python 3",
   "language": "python",
   "name": "python3"
  },
  "language_info": {
   "codemirror_mode": {
    "name": "ipython",
    "version": 3
   },
   "file_extension": ".py",
   "mimetype": "text/x-python",
   "name": "python",
   "nbconvert_exporter": "python",
   "pygments_lexer": "ipython3",
   "version": "3.6.5"
  }
 },
 "nbformat": 4,
 "nbformat_minor": 4
}
