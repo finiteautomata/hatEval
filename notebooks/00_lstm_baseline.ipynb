{
 "cells": [
  {
   "cell_type": "markdown",
   "metadata": {},
   "source": [
    "# LSTM sin embeddings\n",
    "\n",
    "Modelo básico con embeddings entrenados acá. Un baseline :-)"
   ]
  },
  {
   "cell_type": "code",
   "execution_count": 1,
   "metadata": {},
   "outputs": [
    {
     "name": "stderr",
     "output_type": "stream",
     "text": [
      "Using TensorFlow backend.\n"
     ]
    }
   ],
   "source": [
    "import keras"
   ]
  },
  {
   "cell_type": "code",
   "execution_count": 2,
   "metadata": {},
   "outputs": [
    {
     "name": "stdout",
     "output_type": "stream",
     "text": [
      "dev_es.tsv  train_es.tsv\n"
     ]
    }
   ],
   "source": [
    "%ls ../data/dev_es/"
   ]
  },
  {
   "cell_type": "code",
   "execution_count": 13,
   "metadata": {},
   "outputs": [],
   "source": [
    "import pandas as pd\n",
    "df_train = pd.read_table(\"../data/dev_es/train_es.tsv\", index_col=\"id\")\n",
    "df_dev = pd.read_table(\"../data/dev_es/dev_es.tsv\", index_col=\"id\")\n",
    "\n",
    "text_train, y_train = df_train[\"text\"], df_train[\"HS\"]\n",
    "text_dev, y_dev = df_dev[\"text\"], df_dev[\"HS\"]"
   ]
  },
  {
   "cell_type": "code",
   "execution_count": 17,
   "metadata": {},
   "outputs": [],
   "source": [
    "from keras.preprocessing.text import Tokenizer\n",
    "from keras.preprocessing.sequence import pad_sequences\n",
    "\n",
    "num_words = 100000\n",
    "\n",
    "tokenizer = Tokenizer(num_words=num_words)\n",
    "tokenizer.fit_on_texts(text_train)\n",
    "\n",
    "X_train = tokenizer.texts_to_sequences(text_train)\n",
    "X_dev = tokenizer.texts_to_sequences(text_dev)\n",
    "\n",
    "max_length = 30\n",
    "\n",
    "X_train = pad_sequences(X_train, max_length)\n",
    "X_dev = pad_sequences(X_dev, max_length)"
   ]
  },
  {
   "cell_type": "code",
   "execution_count": 20,
   "metadata": {},
   "outputs": [
    {
     "name": "stdout",
     "output_type": "stream",
     "text": [
      "_________________________________________________________________\n",
      "Layer (type)                 Output Shape              Param #   \n",
      "=================================================================\n",
      "embedding_3 (Embedding)      (None, 30, 32)            3200000   \n",
      "_________________________________________________________________\n",
      "lstm_3 (LSTM)                (None, 100)               53200     \n",
      "_________________________________________________________________\n",
      "dense_5 (Dense)              (None, 128)               12928     \n",
      "_________________________________________________________________\n",
      "dense_6 (Dense)              (None, 1)                 129       \n",
      "=================================================================\n",
      "Total params: 3,266,257\n",
      "Trainable params: 3,266,257\n",
      "Non-trainable params: 0\n",
      "_________________________________________________________________\n",
      "None\n",
      "Train on 4469 samples, validate on 500 samples\n",
      "Epoch 1/10\n",
      "4469/4469 [==============================] - 19s 4ms/step - loss: 0.6144 - acc: 0.6583 - val_loss: 0.5623 - val_acc: 0.7180\n",
      "Epoch 2/10\n",
      "4469/4469 [==============================] - 16s 4ms/step - loss: 0.2859 - acc: 0.8888 - val_loss: 0.5627 - val_acc: 0.7200\n",
      "Epoch 3/10\n",
      "4469/4469 [==============================] - 16s 4ms/step - loss: 0.0752 - acc: 0.9734 - val_loss: 1.0439 - val_acc: 0.7320\n",
      "Epoch 4/10\n",
      "4469/4469 [==============================] - 16s 4ms/step - loss: 0.0176 - acc: 0.9942 - val_loss: 1.3051 - val_acc: 0.7120\n",
      "Epoch 5/10\n",
      "4469/4469 [==============================] - 17s 4ms/step - loss: 0.0060 - acc: 0.9984 - val_loss: 1.6986 - val_acc: 0.7060\n",
      "Epoch 6/10\n",
      "4469/4469 [==============================] - 17s 4ms/step - loss: 0.0052 - acc: 0.9980 - val_loss: 1.6049 - val_acc: 0.7080\n",
      "Epoch 7/10\n",
      "4469/4469 [==============================] - 17s 4ms/step - loss: 0.0111 - acc: 0.9962 - val_loss: 1.6780 - val_acc: 0.7160\n",
      "Epoch 8/10\n",
      "4469/4469 [==============================] - 16s 4ms/step - loss: 8.9667e-04 - acc: 1.0000 - val_loss: 1.7025 - val_acc: 0.7220\n",
      "Epoch 9/10\n",
      "4469/4469 [==============================] - 16s 4ms/step - loss: 1.8761e-04 - acc: 1.0000 - val_loss: 1.8296 - val_acc: 0.7280\n",
      "Epoch 10/10\n",
      "4469/4469 [==============================] - 16s 4ms/step - loss: 1.0882e-04 - acc: 1.0000 - val_loss: 1.9181 - val_acc: 0.7260\n"
     ]
    },
    {
     "data": {
      "text/plain": [
       "<keras.callbacks.History at 0x7ffa88760f28>"
      ]
     },
     "execution_count": 20,
     "metadata": {},
     "output_type": "execute_result"
    }
   ],
   "source": [
    "from keras.models import Sequential\n",
    "from keras.layers import Dense\n",
    "from keras.layers import LSTM, BI\n",
    "from keras.layers.embeddings import Embedding\n",
    "from keras.preprocessing import sequence\n",
    "\n",
    "embedding_vector_length = 32\n",
    "\n",
    "model = Sequential()\n",
    "model.add(Embedding(num_words, embedding_vector_length, input_length=max_length))\n",
    "model.add(LSTM(100))\n",
    "model.add(Dense(128, activation='relu'))\n",
    "model.add(Dense(1, activation='sigmoid'))\n",
    "model.compile(loss='binary_crossentropy', optimizer='adam', metrics=['accuracy'])\n",
    "print(model.summary())\n",
    "\n",
    "model.fit(X_train, y_train, validation_data=(X_dev, y_dev), epochs=10, batch_size=32)\n"
   ]
  },
  {
   "cell_type": "code",
   "execution_count": 25,
   "metadata": {},
   "outputs": [
    {
     "name": "stdout",
     "output_type": "stream",
     "text": [
      "500/500 [==============================] - 0s 624us/step\n",
      "Loss function: 1.9181310005187988\n",
      "Accuracy: 72.6%\n"
     ]
    }
   ],
   "source": [
    "loss, accuracy = model.evaluate(X_dev, y_dev)\n",
    "\n",
    "print(\"Loss function: {}\".format(loss))\n",
    "print(\"Accuracy: {}%\".format(accuracy*100))"
   ]
  },
  {
   "cell_type": "markdown",
   "metadata": {},
   "source": [
    "## Bidirectional LSTM"
   ]
  },
  {
   "cell_type": "code",
   "execution_count": 27,
   "metadata": {},
   "outputs": [
    {
     "name": "stdout",
     "output_type": "stream",
     "text": [
      "_________________________________________________________________\n",
      "Layer (type)                 Output Shape              Param #   \n",
      "=================================================================\n",
      "embedding_4 (Embedding)      (None, 30, 32)            3200000   \n",
      "_________________________________________________________________\n",
      "bidirectional_1 (Bidirection (None, 200)               106400    \n",
      "_________________________________________________________________\n",
      "dense_7 (Dense)              (None, 128)               25728     \n",
      "_________________________________________________________________\n",
      "dense_8 (Dense)              (None, 1)                 129       \n",
      "=================================================================\n",
      "Total params: 3,332,257\n",
      "Trainable params: 3,332,257\n",
      "Non-trainable params: 0\n",
      "_________________________________________________________________\n",
      "None\n",
      "Train on 4469 samples, validate on 500 samples\n",
      "Epoch 1/10\n",
      "4469/4469 [==============================] - 25s 6ms/step - loss: 0.6109 - acc: 0.6594 - val_loss: 0.5417 - val_acc: 0.7080\n",
      "Epoch 2/10\n",
      "4469/4469 [==============================] - 20s 5ms/step - loss: 0.2858 - acc: 0.8915 - val_loss: 0.5866 - val_acc: 0.7340\n",
      "Epoch 3/10\n",
      "4469/4469 [==============================] - 21s 5ms/step - loss: 0.0696 - acc: 0.9772 - val_loss: 0.8392 - val_acc: 0.7440\n",
      "Epoch 4/10\n",
      "4469/4469 [==============================] - 21s 5ms/step - loss: 0.0137 - acc: 0.9960 - val_loss: 1.1559 - val_acc: 0.7200\n",
      "Epoch 5/10\n",
      "4469/4469 [==============================] - 21s 5ms/step - loss: 0.0055 - acc: 0.9984 - val_loss: 1.3633 - val_acc: 0.7140\n",
      "Epoch 6/10\n",
      "4469/4469 [==============================] - 22s 5ms/step - loss: 0.0027 - acc: 0.9996 - val_loss: 1.4021 - val_acc: 0.7100\n",
      "Epoch 7/10\n",
      "4469/4469 [==============================] - 21s 5ms/step - loss: 2.5637e-04 - acc: 1.0000 - val_loss: 1.6266 - val_acc: 0.7220\n",
      "Epoch 8/10\n",
      "4469/4469 [==============================] - 21s 5ms/step - loss: 9.1017e-05 - acc: 1.0000 - val_loss: 1.7104 - val_acc: 0.7260\n",
      "Epoch 9/10\n",
      "4469/4469 [==============================] - 22s 5ms/step - loss: 5.9189e-05 - acc: 1.0000 - val_loss: 1.7802 - val_acc: 0.7360\n",
      "Epoch 10/10\n",
      "4469/4469 [==============================] - 21s 5ms/step - loss: 4.4280e-05 - acc: 1.0000 - val_loss: 1.8361 - val_acc: 0.7320\n"
     ]
    },
    {
     "data": {
      "text/plain": [
       "<keras.callbacks.History at 0x7ffa60104dd8>"
      ]
     },
     "execution_count": 27,
     "metadata": {},
     "output_type": "execute_result"
    }
   ],
   "source": [
    "from keras.layers import Bidirectional\n",
    "from keras.layers.embeddings import Embedding\n",
    "from keras.preprocessing import sequence\n",
    "\n",
    "embedding_vector_length = 32\n",
    "\n",
    "model = Sequential()\n",
    "model.add(Embedding(num_words, embedding_vector_length, input_length=max_length))\n",
    "model.add(Bidirectional(LSTM(100)))\n",
    "model.add(Dense(128, activation='relu'))\n",
    "model.add(Dense(1, activation='sigmoid'))\n",
    "model.compile(loss='binary_crossentropy', optimizer='adam', metrics=['accuracy'])\n",
    "print(model.summary())\n",
    "\n",
    "model.fit(X_train, y_train, validation_data=(X_dev, y_dev), epochs=10, batch_size=32)\n"
   ]
  },
  {
   "cell_type": "code",
   "execution_count": null,
   "metadata": {},
   "outputs": [],
   "source": []
  }
 ],
 "metadata": {
  "kernelspec": {
   "display_name": "Python 3",
   "language": "python",
   "name": "python3"
  },
  "language_info": {
   "codemirror_mode": {
    "name": "ipython",
    "version": 3
   },
   "file_extension": ".py",
   "mimetype": "text/x-python",
   "name": "python",
   "nbconvert_exporter": "python",
   "pygments_lexer": "ipython3",
   "version": "3.6.5"
  }
 },
 "nbformat": 4,
 "nbformat_minor": 2
}
